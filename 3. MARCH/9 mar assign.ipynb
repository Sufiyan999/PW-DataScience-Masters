{
 "cells": [
  {
   "cell_type": "markdown",
   "id": "ad9db498",
   "metadata": {},
   "source": [
    "## Ans 1"
   ]
  },
  {
   "cell_type": "code",
   "execution_count": null,
   "id": "3ccce8fa",
   "metadata": {},
   "outputs": [],
   "source": []
  },
  {
   "cell_type": "markdown",
   "id": "fb52395c",
   "metadata": {},
   "source": [
    "## Ans 2"
   ]
  },
  {
   "cell_type": "code",
   "execution_count": null,
   "id": "30c5e872",
   "metadata": {},
   "outputs": [],
   "source": []
  },
  {
   "cell_type": "markdown",
   "id": "cb9fc27a",
   "metadata": {},
   "source": [
    "## Ans 3"
   ]
  },
  {
   "cell_type": "code",
   "execution_count": null,
   "id": "21f860cd",
   "metadata": {},
   "outputs": [],
   "source": []
  },
  {
   "cell_type": "markdown",
   "id": "db0955a0",
   "metadata": {},
   "source": [
    "## Ans 4"
   ]
  },
  {
   "cell_type": "code",
   "execution_count": null,
   "id": "a04c1ccb",
   "metadata": {},
   "outputs": [],
   "source": []
  },
  {
   "cell_type": "markdown",
   "id": "b49b496a",
   "metadata": {},
   "source": [
    "## Ans 5"
   ]
  },
  {
   "cell_type": "code",
   "execution_count": null,
   "id": "acdb56cc",
   "metadata": {},
   "outputs": [],
   "source": []
  },
  {
   "cell_type": "markdown",
   "id": "2dbf1fc4",
   "metadata": {},
   "source": [
    "## Ans 6"
   ]
  },
  {
   "cell_type": "code",
   "execution_count": null,
   "id": "46e27c53",
   "metadata": {},
   "outputs": [],
   "source": []
  },
  {
   "cell_type": "markdown",
   "id": "11ecaeee",
   "metadata": {},
   "source": [
    "## Ans 7"
   ]
  },
  {
   "cell_type": "code",
   "execution_count": null,
   "id": "9ccf30c2",
   "metadata": {},
   "outputs": [],
   "source": []
  },
  {
   "cell_type": "markdown",
   "id": "cd34266f",
   "metadata": {},
   "source": [
    "## Ans 8"
   ]
  },
  {
   "cell_type": "code",
   "execution_count": null,
   "id": "7b85126e",
   "metadata": {},
   "outputs": [],
   "source": []
  },
  {
   "cell_type": "markdown",
   "id": "c4ad2748",
   "metadata": {},
   "source": [
    "## Ans 9"
   ]
  },
  {
   "cell_type": "code",
   "execution_count": null,
   "id": "419f07a1",
   "metadata": {},
   "outputs": [],
   "source": []
  },
  {
   "cell_type": "markdown",
   "id": "0430c10c",
   "metadata": {},
   "source": [
    "## Ans 10"
   ]
  },
  {
   "cell_type": "code",
   "execution_count": null,
   "id": "65e5c05b",
   "metadata": {},
   "outputs": [],
   "source": []
  }
 ],
 "metadata": {},
 "nbformat": 4,
 "nbformat_minor": 5
}
