{
 "cells": [
  {
   "cell_type": "markdown",
   "id": "fbda1476-af01-4fb6-961e-8e5c777c035d",
   "metadata": {},
   "source": [
    "## Ans 1"
   ]
  },
  {
   "cell_type": "markdown",
   "id": "90eeed09-c718-40e6-84ee-5932e68dbc1e",
   "metadata": {},
   "source": [
    "Statistics is a branch of mathematics and a scientific discipline that involves collecting, organizing, analyzing, interpreting, and presenting data. It provides methods and techniques for extracting meaningful insights, patterns, and information from data to make informed decisions, draw conclusions, and make predictions. Statistics plays a crucial role in various fields, including science, economics, social sciences, business, healthcare, and more.\n",
    "\n",
    "Key concepts in statistics include:\n",
    "\n",
    "1. **Descriptive Statistics**: These involve summarizing and describing the main features of a dataset using measures like mean, median, mode, variance, and standard deviation.\n",
    "\n",
    "2. **Inferential Statistics**: These techniques are used to make inferences or predictions about a population based on a sample of data. It involves hypothesis testing, confidence intervals, and regression analysis.\n",
    "\n",
    "3. **Probability**: Probability theory is the foundation of statistics, dealing with the likelihood of events occurring. It helps quantify uncertainty and randomness in data.\n",
    "\n",
    "4. **Sampling**: Selecting a subset (sample) from a larger population for analysis. Proper sampling methods ensure that the sample accurately represents the population.\n",
    "\n",
    "5. **Data Visualization**: Creating graphical representations of data to facilitate understanding and communication of patterns and relationships.\n",
    "\n",
    "6. **Statistical Software**: The use of software (such as R, Python, or specialized statistical packages) to perform complex statistical analyses and produce visualizations.\n",
    "\n",
    "Statistics is a powerful tool for making informed decisions, identifying trends, solving problems, and gaining insights from data-driven research. It plays a vital role in research, policy-making, business strategy, and scientific advancements."
   ]
  },
  {
   "cell_type": "markdown",
   "id": "9a73582d-4cf3-4225-912b-068d9d1179ed",
   "metadata": {},
   "source": [
    "## Ans 2"
   ]
  },
  {
   "cell_type": "markdown",
   "id": "8cd96673-ee90-409c-b4c3-8d353afd0163",
   "metadata": {},
   "source": [
    "Statistics can be broadly categorized into two main types: descriptive statistics and inferential statistics. Let's define each type and provide examples of when they might be used:\n",
    "\n",
    "1. **Descriptive Statistics**:\n",
    "Descriptive statistics involves summarizing and presenting data in a meaningful and concise manner. It helps to provide a clear understanding of the main features of a dataset.\n",
    "\n",
    "   Examples:\n",
    "   - **Measures of Central Tendency**: Mean, median, and mode. For example, calculating the average score of students in a class.\n",
    "   - **Measures of Dispersion**: Range, variance, and standard deviation. For instance, examining the spread of salaries in a company to understand income distribution.\n",
    "   - **Frequency Distributions**: Creating histograms or bar charts to show how frequently different values occur. This can be used to visualize the distribution of ages in a population.\n",
    "\n",
    "2. **Inferential Statistics**:\n",
    "Inferential statistics involves drawing conclusions and making predictions about a population based on a sample of data. It helps to make informed decisions and generalizations.\n",
    "\n",
    "   Examples:\n",
    "   - **Hypothesis Testing**: Testing a hypothesis or claim about a population parameter using sample data. For instance, determining if a new drug is effective by comparing its effects with a control group.\n",
    "   - **Confidence Intervals**: Estimating a range of values within which a population parameter is likely to fall. This is often used in political polls to estimate the percentage of voters who support a candidate.\n",
    "   - **Regression Analysis**: Establishing relationships between variables and making predictions based on those relationships. For example, predicting a person's salary based on their years of experience and education level.\n",
    "   - **ANOVA (Analysis of Variance)**: Comparing means of multiple groups to determine if there are statistically significant differences. For instance, analyzing the performance of students from different schools in a standardized test.\n",
    "\n",
    "Each type of statistic serves a specific purpose in data analysis. Descriptive statistics help to summarize and understand the data, while inferential statistics allow us to make broader conclusions and predictions based on a sample. Both types are essential for making informed decisions and drawing meaningful insights from data."
   ]
  },
  {
   "cell_type": "markdown",
   "id": "45c6f7cc-4f3a-495c-9f0f-4d89d0c7736f",
   "metadata": {},
   "source": [
    "## ANS 3"
   ]
  },
  {
   "cell_type": "markdown",
   "id": "5a690071-4811-4a01-a75a-0fae693b6f45",
   "metadata": {},
   "source": [
    "\n",
    "Data can be categorized into different types based on their characteristics and the level of measurement. The main types of data are nominal, ordinal, interval, and ratio. Let's define each type and provide an example for better understanding:\n",
    "\n",
    "**Nominal Data:**\n",
    "Nominal data represent categories or labels with no inherent order or ranking. Each category is distinct, and there is no mathematical relationship between them.\n",
    "\n",
    "Example: Colors of cars in a parking lot (e.g., red, blue, green). These categories have no natural order, and one color is not \"greater\" or \"less\" than another.\n",
    "\n",
    "**Ordinal Data:**\n",
    "Ordinal data represent categories with a meaningful order or ranking, but the differences between the categories are not uniform or quantifiable.\n",
    "\n",
    "Example: Educational levels (e.g., elementary, middle school, high school, college). While these levels have an order, the difference between elementary and middle school may not be the same as between middle school and high school.\n",
    "\n",
    "**Interval Data:**\n",
    "Interval data have a meaningful order, and the differences between values are consistent and measurable. However, there is no true zero point, and ratios between values are not meaningful.\n",
    "\n",
    "Example: Temperatures in Celsius or Fahrenheit. The difference between 20°C and 30°C is the same as between 30°C and 40°C, but a temperature of 0°C doesn't mean absence of temperature.\n",
    "\n",
    "**Ratio Data:**\n",
    "Ratio data have a meaningful order, consistent differences between values, and a true zero point. Ratios between values are meaningful and allow for meaningful comparisons.\n",
    "\n",
    "Example: Height, weight, income, age in years. These values have a true zero point (e.g., 0 kg weight, 0 years old), and ratios between values have clear meaning (e.g., one person's weight is twice another's).\n",
    "\n",
    "It's important to choose the appropriate type of data based on the research question and the level of analysis required. Different types of data have implications for the types of statistical analyses that can be performed and the conclusions that can be drawn from the data"
   ]
  },
  {
   "cell_type": "markdown",
   "id": "b3422e1f-9650-47f1-aed7-af976d9ecb82",
   "metadata": {},
   "source": [
    "## Ans 4"
   ]
  },
  {
   "cell_type": "markdown",
   "id": "8e372da9-2310-427b-a8f8-2e834034b923",
   "metadata": {},
   "source": [
    "Let's categorize the given datasets into quantitative and qualitative data types:\n",
    "\n",
    "**Quantitative Data**:\n",
    "Quantitative data represents numerical values that can be measured and expressed using mathematical operations. It includes both interval and ratio data.\n",
    "\n",
    "(iii) Height data of a class: [178.9, 179, 179.5, 176, 177.2, 178.3, 175.8, ...]\n",
    "(iv) Number of mangoes exported by a farm: [500, 600, 478, 672, ...]\n",
    "\n",
    "**Qualitative Data**:\n",
    "Qualitative data represents categories or labels that do not have a numerical value. It includes both nominal and ordinal data.\n",
    "\n",
    "(i) Grading in exam: A+, A, B+, B, C+, C, D, E\n",
    "(ii) Colour of mangoes: yellow, green, orange, red\n",
    "\n",
    "In summary:\n",
    "\n",
    "**Quantitative Data**:\n",
    "- Height data of a class\n",
    "- Number of mangoes exported by a farm\n",
    "\n",
    "**Qualitative Data**:\n",
    "- Grading in exam\n",
    "- Colour of mangoes"
   ]
  },
  {
   "cell_type": "markdown",
   "id": "c47bfb2a-3e46-434b-b15d-834c77d47c66",
   "metadata": {},
   "source": [
    "## ANS 5"
   ]
  },
  {
   "cell_type": "markdown",
   "id": "c60f09cb-b129-4a33-bff8-50269a2f76fa",
   "metadata": {},
   "source": [
    "Levels of measurement, also known as scales of measurement, refer to the different ways in which data can be categorized and measured. There are four main levels of measurement: nominal, ordinal, interval, and ratio. Each level has distinct properties and implications for how data can be analyzed and interpreted.\n",
    "\n",
    "1. **Nominal Level**:\n",
    "At the nominal level, data are categorized into distinct, non-overlapping categories or labels. There is no inherent order or ranking among the categories, and mathematical operations are not meaningful.\n",
    "\n",
    "Example: Gender (Male, Female, Non-binary)\n",
    "\n",
    "2. **Ordinal Level**:\n",
    "Ordinal data have a meaningful order or ranking, but the differences between categories are not uniform or quantifiable. While we can say one category is higher or lower than another, we cannot determine the exact amount of difference between them.\n",
    "\n",
    "Example: Educational attainment (High School Diploma, Associate's Degree, Bachelor's Degree, Master's Degree, Doctorate)\n",
    "\n",
    "3. **Interval Level**:\n",
    "Interval data have a meaningful order, and the differences between values are consistent and measurable. However, there is no true zero point, and ratios between values are not meaningful.\n",
    "\n",
    "Example: Temperature in Celsius or Fahrenheit (e.g., 20°C, 30°C). The difference between 20°C and 30°C is the same as between 30°C and 40°C, but a temperature of 0°C does not mean the absence of temperature.\n",
    "\n",
    "4. **Ratio Level**:\n",
    "Ratio data have a meaningful order, consistent differences between values, and a true zero point. Ratios between values are meaningful and allow for meaningful comparisons.\n",
    "\n",
    "Example: Height (in cm or inches) of individuals (e.g., 160 cm, 175 cm). The ratio of one person's height to another's is meaningful (e.g., one person is twice as tall as another).\n",
    "\n",
    "It's important to recognize the level of measurement of a variable, as it influences the types of statistical analyses that can be performed on the data. While nominal and ordinal data may be analyzed using non-parametric methods, interval and ratio data allow for more sophisticated statistical techniques."
   ]
  },
  {
   "cell_type": "markdown",
   "id": "d557a184-2e33-47c2-af92-37fd10569b3c",
   "metadata": {},
   "source": [
    "## ANS 6"
   ]
  },
  {
   "cell_type": "markdown",
   "id": "cc0f4df8-9a9c-4166-9f3f-229f071cce7a",
   "metadata": {},
   "source": [
    "Understanding the level of measurement of data is crucial when analyzing data because it determines the appropriate statistical methods that can be applied and the types of conclusions that can be drawn. Different levels of measurement have varying properties and restrictions, and using the wrong analysis technique can lead to incorrect or misleading results. Here's an example to illustrate the importance of understanding the level of measurement:\n",
    "\n",
    "**Let's take an Example:**\n",
    "\n",
    "Suppose we are analyzing data on customer satisfaction with a product using a Likert scale (Strongly Disagree, Disagree, Neutral, Agree, Strongly Agree). The goal is to determine whether there is a significant difference in satisfaction levels between two different product versions.\n",
    "\n",
    "Scenario 1: Using the Wrong Analysis for Nominal Data\n",
    "If we treat the Likert scale responses as numeric values (e.g., 1 for Strongly Disagree, 5 for Strongly Agree) and apply a mean comparison test like a t-test, we would be misinterpreting the data. Treating the data as interval or ratio when it is actually ordinal can lead to incorrect conclusions. The t-test assumes equal intervals between values, which is not the case for ordinal data.\n",
    "\n",
    "Scenario 2: Using the Appropriate Analysis for Ordinal Data\n",
    "Understanding that the Likert scale data is ordinal, we would choose a non-parametric test like the Mann-Whitney U test (Wilcoxon rank-sum test) for comparing the medians of two independent groups. This analysis takes into account the ranking and order of responses without assuming equal intervals between categories.\n",
    "\n",
    "By correctly identifying the level of measurement as ordinal and using an appropriate analysis, we ensure that the results are valid and meaningful. Failing to do so could lead to incorrect conclusions about the differences in customer satisfaction between the product versions.\n",
    "\n",
    "In summary, understanding the level of measurement is essential for selecting the right analysis techniques, interpreting results accurately, and making informed decisions based on the data. It helps prevent misinterpretation and ensures that statistical analyses align with the nature of the data being analyzed."
   ]
  },
  {
   "cell_type": "markdown",
   "id": "634181e7-b56f-43d1-a3b9-82e939c74a2c",
   "metadata": {
    "tags": []
   },
   "source": [
    "## Ans 7"
   ]
  },
  {
   "cell_type": "markdown",
   "id": "7659d387-eb3c-4060-9cfd-b135653fe8a3",
   "metadata": {},
   "source": [
    "Nominal and ordinal data types are two distinct levels of measurement used to categorize and classify data. While both involve categorical information, they have different characteristics and implications for analysis. Here's how nominal and ordinal data types differ:\n",
    "\n",
    "**Nominal Data**:\n",
    "\n",
    "1. **Definition**: Nominal data represent categories or labels with no inherent order or ranking. Each category is distinct, and there is no meaningful numerical relationship between categories.\n",
    "\n",
    "2. **Examples**: Gender (Male, Female, Non-binary), Eye Color (Blue, Green, Brown), Types of Fruits (Apple, Banana, Orange)\n",
    "\n",
    "3. **Properties**:\n",
    "   - Categories have equal status, and there is no logical order among them.\n",
    "   - Operations like addition, subtraction, and multiplication are not meaningful for nominal data.\n",
    "   - Mode is the only measure of central tendency applicable to nominal data.\n",
    "\n",
    "4. **Analysis**:\n",
    "   - Descriptive statistics include frequency distribution and mode.\n",
    "   - Inferential statistics focus on proportions, chi-square tests, and measures of association for categorical data.\n",
    "\n",
    "**Ordinal Data**:\n",
    "\n",
    "1. **Definition**: Ordinal data represent categories with a meaningful order or ranking. While the order matters, the exact differences between categories may not be uniform or quantifiable.\n",
    "\n",
    "2. **Examples**: Educational Level (High School Diploma, Associate's Degree, Bachelor's Degree), Socioeconomic Status (Low, Middle, High), Satisfaction Rating (Poor, Fair, Good, Excellent)\n",
    "\n",
    "3. **Properties**:\n",
    "   - Categories have an ordered relationship, indicating relative positioning.\n",
    "   - Differences between categories may not have a consistent numerical interpretation.\n",
    "   - Median and percentiles are appropriate measures of central tendency for ordinal data.\n",
    "\n",
    "4. **Analysis**:\n",
    "   - Descriptive statistics include median, percentiles, and range.\n",
    "   - Inferential statistics involve non-parametric tests like the Wilcoxon rank-sum test or Spearman's rank correlation.\n",
    "\n",
    "In summary, the key distinction between nominal and ordinal data lies in the nature of their categories and the presence or absence of meaningful order. Nominal data have no inherent order, while ordinal data possess a meaningful rank. This distinction has implications for the types of statistics that can be used to analyze the data and the interpretations that can be drawn from the results."
   ]
  },
  {
   "cell_type": "markdown",
   "id": "8e495eaa-c28e-49d4-ba82-c3d9f46ab8eb",
   "metadata": {},
   "source": [
    "## Ans 8"
   ]
  },
  {
   "cell_type": "markdown",
   "id": "5ca7ece2-f7a0-450a-8ec8-fee965b39546",
   "metadata": {},
   "source": [
    "A **box plot** (also known as a box-and-whisker plot) is commonly used to display data in terms of its range. A box plot provides a visual summary of the distribution of a dataset by showing the median, quartiles, and potential outliers.\n",
    "\n",
    "In a box plot:\n",
    "\n",
    "- The box represents the interquartile range (IQR), which spans from the first quartile (Q1) to the third quartile (Q3). The length of the box indicates the spread of the middle 50% of the data.\n",
    "- The line inside the box represents the median, which is the middle value of the dataset when it is sorted.\n",
    "- \"Whiskers\" extend from the box to the minimum and maximum values within a certain range (typically 1.5 times the IQR). Data points outside this range are considered potential outliers and are plotted individually.\n",
    "- Outliers beyond the whiskers are often plotted as individual points.\n",
    "\n",
    "Box plots are particularly useful for comparing distributions between different categories or groups, as they provide a clear visual representation of the data's central tendency, spread, and potential outliers.\n",
    "\n",
    "Box plots are especially effective when you want to display data in terms of its range, showing how data points are distributed from the minimum to the maximum values. They are commonly used in statistics, data analysis, and exploratory data visualization."
   ]
  },
  {
   "cell_type": "code",
   "execution_count": 24,
   "id": "1aea61de-3eb8-42bf-8612-12d155a5365a",
   "metadata": {},
   "outputs": [
    {
     "data": {
      "image/png": "[encoded data removed]",
      "text/plain": [
       "<Figure size 600x800 with 1 Axes>"
      ]
     },
     "metadata": {},
     "output_type": "display_data"
    }
   ],
   "source": [
    "import numpy as np\n",
    "import matplotlib.pyplot as plt\n",
    "\n",
    "# Generate random data\n",
    "data = np.random.normal(0, 1, 100)\n",
    "\n",
    "# Calculate median, Q1, and Q3\n",
    "median = np.median(data)\n",
    "q1 = np.percentile(data, 25)\n",
    "q3 = np.percentile(data, 75)\n",
    "\n",
    "# Create a vertical box plot\n",
    "plt.figure(figsize=(6, 8))  # Set the figure size for better visibility\n",
    "bp = plt.boxplot(data,\n",
    "                vert=True,           # Vertical orientation for the box plot\n",
    "                patch_artist=True,   # Add color to boxes\n",
    "                boxprops={'facecolor': 'lightblue', 'edgecolor': 'gray'},  # Box properties\n",
    "                medianprops={'color': 'darkblue', 'linewidth': 2},         # Median properties\n",
    "                whiskerprops={'color': 'gray', 'linestyle': '-'},        # Whisker properties\n",
    "                capprops={'color': 'gray'},                               # Cap properties\n",
    "                flierprops={'marker': 'o', 'markerfacecolor': 'red', 'markersize': 8},  # Outlier properties\n",
    "               )\n",
    "\n",
    "# Plot median, Q1, and Q3 on y-axis\n",
    "plt.plot([0], [median], marker='o', markersize=4, color='blue', label=f'Median [{median:.4f}]')\n",
    "plt.plot([0], [q1], marker='o', markersize=4, color='purple', label=f'Q1 [{q1:.4f}]')\n",
    "plt.plot([0], [q3], marker='o', markersize=4, color='purple', label=f'Q3 [{q3:.4f}]')\n",
    "\n",
    "# Customize axis text\n",
    "plt.xlabel('Data', fontsize=12, color='gray')\n",
    "plt.ylabel('Values', fontsize=12, color='gray')\n",
    "\n",
    "# Customize tick labels\n",
    "plt.xticks(fontsize=10, color='gray')\n",
    "plt.yticks(fontsize=10, color='gray')\n",
    "\n",
    "# Title and grid\n",
    "plt.title('Vertical Box Plot with Median, Q1, and Q3\\n', fontsize=14, color='darkblue')\n",
    "plt.grid(True, linestyle='--', alpha=0.7)\n",
    "\n",
    "# Remove top and right spines for a cleaner look\n",
    "plt.gca().spines['top'].set_visible(False)\n",
    "plt.gca().spines['right'].set_visible(False)\n",
    "\n",
    "# Add legend\n",
    "plt.legend()\n",
    "\n",
    "# Display the plot\n",
    "plt.show()\n"
   ]
  },
  {
   "cell_type": "markdown",
   "id": "32acd893-226e-4600-8245-23ed761c7430",
   "metadata": {},
   "source": [
    "## Ans 9"
   ]
  },
  {
   "cell_type": "markdown",
   "id": "c4b8ba9d-0fc0-4a58-8e0a-e545102c6d42",
   "metadata": {},
   "source": [
    "**Descriptive Statistics**:\n",
    "Descriptive statistics involve methods and techniques used to summarize, organize, and present data in a meaningful way. These statistics provide a concise overview of data characteristics, such as central tendency, variability, and distribution, without making inferences beyond the observed dataset.\n",
    "\n",
    "Example: Consider a set of exam scores for a class of students. Descriptive statistics would involve calculating the mean (average) score, the standard deviation (a measure of variability), and creating a histogram to visualize the score distribution. These statistics help us understand the overall performance and spread of scores within the class.\n",
    "\n",
    "**Inferential Statistics**:\n",
    "Inferential statistics involve drawing conclusions and making predictions about a larger population based on a sample of data. These statistics utilize probability theory to make educated guesses or inferences about characteristics of the population from which the sample was drawn.\n",
    "\n",
    "Example: Suppose a researcher wants to determine if a new teaching method improves test scores for all students. They could take a random sample of students, apply the new method, and then use inferential statistics to test whether any differences in scores observed between the control group (no new method) and experimental group (new method) are statistically significant. If they find a significant difference, they can infer that the new method likely has an effect on the larger population.\n",
    "\n",
    "In summary:\n",
    "- **Descriptive statistics** summarize and present data in a meaningful way without making inferences beyond the dataset.\n",
    "- **Inferential statistics** involve making predictions or drawing conclusions about a larger population based on sample data, using probability theory and hypothesis testing.\n",
    "\n",
    "Both descriptive and inferential statistics are fundamental in understanding and interpreting data, and they often work together to provide a comprehensive analysis. Descriptive statistics provide the initial insights, while inferential statistics help us make broader claims about a population based on observed data."
   ]
  },
  {
   "cell_type": "markdown",
   "id": "3d12496f-74c4-4caf-9821-42559f3d91d7",
   "metadata": {},
   "source": [
    "## Ans 10"
   ]
  },
  {
   "cell_type": "markdown",
   "id": "0dbd7384-de33-4e1e-8f93-4483c1be28c7",
   "metadata": {},
   "source": [
    "**Measures of Central Tendency**:\n",
    "Measures of central tendency provide a single value that represents the \"center\" or \"typical\" value of a dataset. They help us understand where most of the data is clustered.\n",
    "\n",
    "1. **Mean**: The mean, or average, is the sum of all data values divided by the number of data points. It is sensitive to outliers and can be affected by extreme values.\n",
    "\n",
    "2. **Median**: The median is the middle value of a dataset when it is ordered. It is less affected by outliers and provides a better representation of the \"typical\" value, especially in skewed distributions.\n",
    "\n",
    "3. **Mode**: The mode is the most frequently occurring value in a dataset. It can be used in categorical data or discrete datasets.\n",
    "\n",
    "**Measures of Variability**:\n",
    "Measures of variability indicate how spread out or dispersed the data points are around the central value.\n",
    "\n",
    "1. **Range**: The range is the difference between the maximum and minimum values in a dataset. It provides a simple measure of spread but is sensitive to outliers.\n",
    "\n",
    "2. **Variance**: Variance measures the average of the squared differences between each data point and the mean. It gives an idea of how much the data points deviate from the mean.\n",
    "\n",
    "3. **Standard Deviation**: Standard deviation is the square root of the variance. It provides a more interpretable measure of spread and is widely used due to its sensitivity to the original units of the data.\n",
    "\n",
    "4. **Interquartile Range (IQR)**: IQR is the range between the third quartile (Q3) and the first quartile (Q1) of a dataset. It is less sensitive to outliers than the range.\n",
    "\n",
    "5. **Coefficient of Variation (CV)**: CV is the ratio of the standard deviation to the mean, expressed as a percentage. It's used to compare the relative variability of different datasets, especially when they have different units or scales.\n",
    "\n",
    "These measures provide valuable insights into the characteristics of a dataset. The choice of which measure to use depends on the type of data, the distribution of the data, and the specific question being addressed. Combining measures of central tendency and variability helps us gain a comprehensive understanding of the data's distribution and spread."
   ]
  },
  {
   "cell_type": "code",
   "execution_count": null,
   "id": "c19ad75a-30db-429b-bf56-f9183993f31d",
   "metadata": {},
   "outputs": [],
   "source": []
  },
  {
   "cell_type": "code",
   "execution_count": null,
   "id": "561daab5-3768-4c1d-95c6-d48d89732f39",
   "metadata": {},
   "outputs": [],
   "source": []
  },
  {
   "cell_type": "code",
   "execution_count": null,
   "id": "340849a1-0526-4de3-b6d3-b04563ea14f3",
   "metadata": {},
   "outputs": [],
   "source": []
  }
 ],
 "metadata": {
  "kernelspec": {
   "display_name": "Python 3 (ipykernel)",
   "language": "python",
   "name": "python3"
  },
  "language_info": {
   "codemirror_mode": {
    "name": "ipython",
    "version": 3
   },
   "file_extension": ".py",
   "mimetype": "text/x-python",
   "name": "python",
   "nbconvert_exporter": "python",
   "pygments_lexer": "ipython3",
   "version": "3.10.11"
  }
 },
 "nbformat": 4,
 "nbformat_minor": 5
}
