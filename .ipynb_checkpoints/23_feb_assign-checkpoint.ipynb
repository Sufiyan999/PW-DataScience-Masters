{
 "cells": [
  {
   "cell_type": "code",
   "execution_count": null,
   "id": "c6e7d6ac",
   "metadata": {},
   "outputs": [],
   "source": []
  },
  {
   "cell_type": "markdown",
   "id": "5c681641",
   "metadata": {},
   "source": [
    "<h>Ans_1"
   ]
  },
  {
   "cell_type": "code",
   "execution_count": 1,
   "id": "1e48c942",
   "metadata": {},
   "outputs": [
    {
     "name": "stdout",
     "output_type": "stream",
     "text": [
      "0     4\n",
      "1     8\n",
      "2    15\n",
      "3    16\n",
      "4    23\n",
      "5    42\n",
      "dtype: int64\n"
     ]
    }
   ],
   "source": [
    "import pandas as pd\n",
    "\n",
    "data = [4, 8, 15, 16, 23, 42]\n",
    "series = pd.Series(data)\n",
    "\n",
    "print(series)"
   ]
  },
  {
   "cell_type": "markdown",
   "id": "adaa4231",
   "metadata": {},
   "source": [
    "<h>ans_2"
   ]
  },
  {
   "cell_type": "code",
   "execution_count": 2,
   "id": "d7a56385",
   "metadata": {},
   "outputs": [
    {
     "name": "stdout",
     "output_type": "stream",
     "text": [
      "0     10\n",
      "1     20\n",
      "2     30\n",
      "3     40\n",
      "4     50\n",
      "5     60\n",
      "6     70\n",
      "7     80\n",
      "8     90\n",
      "9    100\n",
      "dtype: int64\n"
     ]
    }
   ],
   "source": [
    "import pandas as pd\n",
    "\n",
    "my_list = [10, 20, 30, 40, 50, 60, 70, 80, 90, 100]\n",
    "my_series = pd.Series(my_list)\n",
    "\n",
    "print(my_series)\n"
   ]
  },
  {
   "cell_type": "markdown",
   "id": "2d579e5f",
   "metadata": {},
   "source": [
    "<h>Ans_3"
   ]
  },
  {
   "cell_type": "code",
   "execution_count": 5,
   "id": "dc8d2d45",
   "metadata": {},
   "outputs": [
    {
     "name": "stdout",
     "output_type": "stream",
     "text": [
      "     Name  Age  Gender\n",
      "0   Alice   25  Female\n",
      "1     Bob   30    Male\n",
      "2  Claire   27  Female\n"
     ]
    }
   ],
   "source": [
    "import pandas as pd\n",
    "\n",
    "data = {\n",
    "    'Name': ['Alice', 'Bob', 'Claire'],\n",
    "    'Age': [25, 30, 27],\n",
    "    'Gender': ['Female', 'Male', 'Female']\n",
    "}\n",
    "\n",
    "df = pd.DataFrame(data)\n",
    "\n",
    "print(df)"
   ]
  },
  {
   "cell_type": "code",
   "execution_count": null,
   "id": "6caa839c",
   "metadata": {},
   "outputs": [],
   "source": []
  },
  {
   "cell_type": "markdown",
   "id": "7365db98",
   "metadata": {},
   "source": [
    "<h>Ans_4"
   ]
  },
  {
   "cell_type": "markdown",
   "id": "18e01d91",
   "metadata": {},
   "source": [
    "A DataFrame in Pandas is a 2-dimensional labeled data structure with columns of potentially different data types. It can be thought of as a spreadsheet or SQL table, and can be created from various data sources, including CSV files, Excel spreadsheets, SQL databases, and Python dictionaries.\n",
    "\n",
    "A Pandas Series, on the other hand, is a 1-dimensional labeled array that can hold data of any type, including integer, float, string, boolean, and more. It is similar to a column in a spreadsheet or a vector in R.\n",
    "\n",
    "The main difference between a DataFrame and a Series is that a DataFrame is a collection of Series, where each Series represents a column in the DataFrame. In other words, a DataFrame is a 2-dimensional structure, while a Series is a 1-dimensional structure."
   ]
  },
  {
   "cell_type": "code",
   "execution_count": 6,
   "id": "48cce7c4",
   "metadata": {},
   "outputs": [],
   "source": [
    "import pandas as pd\n",
    "\n",
    "# create a Series\n",
    "my_series = pd.Series(['apple', 'banana', 'orange', 'pear', 'grape'])\n",
    "\n",
    "# create a DataFrame\n",
    "my_data = {'fruit': ['apple', 'banana', 'orange', 'pear', 'grape'],\n",
    "           'color': ['red', 'yellow', 'orange', 'green', 'purple'],\n",
    "           'quantity': [3, 6, 4, 2, 5]}\n",
    "my_dataframe = pd.DataFrame(my_data)"
   ]
  },
  {
   "cell_type": "code",
   "execution_count": 7,
   "id": "cd583917",
   "metadata": {},
   "outputs": [
    {
     "data": {
      "text/html": [
       "<div>\n",
       "<style scoped>\n",
       "    .dataframe tbody tr th:only-of-type {\n",
       "        vertical-align: middle;\n",
       "    }\n",
       "\n",
       "    .dataframe tbody tr th {\n",
       "        vertical-align: top;\n",
       "    }\n",
       "\n",
       "    .dataframe thead th {\n",
       "        text-align: right;\n",
       "    }\n",
       "</style>\n",
       "<table border=\"1\" class=\"dataframe\">\n",
       "  <thead>\n",
       "    <tr style=\"text-align: right;\">\n",
       "      <th></th>\n",
       "      <th>fruit</th>\n",
       "      <th>color</th>\n",
       "      <th>quantity</th>\n",
       "    </tr>\n",
       "  </thead>\n",
       "  <tbody>\n",
       "    <tr>\n",
       "      <th>0</th>\n",
       "      <td>apple</td>\n",
       "      <td>red</td>\n",
       "      <td>3</td>\n",
       "    </tr>\n",
       "    <tr>\n",
       "      <th>1</th>\n",
       "      <td>banana</td>\n",
       "      <td>yellow</td>\n",
       "      <td>6</td>\n",
       "    </tr>\n",
       "    <tr>\n",
       "      <th>2</th>\n",
       "      <td>orange</td>\n",
       "      <td>orange</td>\n",
       "      <td>4</td>\n",
       "    </tr>\n",
       "    <tr>\n",
       "      <th>3</th>\n",
       "      <td>pear</td>\n",
       "      <td>green</td>\n",
       "      <td>2</td>\n",
       "    </tr>\n",
       "    <tr>\n",
       "      <th>4</th>\n",
       "      <td>grape</td>\n",
       "      <td>purple</td>\n",
       "      <td>5</td>\n",
       "    </tr>\n",
       "  </tbody>\n",
       "</table>\n",
       "</div>"
      ],
      "text/plain": [
       "    fruit   color  quantity\n",
       "0   apple     red         3\n",
       "1  banana  yellow         6\n",
       "2  orange  orange         4\n",
       "3    pear   green         2\n",
       "4   grape  purple         5"
      ]
     },
     "execution_count": 7,
     "metadata": {},
     "output_type": "execute_result"
    }
   ],
   "source": [
    "my_dataframe"
   ]
  },
  {
   "cell_type": "markdown",
   "id": "078b4a92",
   "metadata": {},
   "source": [
    "<h>Ans_5<h>"
   ]
  },
  {
   "cell_type": "markdown",
   "id": "f0a99e3e",
   "metadata": {},
   "source": [
    "Pandas provides a wide range of functions to manipulate data in a DataFrame. Some common functions include:\n",
    "\n",
    "head() and tail(): These functions are used to view the top or bottom n rows of the DataFrame, respectively. They are useful for quickly checking the structure and contents of a DataFrame.\n",
    "\n",
    "info(): This function is used to display a summary of the DataFrame, including the number of non-null values, the data types of each column, and the memory usage.\n",
    "\n",
    "describe(): This function is used to generate descriptive statistics of the DataFrame, including the count, mean, standard deviation, minimum, and maximum values of each numeric column.\n",
    "\n",
    "groupby(): This function is used to group the DataFrame by one or more columns and apply a function to each group. It is useful for aggregating and summarizing data.\n",
    "\n",
    "pivot_table(): This function is used to create a pivot table from the DataFrame, where the values in one column are aggregated based on the values in one or more other columns.\n",
    "\n",
    "drop(): This function is used to drop one or more columns or rows from the DataFrame.\n",
    "\n",
    "fillna(): This function is used to fill missing values in the DataFrame with a specified value or method, such as forward fill or backward fill."
   ]
  },
  {
   "cell_type": "code",
   "execution_count": 9,
   "id": "6e577ddf",
   "metadata": {},
   "outputs": [
    {
     "name": "stdout",
     "output_type": "stream",
     "text": [
      "gender\n",
      "female    60000.0\n",
      "male      60000.0\n",
      "Name: salary, dtype: float64\n"
     ]
    }
   ],
   "source": [
    "import pandas as pd\n",
    "\n",
    "# create a DataFrame\n",
    "data = {'gender': ['male', 'male', 'female', 'male', 'female', 'female'],\n",
    "        'age': [25, 30, 27, 32, 28, 26],\n",
    "        'salary': [50000, 60000, 55000, 70000, 65000, 60000]}\n",
    "df = pd.DataFrame(data)\n",
    "\n",
    "# group the DataFrame by gender and calculate the mean salary for each group\n",
    "grouped = df.groupby('gender')['salary'].mean()\n",
    "print(grouped)"
   ]
  },
  {
   "cell_type": "markdown",
   "id": "ebd71ffa",
   "metadata": {},
   "source": [
    "<h>Ans_6"
   ]
  },
  {
   "cell_type": "markdown",
   "id": "c13f025e",
   "metadata": {},
   "source": [
    "\n",
    "Both Series and DataFrame are mutable in nature, meaning that you can modify their values, add or remove rows and columns, and perform other operations that change the underlying data.\n",
    "\n",
    "In contrast, the Panel data structure has been deprecated in recent versions of Pandas and is no longer recommended for use. Instead, Pandas provides the more flexible and powerful MultiIndex and GroupBy functionality for working with higher-dimensional data."
   ]
  },
  {
   "cell_type": "code",
   "execution_count": null,
   "id": "f732824f",
   "metadata": {},
   "outputs": [],
   "source": []
  },
  {
   "cell_type": "markdown",
   "id": "ebf5ab71",
   "metadata": {},
   "source": [
    "<h>Ans_7"
   ]
  },
  {
   "cell_type": "markdown",
   "id": "43f4eeff",
   "metadata": {},
   "source": [
    "You can create a DataFrame using multiple Series by passing a dictionary of Series to the pd.DataFrame() function. Each Series will become a column in the DataFrame, with the keys of the dictionary used as the column names"
   ]
  },
  {
   "cell_type": "code",
   "execution_count": 10,
   "id": "230fad28",
   "metadata": {},
   "outputs": [
    {
     "name": "stdout",
     "output_type": "stream",
     "text": [
      "     Name  Age  Gender\n",
      "0   Alice   25  Female\n",
      "1     Bob   30    Male\n",
      "2  Claire   27  Female\n"
     ]
    }
   ],
   "source": [
    "import pandas as pd\n",
    "\n",
    "# create three Series\n",
    "names = pd.Series(['Alice', 'Bob', 'Claire'])\n",
    "ages = pd.Series([25, 30, 27])\n",
    "genders = pd.Series(['Female', 'Male', 'Female'])\n",
    "\n",
    "# create a DataFrame from the Series\n",
    "df = pd.DataFrame({'Name': names, 'Age': ages, 'Gender': genders})\n",
    "\n",
    "# print the DataFrame\n",
    "print(df)\n"
   ]
  },
  {
   "cell_type": "code",
   "execution_count": null,
   "id": "2ff8e16b",
   "metadata": {},
   "outputs": [],
   "source": []
  },
  {
   "cell_type": "code",
   "execution_count": null,
   "id": "e2cbabc3",
   "metadata": {},
   "outputs": [],
   "source": []
  },
  {
   "cell_type": "code",
   "execution_count": null,
   "id": "b5a086ca",
   "metadata": {},
   "outputs": [],
   "source": []
  },
  {
   "cell_type": "code",
   "execution_count": null,
   "id": "2432cca9",
   "metadata": {},
   "outputs": [],
   "source": []
  }
 ],
 "metadata": {
  "kernelspec": {
   "display_name": "Python 3 (ipykernel)",
   "language": "python",
   "name": "python3"
  },
  "language_info": {
   "codemirror_mode": {
    "name": "ipython",
    "version": 3
   },
   "file_extension": ".py",
   "mimetype": "text/x-python",
   "name": "python",
   "nbconvert_exporter": "python",
   "pygments_lexer": "ipython3",
   "version": "3.9.16"
  },
  "widgets": {
   "application/vnd.jupyter.widget-state+json": {
    "state": {},
    "version_major": 2,
    "version_minor": 0
   }
  }
 },
 "nbformat": 4,
 "nbformat_minor": 5
}
