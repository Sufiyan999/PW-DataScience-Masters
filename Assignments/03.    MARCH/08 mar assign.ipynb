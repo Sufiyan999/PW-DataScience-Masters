{
 "cells": [
  {
   "cell_type": "markdown",
   "id": "21c28498",
   "metadata": {},
   "source": [
    "## Ans 1"
   ]
  },
  {
   "cell_type": "markdown",
   "id": "9c1330d8-4d7d-4971-b109-d9840f2a5ee8",
   "metadata": {},
   "source": [
    "**Probability Density Function (PDF):**\n",
    "\n",
    "The Probability Density Function (PDF) is a concept used in statistics to describe the likelihood of different values occurring for a continuous random variable. Think of it as a way to map out how probable various outcomes are within a range.\n",
    "\n",
    "Imagine you have a continuous random variable, like the height of people. The PDF tells you how likely it is for a person to have a specific height within a certain range. It provides a smooth curve that represents the probabilities for different height values.\n",
    "\n",
    "Key points about the PDF:\n",
    "- The curve is always above the x-axis (non-negative) since probabilities can't be negative.\n",
    "- The area under the curve over all possible values adds up to 1, meaning that the variable has to take on some value within that range.\n",
    "\n",
    "For instance, consider a standard normal distribution (bell curve). The PDF for this distribution describes how likely different z-scores (standardized values) are. The highest point of the curve corresponds to the mean, and the curve symmetrically trails off to both sides, showing the probabilities for different deviations from the mean.\n",
    "\n",
    "While the PDF itself doesn't give you the exact probability of a single value (since it's continuous), you can use it to find the probability that the random variable falls within a certain range by integrating (finding the area under the curve) over that range.\n",
    "\n",
    "In summary, the PDF is a fundamental tool for understanding the probabilities of different outcomes for continuous random variables. It provides a smooth, informative curve that helps us make sense of the likelihood of different values occurring within a given range."
   ]
  },
  {
   "cell_type": "markdown",
   "id": "7cb107c1",
   "metadata": {},
   "source": [
    "## Ans 2"
   ]
  },
  {
   "cell_type": "markdown",
   "id": "0788dea0-c623-4d83-b0f4-b8ba6375057e",
   "metadata": {},
   "source": [
    "Probability distributions are mathematical functions that describe the likelihood of various outcomes in a random experiment or process. There are several types of probability distributions, each with its own characteristics and applications. Here are some of the most common types:\n",
    "\n",
    "**1. Discrete Probability Distributions:**\n",
    "\n",
    "   - **Bernoulli Distribution:** Models a binary outcome, like success/failure, where there's only one trial.\n",
    "   \n",
    "   - **Binomial Distribution:** Describes the number of successes in a fixed number of independent Bernoulli trials.\n",
    "   \n",
    "   - **Poisson Distribution:** Models the number of events occurring in a fixed interval of time or space, assuming a low probability of success and a large number of trials.\n",
    "\n",
    "**2. Continuous Probability Distributions:**\n",
    "\n",
    "   - **Normal (Gaussian) Distribution:** A symmetrical bell-shaped curve that's commonly used to model real-world phenomena due to its central limit theorem properties.\n",
    "   \n",
    "   - **Uniform Distribution:** All values in a given range have equal probability, resulting in a rectangular-shaped curve.\n",
    "   \n",
    "   - **Exponential Distribution:** Models the time between events in a Poisson process, often used in survival analysis.\n",
    "   \n",
    "   - **Gamma Distribution:** Generalizes the exponential distribution and can be used to model various types of continuous events.\n",
    "   \n",
    "   - **Beta Distribution:** Used to model the distribution of probabilities for a random event with known limits.\n",
    "   \n",
    "   - **Log-Normal Distribution:** Describes variables that are the product of many small, independent factors.\n",
    "\n",
    "**3. Multivariate Distributions:**\n",
    "\n",
    "   - **Multinomial Distribution:** An extension of the binomial distribution for multiple categories.\n",
    "   \n",
    "   - **Multivariate Normal Distribution:** Generalizes the normal distribution to multiple variables.\n",
    "   \n",
    "   - **Bivariate Distribution:** Describes the joint distribution of two random variables.\n",
    "\n",
    "These are just a few examples of the many probability distributions that exist. Each distribution has its own unique characteristics and properties, making them suitable for different types of data and applications. Probability distributions are fundamental in statistics, probability theory, and various fields such as physics, engineering, finance, and more, where uncertainty and randomness play a role."
   ]
  },
  {
   "cell_type": "markdown",
   "id": "7f75c17b",
   "metadata": {},
   "source": [
    "## Ans 3"
   ]
  },
  {
   "cell_type": "code",
   "execution_count": null,
   "id": "fcba3fee",
   "metadata": {},
   "outputs": [],
   "source": []
  },
  {
   "cell_type": "code",
   "execution_count": 5,
   "id": "08aab46d-6749-480c-b9b5-af65750cf866",
   "metadata": {},
   "outputs": [
    {
     "name": "stdout",
     "output_type": "stream",
     "text": [
      "PDF at x = 0.5: 0.3520653267642995\n"
     ]
    }
   ],
   "source": [
    "import math\n",
    "\n",
    "def calculate_normal_pdf(x, mean, std_dev):\n",
    "    \"\"\"\n",
    "    Calculate the Probability Density Function (PDF) of a normal distribution.\n",
    "\n",
    "    Parameters:\n",
    "    x (float): The point at which to calculate the PDF.\n",
    "    mean (float): Mean of the normal distribution.\n",
    "    std_dev (float): Standard deviation of the normal distribution.\n",
    "\n",
    "    Returns:\n",
    "    float: PDF value at the given point.\n",
    "    \"\"\"\n",
    "    coefficient = 1 / (std_dev * math.sqrt(2 * math.pi))\n",
    "    exponent = -((x - mean)**2) / (2 * std_dev**2)\n",
    "    pdf_value = coefficient * math.exp(exponent)\n",
    "    return pdf_value\n",
    "\n",
    "# Example usage\n",
    "mean = 0\n",
    "std_dev = 1\n",
    "x = 0.5\n",
    "pdf_at_x = calculate_normal_pdf(x, mean, std_dev)\n",
    "\n",
    "print(f\"PDF at x = {x}: {pdf_at_x}\")\n"
   ]
  },
  {
   "cell_type": "code",
   "execution_count": 7,
   "id": "c373f5e4-9299-499a-95bd-7810fe99902d",
   "metadata": {},
   "outputs": [
    {
     "name": "stdout",
     "output_type": "stream",
     "text": [
      "PDF at x = 0.5: 0.3520653267642995\n"
     ]
    }
   ],
   "source": [
    "import scipy.stats as stats\n",
    "\n",
    "# Example usage\n",
    "mean = 0\n",
    "std_dav = 1\n",
    "x = 0.5\n",
    "pdf_at_x = stats.norm.pdf(x, mean, std_dav)\n",
    "\n",
    "print(f\"PDF at x = {x}: {pdf_at_x}\")"
   ]
  },
  {
   "cell_type": "markdown",
   "id": "1a90e5c2",
   "metadata": {},
   "source": [
    "## Ans 4"
   ]
  },
  {
   "cell_type": "markdown",
   "id": "9c7730b5-b2ff-472e-9cb4-1605abcb7040",
   "metadata": {},
   "source": [
    "The binomial distribution is a discrete probability distribution that models the number of successes in a fixed number of independent Bernoulli trials (where each trial has two possible outcomes: success or failure). The binomial distribution has several key properties:\n",
    "\n",
    "1. **Fixed Number of Trials (n):** The distribution is based on a fixed number of trials denoted as \"n.\" Each trial is independent and has two possible outcomes: success or failure.\n",
    "\n",
    "2. **Independent Trials:** Each trial is assumed to be independent of the others. The outcome of one trial does not affect the outcome of the others.\n",
    "\n",
    "3. **Constant Probability:** The probability of success (denoted as \"p\") remains constant for each trial, and the probability of failure is \\(1 - p\\).\n",
    "\n",
    "4. **Discrete Outcomes:** The binomial random variable represents the count of successes, which is a discrete variable.\n",
    "\n",
    "5. **Counting Property:** The binomial distribution provides the probabilities of obtaining specific counts of successes in \"n\" trials.\n",
    "\n",
    "6. **Probability Mass Function (PMF):** The probability of observing \"k\" successes in \"n\" trials is given by the binomial probability mass function:\n",
    "   \n",
    "   P(X = k) = binom{n}{k} * p^k * (1 - p)^{n - k}\n",
    "   \n",
    "\n",
    "**Examples of Events Where Binomial Distribution Can Be Applied:**\n",
    "\n",
    "1. **Coin Flips:** When flipping a fair coin multiple times (each flip being independent), the outcome of each flip is a binary event (heads or tails), making it suitable for a binomial distribution. For instance, you can calculate the probability of getting a certain number of heads in a fixed number of coin flips.\n",
    "\n",
    "2. **Quality Control:** In manufacturing, you might have a process where each item produced can be either defective or non-defective. You can model the number of defective items in a sample of a fixed size using a binomial distribution. For example, calculating the probability of a specific number of defective items in a batch of products.\n",
    "\n",
    "These examples illustrate scenarios where the binomial distribution is applicable, providing a way to understand the probabilities associated with the number of successes in a fixed number of trials with two possible outcomes."
   ]
  },
  {
   "cell_type": "markdown",
   "id": "3c94d804",
   "metadata": {},
   "source": [
    "## Ans 5"
   ]
  },
  {
   "cell_type": "code",
   "execution_count": 11,
   "id": "41ec3485",
   "metadata": {},
   "outputs": [
    {
     "data": {
      "image/png": "[encoded data removed]",
      "text/plain": [
       "<Figure size 1000x600 with 1 Axes>"
      ]
     },
     "metadata": {},
     "output_type": "display_data"
    }
   ],
   "source": [
    "import numpy as np\n",
    "import matplotlib.pyplot as plt\n",
    "\n",
    "# Parameters\n",
    "n = 1000            # Number of trials\n",
    "p = 0.4             # Probability of success\n",
    "\n",
    "# Generate random sample from binomial distribution\n",
    "random_sample = np.random.binomial(n, p, size=1000)\n",
    "\n",
    "# Plot histogram\n",
    "plt.figure(figsize=(10, 6))\n",
    "plt.hist(random_sample, bins=20, density=True, color='skyblue', edgecolor='black')\n",
    "plt.title('Histogram of Random Sample from Binomial Distribution')\n",
    "plt.xlabel('Number of Successes')\n",
    "plt.ylabel('Density')\n",
    "plt.grid(True ,linestyle='--')\n",
    "plt.show()"
   ]
  },
  {
   "cell_type": "markdown",
   "id": "d1fe79d3",
   "metadata": {},
   "source": [
    "## Ans 6"
   ]
  },
  {
   "cell_type": "code",
   "execution_count": 12,
   "id": "04480058",
   "metadata": {},
   "outputs": [
    {
     "name": "stdout",
     "output_type": "stream",
     "text": [
      "CDF at x = 4: 0.8152632445237721\n"
     ]
    }
   ],
   "source": [
    "import math\n",
    "\n",
    "def calculate_poisson_cdf(x, mean):\n",
    "    \"\"\"\n",
    "    Calculate the Cumulative Distribution Function (CDF) of a Poisson distribution.\n",
    "\n",
    "    Parameters:\n",
    "    x (int): The point at which to calculate the CDF.\n",
    "    mean (float): Mean of the Poisson distribution.\n",
    "\n",
    "    Returns:\n",
    "    float: CDF value at the given point.\n",
    "    \"\"\"\n",
    "    cdf_value = 0\n",
    "    for k in range(x + 1):\n",
    "        cdf_value += (math.exp(-mean) * mean ** k) / math.factorial(k)\n",
    "    return cdf_value\n",
    "\n",
    "# Example usage\n",
    "mean = 3\n",
    "x = 4\n",
    "cdf_at_x = calculate_poisson_cdf(x, mean)\n",
    "\n",
    "print(f\"CDF at x = {x}: {cdf_at_x}\")"
   ]
  },
  {
   "cell_type": "code",
   "execution_count": 13,
   "id": "86a10729-72df-4bdb-9fef-e483d84b5d2e",
   "metadata": {},
   "outputs": [
    {
     "name": "stdout",
     "output_type": "stream",
     "text": [
      "CDF at x = 4: 0.8152632445237722\n"
     ]
    }
   ],
   "source": [
    "import scipy.stats as stats\n",
    "\n",
    "# Example usage\n",
    "mean = 3\n",
    "x = 4\n",
    "cdf_at_x =  stats.poisson.cdf(x, mu=mean)\n",
    "\n",
    "print(f\"CDF at x = {x}: {cdf_at_x}\")"
   ]
  },
  {
   "cell_type": "markdown",
   "id": "af37ca18",
   "metadata": {},
   "source": [
    "## Ans 7"
   ]
  },
  {
   "cell_type": "markdown",
   "id": "222ca623-e7a0-45c1-9f0b-fedff0d79e2f",
   "metadata": {},
   "source": [
    "The binomial distribution and the Poisson distribution are both discrete probability distributions that describe the number of events or successes in a fixed number of trials. However, they have distinct characteristics and are used in different contexts:\n",
    "\n",
    "**Binomial Distribution:**\n",
    "\n",
    "1. **Number of Trials:** The binomial distribution is used when you have a fixed number of independent trials (experiments) with two possible outcomes: success or failure.\n",
    "\n",
    "2. **Probability of Success:** Each trial has a constant probability of success denoted as \\(p\\), and the probability of failure is \\(1 - p\\).\n",
    "\n",
    "3. **Parameters:** The binomial distribution is defined by two parameters: \\(n\\), the number of trials, and \\(p\\), the probability of success.\n",
    "\n",
    "4. **Outcome:** The random variable of interest in the binomial distribution is the count of successes (or failures) in the \\(n\\) trials.\n",
    "\n",
    "\n",
    "\n",
    "**Poisson Distribution:**\n",
    "\n",
    "1. **Number of Trials:** The Poisson distribution is used when you're interested in the number of events that occur in a fixed interval of time or space.\n",
    "\n",
    "2. **Event Rate:** The distribution is characterized by an average event rate lambda, which represents the average number of events in the given interval.\n",
    "\n",
    "3. **Parameters:** The Poisson distribution is defined by one parameter: lambda, the average rate of events.\n",
    "\n",
    "4. **Outcome:** The random variable in the Poisson distribution is the count of events that occur in the interval.\n",
    "\n",
    "\n",
    "**Key Differences:**\n",
    "\n",
    "- Binomial distribution deals with a fixed number of independent trials with two outcomes, whereas the Poisson distribution deals with the number of events in a fixed interval.\n",
    "- Binomial distribution has two parameters (\\(n\\) and \\(p\\)), while the Poisson distribution has one parameter λ).\n",
    "- Binomial distribution focuses on successes and failures, while the Poisson distribution focuses on the count of events.\n",
    "- The binomial distribution approaches the Poisson distribution as \\(n\\) increases and \\(p\\) approaches 0 (rare events), provided that \\(np\\) remains constant.\n",
    "\n",
    "In summary, the binomial distribution is suitable for scenarios involving a fixed number of trials with two outcomes, while the Poisson distribution is suitable for scenarios involving the count of events in a fixed interval."
   ]
  },
  {
   "cell_type": "markdown",
   "id": "896b3c53",
   "metadata": {},
   "source": [
    "## Ans 8"
   ]
  },
  {
   "cell_type": "code",
   "execution_count": 1,
   "id": "3a4a6851",
   "metadata": {},
   "outputs": [
    {
     "name": "stdout",
     "output_type": "stream",
     "text": [
      "Sample Mean: 4.916\n",
      "Sample Variance: 5.092036036036036\n"
     ]
    }
   ],
   "source": [
    "import numpy as np\n",
    "\n",
    "# Parameters for Poisson distribution\n",
    "mean = 5\n",
    "\n",
    "# Generate random sample from Poisson distribution\n",
    "random_sample = np.random.poisson(mean, size=1000)\n",
    "\n",
    "# Calculate sample mean and variance\n",
    "sample_mean = np.mean(random_sample)\n",
    "sample_variance = np.var(random_sample, ddof=1)  # ddof=1 for sample variance\n",
    "\n",
    "print(f\"Sample Mean: {sample_mean}\")\n",
    "print(f\"Sample Variance: {sample_variance}\")"
   ]
  },
  {
   "cell_type": "markdown",
   "id": "084e593a",
   "metadata": {},
   "source": [
    "## Ans 9"
   ]
  },
  {
   "cell_type": "markdown",
   "id": "d8c41632-b934-42f4-b062-434b32e22fd8",
   "metadata": {},
   "source": [
    "In both the binomial distribution and the Poisson distribution, the mean and variance have a close relationship, but the specific relationship differs between the two distributions.\n",
    "\n",
    "**Binomial Distribution:**\n",
    "\n",
    "In a binomial distribution, where \\(n\\) is the number of trials and \\(p\\) is the probability of success in each trial, the mean and variance are related as follows:\n",
    "\n",
    "- Mean  = n⋅p\n",
    "- Variance  =  n⋅p⋅(1−p)\n",
    "\n",
    "The variance of the binomial distribution is influenced by both the number of trials (\\(n\\)) and the probability of success (\\(p\\)). The relationship between mean and variance implies that the spread of the distribution increases as the probability of success moves away from 0.5, and it's largest when \\(p\\) is close to 0 or 1.\n",
    "\n",
    "**Poisson Distribution:**\n",
    "\n",
    "In a Poisson distribution, where λ is the average rate of events, the mean and variance are equal:\n",
    "\n",
    "- Mean\n",
    "μ = Variance((\n",
    "σ \n",
    "2\n",
    " ))  = λ\n",
    "\n",
    "Unlike the binomial distribution, the variance of the Poisson distribution is solely determined by the average rate of events (\\(\\lambda\\)). In other words, in a Poisson distribution, the variability is solely dependent on the average event rate.\n",
    "\n",
    "**Summary:**\n",
    "\n",
    "In a binomial distribution, the variance is influenced by both the number of trials and the probability of success. In a Poisson distribution, the variance is solely determined by the average rate of events. In both cases, the mean and variance are important summary statistics that provide insight into the distribution's characteristics and how data points are spread around the center."
   ]
  },
  {
   "cell_type": "markdown",
   "id": "b5c59a77",
   "metadata": {},
   "source": [
    "## Ans 10"
   ]
  },
  {
   "cell_type": "markdown",
   "id": "b9da68a1-bcde-4b93-9586-a55048feac87",
   "metadata": {},
   "source": [
    "In a normal distribution, also known as a Gaussian distribution or bell curve, the least frequent data points appear in the tails of the distribution, farthest from the mean.\n",
    "\n",
    "The normal distribution is symmetric around its mean, and the probability density is highest at the mean. As you move away from the mean towards the tails, the probability density gradually decreases. This means that data points that are located farther from the mean are less likely to occur in a normal distribution.\n",
    "\n",
    "In practical terms:\n",
    "\n",
    "1. **Left Tail (Negative Side):** Data points to the left of the mean (i.e., smaller than the mean) become increasingly less frequent as you move further left.\n",
    "\n",
    "2. **Right Tail (Positive Side):** Data points to the right of the mean (i.e., larger than the mean) become increasingly less frequent as you move further right.\n",
    "\n",
    "The point at which the tails \"begin\" or where data points become less frequent depends on the standard deviation. The larger the standard deviation, the broader the distribution, and the tails extend further from the mean.\n",
    "\n",
    "In summary, the least frequent data points in a normal distribution are located in the tails, which are farthest from the mean."
   ]
  },
  {
   "cell_type": "markdown",
   "id": "440d1ccf-08ba-497f-bbb0-efc139580f8e",
   "metadata": {},
   "source": []
  },
  {
   "cell_type": "code",
   "execution_count": null,
   "id": "7b3cc3cd-506f-4a73-9ac5-ab59ef43c00b",
   "metadata": {},
   "outputs": [],
   "source": []
  }
 ],
 "metadata": {
  "kernelspec": {
   "display_name": "Python 3 (ipykernel)",
   "language": "python",
   "name": "python3"
  },
  "language_info": {
   "codemirror_mode": {
    "name": "ipython",
    "version": 3
   },
   "file_extension": ".py",
   "mimetype": "text/x-python",
   "name": "python",
   "nbconvert_exporter": "python",
   "pygments_lexer": "ipython3",
   "version": "3.10.11"
  }
 },
 "nbformat": 4,
 "nbformat_minor": 5
}
