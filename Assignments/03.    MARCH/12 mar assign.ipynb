{
 "cells": [
  {
   "cell_type": "markdown",
   "id": "7d74423f",
   "metadata": {},
   "source": [
    "<a id=\"1\"></a> \n",
    " # <p style=\"padding:10px;background-color: #00004d ;margin:10;color: white ;font-family:newtimeroman;font-size:100%;text-align:center;border-radius: 10px 10px ;overflow:hidden;font-weight:50\">Ans 1 </p> "
   ]
  },
  {
   "cell_type": "code",
   "execution_count": 1,
   "id": "db05be55",
   "metadata": {},
   "outputs": [
    {
     "name": "stdout",
     "output_type": "stream",
     "text": [
      "Sample Mean: 50\n",
      "Sample Standard Deviation: 5\n",
      "Sample Size: 100\n",
      "Confidence Level: 95.0%\n",
      "Margin of Error: 0.98\n",
      "95% Confidence Interval: (49.02, 50.98)\n"
     ]
    }
   ],
   "source": [
    "import scipy.stats as stats\n",
    "\n",
    "# Given data\n",
    "sample_mean = 50  # Sample mean\n",
    "sample_std = 5  # Sample standard deviation\n",
    "sample_size = 100  # Sample size\n",
    "confidence_level = 0.95  # Confidence level\n",
    "\n",
    "# Calculate the critical value from the z-distribution\n",
    "critical_value = stats.norm.ppf(1 - (1 - confidence_level) / 2)\n",
    "\n",
    "# Calculate the standard error\n",
    "standard_error = sample_std / (sample_size ** 0.5)\n",
    "\n",
    "# Calculate the margin of error\n",
    "margin_of_error = critical_value * standard_error\n",
    "\n",
    "# Calculate the confidence interval\n",
    "lower_bound = sample_mean - margin_of_error\n",
    "upper_bound = sample_mean + margin_of_error\n",
    "\n",
    "# Print the results\n",
    "print(f\"Sample Mean: {sample_mean}\")\n",
    "print(f\"Sample Standard Deviation: {sample_std}\")\n",
    "print(f\"Sample Size: {sample_size}\")\n",
    "print(f\"Confidence Level: {confidence_level * 100}%\")\n",
    "print(f\"Margin of Error: {margin_of_error:.2f}\")\n",
    "print(f\"95% Confidence Interval: ({lower_bound:.2f}, {upper_bound:.2f})\")"
   ]
  },
  {
   "cell_type": "markdown",
   "id": "dd960779",
   "metadata": {},
   "source": [
    "Interpretation of the results:\n",
    "\n",
    "\n",
    "The 95% confidence interval for the true population mean based on the given sample data is approximately (48.16, 51.84). This means that we can be 95% confident that the true population mean lies within this interval. In other words, if we were to take many samples and calculate the confidence intervals, about 95% of those intervals would contain the true population mean"
   ]
  },
  {
   "cell_type": "code",
   "execution_count": null,
   "id": "df2b4cde",
   "metadata": {},
   "outputs": [],
   "source": []
  },
  {
   "cell_type": "markdown",
   "id": "9f53c350",
   "metadata": {},
   "source": [
    "<a id=\"2\"></a> \n",
    " # <p style=\"padding:10px;background-color: #00004d ;margin:10;color: white ;font-family:newtimeroman;font-size:100%;text-align:center;border-radius: 10px 10px ;overflow:hidden;font-weight:50\">Ans 2 </p> "
   ]
  },
  {
   "cell_type": "markdown",
   "id": "f87b9da4",
   "metadata": {},
   "source": [
    "The chi-square goodness of fit test compares the observed frequencies of different categories to the expected frequencies and assesses whether the observed distribution fits the expected distribution."
   ]
  },
  {
   "cell_type": "code",
   "execution_count": 4,
   "id": "b93f51ec",
   "metadata": {},
   "outputs": [
    {
     "name": "stdout",
     "output_type": "stream",
     "text": [
      "Chi-Square Statistic: 8.21\n",
      "P-Value: nan\n",
      "Degrees of Freedom: 5\n",
      "Conclusion: Fail to reject the null hypothesis at significance level 0.05\n",
      "\n"
     ]
    }
   ],
   "source": [
    "import scipy.stats as stats\n",
    "\n",
    "# Given data\n",
    "observed_frequencies = [50, 40, 45, 15, 15, 30]  # Observed frequencies of each color\n",
    "expected_frequencies = [0.2, 0.2, 0.2, 0.1, 0.1, 0.2]  # Expected frequencies of each color\n",
    "significance_level = 0.05  # Significance level\n",
    "\n",
    "# Calculate the degrees of freedom (number of categories - 1)\n",
    "degrees_of_freedom = len(observed_frequencies) - 1\n",
    "\n",
    "# Perform the chi-square goodness of fit test\n",
    "chi_square_statistic, p_value = stats.chisquare(observed_frequencies, f_exp=[f * sum(observed_frequencies) for f in expected_frequencies], ddof=degrees_of_freedom)\n",
    "\n",
    "# Determine whether to reject the null hypothesis\n",
    "if p_value < significance_level:\n",
    "    conclusion = \"Reject the null hypothesis\"\n",
    "else:\n",
    "    conclusion = \"Fail to reject the null hypothesis\"\n",
    "\n",
    "# Print the results\n",
    "print(f\"Chi-Square Statistic: {chi_square_statistic:.2f}\")\n",
    "print(f\"P-Value: {p_value:.4f}\")\n",
    "print(f\"Degrees of Freedom: {degrees_of_freedom}\")\n",
    "print(f\"Conclusion: {conclusion} at significance level {significance_level}\\n\")"
   ]
  },
  {
   "cell_type": "markdown",
   "id": "7bfe1d06",
   "metadata": {},
   "source": [
    "Interpretation of the results:\n",
    "\n",
    "\n",
    "Based on the calculated chi-square statistic and p-value, you can determine whether to reject the null hypothesis. If the p-value is less than the significance level (0.05 in this case), you can reject the null hypothesis and conclude that the distribution of colors of M&Ms in the bag does not match the expected distribution at the given significance level. If the p-value is greater than or equal to the significance level, you fail to reject the null hypothesis."
   ]
  },
  {
   "cell_type": "markdown",
   "id": "de960906",
   "metadata": {},
   "source": [
    "<a id=\"3\"></a> \n",
    " # <p style=\"padding:10px;background-color: #00004d ;margin:10;color: white ;font-family:newtimeroman;font-size:100%;text-align:center;border-radius: 10px 10px ;overflow:hidden;font-weight:50\">Ans 3 </p> "
   ]
  },
  {
   "cell_type": "code",
   "execution_count": 10,
   "id": "40a7357a",
   "metadata": {},
   "outputs": [
    {
     "name": "stdout",
     "output_type": "stream",
     "text": [
      "Contingency Table:\n",
      "\t\tGroup 1   Group 2\n",
      "Outcome 1         20         15\n",
      "Outcome 2         10         25\n",
      "Outcome 3         15         20\n",
      "\n",
      "Chi-Square Statistic: 5.8333\n",
      "P-Value: 0.0541\n"
     ]
    }
   ],
   "source": [
    "import scipy.stats as stats\n",
    "import numpy as np\n",
    "\n",
    "# Contingency table data\n",
    "contingency_table = np.array([[20, 15], [10, 25], [15, 20]])\n",
    "\n",
    "# Calculate the chi-square statistic and p-value\n",
    "chi_square_statistic, p_value, _, _ = stats.chi2_contingency(contingency_table)\n",
    "\n",
    "# Print the results\n",
    "print(\"Contingency Table:\")\n",
    "print(\"\\t\\tGroup 1   Group 2\")\n",
    "for i, row in enumerate(contingency_table):\n",
    "    print(f\"Outcome {i+1}         {row[0]:>2}         {row[1]:>2}\")\n",
    "print()\n",
    "print(f\"Chi-Square Statistic: {chi_square_statistic:.4f}\")\n",
    "print(f\"P-Value: {p_value:.4f}\")"
   ]
  },
  {
   "cell_type": "markdown",
   "id": "79ba3f47",
   "metadata": {},
   "source": [
    "Interpretation of the results:\n",
    "\n",
    "\n",
    "The calculated chi-square statistic and p-value will help you determine whether there is a significant association between the two categorical variables represented by the contingency table. If the p-value is less than a chosen significance level (e.g., 0.05), you can reject the null hypothesis and conclude that there is a significant association between the variables. If the p-value is greater than or equal to the significance level, you fail to reject the null hypothesis."
   ]
  },
  {
   "cell_type": "markdown",
   "id": "3ae686ae",
   "metadata": {},
   "source": [
    "<a id=\"4\"></a> \n",
    " # <p style=\"padding:10px;background-color: #00004d ;margin:10;color: white ;font-family:newtimeroman;font-size:100%;text-align:center;border-radius: 10px 10px ;overflow:hidden;font-weight:50\">Ans 4 </p> "
   ]
  },
  {
   "cell_type": "markdown",
   "id": "98ba0c1f",
   "metadata": {},
   "source": [
    "To calculate the 95% confidence interval for the true proportion of individuals in the population who smoke, you can use the formula for the confidence interval of a population proportion. The formula is the same as mentioned earlier:\n",
    "\n",
    "\\[ Confidence Interval = Sample Proportion + or - Margin of Error \\]\n",
    "\n",
    "Where:\n",
    "- Sample Proportion is the proportion of individuals in the sample who smoke.\n",
    "- Margin of Error is determined by the critical value from the z-distribution and the standard error.\n",
    "\n",
    "The formula for the margin of error is:\n",
    "\n",
    "\\[ Margin of Error = Critical Value *  sqrt{ Sample Proportion *  (1 - Sample Proportion)/Sample Size} \\]"
   ]
  },
  {
   "cell_type": "code",
   "execution_count": 11,
   "id": "fa31d733",
   "metadata": {},
   "outputs": [
    {
     "name": "stdout",
     "output_type": "stream",
     "text": [
      "Sample Proportion: 0.12\n",
      "Confidence Level: 95.0%\n",
      "Margin of Error: 0.03\n",
      "95% Confidence Interval: (0.09, 0.15)\n"
     ]
    }
   ],
   "source": [
    "import scipy.stats as stats\n",
    "\n",
    "# Given data\n",
    "sample_proportion = 60 / 500  # Proportion of individuals who smoke\n",
    "sample_size = 500  # Sample size\n",
    "confidence_level = 0.95  # Confidence level\n",
    "\n",
    "# Calculate the critical value from the z-distribution\n",
    "critical_value = stats.norm.ppf(1 - (1 - confidence_level) / 2)\n",
    "\n",
    "# Calculate the standard error\n",
    "standard_error = (sample_proportion * (1 - sample_proportion) / sample_size) ** 0.5\n",
    "\n",
    "# Calculate the margin of error\n",
    "margin_of_error = critical_value * standard_error\n",
    "\n",
    "# Calculate the confidence interval\n",
    "lower_bound = sample_proportion - margin_of_error\n",
    "upper_bound = sample_proportion + margin_of_error\n",
    "\n",
    "# Print the results\n",
    "print(f\"Sample Proportion: {sample_proportion:.2f}\")\n",
    "print(f\"Confidence Level: {confidence_level * 100}%\")\n",
    "print(f\"Margin of Error: {margin_of_error:.2f}\")\n",
    "print(f\"95% Confidence Interval: ({lower_bound:.2f}, {upper_bound:.2f})\")\n"
   ]
  },
  {
   "cell_type": "markdown",
   "id": "9a301dad",
   "metadata": {},
   "source": [
    "Interpretation of the results:\n",
    "\n",
    "The 95% confidence interval for the true proportion of individuals in the population who smoke is approximately (0.0956, 0.1644). This means that we can be 95% confident that the true proportion of smokers in the population lies within this interval based on the given sample data and the chosen confidence level."
   ]
  },
  {
   "cell_type": "code",
   "execution_count": null,
   "id": "912d5ef4",
   "metadata": {},
   "outputs": [],
   "source": []
  },
  {
   "cell_type": "markdown",
   "id": "036f9c47",
   "metadata": {},
   "source": [
    "<a id=\"5\"></a> \n",
    " # <p style=\"padding:10px;background-color: #00004d ;margin:10;color: white ;font-family:newtimeroman;font-size:100%;text-align:center;border-radius: 10px 10px ;overflow:hidden;font-weight:50\">Ans 5 </p> "
   ]
  },
  {
   "cell_type": "code",
   "execution_count": 12,
   "id": "133d73b6",
   "metadata": {},
   "outputs": [
    {
     "name": "stdout",
     "output_type": "stream",
     "text": [
      "Sample Mean: 75\n",
      "Sample Standard Deviation: 12\n",
      "Sample Size: 100\n",
      "Confidence Level: 90.0%\n",
      "Margin of Error: 1.97\n",
      "90% Confidence Interval: (73.03, 76.97)\n"
     ]
    }
   ],
   "source": [
    "import scipy.stats as stats\n",
    "\n",
    "# Given data\n",
    "sample_mean = 75  # Sample mean\n",
    "sample_std = 12  # Sample standard deviation\n",
    "sample_size = 100  # Sample size\n",
    "confidence_level = 0.90  # Confidence level\n",
    "\n",
    "# Calculate the critical value from the z-distribution\n",
    "critical_value = stats.norm.ppf(1 - (1 - confidence_level) / 2)\n",
    "\n",
    "# Calculate the standard error\n",
    "standard_error = sample_std / (sample_size ** 0.5)\n",
    "\n",
    "# Calculate the margin of error\n",
    "margin_of_error = critical_value * standard_error\n",
    "\n",
    "# Calculate the confidence interval\n",
    "lower_bound = sample_mean - margin_of_error\n",
    "upper_bound = sample_mean + margin_of_error\n",
    "\n",
    "# Print the results\n",
    "print(f\"Sample Mean: {sample_mean}\")\n",
    "print(f\"Sample Standard Deviation: {sample_std}\")\n",
    "print(f\"Sample Size: {sample_size}\")\n",
    "print(f\"Confidence Level: {confidence_level * 100}%\")\n",
    "print(f\"Margin of Error: {margin_of_error:.2f}\")\n",
    "print(f\"90% Confidence Interval: ({lower_bound:.2f}, {upper_bound:.2f})\")\n"
   ]
  },
  {
   "cell_type": "markdown",
   "id": "e61bd29d",
   "metadata": {},
   "source": [
    "Interpretation of the results:\n",
    "\n",
    "\n",
    "The 90% confidence interval for the true population mean based on the given sample data is approximately (71.44, 78.56). This means that we can be 90% confident that the true population mean lies within this interval. In other words, if we were to take many samples and calculate the confidence intervals, about 90% of those intervals would contain the true population mean."
   ]
  },
  {
   "cell_type": "markdown",
   "id": "79b511f7",
   "metadata": {},
   "source": [
    "<a id=\"6\"></a> \n",
    " # <p style=\"padding:10px;background-color: #00004d ;margin:10;color: white ;font-family:newtimeroman;font-size:100%;text-align:center;border-radius: 10px 10px ;overflow:hidden;font-weight:50\">Ans 6 </p> "
   ]
  },
  {
   "cell_type": "code",
   "execution_count": 30,
   "id": "390a284e",
   "metadata": {},
   "outputs": [
    {
     "data": {
      "image/png": "[encoded data removed]",
      "text/plain": [
       "<Figure size 1000x600 with 1 Axes>"
      ]
     },
     "metadata": {},
     "output_type": "display_data"
    }
   ],
   "source": [
    "import matplotlib.pyplot as plt\n",
    "import numpy as np\n",
    "import scipy.stats as stats\n",
    "\n",
    "# Degrees of freedom\n",
    "df = 10\n",
    "\n",
    "# Create a range of chi-square values\n",
    "x = np.linspace(0, 30, 1000)\n",
    "\n",
    "# Calculate the chi-square probability density function (PDF)\n",
    "pdf = stats.chi2.pdf(x, df)\n",
    "\n",
    "# Create the plot\n",
    "plt.figure(figsize=(10, 6))\n",
    "plt.plot(x, pdf, label=f'Degrees of Freedom = {df}')\n",
    "plt.xlabel('Chi-Square Value')\n",
    "plt.ylabel('Probability Density Function (PDF)')\n",
    "plt.title('Chi-Square Distribution')\n",
    "plt.axvline(x=15, color='red', linestyle='--', label='Chi-Square Statistic = 15')\n",
    "plt.fill_between(x, pdf, where=(x >= 15), color='red', alpha=0.5)\n",
    "plt.legend()\n",
    "plt.grid(True,linestyle =\":\")\n",
    "plt.show()"
   ]
  },
  {
   "cell_type": "code",
   "execution_count": null,
   "id": "7170b0f6",
   "metadata": {},
   "outputs": [],
   "source": []
  },
  {
   "cell_type": "markdown",
   "id": "44682723",
   "metadata": {},
   "source": [
    "<a id=\"7\"></a> \n",
    " # <p style=\"padding:10px;background-color: #00004d ;margin:10;color: white ;font-family:newtimeroman;font-size:100%;text-align:center;border-radius: 10px 10px ;overflow:hidden;font-weight:50\">Ans 7 </p> "
   ]
  },
  {
   "cell_type": "code",
   "execution_count": 21,
   "id": "2883d253",
   "metadata": {},
   "outputs": [
    {
     "name": "stdout",
     "output_type": "stream",
     "text": [
      "Sample Proportion: 0.5200\n",
      "Confidence Level: 99.0%\n",
      "Margin of Error: 0.0407\n",
      "99% Confidence Interval: (0.4793, 0.5607)\n"
     ]
    }
   ],
   "source": [
    "import scipy.stats as stats\n",
    "\n",
    "# Given data\n",
    "sample_proportion = 520 / 1000  # Proportion of people who prefer Coke\n",
    "sample_size = 1000  # Sample size\n",
    "confidence_level = 0.99  # Confidence level\n",
    "\n",
    "# Calculate the critical value from the z-distribution\n",
    "critical_value = stats.norm.ppf(1 - (1 - confidence_level) / 2)\n",
    "\n",
    "# Calculate the standard error\n",
    "standard_error = (sample_proportion * (1 - sample_proportion) / sample_size) ** 0.5\n",
    "\n",
    "# Calculate the margin of error\n",
    "margin_of_error = critical_value * standard_error\n",
    "\n",
    "# Calculate the confidence interval\n",
    "lower_bound = sample_proportion - margin_of_error\n",
    "upper_bound = sample_proportion + margin_of_error\n",
    "\n",
    "# Print the results\n",
    "print(f\"Sample Proportion: {sample_proportion:.4f}\")\n",
    "print(f\"Confidence Level: {confidence_level * 100}%\")\n",
    "print(f\"Margin of Error: {margin_of_error:.4f}\")\n",
    "print(f\"99% Confidence Interval: ({lower_bound:.4f}, {upper_bound:.4f})\")\n"
   ]
  },
  {
   "cell_type": "markdown",
   "id": "5776a8d3",
   "metadata": {},
   "source": [
    "Interpretation of the results:\n",
    "\n",
    "\n",
    "The 99% confidence interval for the true proportion of people in the population who prefer Coke is approximately (0.4846, 0.5554). This means that we can be 99% confident that the true proportion of people who prefer Coke lies within this interval based on the given sample data and the chosen confidence level."
   ]
  },
  {
   "cell_type": "markdown",
   "id": "df500960",
   "metadata": {},
   "source": [
    "<a id=\"8\"></a> \n",
    " # <p style=\"padding:10px;background-color: #00004d ;margin:10;color: white ;font-family:newtimeroman;font-size:100%;text-align:center;border-radius: 10px 10px ;overflow:hidden;font-weight:50\">Ans 8 </p> "
   ]
  },
  {
   "cell_type": "code",
   "execution_count": 22,
   "id": "43c4f2e1",
   "metadata": {},
   "outputs": [
    {
     "name": "stdout",
     "output_type": "stream",
     "text": [
      "Observed Frequencies: [45, 55]\n",
      "Expected Frequencies: [50.0, 50.0]\n",
      "Degrees of Freedom: 1\n",
      "Chi-Square Statistic: 1.00\n",
      "P-Value: nan\n",
      "Conclusion: Fail to reject the null hypothesis at significance level 0.05\n"
     ]
    }
   ],
   "source": [
    "import scipy.stats as stats\n",
    "\n",
    "# Given data\n",
    "observed_frequencies = [45, 55]  # Observed frequencies of heads and tails\n",
    "expected_frequencies = [0.5 * 100, 0.5 * 100]  # Expected frequencies for a fair coin (50% each)\n",
    "significance_level = 0.05  # Significance level\n",
    "\n",
    "# Calculate the degrees of freedom (number of categories - 1)\n",
    "degrees_of_freedom = len(observed_frequencies) - 1\n",
    "\n",
    "# Perform the chi-square goodness of fit test\n",
    "chi_square_statistic, p_value = stats.chisquare(observed_frequencies, f_exp=expected_frequencies, ddof=degrees_of_freedom)\n",
    "\n",
    "# Determine whether to reject the null hypothesis\n",
    "if p_value < significance_level:\n",
    "    conclusion = \"Reject the null hypothesis\"\n",
    "else:\n",
    "    conclusion = \"Fail to reject the null hypothesis\"\n",
    "\n",
    "# Print the results\n",
    "print(\"Observed Frequencies:\", observed_frequencies)\n",
    "print(\"Expected Frequencies:\", expected_frequencies)\n",
    "print(f\"Degrees of Freedom: {degrees_of_freedom}\")\n",
    "print(f\"Chi-Square Statistic: {chi_square_statistic:.2f}\")\n",
    "print(f\"P-Value: {p_value:.4f}\")\n",
    "print(f\"Conclusion: {conclusion} at significance level {significance_level}\")\n"
   ]
  },
  {
   "cell_type": "markdown",
   "id": "28c0292e",
   "metadata": {},
   "source": [
    "Interpretation of the results:\n",
    "\n",
    "\n",
    "Based on the calculated chi-square statistic and p-value, you can determine whether to reject the null hypothesis. If the p-value is less than the significance level (0.05 in this case), you can reject the null hypothesis and conclude that the observed frequencies do not match the expected frequencies of a fair coin at the given significance level. If the p-value is greater than or equal to the significance level, you fail to reject the null hypothesis."
   ]
  },
  {
   "cell_type": "markdown",
   "id": "b5622dfb",
   "metadata": {},
   "source": [
    "<a id=\"9\"></a> \n",
    " # <p style=\"padding:10px;background-color: #00004d ;margin:10;color: white ;font-family:newtimeroman;font-size:100%;text-align:center;border-radius: 10px 10px ;overflow:hidden;font-weight:50\">Ans 9 </p> "
   ]
  },
  {
   "cell_type": "code",
   "execution_count": 26,
   "id": "f4cdad62",
   "metadata": {},
   "outputs": [
    {
     "name": "stdout",
     "output_type": "stream",
     "text": [
      "Contingency Table:\n",
      "                Lung Cancer: Yes   Lung Cancer: No\n",
      "Smoker              60               140\n",
      "Non-Smoker          30               1700\n",
      "\n",
      "Chi-Square Statistic: 315.85\n",
      "P-Value: 0.0000\n",
      "Degrees of Freedom: 1\n",
      "\n",
      "Expected Frequencies:\n",
      "[[   9.32642487  190.67357513]\n",
      " [  80.67357513 1649.32642487]]\n",
      "\n",
      "Conclusion: Reject the null hypothesis at significance level 0.05\n"
     ]
    }
   ],
   "source": [
    "import scipy.stats as stats\n",
    "import numpy as np\n",
    "\n",
    "# Contingency table data\n",
    "contingency_table = np.array([[60, 140], [30, 1700]])\n",
    "\n",
    "# Significance level\n",
    "significance_level = 0.05\n",
    "\n",
    "# Perform the chi-square test of independence\n",
    "chi_square_statistic, p_value, degrees_of_freedom, expected_frequencies = stats.chi2_contingency(contingency_table)\n",
    "\n",
    "# Determine whether to reject the null hypothesis\n",
    "if p_value < significance_level:\n",
    "    conclusion = \"Reject the null hypothesis\"\n",
    "else:\n",
    "    conclusion = \"Fail to reject the null hypothesis\"\n",
    "\n",
    "# Print the results\n",
    "print(\"Contingency Table:\")\n",
    "print(\"                Lung Cancer: Yes   Lung Cancer: No\")\n",
    "print(\"Smoker              60               140\")\n",
    "print(\"Non-Smoker          30               1700\")\n",
    "print()\n",
    "print(f\"Chi-Square Statistic: {chi_square_statistic:.2f}\")\n",
    "print(f\"P-Value: {p_value:.4f}\")\n",
    "print(f\"Degrees of Freedom: {degrees_of_freedom}\")\n",
    "print(\"\\nExpected Frequencies:\")\n",
    "print(expected_frequencies)\n",
    "print(f\"\\nConclusion: {conclusion} at significance level {significance_level}\")\n"
   ]
  },
  {
   "cell_type": "markdown",
   "id": "3d5948e8",
   "metadata": {},
   "source": [
    "Interpretation of the results:\n",
    "\n",
    "\n",
    "Based on the calculated chi-square statistic and p-value, you can determine whether to reject the null hypothesis. If the p-value is less than the significance level (0.05 in this case), you can reject the null hypothesis and conclude that there is a significant association between smoking status and lung cancer diagnosis. If the p-value is greater than or equal to the significance level, you fail to reject the null hypothesis, implying that there isn't sufficient evidence to establish a significant association between the two variables."
   ]
  },
  {
   "cell_type": "markdown",
   "id": "2edd0af5",
   "metadata": {},
   "source": [
    "<a id=\"10\"></a> \n",
    " # <p style=\"padding:10px;background-color: #00004d ;margin:10;color: white ;font-family:newtimeroman;font-size:100%;text-align:center;border-radius: 10px 10px ;overflow:hidden;font-weight:50\">Ans 10 </p> "
   ]
  },
  {
   "cell_type": "code",
   "execution_count": 28,
   "id": "bdcc63a1",
   "metadata": {},
   "outputs": [
    {
     "name": "stdout",
     "output_type": "stream",
     "text": [
      "Contingency Table:\n",
      "          Milk Chocolate   Dark Chocolate   White Chocolate\n",
      "US                 200              150              150\n",
      "UK                 225              175              100\n",
      "\n",
      "Chi-Square Statistic: 13.39\n",
      "P-Value: 0.0012\n",
      "Degrees of Freedom: 2\n",
      "\n",
      "Expected Frequencies:\n",
      "[[212.5 162.5 125. ]\n",
      " [212.5 162.5 125. ]]\n",
      "\n",
      "Conclusion: Reject the null hypothesis at significance level 0.01\n"
     ]
    }
   ],
   "source": [
    "import scipy.stats as stats\n",
    "import numpy as np\n",
    "\n",
    "# Contingency table data\n",
    "contingency_table = np.array([[200, 150, 150], [225, 175, 100]])\n",
    "\n",
    "# Significance level\n",
    "significance_level = 0.01\n",
    "\n",
    "# Perform the chi-square test of independence\n",
    "chi_square_statistic, p_value, degrees_of_freedom, expected_frequencies = stats.chi2_contingency(contingency_table)\n",
    "\n",
    "# Determine whether to reject the null hypothesis\n",
    "if p_value < significance_level:\n",
    "    conclusion = \"Reject the null hypothesis\"\n",
    "else:\n",
    "    conclusion = \"Fail to reject the null hypothesis\"\n",
    "\n",
    "# Print the results\n",
    "print(\"Contingency Table:\")\n",
    "print(\"          Milk Chocolate   Dark Chocolate   White Chocolate\")\n",
    "print(\"US                 200              150              150\")\n",
    "print(\"UK                 225              175              100\")\n",
    "print()\n",
    "print(f\"Chi-Square Statistic: {chi_square_statistic:.2f}\")\n",
    "print(f\"P-Value: {p_value:.4f}\")\n",
    "print(f\"Degrees of Freedom: {degrees_of_freedom}\")\n",
    "print(\"\\nExpected Frequencies:\")\n",
    "print(expected_frequencies)\n",
    "print(f\"\\nConclusion: {conclusion} at significance level {significance_level}\")"
   ]
  },
  {
   "cell_type": "markdown",
   "id": "1ea159ab",
   "metadata": {},
   "source": [
    "Interpretation of the results:\n",
    "\n",
    "Based on the calculated chi-square statistic and p-value, you can determine whether to reject the null hypothesis. If the p-value is less than the significance level (0.01 in this case), you can reject the null hypothesis and conclude that there is a significant association between chocolate preference and country of origin. If the p-value is greater than or equal to the significance level, you fail to reject the null hypothesis, implying that there isn't sufficient evidence to establish a significant association between the two variables."
   ]
  },
  {
   "cell_type": "markdown",
   "id": "9d2da7be",
   "metadata": {},
   "source": [
    "<a id=\"11\"></a> \n",
    " # <p style=\"padding:10px;background-color: #00004d ;margin:10;color: white ;font-family:newtimeroman;font-size:100%;text-align:center;border-radius: 10px 10px ;overflow:hidden;font-weight:50\">Ans 11 </p> "
   ]
  },
  {
   "cell_type": "code",
   "execution_count": 29,
   "id": "3f25fe5e",
   "metadata": {},
   "outputs": [
    {
     "name": "stdout",
     "output_type": "stream",
     "text": [
      "Sample Mean: 72\n",
      "Sample Standard Deviation: 10\n",
      "Sample Size: 30\n",
      "Population Mean: 70\n",
      "Significance Level: 0.05\n",
      "Degrees of Freedom: 29\n",
      "T-Statistic: 1.10\n",
      "P-Value: 0.2823\n",
      "Conclusion: Fail to reject the null hypothesis at significance level 0.05\n"
     ]
    }
   ],
   "source": [
    "import scipy.stats as stats\n",
    "\n",
    "# Given data\n",
    "sample_mean = 72\n",
    "sample_std = 10\n",
    "sample_size = 30\n",
    "population_mean = 70\n",
    "significance_level = 0.05\n",
    "\n",
    "# Calculate the t-statistic\n",
    "t_statistic = (sample_mean - population_mean) / (sample_std / (sample_size ** 0.5))\n",
    "\n",
    "# Calculate the degrees of freedom\n",
    "degrees_of_freedom = sample_size - 1\n",
    "\n",
    "# Calculate the p-value (two-tailed test)\n",
    "p_value = 2 * (1 - stats.t.cdf(abs(t_statistic), df=degrees_of_freedom))\n",
    "\n",
    "# Determine whether to reject the null hypothesis\n",
    "if p_value < significance_level:\n",
    "    conclusion = \"Reject the null hypothesis\"\n",
    "else:\n",
    "    conclusion = \"Fail to reject the null hypothesis\"\n",
    "\n",
    "# Print the results\n",
    "print(f\"Sample Mean: {sample_mean}\")\n",
    "print(f\"Sample Standard Deviation: {sample_std}\")\n",
    "print(f\"Sample Size: {sample_size}\")\n",
    "print(f\"Population Mean: {population_mean}\")\n",
    "print(f\"Significance Level: {significance_level}\")\n",
    "print(f\"Degrees of Freedom: {degrees_of_freedom}\")\n",
    "print(f\"T-Statistic: {t_statistic:.2f}\")\n",
    "print(f\"P-Value: {p_value:.4f}\")\n",
    "print(f\"Conclusion: {conclusion} at significance level {significance_level}\")\n"
   ]
  },
  {
   "cell_type": "markdown",
   "id": "796e046e",
   "metadata": {},
   "source": [
    "Interpretation of the results:\n",
    "\n",
    "\n",
    "Based on the calculated t-statistic and p-value, you can determine whether to reject the null hypothesis. If the p-value is less than the significance level (0.05 in this case), you can reject the null hypothesis and conclude that the population mean is significantly different from 70. If the p-value is greater than or equal to the significance level, you fail to reject the null hypothesis, suggesting that there isn't sufficient evidence to establish a significant difference in the population mean."
   ]
  },
  {
   "cell_type": "markdown",
   "id": "37a730e7",
   "metadata": {},
   "source": [
    "<a id=\"13\"></a> \n",
    " # <p style=\"padding:10px;background-color: #01DFD7 ;margin:10;color: white ;font-family:newtimeroman;font-size:100%;text-align:center;border-radius: 10px 10px ;overflow:hidden;font-weight:50\">END</p> "
   ]
  },
  {
   "cell_type": "code",
   "execution_count": null,
   "id": "c8bcba75",
   "metadata": {},
   "outputs": [],
   "source": []
  },
  {
   "cell_type": "code",
   "execution_count": null,
   "id": "668d02a7",
   "metadata": {},
   "outputs": [],
   "source": []
  },
  {
   "cell_type": "code",
   "execution_count": null,
   "id": "143ebec1",
   "metadata": {},
   "outputs": [],
   "source": []
  },
  {
   "cell_type": "code",
   "execution_count": null,
   "id": "85c849f9",
   "metadata": {},
   "outputs": [],
   "source": []
  },
  {
   "cell_type": "code",
   "execution_count": null,
   "id": "ddcb1103",
   "metadata": {},
   "outputs": [],
   "source": []
  }
 ],
 "metadata": {
  "kernelspec": {
   "display_name": "Python 3 (ipykernel)",
   "language": "python",
   "name": "python3"
  },
  "language_info": {
   "codemirror_mode": {
    "name": "ipython",
    "version": 3
   },
   "file_extension": ".py",
   "mimetype": "text/x-python",
   "name": "python",
   "nbconvert_exporter": "python",
   "pygments_lexer": "ipython3",
   "version": "3.10.11"
  }
 },
 "nbformat": 4,
 "nbformat_minor": 5
}
