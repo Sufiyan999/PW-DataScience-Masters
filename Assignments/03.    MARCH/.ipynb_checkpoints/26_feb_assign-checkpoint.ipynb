{
 "cells": [
  {
   "cell_type": "markdown",
   "id": "3521865f-f532-488c-93a6-d6977016c6ad",
   "metadata": {},
   "source": [
    "## ANS_1"
   ]
  },
  {
   "cell_type": "code",
   "execution_count": 1,
   "id": "5c0c6b7f-79f4-4d8e-94b6-e3ecc16e339d",
   "metadata": {},
   "outputs": [
    {
     "name": "stdout",
     "output_type": "stream",
     "text": [
      "Data type of list_: <class 'list'>\n",
      "Data type of array_list: <class 'numpy.ndarray'>\n"
     ]
    }
   ],
   "source": [
    "import numpy as np\n",
    "\n",
    "list_ = ['1', '2', '3', '4', '5']\n",
    "array_list = np.array(object=list_)\n",
    "\n",
    "print(\"Data type of list_:\", type(list_))\n",
    "print(\"Data type of array_list:\", type(array_list))"
   ]
  },
  {
   "cell_type": "code",
   "execution_count": null,
   "id": "7bc45b29-f79b-4d52-81f4-1ee567335017",
   "metadata": {},
   "outputs": [],
   "source": []
  },
  {
   "cell_type": "markdown",
   "id": "fa7557b4-dea4-4f39-80e0-3cbca7098eab",
   "metadata": {},
   "source": [
    "## ANS_2"
   ]
  },
  {
   "cell_type": "code",
   "execution_count": 2,
   "id": "f10c7cb3-5c3c-4109-a9cf-d6cd966b4c74",
   "metadata": {},
   "outputs": [
    {
     "name": "stdout",
     "output_type": "stream",
     "text": [
      "Data types of elements in list_:\n",
      "<class 'str'>\n",
      "<class 'str'>\n",
      "<class 'str'>\n",
      "<class 'str'>\n",
      "<class 'str'>\n",
      "\n",
      "Data types of elements in array_list:\n",
      "<class 'numpy.str_'>\n",
      "<class 'numpy.str_'>\n",
      "<class 'numpy.str_'>\n",
      "<class 'numpy.str_'>\n",
      "<class 'numpy.str_'>\n"
     ]
    }
   ],
   "source": [
    "import numpy as np\n",
    "\n",
    "list_ = ['1', '2', '3', '4', '5']\n",
    "array_list = np.array(object=list_)\n",
    "\n",
    "# Print data types of elements in list_\n",
    "print(\"Data types of elements in list_:\")\n",
    "for element in list_:\n",
    "    print(type(element))\n",
    "\n",
    "# Print data types of elements in array_list\n",
    "print(\"\\nData types of elements in array_list:\")\n",
    "for element in array_list:\n",
    "    print(type(element))"
   ]
  },
  {
   "cell_type": "markdown",
   "id": "173e2442-01d5-4661-abe4-7b8cce443caf",
   "metadata": {},
   "source": [
    "\n",
    "## ANS_3"
   ]
  },
  {
   "cell_type": "markdown",
   "id": "3ad0fcf6-b324-44d8-a6d0-6b9e06755797",
   "metadata": {},
   "source": [
    " there will be a difference in the data types of the elements between list_ and array_list due to the specified dtype when creating the NumPy array. In this case, by setting dtype=int, the elements of array_list will be converted to integers"
   ]
  },
  {
   "cell_type": "code",
   "execution_count": 3,
   "id": "c7d7defd-fca5-4855-956e-c93b5fac0ce2",
   "metadata": {},
   "outputs": [
    {
     "name": "stdout",
     "output_type": "stream",
     "text": [
      "Data types of elements in list_:\n",
      "<class 'str'>\n",
      "<class 'str'>\n",
      "<class 'str'>\n",
      "<class 'str'>\n",
      "<class 'str'>\n",
      "\n",
      "Data types of elements in array_list:\n",
      "<class 'numpy.int32'>\n",
      "<class 'numpy.int32'>\n",
      "<class 'numpy.int32'>\n",
      "<class 'numpy.int32'>\n",
      "<class 'numpy.int32'>\n"
     ]
    }
   ],
   "source": [
    "import numpy as np\n",
    "\n",
    "list_ = ['1', '2', '3', '4', '5']\n",
    "array_list = np.array(object=list_, dtype=int)\n",
    "\n",
    "# Print data types of elements in list_\n",
    "print(\"Data types of elements in list_:\")\n",
    "for element in list_:\n",
    "    print(type(element))\n",
    "\n",
    "# Print data types of elements in array_list\n",
    "print(\"\\nData types of elements in array_list:\")\n",
    "for element in array_list:\n",
    "    print(type(element))"
   ]
  },
  {
   "cell_type": "markdown",
   "id": "fd25ea80-b955-4c72-a831-e85531c70280",
   "metadata": {},
   "source": [
    "## Ans_4"
   ]
  },
  {
   "cell_type": "code",
   "execution_count": 8,
   "id": "38a7debc-31fb-4394-be8f-79f4c237291e",
   "metadata": {},
   "outputs": [
    {
     "name": "stdout",
     "output_type": "stream",
     "text": [
      " Shape of num_array: (2, 3)\n"
     ]
    }
   ],
   "source": [
    "import numpy as np\n",
    "\n",
    "num_list = [[1, 2, 3], [4, 5, 6]]\n",
    "num_array = np.array(object=num_list)\n",
    "\n",
    "shape = num_array.shape\n",
    "print(\" Shape of num_array:\", shape)"
   ]
  },
  {
   "cell_type": "code",
   "execution_count": 9,
   "id": "0f685eed-6c90-407e-b179-869a98b8d66d",
   "metadata": {},
   "outputs": [
    {
     "name": "stdout",
     "output_type": "stream",
     "text": [
      " Size of num_array: 6\n"
     ]
    }
   ],
   "source": [
    "size = num_array.size\n",
    "print(\" Size of num_array:\", size)"
   ]
  },
  {
   "cell_type": "code",
   "execution_count": null,
   "id": "d5c808ee-064f-4d7e-a99f-2db008e1d494",
   "metadata": {},
   "outputs": [],
   "source": []
  },
  {
   "cell_type": "markdown",
   "id": "a01f2672-0b7f-4736-9a39-c27410e663d1",
   "metadata": {},
   "source": [
    "## ANS_5"
   ]
  },
  {
   "cell_type": "code",
   "execution_count": 18,
   "id": "20fd9c3d-ca63-4ae1-b585-5258520bb4d1",
   "metadata": {},
   "outputs": [
    {
     "data": {
      "text/plain": [
       "array([0, 0, 0, 0, 0, 0, 0, 0, 0])"
      ]
     },
     "execution_count": 18,
     "metadata": {},
     "output_type": "execute_result"
    }
   ],
   "source": [
    "import numpy as np\n",
    "\n",
    "num_list = [0 for i in range(9)]\n",
    "num_array = np.array(object=num_list)\n",
    "num_array"
   ]
  },
  {
   "cell_type": "code",
   "execution_count": 19,
   "id": "3672334c-c00b-4da8-9e16-879c3846fa99",
   "metadata": {},
   "outputs": [
    {
     "data": {
      "text/plain": [
       "array([[0, 0, 0],\n",
       "       [0, 0, 0],\n",
       "       [0, 0, 0]])"
      ]
     },
     "execution_count": 19,
     "metadata": {},
     "output_type": "execute_result"
    }
   ],
   "source": [
    "num_array.reshape(3,3)"
   ]
  },
  {
   "cell_type": "code",
   "execution_count": 34,
   "id": "247bcc74-bea4-4af8-ab33-9d63f6c242d6",
   "metadata": {},
   "outputs": [
    {
     "data": {
      "text/plain": [
       "array([[0, 0, 0],\n",
       "       [0, 0, 0],\n",
       "       [0, 0, 0]])"
      ]
     },
     "execution_count": 34,
     "metadata": {},
     "output_type": "execute_result"
    }
   ],
   "source": [
    "new_array = np.reshape(np.array(object=num_list) ,(3,3))\n",
    "new_array"
   ]
  },
  {
   "cell_type": "code",
   "execution_count": 30,
   "id": "1ecb0763-fbea-4d56-a0ce-8f5a9f9d1944",
   "metadata": {},
   "outputs": [
    {
     "data": {
      "text/plain": [
       "array([[0, 0, 0],\n",
       "       [0, 0, 0],\n",
       "       [0, 0, 0]])"
      ]
     },
     "execution_count": 30,
     "metadata": {},
     "output_type": "execute_result"
    }
   ],
   "source": [
    "zeros_array = np.zeros((3, 3) , dtype=int)\n",
    "zeros_array"
   ]
  },
  {
   "cell_type": "markdown",
   "id": "54c9305b-7964-4914-90f8-0121088ad806",
   "metadata": {},
   "source": [
    "## ANS_6"
   ]
  },
  {
   "cell_type": "code",
   "execution_count": 40,
   "id": "6be396be-a290-481a-bc89-9b23e0b11bdb",
   "metadata": {},
   "outputs": [
    {
     "data": {
      "text/plain": [
       "array([[1, 0, 0, 0, 0],\n",
       "       [0, 1, 0, 0, 0],\n",
       "       [0, 0, 1, 0, 0],\n",
       "       [0, 0, 0, 1, 0],\n",
       "       [0, 0, 0, 0, 1]])"
      ]
     },
     "execution_count": 40,
     "metadata": {},
     "output_type": "execute_result"
    }
   ],
   "source": [
    "import numpy as np\n",
    "\n",
    "# Create a 5x5 identity matrix using list comprehension\n",
    "identity_matrix_list = [[int(i == j) for j in range(5)] for i in range(5)]\n",
    "identity_matrix = np.array(identity_matrix_list)\n",
    "identity_matrix"
   ]
  },
  {
   "cell_type": "code",
   "execution_count": 43,
   "id": "7b2fec21-beb5-48e1-b0a3-bdb4201f1ae1",
   "metadata": {},
   "outputs": [
    {
     "data": {
      "text/plain": [
       "array([[1, 0, 0, 0, 0],\n",
       "       [0, 1, 0, 0, 0],\n",
       "       [0, 0, 1, 0, 0],\n",
       "       [0, 0, 0, 1, 0],\n",
       "       [0, 0, 0, 0, 1]])"
      ]
     },
     "execution_count": 43,
     "metadata": {},
     "output_type": "execute_result"
    }
   ],
   "source": [
    "# Create a 5x5 identity matrix\n",
    "identity_matrix = np.eye(5, dtype=int)\n",
    "identity_matrix"
   ]
  },
  {
   "cell_type": "code",
   "execution_count": null,
   "id": "87d6e3ce-3a41-43e7-b64c-56035bd2fd26",
   "metadata": {},
   "outputs": [],
   "source": []
  },
  {
   "cell_type": "code",
   "execution_count": null,
   "id": "c643a991-8d17-4f96-9b86-c67de2ee4540",
   "metadata": {},
   "outputs": [],
   "source": []
  }
 ],
 "metadata": {
  "kernelspec": {
   "display_name": "Python 3 (ipykernel)",
   "language": "python",
   "name": "python3"
  },
  "language_info": {
   "codemirror_mode": {
    "name": "ipython",
    "version": 3
   },
   "file_extension": ".py",
   "mimetype": "text/x-python",
   "name": "python",
   "nbconvert_exporter": "python",
   "pygments_lexer": "ipython3",
   "version": "3.10.11"
  }
 },
 "nbformat": 4,
 "nbformat_minor": 5
}
