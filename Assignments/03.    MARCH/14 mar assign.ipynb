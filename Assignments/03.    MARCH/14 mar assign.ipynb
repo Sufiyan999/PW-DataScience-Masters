{
 "cells": [
  {
   "cell_type": "markdown",
   "id": "aa4c6106",
   "metadata": {},
   "source": [
    "<a id=\"1\"></a> \n",
    " # <p style=\"padding:10px;background-color: #00004d ;margin:10;color: white ;font-family:newtimeroman;font-size:100%;text-align:center;border-radius: 10px 10px ;overflow:hidden;font-weight:50\">Ans 1 </p> "
   ]
  },
  {
   "cell_type": "code",
   "execution_count": 7,
   "id": "73370162",
   "metadata": {},
   "outputs": [
    {
     "name": "stdout",
     "output_type": "stream",
     "text": [
      "F-Value: 3.0963855421686746\n",
      "P-Value: 0.14968466313861173\n"
     ]
    }
   ],
   "source": [
    "import numpy as np\n",
    "from scipy import stats\n",
    "\n",
    "def variance_ratio_test(data1, data2):\n",
    "    \"\"\"\n",
    "    Perform a variance ratio test (F-test) on two arrays of data.\n",
    "\n",
    "    Parameters:\n",
    "        data1 (array-like): First array of data.\n",
    "        data2 (array-like): Second array of data.\n",
    "\n",
    "    Returns:\n",
    "        f_value (float): Calculated F-value for the test.\n",
    "        p_value (float): Corresponding p-value for the test.\n",
    "    \"\"\"\n",
    "    # Calculate the variances of the two data sets\n",
    "    var1 = np.var(data1, ddof=1)  # Using ddof=1 for unbiased sample variance\n",
    "    var2 = np.var(data2, ddof=1)\n",
    "\n",
    "    # Ensure var1 is the larger variance\n",
    "    if var2 > var1:\n",
    "        var1, var2 = var2, var1\n",
    "        data1, data2 = data2, data1\n",
    "\n",
    "    # Calculate the F-value and p-value\n",
    "    f_value = var1 / var2\n",
    "    degrees_freedom1 = len(data1) - 1\n",
    "    degrees_freedom2 = len(data2) - 1\n",
    "    p_value = 1 - stats.f.cdf(f_value, degrees_freedom1, degrees_freedom2)\n",
    "\n",
    "    return f_value, p_value\n",
    "\n",
    "\n",
    "data1 = [14, 15, 18, 19, 21]\n",
    "data2 = [12, 16, 19, 22, 25]\n",
    "f_value, p_value = variance_ratio_test(data1, data2)\n",
    "print(\"F-Value:\", f_value)\n",
    "print(\"P-Value:\", p_value)"
   ]
  },
  {
   "cell_type": "code",
   "execution_count": null,
   "id": "cdff3f9e",
   "metadata": {},
   "outputs": [],
   "source": []
  },
  {
   "cell_type": "markdown",
   "id": "599ab5ba",
   "metadata": {},
   "source": [
    "<a id=\"2\"></a> \n",
    " # <p style=\"padding:10px;background-color: #00004d ;margin:10;color: white ;font-family:newtimeroman;font-size:100%;text-align:center;border-radius: 10px 10px ;overflow:hidden;font-weight:50\">Ans 2 </p> "
   ]
  },
  {
   "cell_type": "code",
   "execution_count": 1,
   "id": "6c50f086",
   "metadata": {},
   "outputs": [
    {
     "name": "stdout",
     "output_type": "stream",
     "text": [
      "Critical F-Value: 3.858698666273216\n"
     ]
    }
   ],
   "source": [
    "from scipy.stats import f\n",
    "\n",
    "def critical_f_value(alpha, df_num, df_denom):\n",
    "    \"\"\"\n",
    "    Calculate the critical F-value for a two-tailed test.\n",
    "\n",
    "    Parameters:\n",
    "        alpha (float): Significance level (0.05 for example).\n",
    "        df_num (int): Degrees of freedom for the numerator.\n",
    "        df_denom (int): Degrees of freedom for the denominator.\n",
    "\n",
    "    Returns:\n",
    "        critical_f (float): Critical F-value for the test.\n",
    "    \"\"\"\n",
    "    critical_f = f.ppf(1 - alpha / 2, df_num, df_denom)\n",
    "    return critical_f\n",
    "\n",
    "# Example usage\n",
    "alpha = 0.05\n",
    "df_num = 3  # Degrees of freedom for numerator\n",
    "df_denom = 20  # Degrees of freedom for denominator\n",
    "critical_f = critical_f_value(alpha, df_num, df_denom)\n",
    "print(\"Critical F-Value:\", critical_f)\n"
   ]
  },
  {
   "cell_type": "code",
   "execution_count": null,
   "id": "d1a3277d",
   "metadata": {},
   "outputs": [],
   "source": []
  },
  {
   "cell_type": "markdown",
   "id": "0cdee154",
   "metadata": {},
   "source": [
    "<a id=\"3\"></a> \n",
    " # <p style=\"padding:10px;background-color: #00004d ;margin:10;color: white ;font-family:newtimeroman;font-size:100%;text-align:center;border-radius: 10px 10px ;overflow:hidden;font-weight:50\">Ans 3 </p> "
   ]
  },
  {
   "cell_type": "code",
   "execution_count": 2,
   "id": "4d1096af",
   "metadata": {},
   "outputs": [
    {
     "name": "stdout",
     "output_type": "stream",
     "text": [
      "F-Value: 1.3278548697929964\n",
      "Degrees of Freedom (Numerator): 29\n",
      "Degrees of Freedom (Denominator): 24\n",
      "P-Value: 0.7589995124468004\n"
     ]
    }
   ],
   "source": [
    "import numpy as np\n",
    "from scipy import stats\n",
    "\n",
    "# Parameters for the normal distributions\n",
    "mean1 = 0\n",
    "variance1 = 9\n",
    "mean2 = 0\n",
    "variance2 = 6\n",
    "sample_size1 = 30\n",
    "sample_size2 = 25\n",
    "\n",
    "# Generate random samples from the normal distributions\n",
    "np.random.seed(42)\n",
    "sample1 = np.random.normal(mean1, np.sqrt(variance1), size=sample_size1)\n",
    "sample2 = np.random.normal(mean2, np.sqrt(variance2), size=sample_size2)\n",
    "\n",
    "# Perform F-test for equality of variances\n",
    "f_value, p_value = np.var(sample1, ddof=1) / np.var(sample2, ddof=1), stats.f.cdf(np.var(sample1, ddof=1) / np.var(sample2, ddof=1), sample_size1 - 1, sample_size2 - 1)\n",
    "\n",
    "# Degrees of freedom\n",
    "df_num = sample_size1 - 1\n",
    "df_denom = sample_size2 - 1\n",
    "\n",
    "# Output results\n",
    "print(\"F-Value:\", f_value)\n",
    "print(\"Degrees of Freedom (Numerator):\", df_num)\n",
    "print(\"Degrees of Freedom (Denominator):\", df_denom)\n",
    "print(\"P-Value:\", p_value)\n"
   ]
  },
  {
   "cell_type": "code",
   "execution_count": null,
   "id": "bb73602c",
   "metadata": {},
   "outputs": [],
   "source": []
  },
  {
   "cell_type": "markdown",
   "id": "d5dac45a",
   "metadata": {},
   "source": [
    "<a id=\"4\"></a> \n",
    " # <p style=\"padding:10px;background-color: #00004d ;margin:10;color: white ;font-family:newtimeroman;font-size:100%;text-align:center;border-radius: 10px 10px ;overflow:hidden;font-weight:50\">Ans 4 </p> "
   ]
  },
  {
   "cell_type": "markdown",
   "id": "e631c62b",
   "metadata": {},
   "source": [
    "To conduct an F-test to determine if the variances of two populations are significantly different, we can follow these steps:\n",
    "\n",
    "**Step 1: Set Up Hypotheses**\n",
    "- Null Hypothesis (H0): The variances of the two populations are equal.\n",
    "- Alternative Hypothesis (Ha): The variances of the two populations are not equal.\n",
    "\n",
    "**Step 2: Choose Significance Level**\n",
    "Let's use a significance level (alpha) of 0.05.\n",
    "\n",
    "**Step 3: Calculate Test Statistic and P-Value**\n",
    "For an F-test, the test statistic follows an F-distribution with degrees of freedom. The formula for the F-test statistic is:\n",
    "\n",
    "\\[ F = s_1^2 / s_2^2 \\]\n",
    "\n",
    "Where \\( s_1^2 \\) is the sample variance of the first sample and \\( s_2^2 \\) is the sample variance of the second sample.\n",
    "\n",
    "Degrees of freedom for the numerator (\\( df_1 \\)) is the sample size minus 1 for each sample (since there are two samples), and degrees of freedom for the denominator (\\( df_2 \\)) is the sample size minus 1 for each sample.\n",
    "\n",
    "The p-value can be calculated using the cumulative distribution function (CDF) of the F-distribution.\n",
    "\n",
    "**Step 4: Compare P-Value with Significance Level**\n",
    "If the p-value is less than the chosen significance level (alpha), we reject the null hypothesis. Otherwise, we fail to reject the null hypothesis."
   ]
  },
  {
   "cell_type": "code",
   "execution_count": 5,
   "id": "d3e9c9ad",
   "metadata": {},
   "outputs": [
    {
     "name": "stdout",
     "output_type": "stream",
     "text": [
      "F-Test Statistic: 0.6666666666666666\n",
      "Degrees of Freedom (Numerator): 11\n",
      "Degrees of Freedom (Denominator): 11\n",
      "P-Value: 0.7438051006321\n",
      "Fail to reject the null hypothesis: Variances are not significantly different.\n"
     ]
    }
   ],
   "source": [
    "from scipy.stats import f\n",
    "\n",
    "\n",
    "variance1 = 10\n",
    "variance2 = 15\n",
    "sample_size = 12\n",
    "alpha = 0.05\n",
    "\n",
    "# Calculate degrees of freedom\n",
    "df1 = sample_size - 1\n",
    "df2 = sample_size - 1\n",
    "\n",
    "# Calculate F-test statistic\n",
    "f_test_statistic = variance1 / variance2\n",
    "\n",
    "# Calculate p-value\n",
    "p_value = 1 - f.cdf(f_test_statistic, df1, df2)\n",
    "\n",
    "\n",
    "print(\"F-Test Statistic:\", f_test_statistic)\n",
    "print(\"Degrees of Freedom (Numerator):\", df1)\n",
    "print(\"Degrees of Freedom (Denominator):\", df2)\n",
    "print(\"P-Value:\", p_value)\n",
    "\n",
    "# Compare p-value with alpha\n",
    "if p_value < alpha:\n",
    "    print(\"Reject the null hypothesis: Variances are significantly different.\")\n",
    "else:\n",
    "    print(\"Fail to reject the null hypothesis: Variances are not significantly different.\")"
   ]
  },
  {
   "cell_type": "markdown",
   "id": "6ea16a45",
   "metadata": {},
   "source": [
    "\n"
   ]
  },
  {
   "cell_type": "code",
   "execution_count": null,
   "id": "d633ed14",
   "metadata": {},
   "outputs": [],
   "source": []
  },
  {
   "cell_type": "markdown",
   "id": "569b1b1e",
   "metadata": {},
   "source": [
    "<a id=\"5\"></a> \n",
    " # <p style=\"padding:10px;background-color: #00004d ;margin:10;color: white ;font-family:newtimeroman;font-size:100%;text-align:center;border-radius: 10px 10px ;overflow:hidden;font-weight:50\">Ans 5 </p> "
   ]
  },
  {
   "cell_type": "markdown",
   "id": "abdfc254",
   "metadata": {},
   "source": [
    "To conduct an F-test to determine if the claim about the variance is justified, let's follow the steps mentioned earlier:\n",
    "\n",
    "**Step 1: Set Up Hypotheses**\n",
    "- Null Hypothesis (H0): The claimed variance is justified (population variance = 0.005).\n",
    "- Alternative Hypothesis (Ha): The claimed variance is not justified (population variance ≠ 0.005).\n",
    "\n",
    "**Step 2: Choose Significance Level**\n",
    "Let's use a significance level (alpha) of 0.01.\n",
    "\n",
    "**Step 3: Calculate Test Statistic and P-Value**\n",
    "For the F-test, the formula for the test statistic is:\n",
    "\n",
    "\\[ F =  s^2 / σ^2 \\]\n",
    "\n",
    "Where:\n",
    "- \\( s^2 \\) is the sample variance.\n",
    "- \\( σ^2 \\) is the claimed population variance.\n",
    "\n",
    "Degrees of freedom for the numerator (\\( df_1 \\)) is the sample size minus 1, and degrees of freedom for the denominator (\\( df_2 \\)) is the sample size minus 1.\n",
    "\n",
    "The p-value can be calculated using the cumulative distribution function (CDF) of the F-distribution.\n",
    "\n",
    "**Step 4: Compare P-Value with Significance Level**\n",
    "If the p-value is less than the chosen significance level (alpha), we reject the null hypothesis. Otherwise, we fail to reject the null hypothesis."
   ]
  },
  {
   "cell_type": "markdown",
   "id": "a133c765",
   "metadata": {},
   "source": []
  },
  {
   "cell_type": "code",
   "execution_count": 2,
   "id": "ca195a89",
   "metadata": {},
   "outputs": [
    {
     "name": "stdout",
     "output_type": "stream",
     "text": [
      "F-Test Statistic: 1.2\n",
      "Degrees of Freedom (Numerator): 24\n",
      "Degrees of Freedom (Denominator): 24\n",
      "P-Value: 0.3293654682817244\n",
      "Fail to reject the null hypothesis: Claimed variance is justified.\n"
     ]
    }
   ],
   "source": [
    "\n",
    "from scipy.stats import f\n",
    "\n",
    "# Given data\n",
    "claimed_variance = 0.005\n",
    "sample_variance = 0.006\n",
    "sample_size = 25\n",
    "alpha = 0.01\n",
    "\n",
    "# Calculate degrees of freedom\n",
    "df1 = sample_size - 1\n",
    "df2 = sample_size - 1\n",
    "\n",
    "# Calculate F-test statistic\n",
    "f_test_statistic = sample_variance / claimed_variance\n",
    "\n",
    "# Calculate p-value\n",
    "p_value = 1 - f.cdf(f_test_statistic, df1, df2)\n",
    "\n",
    "# Print results\n",
    "print(\"F-Test Statistic:\", f_test_statistic)\n",
    "print(\"Degrees of Freedom (Numerator):\", df1)\n",
    "print(\"Degrees of Freedom (Denominator):\", df2)\n",
    "print(\"P-Value:\", p_value)\n",
    "\n",
    "# Compare p-value with alpha\n",
    "if p_value < alpha:\n",
    "    print(\"Reject the null hypothesis: Claimed variance is not justified.\")\n",
    "else:\n",
    "    print(\"Fail to reject the null hypothesis: Claimed variance is justified.\")"
   ]
  },
  {
   "cell_type": "markdown",
   "id": "781a64e5",
   "metadata": {},
   "source": [
    "<a id=\"6\"></a> \n",
    " # <p style=\"padding:10px;background-color: #00004d ;margin:10;color: white ;font-family:newtimeroman;font-size:100%;text-align:center;border-radius: 10px 10px ;overflow:hidden;font-weight:50\">Ans 6 </p> "
   ]
  },
  {
   "cell_type": "code",
   "execution_count": 3,
   "id": "9bc238d4",
   "metadata": {},
   "outputs": [
    {
     "name": "stdout",
     "output_type": "stream",
     "text": [
      "Mean: 1.25\n",
      "Variance: 1.9097222222222223\n"
     ]
    }
   ],
   "source": [
    "def calculate_f_distribution_mean_variance(df1, df2):\n",
    "    if df1 <= 0 or df2 <= 0:\n",
    "        raise ValueError(\"Degrees of freedom must be positive.\")\n",
    "    \n",
    "    if df2 <= 2:\n",
    "        raise ValueError(\"Degrees of freedom for the denominator must be greater than 2.\")\n",
    "    \n",
    "    mean = df2 / (df2 - 2)\n",
    "    variance = (2 * (df2 ** 2) * (df1 + df2 - 2)) / (df1 * (df2 - 2) ** 2 * (df2 - 4))\n",
    "    \n",
    "    return mean, variance\n",
    "\n",
    "# Example usage\n",
    "df1 = 3\n",
    "df2 = 10\n",
    "mean, variance = calculate_f_distribution_mean_variance(df1, df2)\n",
    "print(\"Mean:\", mean)\n",
    "print(\"Variance:\", variance)\n"
   ]
  },
  {
   "cell_type": "code",
   "execution_count": null,
   "id": "f44b677b",
   "metadata": {},
   "outputs": [],
   "source": []
  },
  {
   "cell_type": "markdown",
   "id": "dc30dfef",
   "metadata": {},
   "source": [
    "<a id=\"7\"></a> \n",
    " # <p style=\"padding:10px;background-color: #00004d ;margin:10;color: white ;font-family:newtimeroman;font-size:100%;text-align:center;border-radius: 10px 10px ;overflow:hidden;font-weight:50\">Ans 7 </p> "
   ]
  },
  {
   "cell_type": "markdown",
   "id": "22f5c9e0",
   "metadata": {},
   "source": [
    "To conduct an F-test to determine if the variances of the two populations are significantly different, we can follow these steps:\n",
    "\n",
    "**Step 1: Set Up Hypotheses**\n",
    "- Null Hypothesis (H0): The variances of the two populations are equal.\n",
    "- Alternative Hypothesis (Ha): The variances of the two populations are not equal.\n",
    "\n",
    "**Step 2: Choose Significance Level**\n",
    "Let's use a significance level (alpha) of 0.10 (10%).\n",
    "\n",
    "**Step 3: Calculate Test Statistic and P-Value**\n",
    "For an F-test, the test statistic follows an F-distribution with degrees of freedom. The formula for the F-test statistic is:\n",
    "\n",
    "\\[ F = s_1^2 / s_2^2 \\]\n",
    "\n",
    "Where \\( s_1^2 \\) is the sample variance of the first sample and \\( s_2^2 \\) is the sample variance of the second sample.\n",
    "\n",
    "Degrees of freedom for the numerator (\\( df_1 \\)) is the sample size minus 1 for each sample, and degrees of freedom for the denominator (\\( df_2 \\)) is the sample size minus 1 for each sample.\n",
    "\n",
    "The p-value can be calculated using the cumulative distribution function (CDF) of the F-distribution.\n",
    "\n",
    "**Step 4: Compare P-Value with Significance Level**\n",
    "If the p-value is less than the chosen significance level (alpha), we reject the null hypothesis. Otherwise, we fail to reject the null hypothesis.\n"
   ]
  },
  {
   "cell_type": "code",
   "execution_count": 4,
   "id": "494c7ceb",
   "metadata": {},
   "outputs": [
    {
     "name": "stdout",
     "output_type": "stream",
     "text": [
      "F-Test Statistic: 1.25\n",
      "Degrees of Freedom (Numerator): 9\n",
      "Degrees of Freedom (Denominator): 14\n",
      "P-Value: 0.3416097191292976\n",
      "Fail to reject the null hypothesis: Variances are not significantly different.\n"
     ]
    }
   ],
   "source": [
    "from scipy.stats import f\n",
    "\n",
    "# Given data\n",
    "sample_variance1 = 25\n",
    "sample_size1 = 10\n",
    "\n",
    "sample_variance2 = 20\n",
    "sample_size2 = 15\n",
    "\n",
    "alpha = 0.10\n",
    "\n",
    "# Calculate degrees of freedom\n",
    "df1 = sample_size1 - 1\n",
    "df2 = sample_size2 - 1\n",
    "\n",
    "# Calculate F-test statistic\n",
    "f_test_statistic = sample_variance1 / sample_variance2\n",
    "\n",
    "# Calculate p-value\n",
    "p_value = 1 - f.cdf(f_test_statistic, df1, df2)\n",
    "\n",
    "# Print results\n",
    "print(\"F-Test Statistic:\", f_test_statistic)\n",
    "print(\"Degrees of Freedom (Numerator):\", df1)\n",
    "print(\"Degrees of Freedom (Denominator):\", df2)\n",
    "print(\"P-Value:\", p_value)\n",
    "\n",
    "# Compare p-value with alpha\n",
    "if p_value < alpha:\n",
    "    print(\"Reject the null hypothesis: Variances are significantly different.\")\n",
    "else:\n",
    "    print(\"Fail to reject the null hypothesis: Variances are not significantly different.\")\n"
   ]
  },
  {
   "cell_type": "code",
   "execution_count": null,
   "id": "fea33cbc",
   "metadata": {},
   "outputs": [],
   "source": []
  },
  {
   "cell_type": "markdown",
   "id": "d9e00ea1",
   "metadata": {},
   "source": [
    "<a id=\"8\"></a> \n",
    " # <p style=\"padding:10px;background-color: #00004d ;margin:10;color: white ;font-family:newtimeroman;font-size:100%;text-align:center;border-radius: 10px 10px ;overflow:hidden;font-weight:50\">Ans 8 </p> "
   ]
  },
  {
   "cell_type": "markdown",
   "id": "f09c5e57",
   "metadata": {},
   "source": [
    "To conduct an F-test to determine if the variances of the waiting times at the two restaurants are significantly different, we can follow these steps:\n",
    "\n",
    "**Step 1: Set Up Hypotheses**\n",
    "- Null Hypothesis (H0): The variances of the waiting times at the two restaurants are equal.\n",
    "- Alternative Hypothesis (Ha): The variances of the waiting times at the two restaurants are not equal.\n",
    "\n",
    "**Step 2: Choose Significance Level**\n",
    "Let's use a significance level (alpha) of 0.05 (5%).\n",
    "\n",
    "**Step 3: Calculate Test Statistic and P-Value**\n",
    "For an F-test, the test statistic follows an F-distribution. The formula for the F-test statistic is:\n",
    "\n",
    "\\[ F = s_1^2 / s_2^2 \\]\n",
    "\n",
    "Where \\( s_1^2 \\) is the sample variance of the waiting times at Restaurant A and \\( s_2^2 \\) is the sample variance of the waiting times at Restaurant B.\n",
    "\n",
    "Degrees of freedom for the numerator (\\( df_1 \\)) is the sample size minus 1 for Restaurant A, and degrees of freedom for the denominator (\\( df_2 \\)) is the sample size minus 1 for Restaurant B.\n",
    "\n",
    "The p-value can be calculated using the cumulative distribution function (CDF) of the F-distribution.\n",
    "\n",
    "**Step 4: Compare P-Value with Significance Level**\n",
    "If the p-value is less than the chosen significance level (alpha), we reject the null hypothesis. Otherwise, we fail to reject the null hypothesis.\n"
   ]
  },
  {
   "cell_type": "code",
   "execution_count": 8,
   "id": "008f8a0c",
   "metadata": {},
   "outputs": [
    {
     "name": "stdout",
     "output_type": "stream",
     "text": [
      "F-Test Statistic: 1.4551907719609583\n",
      "Degrees of Freedom (Numerator): 6\n",
      "Degrees of Freedom (Denominator): 5\n",
      "P-Value: 0.3487407873968742\n",
      "Fail to reject the null hypothesis: Variances are not significantly different.\n"
     ]
    }
   ],
   "source": [
    "from scipy.stats import f\n",
    "\n",
    "# Given data\n",
    "data_restaurant_a = [24, 25, 28, 23, 22, 20, 27]\n",
    "data_restaurant_b = [31, 33, 35, 30, 32, 36]\n",
    "\n",
    "alpha = 0.05\n",
    "\n",
    "# Calculate sample variances\n",
    "sample_variance_a = sum((x - sum(data_restaurant_a) / len(data_restaurant_a))**2 for x in data_restaurant_a) / (len(data_restaurant_a) - 1)\n",
    "sample_variance_b = sum((x - sum(data_restaurant_b) / len(data_restaurant_b))**2 for x in data_restaurant_b) / (len(data_restaurant_b) - 1)\n",
    "\n",
    "# Calculate degrees of freedom\n",
    "df1 = len(data_restaurant_a) - 1\n",
    "df2 = len(data_restaurant_b) - 1\n",
    "\n",
    "# Calculate F-test statistic\n",
    "f_test_statistic = sample_variance_a / sample_variance_b\n",
    "\n",
    "# Calculate p-value\n",
    "p_value = 1 - f.cdf(f_test_statistic, df1, df2)\n",
    "\n",
    "# Print results\n",
    "print(\"F-Test Statistic:\", f_test_statistic)\n",
    "print(\"Degrees of Freedom (Numerator):\", df1)\n",
    "print(\"Degrees of Freedom (Denominator):\", df2)\n",
    "print(\"P-Value:\", p_value)\n",
    "\n",
    "# Compare p-value with alpha\n",
    "if p_value < alpha:\n",
    "    print(\"Reject the null hypothesis: Variances are significantly different.\")\n",
    "else:\n",
    "    print(\"Fail to reject the null hypothesis: Variances are not significantly different.\")\n"
   ]
  },
  {
   "cell_type": "markdown",
   "id": "9d970c45",
   "metadata": {},
   "source": [
    "<a id=\"9\"></a> \n",
    " # <p style=\"padding:10px;background-color: #00004d ;margin:10;color: white ;font-family:newtimeroman;font-size:100%;text-align:center;border-radius: 10px 10px ;overflow:hidden;font-weight:50\">Ans 9 </p> "
   ]
  },
  {
   "cell_type": "markdown",
   "id": "8ad92638",
   "metadata": {},
   "source": [
    "\n",
    "We're given two groups of students with their test scores: Group A and Group B. The goal is to determine if the variances of their test scores are significantly different. To do this, we'll conduct an F-test.\n",
    "\n",
    "**Step 1: Hypotheses**\n",
    "We start with two hypotheses:\n",
    "- Null Hypothesis (H0): The variances of test scores in both groups are equal.\n",
    "- Alternative Hypothesis (Ha): The variances of test scores in the two groups are not equal.\n",
    "\n",
    "**Step 2: Significance Level**\n",
    "Let's use a significance level of 0.01 (1%). This is the threshold for determining if the results are statistically significant.\n",
    "\n",
    "**Step 3: Calculating F-Test Statistic and P-Value**\n",
    "We calculate the F-test statistic, which is the ratio of sample variances:\n",
    "\n",
    "\\[ F = s_1^2 / s_2^2 \\]\n",
    "\n",
    "Where \\( s_1^2 \\) is the sample variance of Group A and \\( s_2^2 \\) is the sample variance of Group B. We also calculate the degrees of freedom for both groups (\\( df_1 \\) and \\( df_2 \\)).\n",
    "\n",
    "Using the F-distribution, we calculate the p-value associated with the F-test statistic. This p-value helps us understand the probability of obtaining such results if the null hypothesis were true.\n",
    "\n",
    "**Step 4: Comparing P-Value with Significance Level**\n",
    "If the p-value is smaller than our chosen significance level (0.01), it means the observed differences are unlikely to have occurred by chance alone. We reject the null hypothesis. If the p-value is larger, we don't have strong evidence to reject the null hypothesis."
   ]
  },
  {
   "cell_type": "code",
   "execution_count": 9,
   "id": "ad19c6e8",
   "metadata": {},
   "outputs": [
    {
     "name": "stdout",
     "output_type": "stream",
     "text": [
      "F-Test Statistic: 1.9442622950819677\n",
      "Degrees of Freedom (Numerator): 5\n",
      "Degrees of Freedom (Denominator): 5\n",
      "P-Value: 0.2415521774535344\n",
      "Fail to reject the null hypothesis: Variances are not significantly different.\n"
     ]
    }
   ],
   "source": [
    "from scipy.stats import f\n",
    "\n",
    "# Given data\n",
    "data_group_a = [80, 85, 90, 92, 87, 83]\n",
    "data_group_b = [75, 78, 82, 79, 81, 84]\n",
    "\n",
    "alpha = 0.01\n",
    "\n",
    "# Calculate sample variances\n",
    "sample_variance_a = sum((x - sum(data_group_a) / len(data_group_a))**2 for x in data_group_a) / (len(data_group_a) - 1)\n",
    "sample_variance_b = sum((x - sum(data_group_b) / len(data_group_b))**2 for x in data_group_b) / (len(data_group_b) - 1)\n",
    "\n",
    "# Calculate degrees of freedom\n",
    "df1 = len(data_group_a) - 1\n",
    "df2 = len(data_group_b) - 1\n",
    "\n",
    "# Calculate F-test statistic\n",
    "f_test_statistic = sample_variance_a / sample_variance_b\n",
    "\n",
    "# Calculate p-value\n",
    "p_value = 1 - f.cdf(f_test_statistic, df1, df2)\n",
    "\n",
    "# Print results\n",
    "print(\"F-Test Statistic:\", f_test_statistic)\n",
    "print(\"Degrees of Freedom (Numerator):\", df1)\n",
    "print(\"Degrees of Freedom (Denominator):\", df2)\n",
    "print(\"P-Value:\", p_value)\n",
    "\n",
    "# Compare p-value with alpha\n",
    "if p_value < alpha:\n",
    "    print(\"Reject the null hypothesis: Variances are significantly different.\")\n",
    "else:\n",
    "    print(\"Fail to reject the null hypothesis: Variances are not significantly different.\")\n"
   ]
  },
  {
   "cell_type": "markdown",
   "id": "4dd1009a",
   "metadata": {},
   "source": [
    "\n",
    "<!--  -->"
   ]
  },
  {
   "cell_type": "markdown",
   "id": "6b400cb7",
   "metadata": {},
   "source": [
    " you'll see the calculated F-test statistic, degrees of freedom, p-value, and a clear conclusion whether the variances are significantly different based on the 1% significance level.\n",
    "\n",
    "this analysis helps us understand if there's evidence to suggest that the variability in test scores is different between the two groups of students."
   ]
  },
  {
   "cell_type": "code",
   "execution_count": null,
   "id": "078dcab0",
   "metadata": {},
   "outputs": [],
   "source": []
  },
  {
   "cell_type": "markdown",
   "id": "6bfdfceb",
   "metadata": {},
   "source": [
    "<a id=\"11\"></a> \n",
    " # <p style=\"padding:10px;background-color: #01DFD7 ;margin:10;color: white ;font-family:newtimeroman;font-size:100%;text-align:center;border-radius: 10px 10px ;overflow:hidden;font-weight:50\">END</p> "
   ]
  },
  {
   "cell_type": "code",
   "execution_count": null,
   "id": "b0eb3e35",
   "metadata": {},
   "outputs": [],
   "source": []
  },
  {
   "cell_type": "code",
   "execution_count": null,
   "id": "f7981d5e",
   "metadata": {},
   "outputs": [],
   "source": []
  },
  {
   "cell_type": "code",
   "execution_count": null,
   "id": "0d4a84a0",
   "metadata": {},
   "outputs": [],
   "source": []
  },
  {
   "cell_type": "code",
   "execution_count": null,
   "id": "e5af5dcc",
   "metadata": {},
   "outputs": [],
   "source": []
  },
  {
   "cell_type": "code",
   "execution_count": null,
   "id": "c3cab727",
   "metadata": {},
   "outputs": [],
   "source": []
  }
 ],
 "metadata": {
  "kernelspec": {
   "display_name": "Python 3 (ipykernel)",
   "language": "python",
   "name": "python3"
  },
  "language_info": {
   "codemirror_mode": {
    "name": "ipython",
    "version": 3
   },
   "file_extension": ".py",
   "mimetype": "text/x-python",
   "name": "python",
   "nbconvert_exporter": "python",
   "pygments_lexer": "ipython3",
   "version": "3.10.11"
  }
 },
 "nbformat": 4,
 "nbformat_minor": 5
}
