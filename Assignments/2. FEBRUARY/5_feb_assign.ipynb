{
 "cells": [
  {
   "cell_type": "markdown",
   "id": "705d5387-2a5d-42db-beda-6447995852cc",
   "metadata": {},
   "source": [
    "Ans_1."
   ]
  },
  {
   "cell_type": "markdown",
   "id": "0d5c29c1-138e-494f-ac25-7334680eddcd",
   "metadata": {},
   "source": [
    "classes are user-defined data types that act as a blueprint for individual object , attributes and behavior . "
   ]
  },
  {
   "cell_type": "markdown",
   "id": "da122ccc-ded6-4bf2-a097-352e6500cc99",
   "metadata": {},
   "source": [
    "objects are instance of a class created with specially defined data. objects can corrospond to real world objects or an abstartct entity . when class is defined initially , the description is only the only object that is defined.\n",
    "\n",
    "Ex.:-"
   ]
  },
  {
   "cell_type": "code",
   "execution_count": 13,
   "id": "83a3e0d3-dcaa-4233-a5d9-53a83fee217f",
   "metadata": {},
   "outputs": [],
   "source": [
    "class person():\n",
    "    def __init__(self , name , mail):\n",
    "        self.name = name\n",
    "        self.mail = mail\n",
    "        \n",
    "    def validate_mail(self):\n",
    "        return self.mail.count('@') and self.mail.endswith('.com')\n",
    "    "
   ]
  },
  {
   "cell_type": "code",
   "execution_count": 14,
   "id": "7204a698-9164-4e25-b7ef-7505c6336555",
   "metadata": {},
   "outputs": [],
   "source": [
    "john = person('john' , 'john_random@gmail.com')"
   ]
  },
  {
   "cell_type": "code",
   "execution_count": 12,
   "id": "e7c93f45-dfc9-40b9-898d-caf7f80cdb88",
   "metadata": {},
   "outputs": [
    {
     "data": {
      "text/plain": [
       "True"
      ]
     },
     "execution_count": 12,
     "metadata": {},
     "output_type": "execute_result"
    }
   ],
   "source": [
    "john.validate_mail()"
   ]
  },
  {
   "cell_type": "markdown",
   "id": "9e5858d2-5324-4561-a47b-4c2fb8ec4d51",
   "metadata": {},
   "source": [
    "Here Person is a class , john is an instance of person class containing name and mail atrributes and  validate_email method\n",
    "\n",
    "\n",
    "\n",
    "\n",
    "\n",
    "Ans_2."
   ]
  },
  {
   "cell_type": "markdown",
   "id": "058b67a3-3d80-4c76-a344-88d2f49fd1eb",
   "metadata": {},
   "source": [
    "Encapsulation :-\n",
    "\n",
    "              this principle states that all important information is contained inside an object and only slelct information is exposed. the implementation and sattes of each object are privately held inside a defined class. Other objects do not have access to this class or authority to make changes. they are only able to call a list of public function or methods . this characteristic of data hinding provides greater program security and avoids unintended data corruption."
   ]
  },
  {
   "cell_type": "markdown",
   "id": "3d0b9712-1b0d-4c71-9333-13251a624761",
   "metadata": {},
   "source": [
    "Abstraction :-\n",
    "\n",
    "             Objects only reveal internal mechanism that are relevant for the use of other objects, hiding any unnnecessary implementation code. the derived class can have its functionality extended."
   ]
  },
  {
   "cell_type": "markdown",
   "id": "16bffa8a-b0de-4c2a-96fb-48dffdc2f7b5",
   "metadata": {},
   "source": [
    "Inheritance :- \n",
    "\n",
    "               It  is an ability of class to get an attribute and method of other class. classes can reuse code from other classes.Relationships and subclasses between object can be assigned , enabling developers to reuse common logic while still maintaining a Unique hierarchy. This property of OOP reduces development time and maintaibility efforts,saves money and ensures higher level of accuracy."
   ]
  },
  {
   "cell_type": "markdown",
   "id": "4f488fb6-49d8-4072-858f-86bb7c80830c",
   "metadata": {},
   "source": [
    "Polymorphism :-\n",
    "\n",
    "              Objects sare designed to share behaviors and they can take more than one form. the program will determine which meaning or usage is necessary for each execution of that object from a parent class ,reducing the need to duplicate  code.A child class is then created , which extends the functionality of the parent class.Polymorphism allows different types of objects to paas through the same interface\n",
    "              \n",
    "              \n",
    "              "
   ]
  },
  {
   "cell_type": "markdown",
   "id": "f4da3aa7-d2b8-4af4-899b-378f148b759b",
   "metadata": {},
   "source": [
    "Ans_3."
   ]
  },
  {
   "cell_type": "markdown",
   "id": "d53667da-f104-4eb0-bb19-a3ca01a947da",
   "metadata": {},
   "source": [
    "In Pyhton ,__init__() method is used as an constructer for the object. Constructers are used to initialize the object's state .the task of constructors is to \n",
    "initialize(assign values) to the data member of the class when an Instance is created\n",
    "\n",
    "Ex : -"
   ]
  },
  {
   "cell_type": "code",
   "execution_count": 3,
   "id": "cda4172e-217a-4b36-9f7a-65def267e046",
   "metadata": {},
   "outputs": [],
   "source": [
    "class person():\n",
    "    def __init__(self , name):\n",
    "        self.name = name\n",
    "        \n",
    "    def say_hello(self):\n",
    "        print(f'Hello from {self.name}')"
   ]
  },
  {
   "cell_type": "code",
   "execution_count": 4,
   "id": "002174c0-5569-4038-b80d-e1d539b6c972",
   "metadata": {},
   "outputs": [
    {
     "name": "stdout",
     "output_type": "stream",
     "text": [
      "Hello from Sufiyan\n"
     ]
    }
   ],
   "source": [
    "s = person('Sufiyan')\n",
    "s.say_hello()"
   ]
  },
  {
   "cell_type": "raw",
   "id": "2d68939a-9e9d-4e94-bc27-b4b09006c5c4",
   "metadata": {},
   "source": [
    "In above example, a person name Sufiyan is created ,while creating an instance, 'Sufiyan' is passad to the __init__ method to initialize the instance's state \n",
    "\n"
   ]
  },
  {
   "cell_type": "markdown",
   "id": "3a65245b-6992-4631-bce3-46849ed2cc06",
   "metadata": {},
   "source": [
    "Ans_4."
   ]
  },
  {
   "cell_type": "markdown",
   "id": "0ca10f44-496f-4a4d-98b8-5942d2e4350c",
   "metadata": {},
   "source": [
    "First of all In Pyhton,the  'self' is not a reserved keyword ,means it can be replaced easily,It is just our convention to use self keyword to increse the readebility of code .the self is used to represent instance of the class. with this keyword , you can access atrributes and methods of class in python. It binds the attribute with the given argument.we have methods that meke the instance to be passed automatically , but not received automatically."
   ]
  },
  {
   "cell_type": "code",
   "execution_count": 17,
   "id": "40f68aca-115d-4ff1-a4e5-0b34e12a9564",
   "metadata": {},
   "outputs": [],
   "source": [
    "class car():\n",
    "    def __init__(self , model , worth):\n",
    "        self.model  = model\n",
    "        self.worth = worth\n",
    "    \n",
    "    def show(self):\n",
    "        print(f'{self.model} is worth {self.worth}')\n",
    "        print(type(self))"
   ]
  },
  {
   "cell_type": "code",
   "execution_count": 21,
   "id": "5982a9d0-35f1-46a0-8b06-395b51bf36f8",
   "metadata": {},
   "outputs": [],
   "source": [
    "c = car('Audi','4.5 CR')"
   ]
  },
  {
   "cell_type": "code",
   "execution_count": 22,
   "id": "1a7c08e4-3fa2-4f81-ab71-9c90e8e27d91",
   "metadata": {},
   "outputs": [
    {
     "name": "stdout",
     "output_type": "stream",
     "text": [
      "Audi is worth 4.5 CR\n",
      "<class '__main__.car'>\n"
     ]
    }
   ],
   "source": [
    "c.show()"
   ]
  },
  {
   "cell_type": "markdown",
   "id": "8f7ae338-6128-48b3-9865-a86086273b18",
   "metadata": {},
   "source": [
    "\n",
    "Ans_5."
   ]
  },
  {
   "cell_type": "markdown",
   "id": "44f14351-0c72-4075-878d-56da265a2916",
   "metadata": {},
   "source": [
    "Inheritance :- \n",
    "\n",
    "               It  allow us to define a class that inherits all the methods and proprties of another class. classes can reuse code from other classes. It is mechanism taht allows you to create a hierarchy of classes that set of properties and methods by derividing a class from base class.Relationships and subclasses between object can be assigned , enabling developers to reuse common logic while still maintaining a Unique hierarchy. This property of OOP reduces development time and maintaibility efforts,saves money and ensures higher level of accuracy."
   ]
  },
  {
   "cell_type": "markdown",
   "id": "8e0b1375-eb71-4f8d-96d0-bb957ba4bfca",
   "metadata": {},
   "source": [
    "types of inheritance :-"
   ]
  },
  {
   "cell_type": "markdown",
   "id": "6eb9527b-87b4-42cf-8614-4f5184dba735",
   "metadata": {},
   "source": [
    "a. Single Inheritance :-\n",
    "                     When a child class inherits from only one parent class ,it is called single inhertance           "
   ]
  },
  {
   "cell_type": "code",
   "execution_count": 7,
   "id": "51ac7063-b347-45a7-9298-172d20c2a213",
   "metadata": {},
   "outputs": [],
   "source": [
    "class A():\n",
    "    def __init__(self , name):\n",
    "        self.name = name\n",
    "        \n",
    "    def show_name(self):\n",
    "        print(self.name)\n",
    "class B(A):\n",
    "    def __init__(self , roll , name):\n",
    "        self.roll =roll\n",
    "        super().__init__(name)\n",
    "        \n",
    "    def show(self):\n",
    "        self.show_name()\n",
    "        print(self.roll)\n",
    "        "
   ]
  },
  {
   "cell_type": "code",
   "execution_count": 8,
   "id": "da6ba30c-5b55-4cb2-9f81-d303888bd2f9",
   "metadata": {},
   "outputs": [],
   "source": [
    "b = B('john' , 'Software eng')"
   ]
  },
  {
   "cell_type": "code",
   "execution_count": 9,
   "id": "f8d0dbda-521b-4b3b-9d41-705a6ea7e269",
   "metadata": {},
   "outputs": [
    {
     "name": "stdout",
     "output_type": "stream",
     "text": [
      "Software eng\n",
      "john\n"
     ]
    }
   ],
   "source": [
    "b.show()"
   ]
  },
  {
   "cell_type": "markdown",
   "id": "c06bec31-28a0-4b8b-a840-49fa0b876b69",
   "metadata": {},
   "source": [
    "b . Multiple inheritance :- \n",
    "                           when a child class inherits from multiple parent classes , It is called multiple inheritance"
   ]
  },
  {
   "cell_type": "code",
   "execution_count": 11,
   "id": "11bde9c4-f4ce-4682-8910-9710d49a390c",
   "metadata": {},
   "outputs": [],
   "source": [
    "class base1():\n",
    "     def __init__(self):\n",
    "            self.atr1 = 'this is base1 class property'\n",
    "            print('inside the constructor of base1')\n",
    "            \n",
    "class base2():\n",
    "     def __init__(self):\n",
    "            self.atr2 = 'this is base2 class property'\n",
    "            print('inside the constructor of base2')   \n",
    "            \n",
    "class derived(base1 ,base2):\n",
    "    def __init__(self):\n",
    "        base1.__init__(self)\n",
    "        base2.__init__(self)\n",
    "        print('inside the constructor of derived')\n",
    "        \n",
    "    def prnt(self):\n",
    "        print(self.atr1 , ' \\n ' , self.atr2)"
   ]
  },
  {
   "cell_type": "code",
   "execution_count": 12,
   "id": "89b486ab-37d6-4827-bfe3-01da27af7349",
   "metadata": {},
   "outputs": [
    {
     "name": "stdout",
     "output_type": "stream",
     "text": [
      "inside the constructor of base1\n",
      "inside the constructor of base2\n",
      "inside the constructor of derived\n"
     ]
    }
   ],
   "source": [
    "obj = derived()"
   ]
  },
  {
   "cell_type": "code",
   "execution_count": 13,
   "id": "d485e191-c523-445c-b0bb-8522565a6c70",
   "metadata": {},
   "outputs": [
    {
     "name": "stdout",
     "output_type": "stream",
     "text": [
      "this is base1 class property  \n",
      "  this is base2 class property\n"
     ]
    }
   ],
   "source": [
    "obj.prnt()"
   ]
  },
  {
   "cell_type": "markdown",
   "id": "352d1606-5be8-456e-89cf-e2bfb2f84a4a",
   "metadata": {},
   "source": [
    "c . Multilevel inheritance :- when we have  a child and a grandchild relationship i.e when a class 'Z' inherits from class 'Y' which was derived from class 'X' ,  It is called multilevel inheritance ,basically creating sequential hierarchy of inheritance"
   ]
  },
  {
   "cell_type": "code",
   "execution_count": 16,
   "id": "8db7705d-851f-48d9-9958-452113f974cd",
   "metadata": {},
   "outputs": [],
   "source": [
    "class base():\n",
    "    def __init__(self , name):\n",
    "        self.name = name\n",
    "\n",
    "class child(base):\n",
    "      def __init__(self , name   , age):\n",
    "            base.__init__(self ,name)\n",
    "            self.age = age\n",
    "            \n",
    "class grandchild(child):\n",
    "     def __init__(self , name   , age , mobile):\n",
    "            child.__init__(self ,name , age)\n",
    "            self.mob = mobile\n",
    "     def detail(self):\n",
    "        tup = (self.name, self.age , self.mob)\n",
    "        return tup"
   ]
  },
  {
   "cell_type": "code",
   "execution_count": 17,
   "id": "4dc6f4c3-19ab-4a4e-b56a-c672d53dd391",
   "metadata": {},
   "outputs": [
    {
     "data": {
      "text/plain": [
       "('khalid', 54, 7005366356)"
      ]
     },
     "execution_count": 17,
     "metadata": {},
     "output_type": "execute_result"
    }
   ],
   "source": [
    "g  = grandchild('khalid' , 54 , 7005366356)\n",
    "g.detail()"
   ]
  },
  {
   "cell_type": "markdown",
   "id": "e71b36d7-d0cd-443c-8597-f019c4bd7248",
   "metadata": {},
   "source": [
    "d . Hierarchical Inheritance :- more tha one derived classes are created from a single base  i.e when a class 'Z' and class 'Y' both inherits from same  from class 'X' ,  It is called multilevel inheritance."
   ]
  },
  {
   "cell_type": "code",
   "execution_count": 29,
   "id": "3f5b9768-59f1-49b5-9dc0-f7f6e7c307d8",
   "metadata": {},
   "outputs": [],
   "source": [
    "class base():\n",
    "     def __init__(self):\n",
    "            self.atr = 'this is base class property'\n",
    "            print('inside the constructor of base')\n",
    "            \n",
    "class derived1(base):\n",
    "     def __init__(self):\n",
    "            super().__init__()\n",
    "            self.atr1 = 'this is derived1 class property'\n",
    "            print('inside the constructor of derived1')\n",
    "       \n",
    "     def prnt(self):\n",
    "        print(self.atr , ' \\n' , self.atr1)\n",
    "        \n",
    "class derived2(base):\n",
    "     def __init__(self):\n",
    "            super().__init__()\n",
    "            self.atr2 = 'this is derived2 class property'\n",
    "            print('inside the constructor of derived2')            \n",
    "     def prnt(self):\n",
    "        print(self.atr , ' \\n' , self.atr2)     "
   ]
  },
  {
   "cell_type": "code",
   "execution_count": 30,
   "id": "6770549e-202e-46dd-91f7-bf7868a82e42",
   "metadata": {},
   "outputs": [
    {
     "name": "stdout",
     "output_type": "stream",
     "text": [
      "inside the constructor of base\n",
      "inside the constructor of derived1\n",
      "inside the constructor of base\n",
      "inside the constructor of derived2\n"
     ]
    }
   ],
   "source": [
    "obj1 = derived1()\n",
    "obj2 = derived2()"
   ]
  },
  {
   "cell_type": "code",
   "execution_count": 31,
   "id": "f47dab32-d2ce-49f8-94a3-7866c4d39ce3",
   "metadata": {},
   "outputs": [
    {
     "name": "stdout",
     "output_type": "stream",
     "text": [
      "this is base class property  \n",
      " this is derived1 class property\n"
     ]
    }
   ],
   "source": [
    "obj1.prnt()"
   ]
  },
  {
   "cell_type": "code",
   "execution_count": 32,
   "id": "0fe1a314-df12-4945-8c44-9e645a572301",
   "metadata": {},
   "outputs": [
    {
     "name": "stdout",
     "output_type": "stream",
     "text": [
      "this is base class property  \n",
      " this is derived2 class property\n"
     ]
    }
   ],
   "source": [
    "obj2.prnt()"
   ]
  },
  {
   "cell_type": "markdown",
   "id": "a8587d56-75c3-4899-a10c-5a9c2e04ec51",
   "metadata": {},
   "source": [
    "e . Hybrid Inheritance:\n",
    "         this  form combines more than one type of inheritance . most of the time its a combination of multilevel,multiple and hierarchichal inheritance"
   ]
  },
  {
   "cell_type": "code",
   "execution_count": null,
   "id": "693f1adb-823a-4701-a927-0c1da7a5b1b7",
   "metadata": {},
   "outputs": [],
   "source": []
  }
 ],
 "metadata": {
  "kernelspec": {
   "display_name": "Python 3 (ipykernel)",
   "language": "python",
   "name": "python3"
  },
  "language_info": {
   "codemirror_mode": {
    "name": "ipython",
    "version": 3
   },
   "file_extension": ".py",
   "mimetype": "text/x-python",
   "name": "python",
   "nbconvert_exporter": "python",
   "pygments_lexer": "ipython3",
   "version": "3.9.15"
  },
  "widgets": {
   "application/vnd.jupyter.widget-state+json": {
    "state": {},
    "version_major": 2,
    "version_minor": 0
   }
  }
 },
 "nbformat": 4,
 "nbformat_minor": 5
}
