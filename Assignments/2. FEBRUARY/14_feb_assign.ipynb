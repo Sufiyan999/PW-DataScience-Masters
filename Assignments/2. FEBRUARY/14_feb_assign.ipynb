{
 "cells": [
  {
   "cell_type": "markdown",
   "id": "704a33c4-b6f8-46f0-8241-f76bc9608c44",
   "metadata": {},
   "source": [
    "Ans_1."
   ]
  },
  {
   "cell_type": "markdown",
   "id": "741b7b87-fd8b-41d8-a1df-50fa93deae47",
   "metadata": {},
   "source": [
    "Multithreading is a technique in which multiple threads of execution are created within a single program. Each thread can perform a separate task or a part of a task concurrently with the other threads. Multithreading is used to improve the performance of the program, especially in cases where the program is I/O bound or needs to perform multiple tasks simultaneously.\n",
    "\n",
    "In Python, the threading module is used to create and manage threads. It provides a way to run multiple threads concurrently in the same process. The threading module is built on top of the lower-level thread module and provides a more convenient way to work with threads."
   ]
  },
  {
   "cell_type": "code",
   "execution_count": 2,
   "id": "c9a4c12b-1d8c-4c85-a57c-709cb0e642f1",
   "metadata": {},
   "outputs": [
    {
     "name": "stdout",
     "output_type": "stream",
     "text": [
      "Task 1 is running\n",
      "Task 2 is running\n",
      "Task 2 is running\n",
      "Task 1 is running\n",
      "Task 1 is running\n",
      "Task 2 is running\n",
      "Task 2 is runningTask 1 is running\n",
      "\n",
      "Task 2 is running\n",
      "Task 1 is running\n",
      "All tasks completed\n"
     ]
    }
   ],
   "source": [
    "import threading\n",
    "import time\n",
    "\n",
    "def task1():\n",
    "    for i in range(5):\n",
    "        print(\"Task 1 is running\")\n",
    "        time.sleep(1)\n",
    "        \n",
    "def task2():\n",
    "    for i in range(5):\n",
    "        print(\"Task 2 is running\")\n",
    "        time.sleep(1)\n",
    "\n",
    "t1 = threading.Thread(target=task1)\n",
    "t2 = threading.Thread(target=task2)\n",
    "\n",
    "\n",
    "t1.start()\n",
    "t2.start()\n",
    "\n",
    "\n",
    "t1.join()\n",
    "t2.join()\n",
    "\n",
    "print(\"All tasks completed\")"
   ]
  },
  {
   "cell_type": "markdown",
   "id": "f74c4fdd-04a0-43fb-9ecc-0b77fd99e6da",
   "metadata": {},
   "source": [
    "Ans_2."
   ]
  },
  {
   "cell_type": "markdown",
   "id": "0e843936-6c5d-4da2-ad9f-86b3b656562a",
   "metadata": {},
   "source": [
    "1. activeCount(): The activeCount() function is used to get the number of active threads in the current thread's context. It returns an integer value representing the number of threads that are currently running in the program. This function can be useful for debugging and monitoring purposes, as it allows you to check how many threads are running at any given time."
   ]
  },
  {
   "cell_type": "code",
   "execution_count": 9,
   "id": "c3b61056-c95c-4af2-82c6-affb16d505f7",
   "metadata": {},
   "outputs": [
    {
     "name": "stdout",
     "output_type": "stream",
     "text": [
      "Task is running\n",
      "Task is running\n",
      "Task is running\n",
      "Active threads: 6\n"
     ]
    }
   ],
   "source": [
    "import threading\n",
    "\n",
    "def task():\n",
    "    print(\"Task is running\")\n",
    "\n",
    "\n",
    "t1 = threading.Thread(target=task)\n",
    "t2 = threading.Thread(target=task)\n",
    "t3 = threading.Thread(target=task)\n",
    "\n",
    "t1.start()\n",
    "t2.start()\n",
    "t3.start()\n",
    "\n",
    "active_threads = threading.activeCount()\n",
    "print(\"Active threads:\", active_threads)\n",
    "\n",
    "t1.join()\n",
    "t2.join()\n",
    "t3.join()"
   ]
  },
  {
   "cell_type": "markdown",
   "id": "1790ac80-729d-4f79-8374-575188928278",
   "metadata": {},
   "source": [
    "2.currentThread(): The currentThread() function is used to get the current thread object. It returns a Thread object representing the thread that is currently running. This function can be useful for debugging and logging purposes, as it allows you to identify which thread is currently executing. Here's"
   ]
  },
  {
   "cell_type": "code",
   "execution_count": 4,
   "id": "6714814a-1f15-47e3-817d-938a15db4202",
   "metadata": {},
   "outputs": [
    {
     "name": "stdout",
     "output_type": "stream",
     "text": [
      "Current thread: Thread-7\n",
      "Current thread: Thread-8\n"
     ]
    }
   ],
   "source": [
    "import threading\n",
    "\n",
    "def task():\n",
    "    print(\"Current thread:\", threading.currentThread().getName())\n",
    "\n",
    "\n",
    "t1 = threading.Thread(target=task)\n",
    "t2 = threading.Thread(target=task)\n",
    "\n",
    "\n",
    "t1.start()\n",
    "t2.start()\n",
    "\n",
    "t1.join()\n",
    "t2.join()"
   ]
  },
  {
   "cell_type": "raw",
   "id": "e60072c3-d8f3-42c3-bba8-4efab3e344ae",
   "metadata": {},
   "source": [
    "3. enumerate(): The enumerate() function is used to get a list of all the Thread objects that are currently active. It returns a list of Thread objects representing all the active threads in the program. This function can be useful for debugging and monitoring purposes, as it allows you to get information about all the threads that are currently running. "
   ]
  },
  {
   "cell_type": "code",
   "execution_count": 6,
   "id": "a735579d-868f-46f8-abf9-33cd42738f3b",
   "metadata": {},
   "outputs": [
    {
     "name": "stdout",
     "output_type": "stream",
     "text": [
      "Task is running\n",
      "Task is running\n",
      "Task is running\n",
      "Active threads: [<_MainThread(MainThread, started 19336)>, <Thread(IOPub, started daemon 20356)>, <Heartbeat(Heartbeat, started daemon 20340)>, <ControlThread(Control, started daemon 20296)>, <HistorySavingThread(IPythonHistorySavingThread, started 20216)>, <ParentPollerWindows(Thread-4, started daemon 19428)>]\n",
      "MainThread\n",
      "IOPub\n",
      "Heartbeat\n",
      "Control\n",
      "IPythonHistorySavingThread\n",
      "Thread-4\n"
     ]
    }
   ],
   "source": [
    "import threading\n",
    "\n",
    "def task():\n",
    "    print(\"Task is running\")\n",
    "\n",
    "\n",
    "t1 = threading.Thread(target=task)\n",
    "t2 = threading.Thread(target=task)\n",
    "t3 = threading.Thread(target=task)\n",
    "\n",
    "\n",
    "t1.start()\n",
    "t2.start()\n",
    "t3.start()\n",
    "\n",
    "active_threads = threading.enumerate()\n",
    "print(\"Active threads:\", active_threads)\n",
    "for i in active_threads:\n",
    "    print(i.getName())\n",
    "\n",
    "t1.join()\n",
    "t2.join()\n",
    "t3.join()"
   ]
  },
  {
   "cell_type": "markdown",
   "id": "dc78d397-955d-4005-b793-4d80a71c2cbc",
   "metadata": {},
   "source": [
    "Ans_3."
   ]
  },
  {
   "cell_type": "raw",
   "id": "00c95c6a-58ac-4127-bce7-9a6521aa165a",
   "metadata": {},
   "source": [
    "run(): The run() method is the entry point for a new thread. It defines the code that will be executed in the thread when it starts. You should override this method in your subclass to define the behavior of your thread. "
   ]
  },
  {
   "cell_type": "code",
   "execution_count": 12,
   "id": "3dc891bd-8005-483f-8a9b-ce2d59470b39",
   "metadata": {},
   "outputs": [
    {
     "name": "stdout",
     "output_type": "stream",
     "text": [
      "Thread is running\n"
     ]
    }
   ],
   "source": [
    "import threading\n",
    "\n",
    "class MyThread(threading.Thread):\n",
    "    def run(self):\n",
    "        print(\"Thread is running\")\n",
    "\n",
    "t = MyThread()\n",
    "t.start()"
   ]
  },
  {
   "cell_type": "markdown",
   "id": "14e04749-eec8-4bbb-be9f-6be100d7619a",
   "metadata": {},
   "source": [
    "start(): The start() method is used to start a new thread. It calls the run() method in a new thread, and the code defined in the run() method will be executed in the new thread. This method does not block the calling thread and returns immediately. "
   ]
  },
  {
   "cell_type": "code",
   "execution_count": 13,
   "id": "d2782997-c0b7-495b-adb7-dbf93e2ead2f",
   "metadata": {},
   "outputs": [
    {
     "name": "stdout",
     "output_type": "stream",
     "text": [
      "Task is runningThread started\n",
      "\n"
     ]
    }
   ],
   "source": [
    "import threading\n",
    "\n",
    "def task():\n",
    "    print(\"Task is running\")\n",
    "\n",
    "t = threading.Thread(target=task)\n",
    "t.start()\n",
    "print(\"Thread started\")"
   ]
  },
  {
   "cell_type": "markdown",
   "id": "eac5c931-816c-474e-ad69-d1800b13d410",
   "metadata": {},
   "source": [
    "join(): The join() method is used to wait for a thread to complete. It blocks the calling thread until the thread that join() was called on completes. This method is useful when you need to wait for a thread to finish before continuing with the main thread"
   ]
  },
  {
   "cell_type": "code",
   "execution_count": 14,
   "id": "8882bb39-2394-46c2-8a12-0de2f4b703b2",
   "metadata": {},
   "outputs": [
    {
     "name": "stdout",
     "output_type": "stream",
     "text": [
      "Task is running\n",
      "Thread completed\n"
     ]
    }
   ],
   "source": [
    "import threading\n",
    "\n",
    "def task():\n",
    "    print(\"Task is running\")\n",
    "\n",
    "t = threading.Thread(target=task)\n",
    "t.start()\n",
    "\n",
    "t.join()\n",
    "print(\"Thread completed\")"
   ]
  },
  {
   "cell_type": "markdown",
   "id": "a8b91fd3-b210-40e3-90fe-a4c327297ccc",
   "metadata": {},
   "source": [
    "is_alive(): The isAlive() method is used to check whether a thread is currently running. It returns True if the thread is running, and False otherwise. This method can be useful for monitoring the status of a thread. "
   ]
  },
  {
   "cell_type": "code",
   "execution_count": 27,
   "id": "9e5d55ea-4d77-4fa3-9a81-67dda4e9c626",
   "metadata": {},
   "outputs": [
    {
     "name": "stdout",
     "output_type": "stream",
     "text": [
      "Thread started\n",
      "\n",
      "Thread is still running\n",
      "\n",
      "thread ended\n",
      "\n"
     ]
    }
   ],
   "source": [
    "import threading\n",
    "import time\n",
    "\n",
    "def my_function():\n",
    "    print(\"Thread started\\n\")\n",
    "    time.sleep(2)\n",
    "    print('thread ended\\n')\n",
    "\n",
    "t = threading.Thread(target=my_function)\n",
    "t.start()\n",
    "\n",
    "if t.is_alive():\n",
    "    print(\"Thread is still running\\n\")\n",
    "else:\n",
    "    print(\"Thread has completed\")"
   ]
  },
  {
   "cell_type": "raw",
   "id": "87f28cab-79df-42bd-aa0c-f9f104b6e942",
   "metadata": {},
   "source": [
    "Ans_4."
   ]
  },
  {
   "cell_type": "code",
   "execution_count": 14,
   "id": "8f6b8ee9-bf61-4c3b-889d-f01190217c2f",
   "metadata": {},
   "outputs": [
    {
     "name": "stdout",
     "output_type": "stream",
     "text": [
      "Squares: [1, 4, 9, 16, 25, 36, 49, 64, 81, 100]\n",
      "Cubes: [1, 8, 27, 64, 125, 216, 343, 512, 729, 1000]\n"
     ]
    }
   ],
   "source": [
    "import threading\n",
    "\n",
    "def print_squares(lim):\n",
    "    squares = [x*x for x in range(1, lim+1)]\n",
    "    print(\"Squares:\", squares)\n",
    "\n",
    "def print_cubes(lim):\n",
    "    cubes = [x*x*x for x in range(1, lim+1)]\n",
    "    print(\"Cubes:\", cubes)\n",
    "\n",
    "\n",
    "    \n",
    "thread1 = threading.Thread(target=print_squares , args= (10 ,))\n",
    "thread2 = threading.Thread(target=print_cubes , args= (10 ,))\n",
    "\n",
    "thread1.start()\n",
    "thread2.start()\n",
    "\n",
    "thread1.join()\n",
    "thread2.join()"
   ]
  },
  {
   "cell_type": "markdown",
   "id": "14620d90-2a2a-4c15-9bf0-6bba6f386341",
   "metadata": {},
   "source": [
    "Ans_5."
   ]
  },
  {
   "cell_type": "raw",
   "id": "a50d3d2f-6108-486d-a0b9-7aaa0c3f35e2",
   "metadata": {},
   "source": [
    "Advantages of multithreading:\n",
    "\n",
    "Improved performance: Multithreading can help improve the performance of a program by allowing different parts of the program to execute concurrently. This can be especially useful for programs that perform many I/O operations, as one thread can be waiting for I/O while another thread is executing.\n",
    "\n",
    "Responsiveness: Multithreading can also help improve the responsiveness of a program by allowing the user interface to remain responsive while other parts of the program are executing in the background.\n",
    "\n",
    "Resource sharing: Multithreading allows for better resource sharing, as different threads can share the same memory space and communicate with each other using shared variables.\n",
    "\n",
    "Simplicity: In some cases, multithreading can simplify the design and implementation of a program, especially when dealing with complex and interdependent tasks.\n",
    "\n",
    "Disadvantages of multithreading:\n",
    "\n",
    "Complexity: Multithreaded programs can be more complex and difficult to debug than single-threaded programs. This is because of the potential for race conditions, deadlocks, and other synchronization issues.\n",
    "\n",
    "Overhead: Multithreading adds overhead to a program, as the operating system must allocate resources for each thread and perform context switches between threads. This can impact performance, especially if there are many threads or if the threads are performing very small tasks.\n",
    "\n",
    "Synchronization: Synchronization can be a difficult problem in multithreaded programs. It is often necessary to use locks, semaphores, or other synchronization primitives to ensure that different threads do not interfere with each other. This can be a source of bugs and performance issues.\n",
    "\n",
    "GIL: In some programming languages, such as Python, the Global Interpreter Lock (GIL) can limit the benefits of multithreading, as only one thread can execute Python bytecode at a time. This can prevent true parallelism and limit the performance benefits of multithreading."
   ]
  },
  {
   "cell_type": "markdown",
   "id": "f1ecc519-26ed-41e4-9e92-6c6fbdc54faf",
   "metadata": {},
   "source": [
    "Ans_6."
   ]
  },
  {
   "cell_type": "markdown",
   "id": "7fbc28c2-831e-429b-9972-b73ba040455d",
   "metadata": {},
   "source": [
    "Deadlock and race conditions are two common concurrency problems that can occur in multithreaded programs.\n",
    "\n",
    "Deadlock occurs when two or more threads are blocked and waiting for each other to release resources that they are holding. This can occur when one thread holds a resource that another thread needs, while the second thread holds a resource that the first thread needs. If neither thread releases its resource, they can become deadlocked, waiting for each other indefinitely. Deadlock is a serious problem as it can cause a program to stop responding and require manual intervention to recover"
   ]
  },
  {
   "cell_type": "raw",
   "id": "31346913-c1ae-4a4a-86b4-71eecea86192",
   "metadata": {},
   "source": [
    "A race condition occurs when the behavior of a program depends on the order in which multiple threads execute, and the order of execution is unpredictable. This can occur when two or more threads access the same shared resource, such as a variable, without proper synchronization. If the threads access the resource in a non-deterministic order, the behavior of the program may be different from what was expected."
   ]
  },
  {
   "cell_type": "code",
   "execution_count": 17,
   "id": "e687c00f-aeb6-4168-a543-e21ca80a9c27",
   "metadata": {},
   "outputs": [
    {
     "name": "stdout",
     "output_type": "stream",
     "text": [
      "2\n"
     ]
    }
   ],
   "source": [
    "import threading\n",
    "\n",
    "counter = 0\n",
    "\n",
    "def increment():\n",
    "    global counter \n",
    "    counter += 1\n",
    "\n",
    "   \n",
    "\n",
    "thread1 = threading.Thread(target=increment)\n",
    "thread2 = threading.Thread(target=increment)\n",
    "\n",
    "\n",
    "thread1.start()\n",
    "thread2.start()\n",
    "\n",
    "\n",
    "thread1.join()\n",
    "thread2.join()\n",
    "\n",
    "print(counter)"
   ]
  },
  {
   "cell_type": "markdown",
   "id": "658862de-693e-41be-b62a-8e248db90713",
   "metadata": {},
   "source": [
    "In this case, we are getting the right answer but in some complex program, the behavior of the program depends on the order in which the two threads increment the counter. If both threads read the counter value before either thread writes the new value, then the final counter value will be 1 instead of 2. This is an example of a race condition, as the behavior of the program depends on the unpredictable order of execution of the threads. To avoid race conditions, it is important to properly synchronize access to shared resources using locks or other synchronization primitives."
   ]
  }
 ],
 "metadata": {
  "kernelspec": {
   "display_name": "Python 3 (ipykernel)",
   "language": "python",
   "name": "python3"
  },
  "language_info": {
   "codemirror_mode": {
    "name": "ipython",
    "version": 3
   },
   "file_extension": ".py",
   "mimetype": "text/x-python",
   "name": "python",
   "nbconvert_exporter": "python",
   "pygments_lexer": "ipython3",
   "version": "3.9.15"
  },
  "widgets": {
   "application/vnd.jupyter.widget-state+json": {
    "state": {},
    "version_major": 2,
    "version_minor": 0
   }
  }
 },
 "nbformat": 4,
 "nbformat_minor": 5
}
