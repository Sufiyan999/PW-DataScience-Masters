{
 "cells": [
  {
   "cell_type": "code",
   "execution_count": null,
   "id": "de4dc2e0-79e6-4cab-80f4-e31f18976ac6",
   "metadata": {},
   "outputs": [],
   "source": [
    "Ans_1"
   ]
  },
  {
   "cell_type": "markdown",
   "id": "5ac3dc00-e15b-40d1-a5b1-ddbd5b64a789",
   "metadata": {},
   "source": [
    "#To extract the video URL of the first five videos from the given URL, we can use web scraping techniques with the help of Python libraries such as Beautiful Soup and requests."
   ]
  },
  {
   "cell_type": "code",
   "execution_count": 4,
   "id": "d52cd811-f6c4-49f9-9ec5-3aba9d3f827d",
   "metadata": {},
   "outputs": [
    {
     "name": "stdout",
     "output_type": "stream",
     "text": [
      "https://www.youtube.com/watch?v=LxHAzwur8cI\n",
      "https://www.youtube.com/watch?v=sBXHecS1S1w\n",
      "https://www.youtube.com/watch?v=l6ZY90YnMy0\n",
      "https://www.youtube.com/watch?v=33onjejJLDs\n",
      "https://www.youtube.com/watch?v=o3eOj-jhhfI\n",
      "https://www.youtube.com/watch?v=ecGcmstmnGA\n",
      "https://www.youtube.com/watch?v=08WWij66k8A\n",
      "https://www.youtube.com/watch?v=bXpeyKIVioA\n",
      "https://www.youtube.com/watch?v=YwxDKs7jNXs\n",
      "https://www.youtube.com/watch?v=dVq8dLd5zK4\n",
      "https://www.youtube.com/watch?v=9y6ruBLE7z0\n",
      "https://www.youtube.com/watch?v=yv4Gi792S8o\n",
      "https://www.youtube.com/watch?v=aPrSAvwuhTk\n",
      "https://www.youtube.com/watch?v=tigMKfSBJ9E\n",
      "https://www.youtube.com/watch?v=2OrYDCb737E\n",
      "https://www.youtube.com/watch?v=U1FxvG4GNAY\n",
      "https://www.youtube.com/watch?v=t961YvjKH20\n",
      "https://www.youtube.com/watch?v=XA03UtMWbIA\n",
      "https://www.youtube.com/watch?v=9jfTn4lcLu4\n",
      "https://www.youtube.com/watch?v=c_pKfD4UgFg\n",
      "https://www.youtube.com/watch?v=RWcwMNVdp9c\n",
      "https://www.youtube.com/watch?v=jzclZf2NaFM\n",
      "https://www.youtube.com/watch?v=hzwEXoQDNCs\n",
      "https://www.youtube.com/watch?v=0s6hAsFGxYE\n",
      "https://www.youtube.com/watch?v=YXRyMc_noiE\n",
      "https://www.youtube.com/watch?v=PI1obes98Zc\n",
      "https://www.youtube.com/watch?v=16fUsD0M1-I\n",
      "https://www.youtube.com/watch?v=S0RySN5arvk\n",
      "https://www.youtube.com/watch?v=HzBhwxMrt8A\n",
      "https://www.youtube.com/watch?v=60_B3haKADw\n"
     ]
    }
   ],
   "source": [
    "import requests\n",
    "import re\n",
    "from bs4 import BeautifulSoup\n",
    "\n",
    "url = \"https://www.youtube.com/@PW-Foundation/videos\"\n",
    "\n",
    "headers = {\"User-Agent\": \"Mozilla/5.0 (Windows NT 10.0; Win64; x64) AppleWebKit/537.36 (KHTML, like Gecko) Chrome/58.0.3029.110 Safari/537.36\"}\n",
    "\n",
    "# send a GET request to the given URL\n",
    "response = requests.get(url , headers=headers)\n",
    "\n",
    "video_ids = re.findall('\"videoRenderer\":{\"videoId\":\".*?\"', response.text)\n",
    "\n",
    "# print(videoids)\n",
    "\n",
    "for video_id in video_ids:\n",
    "    video_url = 'https://www.youtube.com/watch?v='+ video_id.split('\"')[-2]\n",
    "    print(video_url)"
   ]
  },
  {
   "cell_type": "code",
   "execution_count": null,
   "id": "f54a7016-f496-4486-9911-ec0260ba46c8",
   "metadata": {},
   "outputs": [],
   "source": [
    "Ans_2"
   ]
  },
  {
   "cell_type": "code",
   "execution_count": 9,
   "id": "b9d0f745-bac7-4434-a089-2cfa51511f24",
   "metadata": {},
   "outputs": [
    {
     "name": "stdout",
     "output_type": "stream",
     "text": [
      "https://i.ytimg.com/vi/LxHAzwur8cI/hqdefault.jpg?sqp=-oaymwEbCKgBEF5IVfKriqkDDggBFQAAiEIYAXABwAEG\\u0026rs=AOn4CLDNZbhAXEbO4lZbVmc96RmIo9GQiA\n",
      "https://i.ytimg.com/vi/sBXHecS1S1w/hqdefault.jpg?sqp=-oaymwEbCKgBEF5IVfKriqkDDggBFQAAiEIYAXABwAEG\\u0026rs=AOn4CLAapTRVIPSVdOsYgnxajvzvixRPTg\n",
      "https://i.ytimg.com/vi/l6ZY90YnMy0/hqdefault.jpg?sqp=-oaymwEbCKgBEF5IVfKriqkDDggBFQAAiEIYAXABwAEG\\u0026rs=AOn4CLB4Ga1XK3Xpv3UG7Do6BB1Pqyi3VA\n",
      "https://i.ytimg.com/vi/33onjejJLDs/hqdefault.jpg?sqp=-oaymwEbCKgBEF5IVfKriqkDDggBFQAAiEIYAXABwAEG\\u0026rs=AOn4CLDWhx_14WiEKWLCva7MgOSSOOxkBw\n",
      "https://i.ytimg.com/vi/o3eOj-jhhfI/hqdefault.jpg?sqp=-oaymwEbCKgBEF5IVfKriqkDDggBFQAAiEIYAXABwAEG\\u0026rs=AOn4CLDSD_w0pUzDMFqmNfYhktIyx7cDDg\n",
      "https://i.ytimg.com/vi/ecGcmstmnGA/hqdefault.jpg?sqp=-oaymwEbCKgBEF5IVfKriqkDDggBFQAAiEIYAXABwAEG\\u0026rs=AOn4CLDRTve0smEc_Ggw7B1mR1YncPXizg\n",
      "https://i.ytimg.com/vi/08WWij66k8A/hqdefault.jpg?sqp=-oaymwEbCKgBEF5IVfKriqkDDggBFQAAiEIYAXABwAEG\\u0026rs=AOn4CLAX1te33n6AmFJAuTRa0zlstmUXCw\n",
      "https://i.ytimg.com/vi/bXpeyKIVioA/hqdefault.jpg?sqp=-oaymwEbCKgBEF5IVfKriqkDDggBFQAAiEIYAXABwAEG\\u0026rs=AOn4CLA3kcxKj_wE5XyySTfvw1gq94axZQ\n",
      "https://i.ytimg.com/vi/YwxDKs7jNXs/hqdefault.jpg?sqp=-oaymwEbCKgBEF5IVfKriqkDDggBFQAAiEIYAXABwAEG\\u0026rs=AOn4CLB0gQI485GzprtsjwWZ6i2X-wgDmw\n",
      "https://i.ytimg.com/vi/dVq8dLd5zK4/hqdefault.jpg?sqp=-oaymwEbCKgBEF5IVfKriqkDDggBFQAAiEIYAXABwAEG\\u0026rs=AOn4CLBew4lMbLsIIHdTpens5xXljtXWhg\n",
      "https://i.ytimg.com/vi/9y6ruBLE7z0/hqdefault.jpg?sqp=-oaymwEbCKgBEF5IVfKriqkDDggBFQAAiEIYAXABwAEG\\u0026rs=AOn4CLB4i7KHvaiGTuCoxV3pAign0xha7A\n",
      "https://i.ytimg.com/vi/yv4Gi792S8o/hqdefault.jpg?sqp=-oaymwEbCKgBEF5IVfKriqkDDggBFQAAiEIYAXABwAEG\\u0026rs=AOn4CLCLKPoNewvk3nk69FIdiTjma_3m5Q\n",
      "https://i.ytimg.com/vi/aPrSAvwuhTk/hqdefault.jpg?sqp=-oaymwEbCKgBEF5IVfKriqkDDggBFQAAiEIYAXABwAEG\\u0026rs=AOn4CLB7P5sbH9mtjrwz2nMb0J2ZyYMcoA\n",
      "https://i.ytimg.com/vi/tigMKfSBJ9E/hqdefault.jpg?sqp=-oaymwEbCKgBEF5IVfKriqkDDggBFQAAiEIYAXABwAEG\\u0026rs=AOn4CLDOYgabcyJz2Y9qIOgbVueizCjnaQ\n",
      "https://i.ytimg.com/vi/2OrYDCb737E/hqdefault.jpg?sqp=-oaymwEbCKgBEF5IVfKriqkDDggBFQAAiEIYAXABwAEG\\u0026rs=AOn4CLDP2_5Tg6J3z90CmfAdGiWwdGS0DA\n",
      "https://i.ytimg.com/vi/U1FxvG4GNAY/hqdefault.jpg?sqp=-oaymwEbCKgBEF5IVfKriqkDDggBFQAAiEIYAXABwAEG\\u0026rs=AOn4CLCVFHcUceKIgjLX7eyJ3shOs1R8Og\n",
      "https://i.ytimg.com/vi/t961YvjKH20/hqdefault.jpg?sqp=-oaymwEbCKgBEF5IVfKriqkDDggBFQAAiEIYAXABwAEG\\u0026rs=AOn4CLBfE9VGMCC9oH3XSbqZ_mut9LsWtg\n",
      "https://i.ytimg.com/vi/XA03UtMWbIA/hqdefault.jpg?sqp=-oaymwEbCKgBEF5IVfKriqkDDggBFQAAiEIYAXABwAEG\\u0026rs=AOn4CLBSMJPbzb3qbvkRssG2_AwQPKz5Mw\n",
      "https://i.ytimg.com/vi/9jfTn4lcLu4/hqdefault.jpg?sqp=-oaymwEbCKgBEF5IVfKriqkDDggBFQAAiEIYAXABwAEG\\u0026rs=AOn4CLDYaP9sJpd9-CSpUBCcMcbnQpnFtw\n",
      "https://i.ytimg.com/vi/c_pKfD4UgFg/hqdefault.jpg?sqp=-oaymwEbCKgBEF5IVfKriqkDDggBFQAAiEIYAXABwAEG\\u0026rs=AOn4CLD-E_SqIidQMT-tPHjzL77ThLltDQ\n",
      "https://i.ytimg.com/vi/RWcwMNVdp9c/hqdefault.jpg?sqp=-oaymwEbCKgBEF5IVfKriqkDDggBFQAAiEIYAXABwAEG\\u0026rs=AOn4CLD5J5VGIaNtTer4eT1rNMn7_QyWyQ\n",
      "https://i.ytimg.com/vi/jzclZf2NaFM/hqdefault.jpg?sqp=-oaymwEbCKgBEF5IVfKriqkDDggBFQAAiEIYAXABwAEG\\u0026rs=AOn4CLCY59wQm_ya4f4bVThZ-y0be1mU2A\n",
      "https://i.ytimg.com/vi/hzwEXoQDNCs/hqdefault.jpg?sqp=-oaymwEbCKgBEF5IVfKriqkDDggBFQAAiEIYAXABwAEG\\u0026rs=AOn4CLBJofmL4UWclQV7TlE_Col4VT4dXg\n",
      "https://i.ytimg.com/vi/0s6hAsFGxYE/hqdefault.jpg?sqp=-oaymwE1CKgBEF5IVfKriqkDKAgBFQAAiEIYAXABwAEG8AEB-AH-CYAC0AWKAgwIABABGDkgYyhyMA8=\\u0026rs=AOn4CLDfkPskt7gCFw5zM6KOthSSdqo68Q\n",
      "https://i.ytimg.com/vi/YXRyMc_noiE/hqdefault.jpg?sqp=-oaymwEbCKgBEF5IVfKriqkDDggBFQAAiEIYAXABwAEG\\u0026rs=AOn4CLDWnSMYAshSCNo_s6HlxiYSX_Kk5w\n",
      "https://i.ytimg.com/vi/PI1obes98Zc/hqdefault.jpg?sqp=-oaymwEbCKgBEF5IVfKriqkDDggBFQAAiEIYAXABwAEG\\u0026rs=AOn4CLBH8oZUQr5laKUNyVvbdNNKKqRgLw\n",
      "https://i.ytimg.com/vi/16fUsD0M1-I/hqdefault.jpg?sqp=-oaymwEbCKgBEF5IVfKriqkDDggBFQAAiEIYAXABwAEG\\u0026rs=AOn4CLC7cEvbyHJM0BZwLyhZ9YPAL6N_9g\n",
      "https://i.ytimg.com/vi/S0RySN5arvk/hqdefault.jpg?sqp=-oaymwEbCKgBEF5IVfKriqkDDggBFQAAiEIYAXABwAEG\\u0026rs=AOn4CLBKg8C1rtld3WfbS5Lji-4Qf2E23g\n",
      "https://i.ytimg.com/vi/HzBhwxMrt8A/hqdefault.jpg?sqp=-oaymwEbCKgBEF5IVfKriqkDDggBFQAAiEIYAXABwAEG\\u0026rs=AOn4CLB6HpiVM9Gqua_dpBcJ6QSFjX7dOw\n",
      "https://i.ytimg.com/vi/60_B3haKADw/hqdefault.jpg?sqp=-oaymwEbCKgBEF5IVfKriqkDDggBFQAAiEIYAXABwAEG\\u0026rs=AOn4CLD7SgOTa-L0dgTyhUlDSTot2d8MRg\n",
      "https://yt3.googleusercontent.com/2_yFKdDHZMVk9w6znoN1FPMIUBUgbKfdk5-y9X-VaHBDGtrunYMekVk9fhZ03m5vPETCy00yYA=s200-c-k-c0x00ffffff-no-rj?days_since_epoch=19484\n"
     ]
    }
   ],
   "source": [
    "import requests\n",
    "import re\n",
    "from bs4 import BeautifulSoup\n",
    "\n",
    "url = \"https://www.youtube.com/@PW-Foundation/videos\"\n",
    "\n",
    "headers = {\"User-Agent\": \"Mozilla/5.0 (Windows NT 10.0; Win64; x64) AppleWebKit/537.36 (KHTML, like Gecko) Chrome/58.0.3029.110 Safari/537.36\"}\n",
    "\n",
    "# send a GET request to the given URL\n",
    "res = requests.get(url , headers=headers)\n",
    "\n",
    "\n",
    "\n",
    "thumbnails= re.findall('\"thumbnail\":{\"thumbnails\":\\[{\"url\":\".*?\"',res.text)\n",
    "\n",
    "# print(videoids)\n",
    "\n",
    "for thumbnail in thumbnails:\n",
    "    thumbs = thumbnail.split('\"')[-2]\n",
    "    print(thumbs)"
   ]
  },
  {
   "cell_type": "code",
   "execution_count": null,
   "id": "1377977a-87c5-4238-a0ab-1c954d15da42",
   "metadata": {},
   "outputs": [],
   "source": [
    "Ans_3"
   ]
  },
  {
   "cell_type": "code",
   "execution_count": 11,
   "id": "83b6f839-0c13-41e2-b520-5614d047704c",
   "metadata": {},
   "outputs": [
    {
     "name": "stdout",
     "output_type": "stream",
     "text": [
      "How To Start Class-10th Geography || ICSE Board || Complete Roadmap For All Students🔥\n",
      "How To Start Class -10th Chemistry || ICSE Board || Complete Plan To Score 95%+ Marks\n",
      "Complete Plan to Start Class-9th Science || Follow This Master Strategy to score more than 95% ⚡⚡\n",
      "Best Way To Start Class -9th English 💥 || Master Strategy Plan || Follow this ⚡⚡\n",
      "PWSAT Is Back Again!! 🔥 || India's Biggest Scholarship Test || Watch This ⚡⚡\n",
      "Finally The Wait is Over 🔥 || Icse Batch Coming Soon || Must Watch 🔥🔥\n",
      "Best Strategy To Start Class-9th SST || Don't Miss This Video🛑 || Complete Roadmap\n",
      "Finally The Wait is Over🔥 || Launching Foundation Channels in 5 Different Languages 🤩\n",
      "How To Plan For Class-11th || Perfect Strategy 💯 || A Complete Roadmap!!\n",
      "Strategy to Crack NEET in 1st Attempt 💪💪\n",
      "How to start class 9th Maths ❓🤔 | Maths Strategy\n",
      "Ritik Sir ने Class 10th की First Class में ही, बच्चों को कड़वा सच बता दिया 🔴😱 | UDAAN 2024\n",
      "How to change Mindset from class 10th to 11th ❓ ❓\n",
      "Bachoo आपके क्या Plan है इस Summer Vacation ❓❓\n",
      "The Ultimate Class 11th Survival Guide: Tips and Tricks for Success\n",
      "If not MBBS then What ❓|| Career Options for Biology Students\n",
      "Why Commerce After 10th, Explore the Best Career Options | Must Watch\n",
      "Class 10th Ke Baad Konsi Stream Le? || Strategy Wallah || PW Foundation\n",
      "तो चलिए शुरू करते है AIIMS Jane Ki Tayyari !! Revealing Arjuna NEET Faculties 🙏 Check Description.\n",
      "Ruman Ashraf - Bihar Board Class 10th TOPPER from PW !! Udaan Batch⚡\n",
      "Complete Roadmap on How to Start Class 9th 🔥 || Full Year Long Strategy For Students 💯\n",
      "Class 10th Over 😎 अब Class 11th JEE की तैयारी !! Check Description.\n",
      "Aarambh Batch 2024 | For CBSE Class 11th Commerce | Biggest Launch🔥\n",
      "India's NO.1 Batch for Class 10th - UDAAN ⚡ Launching Today !! Check Description.\n",
      "India's Biggest Scholarship Test for Classes 8th to 12th !! 🔥🔥 || PW SAT 2023 ⚡💥\n",
      "How to score 95%+ in class 10th? Complete year Powerful Strategy!!\n",
      "Last 4 Days Left For SST Exam || How To Manage to Score 80/80 in Boards || Class-10th\n",
      "Benefits of Choosing Commerce After 10th | Commerce क्यों लेना चाहिए? | CBSE | ICSE | State Boards\n",
      "Complete 𝗖𝗔𝗥𝗕𝗢𝗡 𝗔𝗡𝗗 𝗜𝗧𝗦 𝗖𝗢𝗠𝗣𝗢𝗨𝗡𝗗𝗦 in 90 Minutes | Class 10th Board Exam\n",
      "Complete 𝗠𝗘𝗧𝗔𝗟𝗦 \\u0026 𝗡𝗢𝗡 𝗠𝗘𝗧𝗔𝗟𝗦  in 120 Minutes | Class 10th Board Exam\n",
      "Keyboard shortcuts\n",
      "Playback\n",
      "General\n",
      "Subtitles and closed captions\n",
      "Spherical videos\n"
     ]
    }
   ],
   "source": [
    "import requests\n",
    "import re\n",
    "from bs4 import BeautifulSoup\n",
    "\n",
    "url = \"https://www.youtube.com/@PW-Foundation/videos\"\n",
    "\n",
    "headers = {\"User-Agent\": \"Mozilla/5.0 (Windows NT 10.0; Win64; x64) AppleWebKit/537.36 (KHTML, like Gecko) Chrome/58.0.3029.110 Safari/537.36\"}\n",
    "\n",
    "# send a GET request to the given URL\n",
    "res = requests.get(url , headers=headers)\n",
    "\n",
    "\n",
    "\n",
    "titles = re.findall('\"title\":{\"runs\":\\[{\"text\":\".*?\"', res.text)\n",
    "\n",
    "# print(videoids)\n",
    "\n",
    "for title in titles:\n",
    "    tit = title.split('\"')[-2]\n",
    "    print(tit)"
   ]
  },
  {
   "cell_type": "code",
   "execution_count": null,
   "id": "a69bd18d-da4f-4121-b814-3f8b4483fe4c",
   "metadata": {},
   "outputs": [],
   "source": [
    "Ans_4"
   ]
  },
  {
   "cell_type": "code",
   "execution_count": 3,
   "id": "d9b74efa-44a3-4860-92cf-8a0431ff44ff",
   "metadata": {},
   "outputs": [
    {
     "name": "stdout",
     "output_type": "stream",
     "text": [
      "4.6K views\n",
      "9.2K views\n",
      "27K views\n",
      "11K views\n",
      "18K views\n",
      "22K views\n",
      "22K views\n",
      "31K views\n",
      "68K views\n",
      "142K views\n",
      "25K views\n",
      "91K views\n",
      "38K views\n",
      "40K views\n",
      "296K views\n",
      "53K views\n",
      "49K views\n",
      "77K views\n",
      "63K views\n",
      "81K views\n",
      "113K views\n",
      "81K views\n",
      "60K views\n",
      "74K views\n",
      "151K views\n",
      "447K views\n",
      "70K views\n",
      "38K views\n",
      "47K views\n",
      "30K views\n"
     ]
    }
   ],
   "source": [
    "import requests\n",
    "import re\n",
    "from bs4 import BeautifulSoup\n",
    "\n",
    "url = \"https://www.youtube.com/@PW-Foundation/videos\"\n",
    "\n",
    "headers = {\"User-Agent\": \"Mozilla/5.0 (Windows NT 10.0; Win64; x64) AppleWebKit/537.36 (KHTML, like Gecko) Chrome/58.0.3029.110 Safari/537.36\"}\n",
    "\n",
    "# send a GET request to the given URL\n",
    "res = requests.get(url , headers=headers)\n",
    "\n",
    "\n",
    "\n",
    "views = re.findall('\"shortViewCountText\":{\"accessibility\":{\"accessibilityData\":{\"label\":\".*?\"', res.text)\n",
    "\n",
    "# print(videoids)\n",
    "\n",
    "for view in views:\n",
    "    view_count = view.split('\"')[-2]\n",
    "    print(view_count)\n"
   ]
  },
  {
   "cell_type": "code",
   "execution_count": null,
   "id": "d1a8a5c5-074f-417f-9fd8-2c98fda2ae64",
   "metadata": {},
   "outputs": [],
   "source": [
    "Ans_5"
   ]
  },
  {
   "cell_type": "code",
   "execution_count": 5,
   "id": "3b59ee35-aa22-449f-88a4-14fccd2cadc5",
   "metadata": {},
   "outputs": [
    {
     "name": "stdout",
     "output_type": "stream",
     "text": [
      "20 hours ago\n",
      "2 days ago\n",
      "5 days ago\n",
      "8 days ago\n",
      "10 days ago\n",
      "2 weeks ago\n",
      "2 weeks ago\n",
      "3 weeks ago\n",
      "3 weeks ago\n",
      "3 weeks ago\n",
      "3 weeks ago\n",
      "3 weeks ago\n",
      "3 weeks ago\n",
      "4 weeks ago\n",
      "4 weeks ago\n",
      "1 month ago\n",
      "1 month ago\n",
      "1 month ago\n",
      "1 month ago\n",
      "1 month ago\n",
      "1 month ago\n",
      "1 month ago\n",
      "1 month ago\n",
      "1 month ago\n",
      "1 month ago\n",
      "1 month ago\n",
      "1 month ago\n",
      "2 months ago\n",
      "2 months ago\n",
      "2 months ago\n"
     ]
    }
   ],
   "source": [
    "import requests\n",
    "import re\n",
    "from bs4 import BeautifulSoup\n",
    "\n",
    "url = \"https://www.youtube.com/@PW-Foundation/videos\"\n",
    "\n",
    "headers = {\"User-Agent\": \"Mozilla/5.0 (Windows NT 10.0; Win64; x64) AppleWebKit/537.36 (KHTML, like Gecko) Chrome/58.0.3029.110 Safari/537.36\"}\n",
    "\n",
    "# send a GET request to the given URL\n",
    "res = requests.get(url , headers=headers)\n",
    "\n",
    "\n",
    "\n",
    "published_time = re.findall('\"publishedTimeText\":{\"simpleText\":\".*?\"', res.text)\n",
    "\n",
    "# print(videoids)\n",
    "\n",
    "for time in published_time:\n",
    "    time = time.split('\"')[-2]\n",
    "    print(time)"
   ]
  },
  {
   "cell_type": "code",
   "execution_count": null,
   "id": "04329ac1-632e-4c9e-a524-9f93dc8bf327",
   "metadata": {},
   "outputs": [],
   "source": []
  },
  {
   "cell_type": "markdown",
   "id": "91459540-dc1b-4bc7-a612-79e6ed2feb54",
   "metadata": {
    "tags": []
   },
   "source": [
    "<h1>csv</h1>"
   ]
  },
  {
   "cell_type": "code",
   "execution_count": 20,
   "id": "ef9c3a67-1083-4262-b18c-d224bfcbb668",
   "metadata": {},
   "outputs": [],
   "source": [
    "import os\n",
    "import shutil\n",
    "import re\n",
    "import csv\n",
    "import requests\n",
    "\n",
    "query =  'PW-Foundation'                    \n",
    "# query=input().replace(\" \",\"\")"
   ]
  },
  {
   "cell_type": "code",
   "execution_count": 21,
   "id": "05ad5d91-d6fa-4f0a-93ff-eab3b9fd43f2",
   "metadata": {},
   "outputs": [],
   "source": [
    "def save_to_csv_file(report_list):\n",
    "            file_name = query+'.csv'\n",
    "         \n",
    "            with open(file_name, 'w') as csvfile:\n",
    "                csvwriter = csv.writer(csvfile)\n",
    "                for row in report_list:\n",
    "                    try:\n",
    "                        csvwriter.writerow(row)\n",
    "                    except:                               # UnicodeEncodeError ,because of these 🔥🔥 in the title row[3]         \n",
    "                        # print(row[3])  \n",
    "                        row[3] = row[3].encode('utf-8')\n",
    "                        # print(row[3]) \n",
    "                        csvwriter.writerow(row)\n",
    "                        continue\n",
    "                        "
   ]
  },
  {
   "cell_type": "code",
   "execution_count": 22,
   "id": "2f525d0f-34f6-4775-b8cb-d7ef4256670a",
   "metadata": {},
   "outputs": [],
   "source": [
    "          \n",
    "    \n",
    "headers = {\"User-Agent\": \"Mozilla/5.0 (Windows NT 10.0; Win64; x64) AppleWebKit/537.36 (KHTML, like Gecko) Chrome/112.0.0.0 Safari/537.36\"}\n",
    "\n",
    "# fetch the search results page\n",
    "response = requests.get(f\"https://www.youtube.com/@{query}/videos\", headers=headers)\n",
    "res = response.text\n",
    "\n",
    "# Video\n",
    "videoids = re.findall('\"videoRenderer\":{\"videoId\":\".*?\"', res)\n",
    "# thumbnail\n",
    "thumbnails = re.findall('\"thumbnail\":{\"thumbnails\":\\[{\"url\":\".*?\"', res)\n",
    "# Title\n",
    "titles = re.findall('\"title\":{\"runs\":\\[{\"text\":\".*?\"', res)\n",
    "# Views\n",
    "views = re.findall('\"shortViewCountText\":{\"accessibility\":{\"accessibilityData\":{\"label\":\".*?\"', res)\n",
    "# Published Time\n",
    "published_time = re.findall('\"publishedTimeText\":{\"simpleText\":\".*?\"', res)\n",
    "\n",
    "report_list = [\n",
    "                ['S No', 'Video url', 'Thumbnail', 'Title', 'Views', 'Published Time']\n",
    "            ]\n",
    "for i in range(20):\n",
    "                try:\n",
    "                    temp = []\n",
    "                    temp.append(i+1)\n",
    "                    temp.append('https://www.youtube.com/watch?v=' + videoids[i].split('\"')[-2])\n",
    "                    temp.append(thumbnails[i].split('\"')[-2])\n",
    "                    temp.append(titles[i].split('\"')[-2])\n",
    "                    temp.append(views[i].split('\"')[-2])\n",
    "                    temp.append(published_time[i].split('\"')[-2])\n",
    "                    report_list.append(temp)\n",
    "                except Exception as e:\n",
    "                        print(e)\n",
    "                        continue\n",
    "  \n",
    "\n",
    "save_to_csv_file(report_list)"
   ]
  },
  {
   "cell_type": "code",
   "execution_count": 23,
   "id": "e7550c03-8d0a-4b31-b676-d1dc1be669b6",
   "metadata": {},
   "outputs": [
    {
     "data": {
      "text/plain": [
       "[['S No', 'Video url', 'Thumbnail', 'Title', 'Views', 'Published Time'],\n",
       " [1,\n",
       "  'https://www.youtube.com/watch?v=LxHAzwur8cI',\n",
       "  'https://i.ytimg.com/vi/LxHAzwur8cI/hqdefault.jpg?sqp=-oaymwEbCKgBEF5IVfKriqkDDggBFQAAiEIYAXABwAEG\\\\u0026rs=AOn4CLDNZbhAXEbO4lZbVmc96RmIo9GQiA',\n",
       "  b'How To Start Class-10th Geography || ICSE Board || Complete Roadmap For All Students\\xf0\\x9f\\x94\\xa5',\n",
       "  '4.9K views',\n",
       "  '21 hours ago'],\n",
       " [2,\n",
       "  'https://www.youtube.com/watch?v=sBXHecS1S1w',\n",
       "  'https://i.ytimg.com/vi/sBXHecS1S1w/hqdefault.jpg?sqp=-oaymwEbCKgBEF5IVfKriqkDDggBFQAAiEIYAXABwAEG\\\\u0026rs=AOn4CLAapTRVIPSVdOsYgnxajvzvixRPTg',\n",
       "  'How To Start Class -10th Chemistry || ICSE Board || Complete Plan To Score 95%+ Marks',\n",
       "  '9.2K views',\n",
       "  '2 days ago'],\n",
       " [3,\n",
       "  'https://www.youtube.com/watch?v=l6ZY90YnMy0',\n",
       "  'https://i.ytimg.com/vi/l6ZY90YnMy0/hqdefault.jpg?sqp=-oaymwEbCKgBEF5IVfKriqkDDggBFQAAiEIYAXABwAEG\\\\u0026rs=AOn4CLB4Ga1XK3Xpv3UG7Do6BB1Pqyi3VA',\n",
       "  b'Complete Plan to Start Class-9th Science || Follow This Master Strategy to score more than 95% \\xe2\\x9a\\xa1\\xe2\\x9a\\xa1',\n",
       "  '27K views',\n",
       "  '5 days ago'],\n",
       " [4,\n",
       "  'https://www.youtube.com/watch?v=33onjejJLDs',\n",
       "  'https://i.ytimg.com/vi/33onjejJLDs/hqdefault.jpg?sqp=-oaymwEbCKgBEF5IVfKriqkDDggBFQAAiEIYAXABwAEG\\\\u0026rs=AOn4CLDWhx_14WiEKWLCva7MgOSSOOxkBw',\n",
       "  b'Best Way To Start Class -9th English \\xf0\\x9f\\x92\\xa5 || Master Strategy Plan || Follow this \\xe2\\x9a\\xa1\\xe2\\x9a\\xa1',\n",
       "  '11K views',\n",
       "  '8 days ago'],\n",
       " [5,\n",
       "  'https://www.youtube.com/watch?v=o3eOj-jhhfI',\n",
       "  'https://i.ytimg.com/vi/o3eOj-jhhfI/hqdefault.jpg?sqp=-oaymwEbCKgBEF5IVfKriqkDDggBFQAAiEIYAXABwAEG\\\\u0026rs=AOn4CLDSD_w0pUzDMFqmNfYhktIyx7cDDg',\n",
       "  b\"PWSAT Is Back Again!! \\xf0\\x9f\\x94\\xa5 || India's Biggest Scholarship Test || Watch This \\xe2\\x9a\\xa1\\xe2\\x9a\\xa1\",\n",
       "  '19K views',\n",
       "  '10 days ago'],\n",
       " [6,\n",
       "  'https://www.youtube.com/watch?v=ecGcmstmnGA',\n",
       "  'https://i.ytimg.com/vi/ecGcmstmnGA/hqdefault.jpg?sqp=-oaymwEbCKgBEF5IVfKriqkDDggBFQAAiEIYAXABwAEG\\\\u0026rs=AOn4CLDRTve0smEc_Ggw7B1mR1YncPXizg',\n",
       "  b'Finally The Wait is Over \\xf0\\x9f\\x94\\xa5 || Icse Batch Coming Soon || Must Watch \\xf0\\x9f\\x94\\xa5\\xf0\\x9f\\x94\\xa5',\n",
       "  '22K views',\n",
       "  '2 weeks ago'],\n",
       " [7,\n",
       "  'https://www.youtube.com/watch?v=08WWij66k8A',\n",
       "  'https://i.ytimg.com/vi/08WWij66k8A/hqdefault.jpg?sqp=-oaymwEbCKgBEF5IVfKriqkDDggBFQAAiEIYAXABwAEG\\\\u0026rs=AOn4CLAX1te33n6AmFJAuTRa0zlstmUXCw',\n",
       "  b\"Best Strategy To Start Class-9th SST || Don't Miss This Video\\xf0\\x9f\\x9b\\x91 || Complete Roadmap\",\n",
       "  '22K views',\n",
       "  '2 weeks ago'],\n",
       " [8,\n",
       "  'https://www.youtube.com/watch?v=bXpeyKIVioA',\n",
       "  'https://i.ytimg.com/vi/bXpeyKIVioA/hqdefault.jpg?sqp=-oaymwEbCKgBEF5IVfKriqkDDggBFQAAiEIYAXABwAEG\\\\u0026rs=AOn4CLA3kcxKj_wE5XyySTfvw1gq94axZQ',\n",
       "  b'Finally The Wait is Over\\xf0\\x9f\\x94\\xa5 || Launching Foundation Channels in 5 Different Languages \\xf0\\x9f\\xa4\\xa9',\n",
       "  '31K views',\n",
       "  '3 weeks ago'],\n",
       " [9,\n",
       "  'https://www.youtube.com/watch?v=YwxDKs7jNXs',\n",
       "  'https://i.ytimg.com/vi/YwxDKs7jNXs/hqdefault.jpg?sqp=-oaymwEbCKgBEF5IVfKriqkDDggBFQAAiEIYAXABwAEG\\\\u0026rs=AOn4CLB0gQI485GzprtsjwWZ6i2X-wgDmw',\n",
       "  b'How To Plan For Class-11th || Perfect Strategy \\xf0\\x9f\\x92\\xaf || A Complete Roadmap!!',\n",
       "  '69K views',\n",
       "  '3 weeks ago'],\n",
       " [10,\n",
       "  'https://www.youtube.com/watch?v=dVq8dLd5zK4',\n",
       "  'https://i.ytimg.com/vi/dVq8dLd5zK4/hqdefault.jpg?sqp=-oaymwEbCKgBEF5IVfKriqkDDggBFQAAiEIYAXABwAEG\\\\u0026rs=AOn4CLBew4lMbLsIIHdTpens5xXljtXWhg',\n",
       "  b'Strategy to Crack NEET in 1st Attempt \\xf0\\x9f\\x92\\xaa\\xf0\\x9f\\x92\\xaa',\n",
       "  '142K views',\n",
       "  '3 weeks ago'],\n",
       " [11,\n",
       "  'https://www.youtube.com/watch?v=9y6ruBLE7z0',\n",
       "  'https://i.ytimg.com/vi/9y6ruBLE7z0/hqdefault.jpg?sqp=-oaymwEbCKgBEF5IVfKriqkDDggBFQAAiEIYAXABwAEG\\\\u0026rs=AOn4CLB4i7KHvaiGTuCoxV3pAign0xha7A',\n",
       "  b'How to start class 9th Maths \\xe2\\x9d\\x93\\xf0\\x9f\\xa4\\x94 | Maths Strategy',\n",
       "  '25K views',\n",
       "  '3 weeks ago'],\n",
       " [12,\n",
       "  'https://www.youtube.com/watch?v=yv4Gi792S8o',\n",
       "  'https://i.ytimg.com/vi/yv4Gi792S8o/hqdefault.jpg?sqp=-oaymwEbCKgBEF5IVfKriqkDDggBFQAAiEIYAXABwAEG\\\\u0026rs=AOn4CLCLKPoNewvk3nk69FIdiTjma_3m5Q',\n",
       "  b'Ritik Sir \\xe0\\xa4\\xa8\\xe0\\xa5\\x87 Class 10th \\xe0\\xa4\\x95\\xe0\\xa5\\x80 First Class \\xe0\\xa4\\xae\\xe0\\xa5\\x87\\xe0\\xa4\\x82 \\xe0\\xa4\\xb9\\xe0\\xa5\\x80, \\xe0\\xa4\\xac\\xe0\\xa4\\x9a\\xe0\\xa5\\x8d\\xe0\\xa4\\x9a\\xe0\\xa5\\x8b\\xe0\\xa4\\x82 \\xe0\\xa4\\x95\\xe0\\xa5\\x8b \\xe0\\xa4\\x95\\xe0\\xa4\\xa1\\xe0\\xa4\\xbc\\xe0\\xa4\\xb5\\xe0\\xa4\\xbe \\xe0\\xa4\\xb8\\xe0\\xa4\\x9a \\xe0\\xa4\\xac\\xe0\\xa4\\xa4\\xe0\\xa4\\xbe \\xe0\\xa4\\xa6\\xe0\\xa4\\xbf\\xe0\\xa4\\xaf\\xe0\\xa4\\xbe \\xf0\\x9f\\x94\\xb4\\xf0\\x9f\\x98\\xb1 | UDAAN 2024',\n",
       "  '91K views',\n",
       "  '3 weeks ago'],\n",
       " [13,\n",
       "  'https://www.youtube.com/watch?v=aPrSAvwuhTk',\n",
       "  'https://i.ytimg.com/vi/aPrSAvwuhTk/hqdefault.jpg?sqp=-oaymwEbCKgBEF5IVfKriqkDDggBFQAAiEIYAXABwAEG\\\\u0026rs=AOn4CLB7P5sbH9mtjrwz2nMb0J2ZyYMcoA',\n",
       "  b'How to change Mindset from class 10th to 11th \\xe2\\x9d\\x93 \\xe2\\x9d\\x93',\n",
       "  '38K views',\n",
       "  '3 weeks ago'],\n",
       " [14,\n",
       "  'https://www.youtube.com/watch?v=tigMKfSBJ9E',\n",
       "  'https://i.ytimg.com/vi/tigMKfSBJ9E/hqdefault.jpg?sqp=-oaymwEbCKgBEF5IVfKriqkDDggBFQAAiEIYAXABwAEG\\\\u0026rs=AOn4CLDOYgabcyJz2Y9qIOgbVueizCjnaQ',\n",
       "  b'Bachoo \\xe0\\xa4\\x86\\xe0\\xa4\\xaa\\xe0\\xa4\\x95\\xe0\\xa5\\x87 \\xe0\\xa4\\x95\\xe0\\xa5\\x8d\\xe0\\xa4\\xaf\\xe0\\xa4\\xbe Plan \\xe0\\xa4\\xb9\\xe0\\xa5\\x88 \\xe0\\xa4\\x87\\xe0\\xa4\\xb8 Summer Vacation \\xe2\\x9d\\x93\\xe2\\x9d\\x93',\n",
       "  '40K views',\n",
       "  '4 weeks ago'],\n",
       " [15,\n",
       "  'https://www.youtube.com/watch?v=2OrYDCb737E',\n",
       "  'https://i.ytimg.com/vi/2OrYDCb737E/hqdefault.jpg?sqp=-oaymwEbCKgBEF5IVfKriqkDDggBFQAAiEIYAXABwAEG\\\\u0026rs=AOn4CLDP2_5Tg6J3z90CmfAdGiWwdGS0DA',\n",
       "  'The Ultimate Class 11th Survival Guide: Tips and Tricks for Success',\n",
       "  '297K views',\n",
       "  '1 month ago'],\n",
       " [16,\n",
       "  'https://www.youtube.com/watch?v=U1FxvG4GNAY',\n",
       "  'https://i.ytimg.com/vi/U1FxvG4GNAY/hqdefault.jpg?sqp=-oaymwEbCKgBEF5IVfKriqkDDggBFQAAiEIYAXABwAEG\\\\u0026rs=AOn4CLCVFHcUceKIgjLX7eyJ3shOs1R8Og',\n",
       "  b'If not MBBS then What \\xe2\\x9d\\x93|| Career Options for Biology Students',\n",
       "  '53K views',\n",
       "  '1 month ago'],\n",
       " [17,\n",
       "  'https://www.youtube.com/watch?v=t961YvjKH20',\n",
       "  'https://i.ytimg.com/vi/t961YvjKH20/hqdefault.jpg?sqp=-oaymwEbCKgBEF5IVfKriqkDDggBFQAAiEIYAXABwAEG\\\\u0026rs=AOn4CLBfE9VGMCC9oH3XSbqZ_mut9LsWtg',\n",
       "  'Why Commerce After 10th, Explore the Best Career Options | Must Watch',\n",
       "  '49K views',\n",
       "  '1 month ago'],\n",
       " [18,\n",
       "  'https://www.youtube.com/watch?v=XA03UtMWbIA',\n",
       "  'https://i.ytimg.com/vi/XA03UtMWbIA/hqdefault.jpg?sqp=-oaymwEbCKgBEF5IVfKriqkDDggBFQAAiEIYAXABwAEG\\\\u0026rs=AOn4CLBSMJPbzb3qbvkRssG2_AwQPKz5Mw',\n",
       "  'Class 10th Ke Baad Konsi Stream Le? || Strategy Wallah || PW Foundation',\n",
       "  '77K views',\n",
       "  '1 month ago'],\n",
       " [19,\n",
       "  'https://www.youtube.com/watch?v=9jfTn4lcLu4',\n",
       "  'https://i.ytimg.com/vi/9jfTn4lcLu4/hqdefault.jpg?sqp=-oaymwEbCKgBEF5IVfKriqkDDggBFQAAiEIYAXABwAEG\\\\u0026rs=AOn4CLDYaP9sJpd9-CSpUBCcMcbnQpnFtw',\n",
       "  b'\\xe0\\xa4\\xa4\\xe0\\xa5\\x8b \\xe0\\xa4\\x9a\\xe0\\xa4\\xb2\\xe0\\xa4\\xbf\\xe0\\xa4\\x8f \\xe0\\xa4\\xb6\\xe0\\xa5\\x81\\xe0\\xa4\\xb0\\xe0\\xa5\\x82 \\xe0\\xa4\\x95\\xe0\\xa4\\xb0\\xe0\\xa4\\xa4\\xe0\\xa5\\x87 \\xe0\\xa4\\xb9\\xe0\\xa5\\x88 AIIMS Jane Ki Tayyari !! Revealing Arjuna NEET Faculties \\xf0\\x9f\\x99\\x8f Check Description.',\n",
       "  '63K views',\n",
       "  '1 month ago'],\n",
       " [20,\n",
       "  'https://www.youtube.com/watch?v=c_pKfD4UgFg',\n",
       "  'https://i.ytimg.com/vi/c_pKfD4UgFg/hqdefault.jpg?sqp=-oaymwEbCKgBEF5IVfKriqkDDggBFQAAiEIYAXABwAEG\\\\u0026rs=AOn4CLD-E_SqIidQMT-tPHjzL77ThLltDQ',\n",
       "  b'Ruman Ashraf - Bihar Board Class 10th TOPPER from PW !! Udaan Batch\\xe2\\x9a\\xa1',\n",
       "  '81K views',\n",
       "  '1 month ago']]"
      ]
     },
     "execution_count": 23,
     "metadata": {},
     "output_type": "execute_result"
    }
   ],
   "source": [
    "report_list "
   ]
  },
  {
   "cell_type": "code",
   "execution_count": 11,
   "id": "24919a50-0eb2-4913-923b-26a085c9c86d",
   "metadata": {},
   "outputs": [
    {
     "data": {
      "text/plain": [
       "'2 weeks ago'"
      ]
     },
     "execution_count": 11,
     "metadata": {},
     "output_type": "execute_result"
    }
   ],
   "source": [
    "published_time[i].split('\"')[-2]"
   ]
  },
  {
   "cell_type": "code",
   "execution_count": 12,
   "id": "bd8357f4-a62d-4a30-939b-61e565d328d6",
   "metadata": {},
   "outputs": [
    {
     "data": {
      "text/plain": [
       "'Finally The Wait is Over 🔥 || Icse Batch Coming Soon || Must Watch 🔥🔥'"
      ]
     },
     "execution_count": 12,
     "metadata": {},
     "output_type": "execute_result"
    }
   ],
   "source": [
    "titles[i].split('\"')[-2]"
   ]
  },
  {
   "cell_type": "code",
   "execution_count": 13,
   "id": "e27e56ac-5935-4d63-bb1b-6dcb177fa20b",
   "metadata": {},
   "outputs": [
    {
     "data": {
      "text/plain": [
       "'21K views'"
      ]
     },
     "execution_count": 13,
     "metadata": {},
     "output_type": "execute_result"
    }
   ],
   "source": [
    "views[i].split('\"')[-2]"
   ]
  },
  {
   "cell_type": "code",
   "execution_count": 14,
   "id": "ebc60d06-f3d1-45fe-96b8-64c2b20de118",
   "metadata": {},
   "outputs": [
    {
     "data": {
      "text/plain": [
       "'https://i.ytimg.com/vi/ecGcmstmnGA/hqdefault.jpg?sqp=-oaymwEbCKgBEF5IVfKriqkDDggBFQAAiEIYAXABwAEG\\\\u0026rs=AOn4CLDRTve0smEc_Ggw7B1mR1YncPXizg'"
      ]
     },
     "execution_count": 14,
     "metadata": {},
     "output_type": "execute_result"
    }
   ],
   "source": [
    "thumbnails[i].split('\"')[-2]"
   ]
  },
  {
   "cell_type": "code",
   "execution_count": 24,
   "id": "1a3cabe3-f8d2-4f65-8f82-064e540561eb",
   "metadata": {},
   "outputs": [
    {
     "data": {
      "text/plain": [
       "'https://www.youtube.com/watch?v=c_pKfD4UgFg'"
      ]
     },
     "execution_count": 24,
     "metadata": {},
     "output_type": "execute_result"
    }
   ],
   "source": [
    "'https://www.youtube.com/watch?v=' + videoids[i].split('\"')[-2]"
   ]
  },
  {
   "cell_type": "markdown",
   "id": "7eb5bfda",
   "metadata": {},
   "source": [
    "go to complete project https://github.com/Sufiyan999/PW-DataScience-Masters/tree/master/Assignments/2.%20FEBRUARY/22_feb_assign/YOUTUBE-IMAGE-SCRAPPER-PROJECT"
   ]
  },
  {
   "cell_type": "code",
   "execution_count": null,
   "id": "f06a3c6c-559a-426b-9b3a-18a20357e08f",
   "metadata": {},
   "outputs": [],
   "source": []
  },
  {
   "cell_type": "code",
   "execution_count": null,
   "id": "d85f8f05",
   "metadata": {},
   "outputs": [],
   "source": []
  }
 ],
 "metadata": {
  "kernelspec": {
   "display_name": "Python 3 (ipykernel)",
   "language": "python",
   "name": "python3"
  },
  "language_info": {
   "codemirror_mode": {
    "name": "ipython",
    "version": 3
   },
   "file_extension": ".py",
   "mimetype": "text/x-python",
   "name": "python",
   "nbconvert_exporter": "python",
   "pygments_lexer": "ipython3",
   "version": "3.9.16"
  },
  "widgets": {
   "application/vnd.jupyter.widget-state+json": {
    "state": {},
    "version_major": 2,
    "version_minor": 0
   }
  }
 },
 "nbformat": 4,
 "nbformat_minor": 5
}
