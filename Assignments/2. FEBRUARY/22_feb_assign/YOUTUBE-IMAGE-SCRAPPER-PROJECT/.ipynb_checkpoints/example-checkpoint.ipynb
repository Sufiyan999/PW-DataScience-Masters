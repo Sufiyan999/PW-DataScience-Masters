{
 "cells": [
  {
   "cell_type": "code",
   "execution_count": null,
   "metadata": {},
   "outputs": [
    {
     "name": "stdout",
     "output_type": "stream",
     "text": [
      "[1500.0, 593.0, 1200000.0, 2300000000.0, 10000.0, 2500000.0]\n"
     ]
    }
   ],
   "source": [
    "def views_to_numeric(views_str):\n",
    "    views_str = views_str.replace(',', '')  # Remove commas if present\n",
    "    if 'K' in views_str:\n",
    "        views_str = views_str.replace('K', '')\n",
    "        return float(views_str) * 1000\n",
    "    elif 'M' in views_str:\n",
    "        views_str = views_str.replace('M', '')\n",
    "        return float(views_str) * 1000000\n",
    "    elif 'B' in views_str:\n",
    "        views_str = views_str.replace('B', '')\n",
    "        return float(views_str) * 1000000000\n",
    "    else:\n",
    "        return float(views_str)\n",
    "\n",
    "# Example usage:\n",
    "views = [\n",
    "    \"1.5K\",\n",
    "    \"593\",\n",
    "    \"1.2M\",\n",
    "    \"2.3B\",\n",
    "    \"10K\",\n",
    "    \"2.5M\",\n",
    "]\n",
    "\n",
    "numeric_views = [views_to_numeric(view) for view in views]\n",
    "print(numeric_views)"
   ]
  },
  {
   "cell_type": "code",
   "execution_count": 8,
   "metadata": {},
   "outputs": [
    {
     "ename": "SystemExit",
     "evalue": "1",
     "output_type": "error",
     "traceback": [
      "\u001b[1;31m---------------------------------------------------------------------------\u001b[0m",
      "\u001b[1;31mSystemExit\u001b[0m                                Traceback (most recent call last)",
      "\u001b[1;32md:\\Data Science\\Assignments\\2. FEBRUARY\\22_feb_assign\\YOUTUBE-IMAGE-SCRAPPER-PROJECT\\example.ipynb Cell 2\u001b[0m line \u001b[0;36m4\n\u001b[0;32m     <a href='vscode-notebook-cell:/d%3A/Data%20Science/Assignments/2.%20FEBRUARY/22_feb_assign/YOUTUBE-IMAGE-SCRAPPER-PROJECT/example.ipynb#W1sZmlsZQ%3D%3D?line=43'>44</a>\u001b[0m     \u001b[39mreturn\u001b[39;00m render_template(\u001b[39m'\u001b[39m\u001b[39mbokeh.html\u001b[39m\u001b[39m'\u001b[39m, script\u001b[39m=\u001b[39mscript, div\u001b[39m=\u001b[39mdiv)\n\u001b[0;32m     <a href='vscode-notebook-cell:/d%3A/Data%20Science/Assignments/2.%20FEBRUARY/22_feb_assign/YOUTUBE-IMAGE-SCRAPPER-PROJECT/example.ipynb#W1sZmlsZQ%3D%3D?line=45'>46</a>\u001b[0m \u001b[39mif\u001b[39;00m \u001b[39m__name__\u001b[39m \u001b[39m==\u001b[39m \u001b[39m'\u001b[39m\u001b[39m__main__\u001b[39m\u001b[39m'\u001b[39m:\n\u001b[1;32m---> <a href='vscode-notebook-cell:/d%3A/Data%20Science/Assignments/2.%20FEBRUARY/22_feb_assign/YOUTUBE-IMAGE-SCRAPPER-PROJECT/example.ipynb#W1sZmlsZQ%3D%3D?line=46'>47</a>\u001b[0m     app\u001b[39m.\u001b[39mrun(debug\u001b[39m=\u001b[39m\u001b[39mTrue\u001b[39;00m)\n",
      "File \u001b[1;32md:\\Softwares\\Anaconda\\Lib\\site-packages\\flask\\app.py:1188\u001b[0m, in \u001b[0;36mFlask.run\u001b[1;34m(self, host, port, debug, load_dotenv, **options)\u001b[0m\n\u001b[0;32m   1185\u001b[0m \u001b[39mfrom\u001b[39;00m \u001b[39mwerkzeug\u001b[39;00m\u001b[39m.\u001b[39;00m\u001b[39mserving\u001b[39;00m \u001b[39mimport\u001b[39;00m run_simple\n\u001b[0;32m   1187\u001b[0m \u001b[39mtry\u001b[39;00m:\n\u001b[1;32m-> 1188\u001b[0m     run_simple(t\u001b[39m.\u001b[39mcast(\u001b[39mstr\u001b[39m, host), port, \u001b[39mself\u001b[39m, \u001b[39m*\u001b[39m\u001b[39m*\u001b[39moptions)\n\u001b[0;32m   1189\u001b[0m \u001b[39mfinally\u001b[39;00m:\n\u001b[0;32m   1190\u001b[0m     \u001b[39m# reset the first request information if the development server\u001b[39;00m\n\u001b[0;32m   1191\u001b[0m     \u001b[39m# reset normally.  This makes it possible to restart the server\u001b[39;00m\n\u001b[0;32m   1192\u001b[0m     \u001b[39m# without reloader and that stuff from an interactive shell.\u001b[39;00m\n\u001b[0;32m   1193\u001b[0m     \u001b[39mself\u001b[39m\u001b[39m.\u001b[39m_got_first_request \u001b[39m=\u001b[39m \u001b[39mFalse\u001b[39;00m\n",
      "File \u001b[1;32md:\\Softwares\\Anaconda\\Lib\\site-packages\\werkzeug\\serving.py:1059\u001b[0m, in \u001b[0;36mrun_simple\u001b[1;34m(hostname, port, application, use_reloader, use_debugger, use_evalex, extra_files, exclude_patterns, reloader_interval, reloader_type, threaded, processes, request_handler, static_files, passthrough_errors, ssl_context)\u001b[0m\n\u001b[0;32m   1056\u001b[0m \u001b[39mfrom\u001b[39;00m \u001b[39m.\u001b[39;00m\u001b[39m_reloader\u001b[39;00m \u001b[39mimport\u001b[39;00m run_with_reloader\n\u001b[0;32m   1058\u001b[0m \u001b[39mtry\u001b[39;00m:\n\u001b[1;32m-> 1059\u001b[0m     run_with_reloader(\n\u001b[0;32m   1060\u001b[0m         srv\u001b[39m.\u001b[39mserve_forever,\n\u001b[0;32m   1061\u001b[0m         extra_files\u001b[39m=\u001b[39mextra_files,\n\u001b[0;32m   1062\u001b[0m         exclude_patterns\u001b[39m=\u001b[39mexclude_patterns,\n\u001b[0;32m   1063\u001b[0m         interval\u001b[39m=\u001b[39mreloader_interval,\n\u001b[0;32m   1064\u001b[0m         reloader_type\u001b[39m=\u001b[39mreloader_type,\n\u001b[0;32m   1065\u001b[0m     )\n\u001b[0;32m   1066\u001b[0m \u001b[39mfinally\u001b[39;00m:\n\u001b[0;32m   1067\u001b[0m     srv\u001b[39m.\u001b[39mserver_close()\n",
      "File \u001b[1;32md:\\Softwares\\Anaconda\\Lib\\site-packages\\werkzeug\\_reloader.py:444\u001b[0m, in \u001b[0;36mrun_with_reloader\u001b[1;34m(main_func, extra_files, exclude_patterns, interval, reloader_type)\u001b[0m\n\u001b[0;32m    442\u001b[0m             reloader\u001b[39m.\u001b[39mrun()\n\u001b[0;32m    443\u001b[0m     \u001b[39melse\u001b[39;00m:\n\u001b[1;32m--> 444\u001b[0m         sys\u001b[39m.\u001b[39mexit(reloader\u001b[39m.\u001b[39mrestart_with_reloader())\n\u001b[0;32m    445\u001b[0m \u001b[39mexcept\u001b[39;00m \u001b[39mKeyboardInterrupt\u001b[39;00m:\n\u001b[0;32m    446\u001b[0m     \u001b[39mpass\u001b[39;00m\n",
      "\u001b[1;31mSystemExit\u001b[0m: 1"
     ]
    },
    {
     "name": "stdout",
     "output_type": "stream",
     "text": [
      " * Serving Flask app '__main__'\n",
      " * Debug mode: on\n"
     ]
    },
    {
     "name": "stderr",
     "output_type": "stream",
     "text": [
      "WARNING: This is a development server. Do not use it in a production deployment. Use a production WSGI server instead.\n",
      " * Running on http://127.0.0.1:5000\n",
      "Press CTRL+C to quit\n",
      " * Restarting with watchdog (windowsapi)\n"
     ]
    },
    {
     "ename": "SystemExit",
     "evalue": "1",
     "output_type": "error",
     "traceback": [
      "An exception has occurred, use %tb to see the full traceback.\n",
      "\u001b[1;31mSystemExit\u001b[0m\u001b[1;31m:\u001b[0m 1\n"
     ]
    }
   ],
   "source": [
    "%tb\n",
    "from flask import Flask, render_template\n",
    "from bokeh.plotting import figure, output_file, show\n",
    "from bokeh.embed import components\n",
    "import pandas as pd\n",
    "\n",
    "app = Flask(__name__)\n",
    "\n",
    "# Sample data\n",
    "views = [\n",
    "    \"1.5K\", \"593\", \"391\", \"489\", \"572\", \"1.8K\", \"10K\", \"2.5K\", \"3.4K\", \"1.5K\",\n",
    "    \"449\", \"1.4K\", \"3.6K\", \"376\", \"119\", \"231\", \"135\", \"132\", \"251\", \"281\", \"1.2K\",\n",
    "    \"432\", \"366\", \"1K\", \"2.4K\", \"118\", \"289\", \"138\", \"317\", \"173\"\n",
    "]\n",
    "\n",
    "# Convert views to numeric\n",
    "def views_to_numeric(views_str):\n",
    "    views_str = views_str.replace(',', '')  # Remove commas if present\n",
    "    if 'K' in views_str:\n",
    "        views_str = views_str.replace('K', '')\n",
    "        return float(views_str) * 1000\n",
    "    elif 'M' in views_str:\n",
    "        views_str = views_str.replace('M', '')\n",
    "        return float(views_str) * 1000000\n",
    "    elif 'B' in views_str:\n",
    "        views_str = views_str.replace('B', '')\n",
    "        return float(views_str) * 1000000000\n",
    "    else:\n",
    "        return float(views_str)\n",
    "\n",
    "numeric_views = [views_to_numeric(view) for view in views]\n",
    "sno = list(range(1, len(views) + 1))\n",
    "\n",
    "# Create a Bokeh plot\n",
    "p = figure(title=\"YouTube Video Views vs. Serial Number\", x_axis_label=\"Serial Number\", y_axis_label=\"Views\")\n",
    "p.circle(sno, numeric_views, size=8, color=\"blue\", alpha=0.7)\n",
    "\n",
    "# Convert the plot to HTML and script components\n",
    "script, div = components(p)\n",
    "\n",
    "# Define a route to render the plot\n",
    "@app.route('/')\n",
    "def index():\n",
    "    return render_template('bokeh.html', script=script, div=div)\n",
    "\n",
    "if __name__ == '__main__':\n",
    "    app.run(debug=True)\n"
   ]
  },
  {
   "cell_type": "code",
   "execution_count": 1,
   "metadata": {},
   "outputs": [
    {
     "ename": "ModuleNotFoundError",
     "evalue": "No module named 'bokeh.plotting'; 'bokeh' is not a package",
     "output_type": "error",
     "traceback": [
      "\u001b[1;31m---------------------------------------------------------------------------\u001b[0m",
      "\u001b[1;31mModuleNotFoundError\u001b[0m                       Traceback (most recent call last)",
      "\u001b[1;32md:\\Data Science\\Assignments\\2. FEBRUARY\\22_feb_assign\\YOUTUBE-IMAGE-SCRAPPER-PROJECT\\example.ipynb Cell 3\u001b[0m line \u001b[0;36m1\n\u001b[1;32m----> <a href='vscode-notebook-cell:/d%3A/Data%20Science/Assignments/2.%20FEBRUARY/22_feb_assign/YOUTUBE-IMAGE-SCRAPPER-PROJECT/example.ipynb#W3sZmlsZQ%3D%3D?line=0'>1</a>\u001b[0m \u001b[39mfrom\u001b[39;00m \u001b[39mbokeh\u001b[39;00m\u001b[39m.\u001b[39;00m\u001b[39mplotting\u001b[39;00m \u001b[39mimport\u001b[39;00m figure, output_file, show\n\u001b[0;32m      <a href='vscode-notebook-cell:/d%3A/Data%20Science/Assignments/2.%20FEBRUARY/22_feb_assign/YOUTUBE-IMAGE-SCRAPPER-PROJECT/example.ipynb#W3sZmlsZQ%3D%3D?line=2'>3</a>\u001b[0m \u001b[39m# Sample data\u001b[39;00m\n\u001b[0;32m      <a href='vscode-notebook-cell:/d%3A/Data%20Science/Assignments/2.%20FEBRUARY/22_feb_assign/YOUTUBE-IMAGE-SCRAPPER-PROJECT/example.ipynb#W3sZmlsZQ%3D%3D?line=3'>4</a>\u001b[0m views \u001b[39m=\u001b[39m [\n\u001b[0;32m      <a href='vscode-notebook-cell:/d%3A/Data%20Science/Assignments/2.%20FEBRUARY/22_feb_assign/YOUTUBE-IMAGE-SCRAPPER-PROJECT/example.ipynb#W3sZmlsZQ%3D%3D?line=4'>5</a>\u001b[0m     \u001b[39m\"\u001b[39m\u001b[39m1.5K\u001b[39m\u001b[39m\"\u001b[39m, \u001b[39m\"\u001b[39m\u001b[39m593\u001b[39m\u001b[39m\"\u001b[39m, \u001b[39m\"\u001b[39m\u001b[39m391\u001b[39m\u001b[39m\"\u001b[39m, \u001b[39m\"\u001b[39m\u001b[39m489\u001b[39m\u001b[39m\"\u001b[39m, \u001b[39m\"\u001b[39m\u001b[39m572\u001b[39m\u001b[39m\"\u001b[39m, \u001b[39m\"\u001b[39m\u001b[39m1.8K\u001b[39m\u001b[39m\"\u001b[39m, \u001b[39m\"\u001b[39m\u001b[39m10K\u001b[39m\u001b[39m\"\u001b[39m, \u001b[39m\"\u001b[39m\u001b[39m2.5K\u001b[39m\u001b[39m\"\u001b[39m, \u001b[39m\"\u001b[39m\u001b[39m3.4K\u001b[39m\u001b[39m\"\u001b[39m, \u001b[39m\"\u001b[39m\u001b[39m1.5K\u001b[39m\u001b[39m\"\u001b[39m,\n\u001b[0;32m      <a href='vscode-notebook-cell:/d%3A/Data%20Science/Assignments/2.%20FEBRUARY/22_feb_assign/YOUTUBE-IMAGE-SCRAPPER-PROJECT/example.ipynb#W3sZmlsZQ%3D%3D?line=5'>6</a>\u001b[0m     \u001b[39m\"\u001b[39m\u001b[39m449\u001b[39m\u001b[39m\"\u001b[39m, \u001b[39m\"\u001b[39m\u001b[39m1.4K\u001b[39m\u001b[39m\"\u001b[39m, \u001b[39m\"\u001b[39m\u001b[39m3.6K\u001b[39m\u001b[39m\"\u001b[39m, \u001b[39m\"\u001b[39m\u001b[39m376\u001b[39m\u001b[39m\"\u001b[39m, \u001b[39m\"\u001b[39m\u001b[39m119\u001b[39m\u001b[39m\"\u001b[39m, \u001b[39m\"\u001b[39m\u001b[39m231\u001b[39m\u001b[39m\"\u001b[39m, \u001b[39m\"\u001b[39m\u001b[39m135\u001b[39m\u001b[39m\"\u001b[39m, \u001b[39m\"\u001b[39m\u001b[39m132\u001b[39m\u001b[39m\"\u001b[39m, \u001b[39m\"\u001b[39m\u001b[39m251\u001b[39m\u001b[39m\"\u001b[39m, \u001b[39m\"\u001b[39m\u001b[39m281\u001b[39m\u001b[39m\"\u001b[39m, \u001b[39m\"\u001b[39m\u001b[39m1.2K\u001b[39m\u001b[39m\"\u001b[39m,\n\u001b[0;32m      <a href='vscode-notebook-cell:/d%3A/Data%20Science/Assignments/2.%20FEBRUARY/22_feb_assign/YOUTUBE-IMAGE-SCRAPPER-PROJECT/example.ipynb#W3sZmlsZQ%3D%3D?line=6'>7</a>\u001b[0m     \u001b[39m\"\u001b[39m\u001b[39m432\u001b[39m\u001b[39m\"\u001b[39m, \u001b[39m\"\u001b[39m\u001b[39m366\u001b[39m\u001b[39m\"\u001b[39m, \u001b[39m\"\u001b[39m\u001b[39m1K\u001b[39m\u001b[39m\"\u001b[39m, \u001b[39m\"\u001b[39m\u001b[39m2.4K\u001b[39m\u001b[39m\"\u001b[39m, \u001b[39m\"\u001b[39m\u001b[39m118\u001b[39m\u001b[39m\"\u001b[39m, \u001b[39m\"\u001b[39m\u001b[39m289\u001b[39m\u001b[39m\"\u001b[39m, \u001b[39m\"\u001b[39m\u001b[39m138\u001b[39m\u001b[39m\"\u001b[39m, \u001b[39m\"\u001b[39m\u001b[39m317\u001b[39m\u001b[39m\"\u001b[39m, \u001b[39m\"\u001b[39m\u001b[39m173\u001b[39m\u001b[39m\"\u001b[39m\n\u001b[0;32m      <a href='vscode-notebook-cell:/d%3A/Data%20Science/Assignments/2.%20FEBRUARY/22_feb_assign/YOUTUBE-IMAGE-SCRAPPER-PROJECT/example.ipynb#W3sZmlsZQ%3D%3D?line=7'>8</a>\u001b[0m ]\n",
      "File \u001b[1;32md:\\Data Science\\Assignments\\2. FEBRUARY\\22_feb_assign\\YOUTUBE-IMAGE-SCRAPPER-PROJECT\\bokeh.py:2\u001b[0m\n\u001b[0;32m      1\u001b[0m \u001b[39mfrom\u001b[39;00m \u001b[39mflask\u001b[39;00m \u001b[39mimport\u001b[39;00m Flask, render_template\n\u001b[1;32m----> 2\u001b[0m \u001b[39mfrom\u001b[39;00m \u001b[39mbokeh\u001b[39;00m\u001b[39m.\u001b[39;00m\u001b[39mplotting\u001b[39;00m \u001b[39mimport\u001b[39;00m figure, output_file, show\n\u001b[0;32m      3\u001b[0m \u001b[39mfrom\u001b[39;00m \u001b[39mbokeh\u001b[39;00m\u001b[39m.\u001b[39;00m\u001b[39membed\u001b[39;00m \u001b[39mimport\u001b[39;00m components\n\u001b[0;32m      4\u001b[0m \u001b[39mimport\u001b[39;00m \u001b[39mpandas\u001b[39;00m \u001b[39mas\u001b[39;00m \u001b[39mpd\u001b[39;00m\n",
      "\u001b[1;31mModuleNotFoundError\u001b[0m: No module named 'bokeh.plotting'; 'bokeh' is not a package"
     ]
    }
   ],
   "source": [
    "from bokeh.plotting import figure, output_file, show\n",
    "\n",
    "# Sample data\n",
    "views = [\n",
    "    \"1.5K\", \"593\", \"391\", \"489\", \"572\", \"1.8K\", \"10K\", \"2.5K\", \"3.4K\", \"1.5K\",\n",
    "    \"449\", \"1.4K\", \"3.6K\", \"376\", \"119\", \"231\", \"135\", \"132\", \"251\", \"281\", \"1.2K\",\n",
    "    \"432\", \"366\", \"1K\", \"2.4K\", \"118\", \"289\", \"138\", \"317\", \"173\"\n",
    "]\n",
    "\n",
    "# Convert views to numeric\n",
    "def views_to_numeric(views_str):\n",
    "    views_str = views_str.replace(',', '')  # Remove commas if present\n",
    "    if 'K' in views_str:\n",
    "        views_str = views_str.replace('K', '')\n",
    "        return float(views_str) * 1000\n",
    "    elif 'M' in views_str:\n",
    "        views_str = views_str.replace('M', '')\n",
    "        return float(views_str) * 1000000\n",
    "    elif 'B' in views_str:\n",
    "        views_str = views_str.replace('B', '')\n",
    "        return float(views_str) * 1000000000\n",
    "    else:\n",
    "        return float(views_str)\n",
    "\n",
    "numeric_views = [views_to_numeric(view) for view in views]\n",
    "sno = list(range(1, len(views) + 1))\n",
    "\n",
    "# Create a Bokeh plot\n",
    "p = figure(title=\"YouTube Video Views vs. Serial Number\", x_axis_label=\"Serial Number\", y_axis_label=\"Views\")\n",
    "p.circle(sno, numeric_views, size=8, color=\"blue\", alpha=0.7)\n",
    "\n",
    "output_file(\"bokeh_plot.html\")\n",
    "show(p)"
   ]
  },
  {
   "cell_type": "code",
   "execution_count": 3,
   "metadata": {},
   "outputs": [
    {
     "name": "stdout",
     "output_type": "stream",
     "text": [
      "Requirement already satisfied: bokeh in d:\\softwares\\anaconda\\lib\\site-packages (3.2.1)\n",
      "Requirement already satisfied: Jinja2>=2.9 in d:\\softwares\\anaconda\\lib\\site-packages (from bokeh) (3.1.2)\n",
      "Requirement already satisfied: contourpy>=1 in d:\\softwares\\anaconda\\lib\\site-packages (from bokeh) (1.0.5)\n",
      "Requirement already satisfied: numpy>=1.16 in d:\\softwares\\anaconda\\lib\\site-packages (from bokeh) (1.23.5)\n",
      "Requirement already satisfied: packaging>=16.8 in d:\\softwares\\anaconda\\lib\\site-packages (from bokeh) (23.0)\n",
      "Requirement already satisfied: pandas>=1.2 in d:\\softwares\\anaconda\\lib\\site-packages (from bokeh) (1.5.3)\n",
      "Requirement already satisfied: pillow>=7.1.0 in d:\\softwares\\anaconda\\lib\\site-packages (from bokeh) (9.4.0)\n",
      "Requirement already satisfied: PyYAML>=3.10 in d:\\softwares\\anaconda\\lib\\site-packages (from bokeh) (6.0)\n",
      "Requirement already satisfied: tornado>=5.1 in d:\\softwares\\anaconda\\lib\\site-packages (from bokeh) (6.3.2)\n",
      "Requirement already satisfied: xyzservices>=2021.09.1 in d:\\softwares\\anaconda\\lib\\site-packages (from bokeh) (2022.9.0)\n",
      "Requirement already satisfied: MarkupSafe>=2.0 in d:\\softwares\\anaconda\\lib\\site-packages (from Jinja2>=2.9->bokeh) (2.1.1)\n",
      "Requirement already satisfied: python-dateutil>=2.8.1 in d:\\softwares\\anaconda\\lib\\site-packages (from pandas>=1.2->bokeh) (2.8.2)\n",
      "Requirement already satisfied: pytz>=2020.1 in d:\\softwares\\anaconda\\lib\\site-packages (from pandas>=1.2->bokeh) (2022.7)\n",
      "Requirement already satisfied: six>=1.5 in d:\\softwares\\anaconda\\lib\\site-packages (from python-dateutil>=2.8.1->pandas>=1.2->bokeh) (1.16.0)\n"
     ]
    }
   ],
   "source": [
    "!pip install bokeh"
   ]
  },
  {
   "cell_type": "code",
   "execution_count": 5,
   "metadata": {},
   "outputs": [
    {
     "ename": "ModuleNotFoundError",
     "evalue": "No module named 'bokeh.plotting'; 'bokeh' is not a package",
     "output_type": "error",
     "traceback": [
      "\u001b[1;31m---------------------------------------------------------------------------\u001b[0m",
      "\u001b[1;31mModuleNotFoundError\u001b[0m                       Traceback (most recent call last)",
      "\u001b[1;32md:\\Data Science\\Assignments\\2. FEBRUARY\\22_feb_assign\\YOUTUBE-IMAGE-SCRAPPER-PROJECT\\example.ipynb Cell 5\u001b[0m line \u001b[0;36m1\n\u001b[1;32m----> <a href='vscode-notebook-cell:/d%3A/Data%20Science/Assignments/2.%20FEBRUARY/22_feb_assign/YOUTUBE-IMAGE-SCRAPPER-PROJECT/example.ipynb#W4sZmlsZQ%3D%3D?line=0'>1</a>\u001b[0m \u001b[39mfrom\u001b[39;00m \u001b[39mbokeh\u001b[39;00m\u001b[39m.\u001b[39;00m\u001b[39mplotting\u001b[39;00m \u001b[39mimport\u001b[39;00m figure, output_file, show\n\u001b[0;32m      <a href='vscode-notebook-cell:/d%3A/Data%20Science/Assignments/2.%20FEBRUARY/22_feb_assign/YOUTUBE-IMAGE-SCRAPPER-PROJECT/example.ipynb#W4sZmlsZQ%3D%3D?line=2'>3</a>\u001b[0m x \u001b[39m=\u001b[39m [\u001b[39m1\u001b[39m, \u001b[39m2\u001b[39m, \u001b[39m3\u001b[39m, \u001b[39m4\u001b[39m, \u001b[39m5\u001b[39m]\n\u001b[0;32m      <a href='vscode-notebook-cell:/d%3A/Data%20Science/Assignments/2.%20FEBRUARY/22_feb_assign/YOUTUBE-IMAGE-SCRAPPER-PROJECT/example.ipynb#W4sZmlsZQ%3D%3D?line=3'>4</a>\u001b[0m y \u001b[39m=\u001b[39m [\u001b[39m6\u001b[39m, \u001b[39m7\u001b[39m, \u001b[39m2\u001b[39m, \u001b[39m4\u001b[39m, \u001b[39m5\u001b[39m]\n",
      "File \u001b[1;32md:\\Data Science\\Assignments\\2. FEBRUARY\\22_feb_assign\\YOUTUBE-IMAGE-SCRAPPER-PROJECT\\bokeh.py:2\u001b[0m\n\u001b[0;32m      1\u001b[0m \u001b[39mfrom\u001b[39;00m \u001b[39mflask\u001b[39;00m \u001b[39mimport\u001b[39;00m Flask, render_template\n\u001b[1;32m----> 2\u001b[0m \u001b[39mfrom\u001b[39;00m \u001b[39mbokeh\u001b[39;00m\u001b[39m.\u001b[39;00m\u001b[39mplotting\u001b[39;00m \u001b[39mimport\u001b[39;00m figure, output_file, show\n\u001b[0;32m      3\u001b[0m \u001b[39mfrom\u001b[39;00m \u001b[39mbokeh\u001b[39;00m\u001b[39m.\u001b[39;00m\u001b[39membed\u001b[39;00m \u001b[39mimport\u001b[39;00m components\n\u001b[0;32m      4\u001b[0m \u001b[39mimport\u001b[39;00m \u001b[39mpandas\u001b[39;00m \u001b[39mas\u001b[39;00m \u001b[39mpd\u001b[39;00m\n",
      "\u001b[1;31mModuleNotFoundError\u001b[0m: No module named 'bokeh.plotting'; 'bokeh' is not a package"
     ]
    }
   ],
   "source": [
    "from bokeh.plotting import figure, output_file, show\n",
    "\n",
    "x = [1, 2, 3, 4, 5]\n",
    "y = [6, 7, 2, 4, 5]\n",
    "\n",
    "p = figure(title=\"Simple Bokeh Plot\", x_axis_label='X-axis', y_axis_label='Y-axis')\n",
    "\n",
    "# Add glyphs\n",
    "p.line(x, y, legend_label='Line', line_width=2)\n",
    "p.circle(x, y, size=10, color=\"red\", legend_label='Circles')\n",
    "\n",
    "output_file(\"bokeh_plot.html\")\n",
    "show(p)"
   ]
  },
  {
   "cell_type": "code",
   "execution_count": null,
   "metadata": {},
   "outputs": [],
   "source": []
  },
  {
   "cell_type": "code",
   "execution_count": null,
   "metadata": {},
   "outputs": [],
   "source": [
    "for i in range(10):\n",
    "    print(i)"
   ]
  },
  {
   "cell_type": "code",
   "execution_count": 13,
   "metadata": {},
   "outputs": [
    {
     "ename": "ModuleNotFoundError",
     "evalue": "No module named 'bokeh.plotting'; 'bokeh' is not a package",
     "output_type": "error",
     "traceback": [
      "\u001b[1;31m---------------------------------------------------------------------------\u001b[0m",
      "\u001b[1;31mModuleNotFoundError\u001b[0m                       Traceback (most recent call last)",
      "Cell \u001b[1;32mIn[13], line 1\u001b[0m\n\u001b[1;32m----> 1\u001b[0m \u001b[38;5;28;01mfrom\u001b[39;00m \u001b[38;5;21;01mbokeh\u001b[39;00m\u001b[38;5;21;01m.\u001b[39;00m\u001b[38;5;21;01mplotting\u001b[39;00m \u001b[38;5;28;01mimport\u001b[39;00m  output_notebook\n\u001b[0;32m      2\u001b[0m output_notebook()\n",
      "\u001b[1;31mModuleNotFoundError\u001b[0m: No module named 'bokeh.plotting'; 'bokeh' is not a package"
     ]
    }
   ],
   "source": [
    "from bokeh.plotting import  output_notebook\n",
    "output_notebook() "
   ]
  },
  {
   "cell_type": "code",
   "execution_count": 14,
   "metadata": {},
   "outputs": [],
   "source": [
    "!pip install bokeh.plotting"
   ]
  },
  {
   "cell_type": "code",
   "execution_count": 15,
   "metadata": {},
   "outputs": [
    {
     "ename": "SyntaxError",
     "evalue": "invalid syntax (498125083.py, line 15)",
     "output_type": "error",
     "traceback": [
      "\u001b[1;36m  Cell \u001b[1;32mIn[15], line 15\u001b[1;36m\u001b[0m\n\u001b[1;33m    elif 'B' in /views_str:\u001b[0m\n\u001b[1;37m                ^\u001b[0m\n\u001b[1;31mSyntaxError\u001b[0m\u001b[1;31m:\u001b[0m invalid syntax\n"
     ]
    }
   ],
   "source": [
    "from bokeh.plotting import figure, output_file, show\n",
    "from bokeh.models import HoverTool, ColumnDataSource, Div\n",
    "from bokeh.layouts import column\n",
    "import pandas as pd\n",
    "\n",
    "# Convert views to numeric\n",
    "def views_to_numeric(views_str):\n",
    "    views_str = views_str.replace(',', '')  # Remove commas if present\n",
    "    if 'K' in views_str:\n",
    "        views_str = views_str.replace('K', '')\n",
    "        return float(views_str) * 1000\n",
    "    elif 'M' in views_str:\n",
    "        views_str = views_str.replace('M', '')\n",
    "        return float(views_str) * 1000000\n",
    "    elif 'B' in /views_str:\n",
    "        views_str = views_str.replace('B', '')\n",
    "        return float(views_str) * 1000000000\n",
    "    else:\n",
    "        return float(views_str)   \n",
    "\n",
    "def create_bokeh_plot(df): \n",
    "            data = {}\n",
    "\n",
    "            for column in df.columns:\n",
    "                try:\n",
    "                    print(column)\n",
    "                    data[column] = df[column]\n",
    "                except:\n",
    "                    continue\n",
    "            \n",
    "\n",
    "            df[\"Numeric Views\"] = df[\"Views\"].apply(views_to_numeric)\n",
    "            sno = list(range(1, len(df) + 1))\n",
    "\n",
    "            # Create a Bokeh ColumnDataSource to supply data to the plot\n",
    "            source = ColumnDataSource(df)\n",
    "\n",
    "            # Create a Bokeh plot\n",
    "            p = figure(\n",
    "                title=\"YouTube Video Views vs. Serial Number\",\n",
    "                x_axis_label=\"Serial Number\",\n",
    "                y_axis_label=\"Views\",\n",
    "                tools=\"hover,pan,box_zoom,reset\"\n",
    "            )\n",
    "\n",
    "            # Add circular markers connected by lines\n",
    "            p.line(x=\"index\", y=\"Numeric Views\", source=source, line_width=2, line_color=\"blue\", legend_label=\"Line\")\n",
    "            circle = p.circle(x=\"index\", y=\"Numeric Views\", source=source, size=8, color=\"red\", alpha=0.7, legend_label=\"Dots\")\n",
    "\n",
    "            # Create a custom HTML div for the hover tooltip with an image\n",
    "            hover_html = \"\"\"\n",
    "                <div>\n",
    "                    <img src=\"@{Thumbnail}\" style=\"max-height: 100px;\">\n",
    "                    <p><strong>Title:</strong> @{Title}</p>\n",
    "                    <p><strong>Published Time:</strong> @{Published Time}</p>\n",
    "                    <p><strong>Views:</strong> @{Views}</p>\n",
    "                </div>\n",
    "            \"\"\"\n",
    "\n",
    "            # Add a HoverTool with a custom tooltip\n",
    "            hover = HoverTool(renderers=[circle], tooltips=hover_html)\n",
    "            p.add_tools(hover)\n",
    "\n",
    "            # Add a legend\n",
    "            p.legend.title = \"Legend\"\n",
    "            \n",
    "            p.legend.label_text_font_size = \"12pt\"\n",
    "            p.legend.click_policy=\"hide\"\n",
    "            \n",
    "            return p\n",
    "            \n",
    "            \n",
    "df = pd.read_csv(\"scrapped_data.csv\")            \n",
    "p = create_bokeh_plot(df)           \n",
    "\n",
    "output_file(\"bokeh_plot_with_hover_and_image.html\")\n",
    "show(p)\n"
   ]
  },
  {
   "cell_type": "code",
   "execution_count": 5,
   "metadata": {},
   "outputs": [],
   "source": [
    "!pip install bokeh"
   ]
  },
  {
   "cell_type": "code",
   "execution_count": null,
   "metadata": {},
   "outputs": [],
   "source": []
  }
 ],
 "metadata": {
  "kernelspec": {
   "display_name": "Python 3 (ipykernel)",
   "language": "python",
   "name": "python3"
  },
  "language_info": {
   "codemirror_mode": {
    "name": "ipython",
    "version": 3
   },
   "file_extension": ".py",
   "mimetype": "text/x-python",
   "name": "python",
   "nbconvert_exporter": "python",
   "pygments_lexer": "ipython3",
   "version": "3.11.5"
  }
 },
 "nbformat": 4,
 "nbformat_minor": 2
}
