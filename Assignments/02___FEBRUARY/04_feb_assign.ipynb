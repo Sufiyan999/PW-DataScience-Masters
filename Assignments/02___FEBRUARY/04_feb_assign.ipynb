{
 "cells": [
  {
   "cell_type": "markdown",
   "id": "2ad1f29d-ffdf-4cab-bcaf-4fab80998050",
   "metadata": {},
   "source": [
    "Ans_1."
   ]
  },
  {
   "cell_type": "code",
   "execution_count": 18,
   "id": "b2885a2e-ad5a-4af2-a161-c9071c6af85b",
   "metadata": {},
   "outputs": [],
   "source": [
    " lst = [('Sachin Tendulkar', 34357), ('Ricky Ponting', 27483), ('Jack Kallis', 25534), ('Virat Kohli', 24936)]"
   ]
  },
  {
   "cell_type": "code",
   "execution_count": 26,
   "id": "49e369e4-22c3-494f-b807-0e2a80ace63e",
   "metadata": {},
   "outputs": [],
   "source": [
    "comp = lambda ls , i:  ls[i][1] > ls[i+1][1] "
   ]
  },
  {
   "cell_type": "code",
   "execution_count": 27,
   "id": "a21c6a15-f1f8-4cbf-8445-ae19e6a2f1d4",
   "metadata": {},
   "outputs": [],
   "source": [
    "for i in range(3):\n",
    "  for j in range(3):  \n",
    "    if comp(lst , i):\n",
    "      temp = lst[i+1] \n",
    "      lst[i+1] = lst[i] \n",
    "      lst[i] = temp"
   ]
  },
  {
   "cell_type": "code",
   "execution_count": 28,
   "id": "fdbbaa89-85ed-43a5-ab82-dd12a48ce9fb",
   "metadata": {},
   "outputs": [
    {
     "data": {
      "text/plain": [
       "[('Virat Kohli', 24936),\n",
       " ('Jack Kallis', 25534),\n",
       " ('Ricky Ponting', 27483),\n",
       " ('Sachin Tendulkar', 34357)]"
      ]
     },
     "execution_count": 28,
     "metadata": {},
     "output_type": "execute_result"
    }
   ],
   "source": [
    "lst"
   ]
  },
  {
   "cell_type": "markdown",
   "id": "9fc6d1da-4cf0-45e6-bac7-d2c48263d225",
   "metadata": {},
   "source": [
    "Ans_2.\n"
   ]
  },
  {
   "cell_type": "code",
   "execution_count": 33,
   "id": "b36be6ca-64d4-45fb-9eb4-6129798b3019",
   "metadata": {},
   "outputs": [
    {
     "data": {
      "text/plain": [
       "[1, 2, 3, 4, 5, 6, 7, 8, 9, 10]"
      ]
     },
     "execution_count": 33,
     "metadata": {},
     "output_type": "execute_result"
    }
   ],
   "source": [
    "lst = [i for i in range(1, 11)]\n",
    "lst"
   ]
  },
  {
   "cell_type": "code",
   "execution_count": 32,
   "id": "dbe2aea1-2cfc-4e46-9353-25c6355a49e3",
   "metadata": {},
   "outputs": [
    {
     "data": {
      "text/plain": [
       "[1, 4, 9, 16, 25, 36, 49, 64, 81, 100]"
      ]
     },
     "execution_count": 32,
     "metadata": {},
     "output_type": "execute_result"
    }
   ],
   "source": [
    "list(map(lambda x : x**2 , lst))"
   ]
  },
  {
   "cell_type": "code",
   "execution_count": 34,
   "id": "0618bfda-66e6-4260-8c9b-ffb276fea692",
   "metadata": {},
   "outputs": [
    {
     "data": {
      "text/plain": [
       "[1, 4, 9, 16, 25, 36, 49, 64, 81, 100]"
      ]
     },
     "execution_count": 34,
     "metadata": {},
     "output_type": "execute_result"
    }
   ],
   "source": [
    "map_obj = map(lambda x : x**2 , lst)\n",
    "list(mapobj)"
   ]
  },
  {
   "cell_type": "markdown",
   "id": "588a9d87-7e89-4420-9a1d-add995bf708c",
   "metadata": {},
   "source": [
    "Ans_3.\n"
   ]
  },
  {
   "cell_type": "code",
   "execution_count": 35,
   "id": "99d15b42-b6f9-493b-8147-87e1c281a7d8",
   "metadata": {},
   "outputs": [
    {
     "data": {
      "text/plain": [
       "('1', '2', '3', '4', '5', '6', '7', '8', '9', '10')"
      ]
     },
     "execution_count": 35,
     "metadata": {},
     "output_type": "execute_result"
    }
   ],
   "source": [
    "tuple(map(lambda i : str(i) , lst))"
   ]
  },
  {
   "cell_type": "raw",
   "id": "e4f1737d-f77e-4a02-9d95-8e3bea2e95e0",
   "metadata": {},
   "source": [
    "Ans_4."
   ]
  },
  {
   "cell_type": "code",
   "execution_count": 65,
   "id": "72bcf395-fd30-4b29-a0be-d9928e983df1",
   "metadata": {},
   "outputs": [],
   "source": [
    "lst = [i for i in range(1, 26)]"
   ]
  },
  {
   "cell_type": "code",
   "execution_count": 66,
   "id": "d3cf516d-f59b-4cc8-9afe-74a951a0d2dc",
   "metadata": {},
   "outputs": [
    {
     "data": {
      "text/plain": [
       "15511210043330985984000000"
      ]
     },
     "execution_count": 66,
     "metadata": {},
     "output_type": "execute_result"
    }
   ],
   "source": [
    "from functools import reduce\n",
    "prod = reduce(lambda x , y: x*y , lst)\n",
    "prod"
   ]
  },
  {
   "cell_type": "markdown",
   "id": "e3050351-bf9b-4690-bfdc-3704dfee0681",
   "metadata": {},
   "source": [
    "Ans_5."
   ]
  },
  {
   "cell_type": "code",
   "execution_count": 61,
   "id": "ec0ec6f5-e516-4cf1-b60e-74ac473915b8",
   "metadata": {},
   "outputs": [],
   "source": [
    "lst = [2, 3, 6, 9, 27, 60, 90, 120, 55, 46]"
   ]
  },
  {
   "cell_type": "code",
   "execution_count": 62,
   "id": "0714c398-190b-4a45-9d7d-91e4125bbaa3",
   "metadata": {},
   "outputs": [
    {
     "data": {
      "text/plain": [
       "[6, 60, 90, 120]"
      ]
     },
     "execution_count": 62,
     "metadata": {},
     "output_type": "execute_result"
    }
   ],
   "source": [
    "filtered_list = list(filter(lambda x : x%2 == 0 and x%3 == 0 , lst))\n",
    "filtered_list"
   ]
  },
  {
   "cell_type": "markdown",
   "id": "01d84714-c228-4fed-9477-7e8288810468",
   "metadata": {},
   "source": [
    "Ans_6."
   ]
  },
  {
   "cell_type": "code",
   "execution_count": 59,
   "id": "13a3afe8-7397-43ee-828d-6295666e9493",
   "metadata": {},
   "outputs": [],
   "source": [
    "ls = ['python', 'php', 'aba', 'radar', 'level']"
   ]
  },
  {
   "cell_type": "code",
   "execution_count": 60,
   "id": "84664478-e062-41a9-866d-cc0af65489c4",
   "metadata": {},
   "outputs": [
    {
     "data": {
      "text/plain": [
       "['php', 'aba', 'radar', 'level']"
      ]
     },
     "execution_count": 60,
     "metadata": {},
     "output_type": "execute_result"
    }
   ],
   "source": [
    "filtered_list = list(filter(lambda st: st == st[::-1] , ls))\n",
    "filtered_list"
   ]
  },
  {
   "cell_type": "code",
   "execution_count": null,
   "id": "a5d0a003-7383-45b3-bcef-f45f178079a6",
   "metadata": {},
   "outputs": [],
   "source": []
  }
 ],
 "metadata": {
  "kernelspec": {
   "display_name": "Python 3 (ipykernel)",
   "language": "python",
   "name": "python3"
  },
  "language_info": {
   "codemirror_mode": {
    "name": "ipython",
    "version": 3
   },
   "file_extension": ".py",
   "mimetype": "text/x-python",
   "name": "python",
   "nbconvert_exporter": "python",
   "pygments_lexer": "ipython3",
   "version": "3.9.15"
  },
  "widgets": {
   "application/vnd.jupyter.widget-state+json": {
    "state": {},
    "version_major": 2,
    "version_minor": 0
   }
  }
 },
 "nbformat": 4,
 "nbformat_minor": 5
}
