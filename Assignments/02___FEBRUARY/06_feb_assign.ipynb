{
 "cells": [
  {
   "cell_type": "markdown",
   "id": "83ddf5f0-97bd-4a0d-a034-c1624e876d74",
   "metadata": {},
   "source": [
    "Ans_1.\n",
    "\n"
   ]
  },
  {
   "cell_type": "code",
   "execution_count": 34,
   "id": "ec39ebfa-7a1c-4a36-9c0f-8e678e944b4d",
   "metadata": {},
   "outputs": [],
   "source": [
    "list1 = [1,2,3,4, [44,55,66, True], False, (34,56,78,89,34), {1,2,3,3,2,1}, {1:34, \"key2\": [55, 67, 78, 89], 4: (45,\n",
    "22, 61, 34)}, [56, 'data science'], 'Machine Learning']"
   ]
  },
  {
   "cell_type": "code",
   "execution_count": 39,
   "id": "723d092f-ae29-4952-87c4-fe89bc6b5f4e",
   "metadata": {},
   "outputs": [],
   "source": [
    "from functools import reduce\n",
    "\n",
    "def func(l):                                 \n",
    "    ls = []                                                 \n",
    "    for i in l:\n",
    "        if type(i) is int:\n",
    "                ls.append(i)\n",
    "        elif type(i) == list or type(i) == tuple:\n",
    "               ls.append(func(i))                        #calling func recursively for list or tuple\n",
    "        elif type(i) == set:\n",
    "             temp = i.copy()                              #copying set so that it doesn't affect the original set\n",
    "             while temp != set():                         #poping from set tiil set is not empty\n",
    "                   ls.append(temp.pop())\n",
    "        elif  type(i) == dict:\n",
    "                 key = i.keys()\n",
    "                 values = i.values()\n",
    "                 ls.append(func(key))\n",
    "                 ls.append(func(values))\n",
    "        elif type(i) == bool or type(i) == str:                        #else:\n",
    "                     continue  \n",
    "    result = reduce(lambda x , y: x*y , ls)\n",
    "    return result"
   ]
  },
  {
   "cell_type": "code",
   "execution_count": 40,
   "id": "a0122626-7159-441a-bf3e-3d1b3ea95531",
   "metadata": {},
   "outputs": [
    {
     "data": {
      "text/plain": [
       "4134711838987085478833841242112000"
      ]
     },
     "execution_count": 40,
     "metadata": {},
     "output_type": "execute_result"
    }
   ],
   "source": [
    "func(list1)"
   ]
  },
  {
   "cell_type": "markdown",
   "id": "47a74dde-c270-4e24-9eac-b7aa6761f8ed",
   "metadata": {},
   "source": []
  },
  {
   "cell_type": "markdown",
   "id": "ce8e64d2-bfc2-439d-85bd-40b240ce6d79",
   "metadata": {},
   "source": [
    "Ans_2."
   ]
  },
  {
   "cell_type": "code",
   "execution_count": 13,
   "id": "60af00da-d602-4453-b298-c775d630b5f0",
   "metadata": {},
   "outputs": [],
   "source": [
    "target = 'I want to become a Data Scientist.'"
   ]
  },
  {
   "cell_type": "code",
   "execution_count": 31,
   "id": "bf589a68-2829-458f-a918-3758a13eba2c",
   "metadata": {},
   "outputs": [],
   "source": [
    "def get_num(n):\n",
    "    if n == 97: \n",
    "          return 122\n",
    "    else:\n",
    "        return get_num(n-1) - 1\n",
    "\n",
    "def encrypt(msg):\n",
    "     msg = msg.lower()\n",
    "     new = ''\n",
    "     for i in msg:\n",
    "        if i == ' ':\n",
    "            new = new + '$'\n",
    "        elif i == '.':\n",
    "            continue\n",
    "        else:\n",
    "            new = new + chr( get_num(ord(i)) )\n",
    "     return new       "
   ]
  },
  {
   "cell_type": "code",
   "execution_count": 32,
   "id": "b741551a-8e04-45d8-83b3-7123c209726d",
   "metadata": {},
   "outputs": [
    {
     "data": {
      "text/plain": [
       "'r$dzmg$gl$yvxlnv$z$wzgz$hxrvmgrhg'"
      ]
     },
     "execution_count": 32,
     "metadata": {},
     "output_type": "execute_result"
    }
   ],
   "source": [
    "encrypt(target)"
   ]
  },
  {
   "cell_type": "code",
   "execution_count": 34,
   "id": "24d841f1-0660-496b-adf3-9e178a807e5a",
   "metadata": {},
   "outputs": [
    {
     "data": {
      "text/plain": [
       "'a'"
      ]
     },
     "execution_count": 34,
     "metadata": {},
     "output_type": "execute_result"
    }
   ],
   "source": [
    "chr(get_num(ord('z')))"
   ]
  },
  {
   "cell_type": "code",
   "execution_count": null,
   "id": "3240d857-ac2a-4d76-b308-b412132c30c7",
   "metadata": {},
   "outputs": [],
   "source": []
  }
 ],
 "metadata": {
  "kernelspec": {
   "display_name": "Python 3 (ipykernel)",
   "language": "python",
   "name": "python3"
  },
  "language_info": {
   "codemirror_mode": {
    "name": "ipython",
    "version": 3
   },
   "file_extension": ".py",
   "mimetype": "text/x-python",
   "name": "python",
   "nbconvert_exporter": "python",
   "pygments_lexer": "ipython3",
   "version": "3.9.15"
  },
  "widgets": {
   "application/vnd.jupyter.widget-state+json": {
    "state": {},
    "version_major": 2,
    "version_minor": 0
   }
  }
 },
 "nbformat": 4,
 "nbformat_minor": 5
}
