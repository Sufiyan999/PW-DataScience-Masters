{
 "cells": [
  {
   "cell_type": "markdown",
   "id": "2e9ba7a2-4464-4b21-928c-35e2a6416987",
   "metadata": {},
   "source": [
    "Ans_1."
   ]
  },
  {
   "cell_type": "markdown",
   "id": "3ba594a0-fe4f-44dc-8dc8-873151029edc",
   "metadata": {},
   "source": [
    "Abstraction is the process of hiding internel details of an application from the outer world , i.e. display only the relevant attributes of objects and hide the unnnecessary details,It is used to hide the internal functionality of the methods from users. the users only interact with the basic implmentation of the method."
   ]
  },
  {
   "cell_type": "markdown",
   "id": "faaa8ed3-a194-4774-bde2-478a05fdd44f",
   "metadata": {},
   "source": [
    "fro example , we use the tv remote,we only know the volime decrease/incresae channal change button but not the internal woring of remote"
   ]
  },
  {
   "cell_type": "code",
   "execution_count": 17,
   "id": "fe621d55-036f-4616-b4f3-546ed2911796",
   "metadata": {},
   "outputs": [],
   "source": [
    "class TV_remote():\n",
    "    def __init__(self):\n",
    "        self.volume = 50\n",
    "        \n",
    "    def increase(self , value = 1):\n",
    "         self.volume  += value\n",
    "         if self.volume > 100 or self.volume< 0:\n",
    "                  self.volume = 0\n",
    "         return self.volume       "
   ]
  },
  {
   "cell_type": "code",
   "execution_count": 18,
   "id": "491f31ff-e620-43a5-9bf3-bcc7b1c1bac7",
   "metadata": {},
   "outputs": [],
   "source": [
    "remote = TV_remote()"
   ]
  },
  {
   "cell_type": "code",
   "execution_count": 19,
   "id": "75c47109-c818-4cd4-ac01-c7303b150d32",
   "metadata": {},
   "outputs": [
    {
     "data": {
      "text/plain": [
       "54"
      ]
     },
     "execution_count": 19,
     "metadata": {},
     "output_type": "execute_result"
    }
   ],
   "source": [
    "remote.increase(4)"
   ]
  },
  {
   "cell_type": "markdown",
   "id": "d3d0d3c0-efd1-4ec0-8612-8d5cf478c199",
   "metadata": {},
   "source": [
    "As  person/user don't have to worry about internal details. "
   ]
  },
  {
   "cell_type": "markdown",
   "id": "fae6e892-ba6e-4218-a9c7-2a611f276189",
   "metadata": {},
   "source": [
    "Ans_2."
   ]
  },
  {
   "cell_type": "markdown",
   "id": "43d74ecf-a004-441d-b362-cc00f7a2c8bc",
   "metadata": {},
   "source": [
    "Abstraction is used for hiding unwanted information and giving relevant data/instruction/functionality. Encaptulation means biding the code into a single unit a single unit to protect the data from outside world.Abstraction solves the problem in the design level. while encaptulation solves it in the imlementation level Abstraction lets you focues on what the object does instead of how it does it, while encaptulation is binding the object to its attributes and behavior in a single unit called class."
   ]
  },
  {
   "cell_type": "markdown",
   "id": "cec5a39c-a8bc-438e-bacb-d815ec0e10af",
   "metadata": {},
   "source": [
    "Ex :- abstarction  as outer look of mobile phone , like it has display screen and keypad buttons to detail a num. while encaptulation as inner imlementation of mobile phone, how keypad button and Display screen are connect with each other using screen"
   ]
  },
  {
   "cell_type": "markdown",
   "id": "53baa410-3fc1-4983-9dd0-2c612cf7daf4",
   "metadata": {},
   "source": [
    "Abstaraction is needed for the simplicity of the system.Encaptulation is needed to enhance system security"
   ]
  },
  {
   "cell_type": "markdown",
   "id": "567ab830-5d8d-4e71-998b-f2ca00232b71",
   "metadata": {},
   "source": [
    "Ans_3."
   ]
  },
  {
   "cell_type": "raw",
   "id": "dba4182d-c48a-4609-ad3c-8521bdfb397e",
   "metadata": {},
   "source": [
    "Pyhton has a module called abc (Abstract base class) that offers the necessary tools for crafting/creating an abstract base class.Abstract base classs is class that contains one or more anstract methods(a method which is declared but not implemented ).the abc module defines ABCMeta class which is a metaclass for defining abstract base class.the main goal of the abstract base class is to provide a standardized  way to test whether an object adheres to a given specification. It can also prevent any attempt to instanciate a subclass that doesn't override a pertucular method in the superclass."
   ]
  },
  {
   "cell_type": "markdown",
   "id": "02b9ff17-09af-41c2-9382-36ec80c52f26",
   "metadata": {},
   "source": []
  },
  {
   "cell_type": "code",
   "execution_count": 13,
   "id": "345eb8f9-6177-4662-af6b-fe6782962c34",
   "metadata": {},
   "outputs": [],
   "source": [
    "import abc\n",
    "\n",
    "class random_name(metaclass = abc.ABCMeta):\n",
    "    @abc.abstractmethod\n",
    "    def func(self):\n",
    "       pass"
   ]
  },
  {
   "cell_type": "markdown",
   "id": "0fe90724-58ad-4ab9-a6a4-f3d667f8122d",
   "metadata": {},
   "source": [
    "Ans_4."
   ]
  },
  {
   "cell_type": "markdown",
   "id": "1d421be0-3cda-42fe-817b-d2bf7365d9c8",
   "metadata": {},
   "source": [
    "The process by which data and function are defined in such a way that only essential details can be seen and unnecessary implementation are hidden is called data Abstraction. It can be achieved in python through creating abstract classes and inheriting them later.it can also be acheived by making instance variable accessable only by the class or it's subclass."
   ]
  },
  {
   "cell_type": "code",
   "execution_count": 26,
   "id": "4a2832b8-449b-44c0-ad16-f4493b0837cb",
   "metadata": {},
   "outputs": [],
   "source": [
    "from abc import ABC , abstractmethod\n",
    "class Animal(ABC):\n",
    "    def __init__(self , typ):\n",
    "        self._type = typ\n",
    "    \n",
    "    @abstractmethod\n",
    "    def sound(self):\n",
    "        pass\n",
    "    \n",
    "class Cat(Animal):\n",
    "    def __init__(self):\n",
    "        super().__init__('Cat')\n",
    "     \n",
    "    def sound(self):\n",
    "        print(f'this is {self._type} making sound meow meow')\n",
    " \n",
    "\n",
    "class Dog(Animal):\n",
    "    def __init__(self):\n",
    "        super().__init__('Dog')\n",
    "     \n",
    "    def sound(self):\n",
    "         print(f'this is {self._type} making sound bhow bhow')"
   ]
  },
  {
   "cell_type": "code",
   "execution_count": 21,
   "id": "b1190577-9f0a-460a-8639-1444189396bd",
   "metadata": {},
   "outputs": [
    {
     "name": "stdout",
     "output_type": "stream",
     "text": [
      "this is Cat making sound meow meow\n"
     ]
    }
   ],
   "source": [
    "c = Cat()\n",
    "c.sound()"
   ]
  },
  {
   "cell_type": "code",
   "execution_count": 27,
   "id": "04bdac57-e22a-4a27-8bdd-0b31c5a0950e",
   "metadata": {},
   "outputs": [
    {
     "name": "stdout",
     "output_type": "stream",
     "text": [
      "this is Dog making sound bhow bhow\n"
     ]
    }
   ],
   "source": [
    "d = Dog()\n",
    "d.sound()"
   ]
  },
  {
   "cell_type": "code",
   "execution_count": 41,
   "id": "5ee3b368-4b70-45bb-a136-dfefa31c3476",
   "metadata": {},
   "outputs": [
    {
     "name": "stdout",
     "output_type": "stream",
     "text": [
      "'Dog' object has no attribute 'type'\n"
     ]
    }
   ],
   "source": [
    "try:\n",
    "     d.type\n",
    "except Exception as error:\n",
    "    print(error)               #as we can see this data is hidden from end user"
   ]
  },
  {
   "cell_type": "raw",
   "id": "8663e2a8-94c9-4fa0-bed4-4a447747aaf2",
   "metadata": {},
   "source": [
    "Ans_5."
   ]
  },
  {
   "cell_type": "markdown",
   "id": "f1ad6241-d753-4982-9247-6f6754dc600c",
   "metadata": {},
   "source": [
    "Abstract classes are not complete, as they may have some abstract methods that are not defined/implemented.So we can not create an instance/object of an abstract class in python because an abstract class is intended  to be subclassed and the implementation of abstarct method is left to the subclass. class is basically template/blueprint for any other class like how that subclass should behave, while concrete class is template for an object.if we try to instantantiate the abstract class . it raises an error. (Logically instantiating an Abstract class would result in an incomplete object )"
   ]
  },
  {
   "cell_type": "code",
   "execution_count": 4,
   "id": "391e5280-002c-4a2e-a638-61a3ecbac0b0",
   "metadata": {},
   "outputs": [],
   "source": [
    "from abc import ABC , abstractmethod ,abstractproperty\n",
    "\n",
    "class Animal(ABC):\n",
    "    def __init__(self , typ):\n",
    "        self._type = typ\n",
    "    \n",
    "    @abstractmethod\n",
    "    def sound(self):\n",
    "        pass\n",
    "    \n",
    "    @abstractproperty\n",
    "    def get_typ(self):\n",
    "        pass"
   ]
  },
  {
   "cell_type": "code",
   "execution_count": 5,
   "id": "364b2979-2073-48ba-ba74-703be6f93381",
   "metadata": {},
   "outputs": [
    {
     "name": "stdout",
     "output_type": "stream",
     "text": [
      "Error :  Can't instantiate abstract class Animal with abstract methods get_typ, sound\n"
     ]
    }
   ],
   "source": [
    "try:\n",
    "    janwar = Animal()\n",
    "except Exception as error:\n",
    "    print('Error : ' , error)\n",
    "    "
   ]
  },
  {
   "cell_type": "markdown",
   "id": "fd379f18-a38d-4225-803b-f94c9c84272f",
   "metadata": {},
   "source": [
    "As I studied c++ and java, In both these languages the refernce/pointer of the abstract class can be created which then can be assigned to refer to a concrete class's (sub_class of that abstract class) object but the instance of the abstract class itself can not be created.but as we know Pyhton has no such limitation like pointer."
   ]
  },
  {
   "cell_type": "code",
   "execution_count": null,
   "id": "32e29e8f-fa9f-457f-9c48-a4e71d7a1eb9",
   "metadata": {},
   "outputs": [],
   "source": [
    " "
   ]
  },
  {
   "cell_type": "code",
   "execution_count": null,
   "id": "ab9cc6b3-9aa7-4c82-8cc9-b972c0700035",
   "metadata": {},
   "outputs": [],
   "source": []
  }
 ],
 "metadata": {
  "kernelspec": {
   "display_name": "Python 3 (ipykernel)",
   "language": "python",
   "name": "python3"
  },
  "language_info": {
   "codemirror_mode": {
    "name": "ipython",
    "version": 3
   },
   "file_extension": ".py",
   "mimetype": "text/x-python",
   "name": "python",
   "nbconvert_exporter": "python",
   "pygments_lexer": "ipython3",
   "version": "3.9.15"
  },
  "widgets": {
   "application/vnd.jupyter.widget-state+json": {
    "state": {},
    "version_major": 2,
    "version_minor": 0
   }
  }
 },
 "nbformat": 4,
 "nbformat_minor": 5
}
