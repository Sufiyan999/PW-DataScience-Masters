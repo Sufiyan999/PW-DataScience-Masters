{
 "cells": [
  {
   "cell_type": "markdown",
   "id": "fdbc594c-9e58-40f4-970d-d75597a0f5e2",
   "metadata": {},
   "source": [
    "Ans_1."
   ]
  },
  {
   "cell_type": "markdown",
   "id": "35c5ea1e-3426-4eff-b5b8-dda2a29a64f9",
   "metadata": {},
   "source": []
  },
  {
   "cell_type": "code",
   "execution_count": 8,
   "id": "b34e4250-8912-4f3d-9989-037e3276b87c",
   "metadata": {},
   "outputs": [],
   "source": [
    "class vehicle():\n",
    "    def __init__(self , name , spd , avg):\n",
    "        if spd < 0 or avg < 0:\n",
    "            raise Exception(\"speed or average can't be negative\")\n",
    "        self.name_of_vehicle = name\n",
    "        self.max_speed = spd\n",
    "        self.average_of_vehicle = avg\n",
    "        \n",
    "    def show(self):\n",
    "        return self.name_of_vehicle ,self.max_speed ,self.average_of_vehicle"
   ]
  },
  {
   "cell_type": "code",
   "execution_count": 9,
   "id": "724d0ae7-f7e4-482f-ab4d-8482e8f6e1b4",
   "metadata": {},
   "outputs": [],
   "source": [
    "v  =vehicle('honda' , 120 , 45)"
   ]
  },
  {
   "cell_type": "code",
   "execution_count": 10,
   "id": "663e06a3-afd2-4bae-a105-673dd28275ad",
   "metadata": {},
   "outputs": [
    {
     "name": "stdout",
     "output_type": "stream",
     "text": [
      "('honda', 120, 45)\n"
     ]
    }
   ],
   "source": [
    "print(v.show())"
   ]
  },
  {
   "cell_type": "markdown",
   "id": "4d5f0a7f-018e-465f-acdd-08c45c4de04a",
   "metadata": {},
   "source": [
    "Ans_2."
   ]
  },
  {
   "cell_type": "code",
   "execution_count": 18,
   "id": "c860c429-2a6a-4d89-b332-3edf53355920",
   "metadata": {},
   "outputs": [],
   "source": [
    "class car(vehicle):\n",
    "    def __init__(self , name , spd , avg):\n",
    "        if spd < 0 or avg < 0:\n",
    "            raise Exception(\"speed or average can't be negative\")\n",
    "        super().__init__(name ,spd ,avg)\n",
    "        \n",
    "    def seating_capacity(self , capacity):\n",
    "        self.capacity = capacity\n",
    "        return self.name_of_vehicle , self.capacity  "
   ]
  },
  {
   "cell_type": "code",
   "execution_count": 19,
   "id": "07350589-36eb-4048-8629-753f92777670",
   "metadata": {},
   "outputs": [],
   "source": [
    "c = car('Audi' , 400 , 15)"
   ]
  },
  {
   "cell_type": "code",
   "execution_count": 20,
   "id": "ba8a4ccb-d8b0-4bff-b8f5-b5f4b6357db1",
   "metadata": {},
   "outputs": [
    {
     "data": {
      "text/plain": [
       "('Audi', 400, 15)"
      ]
     },
     "execution_count": 20,
     "metadata": {},
     "output_type": "execute_result"
    }
   ],
   "source": [
    "c.show()"
   ]
  },
  {
   "cell_type": "code",
   "execution_count": 21,
   "id": "9e3a191e-bdb7-4351-b074-d5140d38ca54",
   "metadata": {},
   "outputs": [
    {
     "data": {
      "text/plain": [
       "('Audi', 4)"
      ]
     },
     "execution_count": 21,
     "metadata": {},
     "output_type": "execute_result"
    }
   ],
   "source": [
    "c.seating_capacity(4)"
   ]
  },
  {
   "cell_type": "raw",
   "id": "573ed8a6-4faf-4e47-b915-0da5ec1295d7",
   "metadata": {},
   "source": [
    "Ans_3."
   ]
  },
  {
   "cell_type": "markdown",
   "id": "20d4155c-908f-4101-92cb-6c811fecbc6d",
   "metadata": {},
   "source": [
    "when a class is derived from more than one base class it is called multiple inheritance. it allows a class to inherit properties and behavior from multiple parent class . then thet class can access all the properties and methods of each parent class."
   ]
  },
  {
   "cell_type": "code",
   "execution_count": 46,
   "id": "442416bc-d882-485f-9592-eb68f97afd0c",
   "metadata": {},
   "outputs": [],
   "source": [
    "class Animal:\n",
    "    def __init__(self , name):\n",
    "        self.name = name\n",
    "    \n",
    "    def eat(self):\n",
    "        print(f'{self.name} is eating')\n",
    "class Flyable:\n",
    "    def fly(self):\n",
    "        try:\n",
    "          print(f'{self.name} is flying')\n",
    "        except:\n",
    "            print(f'Flyable is  flying')\n",
    "            \n",
    "class Bird(Animal , Flyable):\n",
    "    def __init__(self ,name):\n",
    "        super().__init__(name)\n",
    "        \n",
    "    def land(self):\n",
    "         print(f'{self.name} is  landing')"
   ]
  },
  {
   "cell_type": "code",
   "execution_count": 48,
   "id": "d45e3d64-aee1-4bdf-8113-48275b416200",
   "metadata": {},
   "outputs": [
    {
     "name": "stdout",
     "output_type": "stream",
     "text": [
      "Sparrow is eating\n",
      "Sparrow is flying\n",
      "Sparrow is  landing\n"
     ]
    }
   ],
   "source": [
    "b = Bird('Sparrow')\n",
    "b.eat()\n",
    "b.fly()\n",
    "b.land()"
   ]
  },
  {
   "cell_type": "markdown",
   "id": "a4df8a54-12c0-4956-89fc-e2a14e1ab83b",
   "metadata": {},
   "source": [
    "Ans_4."
   ]
  },
  {
   "cell_type": "markdown",
   "id": "85a2fd43-84a6-4db9-8dd8-c70515fc71bc",
   "metadata": {},
   "source": [
    "Getter and Setter methods are used in OOP to control access to an object's attributes. In Python, they are commonly implemented using the property() decorator.\n",
    "A getter method is used to get the value of an attribute, while a setter  method is used to set the value of an attribute, By these two you can control an attribute's access and modification. which can be useful for enforcing constraints or performing additional operation when an attribute is accessed or modified."
   ]
  },
  {
   "cell_type": "code",
   "execution_count": 17,
   "id": "63ef0dd9-6d79-4cc0-9f92-f3215a74821c",
   "metadata": {},
   "outputs": [],
   "source": [
    "class Person:\n",
    "    def __init__(self , name ,age):\n",
    "        self.__name = name\n",
    "        self.__age = age\n",
    "        \n",
    "    @property\n",
    "    def name(self):\n",
    "        return self.__name\n",
    "    \n",
    "    @name.setter\n",
    "    def name(self , nm):\n",
    "        if type(nm) != str :\n",
    "            raise ValueError(f\"The Name of a Person should be String Not {nm}\")\n",
    "        self.__name = nm\n",
    "      \n",
    "    @property\n",
    "    def age(self):\n",
    "        return self.__age\n",
    "    \n",
    "    @age.setter\n",
    "    def age(self , a):\n",
    "        if a < 0:\n",
    "            raise ValueError(f\"Age of a Person can't be minus -> {a}\")\n",
    "        self.__age = a    "
   ]
  },
  {
   "cell_type": "code",
   "execution_count": 18,
   "id": "0ef77162-68ad-4415-95ec-a19a1cde8dc9",
   "metadata": {},
   "outputs": [],
   "source": [
    "individual = Person('Alice', 33)"
   ]
  },
  {
   "cell_type": "code",
   "execution_count": 19,
   "id": "6ed3a4cd-0116-49d9-86e5-e608b778ca90",
   "metadata": {},
   "outputs": [
    {
     "data": {
      "text/plain": [
       "'Alice'"
      ]
     },
     "execution_count": 19,
     "metadata": {},
     "output_type": "execute_result"
    }
   ],
   "source": [
    "individual.name"
   ]
  },
  {
   "cell_type": "code",
   "execution_count": 20,
   "id": "abf2a742-e3c7-4ead-8add-a2138c870681",
   "metadata": {},
   "outputs": [
    {
     "data": {
      "text/plain": [
       "33"
      ]
     },
     "execution_count": 20,
     "metadata": {},
     "output_type": "execute_result"
    }
   ],
   "source": [
    "individual.age"
   ]
  },
  {
   "cell_type": "code",
   "execution_count": 21,
   "id": "e73b0df1-d67d-4e2d-9756-12d85955d44e",
   "metadata": {},
   "outputs": [
    {
     "data": {
      "text/plain": [
       "'khalid'"
      ]
     },
     "execution_count": 21,
     "metadata": {},
     "output_type": "execute_result"
    }
   ],
   "source": [
    "individual.name = 'khalid'\n",
    "individual.name "
   ]
  },
  {
   "cell_type": "code",
   "execution_count": 22,
   "id": "da66dbc9-3d93-4873-8bc9-3bbc342f3fe4",
   "metadata": {},
   "outputs": [
    {
     "data": {
      "text/plain": [
       "3"
      ]
     },
     "execution_count": 22,
     "metadata": {},
     "output_type": "execute_result"
    }
   ],
   "source": [
    "individual.age = 3\n",
    "individual.age"
   ]
  },
  {
   "cell_type": "code",
   "execution_count": 24,
   "id": "d535c78a-89b6-4f46-95bb-b0da5fb351fa",
   "metadata": {},
   "outputs": [
    {
     "ename": "ValueError",
     "evalue": "Age of a Person can't be minus -> -4",
     "output_type": "error",
     "traceback": [
      "\u001b[1;31m---------------------------------------------------------------------------\u001b[0m",
      "\u001b[1;31mValueError\u001b[0m                                Traceback (most recent call last)",
      "\u001b[1;32m~\\AppData\\Local\\Temp\\ipykernel_22580\\4168371328.py\u001b[0m in \u001b[0;36m<module>\u001b[1;34m\u001b[0m\n\u001b[1;32m----> 1\u001b[1;33m \u001b[0mindividual\u001b[0m\u001b[1;33m.\u001b[0m\u001b[0mage\u001b[0m \u001b[1;33m=\u001b[0m \u001b[1;33m-\u001b[0m\u001b[1;36m4\u001b[0m\u001b[1;33m\u001b[0m\u001b[1;33m\u001b[0m\u001b[0m\n\u001b[0m",
      "\u001b[1;32m~\\AppData\\Local\\Temp\\ipykernel_22580\\2509367035.py\u001b[0m in \u001b[0;36mage\u001b[1;34m(self, a)\u001b[0m\n\u001b[0;32m     21\u001b[0m     \u001b[1;32mdef\u001b[0m \u001b[0mage\u001b[0m\u001b[1;33m(\u001b[0m\u001b[0mself\u001b[0m \u001b[1;33m,\u001b[0m \u001b[0ma\u001b[0m\u001b[1;33m)\u001b[0m\u001b[1;33m:\u001b[0m\u001b[1;33m\u001b[0m\u001b[1;33m\u001b[0m\u001b[0m\n\u001b[0;32m     22\u001b[0m         \u001b[1;32mif\u001b[0m \u001b[0ma\u001b[0m \u001b[1;33m<\u001b[0m \u001b[1;36m0\u001b[0m\u001b[1;33m:\u001b[0m\u001b[1;33m\u001b[0m\u001b[1;33m\u001b[0m\u001b[0m\n\u001b[1;32m---> 23\u001b[1;33m             \u001b[1;32mraise\u001b[0m \u001b[0mValueError\u001b[0m\u001b[1;33m(\u001b[0m\u001b[1;34mf\"Age of a Person can't be minus -> {a}\"\u001b[0m\u001b[1;33m)\u001b[0m\u001b[1;33m\u001b[0m\u001b[1;33m\u001b[0m\u001b[0m\n\u001b[0m\u001b[0;32m     24\u001b[0m         \u001b[0mself\u001b[0m\u001b[1;33m.\u001b[0m\u001b[0m__age\u001b[0m \u001b[1;33m=\u001b[0m \u001b[0ma\u001b[0m\u001b[1;33m\u001b[0m\u001b[1;33m\u001b[0m\u001b[0m\n",
      "\u001b[1;31mValueError\u001b[0m: Age of a Person can't be minus -> -4"
     ]
    }
   ],
   "source": [
    "individual.age = -4"
   ]
  },
  {
   "cell_type": "markdown",
   "id": "ca29f80e-4cf3-4981-b261-0e2527158199",
   "metadata": {},
   "source": [
    "in above example , When we try to set a negative value of an Age  or non-string to the Name,  the setter will raise an value error"
   ]
  },
  {
   "cell_type": "markdown",
   "id": "ca6e21c4-05d3-41b1-9cd8-29cc2b42f4b0",
   "metadata": {},
   "source": [
    "Ans_5."
   ]
  },
  {
   "cell_type": "markdown",
   "id": "1784ed59-7f61-404f-83d7-ed0e877ce05d",
   "metadata": {},
   "source": [
    "Method overriding allows a subclass to rovide its own implementation of a method that is already defined in its superclass. when a method is overriden , the implementation in subclass takes precedence over the implementation in the superclass.\n",
    "\n",
    "In Python method overriding acheived by defining  a method in the superclass.when the method is called on an instance of the subclass , python interpreter will first check and use  the implementation of the subclass and then superclass if not found in subclass."
   ]
  },
  {
   "cell_type": "code",
   "execution_count": 25,
   "id": "10e4b4fc-b04f-4a57-8bed-5ac620fae270",
   "metadata": {},
   "outputs": [],
   "source": [
    "class Vehicle:\n",
    "    def start_engine(self):\n",
    "        print(\"starting vehicle's engine\")\n",
    "        \n",
    "class Car:\n",
    "    def start_engine(self):\n",
    "        print(\"starting Car's engine\")        "
   ]
  },
  {
   "cell_type": "code",
   "execution_count": 27,
   "id": "08b70db6-7ba3-4c1f-842e-ad9666e2e1b1",
   "metadata": {},
   "outputs": [
    {
     "name": "stdout",
     "output_type": "stream",
     "text": [
      "starting vehicle's engine\n"
     ]
    }
   ],
   "source": [
    "veh = Vehicle()\n",
    "veh.start_engine()"
   ]
  },
  {
   "cell_type": "code",
   "execution_count": 34,
   "id": "4edb7f35-e231-475d-8eb8-a4df0dedc9d5",
   "metadata": {},
   "outputs": [
    {
     "name": "stdout",
     "output_type": "stream",
     "text": [
      "starting Car's engine\n"
     ]
    }
   ],
   "source": [
    "c = Car()\n",
    "c.start_engine()"
   ]
  },
  {
   "cell_type": "code",
   "execution_count": null,
   "id": "05c0f329-3716-43bb-91c9-6db45d36d316",
   "metadata": {},
   "outputs": [],
   "source": []
  },
  {
   "cell_type": "code",
   "execution_count": null,
   "id": "6273ca47-65e2-412d-a311-17720bd5771f",
   "metadata": {},
   "outputs": [],
   "source": []
  }
 ],
 "metadata": {
  "kernelspec": {
   "display_name": "Python 3 (ipykernel)",
   "language": "python",
   "name": "python3"
  },
  "language_info": {
   "codemirror_mode": {
    "name": "ipython",
    "version": 3
   },
   "file_extension": ".py",
   "mimetype": "text/x-python",
   "name": "python",
   "nbconvert_exporter": "python",
   "pygments_lexer": "ipython3",
   "version": "3.9.15"
  },
  "widgets": {
   "application/vnd.jupyter.widget-state+json": {
    "state": {},
    "version_major": 2,
    "version_minor": 0
   }
  }
 },
 "nbformat": 4,
 "nbformat_minor": 5
}
