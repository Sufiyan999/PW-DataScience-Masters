{
 "cells": [
  {
   "cell_type": "markdown",
   "id": "eea71847-ce4e-4e66-a6bb-3cf8876f6d99",
   "metadata": {},
   "source": [
    "Ans_1."
   ]
  },
  {
   "cell_type": "code",
   "execution_count": 4,
   "id": "1341413e-7d3b-4a51-986e-7d3727b56432",
   "metadata": {},
   "outputs": [
    {
     "name": "stdin",
     "output_type": "stream",
     "text": [
      "Enter your marks in percentage and know your grades : 79\n"
     ]
    },
    {
     "name": "stdout",
     "output_type": "stream",
     "text": [
      "your grade is C\n"
     ]
    }
   ],
   "source": [
    "marks = int(input('Enter your marks in percentage and know your grades :'))\n",
    "prefix = 'your grade is '\n",
    "if marks > 100 or marks < 0:\n",
    "    print('invalid marks')\n",
    "elif marks>90:\n",
    "    print(prefix + 'A')\n",
    "elif marks<=90 and marks >80:\n",
    "    print(prefix + 'B')    \n",
    "elif marks<=80 and marks >=60:\n",
    "    print(prefix + 'C')\n",
    "else:\n",
    "    print(prefix + 'D')    "
   ]
  },
  {
   "cell_type": "markdown",
   "id": "5a1011de-2e4f-4ce0-ab29-22b43c5daa75",
   "metadata": {},
   "source": [
    "Ans_2."
   ]
  },
  {
   "cell_type": "code",
   "execution_count": 6,
   "id": "6ad5cc39-8dd5-4e8c-bc0d-476459ae4aa0",
   "metadata": {},
   "outputs": [
    {
     "name": "stdin",
     "output_type": "stream",
     "text": [
      "Enter your price of bike and know your road tax criteria : 30000\n"
     ]
    },
    {
     "name": "stdout",
     "output_type": "stream",
     "text": [
      "The Road Tax to be paid on the price  30000 is : 1500.0\n"
     ]
    }
   ],
   "source": [
    "price = int(input('Enter your price of bike and know your road tax criteria :'))\n",
    "prefix = f'The Road Tax to be paid on the price  {price} is :'\n",
    "if price<0:\n",
    "      print('invalid price')\n",
    "elif price<=50000:\n",
    "    print(prefix , price*0.05)       \n",
    "elif price>50000 and price<=100000:\n",
    "    print(prefix , price*0.10)       \n",
    "else:\n",
    "    print(prefix , price*0.15)  \n",
    "        "
   ]
  },
  {
   "cell_type": "markdown",
   "id": "6fda2bb5-bc2f-41a2-bcb8-a00895de0db3",
   "metadata": {},
   "source": [
    "Ans_3."
   ]
  },
  {
   "cell_type": "code",
   "execution_count": 16,
   "id": "23752cea-90d5-41d9-a9bf-19c3757c57ba",
   "metadata": {},
   "outputs": [
    {
     "name": "stdin",
     "output_type": "stream",
     "text": [
      "Enter the city\n",
      " [Delhi , agar , jaipur]: delHI\n"
     ]
    },
    {
     "name": "stdout",
     "output_type": "stream",
     "text": [
      "the Famous Monument is Red Fort \n"
     ]
    }
   ],
   "source": [
    "cities = ['delhi' , 'agar' , 'jaipur']\n",
    "monuments =['Red Fort ' , 'Taj Mahal' , 'Jai Mahal']\n",
    "city = input('Enter the city\\n [Delhi , agar , jaipur]:').lower()\n",
    "if not city in cities:\n",
    "    print('wrong city not in my database')\n",
    "else:\n",
    "    pos = 0 \n",
    "    for i in cities:\n",
    "        if i == city:\n",
    "            print('the Famous Monument is ' + monuments[pos])\n",
    "            break\n",
    "        pos +=1    "
   ]
  },
  {
   "cell_type": "markdown",
   "id": "881e1fcf-81d8-4833-a950-b6a99abb9606",
   "metadata": {},
   "source": [
    "Ans_4."
   ]
  },
  {
   "cell_type": "code",
   "execution_count": 24,
   "id": "afbe3ea5-19b8-4ef1-8d52-fb1a16c89e27",
   "metadata": {},
   "outputs": [
    {
     "name": "stdin",
     "output_type": "stream",
     "text": [
      "Enter the number to be checked 81\n"
     ]
    },
    {
     "name": "stdout",
     "output_type": "stream",
     "text": [
      "2\n"
     ]
    }
   ],
   "source": [
    "number = int(input('Enter the number to be checked'))\n",
    "def checknum(num):\n",
    "    if num<=10:\n",
    "        return 0\n",
    "    elif num%3 == 0:\n",
    "        return 1 + checknum(num/3)\n",
    "    else:\n",
    "        return 0\n",
    "if number < 0 :     \n",
    "    print(checknum(abs(number)))\n",
    "else:\n",
    "    print(checknum(number))"
   ]
  },
  {
   "cell_type": "markdown",
   "id": "70221167-c81e-441e-b0ac-bf66692d0de1",
   "metadata": {},
   "source": [
    "Ans_5."
   ]
  },
  {
   "cell_type": "markdown",
   "id": "0b6a4426-d859-491d-8a2f-5d9404391407",
   "metadata": {},
   "source": [
    "A while loop evaluates the condition. if it's true,the code inside the while loop is executed.\n",
    "Note that in case of while loop the indented body should modify at least one variable in the test condition else the result will be infinite loop.While loops are used when you need to operate on the elemnets Out of order ,acccess/operate simultaniously.In python programming language the while loop is usually used when the no of iteration is unknown(ex. Bubble sort which loops as long as the values aren't sorted ) and for loop is usually used when the no. of iterartion is known(ex. the lentgh of a list).\n"
   ]
  },
  {
   "cell_type": "code",
   "execution_count": null,
   "id": "c3f837e5-a114-4bb5-8e55-7f9866bb45c6",
   "metadata": {},
   "outputs": [],
   "source": [
    "while condition:\n",
    "    #run code until the condition evaluates to false"
   ]
  },
  {
   "cell_type": "code",
   "execution_count": null,
   "id": "9de10b5e-81a6-45cb-8f72-7f71d250d78c",
   "metadata": {},
   "outputs": [],
   "source": [
    "#this loop is iterated 4 time( 0 to 3)\n",
    "for i in range(4):\n",
    "    print(i)"
   ]
  },
  {
   "cell_type": "markdown",
   "id": "b5258a8d-96e7-48f4-8df3-4d3b336d9e8f",
   "metadata": {},
   "source": [
    "if you don't have tidy data structure to iterate through ,or you don't have a generator function that drives your processing ,you must use while.it is also useful where the break condition doesn't logically depend on any kind of sequence."
   ]
  },
  {
   "cell_type": "markdown",
   "id": "64fefc3e-9f0a-4c1f-be73-6849b2243222",
   "metadata": {},
   "source": [
    "\n",
    "Ans_6."
   ]
  },
  {
   "cell_type": "code",
   "execution_count": 11,
   "id": "dcc0e591-a9f5-4c9a-86a0-0d7f7816f3fc",
   "metadata": {},
   "outputs": [],
   "source": [
    "#pattern 1\n",
    "def triangle(n):\n",
    "    print('1. Hollow Triangle :')\n",
    "    i = 1\n",
    "    while i <= n:\n",
    "        if i ==1:\n",
    "            print(\" \"*(n-i) + '*' )\n",
    "        elif i==n:\n",
    "            print('* ' * i)\n",
    "        else:\n",
    "            print(\" \"* (n-i) + '*' + ' '*(2*i-3) + '*')\n",
    "        i += 1    \n",
    "\n",
    "#pattern 2           \n",
    "def LeftPascalTriangle(n):\n",
    "    print('2. Left Pascal Triangle :')\n",
    "    i =1\n",
    "    while i<n:\n",
    "        print(\" \"*(n-i) + '*'*i)\n",
    "        i += 1\n",
    "    \n",
    "    i = n \n",
    "    while i >= 1:\n",
    "        print(' '*(n-i) + '*'*i)\n",
    "        i -= 1\n",
    "\n",
    "#pattern 3\n",
    "def Diamond(n):\n",
    "              print('3. Diamond :')\n",
    "              i = 1\n",
    "              while i<n:    \n",
    "                   print(\" \"*(n-i) + '* '*i)  \n",
    "                   i += 1\n",
    "        \n",
    "              i = n\n",
    "              while i>=1:\n",
    "                  print(\" \"*(n-i) + '* '*i) \n",
    "                  i -= 1\n",
    "            \n",
    "        "
   ]
  },
  {
   "cell_type": "code",
   "execution_count": 14,
   "id": "353e87ad-4d30-438e-812e-127e961f81c9",
   "metadata": {},
   "outputs": [
    {
     "name": "stdin",
     "output_type": "stream",
     "text": [
      "Enter the No. of rows : 4\n"
     ]
    },
    {
     "name": "stdout",
     "output_type": "stream",
     "text": [
      "1. Hollow Triangle :\n",
      "   *\n",
      "  * *\n",
      " *   *\n",
      "* * * * \n",
      "2. Left Pascal Triangle :\n",
      "   *\n",
      "  **\n",
      " ***\n",
      "****\n",
      " ***\n",
      "  **\n",
      "   *\n",
      "3. Diamond :\n",
      "   * \n",
      "  * * \n",
      " * * * \n",
      "* * * * \n",
      " * * * \n",
      "  * * \n",
      "   * \n"
     ]
    }
   ],
   "source": [
    "row = int(input('Enter the No. of rows :'))\n",
    "if row < 1:\n",
    "    print('invalid row')\n",
    "    \n",
    "triangle(row)        \n",
    "LeftPascalTriangle(row)  \n",
    "Diamond(row)"
   ]
  },
  {
   "cell_type": "markdown",
   "id": "27469286-5e29-43c9-88d7-2597898cf759",
   "metadata": {},
   "source": [
    "Ans_7. "
   ]
  },
  {
   "cell_type": "code",
   "execution_count": 15,
   "id": "f1ebdb83-cec4-4fe2-a0c0-f34f2a46aab3",
   "metadata": {},
   "outputs": [
    {
     "name": "stdout",
     "output_type": "stream",
     "text": [
      "10\n",
      "9\n",
      "8\n",
      "7\n",
      "6\n",
      "5\n",
      "4\n",
      "3\n",
      "2\n",
      "1\n"
     ]
    }
   ],
   "source": [
    "var = 10\n",
    "while var >0:\n",
    "    print (var)\n",
    "    var -= 1"
   ]
  },
  {
   "cell_type": "markdown",
   "id": "096162dc-7446-4d27-8360-5f08052e9676",
   "metadata": {},
   "source": [
    "Ans_8."
   ]
  },
  {
   "cell_type": "code",
   "execution_count": 19,
   "id": "8aae5a5a-fc1e-4028-bd48-f5c0ae45edd3",
   "metadata": {},
   "outputs": [
    {
     "name": "stdin",
     "output_type": "stream",
     "text": [
      "Enter the No. to be printed till 1 in reverse order : 10\n"
     ]
    },
    {
     "name": "stdout",
     "output_type": "stream",
     "text": [
      "10  9  8  7  6  5  4  3  2  1  "
     ]
    }
   ],
   "source": [
    "def print_revers(num):\n",
    "    i = num\n",
    "    while i > 0:\n",
    "     print (i , ' ' , end ='')\n",
    "     i -= 1\n",
    "\n",
    "UB = int(input('Enter the No. to be printed till 1 in reverse order :'))\n",
    "if UB>0:\n",
    "  print_revers(UB)\n",
    "else :\n",
    "    print(\"negetive isn't allowed\")"
   ]
  },
  {
   "cell_type": "code",
   "execution_count": null,
   "id": "21952c63-b8fd-4d4c-83f5-bd64f7e7dc56",
   "metadata": {},
   "outputs": [],
   "source": []
  }
 ],
 "metadata": {
  "kernelspec": {
   "display_name": "Python 3 (ipykernel)",
   "language": "python",
   "name": "python3"
  },
  "language_info": {
   "codemirror_mode": {
    "name": "ipython",
    "version": 3
   },
   "file_extension": ".py",
   "mimetype": "text/x-python",
   "name": "python",
   "nbconvert_exporter": "python",
   "pygments_lexer": "ipython3",
   "version": "3.9.15"
  },
  "widgets": {
   "application/vnd.jupyter.widget-state+json": {
    "state": {},
    "version_major": 2,
    "version_minor": 0
   }
  }
 },
 "nbformat": 4,
 "nbformat_minor": 5
}
