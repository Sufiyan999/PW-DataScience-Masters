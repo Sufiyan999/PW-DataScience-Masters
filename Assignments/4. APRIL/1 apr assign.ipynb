{
 "cells": [
  {
   "cell_type": "markdown",
   "id": "59b270ee",
   "metadata": {},
   "source": [
    "<a id=\"1\"></a> \n",
    " # <p style=\"padding:10px;background-color: #00004d ;margin:10;color: white ;font-family:newtimeroman;font-size:100%;text-align:center;border-radius: 10px 10px ;overflow:hidden;font-weight:50\">Ans 1 </p> "
   ]
  },
  {
   "cell_type": "markdown",
   "id": "b1799f89",
   "metadata": {},
   "source": [
    "Linear Regression and Logistic Regression are both popular techniques in machine learning, but they serve different purposes and are used for different types of problems. Here's a comparison of the two:\n",
    "\n",
    "1. **Problem Type:**\n",
    "   - **Linear Regression:** Used for regression problems, where the target variable is continuous and numeric. The goal is to predict a continuous outcome, such as predicting a person's salary based on their years of experience.\n",
    "   - **Logistic Regression:** Used for classification problems, where the target variable is categorical. The goal is to predict a binary outcome or to classify data into classes, such as whether an email is spam or not.\n",
    "\n",
    "2. **Output:**\n",
    "   - **Linear Regression:** Predicts a continuous output value, which could be any real number.\n",
    "   - **Logistic Regression:** Predicts the probability of belonging to a particular class. It outputs a value between 0 and 1, which is then thresholded to make class predictions.\n",
    "\n",
    "3. **Model Equation:**\n",
    "   - **Linear Regression:** Uses a linear equation to model the relationship between input features and the target variable. The equation is of the form: `y = mx + b`, where `y` is the predicted value, `x` is the input feature, `m` is the slope, and `b` is the intercept.\n",
    "   - **Logistic Regression:** Uses the logistic function (also known as the sigmoid function) to model the probability of an event occurring. The equation is: `p(y=1|x) = 1 / (1 + e^(-z))`, where `p(y=1|x)` is the probability of the positive class, `x` is the input feature, and `z` is a linear combination of the input features.\n",
    "\n",
    "4. **Loss Function:**\n",
    "   - **Linear Regression:** Typically uses the Mean Squared Error (MSE) as the loss function to minimize the difference between predicted and actual values.\n",
    "   - **Logistic Regression:** Uses the Log Loss (also known as Cross-Entropy Loss) as the loss function to minimize the difference between predicted probabilities and actual binary labels.\n",
    "\n",
    "5. **Model Evaluation:**\n",
    "   - **Linear Regression:** Evaluated using metrics like Mean Absolute Error (MAE), Mean Squared Error (MSE), and R-squared to measure the quality of the predicted values.\n",
    "   - **Logistic Regression:** Evaluated using metrics like Accuracy, Precision, Recall, F1-score, and ROC-AUC to measure the performance of binary classification.\n",
    "\n",
    "6. **Application:**\n",
    "   - **Linear Regression:** Used in scenarios where there's a linear relationship between input features and the target variable, such as predicting house prices, stock prices, etc.\n",
    "   - **Logistic Regression:** Used in scenarios where you want to classify data into classes, such as fraud detection, spam email classification, etc.\n",
    "\n",
    "7. **Output Interpretation:**\n",
    "   - **Linear Regression:** The output represents the predicted value itself.\n",
    "   - **Logistic Regression:** The output represents the probability of belonging to the positive class. It's often converted to binary classes using a threshold (e.g., 0.5).\n",
    "\n",
    "In summary, linear regression is used for regression tasks to predict continuous numeric outcomes, while logistic regression is used for binary classification tasks to predict the probability of an event occurring."
   ]
  },
  {
   "cell_type": "markdown",
   "id": "53ad7377",
   "metadata": {},
   "source": [
    " example of a scenario where logistic regression would be more appropriate:\n",
    "\n",
    "**Scenario: Medical Diagnosis for Disease Prediction**\n",
    "Suppose a hospital wants to develop a system to predict whether a patient has a certain disease based on various medical test results. The target variable is binary: either the patient has the disease (class 1) or doesn't have the disease (class 0). The hospital has a dataset with medical features such as blood pressure, cholesterol levels, age, and gender.\n",
    "\n",
    "In this case, logistic regression would be more appropriate because:\n",
    "\n",
    "1. **Binary Classification:** The problem involves classifying patients into two categories: having the disease or not having the disease. Logistic regression is well-suited for binary classification tasks.\n",
    "\n",
    "2. **Probability Output:** The hospital is interested in estimating the probability of a patient having the disease based on the input features. Logistic regression provides probability outputs between 0 and 1, which is suitable for such cases.\n",
    "\n",
    "3. **Interpretability:** Logistic regression coefficients can be easily interpreted in terms of the log-odds of the probability of having the disease. This can provide insights into which features are most important in predicting the disease.\n",
    "\n",
    "4. **Thresholding:** The hospital can set a threshold (e.g., 0.5) on the predicted probabilities to make a decision on whether to classify a patient as having the disease or not.\n",
    "\n",
    "5. **Performance Metrics:** Metrics such as accuracy, precision, recall, and ROC-AUC can be used to evaluate the model's performance on disease prediction.\n",
    "\n",
    "In this medical diagnosis scenario, logistic regression can effectively model the relationship between the input medical features and the probability of a patient having the disease, making it a suitable choice for the problem."
   ]
  },
  {
   "cell_type": "code",
   "execution_count": null,
   "id": "f3eeec96",
   "metadata": {},
   "outputs": [],
   "source": []
  },
  {
   "cell_type": "markdown",
   "id": "c9c97d3a",
   "metadata": {},
   "source": [
    "<a id=\"2\"></a> \n",
    " # <p style=\"padding:10px;background-color: #00004d ;margin:10;color: white ;font-family:newtimeroman;font-size:100%;text-align:center;border-radius: 10px 10px ;overflow:hidden;font-weight:50\">Ans 2 </p> "
   ]
  },
  {
   "cell_type": "code",
   "execution_count": null,
   "id": "a4bfedc0",
   "metadata": {},
   "outputs": [],
   "source": []
  },
  {
   "cell_type": "code",
   "execution_count": null,
   "id": "b6ff6197",
   "metadata": {},
   "outputs": [],
   "source": []
  },
  {
   "cell_type": "markdown",
   "id": "c6264f74",
   "metadata": {},
   "source": [
    "<a id=\"3\"></a> \n",
    " # <p style=\"padding:10px;background-color: #00004d ;margin:10;color: white ;font-family:newtimeroman;font-size:100%;text-align:center;border-radius: 10px 10px ;overflow:hidden;font-weight:50\">Ans 3 </p> "
   ]
  },
  {
   "cell_type": "code",
   "execution_count": null,
   "id": "42226240",
   "metadata": {},
   "outputs": [],
   "source": []
  },
  {
   "cell_type": "code",
   "execution_count": null,
   "id": "455a1dfc",
   "metadata": {},
   "outputs": [],
   "source": []
  },
  {
   "cell_type": "markdown",
   "id": "60f6888a",
   "metadata": {},
   "source": [
    "<a id=\"4\"></a> \n",
    " # <p style=\"padding:10px;background-color: #00004d ;margin:10;color: white ;font-family:newtimeroman;font-size:100%;text-align:center;border-radius: 10px 10px ;overflow:hidden;font-weight:50\">Ans 4 </p> "
   ]
  },
  {
   "cell_type": "code",
   "execution_count": null,
   "id": "2553c4c0",
   "metadata": {},
   "outputs": [],
   "source": []
  },
  {
   "cell_type": "code",
   "execution_count": null,
   "id": "fdf54856",
   "metadata": {},
   "outputs": [],
   "source": []
  },
  {
   "cell_type": "markdown",
   "id": "c802ae6d",
   "metadata": {},
   "source": [
    "<a id=\"5\"></a> \n",
    " # <p style=\"padding:10px;background-color: #00004d ;margin:10;color: white ;font-family:newtimeroman;font-size:100%;text-align:center;border-radius: 10px 10px ;overflow:hidden;font-weight:50\">Ans 5 </p> "
   ]
  },
  {
   "cell_type": "code",
   "execution_count": null,
   "id": "7dbd8318",
   "metadata": {},
   "outputs": [],
   "source": []
  },
  {
   "cell_type": "code",
   "execution_count": null,
   "id": "ec183fd4",
   "metadata": {},
   "outputs": [],
   "source": []
  },
  {
   "cell_type": "markdown",
   "id": "29700689",
   "metadata": {},
   "source": [
    "<a id=\"6\"></a> \n",
    " # <p style=\"padding:10px;background-color: #00004d ;margin:10;color: white ;font-family:newtimeroman;font-size:100%;text-align:center;border-radius: 10px 10px ;overflow:hidden;font-weight:50\">Ans 6 </p> "
   ]
  },
  {
   "cell_type": "code",
   "execution_count": null,
   "id": "a5e8e2c1",
   "metadata": {},
   "outputs": [],
   "source": []
  },
  {
   "cell_type": "code",
   "execution_count": null,
   "id": "17d65ebb",
   "metadata": {},
   "outputs": [],
   "source": []
  },
  {
   "cell_type": "markdown",
   "id": "35b2a254",
   "metadata": {},
   "source": [
    "<a id=\"7\"></a> \n",
    " # <p style=\"padding:10px;background-color: #00004d ;margin:10;color: white ;font-family:newtimeroman;font-size:100%;text-align:center;border-radius: 10px 10px ;overflow:hidden;font-weight:50\">Ans 7 </p> "
   ]
  },
  {
   "cell_type": "code",
   "execution_count": null,
   "id": "e0e28f76",
   "metadata": {},
   "outputs": [],
   "source": []
  },
  {
   "cell_type": "code",
   "execution_count": null,
   "id": "a5ada5ba",
   "metadata": {},
   "outputs": [],
   "source": []
  },
  {
   "cell_type": "markdown",
   "id": "4ae12a4a",
   "metadata": {},
   "source": [
    "<a id=\"9\"></a> \n",
    " # <p style=\"padding:10px;background-color: #01DFD7 ;margin:10;color: white ;font-family:newtimeroman;font-size:100%;text-align:center;border-radius: 10px 10px ;overflow:hidden;font-weight:50\">END</p> "
   ]
  },
  {
   "cell_type": "code",
   "execution_count": null,
   "id": "61a1ddeb",
   "metadata": {},
   "outputs": [],
   "source": []
  },
  {
   "cell_type": "code",
   "execution_count": null,
   "id": "f87f5952",
   "metadata": {},
   "outputs": [],
   "source": []
  },
  {
   "cell_type": "code",
   "execution_count": null,
   "id": "c75386aa",
   "metadata": {},
   "outputs": [],
   "source": []
  },
  {
   "cell_type": "code",
   "execution_count": null,
   "id": "5fe8584c",
   "metadata": {},
   "outputs": [],
   "source": []
  },
  {
   "cell_type": "code",
   "execution_count": null,
   "id": "af60f901",
   "metadata": {},
   "outputs": [],
   "source": []
  }
 ],
 "metadata": {
  "kernelspec": {
   "display_name": "Python 3 (ipykernel)",
   "language": "python",
   "name": "python3"
  },
  "language_info": {
   "codemirror_mode": {
    "name": "ipython",
    "version": 3
   },
   "file_extension": ".py",
   "mimetype": "text/x-python",
   "name": "python",
   "nbconvert_exporter": "python",
   "pygments_lexer": "ipython3",
   "version": "3.10.11"
  }
 },
 "nbformat": 4,
 "nbformat_minor": 5
}
