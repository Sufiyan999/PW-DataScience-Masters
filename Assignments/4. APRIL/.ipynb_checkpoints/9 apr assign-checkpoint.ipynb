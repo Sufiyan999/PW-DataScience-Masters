{
 "cells": [
  {
   "cell_type": "markdown",
   "id": "f1e8bd68",
   "metadata": {},
   "source": [
    "<a id=\"1\"></a> \n",
    " # <p style=\"padding:10px;background-color: #00004d ;margin:10;color: white ;font-family:newtimeroman;font-size:100%;text-align:center;border-radius: 10px 10px ;overflow:hidden;font-weight:50\">Ans 1 </p> "
   ]
  },
  {
   "cell_type": "markdown",
   "id": "1bed0caa",
   "metadata": {},
   "source": [
    "Bayes' theorem, named after the Reverend Thomas Bayes, is a fundamental concept in probability theory and statistics. It describes the probability of an event based on prior knowledge or information. Bayes' theorem is often used in conditional probability calculations and has applications in various fields, including statistics, machine learning, and artificial intelligence.\n",
    "\n",
    "Mathematically, Bayes' theorem can be expressed as:\n",
    "\n",
    "\\[ P(A|B) = P(B|A) * P(A) / P(B) \\]\n",
    "\n",
    "Where:\n",
    "- \\( P(A|B) \\) is the **posterior probability**, which represents the probability of event A occurring given that event B has occurred.\n",
    "- \\( P(B|A) \\) is the **likelihood**, which represents the probability of event B occurring given that event A has occurred.\n",
    "- \\( P(A) \\) is the **prior probability** of event A.\n",
    "- \\( P(B) \\) is the **evidence probability**, which is the probability of event B occurring.\n",
    "\n",
    "Bayes' theorem provides a way to update our beliefs (the prior probability) about an event based on new evidence (the likelihood) that becomes available. It's a powerful tool for making inferences and decisions, especially when we have prior knowledge or information.\n",
    "\n",
    "In the context of machine learning, Bayes' theorem is often used in probabilistic algorithms such as Naive Bayes classifiers and Bayesian networks. These algorithms use Bayes' theorem to make predictions or decisions based on available evidence and prior knowledge."
   ]
  },
  {
   "cell_type": "code",
   "execution_count": null,
   "id": "0a8c204f",
   "metadata": {},
   "outputs": [],
   "source": []
  },
  {
   "cell_type": "markdown",
   "id": "19674503",
   "metadata": {},
   "source": [
    "<a id=\"2\"></a> \n",
    " # <p style=\"padding:10px;background-color: #00004d ;margin:10;color: white ;font-family:newtimeroman;font-size:100%;text-align:center;border-radius: 10px 10px ;overflow:hidden;font-weight:50\">Ans 2 </p> "
   ]
  },
  {
   "cell_type": "markdown",
   "id": "e02051f8",
   "metadata": {},
   "source": [
    "The formula for Bayes' theorem is as follows:\n",
    "\n",
    "\\[ P(A|B) = P(B|A) * P(A) / P(B) \\]\n",
    "\n",
    "Where:\n",
    "- \\( P(A|B) \\) is the **posterior probability**, which represents the probability of event A occurring given that event B has occurred.\n",
    "- \\( P(B|A) \\) is the **likelihood**, which represents the probability of event B occurring given that event A has occurred.\n",
    "- \\( P(A) \\) is the **prior probability** of event A.\n",
    "- \\( P(B) \\) is the **evidence probability**, which is the probability of event B occurring.\n",
    "\n",
    "Bayes' theorem provides a mathematical framework for updating our beliefs (the prior probability) about an event based on new evidence (the likelihood) that becomes available. It's a fundamental concept in probability theory and has applications in various fields, including statistics, machine learning, and decision-making."
   ]
  },
  {
   "cell_type": "code",
   "execution_count": null,
   "id": "1e12682b",
   "metadata": {},
   "outputs": [],
   "source": []
  },
  {
   "cell_type": "markdown",
   "id": "4736d0fc",
   "metadata": {},
   "source": [
    "<a id=\"3\"></a> \n",
    " # <p style=\"padding:10px;background-color: #00004d ;margin:10;color: white ;font-family:newtimeroman;font-size:100%;text-align:center;border-radius: 10px 10px ;overflow:hidden;font-weight:50\">Ans 3 </p> "
   ]
  },
  {
   "cell_type": "markdown",
   "id": "53a342cd",
   "metadata": {},
   "source": [
    "Bayes' theorem is used in various practical applications to make informed decisions, update beliefs, and perform probabilistic reasoning. Here are a few examples of how Bayes' theorem is used in practice:\n",
    "\n",
    "1. **Spam Filtering**: In email spam filtering, Bayes' theorem is used to classify incoming emails as spam or not spam. The theorem helps update the probability of an email being spam based on the presence of specific words or features. This approach is implemented in algorithms like Naive Bayes.\n",
    "\n",
    "2. **Medical Diagnostics**: Bayes' theorem is used in medical diagnostics to calculate the probability of a patient having a particular condition based on the presence of certain symptoms and the prevalence of the condition in the population.\n",
    "\n",
    "3. **Weather Forecasting**: In weather forecasting, Bayes' theorem can be used to update weather predictions based on new observations. It helps meteorologists adjust their predictions as more data becomes available.\n",
    "\n",
    "4. **Document Classification**: In natural language processing, Bayes' theorem is employed to classify documents into categories. For instance, it can be used to determine whether a given news article belongs to a certain topic or category.\n",
    "\n",
    "5. **Machine Learning**: Bayes' theorem is foundational for probabilistic machine learning algorithms. Algorithms like Naive Bayes, Bayesian networks, and Bayesian inference use Bayes' theorem to estimate probabilities and make predictions based on prior knowledge and new evidence.\n",
    "\n",
    "6. **A/B Testing**: In experimentation and A/B testing, Bayes' theorem can be used to analyze the results of different versions of a web page or app. It helps determine which version performs better based on user interactions and conversions.\n",
    "\n",
    "7. **Fraud Detection**: In financial systems, Bayes' theorem can be applied to detect fraudulent transactions by updating the probability of a transaction being fraudulent based on patterns of past fraudulent activity.\n",
    "\n",
    "8. **Speech Recognition**: Bayes' theorem is used in speech recognition systems to evaluate the likelihood of a given sequence of phonemes or words based on observed acoustic features.\n",
    "\n",
    "Bayes' theorem provides a systematic framework for incorporating prior knowledge and new evidence to make more accurate and informed decisions. Its applications extend across diverse domains, helping to solve problems involving uncertainty, prediction, and inference."
   ]
  },
  {
   "cell_type": "code",
   "execution_count": null,
   "id": "a338fc47",
   "metadata": {},
   "outputs": [],
   "source": []
  },
  {
   "cell_type": "markdown",
   "id": "8e108699",
   "metadata": {},
   "source": [
    "<a id=\"4\"></a> \n",
    " # <p style=\"padding:10px;background-color: #00004d ;margin:10;color: white ;font-family:newtimeroman;font-size:100%;text-align:center;border-radius: 10px 10px ;overflow:hidden;font-weight:50\">Ans 4 </p> "
   ]
  },
  {
   "cell_type": "code",
   "execution_count": null,
   "id": "7cd527dc",
   "metadata": {},
   "outputs": [],
   "source": []
  },
  {
   "cell_type": "code",
   "execution_count": null,
   "id": "ec2921c9",
   "metadata": {},
   "outputs": [],
   "source": []
  },
  {
   "cell_type": "markdown",
   "id": "79e93595",
   "metadata": {},
   "source": [
    "<a id=\"5\"></a> \n",
    " # <p style=\"padding:10px;background-color: #00004d ;margin:10;color: white ;font-family:newtimeroman;font-size:100%;text-align:center;border-radius: 10px 10px ;overflow:hidden;font-weight:50\">Ans 5 </p> "
   ]
  },
  {
   "cell_type": "markdown",
   "id": "96077d4e",
   "metadata": {},
   "source": [
    "Bayes' theorem and conditional probability are closely related concepts in probability theory. Bayes' theorem can be derived from conditional probability, and they both involve understanding the likelihood of events based on certain conditions. Here's the relationship between the two:\n",
    "\n",
    "**Conditional Probability**: Conditional probability refers to the probability of an event A occurring given that another event B has already occurred. It's denoted as \\( P(A|B) \\), which is read as \"the probability of A given B.\"\n",
    "\n",
    "**Bayes' Theorem**: Bayes' theorem is a formula that provides a way to calculate the conditional probability of an event A occurring given that another event B has occurred, based on prior knowledge or information. It's expressed as:\n",
    "\n",
    "\\[ P(A|B) = P(B|A) * P(A) / P(B) \\]\n",
    "\n",
    "In this formula:\n",
    "- \\( P(A|B) \\) is the conditional probability of event A given event B.\n",
    "- \\( P(B|A) \\) is the conditional probability of event B given event A.\n",
    "- \\( P(A) \\) is the prior probability of event A.\n",
    "- \\( P(B) \\) is the evidence probability of event B.\n",
    "\n",
    "**Relationship**: Bayes' theorem provides a systematic way to update our beliefs about the likelihood of event A occurring based on new evidence (the likelihood \\( P(B|A) \\)) and the prior knowledge we have about event A (\\( P(A) \\)). It's a way of reversing the conditioning: instead of just calculating \\( P(A|B) \\) directly, which might be difficult, we calculate it using \\( P(B|A) \\), \\( P(A) \\), and \\( P(B) \\). This is why Bayes' theorem is also known as the \"law of inverse probability.\"\n",
    "\n",
    "In summary, conditional probability is a fundamental concept that forms the basis of Bayes' theorem. Bayes' theorem extends the concept of conditional probability by providing a structured way to incorporate prior knowledge and new evidence to calculate conditional probabilities."
   ]
  },
  {
   "cell_type": "code",
   "execution_count": null,
   "id": "6cf05376",
   "metadata": {},
   "outputs": [],
   "source": []
  },
  {
   "cell_type": "markdown",
   "id": "81cb2d61",
   "metadata": {},
   "source": [
    "<a id=\"6\"></a> \n",
    " # <p style=\"padding:10px;background-color: #00004d ;margin:10;color: white ;font-family:newtimeroman;font-size:100%;text-align:center;border-radius: 10px 10px ;overflow:hidden;font-weight:50\">Ans 6 </p> "
   ]
  },
  {
   "cell_type": "code",
   "execution_count": 4,
   "id": "3978b7f7",
   "metadata": {},
   "outputs": [
    {
     "data": {
      "text/html": [
       "<div>\n",
       "<style scoped>\n",
       "    .dataframe tbody tr th:only-of-type {\n",
       "        vertical-align: middle;\n",
       "    }\n",
       "\n",
       "    .dataframe tbody tr th {\n",
       "        vertical-align: top;\n",
       "    }\n",
       "\n",
       "    .dataframe thead th {\n",
       "        text-align: right;\n",
       "    }\n",
       "</style>\n",
       "<table border=\"1\" class=\"dataframe\">\n",
       "  <thead>\n",
       "    <tr style=\"text-align: right;\">\n",
       "      <th></th>\n",
       "      <th>Class</th>\n",
       "      <th>X1=1</th>\n",
       "      <th>X1=2</th>\n",
       "      <th>X1=3</th>\n",
       "      <th>X2=1</th>\n",
       "      <th>X2=2</th>\n",
       "      <th>X2=3</th>\n",
       "      <th>X2=4</th>\n",
       "    </tr>\n",
       "  </thead>\n",
       "  <tbody>\n",
       "    <tr>\n",
       "      <th>0</th>\n",
       "      <td>A</td>\n",
       "      <td>3</td>\n",
       "      <td>3</td>\n",
       "      <td>4</td>\n",
       "      <td>4</td>\n",
       "      <td>3</td>\n",
       "      <td>3</td>\n",
       "      <td>3</td>\n",
       "    </tr>\n",
       "    <tr>\n",
       "      <th>1</th>\n",
       "      <td>B</td>\n",
       "      <td>2</td>\n",
       "      <td>2</td>\n",
       "      <td>1</td>\n",
       "      <td>2</td>\n",
       "      <td>2</td>\n",
       "      <td>2</td>\n",
       "      <td>3</td>\n",
       "    </tr>\n",
       "  </tbody>\n",
       "</table>\n",
       "</div>"
      ],
      "text/plain": [
       "  Class  X1=1  X1=2  X1=3  X2=1  X2=2  X2=3  X2=4\n",
       "0     A     3     3     4     4     3     3     3\n",
       "1     B     2     2     1     2     2     2     3"
      ]
     },
     "execution_count": 4,
     "metadata": {},
     "output_type": "execute_result"
    }
   ],
   "source": [
    "import pandas as pd\n",
    "\n",
    "# Given frequency table\n",
    "frequency_table = {\n",
    "    'Class': ['A', 'B'],\n",
    "    'X1=1': [3, 2],\n",
    "    'X1=2': [3, 2],\n",
    "    'X1=3': [4, 1],\n",
    "    'X2=1': [4, 2],\n",
    "    'X2=2': [3, 2],\n",
    "    'X2=3': [3, 2],\n",
    "    'X2=4': [3, 3]\n",
    "}\n",
    "\n",
    "# Create a DataFrame\n",
    "df = pd.DataFrame(frequency_table)\n",
    "\n",
    "# Display the DataFrame\n",
    "df"
   ]
  },
  {
   "cell_type": "markdown",
   "id": "36acdaa0",
   "metadata": {},
   "source": [
    "To predict the class using Naive Bayes, you need to calculate the conditional probabilities for each class based on the given feature values and use Bayes' theorem to determine the most probable class. Given the equal prior probabilities for each class, we can omit the denominator (evidence probability) in Bayes' theorem since it's the same for both classes.\n",
    "\n",
    "Let's calculate the conditional probabilities for both classes:\n",
    "\n",
    "For Class A:\n",
    "- \\( P(X1=3|A) = 4 / 13 \\)\n",
    "- \\( P(X2=4|A) = 3 / 13  \\)\n",
    "\n",
    "For Class B:\n",
    "- \\( P(X1=3|B) = 1 / 11 \\)\n",
    "- \\( P(X2=4|B) = 3 /11 \\)\n",
    "\n",
    "Now, we calculate the product of these probabilities for each class and compare:\n",
    "\n",
    "For Class A:\n",
    "\\[ P(A|X1=3, X2=4) ∝ P(X1=3|A) * P(X2=4|A) = 4 / 13 * 3 / 13 = 0.0719 \\]\n",
    "\n",
    "For Class B:\n",
    "\\[ P(B|X1=3, X2=4) ∝ P(X1=3|B) \\cdot P(X2=4|B) = 1 / 11 * 3 / 11 =  0.0249 \\]\n",
    "\n",
    "Comparing these values, we see that \\( P(A|X1=3, X2=4) > P(B|X1=3, X2=4) \\), which means that Naive Bayes would predict the new instance to belong to **Class A** since it has a higher conditional probability given the feature values."
   ]
  },
  {
   "cell_type": "code",
   "execution_count": 5,
   "id": "7e9d9f80",
   "metadata": {},
   "outputs": [
    {
     "name": "stdout",
     "output_type": "stream",
     "text": [
      "Predicted class: A\n"
     ]
    }
   ],
   "source": [
    "# Given frequency table\n",
    "frequency_table = {\n",
    "    'A': {'X1=1': 3, 'X1=2': 3, 'X1=3': 4, 'X2=1': 4, 'X2=2': 3, 'X2=3': 3, 'X2=4': 3},\n",
    "    'B': {'X1=1': 2, 'X1=2': 2, 'X1=3': 1, 'X2=1': 2, 'X2=2': 2, 'X2=3': 2, 'X2=4': 3}\n",
    "}\n",
    "\n",
    "# Calculate conditional probabilities\n",
    "p_x1_given_a = frequency_table['A']['X1=3'] / sum(frequency_table['A'].values())\n",
    "p_x2_given_a = frequency_table['A']['X2=4'] / sum(frequency_table['A'].values())\n",
    "\n",
    "p_x1_given_b = frequency_table['B']['X1=3'] / sum(frequency_table['B'].values())\n",
    "p_x2_given_b = frequency_table['B']['X2=4'] / sum(frequency_table['B'].values())\n",
    "\n",
    "# Calculate the product of conditional probabilities for each class\n",
    "p_a_given_x = p_x1_given_a * p_x2_given_a\n",
    "p_b_given_x = p_x1_given_b * p_x2_given_b\n",
    "\n",
    "# Compare probabilities and predict the class\n",
    "predicted_class = 'A' if p_a_given_x > p_b_given_x else 'B'\n",
    "print(\"Predicted class:\", predicted_class)"
   ]
  },
  {
   "cell_type": "code",
   "execution_count": null,
   "id": "eeb6542b",
   "metadata": {},
   "outputs": [],
   "source": []
  },
  {
   "cell_type": "markdown",
   "id": "49787667",
   "metadata": {},
   "source": [
    "<a id=\"8\"></a> \n",
    " # <p style=\"padding:10px;background-color: #01DFD7 ;margin:10;color: white ;font-family:newtimeroman;font-size:100%;text-align:center;border-radius: 10px 10px ;overflow:hidden;font-weight:50\">END</p> "
   ]
  },
  {
   "cell_type": "code",
   "execution_count": null,
   "id": "4c055c68",
   "metadata": {},
   "outputs": [],
   "source": []
  },
  {
   "cell_type": "code",
   "execution_count": null,
   "id": "39c81034",
   "metadata": {},
   "outputs": [],
   "source": []
  },
  {
   "cell_type": "code",
   "execution_count": null,
   "id": "6826bc87",
   "metadata": {},
   "outputs": [],
   "source": []
  },
  {
   "cell_type": "code",
   "execution_count": null,
   "id": "60ae9c8f",
   "metadata": {},
   "outputs": [],
   "source": []
  },
  {
   "cell_type": "code",
   "execution_count": null,
   "id": "13d00439",
   "metadata": {},
   "outputs": [],
   "source": []
  }
 ],
 "metadata": {
  "kernelspec": {
   "display_name": "Python 3 (ipykernel)",
   "language": "python",
   "name": "python3"
  },
  "language_info": {
   "codemirror_mode": {
    "name": "ipython",
    "version": 3
   },
   "file_extension": ".py",
   "mimetype": "text/x-python",
   "name": "python",
   "nbconvert_exporter": "python",
   "pygments_lexer": "ipython3",
   "version": "3.10.11"
  }
 },
 "nbformat": 4,
 "nbformat_minor": 5
}
