{
 "cells": [
  {
   "cell_type": "markdown",
   "id": "78d7ac6e",
   "metadata": {},
   "source": [
    "<a id=\"1\"></a> \n",
    " # <p style=\"padding:10px;background-color: #00004d ;margin:10;color: white ;font-family:newtimeroman;font-size:100%;text-align:center;border-radius: 10px 10px ;overflow:hidden;font-weight:50\">Ans 1 </p> "
   ]
  },
  {
   "cell_type": "code",
   "execution_count": 6,
   "id": "686a159a",
   "metadata": {},
   "outputs": [
    {
     "data": {
      "text/html": [
       "<div>\n",
       "<style scoped>\n",
       "    .dataframe tbody tr th:only-of-type {\n",
       "        vertical-align: middle;\n",
       "    }\n",
       "\n",
       "    .dataframe tbody tr th {\n",
       "        vertical-align: top;\n",
       "    }\n",
       "\n",
       "    .dataframe thead th {\n",
       "        text-align: right;\n",
       "    }\n",
       "</style>\n",
       "<table border=\"1\" class=\"dataframe\">\n",
       "  <thead>\n",
       "    <tr style=\"text-align: right;\">\n",
       "      <th></th>\n",
       "      <th>area_type</th>\n",
       "      <th>availability</th>\n",
       "      <th>location</th>\n",
       "      <th>size</th>\n",
       "      <th>society</th>\n",
       "      <th>total_sqft</th>\n",
       "      <th>bath</th>\n",
       "      <th>balcony</th>\n",
       "      <th>price</th>\n",
       "    </tr>\n",
       "  </thead>\n",
       "  <tbody>\n",
       "    <tr>\n",
       "      <th>0</th>\n",
       "      <td>Super built-up  Area</td>\n",
       "      <td>19-Dec</td>\n",
       "      <td>Electronic City Phase II</td>\n",
       "      <td>2 BHK</td>\n",
       "      <td>Coomee</td>\n",
       "      <td>1056</td>\n",
       "      <td>2.0</td>\n",
       "      <td>1.0</td>\n",
       "      <td>39.07</td>\n",
       "    </tr>\n",
       "    <tr>\n",
       "      <th>1</th>\n",
       "      <td>Plot  Area</td>\n",
       "      <td>Ready To Move</td>\n",
       "      <td>Chikka Tirupathi</td>\n",
       "      <td>4 Bedroom</td>\n",
       "      <td>Theanmp</td>\n",
       "      <td>2600</td>\n",
       "      <td>5.0</td>\n",
       "      <td>3.0</td>\n",
       "      <td>120.00</td>\n",
       "    </tr>\n",
       "    <tr>\n",
       "      <th>2</th>\n",
       "      <td>Built-up  Area</td>\n",
       "      <td>Ready To Move</td>\n",
       "      <td>Uttarahalli</td>\n",
       "      <td>3 BHK</td>\n",
       "      <td>NaN</td>\n",
       "      <td>1440</td>\n",
       "      <td>2.0</td>\n",
       "      <td>3.0</td>\n",
       "      <td>62.00</td>\n",
       "    </tr>\n",
       "    <tr>\n",
       "      <th>3</th>\n",
       "      <td>Super built-up  Area</td>\n",
       "      <td>Ready To Move</td>\n",
       "      <td>Lingadheeranahalli</td>\n",
       "      <td>3 BHK</td>\n",
       "      <td>Soiewre</td>\n",
       "      <td>1521</td>\n",
       "      <td>3.0</td>\n",
       "      <td>1.0</td>\n",
       "      <td>95.00</td>\n",
       "    </tr>\n",
       "    <tr>\n",
       "      <th>4</th>\n",
       "      <td>Super built-up  Area</td>\n",
       "      <td>Ready To Move</td>\n",
       "      <td>Kothanur</td>\n",
       "      <td>2 BHK</td>\n",
       "      <td>NaN</td>\n",
       "      <td>1200</td>\n",
       "      <td>2.0</td>\n",
       "      <td>1.0</td>\n",
       "      <td>51.00</td>\n",
       "    </tr>\n",
       "  </tbody>\n",
       "</table>\n",
       "</div>"
      ],
      "text/plain": [
       "              area_type   availability                  location       size  \\\n",
       "0  Super built-up  Area         19-Dec  Electronic City Phase II      2 BHK   \n",
       "1            Plot  Area  Ready To Move          Chikka Tirupathi  4 Bedroom   \n",
       "2        Built-up  Area  Ready To Move               Uttarahalli      3 BHK   \n",
       "3  Super built-up  Area  Ready To Move        Lingadheeranahalli      3 BHK   \n",
       "4  Super built-up  Area  Ready To Move                  Kothanur      2 BHK   \n",
       "\n",
       "   society total_sqft  bath  balcony   price  \n",
       "0  Coomee        1056   2.0      1.0   39.07  \n",
       "1  Theanmp       2600   5.0      3.0  120.00  \n",
       "2      NaN       1440   2.0      3.0   62.00  \n",
       "3  Soiewre       1521   3.0      1.0   95.00  \n",
       "4      NaN       1200   2.0      1.0   51.00  "
      ]
     },
     "execution_count": 6,
     "metadata": {},
     "output_type": "execute_result"
    }
   ],
   "source": [
    "import pandas as pd\n",
    "\n",
    "# Load the dataset\n",
    "data = pd.read_csv('Bengaluru_House_Data.csv')\n",
    "data.head()"
   ]
  },
  {
   "cell_type": "code",
   "execution_count": 9,
   "id": "95fb26f9",
   "metadata": {},
   "outputs": [
    {
     "name": "stdout",
     "output_type": "stream",
     "text": [
      "Columns with Null Values:\n",
      "location       1\n",
      "size          16\n",
      "society     5502\n",
      "bath          73\n",
      "balcony      609\n",
      "dtype: int64\n",
      "\n",
      "Total Rows: 13320\n",
      "Shape of the Data (13320, 9)\n",
      "\n",
      "Column Data Types:\n"
     ]
    },
    {
     "data": {
      "text/plain": [
       "area_type        object\n",
       "availability     object\n",
       "location         object\n",
       "size             object\n",
       "society          object\n",
       "total_sqft       object\n",
       "bath            float64\n",
       "balcony         float64\n",
       "price           float64\n",
       "dtype: object"
      ]
     },
     "execution_count": 9,
     "metadata": {},
     "output_type": "execute_result"
    }
   ],
   "source": [
    "\n",
    "# Get columns with null values\n",
    "null_columns = data.columns[data.isnull().any()]\n",
    "null_counts = data[null_columns].isnull().sum()\n",
    "\n",
    "# Get total number of rows\n",
    "total_rows = len(data)\n",
    "\n",
    "# Get column data types\n",
    "column_types = data.dtypes\n",
    "\n",
    "# Display the results\n",
    "print(\"Columns with Null Values:\")\n",
    "print(null_counts)\n",
    "\n",
    "print(\"\\nTotal Rows:\", total_rows)\n",
    "print(\"Shape of the Data\" ,data.shape)\n",
    "\n",
    "print(\"\\nColumn Data Types:\")\n",
    "column_types"
   ]
  },
  {
   "cell_type": "markdown",
   "id": "bcae96fa",
   "metadata": {},
   "source": [
    "For predicting house prices using an SVM regression model, the most suitable regression metric to employ would be the **Root Mean Squared Error (RMSE)**.\n",
    "\n",
    "The RMSE is a common regression evaluation metric that measures the average magnitude of the errors between predicted and actual values. It provides an intuitive understanding of the model's prediction accuracy in the original units of the target variable (house prices, in this case). The RMSE is particularly useful for regression tasks where you want to quantify the magnitude of the errors in terms of the target variable's scale.\n",
    "\n",
    "Here's why RMSE is a good choice for evaluating an SVM regression model for predicting house prices:\n",
    "\n",
    "1. **Interpretability**: RMSE is directly interpretable in the same unit as the target variable (currency, in this case, representing house prices). It gives you a clear understanding of how much, on average, the model's predictions deviate from the actual house prices.\n",
    "\n",
    "2. **Scale-Independent**: RMSE considers the differences between predicted and actual values without being affected by the scale of the target variable. This makes it suitable for comparing the performance of different models across different datasets.\n",
    "\n",
    "3. **Sensitivity to Errors**: RMSE penalizes large prediction errors more than smaller ones, which aligns with the goal of accurately predicting house prices. It places higher importance on minimizing significant deviations.\n",
    "\n",
    "To compute the RMSE, you would calculate the square root of the average of the squared differences between the predicted and actual house prices. Lower RMSE values indicate better prediction performance.\n",
    "\n",
    "However, it's also a good practice to consider additional metrics such as Mean Absolute Error (MAE) and R-squared (coefficient of determination) to get a more comprehensive view of your SVM regression model's performance."
   ]
  },
  {
   "cell_type": "markdown",
   "id": "48d197d8",
   "metadata": {},
   "source": [
    "<a id=\"2\"></a> \n",
    " # <p style=\"padding:10px;background-color: #00004d ;margin:10;color: white ;font-family:newtimeroman;font-size:100%;text-align:center;border-radius: 10px 10px ;overflow:hidden;font-weight:50\">Ans 2 </p> "
   ]
  },
  {
   "cell_type": "markdown",
   "id": "ed3e05e2",
   "metadata": {},
   "source": [
    "If the goal is to predict the actual price of a house as accurately as possible, then the **Mean Squared Error (MSE)** would be the more appropriate evaluation metric to use for your SVM regression model.\n",
    "\n",
    "The MSE measures the average squared differences between the predicted and actual values. It penalizes larger errors more significantly, which aligns well with your goal of accurately predicting house prices. By minimizing the MSE, you're essentially aiming to reduce the overall prediction errors and ensure that the predicted prices are as close to the actual prices as possible.\n",
    "\n",
    "In this context, the MSE provides a direct measurement of the quality of your predictions in terms of the original scale of the target variable (house prices). Lower MSE values indicate better predictive accuracy and a smaller average difference between your predictions and the actual prices.\n",
    "\n",
    "R-squared (coefficient of determination) is another common regression metric, but it assesses the proportion of the variance in the target variable that can be explained by the model. While R-squared can provide insights into how well your model captures the variance, it might not directly reflect how accurately your model predicts individual house prices. Therefore, when your primary goal is prediction accuracy, MSE is the more suitable choice."
   ]
  },
  {
   "cell_type": "code",
   "execution_count": null,
   "id": "dc164e64",
   "metadata": {},
   "outputs": [],
   "source": []
  },
  {
   "cell_type": "markdown",
   "id": "34c6a103",
   "metadata": {},
   "source": [
    "<a id=\"3\"></a> \n",
    " # <p style=\"padding:10px;background-color: #00004d ;margin:10;color: white ;font-family:newtimeroman;font-size:100%;text-align:center;border-radius: 10px 10px ;overflow:hidden;font-weight:50\">Ans 3 </p> "
   ]
  },
  {
   "cell_type": "markdown",
   "id": "0ec5a3f6",
   "metadata": {},
   "source": [
    "When dealing with a dataset that has a significant number of outliers, the most appropriate regression metric to use with your SVM model is the **Mean Absolute Error (MAE)**.\n",
    "\n",
    "The MAE measures the average absolute differences between the predicted and actual values. Unlike the Mean Squared Error (MSE), which squares the errors and can be heavily affected by outliers, the MAE gives equal weight to all errors regardless of their magnitude. This makes it more robust to the influence of outliers.\n",
    "\n",
    "In scenarios with outliers, using the MAE as an evaluation metric is advantageous because it doesn't overly penalize large errors caused by outliers. Instead, it provides a more accurate representation of the typical prediction error. By minimizing the MAE, you're aiming to reduce the average magnitude of errors without being overly sensitive to outliers.\n",
    "\n",
    "Additionally, you might also consider using other robust regression metrics like the Huber Loss or the Tukey's Biweight Loss, which combine aspects of both MSE and MAE to strike a balance between accuracy and resilience to outliers. These loss functions are available in Scikit-learn and can be used to guide the training of your SVM model.\n",
    "\n",
    "Remember that the choice of evaluation metric should be aligned with your objectives and the characteristics of your dataset. If outliers are a significant concern, using MAE or other robust metrics would be a suitable approach."
   ]
  },
  {
   "cell_type": "code",
   "execution_count": null,
   "id": "446e9095",
   "metadata": {},
   "outputs": [],
   "source": []
  },
  {
   "cell_type": "markdown",
   "id": "b26de77a",
   "metadata": {},
   "source": [
    "<a id=\"4\"></a> \n",
    " # <p style=\"padding:10px;background-color: #00004d ;margin:10;color: white ;font-family:newtimeroman;font-size:100%;text-align:center;border-radius: 10px 10px ;overflow:hidden;font-weight:50\">Ans 4 </p> "
   ]
  },
  {
   "cell_type": "markdown",
   "id": "c75e0fd8",
   "metadata": {},
   "source": [
    "If we have built an SVM regression model using a polynomial kernel and calculated both Mean Squared Error (MSE) and Root Mean Squared Error (RMSE), and found that both values are very close, it's generally preferable to choose **RMSE** as the evaluation metric.\n",
    "\n",
    "The reason for choosing RMSE over MSE in this scenario is that RMSE is in the same units as the target variable, making it more interpretable and easier to relate to the original scale of the problem. RMSE considers the average magnitude of the prediction errors in the same unit as the target variable, which can be more intuitive for understanding the scale of the errors.\n",
    "\n",
    "In contrast, MSE is calculated by squaring the errors and then taking the average. While MSE provides valuable information about the model's performance, the squaring of errors can lead to larger values that might not be directly interpretable in the context of the original target variable.\n",
    "\n",
    "Both RMSE and MSE are important regression metrics, and the choice between them depends on your preference and the context of the problem. Since you mentioned that the values are very close, using RMSE would likely provide a better interpretation of the model's performance on the original scale of the target variable."
   ]
  },
  {
   "cell_type": "code",
   "execution_count": null,
   "id": "179f2d82",
   "metadata": {},
   "outputs": [],
   "source": []
  },
  {
   "cell_type": "markdown",
   "id": "561d3aba",
   "metadata": {},
   "source": [
    "<a id=\"5\"></a> \n",
    " # <p style=\"padding:10px;background-color: #00004d ;margin:10;color: white ;font-family:newtimeroman;font-size:100%;text-align:center;border-radius: 10px 10px ;overflow:hidden;font-weight:50\">Ans 5 </p> "
   ]
  },
  {
   "cell_type": "markdown",
   "id": "2c149c14",
   "metadata": {},
   "source": [
    "If your goal is to measure how well the model explains the variance in the target variable when comparing different SVM regression models with different kernels (linear, polynomial, and RBF), the most appropriate evaluation metric to use would still be the **R-squared (coefficient of determination)**.\n",
    "\n",
    "R-squared is a standardized metric that provides an understanding of the proportion of variance in the dependent variable (target) that is explained by the independent variables (features) in the model. A higher R-squared value indicates that the model is better at explaining the variance in the target variable.\n",
    "\n",
    "By comparing the R-squared values of SVM regression models with different kernels, you can determine which model is better at capturing the underlying patterns and variability in the data. The model with the highest R-squared value indicates the kernel that is most successful in explaining the variance and fitting the data.\n",
    "\n",
    "R-squared is particularly useful when assessing the goodness-of-fit of regression models and determining how well they capture the variability in the target variable."
   ]
  },
  {
   "cell_type": "code",
   "execution_count": null,
   "id": "24c13c18",
   "metadata": {},
   "outputs": [],
   "source": []
  },
  {
   "cell_type": "markdown",
   "id": "f52c4bf0",
   "metadata": {},
   "source": [
    "<a id=\"7\"></a> \n",
    " # <p style=\"padding:10px;background-color: #01DFD7 ;margin:10;color: white ;font-family:newtimeroman;font-size:100%;text-align:center;border-radius: 10px 10px ;overflow:hidden;font-weight:50\">END</p> "
   ]
  },
  {
   "cell_type": "code",
   "execution_count": null,
   "id": "8ec74950",
   "metadata": {},
   "outputs": [],
   "source": []
  },
  {
   "cell_type": "code",
   "execution_count": null,
   "id": "6f872870",
   "metadata": {},
   "outputs": [],
   "source": []
  },
  {
   "cell_type": "code",
   "execution_count": null,
   "id": "dabc1079",
   "metadata": {},
   "outputs": [],
   "source": []
  },
  {
   "cell_type": "code",
   "execution_count": null,
   "id": "7ee19bab",
   "metadata": {},
   "outputs": [],
   "source": []
  },
  {
   "cell_type": "code",
   "execution_count": null,
   "id": "16209591",
   "metadata": {},
   "outputs": [],
   "source": []
  },
  {
   "cell_type": "code",
   "execution_count": null,
   "id": "57b17bdb",
   "metadata": {},
   "outputs": [],
   "source": []
  },
  {
   "cell_type": "code",
   "execution_count": null,
   "id": "5abdff58",
   "metadata": {},
   "outputs": [],
   "source": []
  },
  {
   "cell_type": "code",
   "execution_count": 17,
   "id": "8f0b312e",
   "metadata": {},
   "outputs": [],
   "source": [
    "# from sklearn.svm import SVR\n",
    "# from sklearn.model_selection import train_test_split\n",
    "# from sklearn.metrics import r2_score\n",
    "\n",
    "# X = data.iloc[: ,:-1]\n",
    "# y = data.iloc[: ,-1]\n",
    "\n",
    "\n",
    "# # Assuming you have your features X and target y\n",
    "# X_train, X_test, y_train, y_test = train_test_split(X, y, test_size=0.2, random_state=42)\n",
    "\n",
    "# # Create SVM regression models with different kernels\n",
    "# linear_svr = SVR(kernel='linear')\n",
    "# polynomial_svr = SVR(kernel='poly')\n",
    "# rbf_svr = SVR(kernel='rbf')\n",
    "\n",
    "# # Train the models\n",
    "# linear_svr.fit(X_train, y_train)\n",
    "# polynomial_svr.fit(X_train, y_train)\n",
    "# rbf_svr.fit(X_train, y_train)\n",
    "\n",
    "# # Predict on the test sets\n",
    "# y_pred_linear = linear_svr.predict(X_test)\n",
    "# y_pred_polynomial = polynomial_svr.predict(X_test)\n",
    "# y_pred_rbf = rbf_svr.predict(X_test)\n",
    "\n",
    "# # Calculate R-squared for each model\n",
    "# r2_linear = r2_score(y_test, y_pred_linear)\n",
    "# r2_polynomial = r2_score(y_test, y_pred_polynomial)\n",
    "# r2_rbf = r2_score(y_test, y_pred_rbf)\n",
    "\n",
    "# print(\"R-squared for Linear Kernel:\", r2_linear)\n",
    "# print(\"R-squared for Polynomial Kernel:\", r2_polynomial)\n",
    "# print(\"R-squared for RBF Kernel:\", r2_rbf)"
   ]
  },
  {
   "cell_type": "code",
   "execution_count": 16,
   "id": "6b943ade",
   "metadata": {},
   "outputs": [],
   "source": [
    "# import pandas as pd\n",
    "# from sklearn.svm import SVR\n",
    "# from sklearn.model_selection import train_test_split\n",
    "# from sklearn.metrics import r2_score\n",
    "\n",
    "# data = pd.read_csv('Bengaluru_House_Data.csv')\n",
    "\n",
    "# # Drop rows with missing values in the target column\n",
    "# data = data.dropna(subset=['price'])\n",
    "\n",
    "# # Convert categorical columns using one-hot encoding\n",
    "# data_encoded = pd.get_dummies(data, columns=['area_type', 'availability', 'location', 'size', 'society'], drop_first=True)\n",
    "\n",
    "# # Separate features and target\n",
    "# X = data_encoded.drop('price', axis=1)\n",
    "# y = data_encoded['price']\n",
    "\n",
    "# # Split the dataset into training and testing sets\n",
    "# from sklearn.model_selection import train_test_split\n",
    "\n",
    "# X_train, X_test, y_train, y_test = train_test_split(X, y, test_size=0.2, random_state=42)\n",
    "\n",
    "# linear_svr = SVR(kernel='linear')\n",
    "# polynomial_svr = SVR(kernel='poly')\n",
    "# rbf_svr = SVR(kernel='rbf')\n",
    "\n",
    "# # Train the models\n",
    "# linear_svr.fit(X_train, y_train)\n",
    "# polynomial_svr.fit(X_train, y_train)\n",
    "# rbf_svr.fit(X_train, y_train)\n",
    "\n",
    "# # Predict on the test sets\n",
    "# y_pred_linear = linear_svr.predict(X_test)\n",
    "# y_pred_polynomial = polynomial_svr.predict(X_test)\n",
    "# y_pred_rbf = rbf_svr.predict(X_test)\n",
    "\n",
    "# # Calculate R-squared for each model\n",
    "# r2_linear = r2_score(y_test, y_pred_linear)\n",
    "# r2_polynomial = r2_score(y_test, y_pred_polynomial)\n",
    "# r2_rbf = r2_score(y_test, y_pred_rbf)\n",
    "\n",
    "# print(\"R-squared for Linear Kernel:\", r2_linear)\n",
    "# print(\"R-squared for Polynomial Kernel:\", r2_polynomial)\n",
    "# print(\"R-squared for RBF Kernel:\", r2_rbf)"
   ]
  },
  {
   "cell_type": "code",
   "execution_count": null,
   "id": "a4d4e834",
   "metadata": {},
   "outputs": [],
   "source": []
  }
 ],
 "metadata": {
  "kernelspec": {
   "display_name": "Python 3 (ipykernel)",
   "language": "python",
   "name": "python3"
  },
  "language_info": {
   "codemirror_mode": {
    "name": "ipython",
    "version": 3
   },
   "file_extension": ".py",
   "mimetype": "text/x-python",
   "name": "python",
   "nbconvert_exporter": "python",
   "pygments_lexer": "ipython3",
   "version": "3.10.11"
  }
 },
 "nbformat": 4,
 "nbformat_minor": 5
}
