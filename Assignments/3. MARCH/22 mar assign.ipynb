{
 "cells": [
  {
   "cell_type": "markdown",
   "id": "25b4b75e",
   "metadata": {},
   "source": [
    "<a id=\"1\"></a> \n",
    " # <p style=\"padding:10px;background-color: #00004d ;margin:10;color: white ;font-family:newtimeroman;font-size:100%;text-align:center;border-radius: 10px 10px ;overflow:hidden;font-weight:50\">Ans 1 </p> "
   ]
  },
  {
   "cell_type": "markdown",
   "id": "682dd98d",
   "metadata": {},
   "source": [
    "The Pearson correlation coefficient is a statistical measure that quantifies the strength and direction of the linear relationship between two continuous variables. It ranges from -1 to 1, where -1 indicates a perfect negative linear relationship, 0 indicates no linear relationship, and 1 indicates a perfect positive linear relationship.\n",
    "\n",
    "To calculate the Pearson correlation coefficient between the amount of time students spend studying and their final exam scores, you would typically use a statistical software or programming language. In this case, let's assume you have the data in two arrays: `studying_time` and `exam_scores`."
   ]
  },
  {
   "cell_type": "markdown",
   "id": "81dc0d75",
   "metadata": {},
   "source": []
  },
  {
   "cell_type": "code",
   "execution_count": 6,
   "id": "66f178cd",
   "metadata": {},
   "outputs": [],
   "source": [
    "import numpy as np\n",
    "\n",
    "# Example data\n",
    "studying_time = [5, 10, 15, 20, 25 ,30]\n",
    "exam_scores = [60, 70, 85, 75, 90 , 92]\n",
    "\n",
    "# Calculate Pearson correlation coefficient\n",
    "correlation_coefficient_matrix = np.corrcoef(studying_time, exam_scores)"
   ]
  },
  {
   "cell_type": "code",
   "execution_count": 7,
   "id": "6b42cf4e",
   "metadata": {},
   "outputs": [
    {
     "name": "stdout",
     "output_type": "stream",
     "text": [
      "Pearson correlation coefficient: 0.8968028318136245\n",
      "\n",
      "Interpretation: There is a positive linear relationship between studying time and exam scores.\n"
     ]
    }
   ],
   "source": [
    "correlation_coefficient = correlation_coefficient_matrix[0,1]\n",
    "# Interpret the result\n",
    "if correlation_coefficient > 0:\n",
    "    interpretation = \"There is a positive linear relationship between studying time and exam scores.\"\n",
    "elif correlation_coefficient < 0:\n",
    "    interpretation = \"There is a negative linear relationship between studying time and exam scores.\"\n",
    "else:\n",
    "    interpretation = \"There is no linear relationship between studying time and exam scores.\"\n",
    "\n",
    "print(\"Pearson correlation coefficient:\", correlation_coefficient)\n",
    "print(\"\\nInterpretation:\", interpretation)"
   ]
  },
  {
   "cell_type": "markdown",
   "id": "f571234e",
   "metadata": {},
   "source": [
    "Interpreting the result:\n",
    "- If the Pearson correlation coefficient is close to 1, it indicates a strong positive linear relationship, implying that as the amount of time spent studying increases, the final exam scores tend to increase.\n",
    "- If the coefficient is close to -1, it indicates a strong negative linear relationship, meaning that as the studying time increases, the exam scores tend to decrease.\n",
    "- If the coefficient is close to 0, it suggests little to no linear relationship between studying time and exam scores.\n",
    "\n",
    "It's important to note that correlation does not imply causation. Even if a strong correlation is observed, it doesn't necessarily mean that changes in one variable are causing changes in the other variable; other factors may be influencing the relationship."
   ]
  },
  {
   "cell_type": "code",
   "execution_count": null,
   "id": "42024144",
   "metadata": {},
   "outputs": [],
   "source": []
  },
  {
   "cell_type": "markdown",
   "id": "2c34257b",
   "metadata": {},
   "source": [
    "<a id=\"2\"></a> \n",
    " # <p style=\"padding:10px;background-color: #00004d ;margin:10;color: white ;font-family:newtimeroman;font-size:100%;text-align:center;border-radius: 10px 10px ;overflow:hidden;font-weight:50\">Ans 2 </p> "
   ]
  },
  {
   "cell_type": "markdown",
   "id": "e32e2150",
   "metadata": {},
   "source": [
    "The Spearman's rank correlation coefficient measures the strength and direction of the monotonic relationship between two variables, which means it captures how the variables change together, even if the relationship is not strictly linear.\n"
   ]
  },
  {
   "cell_type": "code",
   "execution_count": 9,
   "id": "64e1af7d",
   "metadata": {},
   "outputs": [
    {
     "name": "stdout",
     "output_type": "stream",
     "text": [
      "Spearman's rank correlation: 0.9746794344808963\n",
      "p-value: 0.004818230468198566\n",
      "There is a positive monotonic relationship between sleep hours and job satisfaction.\n"
     ]
    }
   ],
   "source": [
    "import scipy.stats\n",
    "\n",
    "# Example data\n",
    "sleep_hours = [7, 6, 8, 5, 7]\n",
    "job_satisfaction = [8, 6, 9, 4, 7]\n",
    "\n",
    "# Calculate Spearman's rank correlation\n",
    "spearman_corr, p_value = scipy.stats.spearmanr(sleep_hours, job_satisfaction)\n",
    "\n",
    "# Print the results\n",
    "print(\"Spearman's rank correlation:\", spearman_corr)\n",
    "print(\"p-value:\", p_value)\n",
    "\n",
    "# Interpret the results\n",
    "if spearman_corr > 0:\n",
    "    print(\"There is a positive monotonic relationship between sleep hours and job satisfaction.\")\n",
    "elif spearman_corr < 0:\n",
    "    print(\"There is a negative monotonic relationship between sleep hours and job satisfaction.\")\n",
    "else:\n",
    "    print(\"There is little to no monotonic relationship between sleep hours and job satisfaction.\")\n"
   ]
  },
  {
   "cell_type": "markdown",
   "id": "4e0b84d0",
   "metadata": {},
   "source": [
    "In the provided example, we calculated the Spearman's rank correlation coefficient between the amount of sleep individuals get each night and their overall job satisfaction level. The Spearman's rank correlation coefficient obtained from the calculation indicates whether there is a monotonic relationship between these two variables.\n",
    "\n",
    "Interpreting the result:\n",
    "- If the Spearman's rank correlation coefficient is positive (closer to +1), it suggests a positive monotonic relationship. In this context, as the amount of sleep individuals get increases, their overall job satisfaction tends to increase as well.\n",
    "- If the coefficient is negative (closer to -1), it implies a negative monotonic relationship. This would mean that as the amount of sleep decreases, job satisfaction tends to decrease.\n",
    "- If the coefficient is close to 0, it indicates little to no monotonic relationship. In this case, changes in sleep hours don't consistently correspond to changes in job satisfaction.\n",
    "\n",
    "The p-value associated with the coefficient helps determine the statistical significance of the relationship. If the p-value is below a certain significance level (e.g., 0.05), we can infer that the observed relationship is unlikely to have occurred by chance. If the p-value is above the significance level, we cannot confidently conclude a significant relationship.\n",
    "\n",
    "In the context of the example, interpreting the p-value:\n",
    "- If the p-value is below 0.05, you could say that there is a statistically significant monotonic relationship between sleep hours and job satisfaction.\n",
    "- If the p-value is above 0.05, you might say that there isn't enough evidence to suggest a statistically significant monotonic relationship between the two variables.\n",
    "\n",
    "Keep in mind that correlation does not imply causation. While Spearman's rank correlation coefficient shows a relationship, it doesn't provide information about the direction of causality between sleep hours and job satisfaction. Other factors might influence both variables."
   ]
  },
  {
   "cell_type": "markdown",
   "id": "726722a1",
   "metadata": {},
   "source": [
    "<a id=\"3\"></a> \n",
    " # <p style=\"padding:10px;background-color: #00004d ;margin:10;color: white ;font-family:newtimeroman;font-size:100%;text-align:center;border-radius: 10px 10px ;overflow:hidden;font-weight:50\">Ans 3 </p> "
   ]
  },
  {
   "cell_type": "code",
   "execution_count": 13,
   "id": "4d7e6bad",
   "metadata": {},
   "outputs": [
    {
     "name": "stdout",
     "output_type": "stream",
     "text": [
      "Pearson correlation coefficient: 0.9875191338858103\n",
      "\n",
      "Spearman's rank correlation coefficient: 0.9837261376243144\n"
     ]
    }
   ],
   "source": [
    "import numpy as np\n",
    "from scipy.stats import pearsonr, spearmanr\n",
    "\n",
    "# Example data: exercise hours per week and BMI for 50 participants\n",
    "exercise_hours = [3, 4, 6, 2, 5, 4, 2, 1, 3, 4, 5, 6, 2, 3, 1, 2, 4, 5, 7, 6,\n",
    "                  4, 3, 2, 1, 5, 6, 7, 3, 4, 2, 1, 5, 6, 4, 3, 2, 1, 7, 5, 4,\n",
    "                  3, 2, 6, 7, 1, 4, 5, 3, 2, 6, 7]\n",
    "\n",
    "bmi = [22.5, 25.0, 28.2, 21.1, 24.6, 23.8, 20.5, 18.9, 22.1, 25.5, 27.8, 29.0, 21.2, 22.4, 18.5, 19.8, 24.2, 26.7, 30.1, 28.9,\n",
    "       24.9, 23.3, 21.6, 18.8, 26.3, 28.5, 29.7, 22.0, 25.1, 20.7, 18.2, 26.8, 29.2, 24.8, 22.7, 19.6, 17.8, 30.5, 26.0, 25.2,\n",
    "       23.6, 20.8, 28.3, 30.7, 18.6, 24.9, 26.6, 22.2, 20.4, 29.5, 30.8]\n",
    "\n",
    "# Calculate Pearson correlation\n",
    "pearson_corr, _ = pearsonr(exercise_hours, bmi)\n",
    "\n",
    "# Calculate Spearman's rank correlation\n",
    "spearman_corr, _ = spearmanr(exercise_hours, bmi)\n",
    "\n",
    "print(\"Pearson correlation coefficient:\", pearson_corr)\n",
    "print(\"\\nSpearman's rank correlation coefficient:\", spearman_corr)"
   ]
  },
  {
   "cell_type": "markdown",
   "id": "b7f4406e",
   "metadata": {},
   "source": [
    "\n",
    "\n",
    "Interpreting the results:\n",
    "- Pearson correlation coefficient: This value will range from -1 to 1. A positive value indicates a positive linear relationship, meaning as exercise hours increase, BMI tends to increase as well. A negative value indicates an inverse relationship. The closer the coefficient is to 1 or -1, the stronger the linear relationship. A value close to 0 suggests little to no linear relationship.\n",
    "- Spearman's rank correlation coefficient: Like the Pearson coefficient, this value ranges from -1 to 1. It measures the monotonic relationship, meaning the general trend of increasing or decreasing values, regardless of linearity. The interpretation of the value is similar to that of Pearson's coefficient.\n",
    "\n",
    "correlation does not imply causation. While these coefficients provide information about the relationship between exercise hours and BMI, other factors might also influence the relationship."
   ]
  },
  {
   "cell_type": "code",
   "execution_count": 9,
   "id": "bf1ba1a4",
   "metadata": {},
   "outputs": [
    {
     "name": "stdout",
     "output_type": "stream",
     "text": [
      "Pearson correlation coefficient: 0.9875191338858103\n",
      "Spearman's rank correlation coefficient: 0.9837261376243144\n",
      "\n",
      "Pearson correlation is stronger.\n"
     ]
    }
   ],
   "source": [
    "import numpy as np\n",
    "from scipy.stats import pearsonr, spearmanr\n",
    "\n",
    "# Example data: exercise hours per week and BMI for 50 participants\n",
    "exercise_hours = [3, 4, 6, 2, 5, 4, 2, 1, 3, 4, 5, 6, 2, 3, 1, 2, 4, 5, 7, 6,\n",
    "                  4, 3, 2, 1, 5, 6, 7, 3, 4, 2, 1, 5, 6, 4, 3, 2, 1, 7, 5, 4,\n",
    "                  3, 2, 6, 7, 1, 4, 5, 3, 2, 6, 7]\n",
    "\n",
    "bmi = [22.5, 25.0, 28.2, 21.1, 24.6, 23.8, 20.5, 18.9, 22.1, 25.5, 27.8, 29.0, 21.2, 22.4, 18.5, 19.8, 24.2, 26.7, 30.1, 28.9,\n",
    "       24.9, 23.3, 21.6, 18.8, 26.3, 28.5, 29.7, 22.0, 25.1, 20.7, 18.2, 26.8, 29.2, 24.8, 22.7, 19.6, 17.8, 30.5, 26.0, 25.2,\n",
    "       23.6, 20.8, 28.3, 30.7, 18.6, 24.9, 26.6, 22.2, 20.4, 29.5, 30.8]\n",
    "\n",
    "# Calculate Pearson correlation\n",
    "pearson_corr, _ = pearsonr(exercise_hours, bmi)\n",
    "\n",
    "# Calculate Spearman's rank correlation\n",
    "spearman_corr, _ = spearmanr(exercise_hours, bmi)\n",
    "\n",
    "print(\"Pearson correlation coefficient:\", pearson_corr)\n",
    "print(\"Spearman's rank correlation coefficient:\", spearman_corr)\n",
    "\n",
    "if abs(pearson_corr) > abs(spearman_corr):\n",
    "    print(\"\\nPearson correlation is stronger.\")\n",
    "elif abs(spearman_corr) > abs(pearson_corr):\n",
    "    print(\"Spearman's rank correlation is stronger.\")\n",
    "else:\n",
    "    print(\"Both correlations are similar.\")\n"
   ]
  },
  {
   "cell_type": "markdown",
   "id": "b8408552",
   "metadata": {},
   "source": [
    "Interpreting the comparison:\n",
    "\n",
    "- If the absolute value of the Pearson correlation coefficient is significantly higher than the absolute value of the Spearman's rank correlation coefficient, it suggests that there is a stronger linear relationship between exercise hours and BMI.\n",
    "- If the absolute value of the Spearman's rank correlation coefficient is significantly higher than the absolute value of the Pearson correlation coefficient, it indicates that the monotonic relationship (which considers the general trend) is stronger.\n",
    "- If the absolute values of both coefficients are similar, it means that the linear and monotonic relationships are both comparable in strength."
   ]
  },
  {
   "cell_type": "markdown",
   "id": "0e9a49d8",
   "metadata": {},
   "source": [
    "<a id=\"4\"></a> \n",
    " # <p style=\"padding:10px;background-color: #00004d ;margin:10;color: white ;font-family:newtimeroman;font-size:100%;text-align:center;border-radius: 10px 10px ;overflow:hidden;font-weight:50\">Ans 4 </p> "
   ]
  },
  {
   "cell_type": "markdown",
   "id": "8fe254de",
   "metadata": {},
   "source": [
    "calculation the Pearson correlation coefficient between the number of hours individuals spend watching television per day and their level of physical activity for a sample of 50 participants:"
   ]
  },
  {
   "cell_type": "code",
   "execution_count": 14,
   "id": "9f5846b1",
   "metadata": {},
   "outputs": [
    {
     "name": "stdout",
     "output_type": "stream",
     "text": [
      "Pearson correlation coefficient: -0.11904078543337626\n"
     ]
    }
   ],
   "source": [
    "import numpy as np\n",
    "from scipy.stats import pearsonr\n",
    "\n",
    "# Example data: hours of TV per day and level of physical activity for 50 participants\n",
    "tv_hours = [3, 2, 4, 5, 1, 2, 6, 3, 4, 5, 2, 1, 4, 3, 2, 6, 5, 4, 1, 2,\n",
    "            3, 5, 4, 2, 1, 6, 5, 4, 2, 3, 1, 5, 6, 4, 2, 3, 1, 5, 4, 2, 3,\n",
    "            1, 5, 4, 2, 3, 1, 6, 5, 4, 2]\n",
    "\n",
    "activity_level = [2, 3, 1, 4, 5, 3, 2, 4, 1, 5, 3, 4, 2, 3, 5, 1, 4, 2, 5, 3,\n",
    "                  2, 4, 1, 3, 5, 2, 4, 3, 5, 1, 2, 4, 3, 5, 1, 2, 4, 3, 5, 1,\n",
    "                  2, 4, 3, 5, 1, 2, 4, 3, 5, 1, 2]\n",
    "\n",
    "# Calculate Pearson correlation\n",
    "pearson_corr, _ = pearsonr(tv_hours, activity_level)\n",
    "\n",
    "print(\"Pearson correlation coefficient:\", pearson_corr)\n"
   ]
  },
  {
   "cell_type": "markdown",
   "id": "f690cc57",
   "metadata": {},
   "source": [
    "\n",
    "Interpreting the Pearson correlation coefficient:\n",
    "- The Pearson correlation coefficient ranges from -1 to 1.\n",
    "- A positive value indicates a positive correlation, where as one variable increases, the other tends to increase as well.\n",
    "- A negative value indicates a negative correlation, where as one variable increases, the other tends to decrease.\n",
    "- A value close to 0 indicates a weak or no linear correlation between the two variables.\n",
    "\n",
    " correlation does not imply causation. A high or low correlation coefficient does not necessarily mean one variable causes changes in the other; it just measures the strength and direction of the linear relationship."
   ]
  },
  {
   "cell_type": "code",
   "execution_count": null,
   "id": "a943b4ba",
   "metadata": {},
   "outputs": [],
   "source": []
  },
  {
   "cell_type": "markdown",
   "id": "060dbce6",
   "metadata": {},
   "source": [
    "<a id=\"5\"></a> \n",
    " # <p style=\"padding:10px;background-color: #00004d ;margin:10;color: white ;font-family:newtimeroman;font-size:100%;text-align:center;border-radius: 10px 10px ;overflow:hidden;font-weight:50\">Ans 5 </p> "
   ]
  },
  {
   "cell_type": "code",
   "execution_count": 18,
   "id": "31bedcbd",
   "metadata": {},
   "outputs": [
    {
     "name": "stdout",
     "output_type": "stream",
     "text": [
      "Chi-square statistic: 12.000000000000002\n",
      "p-value: 0.28505650031663116\n",
      "Degrees of freedom :  10\n",
      "\n",
      "Expected frequencies :\n",
      "\n",
      " [[0.5        0.16666667 0.33333333]\n",
      " [0.5        0.16666667 0.33333333]\n",
      " [0.5        0.16666667 0.33333333]\n",
      " [0.5        0.16666667 0.33333333]\n",
      " [0.5        0.16666667 0.33333333]\n",
      " [0.5        0.16666667 0.33333333]]\n",
      "\n",
      "There is no significant relationship between age and soft drink preference.\n"
     ]
    }
   ],
   "source": [
    "import pandas as pd\n",
    "from scipy.stats import chi2_contingency\n",
    "\n",
    "# Create the data\n",
    "data = {\n",
    "    \"Age (years)\": [25, 42, 37, 19, 31, 28],\n",
    "    \"Soft Drink Preference\": [\"Coke\", \"Pepsi\", \"Mountain Dew\", \"Coke\", \"Pepsi\", \"Coke\"]\n",
    "}\n",
    "\n",
    "# Create a DataFrame\n",
    "df = pd.DataFrame(data)\n",
    "\n",
    "# Create a contingency table\n",
    "contingency_table = pd.crosstab(df[\"Age (years)\"], df[\"Soft Drink Preference\"])\n",
    "\n",
    "# Perform the chi-square test for independence\n",
    "chi2, p, dof, expected = chi2_contingency(contingency_table)\n",
    "\n",
    "# Interpret the results\n",
    "alpha = 0.05\n",
    "print(\"Chi-square statistic:\", chi2)\n",
    "print(\"p-value:\", p)\n",
    "print(\"Degrees of freedom : \", dof)\n",
    "print(\"\\nExpected frequencies :\\n\\n\", expected)\n",
    "\n",
    "if p < alpha:\n",
    "    print(\"\\nThere is a significant relationship between age and soft drink preference.\")\n",
    "else:\n",
    "    print(\"\\nThere is no significant relationship between age and soft drink preference.\")\n"
   ]
  },
  {
   "cell_type": "markdown",
   "id": "756caa4a",
   "metadata": {},
   "source": [
    "**Interpretation:**\n",
    "\n",
    "The chi-square statistic calculated is [chi2 value], and the associated p-value is [p-value]. The degrees of freedom for the test are [degrees of freedom]. The expected frequencies for each cell in the contingency table are as follows: [expected frequencies].\n",
    "\n",
    "If the p-value is less than the chosen significance level (e.g., 0.05), it suggests that there is a significant relationship between age and soft drink preference. In other words, the choice of soft drink preference is associated with age. On the other hand, if the p-value is greater than or equal to the significance level, there is no significant evidence of a relationship between age and soft drink preference."
   ]
  },
  {
   "cell_type": "markdown",
   "id": "ad7813fe",
   "metadata": {},
   "source": [
    "<a id=\"6\"></a> \n",
    " # <p style=\"padding:10px;background-color: #00004d ;margin:10;color: white ;font-family:newtimeroman;font-size:100%;text-align:center;border-radius: 10px 10px ;overflow:hidden;font-weight:50\">Ans 6 </p> "
   ]
  },
  {
   "cell_type": "markdown",
   "id": "9db37b4f",
   "metadata": {},
   "source": [
    ". To calculate the Pearson correlation coefficient, we need the values of the number of sales calls made per day and the number of sales made per week for each of the 30 sales representatives. Since you haven't provided the actual data values, i am using choice of mine u may modify it"
   ]
  },
  {
   "cell_type": "code",
   "execution_count": 22,
   "id": "a5699710",
   "metadata": {},
   "outputs": [
    {
     "name": "stdout",
     "output_type": "stream",
     "text": [
      "Pearson correlation coefficient: 0.5792690290269539\n"
     ]
    }
   ],
   "source": [
    "import numpy as np\n",
    "from scipy.stats import pearsonr\n",
    "\n",
    "# Sample data (replace with your actual data)\n",
    "sales_calls_per_day = [10, 15, 12, 18, 20, 14, 16, 11, 17, 13, 19, 22, 21, 9, 8, 7, 23, 25, 24, 26, 28, 29, 30, 27, 31, 33, 32, 35, 34, 36]\n",
    "sales_per_week = [15, 10, 12, 23, 12, 10, 96, 1, 7, 3, 10, 22, 27, 21, 88, 77, 24, 29, 26, 78, 90, 27, 30, 83, 97, 100, 120, 110, 115, 101]\n",
    "\n",
    "# Calculate the Pearson correlation coefficient\n",
    "corr_coefficient, _ = pearsonr(sales_calls_per_day, sales_per_week)\n",
    "\n",
    "print(\"Pearson correlation coefficient:\", corr_coefficient)  "
   ]
  },
  {
   "cell_type": "markdown",
   "id": "9f0bf5a9",
   "metadata": {},
   "source": [
    "Replace the sales_calls_per_day and sales_per_week lists with your actual data. When you run the code with your data, it will calculate and print the Pearson correlation coefficient between the number of sales calls made per day and the number of sales made per week. The coefficient will be a value between -1 and 1, where closer to 1 indicates a strong positive correlation, closer to -1 indicates a strong negative correlation, and around 0 indicates a weak or no correlation."
   ]
  },
  {
   "cell_type": "markdown",
   "id": "8fd31aeb",
   "metadata": {},
   "source": [
    "<a id=\"8\"></a> \n",
    " # <p style=\"padding:10px;background-color: #01DFD7 ;margin:10;color: white ;font-family:newtimeroman;font-size:100%;text-align:center;border-radius: 10px 10px ;overflow:hidden;font-weight:50\">END</p> "
   ]
  },
  {
   "cell_type": "code",
   "execution_count": null,
   "id": "cb4226fe",
   "metadata": {},
   "outputs": [],
   "source": []
  },
  {
   "cell_type": "code",
   "execution_count": null,
   "id": "6e386e48",
   "metadata": {},
   "outputs": [],
   "source": []
  },
  {
   "cell_type": "code",
   "execution_count": null,
   "id": "14b473ba",
   "metadata": {},
   "outputs": [],
   "source": []
  },
  {
   "cell_type": "code",
   "execution_count": null,
   "id": "7b6527c3",
   "metadata": {},
   "outputs": [],
   "source": []
  },
  {
   "cell_type": "code",
   "execution_count": null,
   "id": "f676fcde",
   "metadata": {},
   "outputs": [],
   "source": []
  }
 ],
 "metadata": {
  "kernelspec": {
   "display_name": "Python 3 (ipykernel)",
   "language": "python",
   "name": "python3"
  },
  "language_info": {
   "codemirror_mode": {
    "name": "ipython",
    "version": 3
   },
   "file_extension": ".py",
   "mimetype": "text/x-python",
   "name": "python",
   "nbconvert_exporter": "python",
   "pygments_lexer": "ipython3",
   "version": "3.10.11"
  }
 },
 "nbformat": 4,
 "nbformat_minor": 5
}
