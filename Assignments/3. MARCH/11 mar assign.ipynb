{
 "cells": [
  {
   "cell_type": "markdown",
   "id": "e7e3db59",
   "metadata": {},
   "source": [
    "<a id=\"1\"></a> \n",
    " # <p style=\"padding:10px;background-color: #00004d ;margin:10;color: white ;font-family:newtimeroman;font-size:100%;text-align:center;border-radius: 10px 10px ;overflow:hidden;font-weight:50\">Ans 1 </p> "
   ]
  },
  {
   "cell_type": "markdown",
   "id": "c5c5bd82",
   "metadata": {},
   "source": [
    "The main differences between a t-test and a z-test are related to the assumptions they make and the scenarios in which they are used. Here's a concise comparison of the two:\n",
    "\n",
    "**T-Test**:\n",
    "1. **Assumptions**: The t-test assumes that the population standard deviation (\\(\\sigma\\)) is unknown and must be estimated from the sample. It also assumes that the data follows a normal distribution.\n",
    "2. **Sample Size**: T-tests are suitable for both small and larger sample sizes (\\(n\\)). They are particularly useful for small sample sizes (\\(n < 30\\)) when the population standard deviation is unknown.\n",
    "3. **Distribution**: The t-test uses the t-distribution, which has heavier tails than the standard normal (z) distribution. The t-distribution becomes more similar to the z-distribution as the sample size increases.\n",
    "4. **Applications**: T-tests are used for hypothesis testing and confidence interval estimation involving population means when the population standard deviation is unknown or when the sample size is small.\n",
    "5. **Variants**: There are different types of t-tests, including one-sample t-test, independent two-sample t-test, and paired two-sample t-test.\n",
    "\n",
    "**Z-Test**:\n",
    "1. **Assumptions**: The z-test assumes that the population standard deviation (\\(\\sigma\\)) is known or that the sample size is large (\\(n \\geq 30\\)) such that the sample mean's distribution is approximately normal.\n",
    "2. **Sample Size**: Z-tests are suitable for larger sample sizes (\\(n \\geq 30\\)) when the population standard deviation is known.\n",
    "3. **Distribution**: The z-test uses the standard normal (z) distribution, which has a known shape and characteristics.\n",
    "4. **Applications**: Z-tests are used for hypothesis testing and confidence interval estimation involving population means when the population standard deviation is known and the sample size is large.\n",
    "5. **Usage**: Z-tests are used less frequently in practice due to the requirement of knowing the population standard deviation.\n",
    "\n",
    "In summary, the choice between a t-test and a z-test depends on factors such as the sample size and whether the population standard deviation is known. If the population standard deviation is known and the sample size is large, a z-test is appropriate. If the population standard deviation is unknown or the sample size is small, a t-test is more suitable due to its ability to account for these uncertainties."
   ]
  },
  {
   "cell_type": "markdown",
   "id": "f092bc07",
   "metadata": {},
   "source": [
    "Certainly! Here are example scenarios where you would use each type of test:\n",
    "\n",
    "**Example Scenario for T-Test**:\n",
    "Suppose you work at a pharmaceutical company and you're testing a new drug's effectiveness in reducing cholesterol levels. You randomly select 20 individuals with high cholesterol levels and administer the new drug for a certain period. After the treatment, you measure their cholesterol levels and want to determine if there's a significant reduction. In this case:\n",
    "\n",
    "- **Assumption**: The population standard deviation of cholesterol levels is unknown, and the sample size is relatively small (\\(n < 30\\)).\n",
    "- **Test Type**: You would use a one-sample t-test to compare the sample mean cholesterol level before and after treatment against a hypothesized value (e.g., no change or a specific target reduction).\n",
    "- **Application**: The t-test would help you assess whether the observed reduction in cholesterol levels is statistically significant and not due to random chance.\n",
    "\n",
    "**Example Scenario for Z-Test**:\n",
    "Imagine you're working at a manufacturing company producing light bulbs. You're interested in comparing the average lifespan of your bulbs to an industry-standard average lifespan of 1000 hours. You have a large dataset containing information about the lifespans of 500 randomly selected bulbs. In this case:\n",
    "\n",
    "- **Assumption**: The population standard deviation of bulb lifespans is known, and the sample size is relatively large (\\(n \\geq 30\\)).\n",
    "- **Test Type**: You would use a one-sample z-test to compare the sample mean lifespan of your bulbs against the known industry-standard mean.\n",
    "- **Application**: The z-test would help you determine whether your light bulbs' average lifespan is significantly different from the industry standard.\n",
    "\n",
    "Remember that the choice between a t-test and a z-test depends on factors like sample size and whether the population standard deviation is known. If the sample size is small or the population standard deviation is unknown, a t-test is more appropriate. If the sample size is large and the population standard deviation is known, a z-test can be used."
   ]
  },
  {
   "cell_type": "markdown",
   "id": "239c1fcb",
   "metadata": {},
   "source": [
    "<a id=\"2\"></a> \n",
    " # <p style=\"padding:10px;background-color: #00004d ;margin:10;color: white ;font-family:newtimeroman;font-size:100%;text-align:center;border-radius: 10px 10px ;overflow:hidden;font-weight:50\">Ans 2 </p> "
   ]
  },
  {
   "cell_type": "code",
   "execution_count": null,
   "id": "76c8b115",
   "metadata": {},
   "outputs": [],
   "source": []
  },
  {
   "cell_type": "code",
   "execution_count": null,
   "id": "1bfd663d",
   "metadata": {},
   "outputs": [],
   "source": []
  },
  {
   "cell_type": "markdown",
   "id": "815e34d1",
   "metadata": {},
   "source": []
  },
  {
   "cell_type": "markdown",
   "id": "49b97607",
   "metadata": {},
   "source": [
    "One-tailed and two-tailed tests are concepts commonly used in hypothesis testing to determine whether there's enough evidence to reject the null hypothesis in favor of the alternative hypothesis. They differ in how they assess the significance of the observed data relative to the hypotheses.\n",
    "\n",
    "**One-Tailed Test**:\n",
    "- In a one-tailed test, the alternative hypothesis specifies a direction of the effect or difference. It focuses on whether the sample statistic significantly deviates in only one direction from the null hypothesis.\n",
    "- There are two types of one-tailed tests: left-tailed and right-tailed.\n",
    "  - **Left-Tailed Test**: The alternative hypothesis is focused on the possibility of the sample statistic being significantly smaller than the value stated in the null hypothesis.\n",
    "  - **Right-Tailed Test**: The alternative hypothesis is focused on the possibility of the sample statistic being significantly greater than the value stated in the null hypothesis.\n",
    "- A one-tailed test is often used when there is prior knowledge or a strong expectation about the direction of the effect.\n",
    "\n",
    "**Two-Tailed Test**:\n",
    "- In a two-tailed test, the alternative hypothesis does not specify a direction of the effect; it only indicates that there's a significant difference between the sample statistic and the value stated in the null hypothesis.\n",
    "- A two-tailed test is used when you want to assess whether the sample statistic significantly deviates from the null hypothesis value in either direction (i.e., it could be larger or smaller).\n",
    "- The two-tailed test is more conservative because it accounts for the possibility of the effect being in either direction.\n",
    "\n",
    "**Example Scenarios**:\n",
    "1. **One-Tailed Test**: Suppose a new drug is claimed to improve exam scores, and the null hypothesis states that the drug has no effect (\\(H_0:μ = 0\\)). If you believe the drug will improve scores, you might use a right-tailed test (\\(H_a: \\mu > 0\\)) to determine if there's enough evidence to support the claim.\n",
    "2. **Two-Tailed Test**: If you're testing a new manufacturing process that is claimed to produce equally accurate measurements as the old process, the null hypothesis states that the new process has equal accuracy (\\(H_0:μ{new} = μ{old}\\)). To test this, you could use a two-tailed test (\\(H_a: μ{new} != μ {old}\\)) to assess if there's a significant difference in either direction.\n",
    "\n",
    "In summary, one-tailed tests focus on a specific direction of the effect, while two-tailed tests consider deviations in either direction. The choice between the two depends on your hypotheses and the nature of the situation being tested."
   ]
  },
  {
   "cell_type": "code",
   "execution_count": null,
   "id": "2d1cb8e4",
   "metadata": {},
   "outputs": [],
   "source": []
  },
  {
   "cell_type": "markdown",
   "id": "7501e512",
   "metadata": {},
   "source": [
    "<a id=\"3\"></a> \n",
    " # <p style=\"padding:10px;background-color: #00004d ;margin:10;color: white ;font-family:newtimeroman;font-size:100%;text-align:center;border-radius: 10px 10px ;overflow:hidden;font-weight:50\">Ans 3 </p> "
   ]
  },
  {
   "cell_type": "markdown",
   "id": "749811b5",
   "metadata": {},
   "source": [
    "**Type 1 Error (False Positive)**:\n",
    "A Type 1 error occurs when you incorrectly reject the null hypothesis when it's actually true. In other words, you conclude that there is a significant effect or difference when there isn't one in reality. The probability of committing a Type 1 error is denoted by the symbol \\(\\alpha\\) (alpha) and is often referred to as the significance level.\n",
    "\n",
    "**Example Scenario for Type 1 Error**:\n",
    "Imagine a medical testing scenario where the null hypothesis (\\(H_0\\)) states that a patient is healthy, and the alternative hypothesis (\\(H_a\\)) states that the patient has a disease. If a patient is mistakenly diagnosed as having the disease (rejecting \\(H_0\\)) when they are actually healthy, it's a Type 1 error. This could lead to unnecessary treatments, stress, and expenses for the patient.\n",
    "\n",
    "**Type 2 Error (False Negative)**:\n",
    "A Type 2 error occurs when you fail to reject the null hypothesis when it's actually false. In other words, you fail to detect a significant effect or difference that does exist. The probability of committing a Type 2 error is denoted by the symbol \\(\\beta\\) (beta).\n",
    "\n",
    "**Example Scenario for Type 2 Error**:\n",
    "Consider a quality control scenario in a factory where the null hypothesis (\\(H_0\\)) states that the production process is operating correctly, and the alternative hypothesis (\\(H_a\\)) states that the process is producing defective items. If the quality control test fails to identify a batch of defective items (failing to reject \\(H_0\\)) when they are actually present, it's a Type 2 error. This could lead to faulty products reaching consumers and damaging the company's reputation.\n",
    "\n",
    "**Balancing Type 1 and Type 2 Errors**:\n",
    "In hypothesis testing, there's often a trade-off between Type 1 and Type 2 errors. Lowering the significance level (\\(\\alpha\\)) to reduce the risk of Type 1 errors can increase the risk of Type 2 errors. Conversely, increasing the power of the test (which reduces the risk of Type 2 errors) might increase the risk of Type 1 errors. The optimal balance depends on the specific context and consequences of each type of error.\n",
    "\n",
    "In summary, Type 1 error involves incorrectly rejecting a true null hypothesis, and Type 2 error involves failing to reject a false null hypothesis. The goal is to strike a balance between the two types of errors while making decisions based on hypothesis testing."
   ]
  },
  {
   "cell_type": "code",
   "execution_count": null,
   "id": "332660cd",
   "metadata": {},
   "outputs": [],
   "source": []
  },
  {
   "cell_type": "markdown",
   "id": "ff7d580a",
   "metadata": {},
   "source": [
    "<a id=\"4\"></a> \n",
    " # <p style=\"padding:10px;background-color: #00004d ;margin:10;color: white ;font-family:newtimeroman;font-size:100%;text-align:center;border-radius: 10px 10px ;overflow:hidden;font-weight:50\">Ans 4 </p> "
   ]
  },
  {
   "cell_type": "markdown",
   "id": "349329f9",
   "metadata": {},
   "source": [
    "Bayes's Theorem is a fundamental concept in probability theory and statistics that allows us to update our beliefs or probability estimates based on new evidence. It helps us calculate the conditional probability of an event A given that event B has occurred, using the probabilities of event B given event A and the prior probability of event A.\n",
    "\n",
    "The formula for Bayes's Theorem is as follows:\n",
    "\n",
    "\\[ P(A|B) = P(B|A) * P(A) / {P(B)} \\]\n",
    "\n",
    "Where:\n",
    "- \\( P(A|B) \\) is the conditional probability of event A given event B.\n",
    "- \\( P(B|A) \\) is the conditional probability of event B given event A.\n",
    "- \\( P(A) \\) is the prior probability of event A.\n",
    "- \\( P(B) \\) is the probability of event B.\n",
    "\n",
    "**Example Scenario**:\n",
    "Let's consider a medical example where Bayes's Theorem can be applied: disease diagnosis. Imagine a certain disease is relatively rare, occurring in about 1% of the population. A medical test for this disease has an accuracy rate of 95%, meaning it correctly identifies the presence of the disease 95% of the time.\n",
    "\n",
    "- **Event A**: Having the disease.\n",
    "- **Event B**: Testing positive for the disease.\n",
    "\n",
    "Given the probabilities:\n",
    "- \\( P(A) = 0.01 \\) (the prior probability of having the disease).\n",
    "- \\( P(B|A) = 0.95 \\) (the probability of testing positive if you have the disease).\n",
    "- \\( P(B|\\neg A) = 0.05 \\) (the probability of testing positive if you don't have the disease, which is 1 - accuracy).\n",
    "\n",
    "We can use Bayes's Theorem to find the probability of having the disease given that the test is positive (\\( P(A|B) \\)).\n",
    "\n",
    "Using the formula:\n",
    "\n",
    "\\[ P(A|B) = P(B|A) * P(A) / {P(B)} \\]\n",
    "\n",
    "Calculate the denominator \\( P(B) \\):\n",
    "\n",
    "\\[ P(B) = P(B|A) * P(A) + P(B| ~ A) * P( ~A) \\]\n",
    "\n",
    "Where \\( P(~ A) \\) is the probability of not having the disease, which is 1 - \\( P(A) \\).\n",
    "\n",
    "Substitute the values and solve for \\( P(B) \\):\n",
    "\n",
    "\\[ P(B) = (0.95 * 0.01) + (0.05 * 0.99) \\]\n",
    "\\[ P(B) = 0.0595 \\]\n",
    "\n",
    "Now, calculate \\( P(A|B) \\):\n",
    "\n",
    "\\[ P(A|B) = P(B|A) * P(A) / {P(B)} \\] \n",
    "\n",
    "\\[ P(A|B) = 0.95 * 0.01 / 0.0595  \\]\n",
    "\n",
    "\\[ P(A|B) = 0.159 \\]\n",
    "\n",
    "This means that even if you test positive for the disease, the probability of actually having the disease is only about 15.9%. Despite the high test accuracy, the low disease prevalence affects the final probability. Bayes's Theorem helps us account for these complexities when updating our beliefs based on new evidence."
   ]
  },
  {
   "cell_type": "code",
   "execution_count": null,
   "id": "9cb2aba7",
   "metadata": {},
   "outputs": [],
   "source": []
  },
  {
   "cell_type": "markdown",
   "id": "2515e20a",
   "metadata": {},
   "source": [
    "<a id=\"5\"></a> \n",
    " # <p style=\"padding:10px;background-color: #00004d ;margin:10;color: white ;font-family:newtimeroman;font-size:100%;text-align:center;border-radius: 10px 10px ;overflow:hidden;font-weight:50\">Ans 5 </p> "
   ]
  },
  {
   "cell_type": "code",
   "execution_count": null,
   "id": "d15bc874",
   "metadata": {},
   "outputs": [],
   "source": []
  },
  {
   "cell_type": "code",
   "execution_count": null,
   "id": "f18c0778",
   "metadata": {},
   "outputs": [],
   "source": []
  },
  {
   "cell_type": "markdown",
   "id": "2d04dece",
   "metadata": {},
   "source": [
    "<a id=\"6\"></a> \n",
    " # <p style=\"padding:10px;background-color: #00004d ;margin:10;color: white ;font-family:newtimeroman;font-size:100%;text-align:center;border-radius: 10px 10px ;overflow:hidden;font-weight:50\">Ans 6 </p> "
   ]
  },
  {
   "cell_type": "code",
   "execution_count": null,
   "id": "72be8af7",
   "metadata": {},
   "outputs": [],
   "source": []
  },
  {
   "cell_type": "code",
   "execution_count": null,
   "id": "ec17e420",
   "metadata": {},
   "outputs": [],
   "source": []
  },
  {
   "cell_type": "markdown",
   "id": "7f49a43b",
   "metadata": {},
   "source": [
    "<a id=\"7\"></a> \n",
    " # <p style=\"padding:10px;background-color: #00004d ;margin:10;color: white ;font-family:newtimeroman;font-size:100%;text-align:center;border-radius: 10px 10px ;overflow:hidden;font-weight:50\">Ans 7 </p> "
   ]
  },
  {
   "cell_type": "code",
   "execution_count": null,
   "id": "e07573eb",
   "metadata": {},
   "outputs": [],
   "source": []
  },
  {
   "cell_type": "code",
   "execution_count": null,
   "id": "fecebffe",
   "metadata": {},
   "outputs": [],
   "source": []
  },
  {
   "cell_type": "markdown",
   "id": "c6b45c8c",
   "metadata": {},
   "source": [
    "<a id=\"8\"></a> \n",
    " # <p style=\"padding:10px;background-color: #00004d ;margin:10;color: white ;font-family:newtimeroman;font-size:100%;text-align:center;border-radius: 10px 10px ;overflow:hidden;font-weight:50\">Ans 8 </p> "
   ]
  },
  {
   "cell_type": "code",
   "execution_count": null,
   "id": "b6b6006d",
   "metadata": {},
   "outputs": [],
   "source": []
  },
  {
   "cell_type": "code",
   "execution_count": null,
   "id": "2c7635c4",
   "metadata": {},
   "outputs": [],
   "source": []
  },
  {
   "cell_type": "markdown",
   "id": "bf8155a7",
   "metadata": {},
   "source": [
    "<a id=\"9\"></a> \n",
    " # <p style=\"padding:10px;background-color: #00004d ;margin:10;color: white ;font-family:newtimeroman;font-size:100%;text-align:center;border-radius: 10px 10px ;overflow:hidden;font-weight:50\">Ans 9 </p> "
   ]
  },
  {
   "cell_type": "code",
   "execution_count": null,
   "id": "c08d14a2",
   "metadata": {},
   "outputs": [],
   "source": []
  },
  {
   "cell_type": "code",
   "execution_count": null,
   "id": "0880b5b6",
   "metadata": {},
   "outputs": [],
   "source": []
  },
  {
   "cell_type": "markdown",
   "id": "0fd7351c",
   "metadata": {},
   "source": [
    "<a id=\"10\"></a> \n",
    " # <p style=\"padding:10px;background-color: #00004d ;margin:10;color: white ;font-family:newtimeroman;font-size:100%;text-align:center;border-radius: 10px 10px ;overflow:hidden;font-weight:50\">Ans 10 </p> "
   ]
  },
  {
   "cell_type": "code",
   "execution_count": null,
   "id": "1ee43226",
   "metadata": {},
   "outputs": [],
   "source": []
  },
  {
   "cell_type": "code",
   "execution_count": null,
   "id": "0d80d352",
   "metadata": {},
   "outputs": [],
   "source": []
  },
  {
   "cell_type": "markdown",
   "id": "d24044f9",
   "metadata": {},
   "source": [
    "<a id=\"11\"></a> \n",
    " # <p style=\"padding:10px;background-color: #00004d ;margin:10;color: white ;font-family:newtimeroman;font-size:100%;text-align:center;border-radius: 10px 10px ;overflow:hidden;font-weight:50\">Ans 11 </p> "
   ]
  },
  {
   "cell_type": "code",
   "execution_count": null,
   "id": "ffdd8563",
   "metadata": {},
   "outputs": [],
   "source": []
  },
  {
   "cell_type": "code",
   "execution_count": null,
   "id": "8e8705ba",
   "metadata": {},
   "outputs": [],
   "source": []
  },
  {
   "cell_type": "markdown",
   "id": "8fcd854a",
   "metadata": {},
   "source": [
    "<a id=\"12\"></a> \n",
    " # <p style=\"padding:10px;background-color: #00004d ;margin:10;color: white ;font-family:newtimeroman;font-size:100%;text-align:center;border-radius: 10px 10px ;overflow:hidden;font-weight:50\">Ans 12 </p> "
   ]
  },
  {
   "cell_type": "code",
   "execution_count": null,
   "id": "1d24fde8",
   "metadata": {},
   "outputs": [],
   "source": []
  },
  {
   "cell_type": "code",
   "execution_count": null,
   "id": "848fce96",
   "metadata": {},
   "outputs": [],
   "source": []
  },
  {
   "cell_type": "markdown",
   "id": "5eaff4a1",
   "metadata": {},
   "source": [
    "<a id=\"13\"></a> \n",
    " # <p style=\"padding:10px;background-color: #00004d ;margin:10;color: white ;font-family:newtimeroman;font-size:100%;text-align:center;border-radius: 10px 10px ;overflow:hidden;font-weight:50\">Ans 13 </p> "
   ]
  },
  {
   "cell_type": "code",
   "execution_count": null,
   "id": "2d983c5d",
   "metadata": {},
   "outputs": [],
   "source": []
  },
  {
   "cell_type": "code",
   "execution_count": null,
   "id": "adbd2a42",
   "metadata": {},
   "outputs": [],
   "source": []
  },
  {
   "cell_type": "markdown",
   "id": "7b29e292",
   "metadata": {},
   "source": [
    "<a id=\"14\"></a> \n",
    " # <p style=\"padding:10px;background-color: #00004d ;margin:10;color: white ;font-family:newtimeroman;font-size:100%;text-align:center;border-radius: 10px 10px ;overflow:hidden;font-weight:50\">Ans 14 </p> "
   ]
  },
  {
   "cell_type": "code",
   "execution_count": null,
   "id": "7ef37ef0",
   "metadata": {},
   "outputs": [],
   "source": []
  },
  {
   "cell_type": "code",
   "execution_count": null,
   "id": "e55ec9c4",
   "metadata": {},
   "outputs": [],
   "source": []
  },
  {
   "cell_type": "markdown",
   "id": "e95b3a5e",
   "metadata": {},
   "source": [
    "<a id=\"16\"></a> \n",
    " # <p style=\"padding:10px;background-color: #01DFD7 ;margin:10;color: white ;font-family:newtimeroman;font-size:100%;text-align:center;border-radius: 10px 10px ;overflow:hidden;font-weight:50\">END</p> "
   ]
  },
  {
   "cell_type": "code",
   "execution_count": null,
   "id": "354fb901",
   "metadata": {},
   "outputs": [],
   "source": []
  },
  {
   "cell_type": "code",
   "execution_count": null,
   "id": "c2139109",
   "metadata": {},
   "outputs": [],
   "source": []
  },
  {
   "cell_type": "code",
   "execution_count": null,
   "id": "c3a44c79",
   "metadata": {},
   "outputs": [],
   "source": []
  },
  {
   "cell_type": "code",
   "execution_count": null,
   "id": "fc5ae5cf",
   "metadata": {},
   "outputs": [],
   "source": []
  },
  {
   "cell_type": "code",
   "execution_count": null,
   "id": "97087fea",
   "metadata": {},
   "outputs": [],
   "source": []
  }
 ],
 "metadata": {
  "kernelspec": {
   "display_name": "Python 3 (ipykernel)",
   "language": "python",
   "name": "python3"
  },
  "language_info": {
   "codemirror_mode": {
    "name": "ipython",
    "version": 3
   },
   "file_extension": ".py",
   "mimetype": "text/x-python",
   "name": "python",
   "nbconvert_exporter": "python",
   "pygments_lexer": "ipython3",
   "version": "3.10.11"
  }
 },
 "nbformat": 4,
 "nbformat_minor": 5
}
