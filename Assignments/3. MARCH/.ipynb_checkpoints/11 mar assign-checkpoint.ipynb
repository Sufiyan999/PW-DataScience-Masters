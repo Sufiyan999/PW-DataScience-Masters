{
 "cells": [
  {
   "cell_type": "markdown",
   "id": "e7e3db59",
   "metadata": {},
   "source": [
    "<a id=\"1\"></a> \n",
    " # <p style=\"padding:10px;background-color: #00004d ;margin:10;color: white ;font-family:newtimeroman;font-size:100%;text-align:center;border-radius: 10px 10px ;overflow:hidden;font-weight:50\">Ans 1 </p> "
   ]
  },
  {
   "cell_type": "markdown",
   "id": "c89dad5c",
   "metadata": {},
   "source": [
    "The main differences between a t-test and a z-test are related to the assumptions they make and the scenarios in which they are used. Here's a concise comparison of the two:\n",
    "\n",
    "**T-Test**:\n",
    "1. **Assumptions**: The t-test assumes that the population standard deviation (\\(\\sigma\\)) is unknown and must be estimated from the sample. It also assumes that the data follows a normal distribution.\n",
    "2. **Sample Size**: T-tests are suitable for both small and larger sample sizes (\\(n\\)). They are particularly useful for small sample sizes (\\(n < 30\\)) when the population standard deviation is unknown.\n",
    "3. **Distribution**: The t-test uses the t-distribution, which has heavier tails than the standard normal (z) distribution. The t-distribution becomes more similar to the z-distribution as the sample size increases.\n",
    "4. **Applications**: T-tests are used for hypothesis testing and confidence interval estimation involving population means when the population standard deviation is unknown or when the sample size is small.\n",
    "5. **Variants**: There are different types of t-tests, including one-sample t-test, independent two-sample t-test, and paired two-sample t-test.\n",
    "\n",
    "**Z-Test**:\n",
    "1. **Assumptions**: The z-test assumes that the population standard deviation (\\(\\sigma\\)) is known or that the sample size is large (\\(n \\geq 30\\)) such that the sample mean's distribution is approximately normal.\n",
    "2. **Sample Size**: Z-tests are suitable for larger sample sizes (\\(n \\geq 30\\)) when the population standard deviation is known.\n",
    "3. **Distribution**: The z-test uses the standard normal (z) distribution, which has a known shape and characteristics.\n",
    "4. **Applications**: Z-tests are used for hypothesis testing and confidence interval estimation involving population means when the population standard deviation is known and the sample size is large.\n",
    "5. **Usage**: Z-tests are used less frequently in practice due to the requirement of knowing the population standard deviation.\n",
    "\n",
    "In summary, the choice between a t-test and a z-test depends on factors such as the sample size and whether the population standard deviation is known. If the population standard deviation is known and the sample size is large, a z-test is appropriate. If the population standard deviation is unknown or the sample size is small, a t-test is more suitable due to its ability to account for these uncertainties."
   ]
  },
  {
   "cell_type": "markdown",
   "id": "16c270c1",
   "metadata": {},
   "source": [
    "Certainly! Here are example scenarios where you would use each type of test:\n",
    "\n",
    "**Example Scenario for T-Test**:\n",
    "Suppose you work at a pharmaceutical company and you're testing a new drug's effectiveness in reducing cholesterol levels. You randomly select 20 individuals with high cholesterol levels and administer the new drug for a certain period. After the treatment, you measure their cholesterol levels and want to determine if there's a significant reduction. In this case:\n",
    "\n",
    "- **Assumption**: The population standard deviation of cholesterol levels is unknown, and the sample size is relatively small (\\(n < 30\\)).\n",
    "- **Test Type**: You would use a one-sample t-test to compare the sample mean cholesterol level before and after treatment against a hypothesized value (e.g., no change or a specific target reduction).\n",
    "- **Application**: The t-test would help you assess whether the observed reduction in cholesterol levels is statistically significant and not due to random chance.\n",
    "\n",
    "**Example Scenario for Z-Test**:\n",
    "Imagine you're working at a manufacturing company producing light bulbs. You're interested in comparing the average lifespan of your bulbs to an industry-standard average lifespan of 1000 hours. You have a large dataset containing information about the lifespans of 500 randomly selected bulbs. In this case:\n",
    "\n",
    "- **Assumption**: The population standard deviation of bulb lifespans is known, and the sample size is relatively large (\\(n \\geq 30\\)).\n",
    "- **Test Type**: You would use a one-sample z-test to compare the sample mean lifespan of your bulbs against the known industry-standard mean.\n",
    "- **Application**: The z-test would help you determine whether your light bulbs' average lifespan is significantly different from the industry standard.\n",
    "\n",
    "Remember that the choice between a t-test and a z-test depends on factors like sample size and whether the population standard deviation is known. If the sample size is small or the population standard deviation is unknown, a t-test is more appropriate. If the sample size is large and the population standard deviation is known, a z-test can be used."
   ]
  },
  {
   "cell_type": "markdown",
   "id": "239c1fcb",
   "metadata": {},
   "source": [
    "<a id=\"2\"></a> \n",
    " # <p style=\"padding:10px;background-color: #00004d ;margin:10;color: white ;font-family:newtimeroman;font-size:100%;text-align:center;border-radius: 10px 10px ;overflow:hidden;font-weight:50\">Ans 2 </p> "
   ]
  },
  {
   "cell_type": "markdown",
   "id": "73d99f79",
   "metadata": {},
   "source": [
    "<!--  -->"
   ]
  },
  {
   "cell_type": "markdown",
   "id": "cf467735",
   "metadata": {},
   "source": [
    "<!--  -->"
   ]
  },
  {
   "cell_type": "markdown",
   "id": "815e34d1",
   "metadata": {},
   "source": [
    "<!--  -->"
   ]
  },
  {
   "cell_type": "markdown",
   "id": "1557c09d",
   "metadata": {},
   "source": [
    "One-tailed and two-tailed tests are concepts commonly used in hypothesis testing to determine whether there's enough evidence to reject the null hypothesis in favor of the alternative hypothesis. They differ in how they assess the significance of the observed data relative to the hypotheses.\n",
    "\n",
    "**One-Tailed Test**:\n",
    "- In a one-tailed test, the alternative hypothesis specifies a direction of the effect or difference. It focuses on whether the sample statistic significantly deviates in only one direction from the null hypothesis.\n",
    "- There are two types of one-tailed tests: left-tailed and right-tailed.\n",
    "  - **Left-Tailed Test**: The alternative hypothesis is focused on the possibility of the sample statistic being significantly smaller than the value stated in the null hypothesis.\n",
    "  - **Right-Tailed Test**: The alternative hypothesis is focused on the possibility of the sample statistic being significantly greater than the value stated in the null hypothesis.\n",
    "- A one-tailed test is often used when there is prior knowledge or a strong expectation about the direction of the effect.\n",
    "\n",
    "**Two-Tailed Test**:\n",
    "- In a two-tailed test, the alternative hypothesis does not specify a direction of the effect; it only indicates that there's a significant difference between the sample statistic and the value stated in the null hypothesis.\n",
    "- A two-tailed test is used when you want to assess whether the sample statistic significantly deviates from the null hypothesis value in either direction (i.e., it could be larger or smaller).\n",
    "- The two-tailed test is more conservative because it accounts for the possibility of the effect being in either direction.\n",
    "\n",
    "**Example Scenarios**:\n",
    "1. **One-Tailed Test**: Suppose a new drug is claimed to improve exam scores, and the null hypothesis states that the drug has no effect (\\(H_0:μ = 0\\)). If you believe the drug will improve scores, you might use a right-tailed test (\\(H_a: \\mu > 0\\)) to determine if there's enough evidence to support the claim.\n",
    "2. **Two-Tailed Test**: If you're testing a new manufacturing process that is claimed to produce equally accurate measurements as the old process, the null hypothesis states that the new process has equal accuracy (\\(H_0:μ{new} = μ{old}\\)). To test this, you could use a two-tailed test (\\(H_a: μ{new} != μ {old}\\)) to assess if there's a significant difference in either direction.\n",
    "\n",
    "In summary, one-tailed tests focus on a specific direction of the effect, while two-tailed tests consider deviations in either direction. The choice between the two depends on your hypotheses and the nature of the situation being tested."
   ]
  },
  {
   "cell_type": "code",
   "execution_count": null,
   "id": "2d1cb8e4",
   "metadata": {},
   "outputs": [],
   "source": []
  },
  {
   "cell_type": "markdown",
   "id": "4a668b50",
   "metadata": {},
   "source": [
    "<a id=\"3\"></a> \n",
    " # <p style=\"padding:10px;background-color: #00004d ;margin:10;color: white ;font-family:newtimeroman;font-size:100%;text-align:center;border-radius: 10px 10px ;overflow:hidden;font-weight:50\">Ans 3 </p> "
   ]
  },
  {
   "cell_type": "markdown",
   "id": "33829e8a",
   "metadata": {},
   "source": [
    "**Type 1 Error (False Positive)**:\n",
    "A Type 1 error occurs when you incorrectly reject the null hypothesis when it's actually true. In other words, you conclude that there is a significant effect or difference when there isn't one in reality. The probability of committing a Type 1 error is denoted by the symbol \\(\\alpha\\) (alpha) and is often referred to as the significance level.\n",
    "\n",
    "**Example Scenario for Type 1 Error**:\n",
    "Imagine a medical testing scenario where the null hypothesis (\\(H_0\\)) states that a patient is healthy, and the alternative hypothesis (\\(H_a\\)) states that the patient has a disease. If a patient is mistakenly diagnosed as having the disease (rejecting \\(H_0\\)) when they are actually healthy, it's a Type 1 error. This could lead to unnecessary treatments, stress, and expenses for the patient.\n",
    "\n",
    "**Type 2 Error (False Negative)**:\n",
    "A Type 2 error occurs when you fail to reject the null hypothesis when it's actually false. In other words, you fail to detect a significant effect or difference that does exist. The probability of committing a Type 2 error is denoted by the symbol \\(\\beta\\) (beta).\n",
    "\n",
    "**Example Scenario for Type 2 Error**:\n",
    "Consider a quality control scenario in a factory where the null hypothesis (\\(H_0\\)) states that the production process is operating correctly, and the alternative hypothesis (\\(H_a\\)) states that the process is producing defective items. If the quality control test fails to identify a batch of defective items (failing to reject \\(H_0\\)) when they are actually present, it's a Type 2 error. This could lead to faulty products reaching consumers and damaging the company's reputation.\n",
    "\n",
    "**Balancing Type 1 and Type 2 Errors**:\n",
    "In hypothesis testing, there's often a trade-off between Type 1 and Type 2 errors. Lowering the significance level (\\(\\alpha\\)) to reduce the risk of Type 1 errors can increase the risk of Type 2 errors. Conversely, increasing the power of the test (which reduces the risk of Type 2 errors) might increase the risk of Type 1 errors. The optimal balance depends on the specific context and consequences of each type of error.\n",
    "\n",
    "In summary, Type 1 error involves incorrectly rejecting a true null hypothesis, and Type 2 error involves failing to reject a false null hypothesis. The goal is to strike a balance between the two types of errors while making decisions based on hypothesis testing."
   ]
  },
  {
   "cell_type": "code",
   "execution_count": null,
   "id": "51045218",
   "metadata": {},
   "outputs": [],
   "source": []
  },
  {
   "cell_type": "markdown",
   "id": "ff7d580a",
   "metadata": {},
   "source": [
    "<a id=\"4\"></a> \n",
    " # <p style=\"padding:10px;background-color: #00004d ;margin:10;color: white ;font-family:newtimeroman;font-size:100%;text-align:center;border-radius: 10px 10px ;overflow:hidden;font-weight:50\">Ans 4 </p> "
   ]
  },
  {
   "cell_type": "markdown",
   "id": "c04cc8db",
   "metadata": {},
   "source": [
    "Bayes's Theorem is a fundamental concept in probability theory and statistics that allows us to update our beliefs or probability estimates based on new evidence. It helps us calculate the conditional probability of an event A given that event B has occurred, using the probabilities of event B given event A and the prior probability of event A.\n",
    "\n",
    "The formula for Bayes's Theorem is as follows:\n",
    "\n",
    "\\[ P(A|B) = P(B|A) * P(A) / {P(B)} \\]\n",
    "\n",
    "Where:\n",
    "- \\( P(A|B) \\) is the conditional probability of event A given event B.\n",
    "- \\( P(B|A) \\) is the conditional probability of event B given event A.\n",
    "- \\( P(A) \\) is the prior probability of event A.\n",
    "- \\( P(B) \\) is the probability of event B.\n",
    "\n",
    "**Example Scenario**:\n",
    "Let's consider a medical example where Bayes's Theorem can be applied: disease diagnosis. Imagine a certain disease is relatively rare, occurring in about 1% of the population. A medical test for this disease has an accuracy rate of 95%, meaning it correctly identifies the presence of the disease 95% of the time.\n",
    "\n",
    "- **Event A**: Having the disease.\n",
    "- **Event B**: Testing positive for the disease.\n",
    "\n",
    "Given the probabilities:\n",
    "- \\( P(A) = 0.01 \\) (the prior probability of having the disease).\n",
    "- \\( P(B|A) = 0.95 \\) (the probability of testing positive if you have the disease).\n",
    "- \\( P(B|\\neg A) = 0.05 \\) (the probability of testing positive if you don't have the disease, which is 1 - accuracy).\n",
    "\n",
    "We can use Bayes's Theorem to find the probability of having the disease given that the test is positive (\\( P(A|B) \\)).\n",
    "\n",
    "Using the formula:\n",
    "\n",
    "\\[ P(A|B) = P(B|A) * P(A) / {P(B)} \\]\n",
    "\n",
    "Calculate the denominator \\( P(B) \\):\n",
    "\n",
    "\\[ P(B) = P(B|A) * P(A) + P(B| ~ A) * P( ~A) \\]\n",
    "\n",
    "Where \\( P(~ A) \\) is the probability of not having the disease, which is 1 - \\( P(A) \\).\n",
    "\n",
    "Substitute the values and solve for \\( P(B) \\):\n",
    "\n",
    "\\[ P(B) = (0.95 * 0.01) + (0.05 * 0.99) \\]\n",
    "\\[ P(B) = 0.0595 \\]\n",
    "\n",
    "Now, calculate \\( P(A|B) \\):\n",
    "\n",
    "\\[ P(A|B) = P(B|A) * P(A) / {P(B)} \\] \n",
    "\n",
    "\\[ P(A|B) = 0.95 * 0.01 / 0.0595  \\]\n",
    "\n",
    "\\[ P(A|B) = 0.159 \\]\n",
    "\n",
    "This means that even if you test positive for the disease, the probability of actually having the disease is only about 15.9%. Despite the high test accuracy, the low disease prevalence affects the final probability. Bayes's Theorem helps us account for these complexities when updating our beliefs based on new evidence."
   ]
  },
  {
   "cell_type": "code",
   "execution_count": null,
   "id": "9cb2aba7",
   "metadata": {},
   "outputs": [],
   "source": []
  },
  {
   "cell_type": "markdown",
   "id": "2515e20a",
   "metadata": {},
   "source": [
    "<a id=\"5\"></a> \n",
    " # <p style=\"padding:10px;background-color: #00004d ;margin:10;color: white ;font-family:newtimeroman;font-size:100%;text-align:center;border-radius: 10px 10px ;overflow:hidden;font-weight:50\">Ans 5 </p> "
   ]
  },
  {
   "cell_type": "markdown",
   "id": "4684f483",
   "metadata": {},
   "source": [
    "A confidence interval is a statistical range that provides an estimate of the possible values of a population parameter, such as the population mean or population proportion. It is used to quantify the uncertainty associated with a sample statistic and to provide a range within which the true population parameter is likely to fall.\n",
    "\n",
    "When estimating a population parameter using sample data, a confidence interval gives you a range of values within which you are reasonably confident the true population parameter lies, based on the characteristics of the sample and the chosen level of confidence.\n",
    "\n",
    "A confidence interval is typically expressed as:\n",
    "\\[ {Estimate}  + 0r - {Margin of Error} \\]\n",
    "\n",
    "Where:\n",
    "- The \"Estimate\" is the sample statistic you calculated (e.g., sample mean or sample proportion).\n",
    "- The \"Margin of Error\" is a value that accounts for the variability in the sample and the chosen level of confidence. It is determined by the distribution of the sample statistic and the sample size.\n",
    "\n",
    "The level of confidence indicates the probability that the calculated confidence interval contains the true population parameter. For example, a 95% confidence interval means that if you were to take many random samples and construct a confidence interval for each one, about 95% of those intervals would contain the true population parameter.\n",
    "\n",
    "Confidence intervals are widely used in inferential statistics to provide a way of quantifying the precision of an estimate and to communicate the range of plausible values for a population parameter. They help convey the inherent uncertainty in making inferences based on a finite sample from a larger population."
   ]
  },
  {
   "cell_type": "markdown",
   "id": "abe7911c",
   "metadata": {},
   "source": [
    "Calculating a confidence interval involves using sample data, a sample statistic (such as the sample mean or sample proportion), the standard error of the statistic, and the desired level of confidence. The formula for calculating a confidence interval depends on the type of data and the parameter you're estimating.\n",
    "\n",
    "how to calculate a confidence interval for the population mean using the sample mean and standard error, along with an example:\n",
    "\n",
    "**Step 1: Gather Information**\n",
    "1. Collect your sample data.\n",
    "2. Choose a level of confidence (e.g., 95%, 99%).\n",
    "\n",
    "**Step 2: Calculate Sample Statistic and Standard Error**\n",
    "1. Calculate the sample mean (ˉ\n",
    "x\n",
    "ˉ) and sample standard deviation (\\(s\\)) from your sample data.\n",
    "2. Calculate the standard error (\\(SE\\)) of the sample mean:\n",
    "   \\[ SE = s / sqrt{n} \\]\n",
    "   where \\(n\\) is the sample size.\n",
    "\n",
    "**Step 3: Determine the Critical Value**\n",
    "1. Find the critical value from the appropriate distribution (z-distribution or t-distribution) based on your chosen level of confidence and degrees of freedom (\\(n - 1\\) for a t-distribution).\n",
    "2. For example, for a 95% confidence interval, the critical value for a z-distribution is approximately 1.96, and for a t-distribution with \\(n\\) degrees of freedom, you can use a t-table or calculator to find the critical value.\n",
    "\n",
    "**Step 4: Calculate the Margin of Error**\n",
    "1. Calculate the margin of error (\\(ME\\)) using the formula:\n",
    "   \\[ ME = Critical Value * SE \\]\n",
    "\n",
    "**Step 5: Calculate the Confidence Interval**\n",
    "1. Calculate the lower and upper bounds of the confidence interval using the formula:\n",
    "   \\[ Lower Bound = ˉ\n",
    "x\n",
    "ˉ - ME \\]\n",
    "   \\[ Upper Bound = ˉ\n",
    "x\n",
    "ˉ + ME \\]\n",
    "   \n",
    "**Example Scenario**:\n",
    "Suppose you're conducting a study on the heights of a random sample of 50 students. You find that the sample mean height is 165 cm, and the sample standard deviation is 8 cm. You want to calculate a 95% confidence interval for the population mean height.\n",
    "\n",
    "1. Sample Mean (\\(\\bar{x}\\)) = 165 cm\n",
    "2. Sample Standard Deviation (\\(s\\)) = 8 cm\n",
    "3. Sample Size (\\(n\\)) = 50\n",
    "4. Confidence Level = 95%\n",
    "5. Critical Value for a t-distribution (\\(n - 1\\) degrees of freedom) ≈ 2.009 (from t-table)\n",
    "\n",
    "Calculate the standard error (\\(SE\\)):\n",
    "\n",
    "\n",
    "\\[ SE = s / sqrt{n}  = 8/ sqrt{50}  =  1.13 \\]\n",
    "\n",
    "Calculate the margin of error (\\(ME\\)):\n",
    "\n",
    "\n",
    "   \\[ ME = Critical Value * SE  = 2.009 * 1.13 = 2.27 \\]\n",
    "\n",
    "Calculate the confidence interval:\n",
    "\n",
    "\n",
    "   \\[ Lower Bound = ˉ\n",
    "x\n",
    "ˉ - ME = 165 - 2.27 = 162.73 \\]\n",
    "\n",
    "\n",
    "   \\[ Upper Bound = ˉ\n",
    "x\n",
    "ˉ + ME = 165 + 2.27 = 167.27 \\]\n",
    "\n",
    "The 95% confidence interval for the population mean height is approximately \\(162.73\\) cm to \\(167.27\\) cm. This means that you can be 95% confident that the true population mean height falls within this range based on your sample data."
   ]
  },
  {
   "cell_type": "code",
   "execution_count": 1,
   "id": "93e26089",
   "metadata": {},
   "outputs": [
    {
     "name": "stdout",
     "output_type": "stream",
     "text": [
      "Sample Mean: 85.90\n",
      "Standard Error: 1.77\n",
      "Critical Value: 2.26\n",
      "Margin of Error: 4.00\n",
      "95% Confidence Interval: (81.90, 89.90)\n"
     ]
    }
   ],
   "source": [
    "\n",
    "import numpy as np\n",
    "import scipy.stats as stats\n",
    "\n",
    "# Sample data (exam scores)\n",
    "sample_scores = [78, 85, 92, 88, 95, 81, 90, 79, 87, 84]\n",
    "\n",
    "# Calculate sample statistics\n",
    "sample_mean = np.mean(sample_scores)\n",
    "sample_std = np.std(sample_scores, ddof=1)  # Use ddof=1 for sample standard deviation\n",
    "sample_size = len(sample_scores)\n",
    "\n",
    "# Confidence level\n",
    "confidence_level = 0.95\n",
    "\n",
    "# Calculate the standard error\n",
    "standard_error = sample_std / np.sqrt(sample_size)\n",
    "\n",
    "# Calculate the critical value from the t-distribution\n",
    "degrees_of_freedom = sample_size - 1\n",
    "critical_value = stats.t.ppf(1 - (1 - confidence_level) / 2, df=degrees_of_freedom)\n",
    "\n",
    "# Calculate the margin of error\n",
    "margin_of_error = critical_value * standard_error\n",
    "\n",
    "# Calculate the confidence interval\n",
    "lower_bound = sample_mean - margin_of_error\n",
    "upper_bound = sample_mean + margin_of_error\n",
    "\n",
    "# Print the results\n",
    "print(f\"Sample Mean: {sample_mean:.2f}\")\n",
    "print(f\"Standard Error: {standard_error:.2f}\")\n",
    "print(f\"Critical Value: {critical_value:.2f}\")\n",
    "print(f\"Margin of Error: {margin_of_error:.2f}\")\n",
    "print(f\"95% Confidence Interval: ({lower_bound:.2f}, {upper_bound:.2f})\")"
   ]
  },
  {
   "cell_type": "markdown",
   "id": "2d04dece",
   "metadata": {},
   "source": [
    "<a id=\"6\"></a> \n",
    " # <p style=\"padding:10px;background-color: #00004d ;margin:10;color: white ;font-family:newtimeroman;font-size:100%;text-align:center;border-radius: 10px 10px ;overflow:hidden;font-weight:50\">Ans 6 </p> "
   ]
  },
  {
   "cell_type": "markdown",
   "id": "0d81b31d",
   "metadata": {},
   "source": [
    "Certainly! Let's work through a sample problem using Bayes' Theorem to calculate the probability of an event occurring given prior knowledge and new evidence.\n",
    "\n",
    "**Sample Problem**:\n",
    "Suppose you are a quality control manager at a factory that produces light bulbs. You know that 5% of the bulbs produced are defective (\\(P(D) = 0.05\\)). You also have a testing process that correctly identifies defective bulbs 90% of the time (\\(P(T|D) = 0.9\\)), and it falsely identifies non-defective bulbs as defective 10% of the time (\\(P(T| ~ D) = 0.1\\)). You pick a bulb at random from the production line, and the testing process indicates that it's defective. What's the probability that the bulb is actually defective (\\(P(D|T)\\))?\n",
    "\n",
    "**Solution**:\n",
    "We want to calculate the probability of a bulb being defective given that the testing process indicates it's defective (\\(P(D|T)\\)). We can use Bayes' Theorem for this purpose:\n",
    "\n",
    "\\[ P(D|T) = {P(T|D) * P(D)} / {P(T)} \\]\n",
    "\n",
    "First, we need to calculate the denominator \\(P(T)\\), which is the probability of a bulb testing defective regardless of whether it's actually defective or not. We can calculate \\(P(T)\\) using the law of total probability:\n",
    "\n",
    "\\[ P(T) = P(T|D) * P(D) + P(T| ~ D) * P( ~ D) \\]\n",
    "\n",
    "Where \\(P(\\neg D)\\) is the probability of a bulb not being defective (\\(1 - P(D)\\)).\n",
    "\n",
    "Let's calculate the probabilities and solve the problem:\n",
    "\n",
    "1. \\(P(D) = 0.05\\) (prior probability of a bulb being defective)\n",
    "2. \\(P(T|D) = 0.9\\) (probability of a bulb testing defective given that it's defective)\n",
    "3. \\(P(T| ~ D) = 0.1\\) (probability of a bulb testing defective given that it's not defective)\n",
    "4. \\(P( ~ D) = 1 - P(D) = 0.95\\) (probability of a bulb not being defective)\n",
    "\n",
    "Now calculate \\(P(T)\\):\n",
    "\n",
    "\n",
    "\\[ P(T) = P(T|D) * P(D) + P(T| ~ D) * P( ~ D) \\]\n",
    "\n",
    "\n",
    "\\[ P(T) = 0.9 *  0.05 + 0.1 * 0.95 = 0.145 \\]\n",
    "\n",
    "Finally, calculate \\(P(D|T)\\) using Bayes' Theorem:\n",
    "\n",
    "\\[ P(D|T) = {P(T|D) *  P(D)} / {P(T)} \\]\n",
    "\n",
    "\n",
    "\\[ P(D|T) = {0.9 *  0.05} / {0.145}  =  0.3103 \\]\n",
    "\n",
    "So, the probability that the bulb is actually defective given that it tested defective is approximately 0.3103, or about 31.03%."
   ]
  },
  {
   "cell_type": "code",
   "execution_count": 2,
   "id": "ec17e420",
   "metadata": {},
   "outputs": [
    {
     "name": "stdout",
     "output_type": "stream",
     "text": [
      "The probability that the bulb is actually defective given that it tested defective is: 0.3214\n"
     ]
    }
   ],
   "source": [
    "# Given probabilities\n",
    "P_D = 0.05  # Prior probability of a bulb being defective\n",
    "P_T_given_D = 0.9  # Probability of testing defective given that it's defective\n",
    "P_T_given_not_D = 0.1  # Probability of testing defective given that it's not defective\n",
    "P_not_D = 1 - P_D  # Probability of a bulb not being defective\n",
    "\n",
    "# Calculate P(T) using the law of total probability\n",
    "P_T = P_T_given_D * P_D + P_T_given_not_D * P_not_D\n",
    "\n",
    "# Calculate P(D|T) using Bayes' Theorem\n",
    "P_D_given_T = (P_T_given_D * P_D) / P_T\n",
    "\n",
    "# Print the result\n",
    "print(f\"The probability that the bulb is actually defective given that it tested defective is: {P_D_given_T:.4f}\")\n"
   ]
  },
  {
   "cell_type": "markdown",
   "id": "7f49a43b",
   "metadata": {},
   "source": [
    "<a id=\"7\"></a> \n",
    " # <p style=\"padding:10px;background-color: #00004d ;margin:10;color: white ;font-family:newtimeroman;font-size:100%;text-align:center;border-radius: 10px 10px ;overflow:hidden;font-weight:50\">Ans 7 </p> "
   ]
  },
  {
   "cell_type": "code",
   "execution_count": 3,
   "id": "e07573eb",
   "metadata": {},
   "outputs": [
    {
     "name": "stdout",
     "output_type": "stream",
     "text": [
      "Sample Mean: 50\n",
      "Confidence Level: 95.0%\n",
      "Margin of Error: 1.87\n",
      "95% Confidence Interval: (48.13, 51.87)\n"
     ]
    }
   ],
   "source": [
    "import scipy.stats as stats\n",
    "\n",
    "# Given values\n",
    "sample_mean = 50  # Sample mean\n",
    "sample_std = 5  # Sample standard deviation\n",
    "sample_size = 30  # Sample size\n",
    "confidence_level = 0.95  # Confidence level\n",
    "\n",
    "# Calculate the standard error\n",
    "standard_error = sample_std / (sample_size ** 0.5)\n",
    "\n",
    "# Calculate the critical value from the t-distribution\n",
    "degrees_of_freedom = sample_size - 1\n",
    "critical_value = stats.t.ppf(1 - (1 - confidence_level) / 2, df=degrees_of_freedom)\n",
    "\n",
    "# Calculate the margin of error\n",
    "margin_of_error = critical_value * standard_error\n",
    "\n",
    "# Calculate the confidence interval\n",
    "lower_bound = sample_mean - margin_of_error\n",
    "upper_bound = sample_mean + margin_of_error\n",
    "\n",
    "# Print the results\n",
    "print(f\"Sample Mean: {sample_mean}\")\n",
    "print(f\"Confidence Level: {confidence_level * 100}%\")\n",
    "print(f\"Margin of Error: {margin_of_error:.2f}\")\n",
    "print(f\"95% Confidence Interval: ({lower_bound:.2f}, {upper_bound:.2f})\")\n"
   ]
  },
  {
   "cell_type": "code",
   "execution_count": null,
   "id": "fecebffe",
   "metadata": {},
   "outputs": [],
   "source": []
  },
  {
   "cell_type": "markdown",
   "id": "c6b45c8c",
   "metadata": {},
   "source": [
    "<a id=\"8\"></a> \n",
    " # <p style=\"padding:10px;background-color: #00004d ;margin:10;color: white ;font-family:newtimeroman;font-size:100%;text-align:center;border-radius: 10px 10px ;overflow:hidden;font-weight:50\">Ans 8 </p> "
   ]
  },
  {
   "cell_type": "markdown",
   "id": "b2f24d41",
   "metadata": {},
   "source": [
    "The margin of error (MOE) in a confidence interval is a measure of the uncertainty or variability associated with estimating a population parameter (such as the population mean or population proportion) based on a sample statistic. It indicates the range within which the true population parameter is likely to fall. In other words, it quantifies the level of precision or accuracy of the estimate.\n",
    "\n",
    "The margin of error is influenced by several factors, including the sample size, the variability of the data, and the chosen level of confidence. A larger sample size generally leads to a smaller margin of error because larger samples provide more information about the population. Similarly, lower data variability results in a smaller margin of error.\n",
    "\n",
    "Mathematically, the margin of error is calculated by multiplying a critical value (usually derived from a standard distribution like the z-distribution or t-distribution) by the standard error of the sample statistic. The formula for the margin of error is typically expressed as:\n",
    "\n",
    "\\[ Margin of Error = Critical Value *Standard Error \\]\n",
    "\n",
    "Where:\n",
    "- The \"Critical Value\" corresponds to the desired level of confidence and the distribution used (z-distribution for large sample sizes, t-distribution for small sample sizes).\n",
    "- The \"Standard Error\" is a measure of the variability of the sample statistic, which depends on the population standard deviation and the sample size.\n",
    "\n",
    "The margin of error defines the width of the confidence interval and provides a range within which we are reasonably confident that the true population parameter lies.\n",
    "\n",
    "For example, a 95% confidence interval with a margin of error of 2 means that we are 95% confident that the true population parameter falls within 2 units of the estimated sample statistic."
   ]
  },
  {
   "cell_type": "markdown",
   "id": "30815715",
   "metadata": {},
   "source": [
    "Sample size has a significant impact on the margin of error (MOE) in a confidence interval. Generally, as the sample size increases, the margin of error decreases. In other words, larger sample sizes lead to more precise estimates and narrower confidence intervals. This relationship between sample size and margin of error is a fundamental principle in statistics.\n",
    "\n",
    "The relationship can be understood by considering the components that make up the margin of error formula:\n",
    "\n",
    "\\[ Margin of Error = Critical Value * Population Standard Deviation / sqrt (Sample Size) \\]\n",
    "\n",
    "Here's how sample size affects the margin of error:\n",
    "\n",
    "1. **Inverse Square Root Relationship**: The sample size (\\(n\\)) appears in the denominator of the standard error term ( 1 / sqrt{n} ) in the margin of error formula. As \\(n\\) increases, the denominator becomes larger, causing the standard error (and consequently, the margin of error) to decrease. This means that larger sample sizes lead to smaller margins of error.\n",
    "\n",
    "2. **More Representative**: Larger sample sizes tend to be more representative of the population, reducing the impact of sampling variability. This makes the sample statistic (such as the sample mean) more accurate and closer to the true population parameter.\n",
    "\n",
    "3. **Reduced Uncertainty**: A larger sample size provides more information about the population, reducing the uncertainty associated with estimating the population parameter. This results in a more precise estimate and a smaller margin of error.\n",
    "\n",
    "4. **Central Limit Theorem**: The Central Limit Theorem states that the sampling distribution of the sample mean approaches a normal distribution as the sample size increases, regardless of the underlying population distribution. This means that for larger sample sizes, we can rely more on the properties of the normal distribution, allowing us to use the z-distribution instead of the t-distribution, which further reduces the margin of error.\n",
    "\n",
    "In summary, larger sample sizes result in smaller margins of error because they provide more information, reduce sampling variability, and allow us to approach the normal distribution properties. This is why researchers often aim for larger sample sizes when conducting studies or surveys, as they lead to more accurate and precise estimates of population parameters."
   ]
  },
  {
   "cell_type": "markdown",
   "id": "127a49ad",
   "metadata": {},
   "source": [
    "Let's consider a scenario involving a political poll. Suppose you want to estimate the proportion of voters in a city who support a particular candidate. You plan to conduct a survey to gather data, and you're interested in calculating a 95% confidence interval for the true proportion of supporters.\n",
    "\n",
    "**Scenario with a Smaller Sample Size**:\n",
    "Suppose you randomly survey 50 voters and find that 30 of them support the candidate. With a sample size of 50, the sample proportion is \\( \\frac{30}{50} = 0.6 \\), or 60%.\n",
    "\n",
    "Using this sample proportion, you can calculate the margin of error and the confidence interval. Let's assume you determine a margin of error of 0.10.\n",
    "\n",
    "**Scenario with a Larger Sample Size**:\n",
    "Now imagine you decide to increase your survey's sample size to 500 voters. This time, you find that 300 of them support the candidate. With a sample size of 500, the sample proportion is \\( \\frac{300}{500} = 0.6 \\), which is also 60%.\n",
    "\n",
    "Comparing the two scenarios:\n",
    "- In both scenarios, the sample proportions are the same (60%).\n",
    "- However, the larger sample size (500 voters) results in a smaller margin of error.\n",
    "\n",
    "Why Does This Happen?\n",
    "In the formula for the margin of error, the sample size appears in the denominator under the square root. As the sample size increases, the square root of the sample size denominator becomes larger, causing the standard error (and consequently, the margin of error) to decrease. This is why a larger sample size leads to a smaller margin of error and a narrower confidence interval.\n",
    "\n",
    "In the example above, even though the sample proportions were the same for both scenarios, the larger sample size provided more information and reduced the uncertainty associated with estimating the population proportion, resulting in a more precise estimate of the true proportion of supporters."
   ]
  },
  {
   "cell_type": "code",
   "execution_count": 5,
   "id": "3dfa3fea",
   "metadata": {},
   "outputs": [
    {
     "name": "stdout",
     "output_type": "stream",
     "text": [
      "Scenario 1 (Smaller Sample Size):\n",
      "Sample Proportion: 0.60\n",
      "Margin of Error: 0.14\n",
      "95% Confidence Interval: (0.46, 0.74)\n",
      "\n",
      "Scenario 2 (Larger Sample Size):\n",
      "Sample Proportion: 0.60\n",
      "Margin of Error: 0.04\n",
      "95% Confidence Interval: (0.56, 0.64)\n"
     ]
    }
   ],
   "source": [
    "import numpy as np\n",
    "import scipy.stats as stats\n",
    "\n",
    "# Given data for Scenario 1 (Smaller Sample Size)\n",
    "sample_size_1 = 50\n",
    "supporters_1 = 30\n",
    "confidence_level = 0.95\n",
    "\n",
    "# Calculate sample proportion for Scenario 1\n",
    "sample_proportion_1 = supporters_1 / sample_size_1\n",
    "\n",
    "# Calculate standard error for Scenario 1\n",
    "standard_error_1 = np.sqrt((sample_proportion_1 * (1 - sample_proportion_1)) / sample_size_1)\n",
    "\n",
    "# Calculate critical value from the z-distribution\n",
    "critical_value = stats.norm.ppf(1 - (1 - confidence_level) / 2)\n",
    "\n",
    "# Calculate margin of error for Scenario 1\n",
    "margin_of_error_1 = critical_value * standard_error_1\n",
    "\n",
    "# Calculate confidence interval for Scenario 1\n",
    "lower_bound_1 = sample_proportion_1 - margin_of_error_1\n",
    "upper_bound_1 = sample_proportion_1 + margin_of_error_1\n",
    "\n",
    "# Given data for Scenario 2 (Larger Sample Size)\n",
    "sample_size_2 = 500\n",
    "supporters_2 = 300\n",
    "\n",
    "# Calculate sample proportion for Scenario 2\n",
    "sample_proportion_2 = supporters_2 / sample_size_2\n",
    "\n",
    "# Calculate standard error for Scenario 2\n",
    "standard_error_2 = np.sqrt((sample_proportion_2 * (1 - sample_proportion_2)) / sample_size_2)\n",
    "\n",
    "# Calculate margin of error for Scenario 2\n",
    "margin_of_error_2 = critical_value * standard_error_2\n",
    "\n",
    "# Calculate confidence interval for Scenario 2\n",
    "lower_bound_2 = sample_proportion_2 - margin_of_error_2\n",
    "upper_bound_2 = sample_proportion_2 + margin_of_error_2\n",
    "\n",
    "# Print the results\n",
    "print(\"Scenario 1 (Smaller Sample Size):\")\n",
    "print(f\"Sample Proportion: {sample_proportion_1:.2f}\")\n",
    "print(f\"Margin of Error: {margin_of_error_1:.2f}\")\n",
    "print(f\"95% Confidence Interval: ({lower_bound_1:.2f}, {upper_bound_1:.2f})\")\n",
    "print(\"\\nScenario 2 (Larger Sample Size):\")\n",
    "print(f\"Sample Proportion: {sample_proportion_2:.2f}\")\n",
    "print(f\"Margin of Error: {margin_of_error_2:.2f}\")\n",
    "print(f\"95% Confidence Interval: ({lower_bound_2:.2f}, {upper_bound_2:.2f})\")"
   ]
  },
  {
   "cell_type": "markdown",
   "id": "bf8155a7",
   "metadata": {},
   "source": [
    "<a id=\"9\"></a> \n",
    " # <p style=\"padding:10px;background-color: #00004d ;margin:10;color: white ;font-family:newtimeroman;font-size:100%;text-align:center;border-radius: 10px 10px ;overflow:hidden;font-weight:50\">Ans 9 </p> "
   ]
  },
  {
   "cell_type": "code",
   "execution_count": 6,
   "id": "c08d14a2",
   "metadata": {},
   "outputs": [
    {
     "name": "stdout",
     "output_type": "stream",
     "text": [
      "The z-score for the data point 75 is: 1.00\n"
     ]
    }
   ],
   "source": [
    "# Given values\n",
    "data_point = 75\n",
    "population_mean = 70\n",
    "population_std = 5\n",
    "\n",
    "# Calculate the z-score\n",
    "z_score = (data_point - population_mean) / population_std\n",
    "\n",
    "# Print the result\n",
    "print(f\"The z-score for the data point {data_point} is: {z_score:.2f}\")\n"
   ]
  },
  {
   "cell_type": "markdown",
   "id": "a5d32870",
   "metadata": {},
   "source": [
    "**Interpretation of the results:**\n",
    "\n",
    "\n",
    "The calculated z-score is positive, indicating that the data point with a value of 75 is above the population mean of 70. Specifically, the z-score is 1.00, which means that the data point is 1 standard deviation above the mean. This suggests that the data point is relatively close to the mean and not extremely unusual in the context of the population distribution with a mean of 70 and a standard deviation of 5."
   ]
  },
  {
   "cell_type": "markdown",
   "id": "0fd7351c",
   "metadata": {},
   "source": [
    "<a id=\"10\"></a> \n",
    " # <p style=\"padding:10px;background-color: #00004d ;margin:10;color: white ;font-family:newtimeroman;font-size:100%;text-align:center;border-radius: 10px 10px ;overflow:hidden;font-weight:50\">Ans 10 </p> "
   ]
  },
  {
   "cell_type": "markdown",
   "id": "a0626dfc",
   "metadata": {},
   "source": [
    "<!--  -->"
   ]
  },
  {
   "cell_type": "markdown",
   "id": "81710685",
   "metadata": {},
   "source": [
    "To conduct a hypothesis test to determine if the new weight loss drug is significantly effective, we need to set up null and alternative hypotheses and perform a t-test on the sample data. The null hypothesis (\\(H_0\\)) typically states that there is no effect, while the alternative hypothesis (\\(H_A\\)) states that there is an effect.\n",
    "\n",
    "In this scenario, our hypotheses are:\n",
    "- Null Hypothesis (\\(H_0\\)): The new weight loss drug is not significantly effective (\\( (\n",
    "μ=μ_0 \\), where \\( μ_0\\) is the population mean).\n",
    "- Alternative Hypothesis (\\(H_A\\)): The new weight loss drug is significantly effective (\\( μ < μ_0\\)).\n",
    "\n",
    "We will perform a one-sample t-test to determine if the sample mean is significantly different from the claimed population mean (\\( μ_0 \\)). The t-test will calculate a t-statistic and a p-value, which will help us assess whether we can reject the null hypothesis."
   ]
  },
  {
   "cell_type": "markdown",
   "id": "7e32f2fd",
   "metadata": {},
   "source": [
    "<!--  -->"
   ]
  },
  {
   "cell_type": "code",
   "execution_count": 8,
   "id": "ca345825",
   "metadata": {},
   "outputs": [
    {
     "name": "stdout",
     "output_type": "stream",
     "text": [
      "Sample Mean: 6\n",
      "T-Statistic: 16.9706\n",
      "Critical T-Value: -1.6766\n",
      "P-Value: 1.0000\n",
      "Conclusion: Fail to reject the null hypothesis at 95.0% confidence level\n"
     ]
    }
   ],
   "source": [
    "import scipy.stats as stats\n",
    "\n",
    "# Given data\n",
    "sample_mean = 6  # Sample mean weight loss\n",
    "sample_std = 2.5  # Sample standard deviation\n",
    "sample_size = 50  # Sample size\n",
    "confidence_level = 0.95  # Confidence level\n",
    "\n",
    "# Hypotheses\n",
    "population_mean_claimed = 0  # Claimed population mean weight loss\n",
    "alpha = 1 - confidence_level  # Significance level\n",
    "\n",
    "# Calculate the t-statistic\n",
    "t_statistic = (sample_mean - population_mean_claimed) / (sample_std / (sample_size ** 0.5))\n",
    "\n",
    "# Calculate the critical t-value for a one-tailed test\n",
    "degrees_of_freedom = sample_size - 1\n",
    "critical_t_value = stats.t.ppf(alpha, df=degrees_of_freedom)\n",
    "\n",
    "# Calculate the p-value\n",
    "p_value = stats.t.cdf(t_statistic, df=degrees_of_freedom)\n",
    "\n",
    "# Perform hypothesis test\n",
    "if t_statistic < -critical_t_value:\n",
    "    conclusion = \"Reject the null hypothesis\"\n",
    "else:\n",
    "    conclusion = \"Fail to reject the null hypothesis\"\n",
    "\n",
    "# Print the results\n",
    "print(f\"Sample Mean: {sample_mean}\")\n",
    "print(f\"T-Statistic: {t_statistic:.4f}\")\n",
    "print(f\"Critical T-Value: {critical_t_value:.4f}\")\n",
    "print(f\"P-Value: {p_value:.4f}\")\n",
    "print(f\"Conclusion: {conclusion} at {confidence_level * 100}% confidence level\")"
   ]
  },
  {
   "cell_type": "markdown",
   "id": "dbd84556",
   "metadata": {},
   "source": [
    "**Interpretation of the results:**\n",
    "\n",
    "\n",
    "The calculated t-statistic, critical t-value, and p-value will help us determine whether to reject the null hypothesis. If the t-statistic falls in the critical region (less than the negative critical t-value), we can reject the null hypothesis and conclude that the new weight loss drug is significantly effective at the given confidence level. If the t-statistic falls outside the critical region, we fail to reject the null hypothesis."
   ]
  },
  {
   "cell_type": "markdown",
   "id": "d24044f9",
   "metadata": {},
   "source": [
    "<a id=\"11\"></a> \n",
    " # <p style=\"padding:10px;background-color: #00004d ;margin:10;color: white ;font-family:newtimeroman;font-size:100%;text-align:center;border-radius: 10px 10px ;overflow:hidden;font-weight:50\">Ans 11 </p> "
   ]
  },
  {
   "cell_type": "markdown",
   "id": "01480009",
   "metadata": {},
   "source": [
    "To calculate the 95% confidence interval for the true proportion of people who are satisfied with their job, we can use the formula for the confidence interval of a population proportion. The formula is:\n",
    "\n",
    "\\[ Confidence Interval = Sample Proportion + or - Margin of Error \\]\n",
    "\n",
    "Where:\n",
    "- Sample Proportion is the proportion of people in the sample who are satisfied.\n",
    "- Margin of Error is determined by the critical value from the z-distribution and the standard error.\n",
    "\n",
    "The formula for the margin of error is:\n",
    "\n",
    "Margin of Error = Critical Value *  sqrt \\[ Sample Proportion *  (1 - Sample Proportion) / Sample Size \\]\n"
   ]
  },
  {
   "cell_type": "markdown",
   "id": "57d024f4",
   "metadata": {},
   "source": [
    "<!--  -->"
   ]
  },
  {
   "cell_type": "code",
   "execution_count": 9,
   "id": "7ccb875a",
   "metadata": {},
   "outputs": [
    {
     "name": "stdout",
     "output_type": "stream",
     "text": [
      "Sample Proportion: 0.65\n",
      "Confidence Level: 95.0%\n",
      "Margin of Error: 0.04\n",
      "95% Confidence Interval: (0.61, 0.69)\n"
     ]
    }
   ],
   "source": [
    "\n",
    "import scipy.stats as stats\n",
    "\n",
    "# Given values\n",
    "sample_proportion = 0.65  # Proportion of people satisfied\n",
    "sample_size = 500  # Sample size\n",
    "confidence_level = 0.95  # Confidence level\n",
    "\n",
    "# Calculate the critical value from the z-distribution\n",
    "critical_value = stats.norm.ppf(1 - (1 - confidence_level) / 2)\n",
    "\n",
    "# Calculate the standard error\n",
    "standard_error = (sample_proportion * (1 - sample_proportion) / sample_size) ** 0.5\n",
    "\n",
    "# Calculate the margin of error\n",
    "margin_of_error = critical_value * standard_error\n",
    "\n",
    "# Calculate the confidence interval\n",
    "lower_bound = sample_proportion - margin_of_error\n",
    "upper_bound = sample_proportion + margin_of_error\n",
    "\n",
    "# Print the results\n",
    "print(f\"Sample Proportion: {sample_proportion:.2f}\")\n",
    "print(f\"Confidence Level: {confidence_level * 100}%\")\n",
    "print(f\"Margin of Error: {margin_of_error:.2f}\")\n",
    "print(f\"95% Confidence Interval: ({lower_bound:.2f}, {upper_bound:.2f})\")"
   ]
  },
  {
   "cell_type": "markdown",
   "id": "2a626be2",
   "metadata": {},
   "source": [
    "Interpretation of the results:\n",
    "\n",
    "\n",
    "The 95% confidence interval for the true proportion of people who are satisfied with their job is approximately (0.6122, 0.6878). This means that we can be 95% confident that the true proportion of satisfied individuals lies within this interval based on the given sample data and the chosen confidence level."
   ]
  },
  {
   "cell_type": "markdown",
   "id": "ff8a9fcb",
   "metadata": {},
   "source": [
    "<!--  -->"
   ]
  },
  {
   "cell_type": "markdown",
   "id": "8fcd854a",
   "metadata": {},
   "source": [
    "<a id=\"12\"></a> \n",
    " # <p style=\"padding:10px;background-color: #00004d ;margin:10;color: white ;font-family:newtimeroman;font-size:100%;text-align:center;border-radius: 10px 10px ;overflow:hidden;font-weight:50\">Ans 12 </p> "
   ]
  },
  {
   "cell_type": "markdown",
   "id": "479f9707",
   "metadata": {},
   "source": [
    "To determine if there is a significant difference in student performance between the two teaching methods, we can conduct a two-sample independent t-test. This test compares the means of two independent groups to assess whether the observed differences are statistically significant or could have occurred by chance.\n",
    "\n",
    "Let's set up the hypotheses for the test:\n",
    "- Null Hypothesis (\\(H_0\\)): The two teaching methods have no significant difference in student performance (μ_A=μ_B)\n",
    "- Alternative Hypothesis (\\(H_A\\)): The two teaching methods have a significant difference in student performance(μ_A != μ_B)"
   ]
  },
  {
   "cell_type": "markdown",
   "id": "227b3ed5",
   "metadata": {},
   "source": [
    "<!--  -->"
   ]
  },
  {
   "cell_type": "code",
   "execution_count": 17,
   "id": "f95015a8",
   "metadata": {},
   "outputs": [
    {
     "name": "stdout",
     "output_type": "stream",
     "text": [
      "T-Statistic: 9.19\n",
      "Degrees of Freedom: 68\n",
      "Critical T-Value: 2.65\n",
      "P-Value: 0.0000\n",
      "Conclusion: Reject the null hypothesis at significance level 0.01\n"
     ]
    }
   ],
   "source": [
    "\n",
    "import scipy.stats as stats\n",
    "\n",
    "# Given data for Sample A\n",
    "sample_mean_A = 85\n",
    "sample_std_A = 6\n",
    "sample_size_A = 30\n",
    "\n",
    "# Given data for Sample B\n",
    "sample_mean_B = 82\n",
    "sample_std_B = 5\n",
    "sample_size_B = 40\n",
    "\n",
    "# Significance level\n",
    "alpha = 0.01\n",
    "\n",
    "# Calculate the pooled standard error\n",
    "pooled_std = ((sample_std_A**2 / sample_size_A) + (sample_std_B**2 / sample_size_B)) ** 0.5\n",
    "\n",
    "# Calculate the t-statistic\n",
    "t_statistic = (sample_mean_A - sample_mean_B) / (pooled_std * (1/sample_size_A + 1/sample_size_B) ** 0.5)\n",
    "\n",
    "# Calculate the degrees of freedom\n",
    "degrees_of_freedom = sample_size_A + sample_size_B - 2\n",
    "\n",
    "# Calculate the critical t-value for a two-tailed test\n",
    "critical_t_value = stats.t.ppf(1 - alpha / 2, df=degrees_of_freedom)\n",
    "\n",
    "# Calculate the p-value\n",
    "p_value = 2 * (1 - stats.t.cdf(abs(t_statistic), df=degrees_of_freedom))\n",
    "\n",
    "# Perform hypothesis test\n",
    "if abs(t_statistic) > critical_t_value:\n",
    "    conclusion = \"Reject the null hypothesis\"\n",
    "else:\n",
    "    conclusion = \"Fail to reject the null hypothesis\"\n",
    "\n",
    "# Print the results\n",
    "print(f\"T-Statistic: {t_statistic:.2f}\")\n",
    "print(f\"Degrees of Freedom: {degrees_of_freedom}\")\n",
    "print(f\"Critical T-Value: {critical_t_value:.2f}\")\n",
    "print(f\"P-Value: {p_value:.4f}\")\n",
    "print(f\"Conclusion: {conclusion} at significance level {alpha}\")"
   ]
  },
  {
   "cell_type": "markdown",
   "id": "dc7e7395",
   "metadata": {},
   "source": [
    "Interpretation of the results:\n",
    "\n",
    "\n",
    "Based on the calculated t-statistic, critical t-value, and p-value, you can determine whether to reject the null hypothesis. If the absolute value of the t-statistic is greater than the critical t-value, you can reject the null hypothesis and conclude that there is a significant difference in student performance between the two teaching methods at the given significance level. If the t-statistic falls within the range of the critical t-value, you fail to reject the null hypothesis."
   ]
  },
  {
   "cell_type": "markdown",
   "id": "31f92c78",
   "metadata": {},
   "source": [
    "<!--  -->"
   ]
  },
  {
   "cell_type": "markdown",
   "id": "5eaff4a1",
   "metadata": {},
   "source": [
    "<a id=\"13\"></a> \n",
    " # <p style=\"padding:10px;background-color: #00004d ;margin:10;color: white ;font-family:newtimeroman;font-size:100%;text-align:center;border-radius: 10px 10px ;overflow:hidden;font-weight:50\">Ans 13 </p> "
   ]
  },
  {
   "cell_type": "markdown",
   "id": "6df1be57",
   "metadata": {},
   "source": [
    "To calculate the 90% confidence interval for the true population mean, we can use the formula for the confidence interval of a population mean. The formula is:\n",
    "\n",
    "\\[ Confidence Interval = Sample Proportion + or - Margin of Error \\]\n",
    "\n",
    "Where the margin of error is determined by the critical value from the z-distribution and the standard error.\n",
    "\n",
    "The formula for the margin of error is:\n",
    "\n",
    "\\[ Margin of Error = Critical Value  *  Population Standard Deviation  / sqrt ( Sample_Size ) \\]"
   ]
  },
  {
   "cell_type": "markdown",
   "id": "f74aa317",
   "metadata": {},
   "source": [
    "<!--  -->"
   ]
  },
  {
   "cell_type": "code",
   "execution_count": 13,
   "id": "74252c1e",
   "metadata": {},
   "outputs": [
    {
     "name": "stdout",
     "output_type": "stream",
     "text": [
      "Sample Mean: 65\n",
      "Confidence Level: 90.0%\n",
      "Margin of Error: 1.86\n",
      "90% Confidence Interval: (63.14, 66.86)\n"
     ]
    }
   ],
   "source": [
    "\n",
    "import scipy.stats as stats\n",
    "\n",
    "# Given values\n",
    "sample_mean = 65  # Sample mean\n",
    "population_mean = 60  # Population mean\n",
    "population_std = 8  # Population standard deviation\n",
    "sample_size = 50  # Sample size\n",
    "confidence_level = 0.90  # Confidence level\n",
    "\n",
    "# Calculate the critical value from the z-distribution\n",
    "critical_value = stats.norm.ppf(1 - (1 - confidence_level) / 2)\n",
    "\n",
    "# Calculate the standard error\n",
    "standard_error = population_std / (sample_size ** 0.5)\n",
    "\n",
    "# Calculate the margin of error\n",
    "margin_of_error = critical_value * standard_error\n",
    "\n",
    "# Calculate the confidence interval\n",
    "lower_bound = sample_mean - margin_of_error\n",
    "upper_bound = sample_mean + margin_of_error\n",
    "\n",
    "# Print the results\n",
    "print(f\"Sample Mean: {sample_mean}\")\n",
    "print(f\"Confidence Level: {confidence_level * 100}%\")\n",
    "print(f\"Margin of Error: {margin_of_error:.2f}\")\n",
    "print(f\"90% Confidence Interval: ({lower_bound:.2f}, {upper_bound:.2f})\")"
   ]
  },
  {
   "cell_type": "markdown",
   "id": "68d42cbf",
   "metadata": {},
   "source": [
    "Interpretation of the results:\n",
    "    \n",
    "    \n",
    "The 90% confidence interval for the true population mean is approximately (63.06, 66.94). This means that we can be 90% confident that the true population mean lies within this interval based on the given sample data and the chosen confidence level."
   ]
  },
  {
   "cell_type": "code",
   "execution_count": null,
   "id": "adbd2a42",
   "metadata": {},
   "outputs": [],
   "source": []
  },
  {
   "cell_type": "markdown",
   "id": "7b29e292",
   "metadata": {},
   "source": [
    "<a id=\"14\"></a> \n",
    " # <p style=\"padding:10px;background-color: #00004d ;margin:10;color: white ;font-family:newtimeroman;font-size:100%;text-align:center;border-radius: 10px 10px ;overflow:hidden;font-weight:50\">Ans 14 </p> "
   ]
  },
  {
   "cell_type": "markdown",
   "id": "c046202b",
   "metadata": {},
   "source": [
    "To determine if caffeine has a significant effect on reaction time, we can conduct a one-sample t-test. This test compares the sample mean to a hypothesized population mean to assess whether the observed differences are statistically significant or could have occurred by chance.\n",
    "\n",
    "Let's set up the hypotheses for the test:\n",
    "- Null Hypothesis (\\(H_0\\)): Caffeine does not have a significant effect on reaction time (μ = μ_0), where ( μ_0) is the hypothesized population mean).\n",
    "- Alternative Hypothesis (\\(H_A\\)): Caffeine has a significant effect on reaction time (μ != μ_0).\n",
    "\n",
    "We'll use a significance level of 0.10 (90% confidence level) and perform a two-tailed t-test.\n"
   ]
  },
  {
   "cell_type": "code",
   "execution_count": 19,
   "id": "e158f40b",
   "metadata": {},
   "outputs": [
    {
     "name": "stdout",
     "output_type": "stream",
     "text": [
      "T-Statistic: -2.19\n",
      "Degrees of Freedom: 29\n",
      "Critical T-Value: 1.70\n",
      "P-Value: 0.0366\n",
      "Conclusion: Reject the null hypothesis at 90.0% confidence level\n"
     ]
    }
   ],
   "source": [
    "import scipy.stats as stats\n",
    "\n",
    "# Given data\n",
    "sample_mean = 0.25  # Sample mean reaction time\n",
    "sample_std = 0.05  # Sample standard deviation\n",
    "sample_size = 30  # Sample size\n",
    "confidence_level = 0.90  # Confidence level\n",
    "\n",
    "# Hypothesized population mean (null hypothesis)\n",
    "population_mean_hypothesized = 0.27  # Hypothesized population mean reaction time\n",
    "\n",
    "# Calculate the t-statistic\n",
    "t_statistic = (sample_mean - population_mean_hypothesized) / (sample_std / (sample_size ** 0.5))\n",
    "\n",
    "# Calculate the degrees of freedom\n",
    "degrees_of_freedom = sample_size - 1\n",
    "\n",
    "# Calculate the critical t-value for a two-tailed test\n",
    "critical_t_value = stats.t.ppf(1 - (1 - confidence_level) / 2, df=degrees_of_freedom)\n",
    "\n",
    "# Calculate the p-value\n",
    "p_value = 2 * (1 - stats.t.cdf(abs(t_statistic), df=degrees_of_freedom))\n",
    "\n",
    "# Perform hypothesis test\n",
    "if abs(t_statistic) > critical_t_value:\n",
    "    conclusion = \"Reject the null hypothesis\"\n",
    "else:\n",
    "    conclusion = \"Fail to reject the null hypothesis\"\n",
    "\n",
    "# Print the results\n",
    "print(f\"T-Statistic: {t_statistic:.2f}\")\n",
    "print(f\"Degrees of Freedom: {degrees_of_freedom}\")\n",
    "print(f\"Critical T-Value: {critical_t_value:.2f}\")\n",
    "print(f\"P-Value: {p_value:.4f}\")\n",
    "print(f\"Conclusion: {conclusion} at {confidence_level * 100}% confidence level\")"
   ]
  },
  {
   "cell_type": "markdown",
   "id": "81cd3212",
   "metadata": {},
   "source": [
    "Interpretation of the results:\n",
    "\n",
    "\n",
    "Based on the calculated t-statistic, critical t-value, and p-value, you can determine whether to reject the null hypothesis. If the absolute value of the t-statistic is greater than the critical t-value, you can reject the null hypothesis and conclude that caffeine has a significant effect on reaction time at the given confidence level. If the t-statistic falls within the range of the critical t-value, you fail to reject the null hypothesis."
   ]
  },
  {
   "cell_type": "code",
   "execution_count": null,
   "id": "e55ec9c4",
   "metadata": {},
   "outputs": [],
   "source": []
  },
  {
   "cell_type": "markdown",
   "id": "e95b3a5e",
   "metadata": {},
   "source": [
    "<a id=\"16\"></a> \n",
    " # <p style=\"padding:10px;background-color: #01DFD7 ;margin:10;color: white ;font-family:newtimeroman;font-size:100%;text-align:center;border-radius: 10px 10px ;overflow:hidden;font-weight:50\">END</p> "
   ]
  },
  {
   "cell_type": "code",
   "execution_count": null,
   "id": "354fb901",
   "metadata": {},
   "outputs": [],
   "source": []
  },
  {
   "cell_type": "code",
   "execution_count": null,
   "id": "c2139109",
   "metadata": {},
   "outputs": [],
   "source": []
  },
  {
   "cell_type": "code",
   "execution_count": null,
   "id": "c3a44c79",
   "metadata": {},
   "outputs": [],
   "source": []
  },
  {
   "cell_type": "code",
   "execution_count": null,
   "id": "fc5ae5cf",
   "metadata": {},
   "outputs": [],
   "source": []
  },
  {
   "cell_type": "code",
   "execution_count": null,
   "id": "97087fea",
   "metadata": {},
   "outputs": [],
   "source": []
  }
 ],
 "metadata": {
  "kernelspec": {
   "display_name": "Python 3 (ipykernel)",
   "language": "python",
   "name": "python3"
  },
  "language_info": {
   "codemirror_mode": {
    "name": "ipython",
    "version": 3
   },
   "file_extension": ".py",
   "mimetype": "text/x-python",
   "name": "python",
   "nbconvert_exporter": "python",
   "pygments_lexer": "ipython3",
   "version": "3.10.11"
  }
 },
 "nbformat": 4,
 "nbformat_minor": 5
}
