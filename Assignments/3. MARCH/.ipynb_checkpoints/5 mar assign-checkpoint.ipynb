{
 "cells": [
  {
   "cell_type": "markdown",
   "id": "71dbd86c-41c4-4b24-ba0d-45c4cc407d76",
   "metadata": {},
   "source": [
    "## ANS_1"
   ]
  },
  {
   "cell_type": "code",
   "execution_count": null,
   "id": "030a298b-7d6e-455d-9647-63e8c8b283a6",
   "metadata": {},
   "outputs": [],
   "source": []
  },
  {
   "cell_type": "code",
   "execution_count": 2,
   "id": "e4c53f13-1f9c-41c7-9071-8e480fd14281",
   "metadata": {},
   "outputs": [],
   "source": [
    "from bokeh.plotting import figure, output_file, show\n",
    "\n",
    "x = [1, 2, 3, 4, 5]\n",
    "y = [6, 7, 2, 4, 5]\n",
    "\n",
    "p = figure(title=\"Simple Bokeh Plot\", x_axis_label='X-axis', y_axis_label='Y-axis')\n",
    "\n",
    "# Add glyphs\n",
    "p.line(x, y, legend_label='Line', line_width=2)\n",
    "p.circle(x, y, size=10, color=\"red\", legend_label='Circles')\n",
    "\n",
    "output_file(\"bokeh_plot.html\")\n",
    "show(p)"
   ]
  },
  {
   "cell_type": "code",
   "execution_count": null,
   "id": "fa3e19d8-3c48-4120-b97e-e81a66666821",
   "metadata": {},
   "outputs": [],
   "source": []
  },
  {
   "cell_type": "markdown",
   "id": "f76dff5a-d769-4971-b982-22cc7722adbf",
   "metadata": {},
   "source": [
    "## ANS_2"
   ]
  },
  {
   "cell_type": "markdown",
   "id": "f19c9f08-152c-4ee9-9dc6-93723f699c7c",
   "metadata": {},
   "source": [
    "In Bokeh, glyphs are the visual building blocks that represent data on a plot. Glyphs can be various shapes, lines, or markers that convey information about the underlying data. They allow you to create meaningful and informative visualizations by mapping data values to visual properties, such as position, size, color, and shape.\n",
    "\n",
    "To add glyphs to a Bokeh plot, you typically use the figure object's glyph methods (e.g., line(), circle(), square(), etc.) to specify how your data should be visually represented\n"
   ]
  },
  {
   "cell_type": "code",
   "execution_count": 1,
   "id": "66e035d5-eb56-4b9f-9ab7-da62f670c7a9",
   "metadata": {},
   "outputs": [],
   "source": [
    "import numpy as np\n",
    "from bokeh.plotting import figure, output_file, show\n",
    "\n",
    "# Generate random data\n",
    "x = np.linspace(0, 10, 100)\n",
    "y1 = np.sin(x)\n",
    "y2 = np.cos(x)\n",
    "sizes = np.random.randint(5, 15, size=len(x))\n",
    "colors = [\"red\" if y > 0 else \"blue\" for y in y1]\n",
    "\n",
    "# Create a figure\n",
    "p = figure(title=\"Glyph Example\", x_axis_label='X-axis', y_axis_label='Y-axis')\n",
    "\n",
    "# Add a line glyph\n",
    "p.line(x, y1, line_width=2, line_color=\"green\", legend_label='Sine Curve')\n",
    "\n",
    "# Add square glyphs\n",
    "p.square(x, y2, size=sizes, color=colors, fill_alpha=0.6, legend_label='Cosine Curve')\n",
    "\n",
    "# Specify output location\n",
    "output_file(\"glyph_example_2.html\")\n",
    "\n",
    "# Show the plot\n",
    "show(p)\n"
   ]
  },
  {
   "cell_type": "markdown",
   "id": "b6b3d4f9-24d8-488d-9e9c-5a26ba87a0f8",
   "metadata": {},
   "source": [
    "## Ans_3"
   ]
  },
  {
   "cell_type": "markdown",
   "id": "000b50e2-67ee-4a55-8703-f5b5669bcd6f",
   "metadata": {},
   "source": [
    "You can customize the appearance of a Bokeh plot, including the axes, title, and legend, using various properties and formatting options"
   ]
  },
  {
   "cell_type": "code",
   "execution_count": 12,
   "id": "812aab59-4d47-4758-abd0-010b0f67f5b1",
   "metadata": {},
   "outputs": [],
   "source": [
    "import numpy as np\n",
    "from bokeh.plotting import figure, output_file, show\n",
    "\n",
    "# Generate random data\n",
    "x = np.linspace(0, 10, 100)\n",
    "y = np.sin(x)\n",
    "\n",
    "# Create a figure\n",
    "p = figure(\n",
    "    title=\"Customized Bokeh Plot\",\n",
    "    x_axis_label='X-axis',\n",
    "    y_axis_label='Y-axis',\n",
    "     outer_width=800,\n",
    "     outer_height=500,\n",
    "    background_fill_color=\"lightgray\",\n",
    "    outline_line_color=\"white\",\n",
    "    border_fill_color=\"SkyBlue\",\n",
    ")\n",
    "\n",
    "# Add a line glyph\n",
    "p.line(x, y, line_width=2, line_color=\"blue\", legend_label='Sine Curve')\n",
    "\n",
    "# Add circle glyphs\n",
    "p.circle(x, y, size=10, color=\"red\", legend_label='Data Points')\n",
    "\n",
    "# Customize axes\n",
    "p.xaxis.axis_label_text_font_style = \"italic\"\n",
    "p.yaxis.axis_label_text_font_style = \"italic\"\n",
    "p.xaxis.axis_label_standoff = 20\n",
    "p.yaxis.axis_label_standoff = 20\n",
    "\n",
    "# Customize title\n",
    "p.title.text_font = \"times\"\n",
    "p.title.text_color = \"purple\"\n",
    "p.title.text_font_size = \"20pt\"\n",
    "\n",
    "# Customize legend\n",
    "p.legend.title = \"Legend\"\n",
    "p.legend.label_text_color = \"green\"\n",
    "p.legend.location = \"top_left\"\n",
    "\n",
    "# Styling grid lines\n",
    "p.xgrid.grid_line_color = \"gray\"\n",
    "p.ygrid.grid_line_color = \"gray\"\n",
    "p.grid.grid_line_dash = [6, 4]\n",
    "\n",
    "# Specify output location\n",
    "output_file(\"customized_bokeh_plot.html\")\n",
    "\n",
    "# Show the plot\n",
    "show(p)\n"
   ]
  },
  {
   "cell_type": "markdown",
   "id": "42bc94e1-900b-47f1-a4b6-1d1004de557e",
   "metadata": {},
   "source": [
    "## Ans_4"
   ]
  },
  {
   "cell_type": "markdown",
   "id": "1e097c98-01d6-4994-82dc-98e59fbdc7e0",
   "metadata": {},
   "source": [
    "A Bokeh server is a Python library that allows you to create and deploy interactive web applications with real-time updates. It enables you to build interactive data visualization applications that can be accessed by multiple users and dynamically updated as data changes. Bokeh server applications can range from simple interactive plots to complex dashboards and data exploration tools.\n",
    "\n",
    "Bokeh server applications are written in Python and can be run using the bokeh serve command"
   ]
  },
  {
   "cell_type": "code",
   "execution_count": null,
   "id": "de4105e6-4a55-4835-9c68-6fc571390dd9",
   "metadata": {},
   "outputs": [],
   "source": [
    "##   --------------  app.py ---------------------- ##\n",
    "from bokeh.plotting import figure, curdoc\n",
    "from bokeh.models import ColumnDataSource\n",
    "from bokeh.models.widgets import Slider\n",
    "import numpy as np\n",
    "\n",
    "# Prepare data and create a ColumnDataSource\n",
    "x = [1, 2, 3, 4, 5]\n",
    "y = np.exp(x)\n",
    "source = ColumnDataSource(data={'x': x, 'y': y})\n",
    "\n",
    "# Create a figure and add glyphs\n",
    "plot = figure(title=\"Real-Time Plot\")\n",
    "plot.line('x', 'y', source=source, line_width=2)\n",
    "\n",
    "# Create an interactive slider widget\n",
    "slider = Slider(start=0, end=10, value=5, step=1, title=\"Shift Y-values\")\n",
    "\n",
    "# Define callback function\n",
    "def update_data(attrname, old, new):\n",
    "    shift = slider.value\n",
    "    new_y = [val + shift for val in y]\n",
    "    source.data = {'x': x, 'y': new_y}\n",
    "\n",
    "# Connect slider widget to callback function\n",
    "slider.on_change('value', update_data)\n",
    "\n",
    "# Add widgets and plot to document\n",
    "curdoc().add_root(plot)\n",
    "curdoc().add_root(slider)"
   ]
  },
  {
   "cell_type": "code",
   "execution_count": null,
   "id": "d50676ac-bd54-45c5-a73c-b03176a555e7",
   "metadata": {},
   "outputs": [],
   "source": [
    "!bokeh serve --show bokeh_plot.py"
   ]
  },
  {
   "cell_type": "markdown",
   "id": "7cc4101c-abe7-48cf-9ae9-62be5aa0e501",
   "metadata": {},
   "source": [
    "## ANS_5"
   ]
  },
  {
   "cell_type": "markdown",
   "id": "c69fe1ec-6e95-4ab1-872d-521f3a33c0a0",
   "metadata": {},
   "source": [
    "Embedding a Bokeh plot into a web page or dashboard using Flask or Django involves integrating the Bokeh plot as part of your web application. "
   ]
  },
  {
   "cell_type": "code",
   "execution_count": null,
   "id": "a96a2eed-c90b-46b4-b86c-eb8ff7ca0509",
   "metadata": {},
   "outputs": [],
   "source": [
    "!pip install Flask"
   ]
  },
  {
   "cell_type": "code",
   "execution_count": null,
   "id": "3f5a627d-2724-4c5c-b219-89d99ded841b",
   "metadata": {},
   "outputs": [],
   "source": [
    "##   --------------  app.py ---------------------- ##\n",
    "from flask import Flask, render_template\n",
    "from bokeh.embed import server_document\n",
    "\n",
    "app = Flask(__name__)\n",
    "\n",
    "@app.route('/')\n",
    "def index():\n",
    "    script = server_document('http://localhost:5006/your_bokeh_app')\n",
    "    return render_template('index.html', script=script)\n",
    "\n",
    "if __name__ == '__main__':\n",
    "    app.run(debug=True)\n"
   ]
  },
  {
   "cell_type": "code",
   "execution_count": 3,
   "id": "b2e218ca-b147-43ff-99f0-27c7430187bf",
   "metadata": {},
   "outputs": [
    {
     "ename": "SyntaxError",
     "evalue": "invalid syntax (3533381404.py, line 2)",
     "output_type": "error",
     "traceback": [
      "\u001b[1;36m  Cell \u001b[1;32mIn[3], line 2\u001b[1;36m\u001b[0m\n\u001b[1;33m    <!DOCTYPE html>\u001b[0m\n\u001b[1;37m    ^\u001b[0m\n\u001b[1;31mSyntaxError\u001b[0m\u001b[1;31m:\u001b[0m invalid syntax\n"
     ]
    }
   ],
   "source": [
    "##--------------  index.html ---------------------- ##\n",
    "<!DOCTYPE html>\n",
    "<html>\n",
    "<head>\n",
    "    <title>Bokeh Plot in Flask</title>\n",
    "</head>\n",
    "<body>\n",
    "    <h1>Bokeh Plot in Flask</h1>\n",
    "    {{ script | safe }}\n",
    "</body>\n",
    "</html>"
   ]
  },
  {
   "cell_type": "markdown",
   "id": "4ec9be91-e218-4ed0-a903-7fe99fbfc156",
   "metadata": {},
   "source": [
    "!python app.py"
   ]
  },
  {
   "cell_type": "code",
   "execution_count": null,
   "id": "1a718fba-dfef-46e7-bb99-f1816d562d7c",
   "metadata": {},
   "outputs": [],
   "source": []
  }
 ],
 "metadata": {
  "kernelspec": {
   "display_name": "Python 3 (ipykernel)",
   "language": "python",
   "name": "python3"
  },
  "language_info": {
   "codemirror_mode": {
    "name": "ipython",
    "version": 3
   },
   "file_extension": ".py",
   "mimetype": "text/x-python",
   "name": "python",
   "nbconvert_exporter": "python",
   "pygments_lexer": "ipython3",
   "version": "3.10.11"
  }
 },
 "nbformat": 4,
 "nbformat_minor": 5
}
