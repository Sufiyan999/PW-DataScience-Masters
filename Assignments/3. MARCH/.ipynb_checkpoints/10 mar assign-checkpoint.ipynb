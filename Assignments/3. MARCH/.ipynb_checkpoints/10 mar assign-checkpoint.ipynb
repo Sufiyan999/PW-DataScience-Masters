{
 "cells": [
  {
   "cell_type": "markdown",
   "id": "a43af0f8",
   "metadata": {},
   "source": [
    "<a id=\"1\"></a> \n",
    " # <p style=\"padding:10px;background-color: #00004d ;margin:10;color: white ;font-family:newtimeroman;font-size:100%;text-align:center;border-radius: 10px 10px ;overflow:hidden;font-weight:50\">Ans 1 </p> "
   ]
  },
  {
   "cell_type": "markdown",
   "id": "138e5a6d-66cd-496c-9507-f6885d27930e",
   "metadata": {},
   "source": [
    "Estimation in statistics refers to the process of using sample data to estimate or make educated guesses about population parameters. Estimation plays a crucial role in inferential statistics, where we aim to draw conclusions about a population based on information obtained from a sample. Estimation statistics involves calculating point estimates and constructing confidence intervals to provide information about the likely range of values for a population parameter.\n",
    "\n",
    "There are two main aspects of estimation in statistics:\n",
    "\n",
    "1. **Point Estimation**: Point estimation involves using a single value, usually derived from the sample data, to estimate an unknown population parameter. The most common point estimate is the sample mean (\\( \\bar{x} \\)) used to estimate the population mean (\\( \\mu \\)). Other examples include using the sample proportion to estimate the population proportion, or using the sample standard deviation to estimate the population standard deviation.\n",
    "\n",
    "   Point estimates provide a single numerical value as an estimate, but they don't convey information about the uncertainty associated with the estimate.\n",
    "\n",
    "2. **Interval Estimation (Confidence Intervals)**: Interval estimation, also known as confidence interval estimation, provides a range of values within which the true population parameter is likely to fall. It addresses the uncertainty in estimation by providing a confidence level associated with the interval.\n",
    "\n",
    "   Confidence intervals are constructed around point estimates. For example, a 95% confidence interval for the population mean might be given as [45, 55], indicating that we are 95% confident that the true population mean lies between 45 and 55 based on our sample data.\n",
    "\n",
    "The process of estimation involves making assumptions about the sampling distribution of the statistic being used (such as the mean or proportion), applying mathematical formulas to calculate estimates, and considering the reliability of those estimates.\n",
    "\n",
    "Estimation is a fundamental aspect of statistical analysis and hypothesis testing. It allows researchers and analysts to make informed decisions and draw meaningful conclusions about a population when it might not be feasible or practical to gather data from the entire population."
   ]
  },
  {
   "cell_type": "markdown",
   "id": "f13821ba-1700-4525-9b47-f53b82a684b6",
   "metadata": {},
   "source": [
    "Point estimate and interval estimate are two key concepts in statistics used to estimate unknown population parameters based on sample data. Let's explore each of these concepts in detail:\n",
    "\n",
    "**Point Estimate**:\n",
    "\n",
    "A point estimate is a single value that is calculated from sample data and used to estimate an unknown parameter of a population. It provides a best guess or approximation of the true population parameter based on the information available in the sample.\n",
    "\n",
    "For example, let's say you want to estimate the average height (\\( \\mu \\)) of all students in a school. You collect a sample of heights from a random group of students and calculate the sample mean (\\( \\bar{x} \\)). This sample mean is your point estimate of the population mean height. It's a single value that you believe is the best guess for the true average height of all students in the school.\n",
    "\n",
    "However, a point estimate doesn't provide information about the accuracy or variability of the estimate. It's a single number and doesn't account for the uncertainty inherent in sampling.\n",
    "\n",
    "**Interval Estimate (Confidence Interval)**:\n",
    "\n",
    "An interval estimate, also known as a confidence interval, provides a range of values within which the true population parameter is likely to fall. It takes into account the variability of sample data and provides a measure of the uncertainty associated with the estimate.\n",
    "\n",
    "Confidence intervals are constructed around point estimates. They are expressed in the form of \"estimate ± margin of error\" and are often associated with a confidence level (such as 95%, 99%, etc.).\n",
    "\n",
    "For example, let's consider the same scenario of estimating the average height of all students in a school. Instead of providing a single point estimate, you might calculate a 95% confidence interval of [65 inches, 68 inches]. This interval estimate indicates that you are 95% confident that the true average height of all students lies between 65 inches and 68 inches based on your sample data.\n",
    "\n",
    "Confidence intervals are wider when there is more variability in the data or when a higher confidence level is desired. They provide a more informative way to present an estimate by considering the potential range of values that the true parameter might take.\n",
    "\n",
    "In summary, a point estimate is a single value used to approximate a population parameter, while an interval estimate (confidence interval) is a range of values that provides a level of confidence about where the true parameter might lie. Interval estimates are more informative as they incorporate uncertainty and variability inherent in sampling."
   ]
  },
  {
   "cell_type": "code",
   "execution_count": null,
   "id": "bdcfc1ba-61fc-45e6-8707-1147c7a6adcc",
   "metadata": {},
   "outputs": [],
   "source": []
  },
  {
   "cell_type": "markdown",
   "id": "25cace61",
   "metadata": {},
   "source": [
    "<a id=\"2\"></a> \n",
    " # <p style=\"padding:10px;background-color: #00004d ;margin:10;color: white ;font-family:newtimeroman;font-size:100%;text-align:center;border-radius: 10px 10px ;overflow:hidden;font-weight:50\">Ans 2 </p> "
   ]
  },
  {
   "cell_type": "code",
   "execution_count": 1,
   "id": "ba68c880",
   "metadata": {},
   "outputs": [],
   "source": [
    "def estimate_population_mean(sample_mean, sample_standard_deviation, sample_size):\n",
    "  \"\"\"\n",
    "  Estimate the population mean using a sample mean and standard deviation.\n",
    "\n",
    "  Args:\n",
    "    sample_mean: The sample mean.\n",
    "    sample_standard_deviation: The sample standard deviation.\n",
    "    sample_size: The sample size.\n",
    "\n",
    "  Returns:\n",
    "    The estimated population mean.\n",
    "  \"\"\"\n",
    "\n",
    "  estimated_population_mean = sample_mean + sample_standard_deviation * \\\n",
    "      math.sqrt(1.0 / sample_size)\n",
    "\n",
    "  return estimated_population_mean\n"
   ]
  },
  {
   "cell_type": "code",
   "execution_count": 3,
   "id": "a66ad489-d8a4-4811-b3f1-65614999e9af",
   "metadata": {},
   "outputs": [
    {
     "name": "stdout",
     "output_type": "stream",
     "text": [
      "10.2\n"
     ]
    }
   ],
   "source": [
    "import math\n",
    "\n",
    "sample_mean = 10\n",
    "sample_standard_deviation = 2\n",
    "sample_size = 100\n",
    "\n",
    "estimated_population_mean = estimate_population_mean(sample_mean, sample_standard_deviation, sample_size)\n",
    "\n",
    "print(estimated_population_mean)"
   ]
  },
  {
   "cell_type": "code",
   "execution_count": null,
   "id": "e82fd842-8a74-43a8-807f-627bcd0c7640",
   "metadata": {},
   "outputs": [],
   "source": []
  },
  {
   "cell_type": "markdown",
   "id": "8e326ce7",
   "metadata": {},
   "source": [
    "<a id=\"3\"></a> \n",
    " # <p style=\"padding:10px;background-color: #00004d ;margin:10;color: white ;font-family:newtimeroman;font-size:100%;text-align:center;border-radius: 10px 10px ;overflow:hidden;font-weight:50\">Ans 3 </p> "
   ]
  },
  {
   "cell_type": "markdown",
   "id": "7dd27b2d-39c3-4ca4-a2fa-b9950f485bf1",
   "metadata": {},
   "source": [
    "Hypothesis testing is a fundamental concept in statistics used to make decisions or draw conclusions about populations based on sample data. It involves setting up two competing hypotheses, the null hypothesis (\\(H_0\\)) and the alternative hypothesis (\\(H_a\\) or \\(H_1\\)), and then using sample data to determine whether there is enough evidence to reject the null hypothesis in favor of the alternative hypothesis.\n",
    "\n",
    "The main steps in a hypothesis testing procedure are as follows:\n",
    "\n",
    "1. **Formulate Hypotheses**:\n",
    "   - Null Hypothesis (\\(H_0\\)): This is the default or initial assumption. It states that there is no significant effect, difference, or relationship in the population. It often includes an equality statement (e.g., population mean = a specific value).\n",
    "   - Alternative Hypothesis (\\(H_a\\) or \\(H_1\\)): This is the statement you want to test. It asserts that there is a significant effect, difference, or relationship in the population. It could be a two-sided test (e.g., population mean ≠ a specific value) or one-sided test (e.g., population mean > a specific value or population mean < a specific value).\n",
    "\n",
    "2. **Collect and Analyze Data**:\n",
    "   - Gather sample data that is relevant to the hypothesis being tested. This data is used to draw conclusions about the population.\n",
    "\n",
    "3. **Compute Test Statistic**:\n",
    "   - Calculate a test statistic that quantifies the relationship between the sample data and the null hypothesis. The choice of test statistic depends on the hypothesis being tested and the type of data.\n",
    "\n",
    "4. **Determine the P-value**:\n",
    "   - The p-value is the probability of observing a test statistic as extreme as or more extreme than the one calculated, assuming the null hypothesis is true. It helps assess the strength of evidence against the null hypothesis.\n",
    "\n",
    "5. **Make a Decision**:\n",
    "   - Compare the p-value to a pre-defined significance level (\\(\\alpha\\)). If the p-value is less than or equal to \\(\\alpha\\), you reject the null hypothesis in favor of the alternative hypothesis. If the p-value is greater than \\(\\alpha\\), you fail to reject the null hypothesis.\n",
    "\n",
    "6. **Draw a Conclusion**:\n",
    "   - Based on the decision made in step 5, you draw a conclusion about the population. If the null hypothesis is rejected, you conclude that there is evidence to support the alternative hypothesis. If the null hypothesis is not rejected, you don't have enough evidence to support the alternative hypothesis.\n",
    "\n",
    "Hypothesis testing is a powerful tool for making informed decisions in various fields such as medicine, economics, psychology, and more. It helps researchers and analysts evaluate theories, validate claims, and make decisions based on empirical evidence."
   ]
  },
  {
   "cell_type": "markdown",
   "id": "a6bbbab9-8395-4db3-b8bf-bc788ec09dbd",
   "metadata": {},
   "source": [
    "Hypothesis testing is used for a variety of reasons across different fields and disciplines due to its ability to provide structured and evidence-based decision-making. Here are some key reasons why hypothesis testing is widely used:\n",
    "\n",
    "1. **Scientific Research and Experimentation**: Hypothesis testing is a cornerstone of scientific research. Researchers formulate hypotheses about relationships, effects, or differences in populations and use hypothesis testing to determine if their findings are statistically significant.\n",
    "\n",
    "2. **Evidence-Based Decision-Making**: Hypothesis testing provides a systematic approach to making decisions based on empirical evidence rather than intuition or anecdotal information. It helps ensure that decisions are grounded in data.\n",
    "\n",
    "3. **Quality Control and Process Improvement**: Industries and businesses use hypothesis testing to monitor and improve processes, products, and services. By testing hypotheses related to process changes, they can ensure that improvements lead to measurable benefits.\n",
    "\n",
    "4. **Medical and Healthcare Research**: Hypothesis testing is crucial in medical and healthcare research to assess the effectiveness of treatments, interventions, and medications. It helps determine whether the observed outcomes are statistically significant or due to chance.\n",
    "\n",
    "5. **Policy and Decision Analysis**: Governments and policymakers use hypothesis testing to evaluate the impact of policies, regulations, and interventions on various outcomes, such as public health, education, and economics.\n",
    "\n",
    "6. **Market Research and Consumer Behavior**: Businesses use hypothesis testing in market research to understand consumer behavior, preferences, and trends. This information guides marketing strategies and product development.\n",
    "\n",
    "7. **Social Sciences and Psychology**: Hypothesis testing is integral to social sciences and psychology research. It helps assess hypotheses about human behavior, attitudes, and social phenomena.\n",
    "\n",
    "8. **Environmental Studies**: In environmental studies, researchers use hypothesis testing to investigate the impact of factors like pollution, climate change, and habitat destruction on ecosystems.\n",
    "\n",
    "9. **A/B Testing**: In digital marketing and web development, A/B testing involves testing two versions (A and B) of a webpage or app to see which performs better. Hypothesis testing is used to determine if the observed differences are statistically significant.\n",
    "\n",
    "10. **Risk Assessment and Decision Under Uncertainty**: Hypothesis testing provides a structured framework for assessing risks and making decisions in situations where uncertainty is present.\n",
    "\n",
    "11. **Legal and Judicial Decisions**: In legal cases, hypothesis testing can be used to determine if evidence is statistically significant and can influence court decisions.\n",
    "\n",
    "Overall, hypothesis testing is used to systematically investigate questions, validate claims, and make informed decisions in a wide range of fields. It provides a rigorous and standardized approach to analyzing data and drawing conclusions based on evidence, ensuring that decisions are objective and backed by statistical analysis."
   ]
  },
  {
   "cell_type": "markdown",
   "id": "6a6712d8-4829-476f-80d2-0654ac661b2c",
   "metadata": {},
   "source": [
    "The importance of hypothesis testing in statistics and research cannot be overstated. It serves as a foundational and systematic approach to making informed decisions and drawing conclusions based on empirical evidence. Here are some key reasons highlighting the importance of hypothesis testing:\n",
    "\n",
    "1. **Evidence-Based Decision-Making**: Hypothesis testing provides a structured framework for making decisions based on data and evidence rather than intuition or anecdotal information. This helps ensure that decisions are well-founded and objective.\n",
    "\n",
    "2. **Scientific Rigor**: Hypothesis testing adds scientific rigor to research and experimentation. It allows researchers to assess the significance of findings and draw valid conclusions about relationships, effects, or differences in populations.\n",
    "\n",
    "3. **Theory Validation and Rejection**: Hypothesis testing enables researchers to validate or reject theories and hypotheses. This process contributes to the advancement of scientific knowledge by confirming or disproving proposed explanations for observed phenomena.\n",
    "\n",
    "4. **Quality Control and Process Improvement**: Industries use hypothesis testing to monitor and improve processes, products, and services. By testing hypotheses related to process changes, organizations can ensure that improvements are effective and yield desired outcomes.\n",
    "\n",
    "5. **Informed Policy Decisions**: Governments and policymakers use hypothesis testing to evaluate the impact of policies, regulations, and interventions. This informs decisions related to public health, education, economics, and more.\n",
    "\n",
    "6. **Medical and Healthcare Research**: In medical and healthcare research, hypothesis testing is vital for assessing the effectiveness of treatments and interventions. It helps determine whether observed outcomes are statistically significant or due to chance.\n",
    "\n",
    "7. **Risk Assessment and Management**: Hypothesis testing aids in assessing risks and making decisions under uncertainty. It provides a quantitative framework to evaluate potential outcomes and their associated probabilities.\n",
    "\n",
    "8. **Business Strategy and Marketing**: Businesses use hypothesis testing to understand consumer behavior, preferences, and trends. This information guides marketing strategies, product development, and business decision-making.\n",
    "\n",
    "9. **Legal and Judicial Proceedings**: In legal cases, hypothesis testing can provide statistical evidence that influences court decisions. It helps assess the significance of evidence and its impact on the case.\n",
    "\n",
    "10. **Academic Research**: Hypothesis testing is a fundamental part of academic research across various disciplines. It supports the generation of new knowledge and contributes to the advancement of scholarly fields.\n",
    "\n",
    "11. **Objectivity and Transparency**: Hypothesis testing enforces objectivity in decision-making by requiring explicit hypotheses, predefined significance levels, and clear criteria for drawing conclusions. This enhances transparency in the research process.\n",
    "\n",
    "12. **Continuous Improvement**: Organizations use hypothesis testing as part of a continuous improvement cycle. By evaluating the effects of changes and interventions, they can refine their processes and strategies over time.\n",
    "\n",
    "In summary, hypothesis testing plays a crucial role in scientific inquiry, decision-making, and research across diverse fields. It ensures that conclusions are drawn based on empirical evidence, enhances the reliability of findings, and contributes to the advancement of knowledge and understanding."
   ]
  },
  {
   "cell_type": "code",
   "execution_count": null,
   "id": "2674cd48-5779-4ff3-bdd8-5696b690ba31",
   "metadata": {},
   "outputs": [],
   "source": []
  },
  {
   "cell_type": "markdown",
   "id": "0dd75010",
   "metadata": {},
   "source": [
    "<a id=\"4\"></a> \n",
    " # <p style=\"padding:10px;background-color: #00004d ;margin:10;color: white ;font-family:newtimeroman;font-size:100%;text-align:center;border-radius: 10px 10px ;overflow:hidden;font-weight:50\">Ans 4 </p> "
   ]
  },
  {
   "cell_type": "markdown",
   "id": "2f5a30a1-cfa7-47cc-b607-91a316d45eee",
   "metadata": {},
   "source": [
    " example of a hypothesis statement that addresses whether the average weight of male college students is greater than the average weight of female college students:\n",
    "\n",
    "**Null Hypothesis (\\(H_0\\)):**\n",
    "The average weight of male college students is not greater than the average weight of female college students.\n",
    "H0 : μ (male) ≤ μ (female)\n",
    "\n",
    "**Alternative Hypothesis (\\(H_a\\) or \\(H_1\\)):**\n",
    "The average weight of male college students is greater than the average weight of female college students.\n",
    "Ha : μ (male) >  μ (female)\n",
    "\n",
    "In this hypothesis pair,  μ (male) represents the population mean weight of male college students, and  μ (female) represents the population mean weight of female college students.\n",
    "\n",
    "To test this hypothesis, you would collect data on the weights of male and female college students, calculate the sample means for each group, and perform a hypothesis test using appropriate statistical methods to determine whether there is enough evidence to reject the null hypothesis in favor of the alternative hypothesis. The result of the test would indicate whether there is a statistically significant difference in the average weights of male and female college students.\n",
    "\n",
    "The significance level is the probability of rejecting the null hypothesis when it is actually true. A commonly used significance level is 0.05. This means that we are willing to accept a 5% risk of rejecting the null hypothesis when it is actually true.\n",
    "\n",
    "If we reject the null hypothesis, we can conclude that there is a statistically significant difference in the average weights of male and female college students. However, we cannot conclude that the average weight of male college students is definitely greater than the average weight of female college students. It is also possible that the average weight of female college students is greater than the average weight of male college students. To be more confident about our conclusion, we would need to collect more data."
   ]
  },
  {
   "cell_type": "code",
   "execution_count": null,
   "id": "f8c69a16-fad6-4654-9a9f-bde4a251459a",
   "metadata": {},
   "outputs": [],
   "source": []
  },
  {
   "cell_type": "markdown",
   "id": "d66ae4b9-72dd-4b63-a4d5-ee30b067ed81",
   "metadata": {},
   "source": [
    "<a id=\"5\"></a> \n",
    " # <p style=\"padding:10px;background-color: #00004d ;margin:10;color: white ;font-family:newtimeroman;font-size:100%;text-align:center;border-radius: 10px 10px ;overflow:hidden;font-weight:50\">Ans 5 </p> "
   ]
  },
  {
   "cell_type": "code",
   "execution_count": 9,
   "id": "91402304-3a57-4216-a0c8-6bdcde123c20",
   "metadata": {},
   "outputs": [
    {
     "name": "stdout",
     "output_type": "stream",
     "text": [
      "Null Hypothesis :  The means of the two populations are equal.\n",
      "Alternative Hypothesis :  The means of the two populations are not equal.\n",
      "\n",
      "Sample 1: [25 30 35 40 45]\n",
      "Sample 2: [20 28 32 38 42]\n",
      "\n",
      "Calculated t-statistic: 0.5741692517632145\n",
      "P-value: 0.5816333668955778\n",
      "\n",
      "Conclusion: Fail to reject the null hypothesis. The means are not significantly different.\n"
     ]
    }
   ],
   "source": [
    "import numpy as np\n",
    "from scipy import stats\n",
    "\n",
    "# Sample data from two populations\n",
    "sample1 = np.array([25, 30, 35, 40, 45])\n",
    "sample2 = np.array([20, 28, 32, 38, 42])\n",
    "\n",
    "# Define hypotheses\n",
    "alpha = 0.05  # Significance level\n",
    "null_hypothesis = \"The means of the two populations are equal.\"\n",
    "alternative_hypothesis = \"The means of the two populations are not equal.\"\n",
    "\n",
    "# Conduct two-sample t-test\n",
    "t_statistic, p_value = stats.ttest_ind(sample1, sample2)\n",
    "\n",
    "# Compare p-value with significance level\n",
    "if p_value < alpha:\n",
    "    conclusion = \"Reject the null hypothesis. There is a significant difference between the means.\"\n",
    "else:\n",
    "    conclusion = \"Fail to reject the null hypothesis. The means are not significantly different.\"\n",
    "\n",
    "# Print results\n",
    "print(\"Null Hypothesis : \", null_hypothesis)\n",
    "print(\"Alternative Hypothesis : \", alternative_hypothesis)\n",
    "print(\"\\nSample 1:\", sample1)\n",
    "print(\"Sample 2:\", sample2)\n",
    "print(\"\\nCalculated t-statistic:\", t_statistic)\n",
    "print(\"P-value:\", p_value)\n",
    "print(\"\\nConclusion:\", conclusion)"
   ]
  },
  {
   "cell_type": "markdown",
   "id": "213562d7",
   "metadata": {},
   "source": [
    "<a id=\"5\"></a> \n",
    " # <p style=\"padding:10px;background-color: #00004d ;margin:10;color: white ;font-family:newtimeroman;font-size:100%;text-align:center;border-radius: 10px 10px ;overflow:hidden;font-weight:50\">Ans 6 </p> "
   ]
  },
  {
   "cell_type": "markdown",
   "id": "797a34c7-c8d5-4ded-bc22-5a3c691d0c8f",
   "metadata": {},
   "source": [
    "The null hypothesis (\\(H_0\\)) and alternative hypothesis (\\(H_a\\) or \\(H_1\\)) are two competing statements used in hypothesis testing to make decisions about population parameters based on sample data. They represent different viewpoints about the relationship, effect, or difference being investigated.\n",
    "\n",
    "**Null Hypothesis (\\(H_0\\)):**\n",
    "The null hypothesis is a statement of no effect, no difference, or no relationship in the population. It assumes that any observed differences or effects in the sample data are due to random chance or sampling variability. The null hypothesis is usually denoted as \\(H_0\\).\n",
    "\n",
    "For example, if you're testing whether a new drug has an effect on lowering blood pressure, the null hypothesis might state that the drug has no effect, and any observed changes in blood pressure are due to chance.\n",
    "\n",
    "**Alternative Hypothesis (\\(H_a\\) or \\(H_1\\)):**\n",
    "The alternative hypothesis is a statement that contradicts the null hypothesis. It asserts that there is a specific effect, difference, or relationship in the population that is not explained by random chance. The alternative hypothesis is what you're trying to gather evidence for, and it is often denoted as \\(H_a\\) or \\(H_1\\).\n",
    "\n",
    "Continuing with the drug example, the alternative hypothesis might state that the new drug does have a significant effect on lowering blood pressure.\n",
    "\n",
    "In hypothesis testing, the goal is to determine whether the evidence from the sample data provides enough support to reject the null hypothesis in favor of the alternative hypothesis. The decision is typically made by calculating a test statistic and comparing it to a threshold value or by calculating a p-value and comparing it to a pre-defined significance level (\\(\\alpha\\)). If the evidence is strong enough, you reject the null hypothesis and conclude in favor of the alternative hypothesis.\n",
    "\n",
    "In summary, the null hypothesis represents the default assumption of no effect, while the alternative hypothesis represents the claim you're trying to support with evidence. Hypothesis testing involves evaluating the strength of evidence to decide whether to accept or reject the null hypothesis in favor of the alternative hypothesis."
   ]
  },
  {
   "cell_type": "markdown",
   "id": "bc41255c-c658-4cf0-a2b6-cb2136c50c92",
   "metadata": {},
   "source": [
    "**examples of null and alternative hypotheses in different scenarios:**\n",
    "\n",
    "1. **Example: Coin Toss Experiment**\n",
    "   \n",
    "   **Null Hypothesis (H0):** The coin is fair, and the probability of getting heads (\\(p\\)) is 0.5.\n",
    "   \n",
    "   **Alternative Hypothesis (Ha):** The coin is biased, and the probability of getting heads (\\(p\\)) is not equal to 0.5.\n",
    "\n",
    "2. **Example: Drug Efficacy Study**\n",
    "   \n",
    "   **Null Hypothesis (H0):** The new drug has no effect on lowering blood pressure.\n",
    "   \n",
    "   **Alternative Hypothesis (Ha):** The new drug has a significant effect on lowering blood pressure.\n",
    "\n",
    "3. **Example: Educational Intervention**\n",
    "   \n",
    "   **Null Hypothesis (H0):** The educational intervention has no impact on student performance.\n",
    "   \n",
    "   **Alternative Hypothesis (Ha):** The educational intervention improves student performance.\n",
    "\n",
    "4. **Example: Market Research**\n",
    "   \n",
    "   **Null Hypothesis (H0):** The mean age of customers in two different markets is the same.\n",
    "   \n",
    "   **Alternative Hypothesis (Ha):** The mean age of customers in two different markets is not the same.\n",
    "\n",
    "5. **Example: Manufacturing Quality Control**\n",
    "   \n",
    "   **Null Hypothesis (H0):** The process produces items with a defect rate of 2% or less.\n",
    "   \n",
    "   **Alternative Hypothesis (Ha):** The process produces items with a defect rate greater than 2%.\n",
    "\n",
    "6. **Example: Gender and Salary Study**\n",
    "   \n",
    "   **Null Hypothesis (H0):** The mean salary of male employees is the same as the mean salary of female employees.\n",
    "   \n",
    "   **Alternative Hypothesis (Ha):** The mean salary of male employees is different from the mean salary of female employees.\n",
    "\n",
    "7. **Example: A/B Testing**\n",
    "   \n",
    "   **Null Hypothesis (H0):** The new website design has no impact on user engagement.\n",
    "   \n",
    "   **Alternative Hypothesis (Ha):** The new website design improves user engagement.\n",
    "\n",
    "8. **Example: Climate Change Study**\n",
    "   \n",
    "   **Null Hypothesis (H0):** There is no significant change in average global temperatures over the past century.\n",
    "   \n",
    "   **Alternative Hypothesis (Ha):** There is a significant change in average global temperatures over the past century.\n",
    "\n",
    "In each example, the null hypothesis represents the default assumption or the lack of an effect, while the alternative hypothesis represents the specific claim being tested. The goal of hypothesis testing is to gather evidence from the sample data to decide whether to accept or reject the null hypothesis in favor of the alternative hypothesis."
   ]
  },
  {
   "cell_type": "markdown",
   "id": "7a621210",
   "metadata": {},
   "source": [
    "<a id=\"6\"></a> \n",
    " # <p style=\"padding:10px;background-color: #00004d ;margin:10;color: white ;font-family:newtimeroman;font-size:100%;text-align:center;border-radius: 10px 10px ;overflow:hidden;font-weight:50\">Ans 7</p> "
   ]
  },
  {
   "cell_type": "markdown",
   "id": "f46211ae-69cc-4d6a-b832-e5b423508bcb",
   "metadata": {},
   "source": [
    "Hypothesis testing involves a structured process for making decisions about population parameters based on sample data. Here are the steps typically involved in hypothesis testing:\n",
    "\n",
    "1. **State the Hypotheses**:\n",
    "   - Formulate the null hypothesis (\\(H_0\\)) and the alternative hypothesis (\\(H_a\\) or \\(H_1\\)).\n",
    "   - The null hypothesis represents the default assumption, while the alternative hypothesis represents the claim you want to test.\n",
    "\n",
    "2. **Choose the Significance Level (\\(\\alpha\\))**:\n",
    "   - Select a significance level (\\(\\alpha\\)) that determines the threshold for considering evidence against the null hypothesis.\n",
    "   - Common choices include 0.05, 0.01, and 0.10.\n",
    "\n",
    "3. **Collect and Analyze Data**:\n",
    "   - Gather sample data that is relevant to the hypothesis being tested.\n",
    "   - Calculate sample statistics such as mean, standard deviation, etc.\n",
    "\n",
    "4. **Calculate the Test Statistic**:\n",
    "   - Calculate a test statistic that quantifies the relationship between the sample data and the null hypothesis.\n",
    "   - The choice of test statistic depends on the hypothesis being tested and the type of data.\n",
    "\n",
    "5. **Determine the Critical Region**:\n",
    "   - Based on the chosen significance level (\\(\\alpha\\)) and the test statistic distribution, determine the critical region(s) or critical value(s).\n",
    "   - The critical region is the range of test statistic values that lead to rejecting the null hypothesis.\n",
    "\n",
    "6. **Calculate the P-value**:\n",
    "   - Calculate the p-value, which is the probability of observing a test statistic as extreme as or more extreme than the one calculated, assuming the null hypothesis is true.\n",
    "\n",
    "7. **Make a Decision**:\n",
    "   - If the p-value is less than or equal to the chosen significance level (\\(\\alpha\\)), reject the null hypothesis in favor of the alternative hypothesis.\n",
    "   - If the p-value is greater than the chosen significance level, fail to reject the null hypothesis.\n",
    "\n",
    "8. **Draw a Conclusion**:\n",
    "   - Based on the decision made in step 7, draw a conclusion about the population.\n",
    "   - If the null hypothesis is rejected, conclude that there is evidence to support the alternative hypothesis.\n",
    "   - If the null hypothesis is not rejected, there is insufficient evidence to support the alternative hypothesis.\n",
    "\n",
    "9. **Interpretation**:\n",
    "   - Interpret the results in the context of the problem and the original hypotheses.\n",
    "   - Explain the implications of the conclusion for the population being studied.\n",
    "\n",
    "10. **Report the Findings**:\n",
    "    - Present the results, including the calculated test statistic, p-value, decision, and conclusion.\n",
    "    - Communicate the significance of the findings and their implications.\n",
    "\n",
    "Hypothesis testing is a systematic process that guides researchers and analysts in making informed decisions based on evidence from sample data. It ensures that conclusions are objective, transparent, and statistically grounded."
   ]
  },
  {
   "cell_type": "markdown",
   "id": "6eba0e49",
   "metadata": {},
   "source": [
    "<a id=\"7\"></a> \n",
    " # <p style=\"padding:10px;background-color: #00004d ;margin:10;color: white ;font-family:newtimeroman;font-size:100%;text-align:center;border-radius: 10px 10px ;overflow:hidden;font-weight:50\">Ans 8</p> "
   ]
  },
  {
   "cell_type": "markdown",
   "id": "45cf0132-9e43-45fc-aeac-8eea29f98f3c",
   "metadata": {},
   "source": [
    "The p-value, short for \"probability value,\" is a fundamental concept in hypothesis testing. It quantifies the strength of evidence against the null hypothesis (\\(H_0\\)) based on the observed sample data. The p-value represents the probability of obtaining a test statistic as extreme as or more extreme than the one calculated from the sample data, assuming that the null hypothesis is true.\n",
    "\n",
    "In simpler terms, the p-value answers the question: \"If the null hypothesis is true, what is the likelihood of observing data as extreme or more extreme than what we observed?\"\n",
    "\n",
    "**Significance of the p-value in Hypothesis Testing**:\n",
    "\n",
    "The p-value plays a critical role in hypothesis testing as it helps guide the decision-making process. Here's how the p-value is interpreted and its significance in hypothesis testing:\n",
    "\n",
    "1. **Decision Rule**:\n",
    "   - If the p-value is small (typically less than or equal to the chosen significance level, \\(\\alpha\\)), it suggests that the observed data is unlikely to occur if the null hypothesis is true. This raises doubts about the validity of the null hypothesis.\n",
    "   - If the p-value is large, it indicates that the observed data is reasonably consistent with the null hypothesis.\n",
    "\n",
    "2. **Rejection of Null Hypothesis**:\n",
    "   - The p-value is directly compared to the significance level (\\(\\alpha\\)) to make a decision about the null hypothesis.\n",
    "   - If p-value \\(\\leq\\) \\(\\alpha\\), there is strong evidence to reject the null hypothesis in favor of the alternative hypothesis (\\(H_a\\) or \\(H_1\\)).\n",
    "   - A small p-value indicates that the observed data is inconsistent with the null hypothesis, supporting the alternative hypothesis.\n",
    "\n",
    "3. **Fail to Reject Null Hypothesis**:\n",
    "   - If p-value > \\(\\alpha\\), there is insufficient evidence to reject the null hypothesis.\n",
    "   - A large p-value suggests that the observed data is consistent with the null hypothesis and that the observed differences or effects could have occurred due to random chance.\n",
    "\n",
    "4. **Continuum of Evidence**:\n",
    "   - The p-value provides a continuum of evidence rather than a binary decision. A very small p-value (e.g., 0.001) indicates strong evidence against the null hypothesis, while a moderately small p-value (e.g., 0.05) suggests weaker evidence.\n",
    "\n",
    "5. **Precision of Evidence**:\n",
    "   - The p-value reflects the precision of the evidence. A very small p-value suggests more precise evidence against the null hypothesis, while a larger p-value suggests less precise evidence.\n",
    "\n",
    "In summary, the p-value helps researchers quantify the level of evidence against the null hypothesis. It provides a standardized way to assess the strength of the observed data's support for the alternative hypothesis. A small p-value indicates strong evidence against the null hypothesis and supports the alternative hypothesis, leading to the rejection of the null hypothesis."
   ]
  },
  {
   "cell_type": "markdown",
   "id": "15442682",
   "metadata": {},
   "source": [
    " "
   ]
  },
  {
   "cell_type": "code",
   "execution_count": null,
   "id": "7929eb19",
   "metadata": {},
   "outputs": [],
   "source": []
  },
  {
   "cell_type": "markdown",
   "id": "985687e9",
   "metadata": {},
   "source": [
    "<a id=\"9\"></a> \n",
    " # <p style=\"padding:10px;background-color: #00004d ;margin:10;color: white ;font-family:newtimeroman;font-size:100%;text-align:center;border-radius: 10px 10px ;overflow:hidden;font-weight:50\">Ans 9 </p> "
   ]
  },
  {
   "cell_type": "code",
   "execution_count": null,
   "id": "51c2684b",
   "metadata": {},
   "outputs": [],
   "source": [
    "\n"
   ]
  },
  {
   "cell_type": "code",
   "execution_count": 15,
   "id": "c91fc0ba-69dd-4bbf-a682-0984545d9cde",
   "metadata": {},
   "outputs": [
    {
     "data": {
      "image/png": "[encoded data removed]",
      "text/plain": [
       "<Figure size 800x600 with 1 Axes>"
      ]
     },
     "metadata": {},
     "output_type": "display_data"
    }
   ],
   "source": [
    "import numpy as np\n",
    "import matplotlib.pyplot as plt\n",
    "from scipy import stats\n",
    "\n",
    "# Degrees of freedom\n",
    "df = 10\n",
    "\n",
    "# Generate x values\n",
    "x = np.linspace(-4, 4, 400)\n",
    "\n",
    "# Calculate the probability density function (PDF) for the t-distribution\n",
    "pdf = stats.t.pdf(x, df)\n",
    "\n",
    "# Create the plot\n",
    "plt.figure(figsize=(8, 6))\n",
    "plt.plot(x, pdf, label=f\"df = {df}\")\n",
    "plt.title(\"Student's t-Distribution\")\n",
    "plt.xlabel(\"x\")\n",
    "plt.ylabel(\"PDF\")\n",
    "plt.legend()\n",
    "plt.grid(True ,linestyle =\"--\")\n",
    "plt.show()\n"
   ]
  },
  {
   "cell_type": "markdown",
   "id": "55ba393a",
   "metadata": {},
   "source": [
    "<a id=\"10\"></a> \n",
    " # <p style=\"padding:10px;background-color: #00004d ;margin:10;color: white ;font-family:newtimeroman;font-size:100%;text-align:center;border-radius: 10px 10px ;overflow:hidden;font-weight:50\">Ans 10 </p> "
   ]
  },
  {
   "cell_type": "code",
   "execution_count": 17,
   "id": "82f23843-7708-4a8f-a029-1bf2f8c9ae2b",
   "metadata": {},
   "outputs": [
    {
     "name": "stdout",
     "output_type": "stream",
     "text": [
      "Sample 1: [51.68222829 54.98630269 42.47535968 53.45322592 45.55433935 28.18758733\n",
      " 64.65322438 44.99142186 53.48752322 63.21437008 40.10564019 67.19582205\n",
      " 43.33104293 52.24721932 54.39008951 42.80729403 54.44156054 41.23243582\n",
      " 40.76655238 41.41200358 50.25924687 46.989678   52.73821199 60.45872204\n",
      " 53.40252481 59.1708567  44.85317516 36.98286334 44.6789351  48.90419684\n",
      " 57.2438532  39.61002581 46.31600115 31.85556639 53.10186461 37.88442352\n",
      " 57.51792769 54.67318698 53.11321925 45.17923932 63.11659631 53.62751621\n",
      " 24.97297666 42.30168339 48.04266986 42.65785394 43.80422575 61.98229171\n",
      " 39.73947629 36.3003502 ]\n",
      "\n",
      "Sample 2: [24.25043199 63.86286012 43.70959761 59.1911429  22.10861508 50.91167732\n",
      " 34.49347956 33.66503843 33.33989172 36.28490963 56.42725901 46.58827759\n",
      " 42.11167371 50.94827056 57.83718146 62.09738529 37.56764036 31.81283847\n",
      " 55.546357   29.32624132 42.16713318 47.19823409 57.96160949 43.01259347\n",
      " 38.46024553 33.64386044 51.13314561 69.54216152 49.79875826 32.71772993\n",
      " 37.88181615 39.93940556 44.65756666 50.18075986 38.27587282 70.62550945\n",
      " 34.00968208 36.3304445  45.58602962 41.81155829 41.998741   34.16642539\n",
      " 41.73295964 34.21971966 49.67783282 30.19676767 38.14639028 59.58069064\n",
      " 20.39888915 65.44068401]\n"
     ]
    }
   ],
   "source": [
    "import numpy as np\n",
    "from scipy import stats\n",
    "\n",
    "# Generate two random samples of equal size\n",
    "sample1 = np.random.normal(loc=50, scale=10, size=50)  # Sample 1\n",
    "sample2 = np.random.normal(loc=45, scale=12, size=50)  # Sample 2\n",
    "\n",
    "print(\"Sample 1:\", sample1)\n",
    "print(\"\\nSample 2:\", sample2)"
   ]
  },
  {
   "cell_type": "code",
   "execution_count": 18,
   "id": "b79e8b06-802e-4e79-8203-e74eeb336d2f",
   "metadata": {},
   "outputs": [
    {
     "name": "stdout",
     "output_type": "stream",
     "text": [
      "Null Hypothesis: The population means are equal.\n",
      "Calculated t-statistic: 2.0382801217071504\n",
      "P-value: 0.04421587140219457\n",
      "Conclusion: Reject the null hypothesis. The population means are not equal.\n"
     ]
    }
   ],
   "source": [
    "# Define hypotheses\n",
    "null_hypothesis = \"The population means are equal.\"\n",
    "\n",
    "# Conduct two-sample t-test\n",
    "t_statistic, p_value = stats.ttest_ind(sample1, sample2)\n",
    "\n",
    "# Significance level\n",
    "alpha = 0.05\n",
    "\n",
    "# Compare p-value with significance level\n",
    "if p_value < alpha:\n",
    "    conclusion = \"Reject the null hypothesis. The population means are not equal.\"\n",
    "else:\n",
    "    conclusion = \"Fail to reject the null hypothesis. The population means are equal.\"\n",
    "\n",
    "# Print results\n",
    "print(\"Null Hypothesis:\", null_hypothesis)\n",
    "print(\"Calculated t-statistic:\", t_statistic)\n",
    "print(\"P-value:\", p_value)\n",
    "print(\"Conclusion:\", conclusion)"
   ]
  },
  {
   "cell_type": "markdown",
   "id": "386ea9fa",
   "metadata": {},
   "source": [
    "<a id=\"11\"></a> \n",
    " # <p style=\"padding:10px;background-color: #00004d ;margin:10;color: white ;font-family:newtimeroman;font-size:100%;text-align:center;border-radius: 10px 10px ;overflow:hidden;font-weight:50\">Ans 11 </p> "
   ]
  },
  {
   "cell_type": "markdown",
   "id": "28454fb9-7588-4494-a93e-f5d7c7a4cbc3",
   "metadata": {},
   "source": [
    "Student's t-distribution, often referred to simply as the t-distribution, is a probability distribution used in statistics. It is a key distribution in hypothesis testing and confidence interval estimation when the sample size is small or when the population standard deviation is unknown. The t-distribution arises when estimating the population mean from a small sample.\n",
    "\n",
    "The t-distribution is similar in shape to the standard normal distribution (z-distribution), but its shape depends on a parameter called the degrees of freedom (\\(df\\)). The degrees of freedom determine the shape of the distribution and how \"spread out\" its values are.\n",
    "\n",
    "Key characteristics of the t-distribution:\n",
    "\n",
    "1. **Bell-Shaped Curve**: The t-distribution is bell-shaped and symmetric around its mean, like the normal distribution.\n",
    "\n",
    "2. **Tail Heaviness**: The t-distribution has heavier tails compared to the normal distribution. This means that extreme values are more likely to occur in the tails of the distribution, especially for small sample sizes.\n",
    "\n",
    "3. **Dependence on Degrees of Freedom**: The degrees of freedom (\\(df\\)) parameter influences the shape of the t-distribution. As the degrees of freedom increase, the t-distribution approaches the standard normal distribution.\n",
    "\n",
    "4. **Center and Spread**: The center of the t-distribution is at 0, like the standard normal distribution. However, the spread (standard deviation) of the t-distribution is greater than 1 and increases as the degrees of freedom decrease.\n"
   ]
  },
  {
   "cell_type": "markdown",
   "id": "b40c0b29-eb6c-4312-b9f7-e7fc9bb5e862",
   "metadata": {},
   "source": [
    "The t-distribution is used in scenarios where statistical inferences are being made about population means based on sample data, especially when the sample size is small or when the population standard deviation is unknown. Here are some situations in which the t-distribution is commonly used:\n",
    "\n",
    "1. **Small Sample Sizes**: When dealing with small sample sizes (typically \\(n\\) < 30), the t-distribution is used instead of the standard normal distribution (z-distribution) to account for the added variability and uncertainty introduced by limited data.\n",
    "\n",
    "2. **Unknown Population Standard Deviation**: When the population standard deviation (\\(\\sigma\\)) is unknown and needs to be estimated from the sample, the t-distribution is used for more accurate statistical analysis.\n",
    "\n",
    "3. **Hypothesis Testing**: In hypothesis testing scenarios, if you're comparing a sample mean to a hypothesized population mean and the sample size is small or the population standard deviation is unknown, you would use the t-distribution to calculate the test statistic and determine the p-value.\n",
    "\n",
    "4. **Confidence Intervals**: When constructing confidence intervals for population means using small samples or when the population standard deviation is unknown, the t-distribution is used to calculate the margin of error.\n",
    "\n",
    "5. **Comparing Means**: When comparing the means of two independent samples, especially if the sample sizes are small or the population standard deviations are unknown, the t-distribution is used to calculate the test statistic for significance testing.\n",
    "\n",
    "6. **Regression Analysis**: In linear regression, t-distributions are used for hypothesis tests related to regression coefficients and their significance.\n",
    "\n",
    "7. **Quality Control**: In quality control and process improvement, when working with small samples to assess process performance or control charts, the t-distribution is used to analyze data.\n",
    "\n",
    "8. **Education and Training**: The t-distribution is introduced in statistics education to teach students how to handle situations involving small samples and unknown population parameters.\n",
    "\n",
    "Remember that as the sample size (\\(n\\)) increases, the t-distribution approaches the standard normal distribution (z-distribution). Therefore, when working with larger sample sizes, it's often appropriate to use the z-distribution for calculations. However, for smaller sample sizes or situations where population parameters are uncertain, the t-distribution provides a more accurate representation of the underlying probability distribution.\n",
    "\n",
    "Overall, the t-distribution plays a crucial role in statistics by providing a distribution that accounts for the uncertainty introduced by working with small samples or unknown population parameters. It's a foundational tool for making statistical inferences based on limited data."
   ]
  },
  {
   "cell_type": "markdown",
   "id": "7d99643c",
   "metadata": {},
   "source": [
    "<a id=\"12\"></a> \n",
    " # <p style=\"padding:10px;background-color: #00004d ;margin:10;color: white ;font-family:newtimeroman;font-size:100%;text-align:center;border-radius: 10px 10px ;overflow:hidden;font-weight:50\">Ans 12 </p> "
   ]
  },
  {
   "cell_type": "markdown",
   "id": "7622e145-a293-40e3-bdf9-f4fd05f8fe19",
   "metadata": {},
   "source": [
    "The t-statistic (or t-score) is a measure used in hypothesis testing to assess whether the sample data provides enough evidence to reject the null hypothesis in favor of the alternative hypothesis. It quantifies the difference between the sample statistic (usually a sample mean) and the hypothesized population parameter (usually the population mean) in terms of the estimated standard error of the sample statistic.\n",
    "\n",
    "The t-statistic is calculated using the formula:\n",
    "\n",
    "t= ( Sample Mean − Hypothesized Mean) / Standard Error of the Mean\n",
    "\n",
    "Here's a breakdown of the components:\n",
    "\n",
    "- **Sample Mean**: The average value calculated from the sample data.\n",
    "\n",
    "- **Hypothesized Mean**: The mean value stated in the null hypothesis.\n",
    "\n",
    "- **Standard Error of the Mean**: An estimate of the standard deviation of the sample mean. It takes into account the variability of the sample data and is calculated as the sample standard deviation divided by the square root of the sample size.\n",
    "The t-statistic measures the difference between the sample mean and the hypothesized mean in terms of the estimated standard error of the sample mean. It helps assess whether the observed difference is statistically significant, allowing for the comparison of sample means with the population mean stated in the null hypothesis.\n",
    "\n",
    "The t-statisti measures how many standard errors the sample mean is away from the hypothesized population mean under the assumption that the null hypothesis is true. A larger t-statistic indicates a larger difference between the sample mean and the hypothesized mean, suggesting stronger evidence against the null hypothesis.\n",
    "\n",
    "In hypothesis testing, the t-statistic is compared to a critical value from the t-distribution or the p-value associated with the t-distribution to determine whether the observed difference between the sample and the hypothesized mean is statistically significant. If the t-statistic is far from zero and the associated p-value is small, it indicates that the sample data provides evidence to reject the null hypothesis.\n",
    "\n",
    "In summary, the t-statistic helps quantify how unusual or extreme the sample mean is compared to the hypothesized mean, taking into account the variability of the data. It plays a central role in hypothesis testing by allowing us to make informed decisions about the validity of the null hypothesis based on sample data."
   ]
  },
  {
   "cell_type": "markdown",
   "id": "475ac174-9787-4e1c-94d1-01db9749d27f",
   "metadata": {},
   "source": [
    "The formula for calculating the t-statistic is as follows:\n",
    "\n",
    "\n",
    "\n",
    "\n",
    "Where:\n",
    "- Sample Mean is the average value calculated from the sample data.\n",
    "- Hypothesized Mean is the mean value stated in the null hypothesis.\n",
    "- Standard Error of the Mean is an estimate of the standard deviation of the sample mean. It is calculated as the sample standard deviation divided by the square root of the sample size.\n",
    "\n"
   ]
  },
  {
   "cell_type": "markdown",
   "id": "f291367b",
   "metadata": {},
   "source": [
    "<a id=\"13\"></a> \n",
    " # <p style=\"padding:10px;background-color: #00004d ;margin:10;color: white ;font-family:newtimeroman;font-size:100%;text-align:center;border-radius: 10px 10px ;overflow:hidden;font-weight:50\">Ans 13 </p> "
   ]
  },
  {
   "cell_type": "code",
   "execution_count": 22,
   "id": "127c9294",
   "metadata": {},
   "outputs": [
    {
     "name": "stdout",
     "output_type": "stream",
     "text": [
      "95% Confidence Interval : ($ 486.14, $ 513.86)\n"
     ]
    }
   ],
   "source": [
    "import scipy.stats as stats\n",
    "import numpy as np\n",
    "\n",
    "# Given values\n",
    "sample_mean = 500  # Sample mean revenue\n",
    "sample_std = 50    # Sample standard deviation\n",
    "sample_size = 50   # Sample size\n",
    "confidence_level = 0.95  # 95% confidence level\n",
    "\n",
    "# Calculate the critical value (Z-score) for the given confidence level\n",
    "critical_value = stats.norm.ppf(1 - (1 - confidence_level) / 2)\n",
    "\n",
    "# Calculate the margin of error\n",
    "margin_of_error = critical_value * (sample_std / np.sqrt(sample_size))\n",
    "\n",
    "# Calculate the confidence interval\n",
    "lower_bound = sample_mean - margin_of_error\n",
    "upper_bound = sample_mean + margin_of_error\n",
    "\n",
    "# Print the confidence interval\n",
    "print(f\"95% Confidence Interval : ($ {lower_bound:.2f}, $ {upper_bound:.2f})\")"
   ]
  },
  {
   "cell_type": "markdown",
   "id": "a85233bb",
   "metadata": {},
   "source": [
    "<a id=\"14\"></a> \n",
    " # <p style=\"padding:10px;background-color: #00004d ;margin:10;color: white ;font-family:newtimeroman;font-size:100%;text-align:center;border-radius: 10px 10px ;overflow:hidden;font-weight:50\">Ans 14 </p> "
   ]
  },
  {
   "cell_type": "code",
   "execution_count": 24,
   "id": "86fba677",
   "metadata": {},
   "outputs": [
    {
     "name": "stdout",
     "output_type": "stream",
     "text": [
      "Calculated t-statistic: -6.666666666666667\n",
      "Degrees of Freedom: 99\n",
      "Critical Value: 1.9842169515086827\n",
      "Conclusion: Reject the null hypothesis. The decrease in blood pressure is statistically significant.\n"
     ]
    }
   ],
   "source": [
    "import scipy.stats as stats\n",
    "\n",
    "# Given values\n",
    "sample_mean = 8      # Sample mean decrease\n",
    "sample_std = 3       # Sample standard deviation\n",
    "sample_size = 100    # Sample size\n",
    "hypothesized_mean = 10  # Hypothesized mean decrease\n",
    "alpha = 0.05         # Significance level\n",
    "\n",
    "# Calculate the t-statistic\n",
    "t_statistic = (sample_mean - hypothesized_mean) / (sample_std / (sample_size ** 0.5))\n",
    "\n",
    "# Calculate the degrees of freedom\n",
    "degrees_of_freedom = sample_size - 1\n",
    "\n",
    "# Calculate the critical value (two-tailed test)\n",
    "critical_value = stats.t.ppf(1 - alpha / 2, df=degrees_of_freedom)\n",
    "\n",
    "# Compare t-statistic with critical value\n",
    "if t_statistic < -critical_value or t_statistic > critical_value:\n",
    "    conclusion = \"Reject the null hypothesis. The decrease in blood pressure is statistically significant.\"\n",
    "else:\n",
    "    conclusion = \"Fail to reject the null hypothesis. The decrease in blood pressure is not statistically significant.\"\n",
    "\n",
    "# Print results\n",
    "print(\"Calculated t-statistic:\", t_statistic)\n",
    "print(\"Degrees of Freedom:\", degrees_of_freedom)\n",
    "print(\"Critical Value:\", critical_value)\n",
    "print(\"Conclusion:\", conclusion)\n"
   ]
  },
  {
   "cell_type": "markdown",
   "id": "a0fcf05b",
   "metadata": {},
   "source": [
    "<a id=\"15\"></a> \n",
    " # <p style=\"padding:10px;background-color: #00004d ;margin:10;color: white ;font-family:newtimeroman;font-size:100%;text-align:center;border-radius: 10px 10px ;overflow:hidden;font-weight:50\">Ans 15 </p> "
   ]
  },
  {
   "cell_type": "code",
   "execution_count": 25,
   "id": "a241be49",
   "metadata": {},
   "outputs": [
    {
     "name": "stdout",
     "output_type": "stream",
     "text": [
      "Calculated t-statistic: -2.0000000000000018\n",
      "Degrees of Freedom: 24\n",
      "Critical Value: -2.4921594731575762\n",
      "Conclusion: Reject the null hypothesis. The mean weight is statistically less than 5 pounds.\n"
     ]
    }
   ],
   "source": [
    "import scipy.stats as stats\n",
    "\n",
    "# Given values\n",
    "hypothesized_mean = 5    # Hypothesized mean weight\n",
    "sample_mean = 4.8        # Sample mean weight\n",
    "sample_std = 0.5         # Sample standard deviation\n",
    "sample_size = 25         # Sample size\n",
    "alpha = 0.01             # Significance level\n",
    "\n",
    "# Calculate the t-statistic\n",
    "t_statistic = (sample_mean - hypothesized_mean) / (sample_std / (sample_size ** 0.5))\n",
    "\n",
    "# Calculate the degrees of freedom\n",
    "degrees_of_freedom = sample_size - 1\n",
    "\n",
    "# Calculate the critical value (one-tailed test)\n",
    "critical_value = stats.t.ppf(alpha, df=degrees_of_freedom)\n",
    "\n",
    "# Compare t-statistic with critical value\n",
    "if t_statistic < -critical_value:\n",
    "    conclusion = \"Reject the null hypothesis. The mean weight is statistically less than 5 pounds.\"\n",
    "else:\n",
    "    conclusion = \"Fail to reject the null hypothesis. The mean weight is not statistically less than 5 pounds.\"\n",
    "\n",
    "# Print results\n",
    "print(\"Calculated t-statistic:\", t_statistic)\n",
    "print(\"Degrees of Freedom:\", degrees_of_freedom)\n",
    "print(\"Critical Value:\", critical_value)\n",
    "print(\"Conclusion:\", conclusion)"
   ]
  },
  {
   "cell_type": "markdown",
   "id": "dec5bacc",
   "metadata": {},
   "source": [
    "<a id=\"16\"></a> \n",
    " # <p style=\"padding:10px;background-color: #00004d ;margin:10;color: white ;font-family:newtimeroman;font-size:100%;text-align:center;border-radius: 10px 10px ;overflow:hidden;font-weight:50\">Ans 16 </p> "
   ]
  },
  {
   "cell_type": "code",
   "execution_count": 26,
   "id": "f12d05cc",
   "metadata": {},
   "outputs": [
    {
     "name": "stdout",
     "output_type": "stream",
     "text": [
      "Calculated t-statistic: 2.2511258444537408\n",
      "Degrees of Freedom: 68\n",
      "Critical Value: 2.6500812928169553\n",
      "Conclusion: Fail to reject the null hypothesis. The population means are equal.\n"
     ]
    }
   ],
   "source": [
    "import scipy.stats as stats\n",
    "\n",
    "# Given values for group 1\n",
    "sample_mean_1 = 80      # Sample mean of the first group\n",
    "sample_std_1 = 10       # Sample standard deviation of the first group\n",
    "sample_size_1 = 30      # Sample size of the first group\n",
    "\n",
    "# Given values for group 2\n",
    "sample_mean_2 = 75      # Sample mean of the second group\n",
    "sample_std_2 = 8        # Sample standard deviation of the second group\n",
    "sample_size_2 = 40      # Sample size of the second group\n",
    "\n",
    "# Significance level\n",
    "alpha = 0.01            # Significance level\n",
    "\n",
    "# Calculate the pooled standard error\n",
    "pooled_std_error = ((sample_std_1 ** 2 / sample_size_1) + (sample_std_2 ** 2 / sample_size_2)) ** 0.5\n",
    "\n",
    "# Calculate the t-statistic\n",
    "t_statistic = (sample_mean_1 - sample_mean_2) / pooled_std_error\n",
    "\n",
    "# Calculate the degrees of freedom\n",
    "degrees_of_freedom = sample_size_1 + sample_size_2 - 2\n",
    "\n",
    "# Calculate the critical value (two-tailed test)\n",
    "critical_value = stats.t.ppf(1 - alpha / 2, df=degrees_of_freedom)\n",
    "\n",
    "# Compare t-statistic with critical value\n",
    "if abs(t_statistic) > critical_value:\n",
    "    conclusion = \"Reject the null hypothesis. The population means are not equal.\"\n",
    "else:\n",
    "    conclusion = \"Fail to reject the null hypothesis. The population means are equal.\"\n",
    "\n",
    "# Print results\n",
    "print(\"Calculated t-statistic:\", t_statistic)\n",
    "print(\"Degrees of Freedom:\", degrees_of_freedom)\n",
    "print(\"Critical Value:\", critical_value)\n",
    "print(\"Conclusion:\", conclusion)\n"
   ]
  },
  {
   "cell_type": "markdown",
   "id": "184a31af",
   "metadata": {},
   "source": [
    "<a id=\"17\"></a> \n",
    " # <p style=\"padding:10px;background-color: #00004d ;margin:10;color: white ;font-family:newtimeroman;font-size:100%;text-align:center;border-radius: 10px 10px ;overflow:hidden;font-weight:50\">Ans 17 </p> "
   ]
  },
  {
   "cell_type": "code",
   "execution_count": 28,
   "id": "76415fc2",
   "metadata": {},
   "outputs": [
    {
     "name": "stdout",
     "output_type": "stream",
     "text": [
      "99% Confidence Interval: (3.4315, 4.5685)\n"
     ]
    }
   ],
   "source": [
    "import scipy.stats as stats\n",
    "import numpy as np\n",
    "\n",
    "# Given values\n",
    "sample_mean = 4      # Sample mean number of ads watched\n",
    "sample_std = 1.5     # Sample standard deviation\n",
    "sample_size = 50     # Sample size\n",
    "confidence_level = 0.99  # 99% confidence level\n",
    "\n",
    "# Calculate the degrees of freedom\n",
    "degrees_of_freedom = sample_size - 1\n",
    "\n",
    "# Calculate the critical value (t-score) for the given confidence level and degrees of freedom\n",
    "critical_value = stats.t.ppf(1 - (1 - confidence_level) / 2, df=degrees_of_freedom)\n",
    "\n",
    "# Calculate the margin of error\n",
    "margin_of_error = critical_value * (sample_std / np.sqrt(sample_size))\n",
    "\n",
    "# Calculate the confidence interval\n",
    "lower_bound = sample_mean - margin_of_error\n",
    "upper_bound = sample_mean + margin_of_error\n",
    "\n",
    "# Print the confidence interval\n",
    "print(f\"99% Confidence Interval: ({lower_bound:.4f}, {upper_bound:.4f})\")"
   ]
  },
  {
   "cell_type": "code",
   "execution_count": null,
   "id": "047bfdc8-b711-45b2-abfb-970fa860a6e5",
   "metadata": {},
   "outputs": [],
   "source": []
  },
  {
   "cell_type": "code",
   "execution_count": null,
   "id": "fb259539-83d8-461f-ad30-1aed60bc8a55",
   "metadata": {},
   "outputs": [],
   "source": []
  },
  {
   "cell_type": "markdown",
   "id": "c9de689a-bf67-4eac-b8fd-ff00f93fbe40",
   "metadata": {},
   "source": [
    "## END"
   ]
  },
  {
   "cell_type": "code",
   "execution_count": null,
   "id": "70aa8a36-678e-4217-94cb-013b00e9e947",
   "metadata": {},
   "outputs": [],
   "source": []
  },
  {
   "cell_type": "code",
   "execution_count": null,
   "id": "44401129-8568-4160-ae1e-bbfea802f996",
   "metadata": {},
   "outputs": [],
   "source": []
  },
  {
   "cell_type": "code",
   "execution_count": null,
   "id": "81793f68-2dcb-4961-b987-9cef5f22e551",
   "metadata": {},
   "outputs": [],
   "source": []
  },
  {
   "cell_type": "code",
   "execution_count": null,
   "id": "94546778-978d-444f-8125-8609e161e0c9",
   "metadata": {},
   "outputs": [],
   "source": []
  },
  {
   "cell_type": "code",
   "execution_count": null,
   "id": "264384ee-aed5-4ae3-bacc-96e96e70c4f2",
   "metadata": {},
   "outputs": [],
   "source": []
  },
  {
   "cell_type": "code",
   "execution_count": null,
   "id": "029de612-6ada-4ae1-8379-edc3c60fdbfc",
   "metadata": {},
   "outputs": [],
   "source": []
  }
 ],
 "metadata": {
  "kernelspec": {
   "display_name": "Python 3 (ipykernel)",
   "language": "python",
   "name": "python3"
  },
  "language_info": {
   "codemirror_mode": {
    "name": "ipython",
    "version": 3
   },
   "file_extension": ".py",
   "mimetype": "text/x-python",
   "name": "python",
   "nbconvert_exporter": "python",
   "pygments_lexer": "ipython3",
   "version": "3.10.11"
  }
 },
 "nbformat": 4,
 "nbformat_minor": 5
}
