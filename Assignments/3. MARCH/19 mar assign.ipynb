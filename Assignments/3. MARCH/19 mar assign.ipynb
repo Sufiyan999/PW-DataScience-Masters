{
 "cells": [
  {
   "cell_type": "markdown",
   "id": "c5f3af42",
   "metadata": {},
   "source": [
    "<a id=\"1\"></a> \n",
    " # <p style=\"padding:10px;background-color: #00004d ;margin:10;color: white ;font-family:newtimeroman;font-size:100%;text-align:center;border-radius: 10px 10px ;overflow:hidden;font-weight:50\">Ans 1 </p> "
   ]
  },
  {
   "cell_type": "markdown",
   "id": "b13dd2d8",
   "metadata": {},
   "source": [
    "Min-Max scaling, also known as Min-Max normalization, is a data preprocessing technique used to scale numerical features within a specific range. The goal of Min-Max scaling is to transform the features so that they all have values between a minimum and maximum value, typically between 0 and 1. This scaling method is particularly useful when features have different ranges and units, which can impact the performance of machine learning algorithms.\n",
    "\n",
    "The formula for Min-Max scaling is as follows:\n",
    "\n",
    "\\[ Scaled Value = (Original Value- Min Value) / (Max Value - Min Value) \\]\n",
    "\n",
    "Where:\n",
    "\n",
    "- \\(Original Value) is the original value of the feature.\n",
    "\n",
    "- \\(Min Value\\) is the minimum value of the feature in the dataset.\n",
    "\n",
    "- \\(Max Value\\) is the maximum value of the feature in the dataset.\n",
    "\n",
    "The scaled value will fall between 0 and 1, inclusive.\n",
    "\n",
    "**Importance of Min-Max Scaling:**\n",
    "Min-Max scaling is important for several reasons:\n",
    "1. **Feature Scaling:** It ensures that all features are on the same scale, preventing features with larger magnitudes from dominating those with smaller magnitudes during the modeling process.\n",
    "2. **Algorithms Sensitivity:** Some machine learning algorithms are sensitive to the scale of the input features. Min-Max scaling helps these algorithms perform better.\n",
    "3. **Convergence:** Scaling can help algorithms converge faster during training, particularly for optimization algorithms that rely on gradient descent.\n",
    "\n",
    "**Example:**\n",
    "Consider a dataset with a feature representing age, where ages range from 20 to 60. By applying Min-Max scaling, you can transform the age values to a range between 0 and 1. If the age of a person is 30, after scaling, it would become:\n",
    "\n",
    "\\[ Scaled Age = {30 - 20} / {60 - 20} = 0.25 \\]\n",
    "\n",
    "And if another person's age is 45, after scaling, it would become:\n",
    "\\[ Scaled Age = {45 - 20} / {60 - 20} = 0.5 \\]\n",
    "\n",
    "Min-Max scaling is a simple yet effective technique to ensure that numerical features are appropriately scaled for machine learning algorithms, helping to improve the overall performance and convergence of the models."
   ]
  },
  {
   "cell_type": "markdown",
   "id": "c26c7108",
   "metadata": {},
   "source": [
    "Min-Max scaling is used in data preprocessing to transform numerical features within a specific range (typically between 0 and 1), making them suitable for machine learning algorithms. Here's how Min-Max scaling is used in the data preprocessing pipeline:\n",
    "\n",
    "1. **Data Collection:** Gather the raw data, including both the features (attributes) and the target variable.\n",
    "\n",
    "2. **Data Exploration:** Understand the distribution and range of each feature. Some features may have different scales, which can lead to biased results in machine learning algorithms.\n",
    "\n",
    "3. **Min-Max Scaling:** Apply Min-Max scaling to each numerical feature using the formula:\n",
    "\n",
    "\\[ Scaled Value = (Original Value- Min Value) / (Max Value - Min Value) \\]\n",
    "\n",
    "   where the minimum and maximum values are calculated based on the entire dataset or specific feature.\n",
    "\n",
    "4. **Normalized Data:** After applying Min-Max scaling, the features are transformed to a common scale between 0 and 1.\n",
    "\n",
    "5. **Feature Transformation:** Replace the original feature values with the scaled values. This ensures that all features are on the same scale, mitigating the influence of features with larger magnitudes.\n",
    "\n",
    "6. **Machine Learning:** Use the scaled features as input to machine learning algorithms. Algorithms that use distance metrics, such as K-nearest neighbors or clustering algorithms, benefit from scaled features, as features with smaller scales are not overshadowed by those with larger scales.\n",
    "\n",
    "7. **Model Evaluation:** Train and evaluate the machine learning models using the scaled features. The scaled features help algorithms converge faster and improve overall model performance.\n",
    "\n",
    "8. **Prediction:** When making predictions on new data, remember to scale the new data using the same scaling factors derived from the training data."
   ]
  },
  {
   "cell_type": "markdown",
   "id": "74f601d9",
   "metadata": {},
   "source": []
  },
  {
   "cell_type": "code",
   "execution_count": 4,
   "id": "96b4dcce",
   "metadata": {},
   "outputs": [
    {
     "name": "stdout",
     "output_type": "stream",
     "text": [
      "Original Data : \n",
      "    Age  Income\n",
      "0   25   50000\n",
      "1   30   60000\n",
      "2   35   75000\n",
      "3   40   80000\n",
      "4   45   90000\n",
      "\n",
      "\n",
      "Scaled Data : \n",
      "     Age  Income\n",
      "0  0.00   0.000\n",
      "1  0.25   0.250\n",
      "2  0.50   0.625\n",
      "3  0.75   0.750\n",
      "4  1.00   1.000\n"
     ]
    }
   ],
   "source": [
    "from sklearn.preprocessing import MinMaxScaler\n",
    "import pandas as pd\n",
    "\n",
    "# Create a sample dataset\n",
    "data = {'Age': [25, 30, 35, 40, 45],\n",
    "        'Income': [50000, 60000, 75000, 80000, 90000]}\n",
    "df = pd.DataFrame(data)\n",
    "\n",
    "# Initialize MinMaxScaler\n",
    "scaler = MinMaxScaler()\n",
    "\n",
    "# Fit and transform the data\n",
    "scaled_data = scaler.fit_transform(df)\n",
    "\n",
    "# Convert scaled data back to DataFrame\n",
    "scaled_df = pd.DataFrame(scaled_data, columns=df.columns)\n",
    "print(\"Original Data : \\n\", df)\n",
    "print(\"\\n\\nScaled Data : \\n\", scaled_df)"
   ]
  },
  {
   "cell_type": "markdown",
   "id": "051c5b9b",
   "metadata": {},
   "source": [
    "In this example, the `MinMaxScaler` scales the 'Age' and 'Income' features to the range [0, 1].\n",
    "\n",
    "Min-Max scaling is a crucial step in data preprocessing to ensure that features are appropriately scaled, leading to better performance and more reliable results from machine learning algorithms."
   ]
  },
  {
   "cell_type": "markdown",
   "id": "861e0434",
   "metadata": {},
   "source": [
    "<a id=\"2\"></a> \n",
    " # <p style=\"padding:10px;background-color: #00004d ;margin:10;color: white ;font-family:newtimeroman;font-size:100%;text-align:center;border-radius: 10px 10px ;overflow:hidden;font-weight:50\">Ans 2 </p> "
   ]
  },
  {
   "cell_type": "code",
   "execution_count": null,
   "id": "a84d4bb3",
   "metadata": {},
   "outputs": [],
   "source": []
  },
  {
   "cell_type": "code",
   "execution_count": null,
   "id": "84f91363",
   "metadata": {},
   "outputs": [],
   "source": []
  },
  {
   "cell_type": "markdown",
   "id": "9a12911d",
   "metadata": {},
   "source": [
    "<a id=\"3\"></a> \n",
    " # <p style=\"padding:10px;background-color: #00004d ;margin:10;color: white ;font-family:newtimeroman;font-size:100%;text-align:center;border-radius: 10px 10px ;overflow:hidden;font-weight:50\">Ans 3 </p> "
   ]
  },
  {
   "cell_type": "code",
   "execution_count": null,
   "id": "08ac6a68",
   "metadata": {},
   "outputs": [],
   "source": []
  },
  {
   "cell_type": "code",
   "execution_count": null,
   "id": "eec82d44",
   "metadata": {},
   "outputs": [],
   "source": []
  },
  {
   "cell_type": "markdown",
   "id": "4e128b07",
   "metadata": {},
   "source": [
    "<a id=\"4\"></a> \n",
    " # <p style=\"padding:10px;background-color: #00004d ;margin:10;color: white ;font-family:newtimeroman;font-size:100%;text-align:center;border-radius: 10px 10px ;overflow:hidden;font-weight:50\">Ans 4 </p> "
   ]
  },
  {
   "cell_type": "code",
   "execution_count": null,
   "id": "941d261c",
   "metadata": {},
   "outputs": [],
   "source": []
  },
  {
   "cell_type": "code",
   "execution_count": null,
   "id": "e6550806",
   "metadata": {},
   "outputs": [],
   "source": []
  },
  {
   "cell_type": "markdown",
   "id": "441ea8e4",
   "metadata": {},
   "source": [
    "<a id=\"5\"></a> \n",
    " # <p style=\"padding:10px;background-color: #00004d ;margin:10;color: white ;font-family:newtimeroman;font-size:100%;text-align:center;border-radius: 10px 10px ;overflow:hidden;font-weight:50\">Ans 5 </p> "
   ]
  },
  {
   "cell_type": "code",
   "execution_count": null,
   "id": "15e46594",
   "metadata": {},
   "outputs": [],
   "source": []
  },
  {
   "cell_type": "code",
   "execution_count": null,
   "id": "b2f48680",
   "metadata": {},
   "outputs": [],
   "source": []
  },
  {
   "cell_type": "markdown",
   "id": "ee547ca4",
   "metadata": {},
   "source": [
    "<a id=\"6\"></a> \n",
    " # <p style=\"padding:10px;background-color: #00004d ;margin:10;color: white ;font-family:newtimeroman;font-size:100%;text-align:center;border-radius: 10px 10px ;overflow:hidden;font-weight:50\">Ans 6 </p> "
   ]
  },
  {
   "cell_type": "code",
   "execution_count": null,
   "id": "6024b24b",
   "metadata": {},
   "outputs": [],
   "source": []
  },
  {
   "cell_type": "code",
   "execution_count": null,
   "id": "c9ff93ca",
   "metadata": {},
   "outputs": [],
   "source": []
  },
  {
   "cell_type": "markdown",
   "id": "7d178c4c",
   "metadata": {},
   "source": [
    "<a id=\"7\"></a> \n",
    " # <p style=\"padding:10px;background-color: #00004d ;margin:10;color: white ;font-family:newtimeroman;font-size:100%;text-align:center;border-radius: 10px 10px ;overflow:hidden;font-weight:50\">Ans 7 </p> "
   ]
  },
  {
   "cell_type": "code",
   "execution_count": null,
   "id": "51268351",
   "metadata": {},
   "outputs": [],
   "source": []
  },
  {
   "cell_type": "code",
   "execution_count": null,
   "id": "9aad8c62",
   "metadata": {},
   "outputs": [],
   "source": []
  },
  {
   "cell_type": "markdown",
   "id": "9c4a8255",
   "metadata": {},
   "source": [
    "<a id=\"8\"></a> \n",
    " # <p style=\"padding:10px;background-color: #00004d ;margin:10;color: white ;font-family:newtimeroman;font-size:100%;text-align:center;border-radius: 10px 10px ;overflow:hidden;font-weight:50\">Ans 8 </p> "
   ]
  },
  {
   "cell_type": "code",
   "execution_count": null,
   "id": "5916da70",
   "metadata": {},
   "outputs": [],
   "source": []
  },
  {
   "cell_type": "code",
   "execution_count": null,
   "id": "239f3f04",
   "metadata": {},
   "outputs": [],
   "source": []
  },
  {
   "cell_type": "markdown",
   "id": "d1ee2581",
   "metadata": {},
   "source": [
    "<a id=\"10\"></a> \n",
    " # <p style=\"padding:10px;background-color: #01DFD7 ;margin:10;color: white ;font-family:newtimeroman;font-size:100%;text-align:center;border-radius: 10px 10px ;overflow:hidden;font-weight:50\">END</p> "
   ]
  },
  {
   "cell_type": "code",
   "execution_count": null,
   "id": "a304b69e",
   "metadata": {},
   "outputs": [],
   "source": []
  },
  {
   "cell_type": "code",
   "execution_count": null,
   "id": "5738f7fc",
   "metadata": {},
   "outputs": [],
   "source": []
  },
  {
   "cell_type": "code",
   "execution_count": null,
   "id": "aa38d9e7",
   "metadata": {},
   "outputs": [],
   "source": []
  },
  {
   "cell_type": "code",
   "execution_count": null,
   "id": "2d76589c",
   "metadata": {},
   "outputs": [],
   "source": []
  },
  {
   "cell_type": "code",
   "execution_count": null,
   "id": "d24dd264",
   "metadata": {},
   "outputs": [],
   "source": []
  }
 ],
 "metadata": {
  "kernelspec": {
   "display_name": "Python 3 (ipykernel)",
   "language": "python",
   "name": "python3"
  },
  "language_info": {
   "codemirror_mode": {
    "name": "ipython",
    "version": 3
   },
   "file_extension": ".py",
   "mimetype": "text/x-python",
   "name": "python",
   "nbconvert_exporter": "python",
   "pygments_lexer": "ipython3",
   "version": "3.10.11"
  }
 },
 "nbformat": 4,
 "nbformat_minor": 5
}
