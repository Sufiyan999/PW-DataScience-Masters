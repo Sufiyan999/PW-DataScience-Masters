{
 "cells": [
  {
   "cell_type": "markdown",
   "id": "829be84c",
   "metadata": {},
   "source": [
    "<div style=\"background-color: rgb(30, 5, 119); color: white; padding: 20px; position: relative; text-align: center;\">\n",
    "  <h1 style=\"font-size: 50px; color: rgb(153, 17, 216); padding: 20px;\"><b>PYTHON</b></h1>\n",
    "  <br>\n",
    "  <a href=\"#\" style=\"position: absolute; bottom: 10px; left: 10px; font-size: 10px; color: white; text-decoration: none;\">\n",
    "    <img src=\"https://github.com/fluidicon.png\" alt=\"GitHub\" style=\"vertical-align: middle; width: 20px; height: 20px;\">  Question Bank \n",
    "  </a>\n",
    "  <p style=\"position: absolute; bottom: 5px; right: 65px; font-size: 10px;\">29 Jan 2023</p>\n",
    "\n",
    "  <a href=\"https://colab.research.google.com/github/Sufiyan999/PW-DataScience-Masters/blob/master/Assignments/01.%20%20%20%20JANUARY/29_jan_assign.ipynb\" target=\"_blank\" style=\"position: reative; bottom: 10px; left: 10px; font-size: 10px; color: white; text-decoration: none;\">\n",
    "    <img src=\"https://colab.research.google.com/assets/colab-badge.svg\" alt=\"Open In Colab\" style=\"vertical-align: middle;\"> \n",
    "  </a>\n",
    "</div>\n",
    "<div style=\"background-color: rgb(30, 5, 119); color: white; padding: 20px; position: relative; text-align: center;\">\n",
    "  <a href=\"#\" style=\"position: absolute; bottom: 10px; left: 10px; font-size: 10px; color: white; text-decoration: none;\">\n",
    "    <img src=\"https://github.com/fluidicon.png\" alt=\"GitHub\" style=\"vertical-align: middle; width: 20px; height: 20px;\"> Answer Sheet \n",
    "  </a>\n",
    "</div>\n",
    "<div style=\"background-color: rgb(30, 5, 119); padding: 20px; position: relative; border-radius: 0 0 40px 40px;\">\n",
    "</div>\n",
    "\n"
   ]
  },
  {
   "cell_type": "markdown",
   "id": "143de3c6",
   "metadata": {},
   "source": [
    "<!--  -->"
   ]
  },
  {
   "cell_type": "markdown",
   "id": "bf0588b9",
   "metadata": {},
   "source": [
    "## <a id=\"1\"></a> <p style=\"padding:10px;background-color: #00004d ;margin:10;color: white ;font-family:newtimeroman;font-size:100%;text-align:center;border-radius: 10px 10px ;overflow:hidden;font-weight:50\"> Ans 1 </p> \n",
    "\n",
    "    "
   ]
  },
  {
   "cell_type": "markdown",
   "id": "46132ff0-2022-46ac-b863-abb55b10ea28",
   "metadata": {},
   "source": [
    "\n",
    " Guido van Rossum developed  pyhton programming language.\n"
   ]
  },
  {
   "cell_type": "markdown",
   "id": "62ce7181-ccdb-4d60-8519-1ef1cfacab75",
   "metadata": {},
   "source": [
    "## <a id=\"2\"></a> <p style=\"padding:10px;background-color: #00004d ;margin:10;color: white ;font-family:newtimeroman;font-size:100%;text-align:center;border-radius: 10px 10px ;overflow:hidden;font-weight:50\"> Ans 2 </p> \n",
    "\n",
    "pyhton is dynamacally typed language supported with Garbage-Collection. It supports multiple programming paradigms, including structured ,object-oriented and functional programming. "
   ]
  },
  {
   "cell_type": "markdown",
   "id": "c1379b07-e192-4d7e-95d9-31286c1bc31a",
   "metadata": {},
   "source": [
    "## <a id=\"3\"></a> <p style=\"padding:10px;background-color: #00004d ;margin:10;color: white ;font-family:newtimeroman;font-size:100%;text-align:center;border-radius: 10px 10px ;overflow:hidden;font-weight:50\"> Ans 3 </p> \n",
    "\n",
    "    \n",
    "\n",
    "yes, pyhton is case sensitive language (i.e it treats uppercase and lowercase characters differently) dealing with identifiers.and a user must uniquely name these identifiers.\n"
   ]
  },
  {
   "cell_type": "markdown",
   "id": "cfa10e61-9b6c-46c2-bd09-2878cead253f",
   "metadata": {},
   "source": [
    "## <a id=\"4\"></a> <p style=\"padding:10px;background-color: #00004d ;margin:10;color: white ;font-family:newtimeroman;font-size:100%;text-align:center;border-radius: 10px 10px ;overflow:hidden;font-weight:50\"> Ans 4 </p> \n",
    "\n",
    "    \n",
    "\n",
    "Extensions :-  .py , .pyi , .pyc, .pyd, .ipynb(Interective Python Notebook) \n"
   ]
  },
  {
   "cell_type": "markdown",
   "id": "7e578636-337d-4b44-8de8-44606ce4e94a",
   "metadata": {},
   "source": [
    "## <a id=\"5\"></a> <p style=\"padding:10px;background-color: #00004d ;margin:10;color: white ;font-family:newtimeroman;font-size:100%;text-align:center;border-radius: 10px 10px ;overflow:hidden;font-weight:50\"> Ans 5 </p> \n",
    "\n",
    "    \n",
    "\n",
    "Python is a purely interpreted language ,unlike java(hybrid) and c/c++ (compiled).so its code is not converted directely into machine code.it is  converted into byte code and run on virtual machine"
   ]
  },
  {
   "cell_type": "markdown",
   "id": "4eeacda7-04d3-4f1b-8d9f-508558af97df",
   "metadata": {},
   "source": [
    "## <a id=\"6\"></a> <p style=\"padding:10px;background-color: #00004d ;margin:10;color: white ;font-family:newtimeroman;font-size:100%;text-align:center;border-radius: 10px 10px ;overflow:hidden;font-weight:50\"> Ans 6 </p> \n",
    "\n",
    "     \n",
    "\n",
    "A block is a loggically connected group of program statements that is treated as a unit. main blocks in python are: - A module , function body and  class defination."
   ]
  },
  {
   "cell_type": "markdown",
   "id": "bb1a781c-7dd3-416c-8d67-1d9e39414036",
   "metadata": {},
   "source": [
    "## <a id=\"7\"></a> <p style=\"padding:10px;background-color: #00004d ;margin:10;color: white ;font-family:newtimeroman;font-size:100%;text-align:center;border-radius: 10px 10px ;overflow:hidden;font-weight:50\"> Ans 7 </p> \n",
    "\n",
    "    \n",
    "\n",
    "\"#\"  (hash symbol) is used for single line comments in python"
   ]
  },
  {
   "cell_type": "markdown",
   "id": "9173e043-ccc4-410a-8583-2ceffdee9b01",
   "metadata": {},
   "source": [
    "## <a id=\"8\"></a> <p style=\"padding:10px;background-color: #00004d ;margin:10;color: white ;font-family:newtimeroman;font-size:100%;text-align:center;border-radius: 10px 10px ;overflow:hidden;font-weight:50\"> Ans 8 </p> \n",
    "\n",
    "    \n",
    "\n",
    "sys.version (in module sys) will show the version of python.\n",
    "\n",
    "using python_version() function ->(from platform import python_version)\n",
    "\n",
    "using Python - V Command in terminal\n"
   ]
  },
  {
   "cell_type": "markdown",
   "id": "0f714580-a091-4105-8653-f0dddc98fc2d",
   "metadata": {},
   "source": [
    "## <a id=\"9\"></a> <p style=\"padding:10px;background-color: #00004d ;margin:10;color: white ;font-family:newtimeroman;font-size:100%;text-align:center;border-radius: 10px 10px ;overflow:hidden;font-weight:50\"> Ans 9 </p> \n",
    "\n",
    "    \n",
    "\n",
    "lambda \n",
    "\n",
    "function created with it is called lambda functions"
   ]
  },
  {
   "cell_type": "markdown",
   "id": "24534c0e-5971-4502-a4de-a2d249d30a41",
   "metadata": {},
   "source": [
    "## <a id=\"10\"></a> <p style=\"padding:10px;background-color: #00004d ;margin:10;color: white ;font-family:newtimeroman;font-size:100%;text-align:center;border-radius: 10px 10px ;overflow:hidden;font-weight:50\"> Ans 10 </p> \n",
    "\n",
    "    \n",
    "\n",
    "pip stand for \"preffered installer program\"."
   ]
  },
  {
   "cell_type": "markdown",
   "id": "29d0f989-f704-44c4-8787-089d90cdfd2a",
   "metadata": {},
   "source": [
    "## <a id=\"11\"></a> <p style=\"padding:10px;background-color: #00004d ;margin:10;color: white ;font-family:newtimeroman;font-size:100%;text-align:center;border-radius: 10px 10px ;overflow:hidden;font-weight:50\"> Ans 11 </p> \n",
    "\n",
    "    \n",
    "\n",
    "print() , str() , input() , int() , abs() , pow(), dir(), max() , len() , help()"
   ]
  },
  {
   "cell_type": "markdown",
   "id": "e39529a0-8d40-42ef-91c3-2d5a6da44a7b",
   "metadata": {},
   "source": [
    "## <a id=\"12\"></a> <p style=\"padding:10px;background-color: #00004d ;margin:10;color: white ;font-family:newtimeroman;font-size:100%;text-align:center;border-radius: 10px 10px ;overflow:hidden;font-weight:50\"> Ans 12 </p> \n",
    "\n",
    "    \n",
    "\n",
    "An identifier can have a maximum length of 79 charcters in python . "
   ]
  },
  {
   "cell_type": "markdown",
   "id": "eed4e7ba-2be7-4e2c-b665-4af278403adf",
   "metadata": {},
   "source": [
    "## <a id=\"13\"></a> <p style=\"padding:10px;background-color: #00004d ;margin:10;color: white ;font-family:newtimeroman;font-size:100%;text-align:center;border-radius: 10px 10px ;overflow:hidden;font-weight:50\"> Ans 13 </p> \n",
    "\n",
    "    \n",
    "\n",
    "it is open-source ,supports both object-orinted and functional programming, high level and general purpose language, has intuitive syntax (i.e easy to learn,write ,read and debug) and vast libraray support."
   ]
  },
  {
   "cell_type": "markdown",
   "id": "0b9acecd-bb05-478e-aab5-7c654750c4ae",
   "metadata": {},
   "source": [
    "## <a id=\"14\"></a> <p style=\"padding:10px;background-color: #00004d ;margin:10;color: white ;font-family:newtimeroman;font-size:100%;text-align:center;border-radius: 10px 10px ;overflow:hidden;font-weight:50\"> Ans 14 </p> \n",
    "\n",
    "    \n",
    "\n",
    "In Python memory allocation and deallocation method is automatic as the pyhton developers created a garbage collector for python so that the user does not have to do manual garbage collection , the interpreter  automatically deletes that object and free-up heap memory when  the object has no refernce left in the  program i.e. no reference is pointing to that object "
   ]
  },
  {
   "cell_type": "markdown",
   "id": "c0572e16-fd7c-44b0-9e6e-48d313c63d8c",
   "metadata": {},
   "source": [
    "## <a id=\"15\"></a> <p style=\"padding:10px;background-color: #00004d ;margin:10;color: white ;font-family:newtimeroman;font-size:100%;text-align:center;border-radius: 10px 10px ;overflow:hidden;font-weight:50\"> Ans 15 </p> \n",
    "\n",
    "     \n",
    "\n",
    "python can be downloaded from this web - > https://www.python.org/downloads/\n",
    "now run its exe file and install python in your windows pc.\n",
    "\n",
    "path variable setup\n",
    "1. right click to this pc,go to properties\n",
    "2. click on the advanced system settings\n",
    "3. click on the enviroment variables botton \n",
    "4. in system variables section,select the path variable and click on edit.\n",
    "5. click on new and entering python's install directly \n",
    "\n",
    "now python  can be accesed globally in you system.\n",
    "\n",
    "open command promt and type 'python' or 'Python -V' to check it,\n"
   ]
  },
  {
   "cell_type": "markdown",
   "id": "7498b527-1e0d-459a-b3be-36987702889a",
   "metadata": {},
   "source": [
    "## <a id=\"16\"></a> <p style=\"padding:10px;background-color: #00004d ;margin:10;color: white ;font-family:newtimeroman;font-size:100%;text-align:center;border-radius: 10px 10px ;overflow:hidden;font-weight:50\"> Ans 16 </p> \n",
    "\n",
    "    \n",
    "\n",
    "In many programming languages the indentation is just a convention to increse the readability of code only, but in python indettaion is a part of syntax it uses indentation to indicate a block of code."
   ]
  },
  {
   "cell_type": "markdown",
   "id": "d90d70e6",
   "metadata": {},
   "source": []
  },
  {
   "cell_type": "markdown",
   "id": "9eb7bd99",
   "metadata": {},
   "source": [
    "## <a id=\"100\"></a><p style=\"padding:10px;background-color: #01DFD7 ;margin:10;color: white ;font-family:newtimeroman;font-size:100%;text-align:center;border-radius: 10px 10px ;overflow:hidden;font-weight:50\">END</p> \n"
   ]
  },
  {
   "cell_type": "code",
   "execution_count": null,
   "id": "0d063386-a9cd-4790-b8f9-6e9841976da0",
   "metadata": {},
   "outputs": [],
   "source": []
  },
  {
   "cell_type": "code",
   "execution_count": null,
   "id": "3de9138d-ed2d-47e1-8357-639285ba5c2d",
   "metadata": {},
   "outputs": [],
   "source": []
  }
 ],
 "metadata": {
  "kernelspec": {
   "display_name": "Python 3 (ipykernel)",
   "language": "python",
   "name": "python3"
  },
  "language_info": {
   "codemirror_mode": {
    "name": "ipython",
    "version": 3
   },
   "file_extension": ".py",
   "mimetype": "text/x-python",
   "name": "python",
   "nbconvert_exporter": "python",
   "pygments_lexer": "ipython3",
   "version": "3.11.5"
  },
  "widgets": {
   "application/vnd.jupyter.widget-state+json": {
    "state": {},
    "version_major": 2,
    "version_minor": 0
   }
  }
 },
 "nbformat": 4,
 "nbformat_minor": 5
}
