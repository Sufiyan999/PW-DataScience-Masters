{
 "cells": [
  {
   "cell_type": "markdown",
   "id": "d659363e-b0cd-466a-86fe-207d5cd570f6",
   "metadata": {},
   "source": [
    "Ans_1."
   ]
  },
  {
   "cell_type": "markdown",
   "id": "83f89186-9c04-4e2e-9031-8db92847d006",
   "metadata": {},
   "source": [
    "for loops are used when you want to do operations on each member of a sequence, and while loops are used when we need to  end the loop on a condition other than the no. of repetation , to operate on the element out of order (sorting algorithms like bubble ,quick sort),access of multiple elements simultaneously.we can use a while loop when the increment value is not standard.on the other hand for loop execudes code for a predefined no. of iteration(Ex. iteraitng over a list,array or tuple)"
   ]
  },
  {
   "cell_type": "code",
   "execution_count": 6,
   "id": "c72b05a2-8178-451e-95e2-099d03b8836e",
   "metadata": {},
   "outputs": [],
   "source": [
    "l = [ 1,3,4,5,6,7,8,9,20,64,96]"
   ]
  },
  {
   "cell_type": "code",
   "execution_count": 7,
   "id": "ccb5de65-c130-416f-818f-1b436449274e",
   "metadata": {},
   "outputs": [
    {
     "data": {
      "text/plain": [
       "[2, 6, 8, 10, 12, 14, 16, 18, 40, 128, 192]"
      ]
     },
     "execution_count": 7,
     "metadata": {},
     "output_type": "execute_result"
    }
   ],
   "source": [
    "for i  in range(len(l)):         #iterate through a list and multiply it's each element by 2\n",
    "    l[i] = l[i] * 2  \n",
    "l"
   ]
  },
  {
   "cell_type": "code",
   "execution_count": 4,
   "id": "43f2c8ba-376d-4897-a418-cbedccce80b5",
   "metadata": {},
   "outputs": [
    {
     "data": {
      "text/plain": [
       "True"
      ]
     },
     "execution_count": 4,
     "metadata": {},
     "output_type": "execute_result"
    }
   ],
   "source": [
    "def check(ls):                      #checks if list of int is sorted(true) or not(false)\n",
    "    i = 0\n",
    "    while i < len(ls) - 1:            \n",
    "        if ls[i] > ls[i+1]:             #Acessing two contigous elemnts simutaneously\n",
    "            return False               #false if predecessor is greater\n",
    "        \n",
    "        i += 1                         #updating the conditional varibale       \n",
    "    return True                        \n",
    "\n",
    "check(l)"
   ]
  },
  {
   "cell_type": "code",
   "execution_count": 12,
   "id": "30bf0770-83bd-43fb-8e8d-01758fa7ec34",
   "metadata": {},
   "outputs": [
    {
     "data": {
      "text/plain": [
       "[1, 3, 1, 5, 3, 7, 1, 9, 5, 1, 3]"
      ]
     },
     "execution_count": 12,
     "metadata": {},
     "output_type": "execute_result"
    }
   ],
   "source": [
    "\n",
    "i = 0\n",
    "while i < len(l):              #iterate through a list \n",
    "    \n",
    "    while l[i] % 2 == 0:       #checks every elemnet if its divisible by  2 then it divides it by 2 else continues iteration\n",
    "        l[i] = int(l[i]/2)\n",
    "        \n",
    "    i += 1                     #updating the conditional varibale of outer while loop\n",
    "\n",
    "l                              #modified list containing no elements divisible by two"
   ]
  },
  {
   "cell_type": "markdown",
   "id": "d4ff5c9c-50a9-446a-8dc4-eb10904b5763",
   "metadata": {},
   "source": []
  },
  {
   "cell_type": "markdown",
   "id": "1717a9f6-4d04-4e8f-a688-0e3b3c112939",
   "metadata": {},
   "source": [
    "Ans_2."
   ]
  },
  {
   "cell_type": "code",
   "execution_count": 1,
   "id": "4b010186-8434-42c9-b232-581dde086215",
   "metadata": {},
   "outputs": [
    {
     "name": "stdout",
     "output_type": "stream",
     "text": [
      "the sum is  55  and the product is  3628800\n"
     ]
    }
   ],
   "source": [
    "s_m = 0 \n",
    "product = 1\n",
    "for i in range(1,11):\n",
    "    s_m = s_m + i\n",
    "    product = product*i\n",
    "\n",
    "print('the sum is ' , s_m , ' and the product is ' ,product)\n"
   ]
  },
  {
   "cell_type": "code",
   "execution_count": 5,
   "id": "fc3402f5-1589-47db-b08a-3dc88e918839",
   "metadata": {},
   "outputs": [
    {
     "name": "stdout",
     "output_type": "stream",
     "text": [
      "the sum is  55  and the product is  3628800\n"
     ]
    }
   ],
   "source": [
    "s_m = 0 \n",
    "product = 1\n",
    "i =1\n",
    "while i <=10:\n",
    "    s_m = s_m + i\n",
    "    product = product*i\n",
    "    i +=1\n",
    "\n",
    "print('the sum is ' , s_m , ' and the product is ' ,product)"
   ]
  },
  {
   "cell_type": "markdown",
   "id": "f8070697-896d-40e0-9e1c-7267b8f9117f",
   "metadata": {},
   "source": [
    "Ans_3."
   ]
  },
  {
   "cell_type": "code",
   "execution_count": 11,
   "id": "3c55318a-62cf-43e2-92d3-5263df9b2035",
   "metadata": {},
   "outputs": [],
   "source": [
    "def calculatebill(unit , charge):\n",
    "    if unit > 300:\n",
    "        return (unit - 300)*charge[-1] + calculatebill(300  , charge)\n",
    "    elif unit <= 100:\n",
    "        return unit*charge[0]\n",
    "    else:\n",
    "        return 100*charge[0] + calculatebill(unit-100 ,charge[1:])\n"
   ]
  },
  {
   "cell_type": "code",
   "execution_count": 12,
   "id": "6918a007-4a99-4de1-8af0-855c5fd39e9b",
   "metadata": {},
   "outputs": [
    {
     "name": "stdin",
     "output_type": "stream",
     "text": [
      "Enter the no . of units 310\n"
     ]
    },
    {
     "data": {
      "text/plain": [
       "2250.0"
      ]
     },
     "execution_count": 12,
     "metadata": {},
     "output_type": "execute_result"
    }
   ],
   "source": [
    "charges = [4.5 , 6, 10 ,20] \n",
    "units = int(input('Enter the no . of units'))\n",
    "if units > 0:\n",
    "    calculatebill(units , charges)\n",
    "else:\n",
    "     print(\"invalid units can't be in minus\")"
   ]
  },
  {
   "cell_type": "markdown",
   "id": "2ce86959-29db-4c75-8a5e-8d79bb24f823",
   "metadata": {},
   "source": [
    "Ans_4."
   ]
  },
  {
   "cell_type": "code",
   "execution_count": 2,
   "id": "ed0b0990-81d8-4737-8a81-8b6ff27d5de3",
   "metadata": {},
   "outputs": [],
   "source": [
    "ls =[ i for i in range(1,101)]\n",
    "ls_for = []\n",
    "ls_while = []"
   ]
  },
  {
   "cell_type": "code",
   "execution_count": 4,
   "id": "d08bd60a-945c-4862-afce-ec8dcfd0107b",
   "metadata": {},
   "outputs": [
    {
     "data": {
      "text/plain": [
       "[2,\n",
       " 4,\n",
       " 5,\n",
       " 6,\n",
       " 8,\n",
       " 10,\n",
       " 12,\n",
       " 14,\n",
       " 15,\n",
       " 16,\n",
       " 18,\n",
       " 20,\n",
       " 22,\n",
       " 24,\n",
       " 25,\n",
       " 26,\n",
       " 28,\n",
       " 30,\n",
       " 32,\n",
       " 34,\n",
       " 35,\n",
       " 36,\n",
       " 38,\n",
       " 40,\n",
       " 42,\n",
       " 44,\n",
       " 45,\n",
       " 46,\n",
       " 48,\n",
       " 50,\n",
       " 52,\n",
       " 54,\n",
       " 55,\n",
       " 56,\n",
       " 58,\n",
       " 60,\n",
       " 62,\n",
       " 64,\n",
       " 65,\n",
       " 66,\n",
       " 68,\n",
       " 70,\n",
       " 72,\n",
       " 74,\n",
       " 75,\n",
       " 76,\n",
       " 78,\n",
       " 80,\n",
       " 82,\n",
       " 84,\n",
       " 85,\n",
       " 86,\n",
       " 88,\n",
       " 90,\n",
       " 92,\n",
       " 94,\n",
       " 95,\n",
       " 96,\n",
       " 98,\n",
       " 100]"
      ]
     },
     "execution_count": 4,
     "metadata": {},
     "output_type": "execute_result"
    }
   ],
   "source": [
    "for elem in ls:\n",
    "    cub = elem*elem*elem\n",
    "    if cub % 4 == 0 or cub %5 == 0:\n",
    "        ls_for.append(elem)\n",
    "\n",
    "ls_for        "
   ]
  },
  {
   "cell_type": "code",
   "execution_count": 3,
   "id": "5a094dfd-c75b-4c63-b922-fcfc857bfc1d",
   "metadata": {},
   "outputs": [
    {
     "data": {
      "text/plain": [
       "[2,\n",
       " 4,\n",
       " 5,\n",
       " 6,\n",
       " 8,\n",
       " 10,\n",
       " 12,\n",
       " 14,\n",
       " 15,\n",
       " 16,\n",
       " 18,\n",
       " 20,\n",
       " 22,\n",
       " 24,\n",
       " 25,\n",
       " 26,\n",
       " 28,\n",
       " 30,\n",
       " 32,\n",
       " 34,\n",
       " 35,\n",
       " 36,\n",
       " 38,\n",
       " 40,\n",
       " 42,\n",
       " 44,\n",
       " 45,\n",
       " 46,\n",
       " 48,\n",
       " 50,\n",
       " 52,\n",
       " 54,\n",
       " 55,\n",
       " 56,\n",
       " 58,\n",
       " 60,\n",
       " 62,\n",
       " 64,\n",
       " 65,\n",
       " 66,\n",
       " 68,\n",
       " 70,\n",
       " 72,\n",
       " 74,\n",
       " 75,\n",
       " 76,\n",
       " 78,\n",
       " 80,\n",
       " 82,\n",
       " 84,\n",
       " 85,\n",
       " 86,\n",
       " 88,\n",
       " 90,\n",
       " 92,\n",
       " 94,\n",
       " 95,\n",
       " 96,\n",
       " 98,\n",
       " 100]"
      ]
     },
     "execution_count": 3,
     "metadata": {},
     "output_type": "execute_result"
    }
   ],
   "source": [
    "i = 0\n",
    "while i < len(ls):\n",
    "    cub = ls[i] * ls[i] * ls[i]\n",
    "    if cub % 4 == 0 or cub %5 == 0:\n",
    "        ls_while.append(ls[i])\n",
    "    i += 1    \n",
    "\n",
    "ls_while"
   ]
  },
  {
   "cell_type": "code",
   "execution_count": 5,
   "id": "14f8e2a7-cf16-4926-9692-64b317adec95",
   "metadata": {},
   "outputs": [
    {
     "data": {
      "text/plain": [
       "True"
      ]
     },
     "execution_count": 5,
     "metadata": {},
     "output_type": "execute_result"
    }
   ],
   "source": [
    "ls_for == ls_while"
   ]
  },
  {
   "cell_type": "markdown",
   "id": "84123fb3-2d0b-4540-8d0d-b997777c40a7",
   "metadata": {},
   "source": [
    "Ans_5."
   ]
  },
  {
   "cell_type": "code",
   "execution_count": 3,
   "id": "9f7f8767-f650-4cb4-9e4b-a74661136b1b",
   "metadata": {},
   "outputs": [],
   "source": [
    "def countvowel(string):\n",
    "    vowels = ['a' , 'e' , 'i' , 'o' , 'u']\n",
    "    count = 0\n",
    "    for i in string:\n",
    "       if i.lower() in vowels:\n",
    "         count += 1\n",
    "            \n",
    "    return count  "
   ]
  },
  {
   "cell_type": "code",
   "execution_count": 4,
   "id": "97ea883f-51a0-4e1b-8516-e35df6f4f60e",
   "metadata": {},
   "outputs": [
    {
     "data": {
      "text/plain": [
       "12"
      ]
     },
     "execution_count": 4,
     "metadata": {},
     "output_type": "execute_result"
    }
   ],
   "source": [
    "target = 'I want to become a data scientist'\n",
    "countvowel(target)"
   ]
  },
  {
   "cell_type": "code",
   "execution_count": null,
   "id": "9f01bc49-3e3c-458c-af3b-1b7781b68c1e",
   "metadata": {},
   "outputs": [],
   "source": []
  }
 ],
 "metadata": {
  "kernelspec": {
   "display_name": "Python 3 (ipykernel)",
   "language": "python",
   "name": "python3"
  },
  "language_info": {
   "codemirror_mode": {
    "name": "ipython",
    "version": 3
   },
   "file_extension": ".py",
   "mimetype": "text/x-python",
   "name": "python",
   "nbconvert_exporter": "python",
   "pygments_lexer": "ipython3",
   "version": "3.9.15"
  },
  "widgets": {
   "application/vnd.jupyter.widget-state+json": {
    "state": {},
    "version_major": 2,
    "version_minor": 0
   }
  }
 },
 "nbformat": 4,
 "nbformat_minor": 5
}
