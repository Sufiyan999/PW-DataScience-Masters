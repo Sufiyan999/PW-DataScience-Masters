{
 "cells": [
  {
   "cell_type": "markdown",
   "id": "035d342a-d90e-42ff-85aa-a568be55fbb2",
   "metadata": {},
   "source": [
    "Ans_1"
   ]
  },
  {
   "cell_type": "markdown",
   "id": "646f1360-9c5d-408c-b9a8-f3344d1b514b",
   "metadata": {},
   "source": [
    "A database is a collection of organized data that is stored and managed on a computer system. It is designed to provide an efficient, reliable, and secure way to store, retrieve, and manage large amounts of data.\n",
    "\n",
    "There are two main types of databases: SQL and NoSQL.\n",
    "\n",
    "SQL databases are relational databases, which means they store data in tables with defined relationships between them. SQL databases use Structured Query Language (SQL) to manipulate and query data. SQL databases are typically used for applications that require complex querying and data relationships, such as financial systems or e-commerce websites.\n",
    "\n",
    "NoSQL databases, on the other hand, do not use a traditional table-based structure. Instead, they use a variety of data models, such as document-oriented, key-value, or graph. NoSQL databases are typically used for applications that require flexible data modeling, scalability, and high-performance, such as social networks, real-time analytics, or IoT systems.\n",
    "\n",
    "Some of the key differences between SQL and NoSQL databases are:\n",
    "\n",
    "Data model: SQL databases use a fixed schema with tables and columns, while NoSQL databases use a flexible schema with documents, key-value pairs, or graphs.\n",
    "\n",
    "Query language: SQL databases use SQL to query data, while NoSQL databases use various query languages, such as MongoDB's query language for document-oriented databases.\n",
    "\n",
    "Scalability: NoSQL databases are often designed to scale horizontally, meaning that they can handle large amounts of data and traffic by adding more servers, while SQL databases are typically limited by the capacity of a single server.\n",
    "\n",
    "ACID compliance: SQL databases are typically ACID compliant, meaning that they ensure data consistency, integrity, and durability even in the face of errors or crashes. NoSQL databases may sacrifice some of these guarantees for higher performance or scalability.\n",
    "\n",
    "Data consistency: SQL databases ensure strong data consistency by enforcing strict constraints and transactions, while NoSQL databases may offer eventual consistency, meaning that changes may take some time to propagate across all nodes in a distributed system.\n",
    "\n",
    "Overall, the choice between SQL and NoSQL databases depends on the specific requirements of an application, such as data structure, query complexity, scalability, and performance"
   ]
  },
  {
   "cell_type": "code",
   "execution_count": null,
   "id": "57b472e1-78af-40e5-8f1c-cec8b50f7fd7",
   "metadata": {},
   "outputs": [],
   "source": []
  },
  {
   "cell_type": "markdown",
   "id": "0b6b60d8-b189-4c96-b81e-36b008aa098d",
   "metadata": {},
   "source": [
    "Ans_2"
   ]
  },
  {
   "cell_type": "markdown",
   "id": "e16767e4-dd81-4d74-b3ac-4e16e0968fe7",
   "metadata": {},
   "source": [
    "DDL stands for Data Definition Language, which is a subset of SQL used to create, modify, and delete database objects such as tables, views, indexes, and constraints.\n",
    "\n",
    "Here are some examples of commonly used DDL statements and their purposes:\n",
    "\n",
    "1. CREATE: The CREATE statement is used to create new database objects like tables, views, indexes, etc. For example, to create a new table named \"customers\" with columns \"customer_id\", \"name\", and \"email\""
   ]
  },
  {
   "cell_type": "code",
   "execution_count": null,
   "id": "f932edbf-71a9-4e03-8e6a-9eff0346d723",
   "metadata": {},
   "outputs": [],
   "source": [
    "CREATE TABLE customers (\n",
    "   customer_id INT PRIMARY KEY,\n",
    "   name VARCHAR(50) NOT NULL,\n",
    "   email VARCHAR(50) UNIQUE\n",
    ");"
   ]
  },
  {
   "cell_type": "markdown",
   "id": "a36b9553-d2cf-4e05-972d-cd81cdc1c23f",
   "metadata": {},
   "source": [
    "2. DROP: The DROP statement is used to remove database objects like tables, views, indexes, etc. For example, to drop the \"customers\" table created in the above example"
   ]
  },
  {
   "cell_type": "code",
   "execution_count": null,
   "id": "858f0456-03c4-4636-87dd-0da8dff1fc93",
   "metadata": {},
   "outputs": [],
   "source": [
    "DROP TABLE customers;"
   ]
  },
  {
   "cell_type": "markdown",
   "id": "1f878cf5-8860-4193-8ac2-8798b02798bf",
   "metadata": {},
   "source": [
    "3 . ALTER: The ALTER statement is used to modify the structure of existing database objects like tables, views, indexes, etc. For example, to add a new column \"phone\" to the \"customers\" table created in the above example,"
   ]
  },
  {
   "cell_type": "code",
   "execution_count": null,
   "id": "396bdf72-4736-49f3-a4de-d119d2efe587",
   "metadata": {},
   "outputs": [],
   "source": [
    "ALTER TABLE customers ADD phone VARCHAR(20);\n"
   ]
  },
  {
   "cell_type": "markdown",
   "id": "399072f7-21d2-47ff-9bad-c7aa4c1ad862",
   "metadata": {},
   "source": [
    "4. TRUNCATE: The TRUNCATE statement is used to remove all data from a table without deleting the table structure. For example, to remove all data from the \"customers\" table created in the above example,"
   ]
  },
  {
   "cell_type": "code",
   "execution_count": null,
   "id": "3342b3cc-11f1-43a1-b0fd-5ceef8175a5f",
   "metadata": {},
   "outputs": [],
   "source": [
    "TRUNCATE TABLE customers;"
   ]
  },
  {
   "cell_type": "markdown",
   "id": "8ee4d9d6-7144-4d25-b055-d45e7f0b3dc9",
   "metadata": {},
   "source": [
    "DDL statements are used to create, alter, and drop database objects like tables, views, indexes, etc. These statements are essential for managing the structure of a database and ensuring that it remains organized and efficient."
   ]
  },
  {
   "cell_type": "markdown",
   "id": "8b2b921e-446f-4d69-a7ab-78d5ddda82f3",
   "metadata": {},
   "source": []
  },
  {
   "cell_type": "markdown",
   "id": "ef469d5c-2d5b-4623-b529-8d2e0afa31cc",
   "metadata": {},
   "source": [
    "Ans_3\n"
   ]
  },
  {
   "cell_type": "markdown",
   "id": "c1228d99-309b-410e-a069-7bd341de287d",
   "metadata": {},
   "source": [
    "DML stands for Data Manipulation Language. It is a subset of SQL (Structured Query Language) used to manipulate data stored in a database. DML statements are used to insert, update, and delete data from database tables.\n",
    "\n",
    "The following are some commonly used DML statements and their examples:\n",
    "\n",
    "INSERT: The INSERT statement is used to add new data to a table. For example, to insert a new row into a table named \"employees\" with values for columns \"id\", \"name\", \"email\", and \"salary\","
   ]
  },
  {
   "cell_type": "code",
   "execution_count": null,
   "id": "72bb865c-407e-4747-8d44-516001d5387e",
   "metadata": {},
   "outputs": [],
   "source": [
    "INSERT INTO employees (id, name, email, salary)\n",
    "VALUES (1, 'John Smith', 'john@example.com', 50000);"
   ]
  },
  {
   "cell_type": "markdown",
   "id": "8952fe53-142e-4398-8e82-61fae22a22c3",
   "metadata": {},
   "source": [
    "UPDATE: The UPDATE statement is used to modify existing data in a table. For example, to update the salary of an employee with id=1 in the \"employees\" table, "
   ]
  },
  {
   "cell_type": "code",
   "execution_count": null,
   "id": "841640a8-45b3-4a91-a90c-c2b5cd1cb62e",
   "metadata": {},
   "outputs": [],
   "source": [
    "UPDATE employees\n",
    "SET salary = 55000\n",
    "WHERE id = 1;"
   ]
  },
  {
   "cell_type": "markdown",
   "id": "0cae27e0-1a86-4e8a-bdd3-35f8dcb60da7",
   "metadata": {},
   "source": [
    "DELETE: The DELETE statement is used to remove data from a table. For example, to delete an employee with id=1 from the \"employees\" table\n"
   ]
  },
  {
   "cell_type": "code",
   "execution_count": null,
   "id": "c759a396-14f9-4476-be6f-a8070616484b",
   "metadata": {},
   "outputs": [],
   "source": [
    "DELETE FROM employees\n",
    "WHERE id = 1;\n"
   ]
  },
  {
   "cell_type": "markdown",
   "id": "6c0e44e5-335b-4289-94cd-fff883f8b9ff",
   "metadata": {},
   "source": [
    "DML statements are used to manipulate data stored in a database. INSERT is used to add new data to a table, UPDATE is used to modify existing data in a table, and DELETE is used to remove data from a table. These statements are essential for managing the data in a database and ensuring that it remains accurate and up-to-date."
   ]
  },
  {
   "cell_type": "code",
   "execution_count": null,
   "id": "4e31eed0-d9c3-481f-a845-a5b7c0e6470e",
   "metadata": {},
   "outputs": [],
   "source": []
  },
  {
   "cell_type": "markdown",
   "id": "2feb0790-91b2-4203-b4f8-07c24310de47",
   "metadata": {},
   "source": [
    "Ans_4\n"
   ]
  },
  {
   "cell_type": "markdown",
   "id": "88bdceff-9e1b-44a9-b207-19d1fe136918",
   "metadata": {},
   "source": [
    "DQL stands for Data Query Language. It is a subset of SQL (Structured Query Language) used to retrieve data from a database. DQL statements are used to query data from database tables."
   ]
  },
  {
   "cell_type": "markdown",
   "id": "6835e9cb-913f-42d4-8353-9c58078b52a9",
   "metadata": {},
   "source": [
    "SELECT: The SELECT statement is used to retrieve data from one or more tables in a database. For example, to retrieve all rows from a table named \"employees\""
   ]
  },
  {
   "cell_type": "code",
   "execution_count": null,
   "id": "c5e1dbf7-207c-4f7d-bd47-31a063868168",
   "metadata": {},
   "outputs": [],
   "source": [
    "SELECT * FROM employees;"
   ]
  },
  {
   "cell_type": "markdown",
   "id": "e8ec0821-d64c-4d6d-bfe3-c4e4ff80eb54",
   "metadata": {},
   "source": [
    "This will return all columns and rows from the \"employees\" table. To retrieve only specific columns, the column names can be specified in the SELECT statement\n"
   ]
  },
  {
   "cell_type": "code",
   "execution_count": null,
   "id": "e5c3e74c-14a8-4ea8-bf5a-2e73dcd1b57f",
   "metadata": {},
   "outputs": [],
   "source": [
    "SELECT id, name, salary FROM employees;"
   ]
  },
  {
   "cell_type": "markdown",
   "id": "c2d552c3-ce7f-424f-8d9f-cf8aa6ec69ba",
   "metadata": {},
   "source": [
    "This will return only the \"id\", \"name\", and \"salary\" columns from the \"employees\" table.\n",
    "\n",
    "SELECT statements can also include conditions using the WHERE clause,"
   ]
  },
  {
   "cell_type": "code",
   "execution_count": null,
   "id": "3c12eae8-c9ad-415d-a937-e603edb7dd63",
   "metadata": {},
   "outputs": [],
   "source": [
    "SELECT * FROM employees\n",
    "WHERE salary > 50000;"
   ]
  },
  {
   "cell_type": "markdown",
   "id": "ec998c55-a71b-48d7-9898-bb36fee31c21",
   "metadata": {},
   "source": [
    "this will return all columns and rows from the \"employees\" table where the salary is greater than 50000.\n",
    "\n",
    "SELECT statements can also include sorting using the ORDER BY clause,"
   ]
  },
  {
   "cell_type": "code",
   "execution_count": null,
   "id": "506e5a0f-c582-40b0-acc0-1455b17668f6",
   "metadata": {},
   "outputs": [],
   "source": [
    "SELECT * FROM employees\n",
    "ORDER BY salary DESC;"
   ]
  },
  {
   "cell_type": "markdown",
   "id": "45910bc0-05a9-4224-9c5f-245dd2e3871e",
   "metadata": {},
   "source": [
    " DQL statements are used to retrieve data from a database. The SELECT statement is used to query data from one or more tables in a database, and can include conditions and sorting to retrieve specific data. These statements are essential for analyzing and retrieving data from a database."
   ]
  },
  {
   "cell_type": "markdown",
   "id": "6f8caed3-608b-4a89-844c-0e81d6bb48c7",
   "metadata": {},
   "source": [
    "Ans_5"
   ]
  },
  {
   "cell_type": "markdown",
   "id": "b5be7f71-764f-4847-9d5e-0dbf0ce5b644",
   "metadata": {},
   "source": [
    "Primary Key:\n",
    "A primary key is a unique identifier for each record in a database table. It is a column or set of columns that uniquely identifies each row in a table. A primary key is used to enforce data integrity and ensure that each record in a table is unique. It also allows for efficient searching and sorting of data.\n",
    "\n",
    "For example, in a table of customers, the customer ID column might be designated as the primary key. This would ensure that each customer has a unique ID number and would prevent duplicate entries for the same customer.\n",
    "\n",
    "Foreign Key:\n",
    "A foreign key is a column or set of columns in a table that refers to the primary key of another table. It is used to establish a relationship between two tables in a database. The foreign key in one table is used to link to the primary key in another table, creating a relationship between the two tables.\n",
    "\n",
    "For example, in a database with two tables, customers and orders, the orders table might have a foreign key column that links to the customer ID column in the customers table. This would allow for a relationship between the two tables, with each order associated with a specific customer.\n",
    "\n",
    "Foreign keys are used to ensure data consistency and referential integrity between related tables in a database. They help to maintain the integrity of the data by ensuring that related data is kept together and that there are no orphaned records in the database."
   ]
  },
  {
   "cell_type": "code",
   "execution_count": null,
   "id": "7d2624a8-1af5-4c43-b103-b8fe2da4adae",
   "metadata": {},
   "outputs": [],
   "source": []
  },
  {
   "cell_type": "markdown",
   "id": "a1e68094-d0d8-4fba-801c-3b781d935803",
   "metadata": {},
   "source": [
    "Ans_6"
   ]
  },
  {
   "cell_type": "code",
   "execution_count": null,
   "id": "eddc5ab0-ad7a-44a5-be88-dba5bc830a3e",
   "metadata": {},
   "outputs": [],
   "source": [
    "import pymysql\n",
    "\n",
    "# Establish a connection to the database\n",
    "connection = pymysql.connect(\n",
    "    host='localhost',\n",
    "    user='username',\n",
    "    password='password',\n",
    "    db='database_name'\n",
    ")\n",
    "\n",
    "# Create a cursor object\n",
    "cursor = connection.cursor()\n",
    "\n",
    "# Execute a SQL query\n",
    "k = \"SELECT * FROM mytable\"\n",
    "cursor.execute(k)\n",
    "\n",
    "\n",
    "results = cursor.fetchall()\n",
    "for row in results:\n",
    "    print(row)\n",
    "\n",
    "\n",
    "cursor.close()\n",
    "connection.close()\n"
   ]
  },
  {
   "cell_type": "markdown",
   "id": "d2171f9a-4c7d-42fe-a9ae-1b62f2445c47",
   "metadata": {},
   "source": [
    "Explanation:\n",
    "\n",
    "First, we import the mysql.connector module, which provides a Python interface to MySQL.\n",
    "We establish a connection to the MySQL database by passing the host, username, password, and database name as arguments to the mysql.connector.connect() function.\n",
    "We create a cursor object using the connection.cursor() method. The cursor is used to execute SQL queries and fetch the results.\n",
    "We execute a SQL query by calling the cursor.execute() method and passing the SQL query as an argument.\n",
    "We fetch the results of the query using the cursor.fetchall() method, which returns a tuple containing all the rows of the result set.\n",
    "Finally, we loop through the results and print each row.\n",
    "cursor() method:\n",
    "The cursor() method creates a cursor object, which is used to execute SQL queries and fetch the results. The cursor is a temporary work area created in the database server memory. It allows the application to access and manipulate the database.\n",
    "\n",
    "execute() method:\n",
    "The execute() method is used to execute SQL queries on the database. It takes an SQL query as an argument and executes it. The method can execute a single query at a time. The execute() method returns the number of rows affected by the query. If the query returns results, the results can be fetched using the fetchall(), fetchone(), or fetchmany() methods of the cursor object."
   ]
  },
  {
   "cell_type": "code",
   "execution_count": null,
   "id": "968cf82e-d075-441d-ad62-850cc1d6ad5d",
   "metadata": {},
   "outputs": [],
   "source": []
  },
  {
   "cell_type": "markdown",
   "id": "8e180f47-60f9-4572-ae49-85077721b923",
   "metadata": {},
   "source": [
    "Ans_7"
   ]
  },
  {
   "cell_type": "markdown",
   "id": "18c244a8-1fa6-413f-ae64-4b4315e4dec7",
   "metadata": {},
   "source": [
    "The order of execution of SQL clauses in an SQL query can be summarized as follows:\n",
    "\n",
    "FROM clause: This clause specifies the table or tables from which the data will be retrieved.\n",
    "\n",
    "JOIN clause: If the query involves joining two or more tables, the JOIN clause is executed next. This clause combines rows from different tables based on a common column or set of columns.\n",
    "\n",
    "WHERE clause: This clause filters the rows based on a specified condition.\n",
    "\n",
    "GROUP BY clause: This clause groups the rows based on one or more columns and creates groups of rows with the same values.\n",
    "\n",
    "HAVING clause: This clause filters the groups created by the GROUP BY clause based on a specified condition.\n",
    "\n",
    "SELECT clause: This clause selects the columns to be included in the result set.\n",
    "\n",
    "ORDER BY clause: This clause sorts the rows in the result set based on one or more columns.\n",
    "\n",
    "LIMIT/OFFSET clause: This clause limits the number of rows returned by the query and specifies an offset for the starting row.\n",
    "\n",
    "It is important to note that not all SQL queries will contain all of these clauses, and some queries may have additional clauses, such as subqueries or nested queries"
   ]
  },
  {
   "cell_type": "code",
   "execution_count": null,
   "id": "68eaecf3-59d5-4421-94c9-af0b32e1e33e",
   "metadata": {},
   "outputs": [],
   "source": []
  }
 ],
 "metadata": {
  "kernelspec": {
   "display_name": "Python 3 (ipykernel)",
   "language": "python",
   "name": "python3"
  },
  "language_info": {
   "codemirror_mode": {
    "name": "ipython",
    "version": 3
   },
   "file_extension": ".py",
   "mimetype": "text/x-python",
   "name": "python",
   "nbconvert_exporter": "python",
   "pygments_lexer": "ipython3",
   "version": "3.9.15"
  },
  "widgets": {
   "application/vnd.jupyter.widget-state+json": {
    "state": {},
    "version_major": 2,
    "version_minor": 0
   }
  }
 },
 "nbformat": 4,
 "nbformat_minor": 5
}
