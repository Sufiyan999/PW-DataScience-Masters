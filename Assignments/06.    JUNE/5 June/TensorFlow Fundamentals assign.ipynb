{
 "cells": [
  {
   "cell_type": "markdown",
   "id": "11d467b9",
   "metadata": {},
   "source": [
    "<a id=\"1\"></a> \n",
    " # <p style=\"padding:10px;background-color: #000000 ;margin:10;color: white ;font-family:newtimeroman;font-size:100%;text-align:center;border-radius: 10px 10px ;overflow:hidden;font-weight:50\">Part 1: Theoretical Queltions</p> "
   ]
  },
  {
   "cell_type": "markdown",
   "id": "40ff592c",
   "metadata": {},
   "source": [
    "<a id=\"1\"></a> \n",
    " ## <p style=\"padding:10px;background-color: #00004d ;margin:10;color: white ;font-family:newtimeroman;font-size:100%;text-align:center;border-radius: 10px 10px ;overflow:hidden;font-weight:50\">Ans 1 </p> "
   ]
  },
  {
   "cell_type": "markdown",
   "id": "0868be75",
   "metadata": {},
   "source": [
    "TensorFlow, being a powerful deep learning framework, offers various data structures to handle and manipulate data efficiently. Some of the key data structures used in TensorFlow are:\n",
    "\n",
    "1. **Tensors:** Tensors are the fundamental building blocks of TensorFlow and represent multi-dimensional arrays. They can have any number of dimensions, and they're used to represent input data, intermediate results, and output predictions. Tensors are at the core of all TensorFlow operations.\n",
    "\n",
    "2. **Variables:** Variables are used to store and update parameters in a neural network during training. They can be thought of as persistent tensors with initial values that can be modified over time. Variables are commonly used to store weights and biases in neural network layers.\n",
    "\n",
    "3. **Placeholders (Deprecated in TensorFlow 2.x):** Placeholders were used in TensorFlow 1.x to feed data into the computation graph during training. They allowed you to define the shape and data type of the input data without providing the actual data until runtime. However, in TensorFlow 2.x, eager execution and the `tf.data` API are recommended for dynamic input data.\n",
    "\n",
    "4. **Datasets (tf.data API):** TensorFlow provides the `tf.data` API for efficiently loading, preprocessing, and batching data. The `tf.data.Dataset` class allows you to create pipelines for reading and transforming data, making it easier to manage input data for training and evaluation. This is the recommended way to handle data in TensorFlow 2.x.\n",
    "\n",
    "5. **Ragged Tensors:** Ragged tensors are a type of tensor that can handle varying lengths along one or more dimensions. They are useful for representing sequences or nested data where not all elements have the same size.\n",
    "\n",
    "6. **Sparse Tensors:** Sparse tensors are used to represent tensors with a significant number of zero values. Instead of storing all values, they only store the non-zero values along with their indices. This is particularly useful for operations involving sparse data like text or embeddings.\n",
    "\n",
    "7. **Eager Tensors:** TensorFlow's Eager Execution mode allows you to work with tensors in a more intuitive and interactive manner, similar to regular Python code. Eager tensors are used in Eager Execution mode, enabling you to execute operations immediately as they are called.\n",
    "\n",
    "These are some of the main data structures used in TensorFlow. Depending on the version of TensorFlow you are using and your specific use case, you might find certain data structures more appropriate than others. TensorFlow's flexible data handling capabilities make it possible to handle a wide range of data formats and structures in deep learning applications."
   ]
  },
  {
   "cell_type": "markdown",
   "id": "cbcbc0ee",
   "metadata": {},
   "source": [
    " some examples of how these TensorFlow data structures are used:\n",
    "\n",
    "1. **Tensors:**\n",
    "   Tensors are the basic building blocks of TensorFlow. They can represent a wide range of data, from scalars to multi-dimensional arrays. Here's an example of creating a tensor and performing a simple operation:"
   ]
  },
  {
   "cell_type": "code",
   "execution_count": 2,
   "id": "021f0f93",
   "metadata": {},
   "outputs": [
    {
     "name": "stdout",
     "output_type": "stream",
     "text": [
      "tf.Tensor(\n",
      "[[ 1  4  9]\n",
      " [16 25 36]], shape=(2, 3), dtype=int32)\n"
     ]
    }
   ],
   "source": [
    "import tensorflow as tf\n",
    "\n",
    "# Create a tensor\n",
    "tensor = tf.constant([[1, 2, 3], [4, 5, 6]])\n",
    "\n",
    "# Perform an operation\n",
    "result = tf.square(tensor)\n",
    "print(result)"
   ]
  },
  {
   "cell_type": "markdown",
   "id": "e3117004",
   "metadata": {},
   "source": [
    "2. **Variables:**\n",
    "   Variables are commonly used to store model parameters that are updated during training. Here's an example of using variables to create a simple linear regression model:"
   ]
  },
  {
   "cell_type": "code",
   "execution_count": 7,
   "id": "a285d3c1",
   "metadata": {},
   "outputs": [],
   "source": [
    "import tensorflow as tf\n",
    "\n",
    "# Create variables for weights and bias\n",
    "W = tf.Variable([0.5], dtype=tf.float32)\n",
    "b = tf.Variable([0.1], dtype=tf.float32)\n",
    "\n",
    "# Define the linear regression model\n",
    "def linear_regression(x):\n",
    "   return W * x + b"
   ]
  },
  {
   "cell_type": "markdown",
   "id": "5e197c2f",
   "metadata": {},
   "source": [
    "3. **Datasets (tf.data API):**\n",
    "   The `tf.data.Dataset` API is used for efficient data input pipelines. Here's an example of using the `tf.data.Dataset` API to load and preprocess data for image classification:"
   ]
  },
  {
   "cell_type": "code",
   "execution_count": 20,
   "id": "ff044ce9",
   "metadata": {},
   "outputs": [],
   "source": [
    "import tensorflow as tf\n",
    "\n",
    "# Load and preprocess image data\n",
    "dataset = tf.data.Dataset.from_tensor_slices((X_train, y_train))\n",
    "dataset = dataset.shuffle(buffer_size=10000).batch(32)"
   ]
  },
  {
   "cell_type": "markdown",
   "id": "dbc588f8",
   "metadata": {},
   "source": [
    "4. **Ragged Tensors:**\n",
    "   Ragged tensors are used to handle sequences of varying lengths. Here's an example of creating a ragged tensor to represent sentences of varying lengths:"
   ]
  },
  {
   "cell_type": "code",
   "execution_count": 10,
   "id": "31a1b108",
   "metadata": {},
   "outputs": [
    {
     "data": {
      "text/plain": [
       "<tf.RaggedTensor [[b'Hello', b'world'], [b'TensorFlow', b'is', b'awesome']]>"
      ]
     },
     "execution_count": 10,
     "metadata": {},
     "output_type": "execute_result"
    }
   ],
   "source": [
    "import tensorflow as tf\n",
    "\n",
    "# Create a ragged tensor\n",
    "sentences = tf.ragged.constant([[\"Hello\", \"world\"], [\"TensorFlow\", \"is\", \"awesome\"]])\n",
    "sentences"
   ]
  },
  {
   "cell_type": "markdown",
   "id": "54a70c44",
   "metadata": {},
   "source": [
    "5. **Sparse Tensors:**\n",
    "   Sparse tensors are used for data with a significant number of zeros. Here's an example of creating a sparse tensor from indices and values:"
   ]
  },
  {
   "cell_type": "code",
   "execution_count": 19,
   "id": "139ba3b9",
   "metadata": {},
   "outputs": [
    {
     "data": {
      "text/plain": [
       "<tensorflow.python.framework.sparse_tensor.SparseTensor at 0x27d5f08a500>"
      ]
     },
     "execution_count": 19,
     "metadata": {},
     "output_type": "execute_result"
    }
   ],
   "source": [
    "import tensorflow as tf\n",
    "\n",
    "# Create a sparse tensor\n",
    "indices = tf.constant([[0, 0], [1, 2], [2, 1]] ,dtype = 'int64')\n",
    "values = tf.constant([1, 2, 3],dtype = 'int64')\n",
    "shape = tf.constant([3, 3],dtype = 'int64')\n",
    "sparse_tensor = tf.SparseTensor(indices, values, shape)\n",
    "sparse_tensor"
   ]
  },
  {
   "cell_type": "markdown",
   "id": "d8258f1d",
   "metadata": {},
   "source": [
    "6. **Eager Tensors:**\n",
    "   Eager tensors are used when working with TensorFlow's Eager Execution mode. Here's an example of performing an operation using eager tensors:"
   ]
  },
  {
   "cell_type": "code",
   "execution_count": 21,
   "id": "5ceff08b",
   "metadata": {},
   "outputs": [
    {
     "name": "stdout",
     "output_type": "stream",
     "text": [
      "tf.Tensor([5 7 9], shape=(3,), dtype=int32)\n"
     ]
    }
   ],
   "source": [
    "import tensorflow as tf\n",
    "\n",
    "\"\"\" Enable Eager Execution \n",
    "\n",
    ">> tf.enable_eager_execution()\n",
    "\n",
    "using TensorFlow 2.x, where eager execution is enabled by default and \n",
    "there's no need to explicitly enable it using tf.enable_eager_execution()\"\"\"\n",
    "\n",
    "# Perform an operation\n",
    "x = tf.constant([1, 2, 3])\n",
    "y = tf.constant([4, 5, 6])\n",
    "result = x + y\n",
    "print(result)"
   ]
  },
  {
   "cell_type": "code",
   "execution_count": 22,
   "id": "93194649",
   "metadata": {},
   "outputs": [
    {
     "name": "stdout",
     "output_type": "stream",
     "text": [
      "Matrix J (Concatenation of F and H vertically):\n",
      "[[0.8123723  0.66231537 0.7410021 ]\n",
      " [0.92096376 0.09093952 0.65858054]\n",
      " [0.45019245 0.06727815 0.15811038]\n",
      " [0.6131314  0.02648783 0.48235476]\n",
      " [0.4598862  0.13857019 0.26585793]]\n"
     ]
    }
   ],
   "source": [
    "import tensorflow as tf\n",
    "\n",
    "# Define matrix F with random values\n",
    "F = tf.random.uniform(shape=(3, 3))\n",
    "\n",
    "# Define matrix H with random values\n",
    "H = tf.random.uniform(shape=(2, 3))\n",
    "\n",
    "# Concatenate matrices F and H vertically to create matrix J\n",
    "J = tf.concat([F, H], axis=0)\n",
    "\n",
    "# Display matrix J\n",
    "print(\"Matrix J (Concatenation of F and H vertically):\")\n",
    "print(J.numpy())"
   ]
  },
  {
   "cell_type": "markdown",
   "id": "82fd4b04",
   "metadata": {},
   "source": [
    "These examples demonstrate the usage of different TensorFlow data structures in various scenarios. Depending on your specific use case and TensorFlow version, you can choose the appropriate data structure to handle and manipulate your data effectively."
   ]
  },
  {
   "cell_type": "markdown",
   "id": "b4a46f2b",
   "metadata": {},
   "source": [
    "<a id=\"2\"></a> \n",
    " ## <p style=\"padding:10px;background-color: #00004d ;margin:10;color: white ;font-family:newtimeroman;font-size:100%;text-align:center;border-radius: 10px 10px ;overflow:hidden;font-weight:50\">Ans 2 </p> "
   ]
  },
  {
   "cell_type": "markdown",
   "id": "fb753d2f",
   "metadata": {},
   "source": [
    "In TensorFlow, both constants and variables are used to store and manipulate data, but they serve different purposes and have distinct characteristics:\n",
    "\n",
    "**TensorFlow Constant:**\n",
    "- A constant in TensorFlow represents a fixed value that doesn't change during the execution of a computation graph.\n",
    "- Once you create a constant, its value remains the same throughout the entire computation.\n",
    "- Constants are typically used for values that are known and don't need to be modified during training or optimization.\n",
    "- They are created using the `tf.constant()` function.\n",
    "\n",
    "Here's an example of creating a TensorFlow constant:"
   ]
  },
  {
   "cell_type": "code",
   "execution_count": 24,
   "id": "43c1f6c6",
   "metadata": {},
   "outputs": [
    {
     "name": "stdout",
     "output_type": "stream",
     "text": [
      "15\n"
     ]
    }
   ],
   "source": [
    "import tensorflow as tf\n",
    "\n",
    "# Create a TensorFlow constant\n",
    "a = tf.constant(5)\n",
    "b = tf.constant(10)\n",
    "c = a + b\n",
    "\n",
    "print(c.numpy())  # Prints the value 15"
   ]
  },
  {
   "cell_type": "markdown",
   "id": "661249e0",
   "metadata": {},
   "source": [
    "**TensorFlow Variable:**\n",
    "- A variable in TensorFlow represents a mutable tensor that can hold different values during the execution of a computation graph.\n",
    "- Variables are often used to store model parameters that need to be optimized during training, such as weights and biases in a neural network.\n",
    "- They can be updated using operations like assignment.\n",
    "- Variables are created using the `tf.Variable()` function.\n",
    "\n",
    "Here's an example of creating a TensorFlow variable and updating its value:"
   ]
  },
  {
   "cell_type": "code",
   "execution_count": 25,
   "id": "daa6f241",
   "metadata": {},
   "outputs": [
    {
     "name": "stdout",
     "output_type": "stream",
     "text": [
      "1.0\n"
     ]
    }
   ],
   "source": [
    "import tensorflow as tf\n",
    "\n",
    "# Create a TensorFlow variable\n",
    "x = tf.Variable(0.0)\n",
    "\n",
    "# Update the variable's value\n",
    "x.assign_add(1.0)\n",
    "\n",
    "print(x.numpy())  # Prints the updated value 1.0"
   ]
  },
  {
   "cell_type": "markdown",
   "id": "08b4ca56",
   "metadata": {},
   "source": [
    "\n",
    "In summary, constants are used for values that remain fixed throughout the computation, while variables are used for values that can be modified and updated. Variables are commonly used in machine learning models for storing trainable parameters, whereas constants are useful for fixed values used in computations."
   ]
  },
  {
   "cell_type": "markdown",
   "id": "498688ef",
   "metadata": {},
   "source": [
    "consider an example where we build a simple linear regression model using TensorFlow. We'll use both constants and variables in this example.\n",
    "\n",
    "\n",
    "**TensorFlow Constant Example:**"
   ]
  },
  {
   "cell_type": "code",
   "execution_count": 78,
   "id": "e3a85a0a",
   "metadata": {},
   "outputs": [
    {
     "name": "stdout",
     "output_type": "stream",
     "text": [
      "Loss: 30.0\n"
     ]
    }
   ],
   "source": [
    "import tensorflow as tf\n",
    "\n",
    "# Define the input data and labels\n",
    "X = tf.constant([1.0, 2.0, 3.0, 4.0], dtype=tf.float32)\n",
    "y = tf.constant([2.0, 4.0, 6.0, 8.0], dtype=tf.float32)\n",
    "\n",
    "# Define the model parameters (constants)\n",
    "W = tf.constant(0.0, dtype=tf.float32)\n",
    "b = tf.constant(0.0, dtype=tf.float32)\n",
    "\n",
    "# Define the linear model\n",
    "predictions = X * W + b\n",
    "\n",
    "# Calculate the mean squared error loss\n",
    "loss = tf.reduce_mean(tf.square(predictions - y))\n",
    "\n",
    "print(\"Loss:\", loss.numpy())  # Prints the loss value\n"
   ]
  },
  {
   "cell_type": "markdown",
   "id": "68b626f2",
   "metadata": {},
   "source": [
    "<!--  -->"
   ]
  },
  {
   "cell_type": "markdown",
   "id": "2491ffb5",
   "metadata": {},
   "source": [
    "**TensorFlow Variable Example:**"
   ]
  },
  {
   "cell_type": "code",
   "execution_count": 79,
   "id": "036bf98d",
   "metadata": {},
   "outputs": [
    {
     "name": "stdout",
     "output_type": "stream",
     "text": [
      "Updated W: 2.0199354\n",
      "Updated b: 0.37307423\n"
     ]
    }
   ],
   "source": [
    "import tensorflow as tf\n",
    "\n",
    "# Define the input data and labels\n",
    "X = tf.constant([1.0, 2.0, 3.0, 4.0], dtype=tf.float32)\n",
    "y = tf.constant([2.0, 4.9, 6.5, 8.3], dtype=tf.float32)\n",
    "\n",
    "# Define the model parameters (variables)\n",
    "W = tf.Variable(0.9, dtype=tf.float32)\n",
    "b = tf.Variable(0.0, dtype=tf.float32)\n",
    "\n",
    "# Define the linear model\n",
    "def linear_model(x):\n",
    "    return x * W + b\n",
    "\n",
    "# Calculate the mean squared error loss\n",
    "def mean_squared_error(y_true, y_pred):\n",
    "    return tf.reduce_mean(tf.square(y_true - y_pred))\n",
    "\n",
    "# Create an optimizer and define the training step\n",
    "optimizer = tf.optimizers.SGD(learning_rate=0.01)\n",
    "\n",
    "def train_step(inputs, targets):\n",
    "    with tf.GradientTape() as tape:\n",
    "        predictions = linear_model(inputs)\n",
    "        loss = mean_squared_error(targets, predictions)\n",
    "    \n",
    "    gradients = tape.gradient(loss, [W, b])\n",
    "    optimizer.apply_gradients(zip(gradients, [W, b]))\n",
    "    return loss\n",
    "\n",
    "losses = []\n",
    "# Training loop\n",
    "for _ in range(30):\n",
    "    \n",
    "    loss = train_step(X, y)\n",
    "#     print(loss.numpy() ,end  = ' - ')\n",
    "    losses.append(loss.numpy())\n",
    "    \n",
    "\n",
    "print(\"Updated W:\", W.numpy())\n",
    "print(\"Updated b:\", b.numpy())"
   ]
  },
  {
   "cell_type": "code",
   "execution_count": 80,
   "id": "0b9e9c96",
   "metadata": {},
   "outputs": [
    {
     "data": {
      "text/plain": [
       "0.10497941"
      ]
     },
     "execution_count": 80,
     "metadata": {},
     "output_type": "execute_result"
    }
   ],
   "source": [
    "losses[-1]"
   ]
  },
  {
   "cell_type": "code",
   "execution_count": 81,
   "id": "120811a9",
   "metadata": {},
   "outputs": [
    {
     "data": {
      "image/png": "[encoded data removed]",
      "text/plain": [
       "<Figure size 640x480 with 1 Axes>"
      ]
     },
     "metadata": {},
     "output_type": "display_data"
    }
   ],
   "source": [
    "import matplotlib.pyplot as plt\n",
    "\n",
    "# List of losses w.r.t epochs\n",
    "# \n",
    "\n",
    "# Epochs (index + 1)\n",
    "epochs = list(range(1, len(losses) + 1))\n",
    "\n",
    "# Create a smooth curve plot\n",
    "plt.plot(epochs, losses, marker='o', linestyle='-')\n",
    "plt.xlabel('Epochs')\n",
    "plt.ylabel('Loss')\n",
    "plt.title('Loss Curve')\n",
    "plt.grid(True)\n",
    "plt.show()"
   ]
  },
  {
   "cell_type": "markdown",
   "id": "761291b8",
   "metadata": {},
   "source": [
    "<!--  -->"
   ]
  },
  {
   "cell_type": "markdown",
   "id": "89f50cbe",
   "metadata": {},
   "source": [
    "<a id=\"3\"></a> \n",
    " ## <p style=\"padding:10px;background-color: #00004d ;margin:10;color: white ;font-family:newtimeroman;font-size:100%;text-align:center;border-radius: 10px 10px ;overflow:hidden;font-weight:50\">Ans 3 </p> "
   ]
  },
  {
   "cell_type": "markdown",
   "id": "409b1b8c",
   "metadata": {},
   "source": [
    " description of matrix addition, multiplication, and element-wise operations in TensorFlow:\n",
    "\n",
    "1. **Matrix Addition:**\n",
    "Matrix addition involves adding corresponding elements from two matrices to create a new matrix. For two matrices to be added, they must have the same dimensions (same number of rows and columns). The addition operation is performed element-wise, where each element in the resulting matrix is the sum of the corresponding elements from the input matrices.\n",
    "\n",
    "2. **Matrix Multiplication:**\n",
    "Matrix multiplication is a more complex operation compared to addition. It involves multiplying elements from one matrix with elements from another matrix and then summing up the products to generate the elements of the resulting matrix. In order for two matrices to be multiplied, the number of columns in the first matrix must match the number of rows in the second matrix. The resulting matrix will have dimensions equal to the number of rows from the first matrix and the number of columns from the second matrix.\n",
    "\n",
    "3. **Element-wise Operations:**\n",
    "Element-wise operations involve performing an operation independently on each element of a matrix. These operations are applied element by element, without any interaction between elements in different positions. Common element-wise operations include addition, subtraction, multiplication, division, and exponentiation. TensorFlow supports various element-wise operations that can be performed on tensors, which include matrices as a special case.\n",
    "\n",
    "Matrix addition, multiplication, and element-wise operations are fundamental mathematical operations used extensively in various machine learning and deep learning algorithms. TensorFlow provides efficient implementations of these operations, allowing users to perform computations on tensors of various dimensions and sizes. These operations are crucial building blocks for constructing complex neural network architectures and implementing various mathematical algorithms in machine learning."
   ]
  },
  {
   "cell_type": "markdown",
   "id": "c5b4c690",
   "metadata": {},
   "source": [
    "TensorFlow provides various operations for performing matrix addition, multiplication, and element-wise operations.\n",
    "\n",
    "**Matrix Addition:**\n",
    "\n",
    "Matrix addition involves adding corresponding elements of two matrices of the same shape."
   ]
  },
  {
   "cell_type": "code",
   "execution_count": 82,
   "id": "c1a18532",
   "metadata": {},
   "outputs": [
    {
     "name": "stdout",
     "output_type": "stream",
     "text": [
      "Matrix Addition Result:\n",
      "[[ 6  8]\n",
      " [10 12]]\n"
     ]
    }
   ],
   "source": [
    "import tensorflow as tf\n",
    "\n",
    "# Define two matrices\n",
    "matrix_a = tf.constant([[1, 2], [3, 4]])\n",
    "matrix_b = tf.constant([[5, 6], [7, 8]])\n",
    "\n",
    "# Perform matrix addition\n",
    "result = tf.add(matrix_a, matrix_b)\n",
    "\n",
    "print(\"Matrix Addition Result:\")\n",
    "print(result.numpy())"
   ]
  },
  {
   "cell_type": "markdown",
   "id": "8a7ad0ed",
   "metadata": {},
   "source": [
    "**Matrix Multiplication:**\n",
    "\n",
    "Matrix multiplication involves multiplying two matrices following specific rules (inner dimensions must match)."
   ]
  },
  {
   "cell_type": "code",
   "execution_count": 83,
   "id": "8a015a1b",
   "metadata": {},
   "outputs": [
    {
     "name": "stdout",
     "output_type": "stream",
     "text": [
      "Matrix Multiplication Result:\n",
      "[[19 22]\n",
      " [43 50]]\n"
     ]
    }
   ],
   "source": [
    "import tensorflow as tf\n",
    "\n",
    "# Define two matrices\n",
    "matrix_a = tf.constant([[1, 2], [3, 4]])\n",
    "matrix_b = tf.constant([[5, 6], [7, 8]])\n",
    "\n",
    "# Perform matrix multiplication\n",
    "result = tf.matmul(matrix_a, matrix_b)\n",
    "\n",
    "print(\"Matrix Multiplication Result:\")\n",
    "print(result.numpy())"
   ]
  },
  {
   "cell_type": "markdown",
   "id": "2e5e393d",
   "metadata": {},
   "source": [
    "**Element-wise Operations:**\n",
    "\n",
    "Element-wise operations involve performing operations on corresponding elements of two matrices or on a single matrix."
   ]
  },
  {
   "cell_type": "code",
   "execution_count": 87,
   "id": "83ec87f1",
   "metadata": {},
   "outputs": [
    {
     "name": "stdout",
     "output_type": "stream",
     "text": [
      "Element-wise Square Result:\n",
      "[[ 1.  4.]\n",
      " [ 9. 16.]]\n",
      "\n",
      "Element-wise Square Root Result:\n",
      "[[1.        1.4142135]\n",
      " [1.7320508 2.       ]]\n"
     ]
    }
   ],
   "source": [
    "import tensorflow as tf\n",
    "\n",
    "# Define a matrix\n",
    "matrix = tf.constant([[1, 2], [3, 4]],dtype = tf.float32)\n",
    "\n",
    "# Perform element-wise operations\n",
    "result_square = tf.square(matrix)\n",
    "result_sqrt = tf.sqrt(matrix)\n",
    "\n",
    "print(\"Element-wise Square Result:\")\n",
    "print(result_square.numpy())\n",
    "\n",
    "print(\"\\nElement-wise Square Root Result:\")\n",
    "print(result_sqrt.numpy())"
   ]
  },
  {
   "cell_type": "markdown",
   "id": "ccc170be",
   "metadata": {},
   "source": [
    "<!--  -->"
   ]
  },
  {
   "cell_type": "markdown",
   "id": "ec563fd0",
   "metadata": {},
   "source": [
    "\n",
    "In element-wise operations, TensorFlow performs the operation on each corresponding element of the matrices individually.\n",
    "\n",
    "Remember that TensorFlow is optimized to work efficiently with matrices, and these operations are fundamental building blocks for many machine learning algorithms and neural network computations."
   ]
  },
  {
   "cell_type": "markdown",
   "id": "d3e8472e",
   "metadata": {},
   "source": [
    "<!--  -->"
   ]
  },
  {
   "cell_type": "markdown",
   "id": "33501fc5",
   "metadata": {},
   "source": [
    "<!--  -->"
   ]
  },
  {
   "cell_type": "code",
   "execution_count": null,
   "id": "05b34523",
   "metadata": {},
   "outputs": [],
   "source": []
  },
  {
   "cell_type": "markdown",
   "id": "cb37e422",
   "metadata": {},
   "source": [
    "<a id=\"1\"></a> \n",
    " # <p style=\"padding:10px;background-color: #000000 ;margin:10;color: white ;font-family:newtimeroman;font-size:100%;text-align:center;border-radius: 10px 10px ;overflow:hidden;font-weight:50\">Part 2 : Practical Implementation</p> "
   ]
  },
  {
   "cell_type": "markdown",
   "id": "d1854e3a",
   "metadata": {},
   "source": [
    "<a id=\"1\"></a> \n",
    " ## <p style=\"padding:10px;background-color: #000000 ;margin:10;color: white ;font-family:newtimeroman;font-size:100%;text-align:center;border-radius: 10px 10px ;overflow:hidden;font-weight:50\">Task 1: Creating and Manipulating Matrices </p> "
   ]
  },
  {
   "cell_type": "markdown",
   "id": "835e5fdc",
   "metadata": {},
   "source": [
    "<a id=\"4\"></a> \n",
    " ### <p style=\"padding:10px;background-color: #00004d ;margin:10;color: white ;font-family:newtimeroman;font-size:100%;text-align:center;border-radius: 10px 10px ;overflow:hidden;font-weight:50\">Ans 1 </p> "
   ]
  },
  {
   "cell_type": "code",
   "execution_count": 88,
   "id": "a598b579",
   "metadata": {},
   "outputs": [
    {
     "name": "stdout",
     "output_type": "stream",
     "text": [
      "Matrix A:\n",
      "[[ 1.3365396  -1.4771461   0.56235576]\n",
      " [ 0.26010105  1.403936    0.33743927]\n",
      " [-0.44946647 -0.08124543  0.04248153]]\n"
     ]
    }
   ],
   "source": [
    "import tensorflow as tf\n",
    "\n",
    "# Create a 2x2 matrix A with random values\n",
    "A = tf.random.normal(shape=(3, 3))\n",
    "\n",
    "# Display the values of matrix A\n",
    "print(\"Matrix A:\")\n",
    "print(A.numpy())"
   ]
  },
  {
   "cell_type": "code",
   "execution_count": null,
   "id": "9f2f1184",
   "metadata": {},
   "outputs": [],
   "source": []
  },
  {
   "cell_type": "markdown",
   "id": "e81f1700",
   "metadata": {},
   "source": [
    "<a id=\"4\"></a> \n",
    " ### <p style=\"padding:10px;background-color: #00004d ;margin:10;color: white ;font-family:newtimeroman;font-size:100%;text-align:center;border-radius: 10px 10px ;overflow:hidden;font-weight:50\">Ans 2 </p> "
   ]
  },
  {
   "cell_type": "code",
   "execution_count": 89,
   "id": "d51c062b",
   "metadata": {},
   "outputs": [
    {
     "name": "stdout",
     "output_type": "stream",
     "text": [
      "Matrix B:\n",
      "[[-0.8244479  -0.37243915 -1.5062159  -0.19901496]\n",
      " [ 0.23602471 -0.42227802 -1.3035266  -1.7831247 ]\n",
      " [-0.6899341   0.80615413  0.44262877 -1.3307973 ]\n",
      " [-0.5466388  -0.8510641  -0.04492265  0.16379306]]\n"
     ]
    }
   ],
   "source": [
    "import tensorflow as tf\n",
    "\n",
    "# Create a 4x4 Gaussian matrix B with random values\n",
    "B = tf.random.truncated_normal(shape=(4, 4))\n",
    "\n",
    "# Display the values of matrix B\n",
    "print(\"Matrix B:\")\n",
    "print(B.numpy())"
   ]
  },
  {
   "cell_type": "code",
   "execution_count": null,
   "id": "fd9e7f70",
   "metadata": {},
   "outputs": [],
   "source": []
  },
  {
   "cell_type": "markdown",
   "id": "6f955961",
   "metadata": {},
   "source": [
    "<a id=\"4\"></a> \n",
    " ### <p style=\"padding:10px;background-color: #00004d ;margin:10;color: white ;font-family:newtimeroman;font-size:100%;text-align:center;border-radius: 10px 10px ;overflow:hidden;font-weight:50\">Ans 3 </p> "
   ]
  },
  {
   "cell_type": "code",
   "execution_count": 90,
   "id": "ab11f259",
   "metadata": {},
   "outputs": [
    {
     "name": "stdout",
     "output_type": "stream",
     "text": [
      "Matrix C:\n",
      "[[2.5091195 2.8583462]\n",
      " [2.3387144 3.4136415]]\n"
     ]
    }
   ],
   "source": [
    "import tensorflow as tf\n",
    "\n",
    "\n",
    "mean = 3.0\n",
    "stddav = 0.5\n",
    "C = tf.random.normal(shape=(2, 2), mean=mean, stddev=stddav)\n",
    "\n",
    "# Display the values of matrix C\n",
    "print(\"Matrix C:\")\n",
    "print(C.numpy())\n"
   ]
  },
  {
   "cell_type": "code",
   "execution_count": null,
   "id": "d2d3ad28",
   "metadata": {},
   "outputs": [],
   "source": []
  },
  {
   "cell_type": "markdown",
   "id": "30226d00",
   "metadata": {},
   "source": [
    "<a id=\"4\"></a> \n",
    " ### <p style=\"padding:10px;background-color: #00004d ;margin:10;color: white ;font-family:newtimeroman;font-size:100%;text-align:center;border-radius: 10px 10px ;overflow:hidden;font-weight:50\">Ans 4 </p> "
   ]
  },
  {
   "cell_type": "code",
   "execution_count": 95,
   "id": "eb34d6c3",
   "metadata": {},
   "outputs": [
    {
     "name": "stdout",
     "output_type": "stream",
     "text": [
      "Matrix A:\n",
      "[[-2.669298    0.06231081  1.4270357   1.1733147 ]\n",
      " [ 1.8945633   0.18861726  0.9493956   1.5780599 ]\n",
      " [-0.6493704   0.8677143  -1.4899246   2.0200872 ]\n",
      " [ 0.27468377 -0.60755116  1.0702839  -1.9304745 ]]\n",
      "\n",
      "Matrix B:\n",
      "[[-0.7702963   1.2130482  -0.51616496  0.00490792]\n",
      " [ 1.1932555   1.3316773   0.9978451   1.6985267 ]\n",
      " [-1.9889421  -0.3841312  -0.22494228 -0.07201497]\n",
      " [-0.21458179  1.0392083  -0.9259822  -0.0040207 ]]\n",
      "\n",
      "Matrix D (A + B):\n",
      "[[-3.4395943   1.275359    0.91087073  1.1782227 ]\n",
      " [ 3.0878189   1.5202945   1.9472407   3.2765865 ]\n",
      " [-2.6383126   0.4835831  -1.7148669   1.9480723 ]\n",
      " [ 0.06010199  0.43165714  0.14430171 -1.9344952 ]]\n"
     ]
    }
   ],
   "source": [
    "import tensorflow as tf\n",
    "\n",
    "# Define matrices A and B\n",
    "A = tf.random.normal(shape=(4, 4))\n",
    "B = tf.random.truncated_normal(shape=(4, 4))\n",
    "\n",
    "# Perform matrix addition\n",
    "D = tf.add(A, B)\n",
    "\n",
    "# Display matrices A, B, and D\n",
    "print(\"Matrix A:\")\n",
    "print(A.numpy())\n",
    "print(\"\\nMatrix B:\")\n",
    "print(B.numpy())\n",
    "print(\"\\nMatrix D (A + B):\")\n",
    "print(D.numpy())"
   ]
  },
  {
   "cell_type": "code",
   "execution_count": null,
   "id": "3731c5c3",
   "metadata": {},
   "outputs": [],
   "source": []
  },
  {
   "cell_type": "markdown",
   "id": "9a981e8b",
   "metadata": {},
   "source": [
    "<a id=\"4\"></a> \n",
    " ### <p style=\"padding:10px;background-color: #00004d ;margin:10;color: white ;font-family:newtimeroman;font-size:100%;text-align:center;border-radius: 10px 10px ;overflow:hidden;font-weight:50\">Ans 5 </p> "
   ]
  },
  {
   "cell_type": "code",
   "execution_count": 97,
   "id": "8b97d72e",
   "metadata": {},
   "outputs": [
    {
     "name": "stdout",
     "output_type": "stream",
     "text": [
      "Matrix C:\n",
      "[[2.0476902 3.0834632 2.726493  2.4906516]\n",
      " [2.797266  3.3182733 3.6297488 2.4831886]\n",
      " [3.0086594 4.4422154 3.3566945 2.642982 ]]\n",
      "\n",
      "Matrix D:\n",
      "[[ 0.6616223  -0.17488319  1.2651899  -0.39398533]\n",
      " [-1.9394886  -1.2981925  -1.2777734   1.5807921 ]\n",
      " [-0.6478339   1.5483189  -0.08237109 -0.08162177]\n",
      " [ 0.5521036   0.30704874  0.11771065 -0.66006017]]\n",
      "\n",
      "Matrix E (C * D):\n",
      "[[-5.0167613   0.62519646 -1.2806582   2.201033  ]\n",
      " [-5.5655165   1.5855162  -0.70761704  2.208098  ]\n",
      " [-7.3404107  -0.28425694 -1.8350065   3.8183444 ]]\n"
     ]
    }
   ],
   "source": [
    "import tensorflow as tf\n",
    "\n",
    "A = tf.random.normal(shape=(4, 4))\n",
    "B = tf.random.truncated_normal(shape=(4, 4))\n",
    "\n",
    "C = tf.random.normal(mean=3, stddev=0.5, shape=(3, 4))\n",
    "D = tf.add(A, B)\n",
    "\n",
    "# Perform matrix multiplication\n",
    "E = tf.matmul(C, D)\n",
    "\n",
    "# Display matrices C, D, and E\n",
    "print(\"Matrix C:\")\n",
    "print(C.numpy())\n",
    "print(\"\\nMatrix D:\")\n",
    "print(D.numpy())\n",
    "print(\"\\nMatrix E (C * D):\")\n",
    "print(E.numpy())"
   ]
  },
  {
   "cell_type": "code",
   "execution_count": null,
   "id": "35ea47ab",
   "metadata": {},
   "outputs": [],
   "source": []
  },
  {
   "cell_type": "code",
   "execution_count": null,
   "id": "d41d78b5",
   "metadata": {},
   "outputs": [],
   "source": []
  },
  {
   "cell_type": "markdown",
   "id": "2b4de5cf",
   "metadata": {},
   "source": [
    "<a id=\"1\"></a> \n",
    " ## <p style=\"padding:10px;background-color: #000000 ;margin:10;color: white ;font-family:newtimeroman;font-size:100%;text-align:center;border-radius: 10px 10px ;overflow:hidden;font-weight:50\">Task 2 : Performing Additional Matrix Operations  </p> "
   ]
  },
  {
   "cell_type": "markdown",
   "id": "63172d07",
   "metadata": {},
   "source": [
    "<a id=\"4\"></a> \n",
    " ### <p style=\"padding:10px;background-color: #00004d ;margin:10;color: white ;font-family:newtimeroman;font-size:100%;text-align:center;border-radius: 10px 10px ;overflow:hidden;font-weight:50\">Ans 1 </p> "
   ]
  },
  {
   "cell_type": "code",
   "execution_count": 102,
   "id": "95eee5ea",
   "metadata": {},
   "outputs": [
    {
     "name": "stdout",
     "output_type": "stream",
     "text": [
      "Matrix F :\n"
     ]
    },
    {
     "data": {
      "text/plain": [
       "array([[0.21362758, 0.6816857 , 0.5034555 ],\n",
       "       [0.89604175, 0.947371  , 0.03628492],\n",
       "       [0.90606415, 0.7171681 , 0.02228916]], dtype=float32)"
      ]
     },
     "execution_count": 102,
     "metadata": {},
     "output_type": "execute_result"
    }
   ],
   "source": [
    "import tensorflow as tf\n",
    "\n",
    "F = tf.random.uniform(shape=(3, 3))\n",
    "\n",
    "print(\"Matrix F :\")\n",
    "F.numpy()"
   ]
  },
  {
   "cell_type": "code",
   "execution_count": null,
   "id": "258c37b9",
   "metadata": {},
   "outputs": [],
   "source": []
  },
  {
   "cell_type": "markdown",
   "id": "264ad205",
   "metadata": {},
   "source": [
    "<a id=\"4\"></a> \n",
    " ### <p style=\"padding:10px;background-color: #00004d ;margin:10;color: white ;font-family:newtimeroman;font-size:100%;text-align:center;border-radius: 10px 10px ;overflow:hidden;font-weight:50\">Ans 2 </p> "
   ]
  },
  {
   "cell_type": "code",
   "execution_count": 107,
   "id": "7feb0285",
   "metadata": {},
   "outputs": [
    {
     "name": "stdout",
     "output_type": "stream",
     "text": [
      "Matrix G (Transpose of F) : \n",
      "\n",
      "[[0.71447587 0.8406049  0.4684906 ]\n",
      " [0.60329175 0.55119646 0.22050834]\n",
      " [0.6863985  0.12817502 0.5264566 ]]\n"
     ]
    }
   ],
   "source": [
    "import tensorflow as tf\n",
    "\n",
    "F = tf.random.uniform(shape=(3, 3))\n",
    "\n",
    "G = tf.transpose(F)\n",
    "\n",
    "print(\"Matrix G (Transpose of F) : \\n\")\n",
    "print(G.numpy())"
   ]
  },
  {
   "cell_type": "code",
   "execution_count": 108,
   "id": "c2119a14",
   "metadata": {},
   "outputs": [
    {
     "data": {
      "text/plain": [
       "array([[0.71447587, 0.8406049 , 0.4684906 ],\n",
       "       [0.60329175, 0.55119646, 0.22050834],\n",
       "       [0.6863985 , 0.12817502, 0.5264566 ]], dtype=float32)"
      ]
     },
     "execution_count": 108,
     "metadata": {},
     "output_type": "execute_result"
    }
   ],
   "source": [
    "# or\n",
    "F.numpy().T"
   ]
  },
  {
   "cell_type": "code",
   "execution_count": null,
   "id": "b747e5c3",
   "metadata": {},
   "outputs": [],
   "source": []
  },
  {
   "cell_type": "markdown",
   "id": "e03809a4",
   "metadata": {},
   "source": [
    "<a id=\"4\"></a> \n",
    " ### <p style=\"padding:10px;background-color: #00004d ;margin:10;color: white ;font-family:newtimeroman;font-size:100%;text-align:center;border-radius: 10px 10px ;overflow:hidden;font-weight:50\">Ans 3 </p> "
   ]
  },
  {
   "cell_type": "code",
   "execution_count": 110,
   "id": "5dbce7b3",
   "metadata": {},
   "outputs": [
    {
     "name": "stdout",
     "output_type": "stream",
     "text": [
      "Matrix H (Element-wise Exponential of F) :\n",
      "\n",
      "[[2.041055  2.0416608 1.3840443]\n",
      " [1.5730659 2.4880316 2.6135764]\n",
      " [1.4495125 2.3040085 1.5058795]]\n"
     ]
    }
   ],
   "source": [
    "import tensorflow as tf\n",
    "\n",
    "# Define matrix F with random values\n",
    "F = tf.random.uniform(shape=(3, 3))\n",
    "\n",
    "# Calculate element-wise exponential of matrix F and store in matrix H\n",
    "H = tf.exp(F)\n",
    "\n",
    "# Display matrix H\n",
    "print(\"Matrix H (Element-wise Exponential of F) :\\n\")\n",
    "print(H.numpy())"
   ]
  },
  {
   "cell_type": "code",
   "execution_count": null,
   "id": "9de5fb00",
   "metadata": {},
   "outputs": [],
   "source": []
  },
  {
   "cell_type": "markdown",
   "id": "527d30de",
   "metadata": {},
   "source": [
    "<a id=\"4\"></a> \n",
    " ### <p style=\"padding:10px;background-color: #00004d ;margin:10;color: white ;font-family:newtimeroman;font-size:100%;text-align:center;border-radius: 10px 10px ;overflow:hidden;font-weight:50\">Ans 4 </p> "
   ]
  },
  {
   "cell_type": "code",
   "execution_count": 115,
   "id": "dfb8246b",
   "metadata": {},
   "outputs": [
    {
     "name": "stdout",
     "output_type": "stream",
     "text": [
      "Matrix I (Concatenation of F and G horizontally) : \n",
      "\n",
      "[[0.6488178  0.09467566 0.4425429  0.6488178  0.72392845 0.7989994 ]\n",
      " [0.72392845 0.6184418  0.88726795 0.09467566 0.6184418  0.0910368 ]\n",
      " [0.7989994  0.0910368  0.21248281 0.4425429  0.88726795 0.21248281]]\n"
     ]
    }
   ],
   "source": [
    "import tensorflow as tf\n",
    "\n",
    "# Define matrix F with random values\n",
    "F = tf.random.uniform(shape=(3, 3))\n",
    "\n",
    "# Calculate the transpose of matrix F\n",
    "G = tf.transpose(F)\n",
    "\n",
    "# Concatenate matrices F and G horizontally to create matrix I\n",
    "I = tf.concat([F, G], axis=1)\n",
    "\n",
    "# Display matrix I\n",
    "print(\"Matrix I (Concatenation of F and G horizontally) : \\n\")\n",
    "print(I.numpy())"
   ]
  },
  {
   "cell_type": "code",
   "execution_count": null,
   "id": "0f4c7248",
   "metadata": {},
   "outputs": [],
   "source": []
  },
  {
   "cell_type": "code",
   "execution_count": null,
   "id": "8d92d197",
   "metadata": {},
   "outputs": [],
   "source": []
  },
  {
   "cell_type": "markdown",
   "id": "2fe2a18e",
   "metadata": {},
   "source": [
    "<a id=\"4\"></a> \n",
    " ### <p style=\"padding:10px;background-color: #00004d ;margin:10;color: white ;font-family:newtimeroman;font-size:100%;text-align:center;border-radius: 10px 10px ;overflow:hidden;font-weight:50\">Ans 5 </p> "
   ]
  },
  {
   "cell_type": "code",
   "execution_count": 114,
   "id": "4d79a252",
   "metadata": {},
   "outputs": [
    {
     "name": "stdout",
     "output_type": "stream",
     "text": [
      "Matrix J (Concatenation of F and H vertically) : \n",
      "\n",
      "[[0.41695225 0.15032387 0.64870334]\n",
      " [0.42901826 0.02155864 0.16916442]\n",
      " [0.9589155  0.13627887 0.96136546]\n",
      " [0.31873953 0.98188806 0.41794038]\n",
      " [0.48924983 0.4393996  0.2138269 ]]\n"
     ]
    }
   ],
   "source": [
    "import tensorflow as tf\n",
    "\n",
    "F = tf.random.uniform(shape=(3, 3))\n",
    "\n",
    "H = tf.random.uniform(shape=(2, 3))\n",
    "\n",
    "J = tf.concat([F, H], axis=0)\n",
    "\n",
    "print(\"Matrix J (Concatenation of F and H vertically) : \\n\")\n",
    "print(J.numpy())"
   ]
  },
  {
   "cell_type": "code",
   "execution_count": null,
   "id": "55c745d9",
   "metadata": {},
   "outputs": [],
   "source": []
  },
  {
   "cell_type": "code",
   "execution_count": null,
   "id": "33a86149",
   "metadata": {},
   "outputs": [],
   "source": []
  },
  {
   "cell_type": "markdown",
   "id": "be310b95",
   "metadata": {},
   "source": [
    "<a id=\"15\"></a> \n",
    " # <p style=\"padding:10px;background-color: #01DFD7 ;margin:10;color: white ;font-family:newtimeroman;font-size:100%;text-align:center;border-radius: 10px 10px ;overflow:hidden;font-weight:50\">END</p> "
   ]
  },
  {
   "cell_type": "code",
   "execution_count": null,
   "id": "a09a353c",
   "metadata": {},
   "outputs": [],
   "source": []
  },
  {
   "cell_type": "code",
   "execution_count": null,
   "id": "dfad294d",
   "metadata": {},
   "outputs": [],
   "source": []
  },
  {
   "cell_type": "code",
   "execution_count": null,
   "id": "d265bda7",
   "metadata": {},
   "outputs": [],
   "source": []
  },
  {
   "cell_type": "code",
   "execution_count": null,
   "id": "aa1b47e3",
   "metadata": {},
   "outputs": [],
   "source": []
  },
  {
   "cell_type": "code",
   "execution_count": null,
   "id": "277716b2",
   "metadata": {},
   "outputs": [],
   "source": []
  },
  {
   "cell_type": "code",
   "execution_count": null,
   "id": "353e8663",
   "metadata": {},
   "outputs": [],
   "source": []
  },
  {
   "cell_type": "code",
   "execution_count": null,
   "id": "b09e35db",
   "metadata": {},
   "outputs": [],
   "source": []
  },
  {
   "cell_type": "code",
   "execution_count": null,
   "id": "6ff87a41",
   "metadata": {},
   "outputs": [],
   "source": []
  },
  {
   "cell_type": "code",
   "execution_count": 32,
   "id": "5de80e76",
   "metadata": {},
   "outputs": [],
   "source": [
    "# import tensorflow as tf\n",
    "\n",
    "# # Define the input data and labels\n",
    "# X = tf.constant([1.0, 2.0, 3.0, 4.0], dtype=tf.float32)\n",
    "# y = tf.constant([2.0, 4.0, 6.0, 8.0], dtype=tf.float32)\n",
    "\n",
    "# # Define the model parameters (variables)\n",
    "# W = tf.Variable(0.0, dtype=tf.float32)\n",
    "# b = tf.Variable(0.0, dtype=tf.float32)\n",
    "\n",
    "# # Define the linear model\n",
    "# predictions = X * W + b\n",
    "\n",
    "# # Calculate the mean squared error loss\n",
    "# loss = tf.reduce_mean(tf.square(predictions - y))\n",
    "\n",
    "# # Create an optimizer and minimize the loss\n",
    "# optimizer = tf.optimizers.SGD(learning_rate=0.01)\n",
    "# optimizer.minimize(loss, var_list=[W, b] )\n",
    "\n",
    "# print(\"Updated W:\", W.numpy())\n",
    "# print(\"Updated b:\", b.numpy())"
   ]
  },
  {
   "cell_type": "code",
   "execution_count": null,
   "id": "86e7ce35",
   "metadata": {},
   "outputs": [],
   "source": []
  },
  {
   "cell_type": "code",
   "execution_count": null,
   "id": "7afc84ff",
   "metadata": {},
   "outputs": [],
   "source": []
  },
  {
   "cell_type": "code",
   "execution_count": null,
   "id": "4e664f24",
   "metadata": {},
   "outputs": [],
   "source": []
  },
  {
   "cell_type": "code",
   "execution_count": null,
   "id": "db0dd6c6",
   "metadata": {},
   "outputs": [],
   "source": []
  },
  {
   "cell_type": "code",
   "execution_count": null,
   "id": "c2376fe9",
   "metadata": {},
   "outputs": [],
   "source": []
  }
 ],
 "metadata": {
  "kernelspec": {
   "display_name": "Python 3 (ipykernel)",
   "language": "python",
   "name": "python3"
  },
  "language_info": {
   "codemirror_mode": {
    "name": "ipython",
    "version": 3
   },
   "file_extension": ".py",
   "mimetype": "text/x-python",
   "name": "python",
   "nbconvert_exporter": "python",
   "pygments_lexer": "ipython3",
   "version": "3.11.5"
  }
 },
 "nbformat": 4,
 "nbformat_minor": 5
}
