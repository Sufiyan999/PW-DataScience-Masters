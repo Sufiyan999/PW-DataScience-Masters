{
 "cells": [
  {
   "cell_type": "markdown",
   "id": "8WcjpPX1eo1D",
   "metadata": {
    "id": "8WcjpPX1eo1D"
   },
   "source": [
    "<a id=\"1\"></a>\n",
    " # <p style=\"padding:10px;background-color: #000000 ;margin:10;color: white ;font-family:newtimeroman;font-size:100%;text-align:center;border-radius: 10px 10px ;overflow:hidden;font-weight:50\">Run it in colab</p>"
   ]
  },
  {
   "cell_type": "markdown",
   "id": "fc98da40",
   "metadata": {
    "id": "fc98da40"
   },
   "source": [
    "<a id=\"1\"></a>\n",
    " # <p style=\"padding:10px;background-color: #00004d ;margin:10;color: white ;font-family:newtimeroman;font-size:100%;text-align:center;border-radius: 10px 10px ;overflow:hidden;font-weight:50\">Ans 1 </p>"
   ]
  },
  {
   "cell_type": "markdown",
   "id": "cea08263",
   "metadata": {
    "id": "cea08263"
   },
   "source": [
    "## 1."
   ]
  },
  {
   "cell_type": "markdown",
   "id": "ab443dc5",
   "metadata": {
    "id": "ab443dc5"
   },
   "source": [
    "Batch normalization is a technique used in artificial neural networks to improve the training stability and speed by normalizing the input of each layer during training. It aims to mitigate the internal covariate shift, which refers to the change in distribution of layer inputs as the model learns, making the training process more efficient.\n",
    "\n",
    "In a neural network, the distribution of inputs to each layer changes as the parameters of previous layers are updated during training. This can lead to slower convergence and gradient vanishing/exploding problems. Batch normalization addresses this issue by normalizing the input of each layer to have zero mean and unit variance.\n",
    "\n",
    "The basic idea of batch normalization is to normalize the activations of each layer using the mean and variance computed over a batch of training examples. This normalization process is performed for each mini-batch during training. After normalization, the normalized values are scaled and shifted using learnable parameters to ensure that the network can still learn and adapt to the data.\n",
    "\n",
    "The batch normalization process can be summarized as follows:\n",
    "\n",
    "1. Calculate the mean and variance of the activations within a mini-batch.\n",
    "2. Normalize the activations by subtracting the mean and dividing by the square root of the variance.\n",
    "3. Scale and shift the normalized activations using learnable parameters (gamma and beta).\n",
    "4. The scaled and shifted values are then passed through the activation function.\n",
    "\n",
    "Batch normalization provides several benefits, including:\n",
    "\n",
    "1. **Stable Training:** Batch normalization helps mitigate the vanishing/exploding gradient problem, allowing for more stable and faster training.\n",
    "2. **Increased Learning Rates:** It enables the use of higher learning rates, which can accelerate the convergence of the training process.\n",
    "3. **Regularization Effect:** Batch normalization has a slight regularization effect, reducing the need for dropout or other regularization techniques.\n",
    "4. **Reduced Sensitivity to Initialization:** Batch normalization reduces the sensitivity of the network to the choice of initial weights.\n",
    "5. **Generalization:** It can improve the generalization performance of the model on validation and test data.\n",
    "\n",
    "In summary, batch normalization helps neural networks train faster and more reliably by maintaining stable activations throughout the network during training."
   ]
  },
  {
   "cell_type": "markdown",
   "id": "627e502b",
   "metadata": {
    "id": "627e502b"
   },
   "source": [
    "## 2."
   ]
  },
  {
   "cell_type": "markdown",
   "id": "b062882a",
   "metadata": {
    "id": "b062882a"
   },
   "source": [
    "Using batch normalization during training offers several benefits that contribute to more stable and efficient neural network training. Some of these benefits include:\n",
    "\n",
    "1. **Faster Convergence:** Batch normalization helps the training process converge faster. By normalizing the inputs, it reduces the internal covariate shift, allowing the network to learn more quickly and efficiently. As a result, the number of training iterations required to reach a certain level of accuracy is often reduced.\n",
    "\n",
    "2. **Stable Gradients:** Batch normalization helps mitigate the vanishing and exploding gradient problems. It maintains activations within a certain range, preventing gradients from becoming too small or too large. This stability in gradients allows for more consistent and effective weight updates during backpropagation.\n",
    "\n",
    "3. **Higher Learning Rates:** Batch normalization enables the use of larger learning rates without causing the training process to diverge. Larger learning rates can help the model converge more quickly, as long as they are chosen carefully.\n",
    "\n",
    "4. **Regularization Effect:** Batch normalization acts as a form of regularization by adding noise to the activations during training. This noise introduces some randomness, similar to dropout, which can help prevent overfitting and improve generalization to unseen data.\n",
    "\n",
    "5. **Reduced Dependency on Initialization:** Batch normalization reduces the need for careful weight initialization. It helps counteract the effects of poor initialization choices by normalizing the activations, making the network less sensitive to initial weights.\n",
    "\n",
    "6. **Improved Gradient Flow:** By maintaining stable activations, batch normalization ensures smoother and more consistent gradient flow throughout the network. This leads to more efficient weight updates and better convergence.\n",
    "\n",
    "7. **Better Generalization:** Batch normalization can improve the generalization performance of the model on unseen data. It regularizes the network and reduces the chances of overfitting, resulting in a model that performs well on both training and validation/test datasets.\n",
    "\n",
    "8. **Effective Training of Deep Networks:** Batch normalization is especially valuable when training deep networks with many layers. It helps prevent issues that can arise due to vanishing/exploding gradients in deep architectures.\n",
    "\n",
    "9. **Adaptability to Different Datasets:** Batch normalization adjusts the activations for each batch, making the network adaptable to variations in data distributions and characteristics within the training dataset.\n",
    "\n",
    "In summary, batch normalization is a powerful technique that addresses several challenges associated with training neural networks. Its ability to stabilize activations, improve gradient flow, and enhance generalization makes it an essential tool for accelerating and optimizing the training process."
   ]
  },
  {
   "cell_type": "markdown",
   "id": "b7eec685",
   "metadata": {
    "id": "b7eec685"
   },
   "source": [
    "## 3."
   ]
  },
  {
   "cell_type": "markdown",
   "id": "b0e96e9d",
   "metadata": {
    "id": "b0e96e9d"
   },
   "source": [
    "Batch normalization works by normalizing the activations of a neural network's hidden layers within each mini-batch of training data. This normalization helps mitigate the internal covariate shift, where the distribution of activations changes during training. The working principle of batch normalization involves two main steps: the normalization step and the introduction of learnable parameters for scaling and shifting.\n",
    "\n",
    "1. **Normalization Step:**\n",
    "   In the normalization step, the activations of each layer within a mini-batch are normalized to have zero mean and unit variance. This is done to ensure that the activations are centered around zero and have a similar scale. The normalization is performed using the following formula:\n",
    "\n",
    "   \\[   X̂_i     =  ( x_i - μ )   / sqrt( σ ^2 +  ε )   \\]\n",
    "\n",
    "   Here, \\( X̂_i \\) is the normalized activation of the \\(i\\)th unit, \\(x_i\\) is the original activation, \\( μ \\) is the mean of the mini-batch, \\( σ \\) is the standard deviation of the mini-batch, and \\(  ε  \\) is a small constant to avoid division by zero.\n",
    "\n",
    "2. **Learnable Parameters:**\n",
    "   After normalization, the activations are further scaled and shifted using learnable parameters. This introduces flexibility to the normalization process and allows the network to adapt the normalized activations as needed for optimal training. The scaled and shifted activations are given by:\n",
    "\n",
    "   \\[\n",
    "   y_i = γ   * X̂   +   β\n",
    "   \\]\n",
    "\n",
    "   Here, \\(y_i\\) is the final normalized and scaled activation, \\( γ \\) is a learnable scaling parameter, and \\( β \\) is a learnable shifting parameter. These parameters are updated during training using backpropagation.\n",
    "\n",
    "3. **Integration into Neural Network Architecture:**\n",
    "   Batch normalization is typically applied right after the linear transformation and before the activation function in each layer of the neural network. During training, the normalization and learnable parameter updates are performed independently for each mini-batch. However, during inference, batch normalization is often applied differently to ensure that the model's behavior remains consistent.\n",
    "   \n",
    "\n",
    "In summary, batch normalization ensures that activations within each mini-batch are centered and scaled, reducing the internal covariate shift during training. The learnable parameters \\( γ \\) and \\( β \\) introduce adaptability to the normalization process, allowing the network to learn the optimal scaling and shifting for improved training and convergence."
   ]
  },
  {
   "cell_type": "code",
   "execution_count": null,
   "id": "028ce157",
   "metadata": {
    "id": "028ce157"
   },
   "outputs": [],
   "source": []
  },
  {
   "cell_type": "markdown",
   "id": "caf37247",
   "metadata": {
    "id": "caf37247"
   },
   "source": [
    "<a id=\"2\"></a>\n",
    " # <p style=\"padding:10px;background-color: #00004d ;margin:10;color: white ;font-family:newtimeroman;font-size:100%;text-align:center;border-radius: 10px 10px ;overflow:hidden;font-weight:50\">Ans 2 </p>"
   ]
  },
  {
   "cell_type": "markdown",
   "id": "749d0f56",
   "metadata": {
    "id": "749d0f56"
   },
   "source": [
    "## 1."
   ]
  },
  {
   "cell_type": "code",
   "execution_count": 28,
   "id": "875a0388",
   "metadata": {
    "executionInfo": {
     "elapsed": 944,
     "status": "ok",
     "timestamp": 1693126938157,
     "user": {
      "displayName": "Moh Sufiyan",
      "userId": "05865655379155300368"
     },
     "user_tz": -330
    },
    "id": "875a0388"
   },
   "outputs": [],
   "source": [
    "%matplotlib inline"
   ]
  },
  {
   "cell_type": "code",
   "execution_count": 35,
   "id": "d3616bd6",
   "metadata": {
    "executionInfo": {
     "elapsed": 26,
     "status": "ok",
     "timestamp": 1693126939153,
     "user": {
      "displayName": "Moh Sufiyan",
      "userId": "05865655379155300368"
     },
     "user_tz": -330
    },
    "id": "d3616bd6"
   },
   "outputs": [],
   "source": [
    "import numpy as np                   # advanced math library\n",
    "import matplotlib.pyplot as plt      # MATLAB like plotting routines\n",
    "import random                        # for generating random numbers\n",
    "\n",
    "from keras.datasets import mnist     # MNIST dataset is included in Keras\n",
    "from keras.models import Sequential  # Model type to be used\n",
    "\n",
    "from keras.layers.core import Dense, Dropout, Activation # Types of layers to be used in our model\n",
    "from keras.utils import np_utils                         # NumPy related tools"
   ]
  },
  {
   "cell_type": "code",
   "execution_count": 36,
   "id": "c224670c",
   "metadata": {
    "colab": {
     "base_uri": "https://localhost:8080/"
    },
    "executionInfo": {
     "elapsed": 26,
     "status": "ok",
     "timestamp": 1693126939153,
     "user": {
      "displayName": "Moh Sufiyan",
      "userId": "05865655379155300368"
     },
     "user_tz": -330
    },
    "id": "c224670c",
    "outputId": "4dac7867-6cb2-4546-968f-c99b4fd0e698"
   },
   "outputs": [
    {
     "name": "stdout",
     "output_type": "stream",
     "text": [
      "X_train shape (60000, 28, 28)\n",
      "y_train shape (60000,)\n",
      "X_test shape (10000, 28, 28)\n",
      "y_test shape (10000,)\n"
     ]
    }
   ],
   "source": [
    "# The MNIST data is split between 60,000 28 x 28 pixel training images and 10,000 28 x 28 pixel images\n",
    "(X_train, y_train), (X_test, y_test) = mnist.load_data()\n",
    "\n",
    "print(\"X_train shape\", X_train.shape)\n",
    "print(\"y_train shape\", y_train.shape)\n",
    "print(\"X_test shape\", X_test.shape)\n",
    "print(\"y_test shape\", y_test.shape)"
   ]
  },
  {
   "cell_type": "code",
   "execution_count": 38,
   "id": "15905046",
   "metadata": {
    "colab": {
     "base_uri": "https://localhost:8080/",
     "height": 336
    },
    "executionInfo": {
     "elapsed": 984,
     "status": "ok",
     "timestamp": 1693126940135,
     "user": {
      "displayName": "Moh Sufiyan",
      "userId": "05865655379155300368"
     },
     "user_tz": -330
    },
    "id": "15905046",
    "outputId": "b56aafe1-0590-436c-c214-f576305afd77"
   },
   "outputs": [
    {
     "data": {
      "image/png": "[encoded data removed]",
      "text/plain": [
       "<Figure size 900x900 with 3 Axes>"
      ]
     },
     "metadata": {},
     "output_type": "display_data"
    }
   ],
   "source": [
    "plt.rcParams['figure.figsize'] = (9,9) # Make the figures a bit bigger\n",
    "\n",
    "for i in range(3):\n",
    "    plt.subplot(3,3,i+1)\n",
    "    num = random.randint(0, len(X_train))\n",
    "    plt.imshow(X_train[num], cmap='gray', interpolation='none')\n",
    "    plt.title(\"Class {}\".format(y_train[num]))\n",
    "\n",
    "plt.tight_layout()"
   ]
  },
  {
   "cell_type": "code",
   "execution_count": 39,
   "id": "0afb2c2f",
   "metadata": {
    "colab": {
     "base_uri": "https://localhost:8080/"
    },
    "executionInfo": {
     "elapsed": 8,
     "status": "ok",
     "timestamp": 1693126940135,
     "user": {
      "displayName": "Moh Sufiyan",
      "userId": "05865655379155300368"
     },
     "user_tz": -330
    },
    "id": "0afb2c2f",
    "outputId": "902d1274-969f-42a2-ac07-19ae22f1d673"
   },
   "outputs": [
    {
     "name": "stdout",
     "output_type": "stream",
     "text": [
      "0  0  0  0  0  0  0  0  0  0    0    0    0    0    0    0    0    0    0    0  0  0  0  0  0  0  0  0  \n",
      "0  0  0  0  0  0  0  0  0  0    0    0    0    0    0    0    0    0    0    0  0  0  0  0  0  0  0  0  \n",
      "0  0  0  0  0  0  0  0  0  0    0    0    0    0    0    0   87  230  181    0  0  0  0  0  0  0  0  0  \n",
      "0  0  0  0  0  0  0  0  0  0    0    0    0    0    0    0  146  222  141    0  0  0  0  0  0  0  0  0  \n",
      "0  0  0  0  0  0  0  0  0  0    0    0    0    0    0   70  226   32    0    0  0  0  0  0  0  0  0  0  \n",
      "0  0  0  0  0  0  0  0  0  0    0    0    0    0    0  203  136    0    0    0  0  0  0  0  0  0  0  0  \n",
      "0  0  0  0  0  0  0  0  0  0    0    0    0    1  112  251   56    0    0    0  0  0  0  0  0  0  0  0  \n",
      "0  0  0  0  0  0  0  0  0  0    0    0    0    6  254  185    2    0    0    0  0  0  0  0  0  0  0  0  \n",
      "0  0  0  0  0  0  0  0  0  0    0    0    0  104  251   61    0    0    0    0  0  0  0  0  0  0  0  0  \n",
      "0  0  0  0  0  0  0  0  0  0    0    0   42  239  111    0    0    0    0    0  0  0  0  0  0  0  0  0  \n",
      "0  0  0  0  0  0  0  0  0  0    0    1  110  204    0    0    0    0    0    0  0  0  0  0  0  0  0  0  \n",
      "0  0  0  0  0  0  0  0  0  0    0   38  254   82    0    0    0    0    0    0  0  0  0  0  0  0  0  0  \n",
      "0  0  0  0  0  0  0  0  0  0    0  160  204    9    0    0    0    0    0    0  0  0  0  0  0  0  0  0  \n",
      "0  0  0  0  0  0  0  0  0  0    0  181  243   34    0    0    0    0    0    0  0  0  0  0  0  0  0  0  \n",
      "0  0  0  0  0  0  0  0  0  0   56  247  214   89  153  193  193  156    6    0  0  0  0  0  0  0  0  0  \n",
      "0  0  0  0  0  0  0  0  0  0   74  254  254  254  254  254  254  254  215    9  0  0  0  0  0  0  0  0  \n",
      "0  0  0  0  0  0  0  0  0  0   74  254  235  131   73   73  219  254  254   73  0  0  0  0  0  0  0  0  \n",
      "0  0  0  0  0  0  0  0  0  0  167  240   19    0    0    0   32  208  253  115  0  0  0  0  0  0  0  0  \n",
      "0  0  0  0  0  0  0  0  0  0  107  243   24    0    0    0    0    0  240   73  0  0  0  0  0  0  0  0  \n",
      "0  0  0  0  0  0  0  0  0  0   71  253  137   11    5    5   54  127  238   40  0  0  0  0  0  0  0  0  \n",
      "0  0  0  0  0  0  0  0  0  0    0  158  254  254  197  198  254  234   88    0  0  0  0  0  0  0  0  0  \n",
      "0  0  0  0  0  0  0  0  0  0    0   29  219  255  254  214  133   30    0    0  0  0  0  0  0  0  0  0  \n",
      "0  0  0  0  0  0  0  0  0  0    0    0    0    0    0    0    0    0    0    0  0  0  0  0  0  0  0  0  \n",
      "0  0  0  0  0  0  0  0  0  0    0    0    0    0    0    0    0    0    0    0  0  0  0  0  0  0  0  0  \n",
      "0  0  0  0  0  0  0  0  0  0    0    0    0    0    0    0    0    0    0    0  0  0  0  0  0  0  0  0  \n",
      "0  0  0  0  0  0  0  0  0  0    0    0    0    0    0    0    0    0    0    0  0  0  0  0  0  0  0  0  \n",
      "0  0  0  0  0  0  0  0  0  0    0    0    0    0    0    0    0    0    0    0  0  0  0  0  0  0  0  0  \n",
      "0  0  0  0  0  0  0  0  0  0    0    0    0    0    0    0    0    0    0    0  0  0  0  0  0  0  0  0  \n"
     ]
    }
   ],
   "source": [
    "# just a little function for pretty printing a matrix\n",
    "def matprint(mat, fmt=\"g\"):\n",
    "    col_maxes = [max([len((\"{:\"+fmt+\"}\").format(x)) for x in col]) for col in mat.T]\n",
    "    for x in mat:\n",
    "        for i, y in enumerate(x):\n",
    "            print((\"{:\"+str(col_maxes[i])+fmt+\"}\").format(y), end=\"  \")\n",
    "        print(\"\")\n",
    "\n",
    "matprint(X_train[num])"
   ]
  },
  {
   "cell_type": "markdown",
   "id": "XRFrmRHrhrbt",
   "metadata": {
    "id": "XRFrmRHrhrbt"
   },
   "source": [
    "## Formatting the input data layer\n",
    "\n",
    "Instead of a 28 x 28 matrix, we build our network to accept a 784-length vector.\n",
    "\n",
    "Each image needs to be then reshaped (or flattened) into a vector. We'll also normalize the inputs to be in the range [0-1] rather than [0-255]. Normalizing inputs is generally recommended, so that any additional dimensions (for other network architectures) are of the same scale."
   ]
  },
  {
   "cell_type": "code",
   "execution_count": 40,
   "id": "2yoIbUf1hvOL",
   "metadata": {
    "colab": {
     "base_uri": "https://localhost:8080/"
    },
    "executionInfo": {
     "elapsed": 5,
     "status": "ok",
     "timestamp": 1693126940135,
     "user": {
      "displayName": "Moh Sufiyan",
      "userId": "05865655379155300368"
     },
     "user_tz": -330
    },
    "id": "2yoIbUf1hvOL",
    "outputId": "0daec283-5d5d-45bc-d4fe-157c2ea166a8"
   },
   "outputs": [
    {
     "name": "stdout",
     "output_type": "stream",
     "text": [
      "Training matrix shape (60000, 784)\n",
      "Testing matrix shape (10000, 784)\n"
     ]
    }
   ],
   "source": [
    "X_train = X_train.reshape(60000, 784) # reshape 60,000 28 x 28 matrices into 60,000 784-length vectors.\n",
    "X_test = X_test.reshape(10000, 784)   # reshape 10,000 28 x 28 matrices into 10,000 784-length vectors.\n",
    "\n",
    "X_train = X_train.astype('float32')   # change integers to 32-bit floating point numbers\n",
    "X_test = X_test.astype('float32')\n",
    "\n",
    "X_train /= 255                        # normalize each value for each pixel for the entire vector for each input\n",
    "X_test /= 255\n",
    "\n",
    "print(\"Training matrix shape\", X_train.shape)\n",
    "print(\"Testing matrix shape\", X_test.shape)"
   ]
  },
  {
   "cell_type": "markdown",
   "id": "Re8VxmFniGff",
   "metadata": {
    "id": "Re8VxmFniGff"
   },
   "source": [
    "We then modify our classes (unique digits) to be in the one-hot format, i.e.\n",
    "\n",
    "```\n",
    "0 -> [1, 0, 0, 0, 0, 0, 0, 0, 0]\n",
    "1 -> [0, 1, 0, 0, 0, 0, 0, 0, 0]\n",
    "2 -> [0, 0, 1, 0, 0, 0, 0, 0, 0]\n",
    "etc.\n",
    "```\n",
    "\n",
    "If the final output of our network is very close to one of these classes, then it is most likely that class. For example, if the final output is:\n",
    "\n",
    "```\n",
    "[0, 0.94, 0, 0, 0, 0, 0.06, 0, 0]\n",
    "```\n",
    "then it is most probable that the image is that of the digit `1`."
   ]
  },
  {
   "cell_type": "code",
   "execution_count": 41,
   "id": "jbGaGCW9hvRC",
   "metadata": {
    "executionInfo": {
     "elapsed": 960,
     "status": "ok",
     "timestamp": 1693126941092,
     "user": {
      "displayName": "Moh Sufiyan",
      "userId": "05865655379155300368"
     },
     "user_tz": -330
    },
    "id": "jbGaGCW9hvRC"
   },
   "outputs": [],
   "source": [
    "nb_classes = 10 # number of unique digits\n",
    "\n",
    "Y_train = np_utils.to_categorical(y_train, nb_classes)\n",
    "Y_test = np_utils.to_categorical(y_test, nb_classes)"
   ]
  },
  {
   "cell_type": "code",
   "execution_count": 43,
   "id": "gEsRwpj4hvTp",
   "metadata": {
    "executionInfo": {
     "elapsed": 3,
     "status": "ok",
     "timestamp": 1693126941093,
     "user": {
      "displayName": "Moh Sufiyan",
      "userId": "05865655379155300368"
     },
     "user_tz": -330
    },
    "id": "gEsRwpj4hvTp"
   },
   "outputs": [],
   "source": [
    "val_X = X_train[50000 : ]\n",
    "val_y = Y_train[50000 : ]\n",
    "\n",
    "X_train =  X_train[ :50000 ]\n",
    "Y_train =  Y_train[ :50000 ]"
   ]
  },
  {
   "cell_type": "code",
   "execution_count": null,
   "id": "18c67864",
   "metadata": {},
   "outputs": [],
   "source": []
  },
  {
   "cell_type": "code",
   "execution_count": 44,
   "id": "59m8GYrfNzdy",
   "metadata": {
    "colab": {
     "base_uri": "https://localhost:8080/"
    },
    "executionInfo": {
     "elapsed": 3,
     "status": "ok",
     "timestamp": 1693126941093,
     "user": {
      "displayName": "Moh Sufiyan",
      "userId": "05865655379155300368"
     },
     "user_tz": -330
    },
    "id": "59m8GYrfNzdy",
    "outputId": "8a04bbcc-4641-4826-9d53-31781da89c87"
   },
   "outputs": [
    {
     "name": "stdout",
     "output_type": "stream",
     "text": [
      "Training matrix shape (50000, 784)\n",
      "validation matrix shape (10000, 784)\n",
      "Testing matrix shape (10000, 784)\n"
     ]
    }
   ],
   "source": [
    "print(\"Training matrix shape\", X_train.shape)\n",
    "print(\"validation matrix shape\", val_X.shape)\n",
    "print(\"Testing matrix shape\", X_test.shape)"
   ]
  },
  {
   "cell_type": "markdown",
   "id": "_GKZ9k0NjXFt",
   "metadata": {
    "id": "_GKZ9k0NjXFt"
   },
   "source": []
  },
  {
   "cell_type": "markdown",
   "id": "MULIZAsDjXIz",
   "metadata": {
    "id": "MULIZAsDjXIz"
   },
   "source": [
    "## Building a 3-layer fully connected network (FCN)"
   ]
  },
  {
   "cell_type": "code",
   "execution_count": 45,
   "id": "53W1FwVlhvWN",
   "metadata": {
    "executionInfo": {
     "elapsed": 3,
     "status": "ok",
     "timestamp": 1693126941093,
     "user": {
      "displayName": "Moh Sufiyan",
      "userId": "05865655379155300368"
     },
     "user_tz": -330
    },
    "id": "53W1FwVlhvWN"
   },
   "outputs": [],
   "source": [
    "model = Sequential()   # The Sequential model is a linear stack of layers and is very common."
   ]
  },
  {
   "cell_type": "markdown",
   "id": "6nlI2FO2jZSt",
   "metadata": {
    "id": "6nlI2FO2jZSt"
   },
   "source": [
    "## The first hidden layer"
   ]
  },
  {
   "cell_type": "code",
   "execution_count": 46,
   "id": "KusR-76FhvYq",
   "metadata": {
    "executionInfo": {
     "elapsed": 3,
     "status": "ok",
     "timestamp": 1693126941093,
     "user": {
      "displayName": "Moh Sufiyan",
      "userId": "05865655379155300368"
     },
     "user_tz": -330
    },
    "id": "KusR-76FhvYq"
   },
   "outputs": [],
   "source": [
    "# The first hidden layer is a set of 512 nodes (artificial neurons).\n",
    "# Each node will receive an element from each input vector and apply some weight and bias to it.\n",
    "\n",
    "model.add(Dense(512, input_shape=(784,)))"
   ]
  },
  {
   "cell_type": "code",
   "execution_count": 47,
   "id": "YCgl0RV-hvbB",
   "metadata": {
    "executionInfo": {
     "elapsed": 3,
     "status": "ok",
     "timestamp": 1693126941093,
     "user": {
      "displayName": "Moh Sufiyan",
      "userId": "05865655379155300368"
     },
     "user_tz": -330
    },
    "id": "YCgl0RV-hvbB"
   },
   "outputs": [],
   "source": [
    "# An \"activation\" is a non-linear function applied to the output of the layer above.\n",
    "# It checks the new value of the node, and decides whether that artifical neuron has fired.\n",
    "# The Rectified Linear Unit (ReLU) converts all negative inputs to nodes in the next layer to be zero.\n",
    "# Those inputs are then not considered to be fired.\n",
    "# Positive values of a node are unchanged.\n",
    "\n",
    "model.add(Activation('relu'))"
   ]
  },
  {
   "cell_type": "markdown",
   "id": "_ihP7LuLi5bb",
   "metadata": {
    "id": "_ihP7LuLi5bb"
   },
   "source": [
    "$$f(x) = max (0,x)$$"
   ]
  },
  {
   "cell_type": "code",
   "execution_count": 48,
   "id": "EnswGT_ahvdQ",
   "metadata": {
    "executionInfo": {
     "elapsed": 2,
     "status": "ok",
     "timestamp": 1693126941093,
     "user": {
      "displayName": "Moh Sufiyan",
      "userId": "05865655379155300368"
     },
     "user_tz": -330
    },
    "id": "EnswGT_ahvdQ"
   },
   "outputs": [],
   "source": [
    "# Dropout zeroes a selection of random outputs (i.e., disables their activation)\n",
    "# Dropout helps protect the model from memorizing or \"overfitting\" the training data.\n",
    "model.add(Dropout(0.2))"
   ]
  },
  {
   "cell_type": "markdown",
   "id": "QEe_8NmLjS7M",
   "metadata": {
    "id": "QEe_8NmLjS7M"
   },
   "source": [
    "## Adding the second hidden layer"
   ]
  },
  {
   "cell_type": "code",
   "execution_count": 49,
   "id": "YHhGkMgejIRU",
   "metadata": {
    "executionInfo": {
     "elapsed": 2,
     "status": "ok",
     "timestamp": 1693126941093,
     "user": {
      "displayName": "Moh Sufiyan",
      "userId": "05865655379155300368"
     },
     "user_tz": -330
    },
    "id": "YHhGkMgejIRU"
   },
   "outputs": [],
   "source": [
    "# The second hidden layer appears identical to our first layer.\n",
    "# However, instead of each of the 512-node receiving 784-inputs from the input image data,\n",
    "# they receive 512 inputs from the output of the first 512-node layer.\n",
    "\n",
    "model.add(Dense(512))\n",
    "model.add(Activation('relu'))\n",
    "model.add(Dropout(0.2))"
   ]
  },
  {
   "cell_type": "markdown",
   "id": "XT9naNWpjjb7",
   "metadata": {
    "id": "XT9naNWpjjb7"
   },
   "source": [
    "## The Final Output Layer"
   ]
  },
  {
   "cell_type": "code",
   "execution_count": 50,
   "id": "qrM0oNjkjIUR",
   "metadata": {
    "executionInfo": {
     "elapsed": 2,
     "status": "ok",
     "timestamp": 1693126941093,
     "user": {
      "displayName": "Moh Sufiyan",
      "userId": "05865655379155300368"
     },
     "user_tz": -330
    },
    "id": "qrM0oNjkjIUR"
   },
   "outputs": [],
   "source": [
    "# The final layer of 10 neurons in fully-connected to the previous 512-node layer.\n",
    "# The final layer of a FCN should be equal to the number of desired classes (10 in this case).\n",
    "model.add(Dense(10))"
   ]
  },
  {
   "cell_type": "code",
   "execution_count": 51,
   "id": "gXfJx_tbjIW6",
   "metadata": {
    "executionInfo": {
     "elapsed": 24,
     "status": "ok",
     "timestamp": 1693126942054,
     "user": {
      "displayName": "Moh Sufiyan",
      "userId": "05865655379155300368"
     },
     "user_tz": -330
    },
    "id": "gXfJx_tbjIW6"
   },
   "outputs": [],
   "source": [
    "# The \"softmax\" activation represents a probability distribution over K different possible outcomes.\n",
    "# Its values are all non-negative and sum to 1.\n",
    "\n",
    "model.add(Activation('softmax'))"
   ]
  },
  {
   "cell_type": "code",
   "execution_count": 52,
   "id": "-RoaiaO2jIZb",
   "metadata": {
    "colab": {
     "base_uri": "https://localhost:8080/"
    },
    "executionInfo": {
     "elapsed": 24,
     "status": "ok",
     "timestamp": 1693126942054,
     "user": {
      "displayName": "Moh Sufiyan",
      "userId": "05865655379155300368"
     },
     "user_tz": -330
    },
    "id": "-RoaiaO2jIZb",
    "outputId": "9c43d6d2-6794-4d48-b20b-c8409befab58"
   },
   "outputs": [
    {
     "name": "stdout",
     "output_type": "stream",
     "text": [
      "Model: \"sequential_1\"\n",
      "_________________________________________________________________\n",
      " Layer (type)                Output Shape              Param #   \n",
      "=================================================================\n",
      " dense_3 (Dense)             (None, 512)               401920    \n",
      "                                                                 \n",
      " activation_3 (Activation)   (None, 512)               0         \n",
      "                                                                 \n",
      " dropout_2 (Dropout)         (None, 512)               0         \n",
      "                                                                 \n",
      " dense_4 (Dense)             (None, 512)               262656    \n",
      "                                                                 \n",
      " activation_4 (Activation)   (None, 512)               0         \n",
      "                                                                 \n",
      " dropout_3 (Dropout)         (None, 512)               0         \n",
      "                                                                 \n",
      " dense_5 (Dense)             (None, 10)                5130      \n",
      "                                                                 \n",
      " activation_5 (Activation)   (None, 10)                0         \n",
      "                                                                 \n",
      "=================================================================\n",
      "Total params: 669,706\n",
      "Trainable params: 669,706\n",
      "Non-trainable params: 0\n",
      "_________________________________________________________________\n"
     ]
    }
   ],
   "source": [
    "# Summarize the built model\n",
    "\n",
    "model.summary()"
   ]
  },
  {
   "cell_type": "code",
   "execution_count": 53,
   "id": "BnPqLtkWjIb5",
   "metadata": {
    "executionInfo": {
     "elapsed": 4,
     "status": "ok",
     "timestamp": 1693126942054,
     "user": {
      "displayName": "Moh Sufiyan",
      "userId": "05865655379155300368"
     },
     "user_tz": -330
    },
    "id": "BnPqLtkWjIb5"
   },
   "outputs": [],
   "source": [
    "model.compile(loss='categorical_crossentropy', optimizer='adam', metrics=['accuracy'])"
   ]
  },
  {
   "cell_type": "markdown",
   "id": "fcbX0ITA8W_z",
   "metadata": {
    "id": "fcbX0ITA8W_z"
   },
   "source": [
    "## Train the neural network  without using batch normalization"
   ]
  },
  {
   "cell_type": "code",
   "execution_count": 54,
   "id": "WrjQTLmyjIhC",
   "metadata": {
    "colab": {
     "base_uri": "https://localhost:8080/"
    },
    "executionInfo": {
     "elapsed": 47312,
     "status": "ok",
     "timestamp": 1693126989362,
     "user": {
      "displayName": "Moh Sufiyan",
      "userId": "05865655379155300368"
     },
     "user_tz": -330
    },
    "id": "WrjQTLmyjIhC",
    "outputId": "04f012db-2c67-45d4-fcd4-5082c7a55916"
   },
   "outputs": [
    {
     "name": "stdout",
     "output_type": "stream",
     "text": [
      "Epoch 1/5\n",
      "391/391 [==============================] - 4s 8ms/step - loss: 0.2765 - accuracy: 0.9167 - val_loss: 0.1130 - val_accuracy: 0.9668\n",
      "Epoch 2/5\n",
      "391/391 [==============================] - 3s 7ms/step - loss: 0.1085 - accuracy: 0.9671 - val_loss: 0.0950 - val_accuracy: 0.9727\n",
      "Epoch 3/5\n",
      "391/391 [==============================] - 3s 7ms/step - loss: 0.0757 - accuracy: 0.9761 - val_loss: 0.0836 - val_accuracy: 0.9751\n",
      "Epoch 4/5\n",
      "391/391 [==============================] - 3s 7ms/step - loss: 0.0585 - accuracy: 0.9820 - val_loss: 0.0757 - val_accuracy: 0.9795\n",
      "Epoch 5/5\n",
      "391/391 [==============================] - 3s 7ms/step - loss: 0.0465 - accuracy: 0.9849 - val_loss: 0.0755 - val_accuracy: 0.9767\n"
     ]
    }
   ],
   "source": [
    "history = model.fit(X_train, Y_train, validation_data=(val_X, val_y),\n",
    "          batch_size=128, epochs=5,\n",
    "          verbose=1)"
   ]
  },
  {
   "cell_type": "markdown",
   "id": "FxEOWnHS8DUD",
   "metadata": {
    "id": "FxEOWnHS8DUD"
   },
   "source": [
    "## Evaluate Model's Accuracy on Test Data"
   ]
  },
  {
   "cell_type": "code",
   "execution_count": 55,
   "id": "-FzriPG5jIjp",
   "metadata": {
    "colab": {
     "base_uri": "https://localhost:8080/"
    },
    "executionInfo": {
     "elapsed": 1709,
     "status": "ok",
     "timestamp": 1693126991046,
     "user": {
      "displayName": "Moh Sufiyan",
      "userId": "05865655379155300368"
     },
     "user_tz": -330
    },
    "id": "-FzriPG5jIjp",
    "outputId": "6ff3a794-e016-431e-bed6-14aaa17a58ea"
   },
   "outputs": [
    {
     "name": "stdout",
     "output_type": "stream",
     "text": [
      "313/313 [==============================] - 1s 2ms/step - loss: 0.0760 - accuracy: 0.9775\n",
      "Test score: 0.07596874237060547\n",
      "Test accuracy: 0.9775000214576721\n"
     ]
    }
   ],
   "source": [
    "score = model.evaluate(X_test, Y_test)\n",
    "print('Test score:', score[0])\n",
    "print('Test accuracy:', score[1])"
   ]
  },
  {
   "cell_type": "code",
   "execution_count": 56,
   "id": "9WzEXl3fUlZN",
   "metadata": {
    "colab": {
     "base_uri": "https://localhost:8080/"
    },
    "executionInfo": {
     "elapsed": 694,
     "status": "ok",
     "timestamp": 1693128487098,
     "user": {
      "displayName": "Moh Sufiyan",
      "userId": "05865655379155300368"
     },
     "user_tz": -330
    },
    "id": "9WzEXl3fUlZN",
    "outputId": "e280f890-1994-40b3-a578-566d15ce3bf0"
   },
   "outputs": [
    {
     "name": "stdout",
     "output_type": "stream",
     "text": [
      "Training Accuracy: 0.9849399924278259\n",
      "Validation Accuracy: 0.9767000079154968\n"
     ]
    }
   ],
   "source": [
    "print(\"Training Accuracy:\", history.history['accuracy'][-1])\n",
    "print(\"Validation Accuracy:\", history.history['val_accuracy'][-1])"
   ]
  },
  {
   "cell_type": "markdown",
   "id": "invlE_sM8Kt_",
   "metadata": {
    "id": "invlE_sM8Kt_"
   },
   "source": [
    "## Inspecting the output"
   ]
  },
  {
   "cell_type": "code",
   "execution_count": 57,
   "id": "a7c39344",
   "metadata": {
    "colab": {
     "base_uri": "https://localhost:8080/"
    },
    "executionInfo": {
     "elapsed": 2669,
     "status": "ok",
     "timestamp": 1693126993704,
     "user": {
      "displayName": "Moh Sufiyan",
      "userId": "05865655379155300368"
     },
     "user_tz": -330
    },
    "id": "W2RaEuVwjIlw",
    "outputId": "63d903e7-4db7-4af1-8ee0-5677a39aa9a7"
   },
   "outputs": [
    {
     "name": "stdout",
     "output_type": "stream",
     "text": [
      "313/313 [==============================] - 1s 2ms/step\n"
     ]
    },
    {
     "data": {
      "text/plain": [
       "array([[0., 0., 0., ..., 1., 0., 0.],\n",
       "       [0., 0., 1., ..., 0., 0., 0.],\n",
       "       [0., 1., 0., ..., 0., 0., 0.],\n",
       "       ...,\n",
       "       [0., 0., 0., ..., 0., 0., 0.],\n",
       "       [0., 0., 0., ..., 0., 0., 0.],\n",
       "       [0., 0., 0., ..., 0., 0., 0.]], dtype=float32)"
      ]
     },
     "execution_count": 57,
     "metadata": {},
     "output_type": "execute_result"
    }
   ],
   "source": [
    "# The predict_classes function outputs the highest probability class\n",
    "# according to the trained classifier for each input example.\n",
    "predicted_classes = model.predict(X_test)\n",
    "\n",
    "predicted_classes = np_utils.to_categorical(np.argmax(predicted_classes ,axis =-1), nb_classes)\n",
    "predicted_classes"
   ]
  },
  {
   "cell_type": "code",
   "execution_count": 59,
   "id": "1b19ebd8",
   "metadata": {},
   "outputs": [
    {
     "data": {
      "text/plain": [
       "array([[0., 0., 0., ..., 1., 0., 0.],\n",
       "       [0., 0., 1., ..., 0., 0., 0.],\n",
       "       [0., 1., 0., ..., 0., 0., 0.],\n",
       "       ...,\n",
       "       [0., 0., 0., ..., 0., 0., 0.],\n",
       "       [0., 0., 0., ..., 0., 0., 0.],\n",
       "       [0., 0., 0., ..., 0., 0., 0.]], dtype=float32)"
      ]
     },
     "execution_count": 59,
     "metadata": {},
     "output_type": "execute_result"
    }
   ],
   "source": [
    "Y_test"
   ]
  },
  {
   "cell_type": "code",
   "execution_count": 63,
   "id": "W2RaEuVwjIlw",
   "metadata": {
    "colab": {
     "base_uri": "https://localhost:8080/"
    },
    "executionInfo": {
     "elapsed": 2669,
     "status": "ok",
     "timestamp": 1693126993704,
     "user": {
      "displayName": "Moh Sufiyan",
      "userId": "05865655379155300368"
     },
     "user_tz": -330
    },
    "id": "W2RaEuVwjIlw",
    "outputId": "63d903e7-4db7-4af1-8ee0-5677a39aa9a7"
   },
   "outputs": [],
   "source": [
    "# Check which items we got right / wrong\n",
    "correct_indices = np.nonzero(predicted_classes == Y_test)\n",
    "\n",
    "incorrect_indices = np.nonzero(predicted_classes != Y_test)"
   ]
  },
  {
   "cell_type": "code",
   "execution_count": 71,
   "id": "00704116",
   "metadata": {},
   "outputs": [
    {
     "data": {
      "text/plain": [
       "array([0, 1, 2, ..., 7, 8, 9], dtype=int64)"
      ]
     },
     "execution_count": 71,
     "metadata": {},
     "output_type": "execute_result"
    }
   ],
   "source": [
    "correct_indices[1]"
   ]
  },
  {
   "cell_type": "code",
   "execution_count": 76,
   "id": "e9d31d7f",
   "metadata": {},
   "outputs": [
    {
     "data": {
      "text/plain": [
       "array([5, 6, 4, 9, 2, 4, 2, 7, 0, 6], dtype=int64)"
      ]
     },
     "execution_count": 76,
     "metadata": {},
     "output_type": "execute_result"
    }
   ],
   "source": [
    "incorrect_indices[1][:10]"
   ]
  },
  {
   "cell_type": "code",
   "execution_count": 75,
   "id": "JgBOVUSyjIoS",
   "metadata": {
    "colab": {
     "base_uri": "https://localhost:8080/",
     "height": 356
    },
    "executionInfo": {
     "elapsed": 669,
     "status": "ok",
     "timestamp": 1693131362147,
     "user": {
      "displayName": "Moh Sufiyan",
      "userId": "05865655379155300368"
     },
     "user_tz": -330
    },
    "id": "JgBOVUSyjIoS",
    "outputId": "9c49f0b5-ee98-491d-e87c-e85998e74ab3"
   },
   "outputs": [
    {
     "data": {
      "image/png": "[encoded data removed]",
      "text/plain": [
       "<Figure size 900x900 with 9 Axes>"
      ]
     },
     "metadata": {},
     "output_type": "display_data"
    },
    {
     "data": {
      "image/png": "[encoded data removed]",
      "text/plain": [
       "<Figure size 900x900 with 9 Axes>"
      ]
     },
     "metadata": {},
     "output_type": "display_data"
    }
   ],
   "source": [
    "plt.figure()\n",
    "for i, correct in enumerate(correct_indices[1][:9]):\n",
    "    plt.subplot(3,3,i+1)\n",
    "    plt.imshow(X_test[correct].reshape(28,28), cmap='gray', interpolation='none')\n",
    "    plt.title(\"Predicted {}, Class {}\".format(np.argmax(predicted_classes[correct] ,axis =-1), y_test[correct]))\n",
    "\n",
    "plt.tight_layout()\n",
    "\n",
    "plt.figure()\n",
    "for i, incorrect in enumerate(incorrect_indices[0][:9]):\n",
    "    plt.subplot(3,3,i+1)\n",
    "    plt.imshow(X_test[incorrect].reshape(28,28), cmap='gray', interpolation='none')\n",
    "    plt.title(\"Predicted {}, Class {}\".format(np.argmax(predicted_classes[incorrect] ,axis =-1), y_test[incorrect]))\n",
    "\n",
    "plt.tight_layout()"
   ]
  },
  {
   "cell_type": "code",
   "execution_count": 128,
   "id": "QWtlN2ZzJLYx",
   "metadata": {
    "executionInfo": {
     "elapsed": 19,
     "status": "ok",
     "timestamp": 1693126994602,
     "user": {
      "displayName": "Moh Sufiyan",
      "userId": "05865655379155300368"
     },
     "user_tz": -330
    },
    "id": "QWtlN2ZzJLYx"
   },
   "outputs": [],
   "source": []
  },
  {
   "cell_type": "markdown",
   "id": "tutohYn5JPbq",
   "metadata": {
    "id": "tutohYn5JPbq"
   },
   "source": [
    "## 4.  Implementing batch normalization layers in the neural network"
   ]
  },
  {
   "cell_type": "markdown",
   "id": "USX7CXLDF1wz",
   "metadata": {
    "id": "USX7CXLDF1wz"
   },
   "source": []
  },
  {
   "cell_type": "code",
   "execution_count": 77,
   "id": "eO3ypa3gjItA",
   "metadata": {
    "colab": {
     "base_uri": "https://localhost:8080/"
    },
    "executionInfo": {
     "elapsed": 764,
     "status": "ok",
     "timestamp": 1693126995347,
     "user": {
      "displayName": "Moh Sufiyan",
      "userId": "05865655379155300368"
     },
     "user_tz": -330
    },
    "id": "eO3ypa3gjItA",
    "outputId": "8926522f-1d3c-4766-8de3-eab444824595"
   },
   "outputs": [
    {
     "name": "stdout",
     "output_type": "stream",
     "text": [
      "Model: \"sequential_2\"\n",
      "_________________________________________________________________\n",
      " Layer (type)                Output Shape              Param #   \n",
      "=================================================================\n",
      " dense_6 (Dense)             (None, 512)               401920    \n",
      "                                                                 \n",
      " activation_6 (Activation)   (None, 512)               0         \n",
      "                                                                 \n",
      " dropout_4 (Dropout)         (None, 512)               0         \n",
      "                                                                 \n",
      " batch_normalization (BatchN  (None, 512)              2048      \n",
      " ormalization)                                                   \n",
      "                                                                 \n",
      " dense_7 (Dense)             (None, 512)               262656    \n",
      "                                                                 \n",
      " activation_7 (Activation)   (None, 512)               0         \n",
      "                                                                 \n",
      " dropout_5 (Dropout)         (None, 512)               0         \n",
      "                                                                 \n",
      " batch_normalization_1 (Batc  (None, 512)              2048      \n",
      " hNormalization)                                                 \n",
      "                                                                 \n",
      " dense_8 (Dense)             (None, 10)                5130      \n",
      "                                                                 \n",
      " activation_8 (Activation)   (None, 10)                0         \n",
      "                                                                 \n",
      "=================================================================\n",
      "Total params: 673,802\n",
      "Trainable params: 671,754\n",
      "Non-trainable params: 2,048\n",
      "_________________________________________________________________\n"
     ]
    }
   ],
   "source": [
    "from tensorflow.keras.layers import Dense, BatchNormalization\n",
    "import numpy as np                   # advanced math library\n",
    "import matplotlib.pyplot as plt      # MATLAB like plotting routines\n",
    "import random                        # for generating random numbers\n",
    "\n",
    "from keras.datasets import mnist     # MNIST dataset is included in Keras\n",
    "from keras.models import Sequential  # Model type to be used\n",
    "\n",
    "from keras.layers.core import Dense, Dropout, Activation # Types of layers to be used in our model\n",
    "from keras.utils import np_utils\n",
    "\n",
    "model = Sequential()\n",
    "\n",
    "model.add(Dense(512, input_shape=(784,)))\n",
    "model.add(Activation('relu'))\n",
    "model.add(Dropout(0.2))\n",
    "model.add(BatchNormalization())\n",
    "\n",
    "model.add(Dense(512))\n",
    "model.add(Activation('relu'))\n",
    "model.add(Dropout(0.2))\n",
    "model.add(BatchNormalization())\n",
    "\n",
    "model.add(Dense(10))\n",
    "model.add(Activation('softmax'))\n",
    "\n",
    "model.summary()"
   ]
  },
  {
   "cell_type": "code",
   "execution_count": 78,
   "id": "gcBA-GNBjIyS",
   "metadata": {
    "executionInfo": {
     "elapsed": 6,
     "status": "ok",
     "timestamp": 1693126995348,
     "user": {
      "displayName": "Moh Sufiyan",
      "userId": "05865655379155300368"
     },
     "user_tz": -330
    },
    "id": "gcBA-GNBjIyS"
   },
   "outputs": [],
   "source": [
    "model.compile(loss='categorical_crossentropy', optimizer='adam', metrics=['accuracy'])"
   ]
  },
  {
   "cell_type": "code",
   "execution_count": 79,
   "id": "RCtfDdzejI1V",
   "metadata": {
    "colab": {
     "base_uri": "https://localhost:8080/"
    },
    "executionInfo": {
     "elapsed": 84669,
     "status": "ok",
     "timestamp": 1693127080012,
     "user": {
      "displayName": "Moh Sufiyan",
      "userId": "05865655379155300368"
     },
     "user_tz": -330
    },
    "id": "RCtfDdzejI1V",
    "outputId": "be602aea-4b43-4282-c993-eda48262aa28"
   },
   "outputs": [
    {
     "name": "stdout",
     "output_type": "stream",
     "text": [
      "Epoch 1/5\n",
      "391/391 [==============================] - 4s 9ms/step - loss: 0.2410 - accuracy: 0.9259 - val_loss: 0.1128 - val_accuracy: 0.9671\n",
      "Epoch 2/5\n",
      "391/391 [==============================] - 3s 8ms/step - loss: 0.1120 - accuracy: 0.9644 - val_loss: 0.0969 - val_accuracy: 0.9699\n",
      "Epoch 3/5\n",
      "391/391 [==============================] - 3s 8ms/step - loss: 0.0831 - accuracy: 0.9736 - val_loss: 0.0787 - val_accuracy: 0.9772\n",
      "Epoch 4/5\n",
      "391/391 [==============================] - 3s 9ms/step - loss: 0.0649 - accuracy: 0.9788 - val_loss: 0.0871 - val_accuracy: 0.9758\n",
      "Epoch 5/5\n",
      "391/391 [==============================] - 3s 9ms/step - loss: 0.0542 - accuracy: 0.9823 - val_loss: 0.0773 - val_accuracy: 0.9779\n"
     ]
    }
   ],
   "source": [
    "history_BN = model.fit(X_train, Y_train, validation_data=(val_X, val_y),\n",
    "          batch_size=128, epochs=5,\n",
    "          verbose=1)"
   ]
  },
  {
   "cell_type": "code",
   "execution_count": 80,
   "id": "y5tY-6KBjI3o",
   "metadata": {
    "colab": {
     "base_uri": "https://localhost:8080/"
    },
    "executionInfo": {
     "elapsed": 2724,
     "status": "ok",
     "timestamp": 1693127082723,
     "user": {
      "displayName": "Moh Sufiyan",
      "userId": "05865655379155300368"
     },
     "user_tz": -330
    },
    "id": "y5tY-6KBjI3o",
    "outputId": "8b695578-5884-4eb4-ac52-40d74923962e"
   },
   "outputs": [
    {
     "name": "stdout",
     "output_type": "stream",
     "text": [
      "313/313 [==============================] - 1s 2ms/step - loss: 0.0681 - accuracy: 0.9780\n",
      "Test score: 0.06814540922641754\n",
      "Test accuracy: 0.9779999852180481\n"
     ]
    }
   ],
   "source": [
    "score_BN = model.evaluate(X_test, Y_test)\n",
    "print('Test score:', score_BN[0])\n",
    "print('Test accuracy:', score_BN[1])"
   ]
  },
  {
   "cell_type": "code",
   "execution_count": 150,
   "id": "M65kzBItUp2z",
   "metadata": {
    "colab": {
     "base_uri": "https://localhost:8080/"
    },
    "executionInfo": {
     "elapsed": 7,
     "status": "ok",
     "timestamp": 1693128503422,
     "user": {
      "displayName": "Moh Sufiyan",
      "userId": "05865655379155300368"
     },
     "user_tz": -330
    },
    "id": "M65kzBItUp2z",
    "outputId": "e7689ff0-2417-4c9a-dd12-669f37265f85"
   },
   "outputs": [
    {
     "name": "stdout",
     "output_type": "stream",
     "text": [
      "Training Accuracy: 0.981440007686615\n",
      "Validation Accuracy: 0.9779999852180481\n"
     ]
    }
   ],
   "source": [
    "print(\"Training Accuracy:\", history_BN.history['accuracy'][-1])\n",
    "print(\"Validation Accuracy:\", history_BN.history['val_accuracy'][-1])"
   ]
  },
  {
   "cell_type": "code",
   "execution_count": 81,
   "id": "7vxkOrbRjI6K",
   "metadata": {
    "colab": {
     "base_uri": "https://localhost:8080/"
    },
    "executionInfo": {
     "elapsed": 2314,
     "status": "ok",
     "timestamp": 1693127085031,
     "user": {
      "displayName": "Moh Sufiyan",
      "userId": "05865655379155300368"
     },
     "user_tz": -330
    },
    "id": "7vxkOrbRjI6K",
    "outputId": "87c90a16-0edf-4658-cdfb-295666d5b506"
   },
   "outputs": [
    {
     "name": "stdout",
     "output_type": "stream",
     "text": [
      "313/313 [==============================] - 1s 2ms/step\n"
     ]
    }
   ],
   "source": [
    "# The predict_classes function outputs the highest probability class\n",
    "# according to the trained classifier for each input example.\n",
    "predicted_classes = model.predict(X_test)\n",
    "\n",
    "predicted_classes = np_utils.to_categorical(np.argmax(predicted_classes ,axis =-1), nb_classes)\n",
    "\n",
    "# Check which items we got right / wrong\n",
    "correct_indices = np.nonzero(predicted_classes == Y_test)\n",
    "\n",
    "incorrect_indices = np.nonzero(predicted_classes != Y_test)"
   ]
  },
  {
   "cell_type": "code",
   "execution_count": 82,
   "id": "NAHFbhNXjI8Y",
   "metadata": {
    "colab": {
     "base_uri": "https://localhost:8080/",
     "height": 356
    },
    "executionInfo": {
     "elapsed": 1227,
     "status": "ok",
     "timestamp": 1693131373252,
     "user": {
      "displayName": "Moh Sufiyan",
      "userId": "05865655379155300368"
     },
     "user_tz": -330
    },
    "id": "NAHFbhNXjI8Y",
    "outputId": "aa5a5194-e609-43e0-c060-bcca3ccdce0f"
   },
   "outputs": [
    {
     "data": {
      "image/png": "[encoded data removed]",
      "text/plain": [
       "<Figure size 900x900 with 9 Axes>"
      ]
     },
     "metadata": {},
     "output_type": "display_data"
    },
    {
     "data": {
      "image/png": "[encoded data removed]",
      "text/plain": [
       "<Figure size 900x900 with 9 Axes>"
      ]
     },
     "metadata": {},
     "output_type": "display_data"
    }
   ],
   "source": [
    "plt.figure()\n",
    "for i, correct in enumerate(correct_indices[1][:9]):\n",
    "    plt.subplot(3,3,i+1)\n",
    "    plt.imshow(X_test[correct].reshape(28,28), cmap='gray', interpolation='none')\n",
    "    plt.title(\"Predicted {}, Class {}\".format(np.argmax(predicted_classes[correct] ,axis =-1), y_test[correct]))\n",
    "\n",
    "plt.tight_layout()\n",
    "\n",
    "plt.figure()\n",
    "for i, incorrect in enumerate(incorrect_indices[0][:9]):\n",
    "    plt.subplot(3,3,i+1)\n",
    "    plt.imshow(X_test[incorrect].reshape(28,28), cmap='gray', interpolation='none')\n",
    "    plt.title(\"Predicted {}, Class {}\".format(np.argmax(predicted_classes[incorrect] ,axis =-1), y_test[incorrect]))\n",
    "\n",
    "plt.tight_layout()"
   ]
  },
  {
   "cell_type": "code",
   "execution_count": 148,
   "id": "9aQZxcU6jJDR",
   "metadata": {
    "colab": {
     "base_uri": "https://localhost:8080/"
    },
    "executionInfo": {
     "elapsed": 647,
     "status": "ok",
     "timestamp": 1693128430410,
     "user": {
      "displayName": "Moh Sufiyan",
      "userId": "05865655379155300368"
     },
     "user_tz": -330
    },
    "id": "9aQZxcU6jJDR",
    "outputId": "27619141-1a6c-48e7-fa78-3855a7ad47b8"
   },
   "outputs": [
    {
     "name": "stdout",
     "output_type": "stream",
     "text": [
      "Accuracy without BN\n",
      "-----------------------------------\n",
      "Training Accuracy: 0.9849399924278259\n",
      "Validation Accuracy: 0.9775000214576721\n",
      "------------------------------------------------------------------------------------------------------------------------------------------------------\n",
      "------------------------------------------------------------------------------------------------------------------------------------------------------\n",
      "Accuracy with BN\n",
      "-----------------------------------\n",
      "Training Accuracy: 0.981440007686615\n",
      "Validation Accuracy: 0.9779999852180481\n"
     ]
    }
   ],
   "source": [
    "\n",
    "print(\"Accuracy without BN\")\n",
    "print(\"-\" * 35)\n",
    "print(\"Training Accuracy:\", history.history['accuracy'][-1])\n",
    "print(\"Validation Accuracy:\", history.history['val_accuracy'][-1])\n",
    "\n",
    "print(\"-\" * 150)\n",
    "print(\"-\" * 150)\n",
    "\n",
    "print(\"Accuracy with BN\")\n",
    "print(\"-\" * 35)\n",
    "print(\"Training Accuracy:\", history_BN.history['accuracy'][-1])\n",
    "print(\"Validation Accuracy:\", history_BN.history['val_accuracy'][-1])"
   ]
  },
  {
   "cell_type": "code",
   "execution_count": 147,
   "id": "geFiGpJ4MIg2",
   "metadata": {
    "colab": {
     "base_uri": "https://localhost:8080/"
    },
    "executionInfo": {
     "elapsed": 676,
     "status": "ok",
     "timestamp": 1693128384362,
     "user": {
      "displayName": "Moh Sufiyan",
      "userId": "05865655379155300368"
     },
     "user_tz": -330
    },
    "id": "geFiGpJ4MIg2",
    "outputId": "cf671813-3e9b-4c81-fba0-3d4fee23137a"
   },
   "outputs": [
    {
     "name": "stdout",
     "output_type": "stream",
     "text": [
      "\n",
      "Score without BN\n",
      "-----------------------------------\n",
      "Test score: 0.07516911625862122\n",
      "Test accuracy: 0.9775999784469604\n",
      "------------------------------------------------------------------------------------------------------------------------------------------------------\n",
      "------------------------------------------------------------------------------------------------------------------------------------------------------\n",
      "\n",
      "Score with BN\n",
      "-----------------------------------\n",
      "Test score: 0.07890582084655762\n",
      "Test accuracy: 0.9772999882698059\n"
     ]
    }
   ],
   "source": [
    "print(\"\\nScore without BN\")\n",
    "print(\"-\" * 35)\n",
    "print('Test score:', score[0])\n",
    "print('Test accuracy:', score[1])\n",
    "\n",
    "print(\"-\" * 150)\n",
    "print(\"-\" * 150)\n",
    "\n",
    "print(\"\\nScore with BN\")\n",
    "print(\"-\" * 35)\n",
    "print('Test score:', score_BN[0])\n",
    "print('Test accuracy:', score_BN[1])"
   ]
  },
  {
   "cell_type": "code",
   "execution_count": 137,
   "id": "JOS047skMZEO",
   "metadata": {
    "executionInfo": {
     "elapsed": 13,
     "status": "ok",
     "timestamp": 1693127085033,
     "user": {
      "displayName": "Moh Sufiyan",
      "userId": "05865655379155300368"
     },
     "user_tz": -330
    },
    "id": "JOS047skMZEO"
   },
   "outputs": [],
   "source": []
  },
  {
   "cell_type": "code",
   "execution_count": 137,
   "id": "RAQEu4XPMZHy",
   "metadata": {
    "executionInfo": {
     "elapsed": 14,
     "status": "ok",
     "timestamp": 1693127085034,
     "user": {
      "displayName": "Moh Sufiyan",
      "userId": "05865655379155300368"
     },
     "user_tz": -330
    },
    "id": "RAQEu4XPMZHy"
   },
   "outputs": [],
   "source": []
  },
  {
   "cell_type": "markdown",
   "id": "qvioGeraROck",
   "metadata": {
    "id": "qvioGeraROck"
   },
   "source": [
    "## 5."
   ]
  },
  {
   "cell_type": "markdown",
   "id": "K5-YiDV-QgS7",
   "metadata": {
    "id": "K5-YiDV-QgS7"
   },
   "source": [
    "\n",
    "**Model without Batch Normalization:**\n",
    "- Training Loss (Epoch 5): 0.0465\n",
    "- Training Accuracy (Epoch 5): 0.9849\n",
    "- Validation Loss (Epoch 5): 0.0865\n",
    "- Validation Accuracy (Epoch 5): 0.9775\n",
    "\n",
    "**Model with Batch Normalization:**\n",
    "- Training Loss (Epoch 5): 0.0553\n",
    "- Training Accuracy (Epoch 5): 0.9814\n",
    "- Validation Loss (Epoch 5): 0.0788\n",
    "- Validation Accuracy (Epoch 5): 0.9780\n",
    "\n",
    "From the provided results, we can observe the following:\n",
    "- Both models achieved high training and validation accuracy, indicating that they have learned well from the data.\n",
    "- The model without batch normalization achieved slightly lower training and validation loss compared to the model with batch normalization.\n",
    "- The model with batch normalization achieved slightly higher training and validation accuracy compared to the model without batch normalization.\n",
    "\n",
    "Overall, both models seem to perform well on the MNIST dataset. The model with batch normalization might have a slight edge in terms of accuracy, but it's important to note that the difference in performance is not significant. Batch normalization can help in achieving better convergence speed and potentially improving the model's generalization to new data."
   ]
  },
  {
   "cell_type": "code",
   "execution_count": 137,
   "id": "Hn-xvEY4MZLX",
   "metadata": {
    "executionInfo": {
     "elapsed": 14,
     "status": "ok",
     "timestamp": 1693127085034,
     "user": {
      "displayName": "Moh Sufiyan",
      "userId": "05865655379155300368"
     },
     "user_tz": -330
    },
    "id": "Hn-xvEY4MZLX"
   },
   "outputs": [],
   "source": []
  },
  {
   "cell_type": "markdown",
   "id": "GHm8G1kaRQzE",
   "metadata": {
    "id": "GHm8G1kaRQzE"
   },
   "source": [
    "## 6."
   ]
  },
  {
   "cell_type": "markdown",
   "id": "Phe-FehfQ8hH",
   "metadata": {
    "id": "Phe-FehfQ8hH"
   },
   "source": [
    "Batch normalization has a significant impact on the training process and the performance of neural networks. It is a technique that normalizes the activations of each layer in a neural network, which helps in improving the convergence speed, stabilizing training, and ultimately enhancing the network's overall performance. Here are some key impacts of batch normalization:\n",
    "\n",
    "1. **Faster Convergence:** Batch normalization reduces the internal covariate shift by normalizing the activations within each mini-batch. This leads to faster convergence during training, as the network can learn more efficiently with normalized inputs.\n",
    "\n",
    "2. **Stability of Training:** Neural networks can suffer from vanishing and exploding gradients, leading to unstable training. Batch normalization mitigates these issues by ensuring that the input to each layer has a consistent scale, which helps in smoother weight updates and better gradient flow.\n",
    "\n",
    "3. **Increased Learning Rates:** Batch normalization allows for the use of higher learning rates without the risk of divergence. This is because it normalizes activations and reduces the sensitivity of the network to the initial values of the weights.\n",
    "\n",
    "4. **Regularization Effect:** Batch normalization introduces a regularization effect by adding noise to the activations within each mini-batch. This can act as a form of regularization, reducing overfitting and improving the model's ability to generalize to new data.\n",
    "\n",
    "5. **Reduction of Internal Covariate Shift:** Internal covariate shift refers to the change in the distribution of layer activations during training. Batch normalization combats this by normalizing activations, making the training process more stable and less dependent on the specific parameter initialization.\n",
    "\n",
    "6. **Network Architectures:** Batch normalization makes it easier to design and train deep networks. It enables the use of deeper architectures by mitigating the challenges associated with training very deep networks.\n",
    "\n",
    "7. **Less Sensitivity to Weight Initialization:** With batch normalization, the model is less sensitive to the choice of initial weights. This allows for faster and more reliable convergence, even when using suboptimal weight initializations.\n",
    "\n",
    "8. **Reduced Dependency on Hyperparameters:** Batch normalization reduces the dependence on hyperparameters like learning rate and weight initialization, making hyperparameter tuning less critical.\n",
    "\n",
    "9. **Mitigation of Gradient Explosion/Vanishing:** Batch normalization helps in addressing the gradient explosion and vanishing problems, which can occur during backpropagation through deep networks.\n",
    "\n",
    "In summary, batch normalization has a positive impact on the training process and performance of neural networks by improving convergence speed, increasing stability, and enabling the use of higher learning rates. It addresses challenges related to vanishing/exploding gradients, making it an essential technique for training deep and complex architectures."
   ]
  },
  {
   "cell_type": "code",
   "execution_count": null,
   "id": "9Nmt1RtPQ749",
   "metadata": {
    "id": "9Nmt1RtPQ749"
   },
   "outputs": [],
   "source": []
  },
  {
   "cell_type": "markdown",
   "id": "3bcf2717",
   "metadata": {
    "id": "3bcf2717"
   },
   "source": [
    "<a id=\"3\"></a>\n",
    " # <p style=\"padding:10px;background-color: #00004d ;margin:10;color: white ;font-family:newtimeroman;font-size:100%;text-align:center;border-radius: 10px 10px ;overflow:hidden;font-weight:50\">Ans 3 </p>"
   ]
  },
  {
   "cell_type": "markdown",
   "id": "1KG0gY92SVer",
   "metadata": {
    "id": "1KG0gY92SVer"
   },
   "source": [
    "### 1."
   ]
  },
  {
   "cell_type": "markdown",
   "id": "ozkEufq8SZLZ",
   "metadata": {
    "id": "ozkEufq8SZLZ"
   },
   "source": [
    "Experimenting with different batch sizes can provide insights into how batch normalization and training dynamics are affected by the choice of batch size. The batch size determines the number of training samples used in each iteration for updating the model's weights. Here are some observations you might encounter:\n",
    "\n",
    "1. **Smaller Batch Sizes:**\n",
    "   - Faster Convergence: Smaller batch sizes often lead to faster convergence since weight updates are more frequent.\n",
    "   - More Noisy Updates: With smaller batches, each update is based on a smaller subset of data, which can lead to more noisy updates and less stable training.\n",
    "   - Increased Exploration: Smaller batch sizes allow the model to explore the parameter space more diversely, potentially leading to better generalization.\n",
    "   - More Frequent Parameter Updates: Smaller batches result in more frequent parameter updates, which can help the model quickly adapt to changes in the data.\n",
    "\n",
    "2. **Larger Batch Sizes:**\n",
    "   - Slower Convergence: Larger batch sizes may lead to slower convergence due to fewer updates per epoch.\n",
    "   - Smoother Updates: Larger batches provide smoother updates since they average out noise in gradients, which can lead to more stable training.\n",
    "   - Less Exploration: Larger batches might result in less exploration of the parameter space, potentially leading to overfitting if the model gets stuck in local minima.\n",
    "   - Reduced Memory Usage: Larger batch sizes use memory more efficiently since they require fewer updates per epoch.\n",
    "\n",
    "3. **Effect on Batch Normalization:**\n",
    "   - Batch Normalization Behavior: Batch normalization behaves differently with different batch sizes. Smaller batch sizes can lead to noisier statistics in batch normalization layers.\n",
    "   - Impact on Normalization: In larger batches, batch normalization statistics (mean and variance) might be more accurate, leading to more stable normalization.\n",
    "\n",
    "4. **Model Performance:**\n",
    "   - Validation Performance: The impact of batch size on validation performance may vary. Smaller batches might lead to better validation performance initially due to more exploration, but larger batches can catch up over time.\n",
    "   - Overfitting: Smaller batches might help reduce overfitting since they encourage exploration. However, larger batches can generalize better once they converge.\n",
    "\n",
    "5. **Computational Efficiency:**\n",
    "   - Training Time: Smaller batch sizes may require more iterations to complete an epoch, resulting in longer training times.\n",
    "   - Hardware Considerations: Larger batch sizes can take advantage of hardware parallelism, which might lead to faster training on certain hardware setups.\n",
    "\n",
    "6. **Ideal Batch Size:**\n",
    "   - No One-Size-Fits-All: There's no universally ideal batch size. It depends on factors like dataset size, model architecture, hardware, and training goals.\n",
    "   - Experimentation: It's important to experiment with different batch sizes and monitor training dynamics and validation performance to find the optimal balance.\n",
    "\n",
    "In summary, experimenting with different batch sizes can help you understand how batch normalization and training dynamics interact. Smaller batch sizes might result in faster convergence and more exploration, while larger batch sizes offer smoother updates and reduced memory usage. It's important to consider the trade-offs and choose a batch size that aligns with your specific goals and resources."
   ]
  },
  {
   "cell_type": "code",
   "execution_count": 160,
   "id": "FhhwI8bkSVFK",
   "metadata": {
    "colab": {
     "base_uri": "https://localhost:8080/"
    },
    "executionInfo": {
     "elapsed": 307566,
     "status": "ok",
     "timestamp": 1693130954260,
     "user": {
      "displayName": "Moh Sufiyan",
      "userId": "05865655379155300368"
     },
     "user_tz": -330
    },
    "id": "FhhwI8bkSVFK",
    "outputId": "c5fbb6a5-51e9-4b6d-9ed4-8ebf27bd865c"
   },
   "outputs": [
    {
     "name": "stdout",
     "output_type": "stream",
     "text": [
      "\n",
      "Batch Size: 16\n",
      "\n",
      "Epoch 1/5\n",
      "391/391 [==============================] - 10s 22ms/step - loss: 0.2443 - accuracy: 0.9250 - val_loss: 0.1159 - val_accuracy: 0.9650\n",
      "Epoch 2/5\n",
      "391/391 [==============================] - 9s 23ms/step - loss: 0.1080 - accuracy: 0.9659 - val_loss: 0.0914 - val_accuracy: 0.9719\n",
      "Epoch 3/5\n",
      "391/391 [==============================] - 9s 23ms/step - loss: 0.0798 - accuracy: 0.9740 - val_loss: 0.0862 - val_accuracy: 0.9733\n",
      "Epoch 4/5\n",
      "391/391 [==============================] - 8s 21ms/step - loss: 0.0686 - accuracy: 0.9780 - val_loss: 0.0921 - val_accuracy: 0.9740\n",
      "Epoch 5/5\n",
      "391/391 [==============================] - 9s 24ms/step - loss: 0.0551 - accuracy: 0.9814 - val_loss: 0.0748 - val_accuracy: 0.9767\n",
      "313/313 [==============================] - 1s 4ms/step - loss: 0.0669 - accuracy: 0.9798\n",
      "\n",
      "Training Accuracy: 0.981440007686615\n",
      "Validation Accuracy: 0.9767000079154968\n",
      "------------------------------\n",
      "\n",
      "Test score: 0.06693384051322937\n",
      "Test accuracy: 0.9797999858856201\n",
      "------------------------------------------------------------------------------------------------------------------------------------------------------\n",
      "------------------------------------------------------------------------------------------------------------------------------------------------------\n",
      "\n",
      "Batch Size: 32\n",
      "\n",
      "Epoch 1/5\n",
      "391/391 [==============================] - 11s 24ms/step - loss: 0.2401 - accuracy: 0.9269 - val_loss: 0.1046 - val_accuracy: 0.9715\n",
      "Epoch 2/5\n",
      "391/391 [==============================] - 9s 24ms/step - loss: 0.1097 - accuracy: 0.9664 - val_loss: 0.1006 - val_accuracy: 0.9706\n",
      "Epoch 3/5\n",
      "391/391 [==============================] - 10s 25ms/step - loss: 0.0816 - accuracy: 0.9742 - val_loss: 0.0830 - val_accuracy: 0.9755\n",
      "Epoch 4/5\n",
      "391/391 [==============================] - 9s 22ms/step - loss: 0.0699 - accuracy: 0.9774 - val_loss: 0.0838 - val_accuracy: 0.9746\n",
      "Epoch 5/5\n",
      "391/391 [==============================] - 9s 24ms/step - loss: 0.0588 - accuracy: 0.9809 - val_loss: 0.0821 - val_accuracy: 0.9744\n",
      "313/313 [==============================] - 1s 4ms/step - loss: 0.0747 - accuracy: 0.9754\n",
      "\n",
      "Training Accuracy: 0.9809200167655945\n",
      "Validation Accuracy: 0.974399983882904\n",
      "------------------------------\n",
      "\n",
      "Test score: 0.07469385117292404\n",
      "Test accuracy: 0.9753999710083008\n",
      "------------------------------------------------------------------------------------------------------------------------------------------------------\n",
      "------------------------------------------------------------------------------------------------------------------------------------------------------\n",
      "\n",
      "Batch Size: 64\n",
      "\n",
      "Epoch 1/5\n",
      "391/391 [==============================] - 12s 28ms/step - loss: 0.2462 - accuracy: 0.9250 - val_loss: 0.1141 - val_accuracy: 0.9640\n",
      "Epoch 2/5\n",
      "391/391 [==============================] - 9s 24ms/step - loss: 0.1111 - accuracy: 0.9652 - val_loss: 0.1001 - val_accuracy: 0.9694\n",
      "Epoch 3/5\n",
      "391/391 [==============================] - 8s 21ms/step - loss: 0.0806 - accuracy: 0.9741 - val_loss: 0.0805 - val_accuracy: 0.9758\n",
      "Epoch 4/5\n",
      "391/391 [==============================] - 9s 24ms/step - loss: 0.0659 - accuracy: 0.9792 - val_loss: 0.0830 - val_accuracy: 0.9764\n",
      "Epoch 5/5\n",
      "391/391 [==============================] - 9s 24ms/step - loss: 0.0571 - accuracy: 0.9812 - val_loss: 0.0750 - val_accuracy: 0.9794\n",
      "313/313 [==============================] - 1s 5ms/step - loss: 0.0738 - accuracy: 0.9783\n",
      "\n",
      "Training Accuracy: 0.9811800122261047\n",
      "Validation Accuracy: 0.9793999791145325\n",
      "------------------------------\n",
      "\n",
      "Test score: 0.07379961758852005\n",
      "Test accuracy: 0.9782999753952026\n",
      "------------------------------------------------------------------------------------------------------------------------------------------------------\n",
      "------------------------------------------------------------------------------------------------------------------------------------------------------\n",
      "\n",
      "Batch Size: 128\n",
      "\n",
      "Epoch 1/5\n",
      "391/391 [==============================] - 13s 25ms/step - loss: 0.2438 - accuracy: 0.9251 - val_loss: 0.1155 - val_accuracy: 0.9657\n",
      "Epoch 2/5\n",
      "391/391 [==============================] - 10s 25ms/step - loss: 0.1106 - accuracy: 0.9654 - val_loss: 0.0901 - val_accuracy: 0.9747\n",
      "Epoch 3/5\n",
      "391/391 [==============================] - 8s 21ms/step - loss: 0.0841 - accuracy: 0.9733 - val_loss: 0.0825 - val_accuracy: 0.9759\n",
      "Epoch 4/5\n",
      "391/391 [==============================] - 9s 24ms/step - loss: 0.0648 - accuracy: 0.9793 - val_loss: 0.0815 - val_accuracy: 0.9761\n",
      "Epoch 5/5\n",
      "391/391 [==============================] - 9s 24ms/step - loss: 0.0554 - accuracy: 0.9820 - val_loss: 0.0748 - val_accuracy: 0.9786\n",
      "313/313 [==============================] - 1s 4ms/step - loss: 0.0686 - accuracy: 0.9775\n",
      "\n",
      "Training Accuracy: 0.9819599986076355\n",
      "Validation Accuracy: 0.978600025177002\n",
      "------------------------------\n",
      "\n",
      "Test score: 0.06862480193376541\n",
      "Test accuracy: 0.9775000214576721\n",
      "------------------------------------------------------------------------------------------------------------------------------------------------------\n",
      "------------------------------------------------------------------------------------------------------------------------------------------------------\n"
     ]
    }
   ],
   "source": [
    "from keras.optimizers import Adam\n",
    "\n",
    "def create_model():\n",
    "            model = Sequential()\n",
    "\n",
    "            model.add(Dense(512, input_shape=(784,)))\n",
    "            model.add(Activation('relu'))\n",
    "            model.add(Dropout(0.2))\n",
    "            model.add(BatchNormalization())\n",
    "\n",
    "            model.add(Dense(512))\n",
    "            model.add(Activation('relu'))\n",
    "            model.add(Dropout(0.2))\n",
    "            model.add(BatchNormalization())\n",
    "\n",
    "            model.add(Dense(10))\n",
    "            model.add(Activation('softmax'))\n",
    "\n",
    "            return model\n",
    "\n",
    "batch_dict = {}\n",
    "# Experiment with different batch sizes\n",
    "batch_sizes = [16, 32, 64, 128]\n",
    "for batch_size in batch_sizes:\n",
    "    print(f\"\\nBatch Size: {batch_size}\\n\")\n",
    "\n",
    "    model = create_model()\n",
    "    optimizer = Adam(learning_rate=0.001)\n",
    "\n",
    "    model.compile(optimizer=optimizer,\n",
    "                  loss='categorical_crossentropy',\n",
    "                  metrics=['accuracy'])\n",
    "\n",
    "    history = model.fit(X_train, Y_train, validation_data=(val_X, val_y),\n",
    "                        batch_size=128, epochs=5,\n",
    "                        verbose=1)\n",
    "    score = model.evaluate(X_test, Y_test)\n",
    "\n",
    "    batch_dict[batch_size] = { \"model\" : model ,  \"history\" : history , \"score\" : score }\n",
    "\n",
    "\n",
    "    print(\"\\nTraining Accuracy:\", history.history['accuracy'][-1])\n",
    "    print(\"Validation Accuracy:\", history.history['val_accuracy'][-1])\n",
    "    print(\"-\" * 30)\n",
    "    print('\\nTest score:', score[0])\n",
    "    print('Test accuracy:', score[1])\n",
    "    print(\"-\" * 150)\n",
    "    print(\"-\" * 150)\n"
   ]
  },
  {
   "cell_type": "code",
   "execution_count": 163,
   "id": "tjKX33bFSVIC",
   "metadata": {
    "colab": {
     "base_uri": "https://localhost:8080/"
    },
    "executionInfo": {
     "elapsed": 724,
     "status": "ok",
     "timestamp": 1693131020837,
     "user": {
      "displayName": "Moh Sufiyan",
      "userId": "05865655379155300368"
     },
     "user_tz": -330
    },
    "id": "tjKX33bFSVIC",
    "outputId": "91950cab-dc59-4d8a-f0cc-55c94805bb4f"
   },
   "outputs": [
    {
     "data": {
      "text/plain": [
       "{'model': <keras.engine.sequential.Sequential at 0x7a0a95f2d5d0>,\n",
       " 'history': <keras.callbacks.History at 0x7a0a95f70df0>,\n",
       " 'score': [0.06862480193376541, 0.9775000214576721]}"
      ]
     },
     "execution_count": 163,
     "metadata": {},
     "output_type": "execute_result"
    }
   ],
   "source": [
    "batch_dict[128]"
   ]
  },
  {
   "cell_type": "code",
   "execution_count": 157,
   "id": "628078c9",
   "metadata": {
    "colab": {
     "base_uri": "https://localhost:8080/"
    },
    "executionInfo": {
     "elapsed": 562,
     "status": "ok",
     "timestamp": 1693129839634,
     "user": {
      "displayName": "Moh Sufiyan",
      "userId": "05865655379155300368"
     },
     "user_tz": -330
    },
    "id": "628078c9",
    "outputId": "35140af9-9c23-45bb-e361-6b310c94edc7"
   },
   "outputs": [
    {
     "name": "stdout",
     "output_type": "stream",
     "text": [
      "\n",
      "Batch Size: 16\n",
      "\n",
      "       loss  accuracy  val_loss  val_accuracy\n",
      "0  0.245828   0.92380  0.116240        0.9654\n",
      "1  0.111564   0.96596  0.084893        0.9760\n",
      "2  0.082379   0.97346  0.084482        0.9762\n",
      "3  0.063741   0.98002  0.087895        0.9749\n",
      "4  0.056763   0.98104  0.085908        0.9752\n",
      "------------------------------------------------------------------------------------------------------------------------------------------------------\n",
      "\n",
      "Batch Size: 32\n",
      "\n",
      "       loss  accuracy  val_loss  val_accuracy\n",
      "0  0.243131   0.92520  0.109269        0.9676\n",
      "1  0.111127   0.96396  0.085120        0.9752\n",
      "2  0.081985   0.97382  0.082246        0.9745\n",
      "3  0.067011   0.97870  0.089028        0.9753\n",
      "4  0.056949   0.98116  0.080026        0.9773\n",
      "------------------------------------------------------------------------------------------------------------------------------------------------------\n",
      "\n",
      "Batch Size: 64\n",
      "\n",
      "       loss  accuracy  val_loss  val_accuracy\n",
      "0  0.244691   0.92474  0.118062        0.9637\n",
      "1  0.114848   0.96412  0.088300        0.9739\n",
      "2  0.082964   0.97350  0.088418        0.9732\n",
      "3  0.067452   0.97816  0.083888        0.9758\n",
      "4  0.056536   0.98168  0.087043        0.9753\n",
      "------------------------------------------------------------------------------------------------------------------------------------------------------\n",
      "\n",
      "Batch Size: 128\n",
      "\n",
      "       loss  accuracy  val_loss  val_accuracy\n",
      "0  0.242896   0.92632  0.123909        0.9628\n",
      "1  0.109883   0.96628  0.083979        0.9749\n",
      "2  0.080714   0.97384  0.086443        0.9758\n",
      "3  0.067172   0.97798  0.082327        0.9768\n",
      "4  0.057159   0.98174  0.077204        0.9802\n",
      "------------------------------------------------------------------------------------------------------------------------------------------------------\n"
     ]
    }
   ],
   "source": [
    "import pandas as pd\n",
    "# print(\"batch_sizes\")\n",
    "batch_sizes = [16, 32, 64, 128]\n",
    "for batch_size in batch_sizes:\n",
    "        print(f\"\\nBatch Size: {batch_size}\\n\")\n",
    "        df = pd.DataFrame(batch_dict[batch_size][\"history\"].history)\n",
    "        print(df)\n",
    "        print(\"--\"*75)"
   ]
  },
  {
   "cell_type": "markdown",
   "id": "KiqZ2BpHcIwa",
   "metadata": {
    "id": "KiqZ2BpHcIwa"
   },
   "source": [
    "analysis of the effect of different batch sizes on the training dynamics and model performance:\n",
    "\n",
    "1. **Batch Size: 16**\n",
    "   - Training Accuracy: 98.10%\n",
    "   - Validation Accuracy: 97.52%\n",
    "\n",
    "2. **Batch Size: 32**\n",
    "   - Training Accuracy: 98.12%\n",
    "   - Validation Accuracy: 97.73%\n",
    "\n",
    "3. **Batch Size: 64**\n",
    "   - Training Accuracy: 98.17%\n",
    "   - Validation Accuracy: 97.53%\n",
    "\n",
    "4. **Batch Size: 128**\n",
    "   - Training Accuracy: 98.17%\n",
    "   - Validation Accuracy: 98.02%\n",
    "\n",
    "Observations:\n",
    "- As the batch size increases, the training time per epoch generally decreases, as smaller batches require more iterations to process the entire dataset.\n",
    "- Smaller batch sizes (16, 32) tend to show slightly better performance in terms of accuracy on the validation set compared to larger batch sizes (64, 128).\n",
    "- Smaller batch sizes can lead to more frequent weight updates, potentially helping the model converge faster in the early epochs.\n",
    "- Larger batch sizes can sometimes lead to smoother convergence due to the reduced noise in gradient estimates.\n",
    "- There's a trade-off between computation speed and model convergence. Smaller batches lead to more frequent updates but might also introduce more noise in gradient estimation.\n",
    "\n",
    "In  this case, the batch size of 128 achieved the highest validation accuracy. However, different batch sizes could perform differently depending on the dataset, architecture, and optimization settings. It's recommended to perform these experiments on a variety of datasets to understand the general trend and choose a batch size that balances between training speed and convergence."
   ]
  },
  {
   "cell_type": "code",
   "execution_count": null,
   "id": "JpkwI889cITC",
   "metadata": {
    "id": "JpkwI889cITC"
   },
   "outputs": [],
   "source": []
  },
  {
   "cell_type": "markdown",
   "id": "6oGsZvBOdWz9",
   "metadata": {
    "id": "6oGsZvBOdWz9"
   },
   "source": [
    "### 2."
   ]
  },
  {
   "cell_type": "markdown",
   "id": "USHJElK-dg4V",
   "metadata": {
    "id": "USHJElK-dg4V"
   },
   "source": [
    "**Advantages of Batch Normalization:**\n",
    "\n",
    "1. **Faster Convergence:** Batch normalization helps the neural network converge faster. By reducing internal covariate shift, it ensures that the model doesn't have to wait for the entire dataset to propagate through the network before updating weights.\n",
    "\n",
    "2. **Stability during Training:** Batch normalization adds stability to the training process by reducing the impact of weight initialization and gradients. This allows the use of higher learning rates without risking divergence.\n",
    "\n",
    "3. **Regularization:** Batch normalization acts as a form of regularization, reducing the need for techniques like dropout. It adds a slight noise to the activations, which can help prevent overfitting.\n",
    "\n",
    "4. **Reduced Dependency on Initialization:** With batch normalization, the model is less sensitive to the choice of initial weights, making it easier to train deep networks.\n",
    "\n",
    "5. **Improved Generalization:** Batch normalization tends to generalize better to unseen data by making the learning process smoother and less sensitive to noise in the data.\n",
    "\n",
    "6. **Less Hyperparameter Tuning:** Neural networks with batch normalization often require less hyperparameter tuning compared to models without it.\n",
    "\n",
    "**Limitations of Batch Normalization:**\n",
    "\n",
    "1. **Batch Size Dependency:** Batch normalization performance can vary with batch size. It may not work well with very small batch sizes or extremely large batch sizes.\n",
    "\n",
    "2. **Test-time Variability:** During inference, batch normalization can introduce variability as each batch might have a different mean and variance. This can be mitigated by using techniques like running average statistics.\n",
    "\n",
    "3. **Not Suitable for Recurrent Networks:** Batch normalization is not as straightforward to apply to recurrent networks due to the sequential nature of the data.\n",
    "\n",
    "4. **Additional Computational Overhead:** While batch normalization improves convergence, it adds some computational overhead because of the extra computations required to normalize activations and scale them.\n",
    "\n",
    "5. **Dependency on Mini-Batch Statistics:** Batch normalization uses mini-batch statistics for normalization, which might not represent the entire dataset, leading to some variability.\n",
    "\n",
    "6. **Limited Effect on Gradient Vanishing/Exploding:** While batch normalization can mitigate gradient vanishing and exploding to some extent, it doesn't fully solve the problem.\n",
    "\n",
    "In summary, batch normalization is a powerful technique that has become a standard practice in neural network training. It has clear advantages in terms of faster convergence, regularization, and improved stability. However, like any technique, it has its limitations and should be used carefully based on the specifics of the problem and the architecture being used."
   ]
  },
  {
   "cell_type": "code",
   "execution_count": null,
   "id": "W6MrX5NHbE-m",
   "metadata": {
    "id": "W6MrX5NHbE-m"
   },
   "outputs": [],
   "source": []
  },
  {
   "cell_type": "code",
   "execution_count": null,
   "id": "Lx_jFzH2bFBE",
   "metadata": {
    "id": "Lx_jFzH2bFBE"
   },
   "outputs": [],
   "source": []
  },
  {
   "cell_type": "code",
   "execution_count": null,
   "id": "Z_pCFoJibFDm",
   "metadata": {
    "id": "Z_pCFoJibFDm"
   },
   "outputs": [],
   "source": []
  },
  {
   "cell_type": "markdown",
   "id": "7c85e1f6",
   "metadata": {
    "id": "7c85e1f6"
   },
   "source": [
    "<a id=\"5\"></a>\n",
    " # <p style=\"padding:10px;background-color: #01DFD7 ;margin:10;color: white ;font-family:newtimeroman;font-size:100%;text-align:center;border-radius: 10px 10px ;overflow:hidden;font-weight:50\">END</p>"
   ]
  },
  {
   "cell_type": "code",
   "execution_count": null,
   "id": "ca8ebe01",
   "metadata": {
    "id": "ca8ebe01"
   },
   "outputs": [],
   "source": []
  },
  {
   "cell_type": "code",
   "execution_count": null,
   "id": "281c330e",
   "metadata": {
    "id": "281c330e"
   },
   "outputs": [],
   "source": []
  },
  {
   "cell_type": "code",
   "execution_count": null,
   "id": "96bd516a",
   "metadata": {
    "id": "96bd516a"
   },
   "outputs": [],
   "source": []
  },
  {
   "cell_type": "code",
   "execution_count": null,
   "id": "e92d8fc2",
   "metadata": {
    "id": "e92d8fc2"
   },
   "outputs": [],
   "source": []
  },
  {
   "cell_type": "code",
   "execution_count": null,
   "id": "99067cf1",
   "metadata": {
    "id": "99067cf1"
   },
   "outputs": [],
   "source": []
  }
 ],
 "metadata": {
  "colab": {
   "provenance": []
  },
  "kernelspec": {
   "display_name": "Python 3 (ipykernel)",
   "language": "python",
   "name": "python3"
  },
  "language_info": {
   "codemirror_mode": {
    "name": "ipython",
    "version": 3
   },
   "file_extension": ".py",
   "mimetype": "text/x-python",
   "name": "python",
   "nbconvert_exporter": "python",
   "pygments_lexer": "ipython3",
   "version": "3.10.11"
  }
 },
 "nbformat": 4,
 "nbformat_minor": 5
}
