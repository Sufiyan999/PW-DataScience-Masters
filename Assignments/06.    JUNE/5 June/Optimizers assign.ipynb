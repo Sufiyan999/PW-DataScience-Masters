{
 "cells": [
  {
   "cell_type": "markdown",
   "id": "297bbff3",
   "metadata": {},
   "source": [
    "<a id=\"1\"></a> \n",
    " # <p style=\"padding:10px;background-color: #000000 ;margin:10;color: white ;font-family:newtimeroman;font-size:100%;text-align:center;border-radius: 10px 10px ;overflow:hidden;font-weight:50\">Part 1:Understanding Optimizers</p> "
   ]
  },
  {
   "cell_type": "markdown",
   "id": "4e1c45e0",
   "metadata": {},
   "source": [
    "<a id=\"1\"></a> \n",
    " ##  <p style=\"padding:10px;background-color: #00004d ;margin:10;color: white ;font-family:newtimeroman;font-size:100%;text-align:center;border-radius: 10px 10px ;overflow:hidden;font-weight:50\">Ans 1 </p> "
   ]
  },
  {
   "cell_type": "markdown",
   "id": "3f416c06",
   "metadata": {},
   "source": [
    "The role of optimization algorithms in artificial neural networks is crucial for training the network's parameters (weights and biases) in such a way that the model can learn from the data and make accurate predictions. Neural networks involve complex computations with a large number of parameters, making manual adjustment of these parameters impractical. Optimization algorithms automate the process of updating these parameters to minimize the difference between the predicted outputs and the actual target values.\n",
    "\n",
    "In essence, optimization algorithms aim to find the optimal set of parameters that minimize the model's loss function. The loss function quantifies the difference between the predicted values and the actual values, and the goal is to minimize this difference to improve the model's accuracy and predictive power. Optimization algorithms achieve this by iteratively adjusting the parameters in the direction that reduces the loss.\n",
    "\n",
    "In summary, optimization algorithms enable neural networks to learn from data efficiently and effectively by finding the optimal parameters that lead to accurate predictions. They are necessary because they automate the process of parameter tuning, which is impractical to perform manually due to the complexity of neural networks."
   ]
  },
  {
   "cell_type": "markdown",
   "id": "3fe57774",
   "metadata": {},
   "source": [
    "Optimization algorithms are necessary in artificial neural networks for several reasons:\n",
    "\n",
    "1. **Efficient Parameter Tuning:** Neural networks typically have a large number of parameters (weights and biases) that need to be adjusted during training. Manual adjustment of these parameters would be time-consuming and impractical. Optimization algorithms automate this process, making it efficient and feasible.\n",
    "\n",
    "2. **Complex Loss Landscape:** The relationship between the model's parameters and the loss function is complex and nonlinear. Optimization algorithms navigate this complex loss landscape to find the optimal parameter values that minimize the loss. They handle the challenge of finding a global minimum or a good local minimum.\n",
    "\n",
    "3. **Convergence:** Optimization algorithms ensure that the model's parameters converge to values that result in better model performance. Without optimization algorithms, the model's parameters might not reach values that lead to accurate predictions.\n",
    "\n",
    "4. **Regularization and Generalization:** Some optimization algorithms incorporate regularization techniques to prevent overfitting, which is a common problem in neural networks. Regularization helps the model generalize better to unseen data.\n",
    "\n",
    "5. **Adaptive Learning Rates:** Many modern optimization algorithms adjust the learning rate during training, allowing for faster convergence in the early stages and finer adjustments in later stages. This helps to balance convergence speed and accuracy.\n",
    "\n",
    "6. **Addressing Local Minima:** Neural networks can get stuck in local minima (suboptimal solutions) during training. Optimization algorithms, especially those with momentum or adaptive learning rates, can help the model escape such local minima and explore a wider parameter space.\n",
    "\n",
    "7. **Efficient Memory Usage:** Optimization algorithms use memory efficiently by computing gradients and updating parameters in small batches, which is particularly important when working with large datasets.\n",
    "\n",
    "In summary, optimization algorithms are necessary to automate the process of adjusting a neural network's parameters, enabling efficient learning and convergence toward an optimal solution. They handle the complexities of the loss landscape and contribute to the network's ability to make accurate predictions on various tasks."
   ]
  },
  {
   "cell_type": "markdown",
   "id": "09828e8a",
   "metadata": {},
   "source": [
    "<a id=\"2\"></a> \n",
    " ## <p style=\"padding:10px;background-color: #00004d ;margin:10;color: white ;font-family:newtimeroman;font-size:100%;text-align:center;border-radius: 10px 10px ;overflow:hidden;font-weight:50\">Ans 2 </p> "
   ]
  },
  {
   "cell_type": "markdown",
   "id": "06b733c7",
   "metadata": {},
   "source": [
    "Gradient Descent is an optimization algorithm used to minimize the loss function of a machine learning model, which represents how well the model's predictions match the actual target values. The basic idea behind gradient descent is to iteratively adjust the model's parameters (weights and biases) in the direction that reduces the value of the loss function, effectively moving towards the minimum of the loss surface.\n",
    "\n",
    "The steps involved in the standard gradient descent algorithm are as follows:\n",
    "\n",
    "1. **Initialization:** Initialize the model's parameters randomly or with some predefined values.\n",
    "\n",
    "2. **Forward Pass:** Use the current parameter values to make predictions on the training data.\n",
    "\n",
    "3. **Calculate Gradient:** Calculate the gradient of the loss function with respect to each parameter. The gradient indicates the direction of steepest ascent (increase) of the loss.\n",
    "\n",
    "4. **Update Parameters:** Adjust the parameters by moving in the opposite direction of the gradient. This step involves subtracting a fraction of the gradient from each parameter.\n",
    "\n",
    "5. **Repeat:** Repeat steps 2-4 for a certain number of iterations or until convergence.\n",
    "\n",
    "Gradient Descent Variants:\n",
    "\n",
    "1. **Stochastic Gradient Descent (SGD):** In standard gradient descent, the entire training dataset is used to compute the gradient. In SGD, a random subset (mini-batch) of the data is used in each iteration. This introduces randomness and noise in the gradient computation but speeds up the convergence process. It's particularly useful when dealing with large datasets.\n",
    "\n",
    "2. **Mini-Batch Gradient Descent:** It's a compromise between standard gradient descent and SGD. It uses a mini-batch of data (larger than SGD's single data point) to compute the gradient. This balances computational efficiency and the reduction of noise in the gradient estimate.\n",
    "\n",
    "3. **Batch Gradient Descent:** This is the standard gradient descent where the entire training dataset is used in each iteration. It ensures a more accurate estimate of the gradient but can be computationally expensive for large datasets.\n",
    "\n",
    "4. **Momentum:** Momentum is a technique that accelerates gradient descent in the relevant direction and dampens oscillations. It adds a fraction of the previous update vector to the current update. This helps overcome local minima and accelerates convergence, especially when the loss surface is curved.\n",
    "\n",
    "5. **Adaptive Learning Rate Methods (Adam, RMSprop):** These methods adjust the learning rate for each parameter based on past gradients. Adam combines the ideas of momentum and adaptive learning rates, while RMSprop adapts the learning rate for each parameter based on the magnitude of recent gradients.\n",
    "\n",
    "6. **Nesterov Accelerated Gradient (NAG):** NAG is an extension of momentum that considers the momentum term ahead in the direction of the gradient before making an update. It leads to faster convergence by making a more informed decision about the parameter update.\n",
    "\n",
    "7. **Learning Rate Schedules:** These are variations of gradient descent where the learning rate is adjusted over time. It starts with a larger learning rate and gradually reduces it. Common schedules include step decay, exponential decay, and 1/t decay.\n",
    "\n",
    "Each variant of gradient descent has its trade-offs in terms of convergence speed, noise reduction, and computational efficiency. The choice of variant depends on factors such as the dataset size, model architecture, and convergence requirements."
   ]
  },
  {
   "cell_type": "markdown",
   "id": "1963057a",
   "metadata": {},
   "source": [
    "Different variants of gradient descent have distinct differences and trade-offs in terms of convergence speed and memory requirements:\n",
    "\n",
    "1. **Standard Gradient Descent (Batch GD):**\n",
    "   - Convergence Speed: Can be slow on large datasets since it requires the entire dataset to compute the gradient before each parameter update.\n",
    "   - Memory Requirements: High memory usage due to storing the entire dataset and gradient.\n",
    "   - Suitability: Suitable for small datasets or convex optimization problems.\n",
    "\n",
    "2. **Stochastic Gradient Descent (SGD):**\n",
    "   - Convergence Speed: Faster convergence on average due to more frequent updates using mini-batches, but can be noisy.\n",
    "   - Memory Requirements: Low memory usage as it processes one mini-batch at a time.\n",
    "   - Suitability: Suitable for large datasets, noisy data, and non-convex optimization problems. Can have high variance in updates.\n",
    "\n",
    "3. **Mini-Batch Gradient Descent:**\n",
    "   - Convergence Speed: Balances the trade-offs between standard GD and SGD. Provides a trade-off between noise reduction and computational efficiency.\n",
    "   - Memory Requirements: Moderately low memory usage, depending on the mini-batch size.\n",
    "   - Suitability: Often used as a default choice due to its balanced properties.\n",
    "\n",
    "4. **Momentum:**\n",
    "   - Convergence Speed: Faster convergence by accelerating updates in the relevant direction and reducing oscillations.\n",
    "   - Memory Requirements: Slightly increased memory usage due to storing the previous update vectors.\n",
    "   - Suitability: Suitable for escaping local minima and speeding up convergence, especially when the loss surface is curved.\n",
    "\n",
    "5. **Adaptive Learning Rate Methods (Adam, RMSprop):**\n",
    "   - Convergence Speed: Generally faster convergence by adjusting learning rates based on the magnitude of recent gradients.\n",
    "   - Memory Requirements: Moderate memory usage due to maintaining moving averages of past gradients.\n",
    "   - Suitability: Suitable for non-stationary problems, noisy data, and scenarios where manually tuning learning rates is challenging.\n",
    "\n",
    "6. **Nesterov Accelerated Gradient (NAG):**\n",
    "   - Convergence Speed: Faster convergence compared to standard momentum by considering future gradient estimates.\n",
    "   - Memory Requirements: Slightly increased memory usage similar to momentum.\n",
    "   - Suitability: Suitable for accelerating convergence and reducing oscillations.\n",
    "\n",
    "7. **Learning Rate Schedules:**\n",
    "   - Convergence Speed: Can achieve faster convergence by adapting the learning rate over time.\n",
    "   - Memory Requirements: Low memory usage, as it only requires the current learning rate.\n",
    "   - Suitability: Useful when the optimal learning rate changes during training.\n",
    "\n",
    "The choice of optimization algorithm depends on the problem characteristics and the available computational resources. Memory-efficient algorithms like SGD and mini-batch GD are preferred for large datasets, while adaptive methods like Adam and RMSprop are useful when manual tuning of learning rates is impractical. Momentum-based methods are beneficial for escaping local minima and speeding up convergence. Learning rate schedules can be helpful when a dynamic learning rate is required during training."
   ]
  },
  {
   "cell_type": "markdown",
   "id": "e92839d8",
   "metadata": {},
   "source": [
    "<a id=\"3\"></a> \n",
    " ## <p style=\"padding:10px;background-color: #00004d ;margin:10;color: white ;font-family:newtimeroman;font-size:100%;text-align:center;border-radius: 10px 10px ;overflow:hidden;font-weight:50\">Ans 3 </p> "
   ]
  },
  {
   "cell_type": "markdown",
   "id": "1fee3834",
   "metadata": {},
   "source": [
    "Traditional gradient descent optimization methods, while effective in many cases, come with certain challenges:\n",
    "\n",
    "1. **Slow Convergence:** Traditional gradient descent processes the entire dataset to compute the gradient before each parameter update. This can lead to slow convergence, especially on large datasets, as it requires a significant amount of time to process each iteration. As a result, it may take many iterations to reach a minimum.\n",
    "\n",
    "2. **Local Minima:** The optimization landscape of complex loss functions can contain numerous local minima, which are points where the gradient is close to zero but the function is not yet minimized. Traditional gradient descent can get trapped in local minima, preventing it from finding the global minimum and leading to suboptimal solutions.\n",
    "\n",
    "3. **Sensitivity to Learning Rate:** Choosing an appropriate learning rate is crucial for gradient descent. A learning rate that is too large can cause the optimization to overshoot the minimum, leading to oscillations or divergence. A learning rate that is too small can result in slow convergence or getting stuck in a local minimum.\n",
    "\n",
    "4. **Sensitivity to Initial Conditions:** The initial parameter values can influence the optimization process. Starting from different initial points might lead to different convergence trajectories, making the optimization non-deterministic and potentially converging to different local minima.\n",
    "\n",
    "5. **Ill-Conditioned Hessian Matrix:** In high-dimensional spaces, the Hessian matrix (second derivative of the loss function) can be ill-conditioned or singular. This can cause numerical instability and challenges in determining the right step direction.\n",
    "\n",
    "6. **Noisy or Sparse Data:** Traditional gradient descent can struggle when dealing with noisy or sparse data. Noisy data can lead to erratic updates and slow convergence, while sparse data can result in imprecise gradient estimates.\n",
    "\n",
    "7. **Memory Requirements:** Computing gradients for large datasets can be memory-intensive, as it requires storing the entire dataset and its gradients in memory. This can be impractical for datasets that don't fit in memory.\n",
    "\n",
    "8. **Lack of Parallelism:** Traditional gradient descent is inherently sequential, making it less suitable for parallel computation on multi-core processors or distributed computing environments.\n",
    "\n",
    "Modern optimization algorithms, such as stochastic gradient descent variants (e.g., SGD, Adam, RMSprop), address these challenges by introducing adaptive learning rates, incorporating momentum, and using mini-batches. These techniques allow faster convergence, better handling of local minima, and improved scalability to large datasets."
   ]
  },
  {
   "cell_type": "markdown",
   "id": "aff7414d",
   "metadata": {},
   "source": [
    "Modern optimizers address the challenges of traditional gradient descent using various techniques:\n",
    "\n",
    "1. **Stochastic Gradient Descent (SGD):** SGD computes the gradient and updates parameters using a randomly selected subset (mini-batch) of the training data in each iteration. This introduces randomness in parameter updates, helping escape local minima and speeding up convergence. It also reduces memory requirements since only a small batch of data needs to be stored in memory at a time.\n",
    "\n",
    "2. **Momentum:** Momentum is an extension of SGD that introduces a moving average of past gradients. This helps the optimization process to continue moving in a consistent direction, even in the presence of noisy gradients. It accelerates convergence and helps overcome local minima by \"gaining momentum\" down steeper gradients and dampening oscillations in flatter regions.\n",
    "\n",
    "3. **Adaptive Learning Rates:** Traditional gradient descent uses a fixed learning rate, which can lead to slow convergence or divergence. Modern optimizers, like Adam and RMSprop, adapt the learning rate dynamically for each parameter. They use statistics of past gradients to adjust the learning rate, allowing faster convergence and better handling of different parameter scales.\n",
    "\n",
    "4. **RMSprop:** RMSprop uses a moving average of past squared gradients to adjust the learning rate. It helps address the problem of diminishing learning rates for parameters with small gradients. It is less sensitive to the choice of the global learning rate.\n",
    "\n",
    "5. **Adam (Adaptive Moment Estimation):** Adam combines the ideas of momentum and adaptive learning rates. It maintains both a moving average of past gradients and a moving average of past squared gradients. These moving averages are used to calculate adaptive learning rates for each parameter. Adam is computationally efficient and widely used due to its strong performance on various tasks.\n",
    "\n",
    "6. **Learning Rate Schedules:** Some modern optimizers use learning rate schedules that gradually reduce the learning rate during training. This helps fine-tune the optimization process and achieve better convergence.\n",
    "\n",
    "7. **Batch Normalization:** While not an optimizer per se, batch normalization helps stabilize the optimization process by normalizing the inputs of each layer. It reduces internal covariate shifts and allows for higher learning rates, contributing to faster convergence.\n",
    "\n",
    "8. **Pre-Conditioning:** Techniques like AdaGrad and Adam can be seen as forms of pre-conditioning that adaptively scale the learning rates for each parameter. This helps mitigate ill-conditioned Hessian matrices.\n",
    "\n",
    "In summary, modern optimizers improve convergence speed, handle local minima better, and adaptively adjust learning rates to different parameter scales. These improvements lead to faster training times, more stable optimization, and often better generalization to new data."
   ]
  },
  {
   "cell_type": "markdown",
   "id": "df34a189",
   "metadata": {},
   "source": [
    "<a id=\"4\"></a> \n",
    " ## <p style=\"padding:10px;background-color: #00004d ;margin:10;color: white ;font-family:newtimeroman;font-size:100%;text-align:center;border-radius: 10px 10px ;overflow:hidden;font-weight:50\">Ans 4 </p> "
   ]
  },
  {
   "cell_type": "markdown",
   "id": "cfac6c09",
   "metadata": {},
   "source": [
    "**Momentum:**\n",
    "Momentum is a concept used in optimization algorithms, particularly in the context of gradient-based optimization methods like stochastic gradient descent (SGD). It addresses the problem of slow convergence and oscillations that can occur when the gradient changes direction frequently, especially in regions with flat or noisy gradients.\n",
    "\n",
    "In the context of optimization, momentum refers to a moving average of past gradients. Instead of directly updating the parameters based on the current gradient, momentum introduces a \"velocity\" term that accumulates past gradients. The updates to the parameters are influenced not only by the current gradient but also by the accumulated velocity from previous iterations.\n",
    "\n",
    "Mathematically, the update equation for the parameters with momentum can be expressed as follows:\n",
    "\n",
    "\\[ velocity = β * velocity + (1 - β) * gradient \\]\n",
    "\n",
    "\n",
    "\\[ parameters = parameters - learning_rate * velocity \\]\n",
    "\n",
    "Here, \\( β \\) is the momentum coefficient, and \\(\\text{gradient}\\) represents the current gradient. The larger the value of \\( β \\), the more influence past gradients have on the current update.\n",
    "\n",
    "Momentum helps in achieving faster convergence by dampening oscillations and allowing the optimization process to move more consistently in a certain direction. It also helps the optimization algorithm escape shallow local minima and navigate flatter regions more effectively.\n",
    "\n",
    "**Learning Rate:**\n",
    "The learning rate is a hyperparameter that determines the step size or the magnitude of parameter updates in optimization algorithms. It controls how much the parameters are adjusted in the direction of the gradient. A larger learning rate means larger updates, potentially leading to faster convergence, but it also carries the risk of overshooting the optimal solution and diverging. On the other hand, a smaller learning rate may result in slow convergence.\n",
    "\n",
    "Choosing an appropriate learning rate is crucial for the success of optimization. If the learning rate is too high, the optimization process might become unstable, leading to divergent behavior. If it's too low, convergence can be very slow, and the optimization might get stuck in local minima.\n",
    "\n",
    "In some optimization algorithms, learning rates can be adjusted during training. Adaptive learning rate methods, like Adam and RMSprop, automatically adjust the learning rate for each parameter based on the history of gradients. This allows the optimization process to be more robust and efficient.\n",
    "\n",
    "Balancing the learning rate and using techniques like momentum can significantly impact the convergence speed and stability of the optimization process. It's essential to tune these hyperparameters based on the specific problem and architecture being optimized."
   ]
  },
  {
   "cell_type": "markdown",
   "id": "20e1a54c",
   "metadata": {},
   "source": [
    "**Impact of Momentum on Convergence and Model Performance:**\n",
    "Momentum can have a positive impact on both the convergence speed and model performance during training.\n",
    "\n",
    "1. **Convergence Speed:** The inclusion of momentum can help the optimization process converge faster. This is because the momentum term allows the optimization algorithm to build up velocity in consistent directions, dampening the oscillations and noisy gradient updates that can slow down convergence. As a result, the algorithm can traverse flatter regions more smoothly and avoid getting stuck in local minima.\n",
    "\n",
    "2. **Escape from Local Minima:** Momentum also assists in escaping local minima, which are points in the parameter space where the gradient is close to zero. Traditional gradient descent methods may struggle to escape these minima, but momentum allows the optimization process to continue moving even in the absence of strong gradients. This increases the chances of finding better solutions.\n",
    "\n",
    "3. **Stability:** Momentum can make the optimization process more stable by reducing the variance in parameter updates. This can prevent overshooting and oscillations, which can occur with aggressive learning rates.\n",
    "\n",
    "4. **Avoiding Plateaus:** In regions with shallow gradients (plateaus), momentum can help the optimization process move more efficiently. Traditional gradient descent can get stuck on plateaus, but momentum provides the necessary push to navigate through these regions.\n",
    "\n",
    "**Impact of Learning Rate on Convergence and Model Performance:**\n",
    "The learning rate plays a critical role in determining how quickly the optimization process converges and whether the model achieves good performance.\n",
    "\n",
    "1. **Convergence Speed:** A higher learning rate can lead to faster convergence since larger parameter updates are made in each iteration. However, using an excessively high learning rate can result in overshooting the optimal solution and potentially diverging.\n",
    "\n",
    "2. **Stability:** The learning rate affects the stability of the optimization process. A too-high learning rate can cause the optimization to diverge, while a too-low learning rate can result in slow convergence.\n",
    "\n",
    "3. **Finding Global Minima:** Using an appropriate learning rate is essential to help the optimization algorithm move towards the global minimum, rather than getting stuck in local minima. With a balanced learning rate, the optimization process can smoothly navigate regions with different gradient magnitudes.\n",
    "\n",
    "4. **Regularization:** In some cases, smaller learning rates can act as a form of regularization by preventing the model from fitting noise in the data. This can lead to improved generalization to unseen data.\n",
    "\n",
    "In summary, momentum and learning rate are key hyperparameters that impact the optimization process in terms of convergence speed, stability, and the ability to find good solutions. Careful tuning of these hyperparameters is necessary to achieve optimal convergence and model performance. Different tasks and architectures may require different combinations of momentum and learning rate for best results."
   ]
  },
  {
   "cell_type": "markdown",
   "id": "27e730b8",
   "metadata": {},
   "source": [
    "<a id=\"1\"></a> \n",
    " # <p style=\"padding:10px;background-color: #000000 ;margin:10;color: white ;font-family:newtimeroman;font-size:100%;text-align:center;border-radius: 10px 10px ;overflow:hidden;font-weight:50\">Part 2  : Optimizer Technique</p> "
   ]
  },
  {
   "cell_type": "markdown",
   "id": "8775d39d",
   "metadata": {},
   "source": [
    "<a id=\"5\"></a> \n",
    " ## <p style=\"padding:10px;background-color: #00004d ;margin:10;color: white ;font-family:newtimeroman;font-size:100%;text-align:center;border-radius: 10px 10px ;overflow:hidden;font-weight:50\">Ans 5 </p> "
   ]
  },
  {
   "cell_type": "markdown",
   "id": "1a5c9e09",
   "metadata": {},
   "source": [
    "Stochastic Gradient Descent (SGD) is an optimization algorithm used in training machine learning models, particularly in the context of neural networks and deep learning. It is an extension of the traditional gradient descent algorithm and is designed to address some of the limitations associated with it.\n",
    "\n",
    "In traditional gradient descent, the algorithm updates the model's parameters using the average gradient of the loss function computed over the entire training dataset. While this approach guarantees convergence to the global minimum, it can be computationally expensive, especially for large datasets. Stochastic Gradient Descent introduces a more efficient approach by updating the model's parameters using only a subset of the training data (one or a few samples) at each iteration.\n",
    "\n",
    "Here's how Stochastic Gradient Descent works:\n",
    "\n",
    "1. **Random Sampling:** At each iteration, SGD randomly selects a small batch (also known as a mini-batch) of samples from the training dataset.\n",
    "\n",
    "2. **Gradient Computation:** For the selected mini-batch, the gradient of the loss function with respect to the model's parameters is computed. This gradient estimates the direction in which the parameters should be updated to reduce the loss on the current mini-batch.\n",
    "\n",
    "3. **Parameter Update:** The model's parameters are then updated using the computed gradient. Instead of waiting to calculate the gradient for the entire dataset, as in traditional gradient descent, SGD makes frequent updates based on the smaller mini-batch gradients.\n",
    "\n",
    "4. **Iteration:** Steps 2 and 3 are repeated for a predefined number of iterations or until convergence criteria are met.\n",
    "\n",
    "Key Advantages of Stochastic Gradient Descent:\n",
    "\n",
    "1. **Faster Convergence:** SGD can converge faster than traditional gradient descent because it updates the parameters more frequently based on small mini-batches. This faster convergence can lead to quicker training times.\n",
    "\n",
    "2. **Efficient Memory Usage:** Since SGD only requires gradients to be calculated for a subset of the data at a time, it is more memory-efficient compared to batch gradient descent, which requires storing gradients for the entire dataset.\n",
    "\n",
    "3. **Potential Generalization Improvement:** The noisy updates introduced by using small mini-batches can act as a form of regularization, preventing the model from fitting noise in the data and potentially improving generalization to unseen data.\n",
    "\n",
    "Limitations of Stochastic Gradient Descent:\n",
    "\n",
    "1. **Noisy Updates:** The noisy updates introduced by mini-batches can cause the optimization process to oscillate around the minimum. This noise can slow down convergence and make the optimization process less stable.\n",
    "\n",
    "2. **Learning Rate Tuning:** The learning rate needs to be carefully tuned in SGD. Too high of a learning rate can result in divergence, while too low of a learning rate can lead to slow convergence.\n",
    "\n",
    "3. **Increased Variance:** Due to the random nature of mini-batch sampling, the parameter updates in SGD have higher variance compared to batch gradient descent. This variance can cause the optimization process to take longer to converge.\n",
    "\n",
    "Despite its limitations, SGD remains a popular and effective optimization algorithm for training deep learning models, and many of its variants have been developed to address its drawbacks."
   ]
  },
  {
   "cell_type": "markdown",
   "id": "b94691bb",
   "metadata": {},
   "source": [
    "Stochastic Gradient Descent (SGD) offers several advantages compared to traditional batch gradient descent:\n",
    "\n",
    "1. **Faster Convergence:** One of the primary advantages of SGD is its faster convergence rate. In batch gradient descent, the model's parameters are updated only after computing gradients for the entire training dataset, which can be computationally expensive. In contrast, SGD updates the parameters more frequently based on small mini-batches, allowing for faster progress towards the optimal solution.\n",
    "\n",
    "2. **Efficient Memory Usage:** Batch gradient descent requires storing gradients for the entire training dataset, which can consume a significant amount of memory, especially for large datasets. SGD only requires gradients to be calculated and stored for the current mini-batch, making it more memory-efficient and suitable for training on limited memory resources.\n",
    "\n",
    "3. **Better Exploration of Solution Space:** SGD introduces stochasticity into the optimization process due to the random selection of mini-batches. This randomness can help the optimization process escape local minima and saddle points, leading to improved chances of finding a better global minimum or a solution that generalizes well to unseen data.\n",
    "\n",
    "4. **Regularization Effect:** The noisy updates introduced by mini-batches in SGD can act as a form of implicit regularization. The noise in the updates can prevent the model from fitting noise in the data and thus help in improving generalization to new data.\n",
    "\n",
    "5. **Better Handling of Large Datasets:** For large datasets, computing gradients for the entire dataset in each iteration of batch gradient descent can be time-consuming. SGD's use of mini-batches makes it more feasible to train on large datasets without sacrificing training quality.\n",
    "\n",
    "6. **Stochasticity for Escape:** While the noise introduced by mini-batches can sometimes hinder convergence, it can also serve as a mechanism for escaping sharp local minima or saddle points. This can lead to better exploration of the solution space and potentially finding more optimal solutions.\n",
    "\n",
    "It's important to note that while SGD offers these advantages, it also comes with its own challenges and limitations, such as noisy updates and the need for careful learning rate tuning. To address some of these challenges, various variants of SGD, such as mini-batch gradient descent and momentum-based methods like Adam and RMSprop, have been developed. These variants aim to strike a balance between the benefits of stochastic updates and the stability of batch updates."
   ]
  },
  {
   "cell_type": "markdown",
   "id": "e03df205",
   "metadata": {},
   "source": [
    "Stochastic Gradient Descent (SGD) has several limitations and is most suitable in specific scenarios:\n",
    "\n",
    "**Limitations of SGD:**\n",
    "\n",
    "1. **Noisy Updates:** The stochastic nature of SGD introduces randomness in the parameter updates due to the use of mini-batches. This noise can lead to fluctuating convergence paths and slower convergence compared to batch gradient descent.\n",
    "\n",
    "2. **Learning Rate Sensitivity:** SGD's convergence is sensitive to the learning rate. If the learning rate is too high, it can cause overshooting and divergence. If it's too low, convergence can be slow, and the optimization process might get stuck in local minima.\n",
    "\n",
    "3. **Less Stable Convergence:** The stochastic nature of SGD can cause the loss function to oscillate around the optimal solution, which might make it challenging to define a convergence criterion.\n",
    "\n",
    "4. **Poor Learning Path:** The fluctuating updates can lead to inefficient exploration of the solution space, potentially missing the optimal solution.\n",
    "\n",
    "5. **Potential for Plateaus:** In some cases, mini-batches might contain similar or redundant examples, leading to flat regions in the loss landscape. This can slow down convergence and hinder progress.\n",
    "\n",
    "6. **Hyperparameter Tuning:** The choice of learning rate and other hyperparameters can be more critical in SGD compared to other optimization algorithms.\n",
    "\n",
    "**Scenarios where SGD is Suitable:**\n",
    "\n",
    "Despite its limitations, SGD is still widely used and suitable in various scenarios:\n",
    "\n",
    "1. **Large Datasets:** SGD is particularly suitable for large datasets where computing gradients for the entire dataset in each iteration is computationally expensive. The use of mini-batches enables more efficient training.\n",
    "\n",
    "2. **Online Learning:** In scenarios where new data arrives continuously, such as in online learning, SGD allows incremental updates to the model as new data becomes available.\n",
    "\n",
    "3. **Non-Convex Loss Surfaces:** SGD's stochastic updates can help escape sharp local minima and saddle points, making it beneficial in scenarios with complex and non-convex loss landscapes.\n",
    "\n",
    "4. **Regularization Effect:** The inherent noise in SGD's updates can act as a form of implicit regularization, preventing overfitting to noise in the data. This can be advantageous in cases where explicit regularization techniques might not be feasible.\n",
    "\n",
    "5. **Quick Exploration:** In the early stages of training, when the model's parameters are far from the optimal solution, the noisy updates of SGD can lead to quick exploration of the solution space.\n",
    "\n",
    "6. **Parallelism:** SGD can be parallelized easily by distributing mini-batches across multiple processors or devices, making it suitable for high-performance computing environments.\n",
    "\n",
    "7. **Transfer Learning:** For transfer learning scenarios, where the pre-trained model is fine-tuned on a new dataset, SGD allows efficient adaptation of the model to the new data.\n",
    "\n",
    "Despite its limitations, SGD's efficiency and suitability for certain scenarios have led to the development of various SGD variants that aim to address some of its challenges while retaining its advantages."
   ]
  },
  {
   "cell_type": "code",
   "execution_count": null,
   "id": "fe5e4fda",
   "metadata": {},
   "outputs": [],
   "source": []
  },
  {
   "cell_type": "markdown",
   "id": "ab08b10f",
   "metadata": {},
   "source": [
    "<a id=\"6\"></a> \n",
    " ## <p style=\"padding:10px;background-color: #00004d ;margin:10;color: white ;font-family:newtimeroman;font-size:100%;text-align:center;border-radius: 10px 10px ;overflow:hidden;font-weight:50\">Ans 6 </p> "
   ]
  },
  {
   "cell_type": "markdown",
   "id": "60f98106",
   "metadata": {},
   "source": [
    "Adam (short for Adaptive Moment Estimation) is an optimization algorithm that combines the benefits of both stochastic gradient descent (SGD) and other advanced optimization methods. It's an adaptive learning rate optimization algorithm that adjusts the learning rate for each parameter based on past gradients and squared gradients. Adam is well-suited for a wide range of neural network architectures and is known for its efficient convergence and robustness.\n",
    "\n",
    "Here's a breakdown of the concepts behind the Adam optimizer:\n",
    "\n",
    "1. **Momentum:** Adam incorporates the concept of momentum, similar to other optimization algorithms like SGD with momentum. Momentum helps the optimizer to keep moving in the same direction even when the gradient changes direction. It helps accelerate convergence, especially through flat or noisy regions.\n",
    "\n",
    "2. **Adaptive Learning Rates:** Adam adapts the learning rate for each parameter individually by using the first and second moments of the gradients. The first moment is the moving average of past gradients, and the second moment is the moving average of past squared gradients. These moments are used to calculate the update step for each parameter, ensuring that parameters with large gradients have smaller learning rates, and vice versa.\n",
    "\n",
    "3. **Bias Correction:** In the early stages of training, the moving averages of the gradients and squared gradients may be biased toward zero. To counter this bias, Adam performs bias correction by scaling the moments with a correction factor. This ensures that the estimates are accurate, especially at the beginning of training.\n",
    "\n",
    "4. **Hyperparameters:** Adam has hyperparameters that control the momentum and the influence of the moving averages on the update step. The most common hyperparameters include the learning rate, the momentum parameter (often denoted as beta1), and the squared gradient decay parameter (often denoted as beta2).\n",
    "\n",
    "5. **Initialization:** Adam requires initialization of the moving average moments. Typically, the moments are initialized with zeros or small values.\n",
    "\n",
    "Adam's formula for updating the parameters is as follows:\n",
    "\n",
    "\\[ m_t = β_1 * m_{t-1} + (1 - β_1) * g_t \\]\n",
    "\n",
    "\\[ v_t = β_2 * v_{t-1} + (1 - β_2) * g_t^2 \\]\n",
    "\n",
    "\\[ m_h_t = m_t / (1 - β_1^t ) \\]\n",
    "\n",
    "\\[ v_h_t = v_t / (1 - β_2^t) \\]\n",
    "\n",
    "\\[ θ_{t+1} = θ_t -  α / (sqrt( m_h_t + ε )) *  m_h_t \\]\n",
    "\n",
    "\n",
    "Where:\n",
    "- \\( m_t \\) and \\( v_t \\) are the first and second moments of the gradients at time step \\( t \\).\n",
    "- \\( m_h_t\\) and \\( v_h_t \\) are the bias-corrected estimates of the moments.\n",
    "- \\( g_t \\) is the gradient at time step \\( t \\).\n",
    "- \\( α \\) is the learning rate.\n",
    "- \\( β_1 \\) and \\( β_2 \\) are the exponential decay rates for the moment estimates.\n",
    "- \\( ε \\) is a small constant to prevent division by zero.\n",
    "\n",
    "Adam's adaptive learning rates and momentum make it a popular choice for training neural networks. It's less sensitive to hyperparameters compared to other optimization methods, and it often converges quickly while avoiding overshooting and divergence. However, like any optimizer, its performance depends on the specific problem, architecture, and data."
   ]
  },
  {
   "cell_type": "markdown",
   "id": "0ab3dabb",
   "metadata": {},
   "source": [
    "The Adam optimizer combines the concepts of momentum and adaptive learning rates to achieve efficient and robust optimization during the training of neural networks. Let's break down how Adam integrates these two components:\n",
    "\n",
    "1. **Momentum Component:**\n",
    "   Like SGD with momentum, Adam introduces a moving average of past gradients to incorporate momentum. This helps the optimization process to continue moving in the same direction, even if the gradient direction changes abruptly. The momentum component is responsible for the accumulation of past gradients to smooth out the optimization trajectory.\n",
    "\n",
    "2. **Adaptive Learning Rates Component:**\n",
    "   The adaptive learning rates in Adam are derived from two moving averages: the moving average of past gradients (first moment) and the moving average of past squared gradients (second moment). These moving averages are used to adjust the learning rates for each parameter.\n",
    "\n",
    "   - The first moment (\\(m_t\\)) is a moving average of the gradients, which captures the direction of the gradients over time.\n",
    "   - The second moment (\\(v_t\\)) is a moving average of the squared gradients, which captures the magnitude of the gradients over time.\n",
    "\n",
    "3. **Bias Correction:**\n",
    "   Since the moving averages are initialized at zero and can be biased towards zero, Adam performs bias correction to account for this initialization. This ensures accurate estimates of the moving averages, especially during the early stages of training.\n",
    "\n",
    "4. **Combining Momentum and Adaptive Learning Rates:**\n",
    "   In the update step of Adam, the momentum component (\\(m_t\\)) and the adaptive learning rates (\\(v_t\\)) are combined to compute the parameter updates. The parameter updates are scaled by \\( 1/ sqrt( v_h_t) \\), where \\( v_h__t\\) is the bias-corrected estimate of the second moment. This scaling normalizes the updates based on the magnitude of the gradients.\n",
    "\n",
    "   Additionally, the bias-corrected first moment (\\( m_h_t\\)) is used to adjust the parameter updates, just like momentum. This combination of the normalized updates and the momentum-like component ensures that the optimization process benefits from both adaptive learning rates and momentum.\n",
    "\n",
    "In summary, Adam combines the momentum concept to maintain a consistent direction of optimization with adaptive learning rates that adjust the step size based on the history of gradients. This combination helps Adam efficiently navigate through different parts of the loss landscape, leading to quicker convergence and robust optimization for a wide range of neural network architectures and tasks."
   ]
  },
  {
   "cell_type": "markdown",
   "id": "577a6404",
   "metadata": {},
   "source": [
    "**Benefits of the Adam Optimizer:**\n",
    "\n",
    "1. **Efficient Convergence:** Adam adapts the learning rates for each parameter individually based on the historical information of gradients. This adaptivity allows it to converge faster than traditional gradient descent algorithms, especially in scenarios with sparse and noisy gradients.\n",
    "\n",
    "2. **Robust to Learning Rate Choices:** Adam's adaptive learning rate mechanism makes it less sensitive to the initial learning rate setting. It can often perform well with default hyperparameters without the need for extensive tuning.\n",
    "\n",
    "3. **Combination of Momentum and Adaptive Rates:** By combining the concepts of momentum and adaptive learning rates, Adam offers a balanced approach to optimization. It benefits from both the stability of momentum-based methods and the adaptability of learning rate scaling.\n",
    "\n",
    "4. **Well-suited for Noisy Data:** The adaptive learning rates of Adam can be beneficial when dealing with data containing noisy gradients or when gradients exhibit varying scales across different dimensions.\n",
    "\n",
    "5. **Popular and Widely Used:** Adam has become a standard optimization algorithm due to its strong performance in a wide range of tasks and architectures. It is available in many deep learning frameworks and is often the default optimizer.\n",
    "\n",
    "**Potential Drawbacks of the Adam Optimizer:**\n",
    "\n",
    "1. **Sensitivity to Hyperparameters:** Despite being less sensitive to the initial learning rate, Adam does have hyperparameters that require tuning. The choice of hyperparameters like \\(  β_1 \\), \\(  β_2 \\), and \\( ε \\) can impact the optimization process and final results.\n",
    "\n",
    "2. **Memory Usage:** Adam requires maintaining moving averages of past gradients and squared gradients for each parameter. This can result in higher memory usage compared to simpler optimization algorithms.\n",
    "\n",
    "3. **Lack of Theoretical Convergence Guarantees:** Unlike some optimization algorithms with proven convergence guarantees, Adam doesn't have such theoretical guarantees. While it often works well in practice, there might be scenarios where convergence behavior is not as expected.\n",
    "\n",
    "4. **Not Always Ideal for Small Datasets:** In cases of very small datasets, the moving averages might not be computed accurately, leading to less effective adaptive learning rates. In such cases, simpler optimization algorithms like SGD might be more appropriate.\n",
    "\n",
    "5. **Noise in Early Training:** Since Adam computes moving averages, there might be some noise in the initial steps of training. This can affect convergence behavior during the early stages of optimization.\n",
    "\n",
    "In conclusion, Adam is a versatile and widely used optimizer that combines the benefits of momentum and adaptive learning rates. While it works well in many scenarios, it's important to be mindful of its hyperparameters and its potential limitations, especially in cases with limited computational resources or specific optimization requirements."
   ]
  },
  {
   "cell_type": "markdown",
   "id": "5b553421",
   "metadata": {},
   "source": [
    "<a id=\"7\"></a> \n",
    " ## <p style=\"padding:10px;background-color: #00004d ;margin:10;color: white ;font-family:newtimeroman;font-size:100%;text-align:center;border-radius: 10px 10px ;overflow:hidden;font-weight:50\">Ans 7 </p> "
   ]
  },
  {
   "cell_type": "markdown",
   "id": "02d2dad2",
   "metadata": {},
   "source": [
    "RMSprop, short for \"Root Mean Square Propagation,\" is an optimization algorithm used to update the weights of neural network models during training. It addresses some of the limitations of traditional gradient descent by adapting the learning rates of individual parameters based on their historical gradient information. RMSprop is particularly effective when dealing with non-convex optimization problems that have sparse gradients or varying scales across different dimensions.\n",
    "\n",
    "Here's how the RMSprop optimizer works:\n",
    "\n",
    "1. **Exponential Moving Average of Squared Gradients:**\n",
    "   - Similar to the Adam optimizer, RMSprop maintains a moving average of the squared gradients of each parameter. This moving average is represented by the variable \\(v\\).\n",
    "   - At each iteration, the squared gradient of each parameter is computed as\n",
    "   \n",
    "   \\(g^2_t = β * g^2_{t-1} + (1 - β) * ( ∇ J( θ_t))^2\\), \n",
    "   \n",
    "   where \\( g^2_t\\) is the squared gradient at iteration \\( t \\), \\( β \\) is a decay factor, \\( ∇ J(θ_t)\\) is the gradient of the loss function at iteration \\(t\\), and \\( θ_t\\) represents the model parameters at iteration \\(t\\).\n",
    "\n",
    "2. **Update Rule:**\n",
    "   - The update rule for the model parameters is calculated as \n",
    "   \n",
    "   \\(θ_{t+1} = θ_t - η / sqrt{v_t + ε} *  ∇ J(θ_t)\\),\n",
    "   \n",
    "   where \\(η\\) is the learning rate, \\(v_t\\) is the moving average of squared gradients at iteration \\(t\\), and \\( ε \\) is a small constant added to prevent division by zero.\n",
    "\n",
    "3. **Adaptive Learning Rates:**\n",
    "   - The division by \\( sqrt{ v_t +  ε } \\) in the update rule scales the gradient based on the historical information of squared gradients. This adapts the learning rate for each parameter, reducing the learning rate for parameters that have larger historical squared gradients and increasing it for parameters with smaller gradients.\n",
    "\n",
    "4. **Adaptive and Efficient Learning:**\n",
    "   - RMSprop's adaptive learning rate mechanism helps the optimizer handle situations where different dimensions or parameters have vastly different scales. It allows the optimizer to converge faster by taking larger steps in directions with small gradients and smaller steps in directions with large gradients.\n",
    "\n",
    "5. **Comparison with Adam:**\n",
    "   - RMSprop is similar to the adaptive learning rate component of the Adam optimizer. However, RMSprop does not include the momentum term that Adam uses to keep track of past gradients.\n",
    "\n",
    "RMSprop is particularly effective in scenarios where the gradients have varying magnitudes, and it helps in overcoming the challenges posed by the uneven scales of different parameters. While RMSprop is generally well-suited for many tasks, its performance can vary based on the specific dataset and model architecture. It is often used as an alternative to other optimization algorithms like SGD and Adam, and its choice depends on empirical experimentation and tuning."
   ]
  },
  {
   "cell_type": "markdown",
   "id": "d017c5de",
   "metadata": {},
   "source": [
    "RMSprop addresses the challenges of adaptive learning rates by adjusting the step size of parameter updates based on the historical information of squared gradients. This helps the optimizer navigate the optimization landscape more effectively, especially when dealing with dimensions that have varying scales or gradients that change significantly.\n",
    "\n",
    "Here's how RMSprop addresses the challenges of adaptive learning rates:\n",
    "\n",
    "1. **Uneven Gradient Scales:**\n",
    "   In many optimization problems, different dimensions or parameters can have significantly different scales. This can lead to slow convergence or divergence when using a single learning rate for all parameters. RMSprop helps mitigate this issue by scaling the learning rate for each parameter based on the historical information of squared gradients. Parameters with larger squared gradients will have smaller learning rates, and parameters with smaller squared gradients will have larger learning rates.\n",
    "\n",
    "2. **Sparse Gradients:**\n",
    "   In some cases, gradients can be sparse, meaning that only a subset of parameters has non-zero gradients at a given iteration. Traditional gradient descent algorithms might not perform well in such situations. RMSprop's adaptive learning rate mechanism allows it to focus more on parameters with significant gradients and reduce the impact of parameters with small or zero gradients.\n",
    "\n",
    "3. **Convergence Speed:**\n",
    "   By adapting the learning rates based on the historical squared gradients, RMSprop can take larger steps in directions with small gradients and smaller steps in directions with large gradients. This enables faster convergence by allowing the optimizer to efficiently traverse flatter regions and make cautious updates in steep regions.\n",
    "\n",
    "4. **Memory-Efficient:**\n",
    "   RMSprop maintains a moving average of squared gradients (\\(v_t\\)) for each parameter, which requires memory to store. However, this memory requirement is generally lower compared to algorithms that maintain a moving average of gradients and squared gradients (e.g., Adam). This makes RMSprop more memory-efficient while still providing benefits of adaptive learning rates.\n",
    "\n",
    "5. **Stable Learning Rates:**\n",
    "   The division by \\( sqrt(v_t + ε ) \\) in the parameter update formula ensures that the learning rates do not become too large, even when squared gradients grow over time. This stability prevents the learning rates from growing uncontrollably and causing divergence.\n",
    "\n",
    "Overall, RMSprop's ability to adapt learning rates based on the historical squared gradients allows it to effectively navigate optimization landscapes with varying gradients and scales. While it may not always perform better than other optimizers like Adam, it provides a robust and efficient solution for addressing the challenges posed by adaptive learning rates in neural network optimization."
   ]
  },
  {
   "cell_type": "markdown",
   "id": "56abfae4",
   "metadata": {},
   "source": [
    "RMSprop and Adam are both popular optimization algorithms that address the challenges of adaptive learning rates in neural network training. They share some similarities in terms of adaptive learning rate adjustments, but they also have distinct characteristics that can impact their performance. Let's compare RMSprop and Adam and discuss their relative strengths and weaknesses:\n",
    "\n",
    "**RMSprop:**\n",
    "\n",
    "Strengths:\n",
    "- RMSprop adapts learning rates for each parameter based on the historical squared gradients. This enables it to handle varying gradient scales and navigate optimization landscapes more effectively.\n",
    "- It is relatively memory-efficient compared to algorithms like Adam, as it only maintains a moving average of squared gradients for each parameter.\n",
    "- RMSprop is less sensitive to the initial learning rate than some other optimizers, making it easier to tune.\n",
    "\n",
    "Weaknesses:\n",
    "- One limitation of RMSprop is that it does not have an explicit momentum term. This can cause oscillations in the optimization path, especially in regions with flat or saddle-point-like surfaces.\n",
    "- RMSprop may not perform well when dealing with non-stationary objectives, as the accumulated squared gradients can become too large and dominate the learning rate.\n",
    "\n",
    "**Adam (Adaptive Moment Estimation):**\n",
    "\n",
    "Strengths:\n",
    "- Adam combines the concepts of momentum and adaptive learning rates, making it robust and effective in a wide range of optimization tasks.\n",
    "- It uses both the first-order moment (mean) and the second-order moment (uncentered variance) of gradients to adjust learning rates. This helps it perform well in regions with varying gradient scales and directions.\n",
    "- Adam includes bias-correction terms in its parameter update equations, which is particularly useful during the early iterations when moments are being initialized.\n",
    "\n",
    "Weaknesses:\n",
    "- Adam can sometimes have slower convergence compared to algorithms like SGD with momentum, especially in cases where the first-order moment dominates the second-order moment.\n",
    "- It requires tuning of additional hyperparameters like \\( β_1\\) and \\( β_2\\) (exponential decay rates for the moment estimates) in addition to the learning rate.\n",
    "- Adam can exhibit sensitivity to the choice of learning rates and may not generalize well in some scenarios.\n",
    "\n",
    "**Comparison and Considerations:**\n",
    "\n",
    "- Both RMSprop and Adam are adaptive learning rate algorithms that can handle varying gradient scales, but Adam also incorporates momentum for smoother optimization paths.\n",
    "- RMSprop is generally less sensitive to hyperparameter tuning compared to Adam.\n",
    "- Adam is a good default choice for many optimization tasks due to its combination of adaptive learning rates and momentum.\n",
    "- For complex optimization landscapes, Adam's momentum can help it escape shallow local minima more effectively compared to RMSprop.\n",
    "- RMSprop's memory efficiency can be advantageous when working with memory-constrained environments.\n",
    "- The choice between RMSprop and Adam can also depend on empirical performance on specific datasets and tasks.\n",
    "\n",
    "In summary, both RMSprop and Adam are valuable optimization algorithms, and the choice between them depends on factors such as the specific problem, the characteristics of the dataset, and the desired trade-offs between convergence speed, stability, and memory requirements. Experimentation and empirical testing are crucial to determining which optimizer works best for a given scenario."
   ]
  },
  {
   "cell_type": "code",
   "execution_count": null,
   "id": "6a8ac0be",
   "metadata": {},
   "outputs": [],
   "source": []
  },
  {
   "cell_type": "markdown",
   "id": "e14d1cab",
   "metadata": {},
   "source": [
    "<a id=\"1\"></a> \n",
    " # <p style=\"padding:10px;background-color: #000000 ;margin:10;color: white ;font-family:newtimeroman;font-size:100%;text-align:center;border-radius: 10px 10px ;overflow:hidden;font-weight:50\">Part 3 : Appliying Optimizer</p> "
   ]
  },
  {
   "cell_type": "markdown",
   "id": "7763d277",
   "metadata": {},
   "source": [
    "<a id=\"8\"></a> \n",
    " ## <p style=\"padding:10px;background-color: #00004d ;margin:10;color: white ;font-family:newtimeroman;font-size:100%;text-align:center;border-radius: 10px 10px ;overflow:hidden;font-weight:50\">Ans 8 </p> "
   ]
  },
  {
   "cell_type": "code",
   "execution_count": 79,
   "id": "be43ffbe",
   "metadata": {},
   "outputs": [
    {
     "data": {
      "text/plain": [
       "((60000, 784), (60000, 10), (10000, 784), (10000, 10))"
      ]
     },
     "execution_count": 79,
     "metadata": {},
     "output_type": "execute_result"
    }
   ],
   "source": [
    "from tensorflow.keras.layers import Dense, BatchNormalization\n",
    "import numpy as np                   # advanced math library\n",
    "import matplotlib.pyplot as plt      # MATLAB like plotting routines\n",
    "import random                        # for generating random numbers\n",
    "import pandas as pd \n",
    "from keras.datasets import mnist     # MNIST dataset is included in Keras\n",
    "from keras.models import Sequential  # Model type to be used\n",
    "from keras.layers.core import  Dropout, Activation # Types of layers to be used in our model\n",
    "from keras.utils import np_utils\n",
    "import numpy as np\n",
    "import tensorflow as tf\n",
    "from tensorflow.keras.optimizers import SGD, Adam, RMSprop\n",
    "from sklearn.model_selection import train_test_split\n",
    "from sklearn.metrics import accuracy_score\n",
    "from tensorflow.keras.utils import to_categorical\n",
    "\n",
    "nb_classes = 10\n",
    "# Load and preprocess the MNIST dataset\n",
    "(X_train, y_train), (X_test, y_test) = mnist.load_data()\n",
    "X_train = X_train.reshape(-1, 784) / 255.0\n",
    "X_test = X_test.reshape(-1, 784) / 255.0\n",
    "y_train = to_categorical(y_train, num_classes=10)\n",
    "y_test = to_categorical(y_test, num_classes=10)\n",
    "\n",
    "X_train.shape ,   y_train.shape      ,  X_test.shape ,    y_test.shape "
   ]
  },
  {
   "cell_type": "markdown",
   "id": "5fa1d81e",
   "metadata": {},
   "source": [
    "<!--  -->"
   ]
  },
  {
   "cell_type": "code",
   "execution_count": 81,
   "id": "a6fda855",
   "metadata": {},
   "outputs": [
    {
     "data": {
      "text/plain": [
       "((48000, 784), (12000, 784), (10000, 784))"
      ]
     },
     "execution_count": 81,
     "metadata": {},
     "output_type": "execute_result"
    }
   ],
   "source": [
    "# spliting the trining set into valdation and training\n",
    "X_train, X_val, y_train, y_val = train_test_split(X_train, y_train, test_size=0.2, random_state=42, stratify=y_train)\n",
    "X_train.shape , X_val.shape , X_test.shape"
   ]
  },
  {
   "cell_type": "markdown",
   "id": "e9890b44",
   "metadata": {},
   "source": [
    "<!--  -->"
   ]
  },
  {
   "cell_type": "code",
   "execution_count": 82,
   "id": "bc582246",
   "metadata": {},
   "outputs": [],
   "source": [
    "def create_model():\n",
    "            model = Sequential()\n",
    "\n",
    "            model.add(Dense(512, input_shape=(784,)))\n",
    "            model.add(Activation('relu'))\n",
    "            model.add(Dropout(0.2))\n",
    "            model.add(BatchNormalization())\n",
    "\n",
    "            model.add(Dense(512))\n",
    "            model.add(Activation('relu'))\n",
    "            model.add(Dropout(0.2))\n",
    "            model.add(BatchNormalization())\n",
    "\n",
    "            model.add(Dense(256))\n",
    "            model.add(Activation('relu'))\n",
    "            model.add(Dropout(0.2))\n",
    "            model.add(BatchNormalization())\n",
    "\n",
    "            model.add(Dense(128))\n",
    "            model.add(Activation('relu'))\n",
    "            model.add(Dropout(0.2))\n",
    "            model.add(BatchNormalization())\n",
    "\n",
    "            model.add(Dense(10))\n",
    "            model.add(Activation('softmax'))\n",
    "\n",
    "            return model\n",
    "        "
   ]
  },
  {
   "cell_type": "markdown",
   "id": "92dc3bd3",
   "metadata": {},
   "source": [
    "<!--  -->"
   ]
  },
  {
   "cell_type": "code",
   "execution_count": 83,
   "id": "1cca7eea",
   "metadata": {},
   "outputs": [
    {
     "name": "stdout",
     "output_type": "stream",
     "text": [
      "Model: \"sequential_9\"\n",
      "_________________________________________________________________\n",
      " Layer (type)                Output Shape              Param #   \n",
      "=================================================================\n",
      " dense_45 (Dense)            (None, 512)               401920    \n",
      "                                                                 \n",
      " activation_45 (Activation)  (None, 512)               0         \n",
      "                                                                 \n",
      " dropout_36 (Dropout)        (None, 512)               0         \n",
      "                                                                 \n",
      " batch_normalization_36 (Bat  (None, 512)              2048      \n",
      " chNormalization)                                                \n",
      "                                                                 \n",
      " dense_46 (Dense)            (None, 512)               262656    \n",
      "                                                                 \n",
      " activation_46 (Activation)  (None, 512)               0         \n",
      "                                                                 \n",
      " dropout_37 (Dropout)        (None, 512)               0         \n",
      "                                                                 \n",
      " batch_normalization_37 (Bat  (None, 512)              2048      \n",
      " chNormalization)                                                \n",
      "                                                                 \n",
      " dense_47 (Dense)            (None, 256)               131328    \n",
      "                                                                 \n",
      " activation_47 (Activation)  (None, 256)               0         \n",
      "                                                                 \n",
      " dropout_38 (Dropout)        (None, 256)               0         \n",
      "                                                                 \n",
      " batch_normalization_38 (Bat  (None, 256)              1024      \n",
      " chNormalization)                                                \n",
      "                                                                 \n",
      " dense_48 (Dense)            (None, 128)               32896     \n",
      "                                                                 \n",
      " activation_48 (Activation)  (None, 128)               0         \n",
      "                                                                 \n",
      " dropout_39 (Dropout)        (None, 128)               0         \n",
      "                                                                 \n",
      " batch_normalization_39 (Bat  (None, 128)              512       \n",
      " chNormalization)                                                \n",
      "                                                                 \n",
      " dense_49 (Dense)            (None, 10)                1290      \n",
      "                                                                 \n",
      " activation_49 (Activation)  (None, 10)                0         \n",
      "                                                                 \n",
      "=================================================================\n",
      "Total params: 835,722\n",
      "Trainable params: 832,906\n",
      "Non-trainable params: 2,816\n",
      "_________________________________________________________________\n",
      "None\n"
     ]
    }
   ],
   "source": [
    "model =create_model()\n",
    "print(model.summary())\n",
    "del model"
   ]
  },
  {
   "cell_type": "markdown",
   "id": "1cbc2d2e",
   "metadata": {},
   "source": [
    "<!--  -->"
   ]
  },
  {
   "cell_type": "markdown",
   "id": "0cb01b1a",
   "metadata": {},
   "source": [
    "<!--  -->"
   ]
  },
  {
   "cell_type": "code",
   "execution_count": null,
   "id": "d66ac570",
   "metadata": {},
   "outputs": [],
   "source": []
  },
  {
   "cell_type": "code",
   "execution_count": 9,
   "id": "2d7cf459",
   "metadata": {},
   "outputs": [
    {
     "name": "stderr",
     "output_type": "stream",
     "text": [
      "D:\\Softwares\\ana\\lib\\site-packages\\keras\\optimizers\\optimizer_v2\\gradient_descent.py:111: UserWarning: The `lr` argument is deprecated, use `learning_rate` instead.\n",
      "  super().__init__(name, **kwargs)\n"
     ]
    },
    {
     "name": "stdout",
     "output_type": "stream",
     "text": [
      "Epoch 1/10\n",
      "375/375 [==============================] - 6s 11ms/step - loss: 0.9383 - accuracy: 0.7038 - val_loss: 0.3918 - val_accuracy: 0.8967\n",
      "Epoch 2/10\n",
      "375/375 [==============================] - 4s 11ms/step - loss: 0.4342 - accuracy: 0.8705 - val_loss: 0.2351 - val_accuracy: 0.9268\n",
      "Epoch 3/10\n",
      "375/375 [==============================] - 4s 10ms/step - loss: 0.3362 - accuracy: 0.8991 - val_loss: 0.1944 - val_accuracy: 0.9401\n",
      "Epoch 4/10\n",
      "375/375 [==============================] - 4s 10ms/step - loss: 0.2872 - accuracy: 0.9150 - val_loss: 0.1711 - val_accuracy: 0.9491\n",
      "Epoch 5/10\n",
      "375/375 [==============================] - 4s 11ms/step - loss: 0.2527 - accuracy: 0.9247 - val_loss: 0.1557 - val_accuracy: 0.9532\n",
      "Epoch 6/10\n",
      "375/375 [==============================] - 4s 11ms/step - loss: 0.2312 - accuracy: 0.9302 - val_loss: 0.1430 - val_accuracy: 0.9578\n",
      "Epoch 7/10\n",
      "375/375 [==============================] - 4s 10ms/step - loss: 0.2119 - accuracy: 0.9365 - val_loss: 0.1346 - val_accuracy: 0.9590\n",
      "Epoch 8/10\n",
      "375/375 [==============================] - 4s 12ms/step - loss: 0.1970 - accuracy: 0.9419 - val_loss: 0.1263 - val_accuracy: 0.9621\n",
      "Epoch 9/10\n",
      "375/375 [==============================] - 5s 12ms/step - loss: 0.1794 - accuracy: 0.9467 - val_loss: 0.1206 - val_accuracy: 0.9635\n",
      "Epoch 10/10\n",
      "375/375 [==============================] - 5s 12ms/step - loss: 0.1713 - accuracy: 0.9477 - val_loss: 0.1172 - val_accuracy: 0.9653\n"
     ]
    }
   ],
   "source": [
    "sgd_model = get_new_model()\n",
    "# Compile the model with SGD optimizer\n",
    "sgd_optimizer = SGD(lr=0.01)\n",
    "sgd_model.compile(optimizer=sgd_optimizer, loss='categorical_crossentropy', metrics=['accuracy'])\n",
    "\n",
    "# Train the model with SGD optimizer\n",
    "sgd_history = sgd_model.fit(X_train, y_train, batch_size=128, epochs=10, validation_data=(X_val, y_val) , verbose=1)"
   ]
  },
  {
   "cell_type": "code",
   "execution_count": 11,
   "id": "0a41a564",
   "metadata": {},
   "outputs": [
    {
     "name": "stdout",
     "output_type": "stream",
     "text": [
      "313/313 [==============================] - 4s 12ms/step - loss: 0.1092 - accuracy: 0.9661\n",
      "Test score: 0.10918740183115005\n",
      "Test accuracy: 0.9660999774932861\n"
     ]
    }
   ],
   "source": [
    "score_sgd =  sgd_model.evaluate(X_test, y_test)\n",
    "print('Test score:', score_sgd[0])\n",
    "print('Test accuracy:', score_sgd[1])"
   ]
  },
  {
   "cell_type": "code",
   "execution_count": 12,
   "id": "f9d45999",
   "metadata": {},
   "outputs": [
    {
     "name": "stdout",
     "output_type": "stream",
     "text": [
      "Training Accuracy: 0.9477499723434448\n",
      "Validation Accuracy: 0.9652500152587891\n"
     ]
    }
   ],
   "source": [
    "print(\"Training Accuracy:\", sgd_history.history['accuracy'][-1])\n",
    "print(\"Validation Accuracy:\", sgd_history.history['val_accuracy'][-1])"
   ]
  },
  {
   "cell_type": "code",
   "execution_count": 16,
   "id": "d2afa345",
   "metadata": {},
   "outputs": [
    {
     "data": {
      "text/html": [
       "<div>\n",
       "<style scoped>\n",
       "    .dataframe tbody tr th:only-of-type {\n",
       "        vertical-align: middle;\n",
       "    }\n",
       "\n",
       "    .dataframe tbody tr th {\n",
       "        vertical-align: top;\n",
       "    }\n",
       "\n",
       "    .dataframe thead th {\n",
       "        text-align: right;\n",
       "    }\n",
       "</style>\n",
       "<table border=\"1\" class=\"dataframe\">\n",
       "  <thead>\n",
       "    <tr style=\"text-align: right;\">\n",
       "      <th></th>\n",
       "      <th>loss</th>\n",
       "      <th>accuracy</th>\n",
       "      <th>val_loss</th>\n",
       "      <th>val_accuracy</th>\n",
       "    </tr>\n",
       "  </thead>\n",
       "  <tbody>\n",
       "    <tr>\n",
       "      <th>5</th>\n",
       "      <td>0.231183</td>\n",
       "      <td>0.930208</td>\n",
       "      <td>0.143044</td>\n",
       "      <td>0.957750</td>\n",
       "    </tr>\n",
       "    <tr>\n",
       "      <th>6</th>\n",
       "      <td>0.211913</td>\n",
       "      <td>0.936479</td>\n",
       "      <td>0.134605</td>\n",
       "      <td>0.959000</td>\n",
       "    </tr>\n",
       "    <tr>\n",
       "      <th>7</th>\n",
       "      <td>0.196984</td>\n",
       "      <td>0.941875</td>\n",
       "      <td>0.126298</td>\n",
       "      <td>0.962083</td>\n",
       "    </tr>\n",
       "    <tr>\n",
       "      <th>8</th>\n",
       "      <td>0.179423</td>\n",
       "      <td>0.946667</td>\n",
       "      <td>0.120602</td>\n",
       "      <td>0.963500</td>\n",
       "    </tr>\n",
       "    <tr>\n",
       "      <th>9</th>\n",
       "      <td>0.171265</td>\n",
       "      <td>0.947750</td>\n",
       "      <td>0.117248</td>\n",
       "      <td>0.965250</td>\n",
       "    </tr>\n",
       "  </tbody>\n",
       "</table>\n",
       "</div>"
      ],
      "text/plain": [
       "       loss  accuracy  val_loss  val_accuracy\n",
       "5  0.231183  0.930208  0.143044      0.957750\n",
       "6  0.211913  0.936479  0.134605      0.959000\n",
       "7  0.196984  0.941875  0.126298      0.962083\n",
       "8  0.179423  0.946667  0.120602      0.963500\n",
       "9  0.171265  0.947750  0.117248      0.965250"
      ]
     },
     "execution_count": 16,
     "metadata": {},
     "output_type": "execute_result"
    }
   ],
   "source": [
    "pd.DataFrame(sgd_history.history).tail()"
   ]
  },
  {
   "cell_type": "code",
   "execution_count": null,
   "id": "c52bdf1d",
   "metadata": {},
   "outputs": [],
   "source": []
  },
  {
   "cell_type": "code",
   "execution_count": 36,
   "id": "fcd20a53",
   "metadata": {},
   "outputs": [
    {
     "name": "stdout",
     "output_type": "stream",
     "text": [
      "313/313 [==============================] - 1s 4ms/step\n"
     ]
    },
    {
     "data": {
      "text/plain": [
       "array([[0., 0., 0., ..., 1., 0., 0.],\n",
       "       [0., 0., 1., ..., 0., 0., 0.],\n",
       "       [0., 1., 0., ..., 0., 0., 0.],\n",
       "       ...,\n",
       "       [0., 0., 0., ..., 0., 0., 0.],\n",
       "       [0., 0., 0., ..., 0., 0., 0.],\n",
       "       [0., 0., 0., ..., 0., 0., 0.]], dtype=float32)"
      ]
     },
     "execution_count": 36,
     "metadata": {},
     "output_type": "execute_result"
    }
   ],
   "source": [
    "predicted_classes = sgd_model.predict(X_test)\n",
    "predicted_classes = np_utils.to_categorical(np.argmax(predicted_classes ,axis =-1), nb_classes)\n",
    "predicted_classes"
   ]
  },
  {
   "cell_type": "code",
   "execution_count": 40,
   "id": "e840ee99",
   "metadata": {},
   "outputs": [
    {
     "data": {
      "text/plain": [
       "array([[0., 0., 0., ..., 1., 0., 0.],\n",
       "       [0., 0., 1., ..., 0., 0., 0.],\n",
       "       [0., 1., 0., ..., 0., 0., 0.],\n",
       "       ...,\n",
       "       [0., 0., 0., ..., 0., 0., 0.],\n",
       "       [0., 0., 0., ..., 0., 0., 0.],\n",
       "       [0., 0., 0., ..., 0., 0., 0.]], dtype=float32)"
      ]
     },
     "execution_count": 40,
     "metadata": {},
     "output_type": "execute_result"
    }
   ],
   "source": [
    "y_test"
   ]
  },
  {
   "cell_type": "code",
   "execution_count": 41,
   "id": "3efeda41",
   "metadata": {},
   "outputs": [
    {
     "data": {
      "text/plain": [
       "array([ True,  True,  True,  True,  True,  True,  True,  True,  True,\n",
       "        True])"
      ]
     },
     "execution_count": 41,
     "metadata": {},
     "output_type": "execute_result"
    }
   ],
   "source": [
    "y_test[0] == predicted_classes[0]"
   ]
  },
  {
   "cell_type": "code",
   "execution_count": null,
   "id": "47dd0969",
   "metadata": {},
   "outputs": [],
   "source": []
  },
  {
   "cell_type": "code",
   "execution_count": 45,
   "id": "00a25964",
   "metadata": {},
   "outputs": [],
   "source": [
    "correct_indices = np.nonzero(predicted_classes == y_test)\n",
    "incorrect_indices = np.nonzero(predicted_classes != y_test)"
   ]
  },
  {
   "cell_type": "code",
   "execution_count": 47,
   "id": "160f1a9f",
   "metadata": {},
   "outputs": [
    {
     "data": {
      "image/png": "[encoded data removed]",
      "text/plain": [
       "<Figure size 640x480 with 9 Axes>"
      ]
     },
     "metadata": {},
     "output_type": "display_data"
    },
    {
     "data": {
      "image/png": "[encoded data removed]",
      "text/plain": [
       "<Figure size 640x480 with 9 Axes>"
      ]
     },
     "metadata": {},
     "output_type": "display_data"
    }
   ],
   "source": [
    "plt.figure()\n",
    "for i, correct in enumerate(correct_indices[1][:9]):\n",
    "    plt.subplot(3,3,i+1)\n",
    "    plt.imshow(X_test[correct].reshape(28,28), cmap='gray', interpolation='none')\n",
    "    plt.title(\"Predicted {}, Class {}\".format(np.argmax(predicted_classes[correct] ,axis =-1), np.argmax(y_test[correct],axis =-1)))\n",
    "\n",
    "plt.tight_layout()\n",
    "\n",
    "plt.figure()\n",
    "for i, incorrect in enumerate(incorrect_indices[0][:9]):\n",
    "    plt.subplot(3,3,i+1)\n",
    "    plt.imshow(X_test[incorrect].reshape(28,28), cmap='gray', interpolation='none')\n",
    "    plt.title(\"Predicted {}, Class {}\".format(np.argmax(predicted_classes[incorrect] ,axis =-1), np.argmax(y_test[incorrect],axis =-1)))\n",
    "\n",
    "plt.tight_layout()"
   ]
  },
  {
   "cell_type": "code",
   "execution_count": 49,
   "id": "a11d8539",
   "metadata": {},
   "outputs": [
    {
     "name": "stdout",
     "output_type": "stream",
     "text": [
      "SGD Accuracy: 0.9661\n"
     ]
    }
   ],
   "source": [
    "sgd_accuracy = accuracy_score(y_test, predicted_classes)\n",
    "print(\"SGD Accuracy:\", sgd_accuracy)"
   ]
  },
  {
   "cell_type": "markdown",
   "id": "f585a0dd",
   "metadata": {},
   "source": [
    "<!--  -->"
   ]
  },
  {
   "cell_type": "markdown",
   "id": "305b6b13",
   "metadata": {},
   "source": [
    "<!--  -->"
   ]
  },
  {
   "cell_type": "markdown",
   "id": "9931a2a2",
   "metadata": {},
   "source": [
    "### Training models with different optimizers "
   ]
  },
  {
   "cell_type": "code",
   "execution_count": 96,
   "id": "8988f229",
   "metadata": {},
   "outputs": [
    {
     "name": "stdout",
     "output_type": "stream",
     "text": [
      "\n",
      "For optmizer: SGD\n",
      "\n",
      "Epoch 1/10\n",
      "375/375 [==============================] - 5s 11ms/step - loss: 0.9597 - accuracy: 0.6987 - val_loss: 0.3703 - val_accuracy: 0.9015\n",
      "Epoch 2/10\n",
      "375/375 [==============================] - 4s 10ms/step - loss: 0.4379 - accuracy: 0.8676 - val_loss: 0.2329 - val_accuracy: 0.9295\n",
      "Epoch 3/10\n",
      "375/375 [==============================] - 4s 11ms/step - loss: 0.3440 - accuracy: 0.8981 - val_loss: 0.1950 - val_accuracy: 0.9407\n",
      "Epoch 4/10\n",
      "375/375 [==============================] - 4s 11ms/step - loss: 0.2899 - accuracy: 0.9128 - val_loss: 0.1713 - val_accuracy: 0.9473\n",
      "Epoch 5/10\n",
      "375/375 [==============================] - 4s 11ms/step - loss: 0.2582 - accuracy: 0.9217 - val_loss: 0.1542 - val_accuracy: 0.9537\n",
      "Epoch 6/10\n",
      "375/375 [==============================] - 4s 10ms/step - loss: 0.2328 - accuracy: 0.9309 - val_loss: 0.1437 - val_accuracy: 0.9559\n",
      "Epoch 7/10\n",
      "375/375 [==============================] - 4s 10ms/step - loss: 0.2095 - accuracy: 0.9363 - val_loss: 0.1335 - val_accuracy: 0.9597\n",
      "Epoch 8/10\n",
      "375/375 [==============================] - 5s 13ms/step - loss: 0.1943 - accuracy: 0.9414 - val_loss: 0.1264 - val_accuracy: 0.9613\n",
      "Epoch 9/10\n",
      "375/375 [==============================] - 5s 13ms/step - loss: 0.1828 - accuracy: 0.9453 - val_loss: 0.1200 - val_accuracy: 0.9640\n",
      "Epoch 10/10\n",
      "375/375 [==============================] - 6s 16ms/step - loss: 0.1692 - accuracy: 0.9485 - val_loss: 0.1151 - val_accuracy: 0.9651\n",
      "313/313 [==============================] - 4s 14ms/step - loss: 0.1064 - accuracy: 0.9667\n",
      "\n",
      "Training Accuracy: 0.9485416412353516\n",
      "Validation Accuracy: 0.9650833606719971\n",
      "--------------------------------------------------\n",
      "\n",
      "Test score: 0.10639897733926773\n",
      "Test accuracy: 0.96670001745224\n",
      "----------------------------------------------------------------------------------------------------\n",
      "----------------------------------------------------------------------------------------------------\n",
      "\n",
      "For optmizer: ADAM\n",
      "\n",
      "Epoch 1/10\n",
      "375/375 [==============================] - 9s 20ms/step - loss: 0.3309 - accuracy: 0.8992 - val_loss: 0.1279 - val_accuracy: 0.9598\n",
      "Epoch 2/10\n",
      "375/375 [==============================] - 7s 18ms/step - loss: 0.1435 - accuracy: 0.9567 - val_loss: 0.0969 - val_accuracy: 0.9703\n",
      "Epoch 3/10\n",
      "375/375 [==============================] - 5s 14ms/step - loss: 0.1145 - accuracy: 0.9652 - val_loss: 0.0899 - val_accuracy: 0.9718\n",
      "Epoch 4/10\n",
      "375/375 [==============================] - 5s 14ms/step - loss: 0.0898 - accuracy: 0.9726 - val_loss: 0.0834 - val_accuracy: 0.9769\n",
      "Epoch 5/10\n",
      "375/375 [==============================] - 5s 15ms/step - loss: 0.0815 - accuracy: 0.9749 - val_loss: 0.0784 - val_accuracy: 0.9770\n",
      "Epoch 6/10\n",
      "375/375 [==============================] - 6s 15ms/step - loss: 0.0723 - accuracy: 0.9778 - val_loss: 0.0790 - val_accuracy: 0.9777\n",
      "Epoch 7/10\n",
      "375/375 [==============================] - 5s 15ms/step - loss: 0.0624 - accuracy: 0.9801 - val_loss: 0.0848 - val_accuracy: 0.9771\n",
      "Epoch 8/10\n",
      "375/375 [==============================] - 6s 15ms/step - loss: 0.0612 - accuracy: 0.9806 - val_loss: 0.0838 - val_accuracy: 0.9777\n",
      "Epoch 9/10\n",
      "375/375 [==============================] - 5s 14ms/step - loss: 0.0520 - accuracy: 0.9834 - val_loss: 0.0763 - val_accuracy: 0.9787\n",
      "Epoch 10/10\n",
      "375/375 [==============================] - 5s 14ms/step - loss: 0.0500 - accuracy: 0.9844 - val_loss: 0.0753 - val_accuracy: 0.9797\n",
      "313/313 [==============================] - 5s 16ms/step - loss: 0.0690 - accuracy: 0.9811\n",
      "\n",
      "Training Accuracy: 0.984375\n",
      "Validation Accuracy: 0.9797499775886536\n",
      "--------------------------------------------------\n",
      "\n",
      "Test score: 0.06897596269845963\n",
      "Test accuracy: 0.9811000227928162\n",
      "----------------------------------------------------------------------------------------------------\n",
      "----------------------------------------------------------------------------------------------------\n",
      "\n",
      "For optmizer: RMS\n",
      "\n",
      "Epoch 1/10\n",
      "375/375 [==============================] - 8s 16ms/step - loss: 0.3022 - accuracy: 0.9081 - val_loss: 0.1356 - val_accuracy: 0.9597\n",
      "Epoch 2/10\n",
      "375/375 [==============================] - 6s 17ms/step - loss: 0.1344 - accuracy: 0.9601 - val_loss: 0.1041 - val_accuracy: 0.9712\n",
      "Epoch 3/10\n",
      "375/375 [==============================] - 6s 16ms/step - loss: 0.1015 - accuracy: 0.9695 - val_loss: 0.0875 - val_accuracy: 0.9751\n",
      "Epoch 4/10\n",
      "375/375 [==============================] - 6s 17ms/step - loss: 0.0825 - accuracy: 0.9756 - val_loss: 0.0884 - val_accuracy: 0.9737\n",
      "Epoch 5/10\n",
      "375/375 [==============================] - 7s 17ms/step - loss: 0.0698 - accuracy: 0.9797 - val_loss: 0.0818 - val_accuracy: 0.9782\n",
      "Epoch 6/10\n",
      "375/375 [==============================] - 6s 17ms/step - loss: 0.0639 - accuracy: 0.9808 - val_loss: 0.0751 - val_accuracy: 0.9790\n",
      "Epoch 7/10\n",
      "375/375 [==============================] - 7s 17ms/step - loss: 0.0530 - accuracy: 0.9843 - val_loss: 0.0720 - val_accuracy: 0.9809\n",
      "Epoch 8/10\n",
      "375/375 [==============================] - 9s 23ms/step - loss: 0.0483 - accuracy: 0.9849 - val_loss: 0.0846 - val_accuracy: 0.9787\n",
      "Epoch 9/10\n",
      "375/375 [==============================] - 11s 29ms/step - loss: 0.0436 - accuracy: 0.9861 - val_loss: 0.0825 - val_accuracy: 0.9787\n",
      "Epoch 10/10\n",
      "375/375 [==============================] - 9s 24ms/step - loss: 0.0409 - accuracy: 0.9875 - val_loss: 0.0815 - val_accuracy: 0.9817\n",
      "313/313 [==============================] - 5s 15ms/step - loss: 0.0701 - accuracy: 0.9819\n",
      "\n",
      "Training Accuracy: 0.9875208139419556\n",
      "Validation Accuracy: 0.9816666841506958\n",
      "--------------------------------------------------\n",
      "\n",
      "Test score: 0.07008101791143417\n",
      "Test accuracy: 0.9818999767303467\n",
      "----------------------------------------------------------------------------------------------------\n",
      "----------------------------------------------------------------------------------------------------\n"
     ]
    }
   ],
   "source": [
    "optimizers = {   \"SGD\"   : SGD(learning_rate=0.01)     ,  \n",
    "                 \"ADAM\" :   Adam(learning_rate=0.001)   , \n",
    "                 \"RMS\" :    RMSprop(learning_rate=0.001) ,\n",
    "             }\n",
    "\n",
    "for name , optimizer in optimizers.items():\n",
    "    print(f\"\\nFor optmizer: {name }\\n\")\n",
    "\n",
    "    model = create_model()\n",
    "    model.compile(optimizer=optimizer,\n",
    "                  loss='categorical_crossentropy',\n",
    "                  metrics=['accuracy'])\n",
    "\n",
    "    history = model.fit(X_train, y_train, batch_size=128, epochs=10, validation_data=(X_val, y_val) , verbose=1) \n",
    "    \n",
    "    score = model.evaluate(X_test, y_test)\n",
    "    \n",
    "    optimizers[name] = { \"model\" : model ,  \"history\" : history , \"score\" : score }\n",
    "\n",
    "    print(\"\\nTraining Accuracy:\", history.history['accuracy'][-1])\n",
    "    print(\"Validation Accuracy:\", history.history['val_accuracy'][-1])\n",
    "    print(\"-\" * 50)\n",
    "    print('\\nTest score:', score[0])\n",
    "    print('Test accuracy:', score[1])\n",
    "    print(\"-\" * 100)\n",
    "    print(\"-\" * 100)  "
   ]
  },
  {
   "cell_type": "code",
   "execution_count": 97,
   "id": "b9edbc55",
   "metadata": {},
   "outputs": [
    {
     "data": {
      "text/plain": [
       "{'SGD': {'model': <keras.engine.sequential.Sequential at 0x1651464fd60>,\n",
       "  'history': <keras.callbacks.History at 0x1651413fc70>,\n",
       "  'score': [0.10639897733926773, 0.96670001745224]},\n",
       " 'ADAM': {'model': <keras.engine.sequential.Sequential at 0x1651464e110>,\n",
       "  'history': <keras.callbacks.History at 0x165160d2ec0>,\n",
       "  'score': [0.06897596269845963, 0.9811000227928162]},\n",
       " 'RMS': {'model': <keras.engine.sequential.Sequential at 0x1652267ae60>,\n",
       "  'history': <keras.callbacks.History at 0x165226de6e0>,\n",
       "  'score': [0.07008101791143417, 0.9818999767303467]}}"
      ]
     },
     "execution_count": 97,
     "metadata": {},
     "output_type": "execute_result"
    }
   ],
   "source": [
    "optimizers"
   ]
  },
  {
   "cell_type": "code",
   "execution_count": 61,
   "id": "da58f58a",
   "metadata": {},
   "outputs": [
    {
     "name": "stdout",
     "output_type": "stream",
     "text": [
      "\n",
      "For optmizer: SGD\n",
      "------------------------------\n",
      "\n",
      "Training Accuracy: 0.9530333280563354\n",
      "Validation Accuracy: 0.9779999852180481\n",
      "\n",
      "Test score: 0.0973103791475296\n",
      "Test accuracy: 0.9707000255584717\n",
      "----------------------------------------------------------------------------------------------------\n",
      "----------------------------------------------------------------------------------------------------\n",
      "\n",
      "For optmizer: ADAM\n",
      "------------------------------\n",
      "\n",
      "Training Accuracy: 0.984666645526886\n",
      "Validation Accuracy: 0.9944166541099548\n",
      "\n",
      "Test score: 0.07136280834674835\n",
      "Test accuracy: 0.9807999730110168\n",
      "----------------------------------------------------------------------------------------------------\n",
      "----------------------------------------------------------------------------------------------------\n",
      "\n",
      "For optmizer: RMS\n",
      "------------------------------\n",
      "\n",
      "Training Accuracy: 0.9877333045005798\n",
      "Validation Accuracy: 0.996749997138977\n",
      "\n",
      "Test score: 0.06314020603895187\n",
      "Test accuracy: 0.9825000166893005\n",
      "----------------------------------------------------------------------------------------------------\n",
      "----------------------------------------------------------------------------------------------------\n"
     ]
    }
   ],
   "source": [
    "\n",
    "for key , value in optimizers.items():\n",
    "    print(f\"\\nFor optmizer: {key}\")\n",
    "    print(\"-\" * 30)\n",
    "\n",
    "\n",
    "    print(\"\\nTraining Accuracy:\", value['history'].history['accuracy'][-1])\n",
    "    print(\"Validation Accuracy:\", value['history'].history['val_accuracy'][-1])\n",
    "    print('\\nTest score:', value['score'][0])\n",
    "    print('Test accuracy:', value['score'][1])\n",
    "\n",
    "    \n",
    "    print(\"-\" * 100)\n",
    "    print(\"-\" * 100)"
   ]
  },
  {
   "cell_type": "markdown",
   "id": "666d96ab",
   "metadata": {},
   "source": [
    "<!--  -->"
   ]
  },
  {
   "cell_type": "markdown",
   "id": "03491e95",
   "metadata": {},
   "source": [
    "<!--  -->"
   ]
  },
  {
   "cell_type": "markdown",
   "id": "f1d5bba5",
   "metadata": {},
   "source": [
    "### Based on the training histories and the final evaluation metrics for each optimizer (SGD, Adam, and RMSprop), analyzing their impact on model convergence and performance:\n",
    "\n",
    "1. **SGD Optimizer:**\n",
    "   - Training Accuracy: 0.9530\n",
    "   - Validation Accuracy: 0.9780\n",
    "   - Test Accuracy: 0.9707\n",
    "\n",
    "2. **Adam Optimizer:**\n",
    "   - Training Accuracy: 0.9847\n",
    "   - Validation Accuracy: 0.9944\n",
    "   - Test Accuracy: 0.9808\n",
    "\n",
    "3. **RMSprop Optimizer:**\n",
    "   - Training Accuracy: 0.9877\n",
    "   - Validation Accuracy: 0.9967\n",
    "   - Test Accuracy: 0.9825"
   ]
  },
  {
   "cell_type": "code",
   "execution_count": 93,
   "id": "623a85dc",
   "metadata": {},
   "outputs": [
    {
     "data": {
      "image/png": "[encoded data removed]",
      "text/plain": [
       "<Figure size 800x500 with 1 Axes>"
      ]
     },
     "metadata": {},
     "output_type": "display_data"
    }
   ],
   "source": [
    "import matplotlib.pyplot as plt\n",
    "\n",
    "optimizer = ['SGD', 'Adam', 'RMSprop']\n",
    "training_accuracy = [0.9530, 0.9847, 0.9877]\n",
    "testing_accuracy = [0.9707, 0.9808, 0.9825]\n",
    "\n",
    "plt.figure(figsize=(8, 5))\n",
    "\n",
    "# Plot training accuracy in blue\n",
    "plt.bar(optimizer, training_accuracy, color='blue', label='Training Accuracy')\n",
    "\n",
    "# Plot testing accuracy in red\n",
    "plt.bar(optimizer, testing_accuracy, color='red', label='Testing Accuracy', alpha=0.5)\n",
    "\n",
    "# Add labels and title\n",
    "plt.xlabel('Optimizer')\n",
    "plt.ylabel('Accuracy')\n",
    "plt.title('Training and Testing Accuracy Comparison for Different Optimizers')\n",
    "\n",
    "# Add legend\n",
    "plt.legend()\n",
    "\n",
    "# Display accuracy values on top of bars\n",
    "for i, value in enumerate(training_accuracy):\n",
    "    plt.text(i, value + 0.005, f'{value:.4f}', ha='center', va='bottom', fontsize=10)\n",
    "\n",
    "for i, value in enumerate(testing_accuracy):\n",
    "    plt.text(i, value + 0.005, f'{value:.4f}', ha='center', va='bottom', fontsize=10, color='red')\n",
    "\n",
    "plt.ylim(0.9, 1.0)  # Adjust the y-axis range if needed\n",
    "plt.show()"
   ]
  },
  {
   "cell_type": "markdown",
   "id": "e19c64f5",
   "metadata": {},
   "source": [
    "**Model Convergence:**\n",
    "- All three optimizers (SGD, Adam, and RMSprop) achieved relatively good convergence. The training and validation accuracies consistently improved over the epochs for all three cases.\n",
    "- Adam and RMSprop seem to converge faster compared to SGD. This can be observed from the quicker increase in accuracy during the initial epochs.\n",
    "\n",
    "**Model Performance:**\n",
    "- The model trained with RMSprop achieved the highest validation accuracy of 0.9967, followed closely by the model trained with Adam (0.9944), and then SGD (0.9780).\n",
    "- The test accuracy of the models also follows a similar pattern, with RMSprop having a slightly higher accuracy, followed by Adam, and then SGD.\n",
    "\n",
    "**Conclusion:**\n",
    "- All three optimizers achieved good results on this classification task.\n",
    "- Adam and RMSprop generally converged faster and achieved higher validation and test accuracies compared to SGD.\n",
    "- RMSprop had the highest validation accuracy and performed slightly better than the other two optimizers on the test set.\n",
    "\n",
    "Keep in mind that the optimal choice of optimizer can depend on the specific problem, architecture of the neural network, and available computational resources. In this case, both Adam and RMSprop outperformed SGD in terms of convergence speed and accuracy."
   ]
  },
  {
   "cell_type": "code",
   "execution_count": null,
   "id": "a6b43853",
   "metadata": {},
   "outputs": [],
   "source": []
  },
  {
   "cell_type": "code",
   "execution_count": 62,
   "id": "cea88aa5",
   "metadata": {},
   "outputs": [
    {
     "name": "stdout",
     "output_type": "stream",
     "text": [
      "\n",
      "For optmizer: SGD\n",
      "------------------------------\n",
      "       loss  accuracy  val_loss  val_accuracy\n",
      "5  0.211354  0.936467  0.104504      0.968167\n",
      "6  0.191210  0.943450  0.094612      0.970583\n",
      "7  0.181264  0.946100  0.084823      0.974167\n",
      "8  0.165968  0.950267  0.077926      0.976583\n",
      "9  0.155235  0.953033  0.072191      0.978000\n",
      "----------------------------------------------------------------------------------------------------\n",
      "----------------------------------------------------------------------------------------------------\n",
      "\n",
      "For optmizer: ADAM\n",
      "------------------------------\n",
      "       loss  accuracy  val_loss  val_accuracy\n",
      "5  0.066029  0.980217  0.027727      0.991333\n",
      "6  0.062221  0.980933  0.025562      0.992667\n",
      "7  0.056771  0.982783  0.022972      0.992833\n",
      "8  0.050508  0.984050  0.015260      0.994833\n",
      "9  0.048542  0.984667  0.018430      0.994417\n",
      "----------------------------------------------------------------------------------------------------\n",
      "----------------------------------------------------------------------------------------------------\n",
      "\n",
      "For optmizer: RMS\n",
      "------------------------------\n",
      "       loss  accuracy  val_loss  val_accuracy\n",
      "5  0.057609  0.983117  0.020537      0.993667\n",
      "6  0.052217  0.984267  0.016237      0.994917\n",
      "7  0.046109  0.986183  0.017166      0.994500\n",
      "8  0.042223  0.986983  0.016020      0.994750\n",
      "9  0.040317  0.987733  0.012100      0.996750\n",
      "----------------------------------------------------------------------------------------------------\n",
      "----------------------------------------------------------------------------------------------------\n"
     ]
    }
   ],
   "source": [
    "\n",
    "for key , value in optimizers.items():\n",
    "    print(f\"\\nFor optmizer: {key}\")\n",
    "    print(\"-\" * 30)\n",
    "  \n",
    "    print(pd.DataFrame(value['history'].history).tail())\n",
    "    \n",
    "    print(\"-\" * 100)\n",
    "    print(\"-\" * 100)"
   ]
  },
  {
   "cell_type": "code",
   "execution_count": 64,
   "id": "5efc5d64",
   "metadata": {},
   "outputs": [],
   "source": [
    "import matplotlib.pyplot as plt\n",
    "def  plot(optimizer):\n",
    "        # Plot training loss and validation loss\n",
    "        plt.plot(optimizers[optimizer]['history'].history['loss'], label='Training Loss')\n",
    "        plt.plot(optimizers[optimizer]['history'].history['val_loss'], label='Validation Loss')\n",
    "        plt.xlabel('Epoch')\n",
    "        plt.ylabel('Loss')\n",
    "        plt.title('Training and Validation Loss' + f\" For optmizer: {optimizer}\")\n",
    "        plt.legend()\n",
    "        plt.show()\n",
    "\n",
    "        # Plot training accuracy and validation accuracy\n",
    "        plt.plot(optimizers[optimizer]['history'].history['accuracy'], label='Training Accuracy')\n",
    "        plt.plot(optimizers[optimizer]['history'].history['val_accuracy'], label='Validation Accuracy')\n",
    "        plt.xlabel('Epoch')\n",
    "        plt.ylabel('Accuracy')\n",
    "        plt.title('Training and Validation Accuracy' + f\" For optmizer: {optimizer}\")\n",
    "        plt.legend()\n",
    "        plt.show()"
   ]
  },
  {
   "cell_type": "code",
   "execution_count": 65,
   "id": "39647674",
   "metadata": {},
   "outputs": [
    {
     "data": {
      "image/png": "[encoded data removed]",
      "text/plain": [
       "<Figure size 640x480 with 1 Axes>"
      ]
     },
     "metadata": {},
     "output_type": "display_data"
    },
    {
     "data": {
      "image/png": "[encoded data removed]",
      "text/plain": [
       "<Figure size 640x480 with 1 Axes>"
      ]
     },
     "metadata": {},
     "output_type": "display_data"
    }
   ],
   "source": [
    "plot(optimizer = \"SGD\")"
   ]
  },
  {
   "cell_type": "code",
   "execution_count": 66,
   "id": "444eaa21",
   "metadata": {},
   "outputs": [
    {
     "data": {
      "image/png": "[encoded data removed]",
      "text/plain": [
       "<Figure size 640x480 with 1 Axes>"
      ]
     },
     "metadata": {},
     "output_type": "display_data"
    },
    {
     "data": {
      "image/png": "[encoded data removed]",
      "text/plain": [
       "<Figure size 640x480 with 1 Axes>"
      ]
     },
     "metadata": {},
     "output_type": "display_data"
    }
   ],
   "source": [
    "plot(optimizer = \"ADAM\")"
   ]
  },
  {
   "cell_type": "code",
   "execution_count": 67,
   "id": "a48066ed",
   "metadata": {},
   "outputs": [
    {
     "data": {
      "image/png": "[encoded data removed]",
      "text/plain": [
       "<Figure size 640x480 with 1 Axes>"
      ]
     },
     "metadata": {},
     "output_type": "display_data"
    },
    {
     "data": {
      "image/png": "[encoded data removed]",
      "text/plain": [
       "<Figure size 640x480 with 1 Axes>"
      ]
     },
     "metadata": {},
     "output_type": "display_data"
    }
   ],
   "source": [
    "plot(optimizer = \"RMS\")"
   ]
  },
  {
   "cell_type": "code",
   "execution_count": null,
   "id": "9524b07e",
   "metadata": {},
   "outputs": [],
   "source": []
  },
  {
   "cell_type": "code",
   "execution_count": 88,
   "id": "7309db17",
   "metadata": {},
   "outputs": [],
   "source": [
    "import matplotlib.pyplot as plt\n",
    "def  plot_togehther():\n",
    "        ls =  ['loss' , 'val_loss' ,'accuracy' ,'val_accuracy'] \n",
    "        print(ls)\n",
    "        print(\"choose the metrices : \")\n",
    "        k = int(input())\n",
    "        col = ls[k]\n",
    "        \n",
    "        plt.plot(optimizers[\"SGD\"]['history'].history[col], label='SGD' )\n",
    "        plt.plot(optimizers[\"ADAM\"]['history'].history[col], label='ADAM')\n",
    "        plt.plot(optimizers[\"RMS\"]['history'].history[col], label='RMSprop')\n",
    "        plt.xlabel('Epoch')\n",
    "        plt.ylabel(col)\n",
    "        plt.title(f\"Comparison of Optimizers   SGD , ADAM , and RMS based on : {col} \")\n",
    "        plt.legend()\n",
    "        plt.show()"
   ]
  },
  {
   "cell_type": "code",
   "execution_count": 87,
   "id": "a7b57aa4",
   "metadata": {},
   "outputs": [
    {
     "name": "stdout",
     "output_type": "stream",
     "text": [
      "['loss', 'val_loss', 'accuracy', 'val_accuracy']\n",
      "choose the metrices : \n",
      "0\n"
     ]
    },
    {
     "data": {
      "image/png": "[encoded data removed]",
      "text/plain": [
       "<Figure size 640x480 with 1 Axes>"
      ]
     },
     "metadata": {},
     "output_type": "display_data"
    }
   ],
   "source": [
    "plot_togehther()"
   ]
  },
  {
   "cell_type": "code",
   "execution_count": 89,
   "id": "4970cca3",
   "metadata": {},
   "outputs": [
    {
     "name": "stdout",
     "output_type": "stream",
     "text": [
      "['loss', 'val_loss', 'accuracy', 'val_accuracy']\n",
      "choose the metrices : \n",
      "1\n"
     ]
    },
    {
     "data": {
      "image/png": "[encoded data removed]",
      "text/plain": [
       "<Figure size 640x480 with 1 Axes>"
      ]
     },
     "metadata": {},
     "output_type": "display_data"
    }
   ],
   "source": [
    "plot_togehther()"
   ]
  },
  {
   "cell_type": "code",
   "execution_count": 90,
   "id": "c2ad4ef5",
   "metadata": {},
   "outputs": [
    {
     "name": "stdout",
     "output_type": "stream",
     "text": [
      "['loss', 'val_loss', 'accuracy', 'val_accuracy']\n",
      "choose the metrices : \n",
      "2\n"
     ]
    },
    {
     "data": {
      "image/png": "[encoded data removed]",
      "text/plain": [
       "<Figure size 640x480 with 1 Axes>"
      ]
     },
     "metadata": {},
     "output_type": "display_data"
    }
   ],
   "source": [
    "plot_togehther()"
   ]
  },
  {
   "cell_type": "code",
   "execution_count": 91,
   "id": "7c0e92c5",
   "metadata": {},
   "outputs": [
    {
     "name": "stdout",
     "output_type": "stream",
     "text": [
      "['loss', 'val_loss', 'accuracy', 'val_accuracy']\n",
      "choose the metrices : \n",
      "3\n"
     ]
    },
    {
     "data": {
      "image/png": "[encoded data removed]",
      "text/plain": [
       "<Figure size 640x480 with 1 Axes>"
      ]
     },
     "metadata": {},
     "output_type": "display_data"
    }
   ],
   "source": [
    "plot_togehther()"
   ]
  },
  {
   "cell_type": "code",
   "execution_count": 69,
   "id": "e69e7197",
   "metadata": {},
   "outputs": [
    {
     "data": {
      "image/png": "[encoded data removed]",
      "text/plain": [
       "<Figure size 800x500 with 1 Axes>"
      ]
     },
     "metadata": {},
     "output_type": "display_data"
    }
   ],
   "source": [
    "import matplotlib.pyplot as plt\n",
    "\n",
    "optimizer = ['SGD', 'Adam', 'RMSprop']\n",
    "training_accuracy = [0.9530, 0.9847, 0.9877]\n",
    "\n",
    "plt.figure(figsize=(8, 5))\n",
    "plt.bar(optimizer, training_accuracy, color=['blue', 'orange', 'green'])\n",
    "plt.xlabel('Optimizer')\n",
    "plt.ylabel('Training Accuracy')\n",
    "plt.title('Training Accuracy Comparison for Different Optimizers')\n",
    "plt.ylim(0.90, 1.0)  # Adjust the y-axis range if needed\n",
    "plt.show()\n"
   ]
  },
  {
   "cell_type": "code",
   "execution_count": null,
   "id": "6fbf1b07",
   "metadata": {},
   "outputs": [],
   "source": []
  },
  {
   "cell_type": "code",
   "execution_count": null,
   "id": "abac8682",
   "metadata": {},
   "outputs": [],
   "source": []
  },
  {
   "cell_type": "code",
   "execution_count": 95,
   "id": "a10b5d6a",
   "metadata": {},
   "outputs": [
    {
     "data": {
      "application/vnd.plotly.v1+json": {
       "config": {
        "plotlyServerURL": "https://plot.ly"
       },
       "data": [
        {
         "name": "Training Accuracy",
         "type": "bar",
         "x": [
          "SGD",
          "Adam",
          "RMSprop"
         ],
         "y": [
          0.953,
          0.9847,
          0.9877
         ]
        },
        {
         "mode": "markers+text",
         "text": [
          "0.953",
          "0.9847",
          "0.9877"
         ],
         "textposition": "top center",
         "type": "scatter",
         "x": [
          "SGD",
          "Adam",
          "RMSprop"
         ],
         "y": [
          0.953,
          0.9847,
          0.9877
         ]
        }
       ],
       "layout": {
        "template": {
         "data": {
          "bar": [
           {
            "error_x": {
             "color": "#2a3f5f"
            },
            "error_y": {
             "color": "#2a3f5f"
            },
            "marker": {
             "line": {
              "color": "#E5ECF6",
              "width": 0.5
             },
             "pattern": {
              "fillmode": "overlay",
              "size": 10,
              "solidity": 0.2
             }
            },
            "type": "bar"
           }
          ],
          "barpolar": [
           {
            "marker": {
             "line": {
              "color": "#E5ECF6",
              "width": 0.5
             },
             "pattern": {
              "fillmode": "overlay",
              "size": 10,
              "solidity": 0.2
             }
            },
            "type": "barpolar"
           }
          ],
          "carpet": [
           {
            "aaxis": {
             "endlinecolor": "#2a3f5f",
             "gridcolor": "white",
             "linecolor": "white",
             "minorgridcolor": "white",
             "startlinecolor": "#2a3f5f"
            },
            "baxis": {
             "endlinecolor": "#2a3f5f",
             "gridcolor": "white",
             "linecolor": "white",
             "minorgridcolor": "white",
             "startlinecolor": "#2a3f5f"
            },
            "type": "carpet"
           }
          ],
          "choropleth": [
           {
            "colorbar": {
             "outlinewidth": 0,
             "ticks": ""
            },
            "type": "choropleth"
           }
          ],
          "contour": [
           {
            "colorbar": {
             "outlinewidth": 0,
             "ticks": ""
            },
            "colorscale": [
             [
              0,
              "#0d0887"
             ],
             [
              0.1111111111111111,
              "#46039f"
             ],
             [
              0.2222222222222222,
              "#7201a8"
             ],
             [
              0.3333333333333333,
              "#9c179e"
             ],
             [
              0.4444444444444444,
              "#bd3786"
             ],
             [
              0.5555555555555556,
              "#d8576b"
             ],
             [
              0.6666666666666666,
              "#ed7953"
             ],
             [
              0.7777777777777778,
              "#fb9f3a"
             ],
             [
              0.8888888888888888,
              "#fdca26"
             ],
             [
              1,
              "#f0f921"
             ]
            ],
            "type": "contour"
           }
          ],
          "contourcarpet": [
           {
            "colorbar": {
             "outlinewidth": 0,
             "ticks": ""
            },
            "type": "contourcarpet"
           }
          ],
          "heatmap": [
           {
            "colorbar": {
             "outlinewidth": 0,
             "ticks": ""
            },
            "colorscale": [
             [
              0,
              "#0d0887"
             ],
             [
              0.1111111111111111,
              "#46039f"
             ],
             [
              0.2222222222222222,
              "#7201a8"
             ],
             [
              0.3333333333333333,
              "#9c179e"
             ],
             [
              0.4444444444444444,
              "#bd3786"
             ],
             [
              0.5555555555555556,
              "#d8576b"
             ],
             [
              0.6666666666666666,
              "#ed7953"
             ],
             [
              0.7777777777777778,
              "#fb9f3a"
             ],
             [
              0.8888888888888888,
              "#fdca26"
             ],
             [
              1,
              "#f0f921"
             ]
            ],
            "type": "heatmap"
           }
          ],
          "heatmapgl": [
           {
            "colorbar": {
             "outlinewidth": 0,
             "ticks": ""
            },
            "colorscale": [
             [
              0,
              "#0d0887"
             ],
             [
              0.1111111111111111,
              "#46039f"
             ],
             [
              0.2222222222222222,
              "#7201a8"
             ],
             [
              0.3333333333333333,
              "#9c179e"
             ],
             [
              0.4444444444444444,
              "#bd3786"
             ],
             [
              0.5555555555555556,
              "#d8576b"
             ],
             [
              0.6666666666666666,
              "#ed7953"
             ],
             [
              0.7777777777777778,
              "#fb9f3a"
             ],
             [
              0.8888888888888888,
              "#fdca26"
             ],
             [
              1,
              "#f0f921"
             ]
            ],
            "type": "heatmapgl"
           }
          ],
          "histogram": [
           {
            "marker": {
             "pattern": {
              "fillmode": "overlay",
              "size": 10,
              "solidity": 0.2
             }
            },
            "type": "histogram"
           }
          ],
          "histogram2d": [
           {
            "colorbar": {
             "outlinewidth": 0,
             "ticks": ""
            },
            "colorscale": [
             [
              0,
              "#0d0887"
             ],
             [
              0.1111111111111111,
              "#46039f"
             ],
             [
              0.2222222222222222,
              "#7201a8"
             ],
             [
              0.3333333333333333,
              "#9c179e"
             ],
             [
              0.4444444444444444,
              "#bd3786"
             ],
             [
              0.5555555555555556,
              "#d8576b"
             ],
             [
              0.6666666666666666,
              "#ed7953"
             ],
             [
              0.7777777777777778,
              "#fb9f3a"
             ],
             [
              0.8888888888888888,
              "#fdca26"
             ],
             [
              1,
              "#f0f921"
             ]
            ],
            "type": "histogram2d"
           }
          ],
          "histogram2dcontour": [
           {
            "colorbar": {
             "outlinewidth": 0,
             "ticks": ""
            },
            "colorscale": [
             [
              0,
              "#0d0887"
             ],
             [
              0.1111111111111111,
              "#46039f"
             ],
             [
              0.2222222222222222,
              "#7201a8"
             ],
             [
              0.3333333333333333,
              "#9c179e"
             ],
             [
              0.4444444444444444,
              "#bd3786"
             ],
             [
              0.5555555555555556,
              "#d8576b"
             ],
             [
              0.6666666666666666,
              "#ed7953"
             ],
             [
              0.7777777777777778,
              "#fb9f3a"
             ],
             [
              0.8888888888888888,
              "#fdca26"
             ],
             [
              1,
              "#f0f921"
             ]
            ],
            "type": "histogram2dcontour"
           }
          ],
          "mesh3d": [
           {
            "colorbar": {
             "outlinewidth": 0,
             "ticks": ""
            },
            "type": "mesh3d"
           }
          ],
          "parcoords": [
           {
            "line": {
             "colorbar": {
              "outlinewidth": 0,
              "ticks": ""
             }
            },
            "type": "parcoords"
           }
          ],
          "pie": [
           {
            "automargin": true,
            "type": "pie"
           }
          ],
          "scatter": [
           {
            "fillpattern": {
             "fillmode": "overlay",
             "size": 10,
             "solidity": 0.2
            },
            "type": "scatter"
           }
          ],
          "scatter3d": [
           {
            "line": {
             "colorbar": {
              "outlinewidth": 0,
              "ticks": ""
             }
            },
            "marker": {
             "colorbar": {
              "outlinewidth": 0,
              "ticks": ""
             }
            },
            "type": "scatter3d"
           }
          ],
          "scattercarpet": [
           {
            "marker": {
             "colorbar": {
              "outlinewidth": 0,
              "ticks": ""
             }
            },
            "type": "scattercarpet"
           }
          ],
          "scattergeo": [
           {
            "marker": {
             "colorbar": {
              "outlinewidth": 0,
              "ticks": ""
             }
            },
            "type": "scattergeo"
           }
          ],
          "scattergl": [
           {
            "marker": {
             "colorbar": {
              "outlinewidth": 0,
              "ticks": ""
             }
            },
            "type": "scattergl"
           }
          ],
          "scattermapbox": [
           {
            "marker": {
             "colorbar": {
              "outlinewidth": 0,
              "ticks": ""
             }
            },
            "type": "scattermapbox"
           }
          ],
          "scatterpolar": [
           {
            "marker": {
             "colorbar": {
              "outlinewidth": 0,
              "ticks": ""
             }
            },
            "type": "scatterpolar"
           }
          ],
          "scatterpolargl": [
           {
            "marker": {
             "colorbar": {
              "outlinewidth": 0,
              "ticks": ""
             }
            },
            "type": "scatterpolargl"
           }
          ],
          "scatterternary": [
           {
            "marker": {
             "colorbar": {
              "outlinewidth": 0,
              "ticks": ""
             }
            },
            "type": "scatterternary"
           }
          ],
          "surface": [
           {
            "colorbar": {
             "outlinewidth": 0,
             "ticks": ""
            },
            "colorscale": [
             [
              0,
              "#0d0887"
             ],
             [
              0.1111111111111111,
              "#46039f"
             ],
             [
              0.2222222222222222,
              "#7201a8"
             ],
             [
              0.3333333333333333,
              "#9c179e"
             ],
             [
              0.4444444444444444,
              "#bd3786"
             ],
             [
              0.5555555555555556,
              "#d8576b"
             ],
             [
              0.6666666666666666,
              "#ed7953"
             ],
             [
              0.7777777777777778,
              "#fb9f3a"
             ],
             [
              0.8888888888888888,
              "#fdca26"
             ],
             [
              1,
              "#f0f921"
             ]
            ],
            "type": "surface"
           }
          ],
          "table": [
           {
            "cells": {
             "fill": {
              "color": "#EBF0F8"
             },
             "line": {
              "color": "white"
             }
            },
            "header": {
             "fill": {
              "color": "#C8D4E3"
             },
             "line": {
              "color": "white"
             }
            },
            "type": "table"
           }
          ]
         },
         "layout": {
          "annotationdefaults": {
           "arrowcolor": "#2a3f5f",
           "arrowhead": 0,
           "arrowwidth": 1
          },
          "autotypenumbers": "strict",
          "coloraxis": {
           "colorbar": {
            "outlinewidth": 0,
            "ticks": ""
           }
          },
          "colorscale": {
           "diverging": [
            [
             0,
             "#8e0152"
            ],
            [
             0.1,
             "#c51b7d"
            ],
            [
             0.2,
             "#de77ae"
            ],
            [
             0.3,
             "#f1b6da"
            ],
            [
             0.4,
             "#fde0ef"
            ],
            [
             0.5,
             "#f7f7f7"
            ],
            [
             0.6,
             "#e6f5d0"
            ],
            [
             0.7,
             "#b8e186"
            ],
            [
             0.8,
             "#7fbc41"
            ],
            [
             0.9,
             "#4d9221"
            ],
            [
             1,
             "#276419"
            ]
           ],
           "sequential": [
            [
             0,
             "#0d0887"
            ],
            [
             0.1111111111111111,
             "#46039f"
            ],
            [
             0.2222222222222222,
             "#7201a8"
            ],
            [
             0.3333333333333333,
             "#9c179e"
            ],
            [
             0.4444444444444444,
             "#bd3786"
            ],
            [
             0.5555555555555556,
             "#d8576b"
            ],
            [
             0.6666666666666666,
             "#ed7953"
            ],
            [
             0.7777777777777778,
             "#fb9f3a"
            ],
            [
             0.8888888888888888,
             "#fdca26"
            ],
            [
             1,
             "#f0f921"
            ]
           ],
           "sequentialminus": [
            [
             0,
             "#0d0887"
            ],
            [
             0.1111111111111111,
             "#46039f"
            ],
            [
             0.2222222222222222,
             "#7201a8"
            ],
            [
             0.3333333333333333,
             "#9c179e"
            ],
            [
             0.4444444444444444,
             "#bd3786"
            ],
            [
             0.5555555555555556,
             "#d8576b"
            ],
            [
             0.6666666666666666,
             "#ed7953"
            ],
            [
             0.7777777777777778,
             "#fb9f3a"
            ],
            [
             0.8888888888888888,
             "#fdca26"
            ],
            [
             1,
             "#f0f921"
            ]
           ]
          },
          "colorway": [
           "#636efa",
           "#EF553B",
           "#00cc96",
           "#ab63fa",
           "#FFA15A",
           "#19d3f3",
           "#FF6692",
           "#B6E880",
           "#FF97FF",
           "#FECB52"
          ],
          "font": {
           "color": "#2a3f5f"
          },
          "geo": {
           "bgcolor": "white",
           "lakecolor": "white",
           "landcolor": "#E5ECF6",
           "showlakes": true,
           "showland": true,
           "subunitcolor": "white"
          },
          "hoverlabel": {
           "align": "left"
          },
          "hovermode": "closest",
          "mapbox": {
           "style": "light"
          },
          "paper_bgcolor": "white",
          "plot_bgcolor": "#E5ECF6",
          "polar": {
           "angularaxis": {
            "gridcolor": "white",
            "linecolor": "white",
            "ticks": ""
           },
           "bgcolor": "#E5ECF6",
           "radialaxis": {
            "gridcolor": "white",
            "linecolor": "white",
            "ticks": ""
           }
          },
          "scene": {
           "xaxis": {
            "backgroundcolor": "#E5ECF6",
            "gridcolor": "white",
            "gridwidth": 2,
            "linecolor": "white",
            "showbackground": true,
            "ticks": "",
            "zerolinecolor": "white"
           },
           "yaxis": {
            "backgroundcolor": "#E5ECF6",
            "gridcolor": "white",
            "gridwidth": 2,
            "linecolor": "white",
            "showbackground": true,
            "ticks": "",
            "zerolinecolor": "white"
           },
           "zaxis": {
            "backgroundcolor": "#E5ECF6",
            "gridcolor": "white",
            "gridwidth": 2,
            "linecolor": "white",
            "showbackground": true,
            "ticks": "",
            "zerolinecolor": "white"
           }
          },
          "shapedefaults": {
           "line": {
            "color": "#2a3f5f"
           }
          },
          "ternary": {
           "aaxis": {
            "gridcolor": "white",
            "linecolor": "white",
            "ticks": ""
           },
           "baxis": {
            "gridcolor": "white",
            "linecolor": "white",
            "ticks": ""
           },
           "bgcolor": "#E5ECF6",
           "caxis": {
            "gridcolor": "white",
            "linecolor": "white",
            "ticks": ""
           }
          },
          "title": {
           "x": 0.05
          },
          "xaxis": {
           "automargin": true,
           "gridcolor": "white",
           "linecolor": "white",
           "ticks": "",
           "title": {
            "standoff": 15
           },
           "zerolinecolor": "white",
           "zerolinewidth": 2
          },
          "yaxis": {
           "automargin": true,
           "gridcolor": "white",
           "linecolor": "white",
           "ticks": "",
           "title": {
            "standoff": 15
           },
           "zerolinecolor": "white",
           "zerolinewidth": 2
          }
         }
        },
        "title": {
         "text": "Training Accuracy Comparison for Different Optimizers"
        }
       }
      },
      "text/html": [
       "<div>                            <div id=\"6b4daff8-0568-4656-aa79-5df0850d46bd\" class=\"plotly-graph-div\" style=\"height:525px; width:100%;\"></div>            <script type=\"text/javascript\">                require([\"plotly\"], function(Plotly) {                    window.PLOTLYENV=window.PLOTLYENV || {};                                    if (document.getElementById(\"6b4daff8-0568-4656-aa79-5df0850d46bd\")) {                    Plotly.newPlot(                        \"6b4daff8-0568-4656-aa79-5df0850d46bd\",                        [{\"name\":\"Training Accuracy\",\"x\":[\"SGD\",\"Adam\",\"RMSprop\"],\"y\":[0.953,0.9847,0.9877],\"type\":\"bar\"},{\"mode\":\"markers+text\",\"text\":[\"0.953\",\"0.9847\",\"0.9877\"],\"textposition\":\"top center\",\"x\":[\"SGD\",\"Adam\",\"RMSprop\"],\"y\":[0.953,0.9847,0.9877],\"type\":\"scatter\"}],                        {\"template\":{\"data\":{\"histogram2dcontour\":[{\"type\":\"histogram2dcontour\",\"colorbar\":{\"outlinewidth\":0,\"ticks\":\"\"},\"colorscale\":[[0.0,\"#0d0887\"],[0.1111111111111111,\"#46039f\"],[0.2222222222222222,\"#7201a8\"],[0.3333333333333333,\"#9c179e\"],[0.4444444444444444,\"#bd3786\"],[0.5555555555555556,\"#d8576b\"],[0.6666666666666666,\"#ed7953\"],[0.7777777777777778,\"#fb9f3a\"],[0.8888888888888888,\"#fdca26\"],[1.0,\"#f0f921\"]]}],\"choropleth\":[{\"type\":\"choropleth\",\"colorbar\":{\"outlinewidth\":0,\"ticks\":\"\"}}],\"histogram2d\":[{\"type\":\"histogram2d\",\"colorbar\":{\"outlinewidth\":0,\"ticks\":\"\"},\"colorscale\":[[0.0,\"#0d0887\"],[0.1111111111111111,\"#46039f\"],[0.2222222222222222,\"#7201a8\"],[0.3333333333333333,\"#9c179e\"],[0.4444444444444444,\"#bd3786\"],[0.5555555555555556,\"#d8576b\"],[0.6666666666666666,\"#ed7953\"],[0.7777777777777778,\"#fb9f3a\"],[0.8888888888888888,\"#fdca26\"],[1.0,\"#f0f921\"]]}],\"heatmap\":[{\"type\":\"heatmap\",\"colorbar\":{\"outlinewidth\":0,\"ticks\":\"\"},\"colorscale\":[[0.0,\"#0d0887\"],[0.1111111111111111,\"#46039f\"],[0.2222222222222222,\"#7201a8\"],[0.3333333333333333,\"#9c179e\"],[0.4444444444444444,\"#bd3786\"],[0.5555555555555556,\"#d8576b\"],[0.6666666666666666,\"#ed7953\"],[0.7777777777777778,\"#fb9f3a\"],[0.8888888888888888,\"#fdca26\"],[1.0,\"#f0f921\"]]}],\"heatmapgl\":[{\"type\":\"heatmapgl\",\"colorbar\":{\"outlinewidth\":0,\"ticks\":\"\"},\"colorscale\":[[0.0,\"#0d0887\"],[0.1111111111111111,\"#46039f\"],[0.2222222222222222,\"#7201a8\"],[0.3333333333333333,\"#9c179e\"],[0.4444444444444444,\"#bd3786\"],[0.5555555555555556,\"#d8576b\"],[0.6666666666666666,\"#ed7953\"],[0.7777777777777778,\"#fb9f3a\"],[0.8888888888888888,\"#fdca26\"],[1.0,\"#f0f921\"]]}],\"contourcarpet\":[{\"type\":\"contourcarpet\",\"colorbar\":{\"outlinewidth\":0,\"ticks\":\"\"}}],\"contour\":[{\"type\":\"contour\",\"colorbar\":{\"outlinewidth\":0,\"ticks\":\"\"},\"colorscale\":[[0.0,\"#0d0887\"],[0.1111111111111111,\"#46039f\"],[0.2222222222222222,\"#7201a8\"],[0.3333333333333333,\"#9c179e\"],[0.4444444444444444,\"#bd3786\"],[0.5555555555555556,\"#d8576b\"],[0.6666666666666666,\"#ed7953\"],[0.7777777777777778,\"#fb9f3a\"],[0.8888888888888888,\"#fdca26\"],[1.0,\"#f0f921\"]]}],\"surface\":[{\"type\":\"surface\",\"colorbar\":{\"outlinewidth\":0,\"ticks\":\"\"},\"colorscale\":[[0.0,\"#0d0887\"],[0.1111111111111111,\"#46039f\"],[0.2222222222222222,\"#7201a8\"],[0.3333333333333333,\"#9c179e\"],[0.4444444444444444,\"#bd3786\"],[0.5555555555555556,\"#d8576b\"],[0.6666666666666666,\"#ed7953\"],[0.7777777777777778,\"#fb9f3a\"],[0.8888888888888888,\"#fdca26\"],[1.0,\"#f0f921\"]]}],\"mesh3d\":[{\"type\":\"mesh3d\",\"colorbar\":{\"outlinewidth\":0,\"ticks\":\"\"}}],\"scatter\":[{\"fillpattern\":{\"fillmode\":\"overlay\",\"size\":10,\"solidity\":0.2},\"type\":\"scatter\"}],\"parcoords\":[{\"type\":\"parcoords\",\"line\":{\"colorbar\":{\"outlinewidth\":0,\"ticks\":\"\"}}}],\"scatterpolargl\":[{\"type\":\"scatterpolargl\",\"marker\":{\"colorbar\":{\"outlinewidth\":0,\"ticks\":\"\"}}}],\"bar\":[{\"error_x\":{\"color\":\"#2a3f5f\"},\"error_y\":{\"color\":\"#2a3f5f\"},\"marker\":{\"line\":{\"color\":\"#E5ECF6\",\"width\":0.5},\"pattern\":{\"fillmode\":\"overlay\",\"size\":10,\"solidity\":0.2}},\"type\":\"bar\"}],\"scattergeo\":[{\"type\":\"scattergeo\",\"marker\":{\"colorbar\":{\"outlinewidth\":0,\"ticks\":\"\"}}}],\"scatterpolar\":[{\"type\":\"scatterpolar\",\"marker\":{\"colorbar\":{\"outlinewidth\":0,\"ticks\":\"\"}}}],\"histogram\":[{\"marker\":{\"pattern\":{\"fillmode\":\"overlay\",\"size\":10,\"solidity\":0.2}},\"type\":\"histogram\"}],\"scattergl\":[{\"type\":\"scattergl\",\"marker\":{\"colorbar\":{\"outlinewidth\":0,\"ticks\":\"\"}}}],\"scatter3d\":[{\"type\":\"scatter3d\",\"line\":{\"colorbar\":{\"outlinewidth\":0,\"ticks\":\"\"}},\"marker\":{\"colorbar\":{\"outlinewidth\":0,\"ticks\":\"\"}}}],\"scattermapbox\":[{\"type\":\"scattermapbox\",\"marker\":{\"colorbar\":{\"outlinewidth\":0,\"ticks\":\"\"}}}],\"scatterternary\":[{\"type\":\"scatterternary\",\"marker\":{\"colorbar\":{\"outlinewidth\":0,\"ticks\":\"\"}}}],\"scattercarpet\":[{\"type\":\"scattercarpet\",\"marker\":{\"colorbar\":{\"outlinewidth\":0,\"ticks\":\"\"}}}],\"carpet\":[{\"aaxis\":{\"endlinecolor\":\"#2a3f5f\",\"gridcolor\":\"white\",\"linecolor\":\"white\",\"minorgridcolor\":\"white\",\"startlinecolor\":\"#2a3f5f\"},\"baxis\":{\"endlinecolor\":\"#2a3f5f\",\"gridcolor\":\"white\",\"linecolor\":\"white\",\"minorgridcolor\":\"white\",\"startlinecolor\":\"#2a3f5f\"},\"type\":\"carpet\"}],\"table\":[{\"cells\":{\"fill\":{\"color\":\"#EBF0F8\"},\"line\":{\"color\":\"white\"}},\"header\":{\"fill\":{\"color\":\"#C8D4E3\"},\"line\":{\"color\":\"white\"}},\"type\":\"table\"}],\"barpolar\":[{\"marker\":{\"line\":{\"color\":\"#E5ECF6\",\"width\":0.5},\"pattern\":{\"fillmode\":\"overlay\",\"size\":10,\"solidity\":0.2}},\"type\":\"barpolar\"}],\"pie\":[{\"automargin\":true,\"type\":\"pie\"}]},\"layout\":{\"autotypenumbers\":\"strict\",\"colorway\":[\"#636efa\",\"#EF553B\",\"#00cc96\",\"#ab63fa\",\"#FFA15A\",\"#19d3f3\",\"#FF6692\",\"#B6E880\",\"#FF97FF\",\"#FECB52\"],\"font\":{\"color\":\"#2a3f5f\"},\"hovermode\":\"closest\",\"hoverlabel\":{\"align\":\"left\"},\"paper_bgcolor\":\"white\",\"plot_bgcolor\":\"#E5ECF6\",\"polar\":{\"bgcolor\":\"#E5ECF6\",\"angularaxis\":{\"gridcolor\":\"white\",\"linecolor\":\"white\",\"ticks\":\"\"},\"radialaxis\":{\"gridcolor\":\"white\",\"linecolor\":\"white\",\"ticks\":\"\"}},\"ternary\":{\"bgcolor\":\"#E5ECF6\",\"aaxis\":{\"gridcolor\":\"white\",\"linecolor\":\"white\",\"ticks\":\"\"},\"baxis\":{\"gridcolor\":\"white\",\"linecolor\":\"white\",\"ticks\":\"\"},\"caxis\":{\"gridcolor\":\"white\",\"linecolor\":\"white\",\"ticks\":\"\"}},\"coloraxis\":{\"colorbar\":{\"outlinewidth\":0,\"ticks\":\"\"}},\"colorscale\":{\"sequential\":[[0.0,\"#0d0887\"],[0.1111111111111111,\"#46039f\"],[0.2222222222222222,\"#7201a8\"],[0.3333333333333333,\"#9c179e\"],[0.4444444444444444,\"#bd3786\"],[0.5555555555555556,\"#d8576b\"],[0.6666666666666666,\"#ed7953\"],[0.7777777777777778,\"#fb9f3a\"],[0.8888888888888888,\"#fdca26\"],[1.0,\"#f0f921\"]],\"sequentialminus\":[[0.0,\"#0d0887\"],[0.1111111111111111,\"#46039f\"],[0.2222222222222222,\"#7201a8\"],[0.3333333333333333,\"#9c179e\"],[0.4444444444444444,\"#bd3786\"],[0.5555555555555556,\"#d8576b\"],[0.6666666666666666,\"#ed7953\"],[0.7777777777777778,\"#fb9f3a\"],[0.8888888888888888,\"#fdca26\"],[1.0,\"#f0f921\"]],\"diverging\":[[0,\"#8e0152\"],[0.1,\"#c51b7d\"],[0.2,\"#de77ae\"],[0.3,\"#f1b6da\"],[0.4,\"#fde0ef\"],[0.5,\"#f7f7f7\"],[0.6,\"#e6f5d0\"],[0.7,\"#b8e186\"],[0.8,\"#7fbc41\"],[0.9,\"#4d9221\"],[1,\"#276419\"]]},\"xaxis\":{\"gridcolor\":\"white\",\"linecolor\":\"white\",\"ticks\":\"\",\"title\":{\"standoff\":15},\"zerolinecolor\":\"white\",\"automargin\":true,\"zerolinewidth\":2},\"yaxis\":{\"gridcolor\":\"white\",\"linecolor\":\"white\",\"ticks\":\"\",\"title\":{\"standoff\":15},\"zerolinecolor\":\"white\",\"automargin\":true,\"zerolinewidth\":2},\"scene\":{\"xaxis\":{\"backgroundcolor\":\"#E5ECF6\",\"gridcolor\":\"white\",\"linecolor\":\"white\",\"showbackground\":true,\"ticks\":\"\",\"zerolinecolor\":\"white\",\"gridwidth\":2},\"yaxis\":{\"backgroundcolor\":\"#E5ECF6\",\"gridcolor\":\"white\",\"linecolor\":\"white\",\"showbackground\":true,\"ticks\":\"\",\"zerolinecolor\":\"white\",\"gridwidth\":2},\"zaxis\":{\"backgroundcolor\":\"#E5ECF6\",\"gridcolor\":\"white\",\"linecolor\":\"white\",\"showbackground\":true,\"ticks\":\"\",\"zerolinecolor\":\"white\",\"gridwidth\":2}},\"shapedefaults\":{\"line\":{\"color\":\"#2a3f5f\"}},\"annotationdefaults\":{\"arrowcolor\":\"#2a3f5f\",\"arrowhead\":0,\"arrowwidth\":1},\"geo\":{\"bgcolor\":\"white\",\"landcolor\":\"#E5ECF6\",\"subunitcolor\":\"white\",\"showland\":true,\"showlakes\":true,\"lakecolor\":\"white\"},\"title\":{\"x\":0.05},\"mapbox\":{\"style\":\"light\"}}},\"title\":{\"text\":\"Training Accuracy Comparison for Different Optimizers\"}},                        {\"responsive\": true}                    ).then(function(){\n",
       "                            \n",
       "var gd = document.getElementById('6b4daff8-0568-4656-aa79-5df0850d46bd');\n",
       "var x = new MutationObserver(function (mutations, observer) {{\n",
       "        var display = window.getComputedStyle(gd).display;\n",
       "        if (!display || display === 'none') {{\n",
       "            console.log([gd, 'removed!']);\n",
       "            Plotly.purge(gd);\n",
       "            observer.disconnect();\n",
       "        }}\n",
       "}});\n",
       "\n",
       "// Listen for the removal of the full notebook cells\n",
       "var notebookContainer = gd.closest('#notebook-container');\n",
       "if (notebookContainer) {{\n",
       "    x.observe(notebookContainer, {childList: true});\n",
       "}}\n",
       "\n",
       "// Listen for the clearing of the current output cell\n",
       "var outputEl = gd.closest('.output');\n",
       "if (outputEl) {{\n",
       "    x.observe(outputEl, {childList: true});\n",
       "}}\n",
       "\n",
       "                        })                };                });            </script>        </div>"
      ]
     },
     "metadata": {},
     "output_type": "display_data"
    },
    {
     "data": {
      "application/vnd.plotly.v1+json": {
       "config": {
        "plotlyServerURL": "https://plot.ly"
       },
       "data": [
        {
         "name": "Training Loss",
         "type": "bar",
         "x": [
          "SGD",
          "Adam",
          "RMSprop"
         ],
         "y": [
          0.1552,
          0.0485,
          0.0403
         ]
        },
        {
         "mode": "markers+text",
         "text": [
          "0.1552",
          "0.0485",
          "0.0403"
         ],
         "textposition": "top center",
         "type": "scatter",
         "x": [
          "SGD",
          "Adam",
          "RMSprop"
         ],
         "y": [
          0.1552,
          0.0485,
          0.0403
         ]
        }
       ],
       "layout": {
        "template": {
         "data": {
          "bar": [
           {
            "error_x": {
             "color": "#2a3f5f"
            },
            "error_y": {
             "color": "#2a3f5f"
            },
            "marker": {
             "line": {
              "color": "#E5ECF6",
              "width": 0.5
             },
             "pattern": {
              "fillmode": "overlay",
              "size": 10,
              "solidity": 0.2
             }
            },
            "type": "bar"
           }
          ],
          "barpolar": [
           {
            "marker": {
             "line": {
              "color": "#E5ECF6",
              "width": 0.5
             },
             "pattern": {
              "fillmode": "overlay",
              "size": 10,
              "solidity": 0.2
             }
            },
            "type": "barpolar"
           }
          ],
          "carpet": [
           {
            "aaxis": {
             "endlinecolor": "#2a3f5f",
             "gridcolor": "white",
             "linecolor": "white",
             "minorgridcolor": "white",
             "startlinecolor": "#2a3f5f"
            },
            "baxis": {
             "endlinecolor": "#2a3f5f",
             "gridcolor": "white",
             "linecolor": "white",
             "minorgridcolor": "white",
             "startlinecolor": "#2a3f5f"
            },
            "type": "carpet"
           }
          ],
          "choropleth": [
           {
            "colorbar": {
             "outlinewidth": 0,
             "ticks": ""
            },
            "type": "choropleth"
           }
          ],
          "contour": [
           {
            "colorbar": {
             "outlinewidth": 0,
             "ticks": ""
            },
            "colorscale": [
             [
              0,
              "#0d0887"
             ],
             [
              0.1111111111111111,
              "#46039f"
             ],
             [
              0.2222222222222222,
              "#7201a8"
             ],
             [
              0.3333333333333333,
              "#9c179e"
             ],
             [
              0.4444444444444444,
              "#bd3786"
             ],
             [
              0.5555555555555556,
              "#d8576b"
             ],
             [
              0.6666666666666666,
              "#ed7953"
             ],
             [
              0.7777777777777778,
              "#fb9f3a"
             ],
             [
              0.8888888888888888,
              "#fdca26"
             ],
             [
              1,
              "#f0f921"
             ]
            ],
            "type": "contour"
           }
          ],
          "contourcarpet": [
           {
            "colorbar": {
             "outlinewidth": 0,
             "ticks": ""
            },
            "type": "contourcarpet"
           }
          ],
          "heatmap": [
           {
            "colorbar": {
             "outlinewidth": 0,
             "ticks": ""
            },
            "colorscale": [
             [
              0,
              "#0d0887"
             ],
             [
              0.1111111111111111,
              "#46039f"
             ],
             [
              0.2222222222222222,
              "#7201a8"
             ],
             [
              0.3333333333333333,
              "#9c179e"
             ],
             [
              0.4444444444444444,
              "#bd3786"
             ],
             [
              0.5555555555555556,
              "#d8576b"
             ],
             [
              0.6666666666666666,
              "#ed7953"
             ],
             [
              0.7777777777777778,
              "#fb9f3a"
             ],
             [
              0.8888888888888888,
              "#fdca26"
             ],
             [
              1,
              "#f0f921"
             ]
            ],
            "type": "heatmap"
           }
          ],
          "heatmapgl": [
           {
            "colorbar": {
             "outlinewidth": 0,
             "ticks": ""
            },
            "colorscale": [
             [
              0,
              "#0d0887"
             ],
             [
              0.1111111111111111,
              "#46039f"
             ],
             [
              0.2222222222222222,
              "#7201a8"
             ],
             [
              0.3333333333333333,
              "#9c179e"
             ],
             [
              0.4444444444444444,
              "#bd3786"
             ],
             [
              0.5555555555555556,
              "#d8576b"
             ],
             [
              0.6666666666666666,
              "#ed7953"
             ],
             [
              0.7777777777777778,
              "#fb9f3a"
             ],
             [
              0.8888888888888888,
              "#fdca26"
             ],
             [
              1,
              "#f0f921"
             ]
            ],
            "type": "heatmapgl"
           }
          ],
          "histogram": [
           {
            "marker": {
             "pattern": {
              "fillmode": "overlay",
              "size": 10,
              "solidity": 0.2
             }
            },
            "type": "histogram"
           }
          ],
          "histogram2d": [
           {
            "colorbar": {
             "outlinewidth": 0,
             "ticks": ""
            },
            "colorscale": [
             [
              0,
              "#0d0887"
             ],
             [
              0.1111111111111111,
              "#46039f"
             ],
             [
              0.2222222222222222,
              "#7201a8"
             ],
             [
              0.3333333333333333,
              "#9c179e"
             ],
             [
              0.4444444444444444,
              "#bd3786"
             ],
             [
              0.5555555555555556,
              "#d8576b"
             ],
             [
              0.6666666666666666,
              "#ed7953"
             ],
             [
              0.7777777777777778,
              "#fb9f3a"
             ],
             [
              0.8888888888888888,
              "#fdca26"
             ],
             [
              1,
              "#f0f921"
             ]
            ],
            "type": "histogram2d"
           }
          ],
          "histogram2dcontour": [
           {
            "colorbar": {
             "outlinewidth": 0,
             "ticks": ""
            },
            "colorscale": [
             [
              0,
              "#0d0887"
             ],
             [
              0.1111111111111111,
              "#46039f"
             ],
             [
              0.2222222222222222,
              "#7201a8"
             ],
             [
              0.3333333333333333,
              "#9c179e"
             ],
             [
              0.4444444444444444,
              "#bd3786"
             ],
             [
              0.5555555555555556,
              "#d8576b"
             ],
             [
              0.6666666666666666,
              "#ed7953"
             ],
             [
              0.7777777777777778,
              "#fb9f3a"
             ],
             [
              0.8888888888888888,
              "#fdca26"
             ],
             [
              1,
              "#f0f921"
             ]
            ],
            "type": "histogram2dcontour"
           }
          ],
          "mesh3d": [
           {
            "colorbar": {
             "outlinewidth": 0,
             "ticks": ""
            },
            "type": "mesh3d"
           }
          ],
          "parcoords": [
           {
            "line": {
             "colorbar": {
              "outlinewidth": 0,
              "ticks": ""
             }
            },
            "type": "parcoords"
           }
          ],
          "pie": [
           {
            "automargin": true,
            "type": "pie"
           }
          ],
          "scatter": [
           {
            "fillpattern": {
             "fillmode": "overlay",
             "size": 10,
             "solidity": 0.2
            },
            "type": "scatter"
           }
          ],
          "scatter3d": [
           {
            "line": {
             "colorbar": {
              "outlinewidth": 0,
              "ticks": ""
             }
            },
            "marker": {
             "colorbar": {
              "outlinewidth": 0,
              "ticks": ""
             }
            },
            "type": "scatter3d"
           }
          ],
          "scattercarpet": [
           {
            "marker": {
             "colorbar": {
              "outlinewidth": 0,
              "ticks": ""
             }
            },
            "type": "scattercarpet"
           }
          ],
          "scattergeo": [
           {
            "marker": {
             "colorbar": {
              "outlinewidth": 0,
              "ticks": ""
             }
            },
            "type": "scattergeo"
           }
          ],
          "scattergl": [
           {
            "marker": {
             "colorbar": {
              "outlinewidth": 0,
              "ticks": ""
             }
            },
            "type": "scattergl"
           }
          ],
          "scattermapbox": [
           {
            "marker": {
             "colorbar": {
              "outlinewidth": 0,
              "ticks": ""
             }
            },
            "type": "scattermapbox"
           }
          ],
          "scatterpolar": [
           {
            "marker": {
             "colorbar": {
              "outlinewidth": 0,
              "ticks": ""
             }
            },
            "type": "scatterpolar"
           }
          ],
          "scatterpolargl": [
           {
            "marker": {
             "colorbar": {
              "outlinewidth": 0,
              "ticks": ""
             }
            },
            "type": "scatterpolargl"
           }
          ],
          "scatterternary": [
           {
            "marker": {
             "colorbar": {
              "outlinewidth": 0,
              "ticks": ""
             }
            },
            "type": "scatterternary"
           }
          ],
          "surface": [
           {
            "colorbar": {
             "outlinewidth": 0,
             "ticks": ""
            },
            "colorscale": [
             [
              0,
              "#0d0887"
             ],
             [
              0.1111111111111111,
              "#46039f"
             ],
             [
              0.2222222222222222,
              "#7201a8"
             ],
             [
              0.3333333333333333,
              "#9c179e"
             ],
             [
              0.4444444444444444,
              "#bd3786"
             ],
             [
              0.5555555555555556,
              "#d8576b"
             ],
             [
              0.6666666666666666,
              "#ed7953"
             ],
             [
              0.7777777777777778,
              "#fb9f3a"
             ],
             [
              0.8888888888888888,
              "#fdca26"
             ],
             [
              1,
              "#f0f921"
             ]
            ],
            "type": "surface"
           }
          ],
          "table": [
           {
            "cells": {
             "fill": {
              "color": "#EBF0F8"
             },
             "line": {
              "color": "white"
             }
            },
            "header": {
             "fill": {
              "color": "#C8D4E3"
             },
             "line": {
              "color": "white"
             }
            },
            "type": "table"
           }
          ]
         },
         "layout": {
          "annotationdefaults": {
           "arrowcolor": "#2a3f5f",
           "arrowhead": 0,
           "arrowwidth": 1
          },
          "autotypenumbers": "strict",
          "coloraxis": {
           "colorbar": {
            "outlinewidth": 0,
            "ticks": ""
           }
          },
          "colorscale": {
           "diverging": [
            [
             0,
             "#8e0152"
            ],
            [
             0.1,
             "#c51b7d"
            ],
            [
             0.2,
             "#de77ae"
            ],
            [
             0.3,
             "#f1b6da"
            ],
            [
             0.4,
             "#fde0ef"
            ],
            [
             0.5,
             "#f7f7f7"
            ],
            [
             0.6,
             "#e6f5d0"
            ],
            [
             0.7,
             "#b8e186"
            ],
            [
             0.8,
             "#7fbc41"
            ],
            [
             0.9,
             "#4d9221"
            ],
            [
             1,
             "#276419"
            ]
           ],
           "sequential": [
            [
             0,
             "#0d0887"
            ],
            [
             0.1111111111111111,
             "#46039f"
            ],
            [
             0.2222222222222222,
             "#7201a8"
            ],
            [
             0.3333333333333333,
             "#9c179e"
            ],
            [
             0.4444444444444444,
             "#bd3786"
            ],
            [
             0.5555555555555556,
             "#d8576b"
            ],
            [
             0.6666666666666666,
             "#ed7953"
            ],
            [
             0.7777777777777778,
             "#fb9f3a"
            ],
            [
             0.8888888888888888,
             "#fdca26"
            ],
            [
             1,
             "#f0f921"
            ]
           ],
           "sequentialminus": [
            [
             0,
             "#0d0887"
            ],
            [
             0.1111111111111111,
             "#46039f"
            ],
            [
             0.2222222222222222,
             "#7201a8"
            ],
            [
             0.3333333333333333,
             "#9c179e"
            ],
            [
             0.4444444444444444,
             "#bd3786"
            ],
            [
             0.5555555555555556,
             "#d8576b"
            ],
            [
             0.6666666666666666,
             "#ed7953"
            ],
            [
             0.7777777777777778,
             "#fb9f3a"
            ],
            [
             0.8888888888888888,
             "#fdca26"
            ],
            [
             1,
             "#f0f921"
            ]
           ]
          },
          "colorway": [
           "#636efa",
           "#EF553B",
           "#00cc96",
           "#ab63fa",
           "#FFA15A",
           "#19d3f3",
           "#FF6692",
           "#B6E880",
           "#FF97FF",
           "#FECB52"
          ],
          "font": {
           "color": "#2a3f5f"
          },
          "geo": {
           "bgcolor": "white",
           "lakecolor": "white",
           "landcolor": "#E5ECF6",
           "showlakes": true,
           "showland": true,
           "subunitcolor": "white"
          },
          "hoverlabel": {
           "align": "left"
          },
          "hovermode": "closest",
          "mapbox": {
           "style": "light"
          },
          "paper_bgcolor": "white",
          "plot_bgcolor": "#E5ECF6",
          "polar": {
           "angularaxis": {
            "gridcolor": "white",
            "linecolor": "white",
            "ticks": ""
           },
           "bgcolor": "#E5ECF6",
           "radialaxis": {
            "gridcolor": "white",
            "linecolor": "white",
            "ticks": ""
           }
          },
          "scene": {
           "xaxis": {
            "backgroundcolor": "#E5ECF6",
            "gridcolor": "white",
            "gridwidth": 2,
            "linecolor": "white",
            "showbackground": true,
            "ticks": "",
            "zerolinecolor": "white"
           },
           "yaxis": {
            "backgroundcolor": "#E5ECF6",
            "gridcolor": "white",
            "gridwidth": 2,
            "linecolor": "white",
            "showbackground": true,
            "ticks": "",
            "zerolinecolor": "white"
           },
           "zaxis": {
            "backgroundcolor": "#E5ECF6",
            "gridcolor": "white",
            "gridwidth": 2,
            "linecolor": "white",
            "showbackground": true,
            "ticks": "",
            "zerolinecolor": "white"
           }
          },
          "shapedefaults": {
           "line": {
            "color": "#2a3f5f"
           }
          },
          "ternary": {
           "aaxis": {
            "gridcolor": "white",
            "linecolor": "white",
            "ticks": ""
           },
           "baxis": {
            "gridcolor": "white",
            "linecolor": "white",
            "ticks": ""
           },
           "bgcolor": "#E5ECF6",
           "caxis": {
            "gridcolor": "white",
            "linecolor": "white",
            "ticks": ""
           }
          },
          "title": {
           "x": 0.05
          },
          "xaxis": {
           "automargin": true,
           "gridcolor": "white",
           "linecolor": "white",
           "ticks": "",
           "title": {
            "standoff": 15
           },
           "zerolinecolor": "white",
           "zerolinewidth": 2
          },
          "yaxis": {
           "automargin": true,
           "gridcolor": "white",
           "linecolor": "white",
           "ticks": "",
           "title": {
            "standoff": 15
           },
           "zerolinecolor": "white",
           "zerolinewidth": 2
          }
         }
        },
        "title": {
         "text": "Training Loss Comparison for Different Optimizers"
        }
       }
      },
      "text/html": [
       "<div>                            <div id=\"c5c8fb12-365b-4582-9c38-049ad3cf5caf\" class=\"plotly-graph-div\" style=\"height:525px; width:100%;\"></div>            <script type=\"text/javascript\">                require([\"plotly\"], function(Plotly) {                    window.PLOTLYENV=window.PLOTLYENV || {};                                    if (document.getElementById(\"c5c8fb12-365b-4582-9c38-049ad3cf5caf\")) {                    Plotly.newPlot(                        \"c5c8fb12-365b-4582-9c38-049ad3cf5caf\",                        [{\"name\":\"Training Loss\",\"x\":[\"SGD\",\"Adam\",\"RMSprop\"],\"y\":[0.1552,0.0485,0.0403],\"type\":\"bar\"},{\"mode\":\"markers+text\",\"text\":[\"0.1552\",\"0.0485\",\"0.0403\"],\"textposition\":\"top center\",\"x\":[\"SGD\",\"Adam\",\"RMSprop\"],\"y\":[0.1552,0.0485,0.0403],\"type\":\"scatter\"}],                        {\"template\":{\"data\":{\"histogram2dcontour\":[{\"type\":\"histogram2dcontour\",\"colorbar\":{\"outlinewidth\":0,\"ticks\":\"\"},\"colorscale\":[[0.0,\"#0d0887\"],[0.1111111111111111,\"#46039f\"],[0.2222222222222222,\"#7201a8\"],[0.3333333333333333,\"#9c179e\"],[0.4444444444444444,\"#bd3786\"],[0.5555555555555556,\"#d8576b\"],[0.6666666666666666,\"#ed7953\"],[0.7777777777777778,\"#fb9f3a\"],[0.8888888888888888,\"#fdca26\"],[1.0,\"#f0f921\"]]}],\"choropleth\":[{\"type\":\"choropleth\",\"colorbar\":{\"outlinewidth\":0,\"ticks\":\"\"}}],\"histogram2d\":[{\"type\":\"histogram2d\",\"colorbar\":{\"outlinewidth\":0,\"ticks\":\"\"},\"colorscale\":[[0.0,\"#0d0887\"],[0.1111111111111111,\"#46039f\"],[0.2222222222222222,\"#7201a8\"],[0.3333333333333333,\"#9c179e\"],[0.4444444444444444,\"#bd3786\"],[0.5555555555555556,\"#d8576b\"],[0.6666666666666666,\"#ed7953\"],[0.7777777777777778,\"#fb9f3a\"],[0.8888888888888888,\"#fdca26\"],[1.0,\"#f0f921\"]]}],\"heatmap\":[{\"type\":\"heatmap\",\"colorbar\":{\"outlinewidth\":0,\"ticks\":\"\"},\"colorscale\":[[0.0,\"#0d0887\"],[0.1111111111111111,\"#46039f\"],[0.2222222222222222,\"#7201a8\"],[0.3333333333333333,\"#9c179e\"],[0.4444444444444444,\"#bd3786\"],[0.5555555555555556,\"#d8576b\"],[0.6666666666666666,\"#ed7953\"],[0.7777777777777778,\"#fb9f3a\"],[0.8888888888888888,\"#fdca26\"],[1.0,\"#f0f921\"]]}],\"heatmapgl\":[{\"type\":\"heatmapgl\",\"colorbar\":{\"outlinewidth\":0,\"ticks\":\"\"},\"colorscale\":[[0.0,\"#0d0887\"],[0.1111111111111111,\"#46039f\"],[0.2222222222222222,\"#7201a8\"],[0.3333333333333333,\"#9c179e\"],[0.4444444444444444,\"#bd3786\"],[0.5555555555555556,\"#d8576b\"],[0.6666666666666666,\"#ed7953\"],[0.7777777777777778,\"#fb9f3a\"],[0.8888888888888888,\"#fdca26\"],[1.0,\"#f0f921\"]]}],\"contourcarpet\":[{\"type\":\"contourcarpet\",\"colorbar\":{\"outlinewidth\":0,\"ticks\":\"\"}}],\"contour\":[{\"type\":\"contour\",\"colorbar\":{\"outlinewidth\":0,\"ticks\":\"\"},\"colorscale\":[[0.0,\"#0d0887\"],[0.1111111111111111,\"#46039f\"],[0.2222222222222222,\"#7201a8\"],[0.3333333333333333,\"#9c179e\"],[0.4444444444444444,\"#bd3786\"],[0.5555555555555556,\"#d8576b\"],[0.6666666666666666,\"#ed7953\"],[0.7777777777777778,\"#fb9f3a\"],[0.8888888888888888,\"#fdca26\"],[1.0,\"#f0f921\"]]}],\"surface\":[{\"type\":\"surface\",\"colorbar\":{\"outlinewidth\":0,\"ticks\":\"\"},\"colorscale\":[[0.0,\"#0d0887\"],[0.1111111111111111,\"#46039f\"],[0.2222222222222222,\"#7201a8\"],[0.3333333333333333,\"#9c179e\"],[0.4444444444444444,\"#bd3786\"],[0.5555555555555556,\"#d8576b\"],[0.6666666666666666,\"#ed7953\"],[0.7777777777777778,\"#fb9f3a\"],[0.8888888888888888,\"#fdca26\"],[1.0,\"#f0f921\"]]}],\"mesh3d\":[{\"type\":\"mesh3d\",\"colorbar\":{\"outlinewidth\":0,\"ticks\":\"\"}}],\"scatter\":[{\"fillpattern\":{\"fillmode\":\"overlay\",\"size\":10,\"solidity\":0.2},\"type\":\"scatter\"}],\"parcoords\":[{\"type\":\"parcoords\",\"line\":{\"colorbar\":{\"outlinewidth\":0,\"ticks\":\"\"}}}],\"scatterpolargl\":[{\"type\":\"scatterpolargl\",\"marker\":{\"colorbar\":{\"outlinewidth\":0,\"ticks\":\"\"}}}],\"bar\":[{\"error_x\":{\"color\":\"#2a3f5f\"},\"error_y\":{\"color\":\"#2a3f5f\"},\"marker\":{\"line\":{\"color\":\"#E5ECF6\",\"width\":0.5},\"pattern\":{\"fillmode\":\"overlay\",\"size\":10,\"solidity\":0.2}},\"type\":\"bar\"}],\"scattergeo\":[{\"type\":\"scattergeo\",\"marker\":{\"colorbar\":{\"outlinewidth\":0,\"ticks\":\"\"}}}],\"scatterpolar\":[{\"type\":\"scatterpolar\",\"marker\":{\"colorbar\":{\"outlinewidth\":0,\"ticks\":\"\"}}}],\"histogram\":[{\"marker\":{\"pattern\":{\"fillmode\":\"overlay\",\"size\":10,\"solidity\":0.2}},\"type\":\"histogram\"}],\"scattergl\":[{\"type\":\"scattergl\",\"marker\":{\"colorbar\":{\"outlinewidth\":0,\"ticks\":\"\"}}}],\"scatter3d\":[{\"type\":\"scatter3d\",\"line\":{\"colorbar\":{\"outlinewidth\":0,\"ticks\":\"\"}},\"marker\":{\"colorbar\":{\"outlinewidth\":0,\"ticks\":\"\"}}}],\"scattermapbox\":[{\"type\":\"scattermapbox\",\"marker\":{\"colorbar\":{\"outlinewidth\":0,\"ticks\":\"\"}}}],\"scatterternary\":[{\"type\":\"scatterternary\",\"marker\":{\"colorbar\":{\"outlinewidth\":0,\"ticks\":\"\"}}}],\"scattercarpet\":[{\"type\":\"scattercarpet\",\"marker\":{\"colorbar\":{\"outlinewidth\":0,\"ticks\":\"\"}}}],\"carpet\":[{\"aaxis\":{\"endlinecolor\":\"#2a3f5f\",\"gridcolor\":\"white\",\"linecolor\":\"white\",\"minorgridcolor\":\"white\",\"startlinecolor\":\"#2a3f5f\"},\"baxis\":{\"endlinecolor\":\"#2a3f5f\",\"gridcolor\":\"white\",\"linecolor\":\"white\",\"minorgridcolor\":\"white\",\"startlinecolor\":\"#2a3f5f\"},\"type\":\"carpet\"}],\"table\":[{\"cells\":{\"fill\":{\"color\":\"#EBF0F8\"},\"line\":{\"color\":\"white\"}},\"header\":{\"fill\":{\"color\":\"#C8D4E3\"},\"line\":{\"color\":\"white\"}},\"type\":\"table\"}],\"barpolar\":[{\"marker\":{\"line\":{\"color\":\"#E5ECF6\",\"width\":0.5},\"pattern\":{\"fillmode\":\"overlay\",\"size\":10,\"solidity\":0.2}},\"type\":\"barpolar\"}],\"pie\":[{\"automargin\":true,\"type\":\"pie\"}]},\"layout\":{\"autotypenumbers\":\"strict\",\"colorway\":[\"#636efa\",\"#EF553B\",\"#00cc96\",\"#ab63fa\",\"#FFA15A\",\"#19d3f3\",\"#FF6692\",\"#B6E880\",\"#FF97FF\",\"#FECB52\"],\"font\":{\"color\":\"#2a3f5f\"},\"hovermode\":\"closest\",\"hoverlabel\":{\"align\":\"left\"},\"paper_bgcolor\":\"white\",\"plot_bgcolor\":\"#E5ECF6\",\"polar\":{\"bgcolor\":\"#E5ECF6\",\"angularaxis\":{\"gridcolor\":\"white\",\"linecolor\":\"white\",\"ticks\":\"\"},\"radialaxis\":{\"gridcolor\":\"white\",\"linecolor\":\"white\",\"ticks\":\"\"}},\"ternary\":{\"bgcolor\":\"#E5ECF6\",\"aaxis\":{\"gridcolor\":\"white\",\"linecolor\":\"white\",\"ticks\":\"\"},\"baxis\":{\"gridcolor\":\"white\",\"linecolor\":\"white\",\"ticks\":\"\"},\"caxis\":{\"gridcolor\":\"white\",\"linecolor\":\"white\",\"ticks\":\"\"}},\"coloraxis\":{\"colorbar\":{\"outlinewidth\":0,\"ticks\":\"\"}},\"colorscale\":{\"sequential\":[[0.0,\"#0d0887\"],[0.1111111111111111,\"#46039f\"],[0.2222222222222222,\"#7201a8\"],[0.3333333333333333,\"#9c179e\"],[0.4444444444444444,\"#bd3786\"],[0.5555555555555556,\"#d8576b\"],[0.6666666666666666,\"#ed7953\"],[0.7777777777777778,\"#fb9f3a\"],[0.8888888888888888,\"#fdca26\"],[1.0,\"#f0f921\"]],\"sequentialminus\":[[0.0,\"#0d0887\"],[0.1111111111111111,\"#46039f\"],[0.2222222222222222,\"#7201a8\"],[0.3333333333333333,\"#9c179e\"],[0.4444444444444444,\"#bd3786\"],[0.5555555555555556,\"#d8576b\"],[0.6666666666666666,\"#ed7953\"],[0.7777777777777778,\"#fb9f3a\"],[0.8888888888888888,\"#fdca26\"],[1.0,\"#f0f921\"]],\"diverging\":[[0,\"#8e0152\"],[0.1,\"#c51b7d\"],[0.2,\"#de77ae\"],[0.3,\"#f1b6da\"],[0.4,\"#fde0ef\"],[0.5,\"#f7f7f7\"],[0.6,\"#e6f5d0\"],[0.7,\"#b8e186\"],[0.8,\"#7fbc41\"],[0.9,\"#4d9221\"],[1,\"#276419\"]]},\"xaxis\":{\"gridcolor\":\"white\",\"linecolor\":\"white\",\"ticks\":\"\",\"title\":{\"standoff\":15},\"zerolinecolor\":\"white\",\"automargin\":true,\"zerolinewidth\":2},\"yaxis\":{\"gridcolor\":\"white\",\"linecolor\":\"white\",\"ticks\":\"\",\"title\":{\"standoff\":15},\"zerolinecolor\":\"white\",\"automargin\":true,\"zerolinewidth\":2},\"scene\":{\"xaxis\":{\"backgroundcolor\":\"#E5ECF6\",\"gridcolor\":\"white\",\"linecolor\":\"white\",\"showbackground\":true,\"ticks\":\"\",\"zerolinecolor\":\"white\",\"gridwidth\":2},\"yaxis\":{\"backgroundcolor\":\"#E5ECF6\",\"gridcolor\":\"white\",\"linecolor\":\"white\",\"showbackground\":true,\"ticks\":\"\",\"zerolinecolor\":\"white\",\"gridwidth\":2},\"zaxis\":{\"backgroundcolor\":\"#E5ECF6\",\"gridcolor\":\"white\",\"linecolor\":\"white\",\"showbackground\":true,\"ticks\":\"\",\"zerolinecolor\":\"white\",\"gridwidth\":2}},\"shapedefaults\":{\"line\":{\"color\":\"#2a3f5f\"}},\"annotationdefaults\":{\"arrowcolor\":\"#2a3f5f\",\"arrowhead\":0,\"arrowwidth\":1},\"geo\":{\"bgcolor\":\"white\",\"landcolor\":\"#E5ECF6\",\"subunitcolor\":\"white\",\"showland\":true,\"showlakes\":true,\"lakecolor\":\"white\"},\"title\":{\"x\":0.05},\"mapbox\":{\"style\":\"light\"}}},\"title\":{\"text\":\"Training Loss Comparison for Different Optimizers\"}},                        {\"responsive\": true}                    ).then(function(){\n",
       "                            \n",
       "var gd = document.getElementById('c5c8fb12-365b-4582-9c38-049ad3cf5caf');\n",
       "var x = new MutationObserver(function (mutations, observer) {{\n",
       "        var display = window.getComputedStyle(gd).display;\n",
       "        if (!display || display === 'none') {{\n",
       "            console.log([gd, 'removed!']);\n",
       "            Plotly.purge(gd);\n",
       "            observer.disconnect();\n",
       "        }}\n",
       "}});\n",
       "\n",
       "// Listen for the removal of the full notebook cells\n",
       "var notebookContainer = gd.closest('#notebook-container');\n",
       "if (notebookContainer) {{\n",
       "    x.observe(notebookContainer, {childList: true});\n",
       "}}\n",
       "\n",
       "// Listen for the clearing of the current output cell\n",
       "var outputEl = gd.closest('.output');\n",
       "if (outputEl) {{\n",
       "    x.observe(outputEl, {childList: true});\n",
       "}}\n",
       "\n",
       "                        })                };                });            </script>        </div>"
      ]
     },
     "metadata": {},
     "output_type": "display_data"
    }
   ],
   "source": [
    "import plotly.graph_objects as go\n",
    "\n",
    "optimizer = ['SGD', 'Adam', 'RMSprop']\n",
    "training_accuracy = [0.9530, 0.9847, 0.9877]\n",
    "training_loss = [0.1552, 0.0485, 0.0403]\n",
    "\n",
    "# Create a figure for training accuracy\n",
    "accuracy_fig = go.Figure(data=[\n",
    "    go.Bar(name='Training Accuracy', x=optimizer, y=training_accuracy),\n",
    "    go.Scatter(x=optimizer, y=training_accuracy, mode='markers+text', text=training_accuracy, textposition='top center')\n",
    "])\n",
    "accuracy_fig.update_layout(title='Training Accuracy Comparison for Different Optimizers')\n",
    "\n",
    "# Create a figure for training loss\n",
    "loss_fig = go.Figure(data=[\n",
    "    go.Bar(name='Training Loss', x=optimizer, y=training_loss),\n",
    "    go.Scatter(x=optimizer, y=training_loss, mode='markers+text', text=training_loss, textposition='top center')\n",
    "])\n",
    "loss_fig.update_layout(title='Training Loss Comparison for Different Optimizers')\n",
    "\n",
    "# Display the figures\n",
    "accuracy_fig.show()\n",
    "loss_fig.show()\n"
   ]
  },
  {
   "cell_type": "code",
   "execution_count": null,
   "id": "72261f1c",
   "metadata": {},
   "outputs": [],
   "source": []
  },
  {
   "cell_type": "code",
   "execution_count": null,
   "id": "a4821af2",
   "metadata": {},
   "outputs": [],
   "source": []
  },
  {
   "cell_type": "markdown",
   "id": "fa0f8b54",
   "metadata": {},
   "source": [
    "<a id=\"9\"></a> \n",
    " ## <p style=\"padding:10px;background-color: #00004d ;margin:10;color: white ;font-family:newtimeroman;font-size:100%;text-align:center;border-radius: 10px 10px ;overflow:hidden;font-weight:50\">Ans 9 </p> "
   ]
  },
  {
   "cell_type": "markdown",
   "id": "1aaa4ee5",
   "metadata": {},
   "source": [
    "the considerations and tradeoffs when choosing the appropriate optimizer for a given neural network architecture and task, based on the training results  for the three optimizers: SGD, Adam, and RMSprop.\n",
    "\n",
    "1. **Convergence Speed:**\n",
    "   - **SGD:** In this case, SGD had the slowest convergence speed among the three. It took more epochs to achieve high accuracy compared to Adam and RMSprop.\n",
    "   - **Adam:** Adam showed faster convergence compared to SGD, reaching high accuracy within a smaller number of epochs.\n",
    "   - **RMSprop:** RMSprop also demonstrated relatively fast convergence, similar to Adam.\n",
    "\n",
    "   **Tradeoff:** Faster convergence might lead to overshooting the optimal solution, especially when the learning rate is not tuned properly. Slower convergence can help avoid overshooting but might require more computational resources.\n",
    "\n",
    "2. **Stability:**\n",
    "   - **SGD:** SGD can exhibit oscillations and slow down near minima due to its reliance on the current batch. This can make convergence less stable.\n",
    "   - **Adam:** Adam combines both adaptive learning rates and momentum, leading to more stable convergence by adjusting learning rates for each parameter individually.\n",
    "   - **RMSprop:** RMSprop also addresses stability issues by normalizing gradient updates, making it less sensitive to the scale of the features.\n",
    "\n",
    "   **Tradeoff:** While Adam and RMSprop offer better stability, there's a risk of convergence to suboptimal solutions due to their adaptive learning rates, which may not work well with all architectures.\n",
    "\n",
    "3. **Generalization Performance:**\n",
    "   - **SGD:** SGD tends to have better generalization performance when dealing with a large dataset. It can escape local minima by its noisy updates from mini-batches.\n",
    "   - **Adam:** Adam and RMSprop may generalize well on smaller datasets or tasks with moderate complexity due to their adaptive learning rates, but can sometimes overfit on larger datasets.\n",
    "   - **RMSprop:** Similar to Adam, RMSprop can perform well in tasks with moderate complexity and smaller datasets.\n",
    "\n",
    "   **Tradeoff:** Generalization performance depends on factors like dataset size and complexity. While Adam and RMSprop may generalize well for certain cases, tuning their hyperparameters becomes crucial to prevent overfitting.\n",
    "\n",
    "4. **Hyperparameter Sensitivity:**\n",
    "   - **SGD:** Requires careful tuning of learning rates and possibly momentum.\n",
    "   - **Adam:** Requires less tuning due to its adaptive learning rates, but learning rate annealing might still be needed.\n",
    "   - **RMSprop:** Similar to Adam, it requires less tuning compared to SGD.\n",
    "\n",
    "   **Tradeoff:** While Adam and RMSprop are more forgiving in terms of learning rate tuning, improper hyperparameters might lead to suboptimal solutions.\n",
    "\n",
    "In conclusion, the choice of optimizer should be based on the specific neural network architecture and the characteristics of the task and dataset:\n",
    "\n",
    "- For complex architectures and large datasets, Adam or RMSprop might be a good choice due to their faster convergence and adaptive learning rates.\n",
    "- For simpler architectures and large datasets, SGD could be preferred for better generalization performance.\n",
    "- For architectures with deeper layers and potential vanishing/exploding gradient problems, RMSprop might provide better stability.\n",
    "\n",
    "Ultimately, it's a balance between convergence speed, stability, and generalization performance. Experimenting with different optimizers and hyperparameters, while keeping an eye on training and validation metrics, is key to finding the optimal optimizer for a given task."
   ]
  },
  {
   "cell_type": "code",
   "execution_count": null,
   "id": "22a612f1",
   "metadata": {},
   "outputs": [],
   "source": []
  },
  {
   "cell_type": "markdown",
   "id": "75733083",
   "metadata": {},
   "source": [
    "<a id=\"11\"></a> \n",
    " # <p style=\"padding:10px;background-color: #01DFD7 ;margin:10;color: white ;font-family:newtimeroman;font-size:100%;text-align:center;border-radius: 10px 10px ;overflow:hidden;font-weight:50\">END</p> "
   ]
  },
  {
   "cell_type": "code",
   "execution_count": null,
   "id": "0d90e9b7",
   "metadata": {},
   "outputs": [],
   "source": []
  },
  {
   "cell_type": "code",
   "execution_count": null,
   "id": "e589c02e",
   "metadata": {},
   "outputs": [],
   "source": []
  },
  {
   "cell_type": "code",
   "execution_count": null,
   "id": "0e365d8d",
   "metadata": {},
   "outputs": [],
   "source": []
  },
  {
   "cell_type": "code",
   "execution_count": null,
   "id": "60742ec5",
   "metadata": {},
   "outputs": [],
   "source": []
  },
  {
   "cell_type": "code",
   "execution_count": null,
   "id": "d8e5c649",
   "metadata": {},
   "outputs": [],
   "source": []
  },
  {
   "cell_type": "code",
   "execution_count": null,
   "id": "2919ded3",
   "metadata": {},
   "outputs": [],
   "source": []
  },
  {
   "cell_type": "code",
   "execution_count": null,
   "id": "f251b4b2",
   "metadata": {},
   "outputs": [],
   "source": [
    "# import plotly.graph_objects as go\n",
    "\n",
    "# optimizers = ['SGD', 'Adam', 'RMSprop']\n",
    "# training_accuracy = [0.9530, 0.9847, 0.9877]\n",
    "# testing_accuracy = [0.9707, 0.9808, 0.9825]\n",
    "\n",
    "# # Create a figure for accuracy comparison\n",
    "# accuracy_fig = go.Figure(data=[\n",
    "#     go.Bar(name='Training Accuracy', x=optimizers, y=training_accuracy, marker_color='blue'),\n",
    "#     go.Bar(name='Testing Accuracy', x=optimizers, y=testing_accuracy, marker_color='red'),\n",
    "# ])\n",
    "\n",
    "# accuracy_fig.update_layout(\n",
    "#     title='Training and Testing Accuracy Comparison for Different Optimizers',\n",
    "#     xaxis_title='Optimizers',\n",
    "#     yaxis_title='Accuracy',\n",
    "#     barmode='group'\n",
    "# )\n",
    "# accuracy_fig.add_trace(go.Scatter(x=optimizers, y=training_accuracy, mode='text', text=training_accuracy, textposition='auto', name='Red Training Accuracy'))\n",
    "\n",
    "# # Display the figure\n",
    "# accuracy_fig.show()"
   ]
  }
 ],
 "metadata": {
  "kernelspec": {
   "display_name": "Python 3 (ipykernel)",
   "language": "python",
   "name": "python3"
  },
  "language_info": {
   "codemirror_mode": {
    "name": "ipython",
    "version": 3
   },
   "file_extension": ".py",
   "mimetype": "text/x-python",
   "name": "python",
   "nbconvert_exporter": "python",
   "pygments_lexer": "ipython3",
   "version": "3.10.11"
  }
 },
 "nbformat": 4,
 "nbformat_minor": 5
}
