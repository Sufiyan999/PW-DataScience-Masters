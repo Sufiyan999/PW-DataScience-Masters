{
 "cells": [
  {
   "cell_type": "markdown",
   "metadata": {},
   "source": [
    "\n",
    "<div style=\"background-color: rgb(30, 5, 119); color: white; padding: 20px; position: relative; text-align: center;\">\n",
    "   \n",
    "<h1 style=\"font-size: 50px; color: yellow; padding: 20px;\"><b>Data Prepration Techniques</b></h1>\n",
    "<h6 style=\"font-size: 40px; color: rgb(153, 17, 216); padding: 20px;\"><b>NLP Live Class</b></h6>\n",
    "\n",
    "  <br>\n",
    "  <a href=\"https://github.com/Sufiyan999/PW-DataScience-Masters/blob/master/Resources/10.%20%20%20%20OCTOBER/8%20%20%20%20%20%20%20%20%20%20%20%20%20%20%20%20RNN%20Intro//NLP_Day_1.ipynb\" style=\"position: absolute; bottom: 10px; left: 10px; font-size: 15px; color: white; text-decoration: none;\">\n",
    "    <img src=\"https://github.com/fluidicon.png\" alt=\"GitHub\" style=\"vertical-align: middle; width: 20px; height: 20px;\">  Github\n",
    "  </a>\n",
    "  <p style=\"position: absolute; bottom: 5px; right: 65px; font-size: 15px;\"><b>8 Oct 2023</b></p>\n",
    "\n",
    "  <a href=\"https://colab.research.google.com/github/Sufiyan999/PW-DataScience-Masters/blob/master/Resources/10.%20%20%20%20OCTOBER/8%20%20%20%20%20%20%20%20%20%20%20%20%20%20%20%20RNN%20Intro//NLP_Day_1.ipynb\" target=\"_blank\" style=\"position: relative; bottom: 10px; left: 10px; font-size: 15px; color: white; text-decoration: none;\">\n",
    "    <img src=\"https://colab.research.google.com/assets/colab-badge.svg\" alt=\"Open In Colab\" style=\"vertical-align: middle;\"> \n",
    "  </a>\n",
    "</div>\n",
    "<div style=\"background-color: rgb(30, 5, 119); color: white; padding: 20px; position: relative; text-align: center;\">\n",
    "  <a href=\"https://github.com/Sufiyan999/PW-DataScience-Masters/blob/master/Resources/10.%20%20%20%20OCTOBER/8%20%20%20%20%20%20%20%20%20%20%20%20%20%20%20%20RNN%20Intro//\" style=\"position: absolute; bottom: 10px; left: 10px; font-size: 15px; color: white; text-decoration: none;\">\n",
    "    <img src=\"https://github.com/fluidicon.png\" alt=\"GitHub\" style=\"vertical-align: middle; width: 20px; height: 20px;\">  Repository\n",
    "  </a>\n",
    "</div>\n",
    "<div style=\"background-color: rgb(30, 5, 119); padding: 20px; position: relative; border-radius: 0 0 40px 40px;\">\n",
    "</div>\n",
    "    "
   ]
  },
  {
   "cell_type": "markdown",
   "metadata": {},
   "source": [
    "<!--  -->"
   ]
  },
  {
   "cell_type": "markdown",
   "metadata": {},
   "source": [
    "\n",
    "<!--  -->"
   ]
  },
  {
   "cell_type": "code",
   "execution_count": 2,
   "metadata": {
    "colab": {
     "base_uri": "https://localhost:8080/"
    },
    "executionInfo": {
     "elapsed": 1089,
     "status": "ok",
     "timestamp": 1696772439908,
     "user": {
      "displayName": "Ayan Debnath",
      "userId": "06573521543200295119"
     },
     "user_tz": -330
    },
    "id": "FNvaRCw3PYvU",
    "outputId": "cc2ca6cf-a176-4b47-8782-10bb1a13f087"
   },
   "outputs": [
    {
     "name": "stderr",
     "output_type": "stream",
     "text": [
      "[nltk_data] Downloading package punkt to /root/nltk_data...\n",
      "[nltk_data]   Unzipping tokenizers/punkt.zip.\n"
     ]
    },
    {
     "data": {
      "text/plain": [
       "True"
      ]
     },
     "execution_count": 2,
     "metadata": {},
     "output_type": "execute_result"
    }
   ],
   "source": [
    "import nltk   # Natural Language Toolkit\n",
    "\n",
    "# nltk.download() - download all packages\n",
    "\n",
    "nltk.download('punkt')  # Download the required data for sentence tokenization"
   ]
  },
  {
   "cell_type": "code",
   "execution_count": 23,
   "metadata": {
    "executionInfo": {
     "elapsed": 605,
     "status": "ok",
     "timestamp": 1696774499440,
     "user": {
      "displayName": "Ayan Debnath",
      "userId": "06573521543200295119"
     },
     "user_tz": -330
    },
    "id": "s-UwDBzrhMGf"
   },
   "outputs": [],
   "source": [
    "paragraph = \"\"\"I have three visions for India. In 3000 years of our history, people from all over\n",
    "               the world have come and invaded us, captured our lands, conquered our minds.\n",
    "               From Alexander onwards, the Greeks, the Turks, the Moguls, the Portuguese, the British,\n",
    "               the French, the Dutch, all of them came and looted us, took over what was ours.\n",
    "               Yet we have not done this to any other nation. We have not conquered anyone.\n",
    "               We have not grabbed their land, their culture,\n",
    "               their history and tried to enforce our way of life on them.\n",
    "               Why? Because we respect the freedom of others.That is why my\n",
    "               first vision is that of freedom. I believe that India got its first vision of\n",
    "               this in 1857, when we started the War of Independence. It is this freedom that\n",
    "               we must protect and nurture and build on. If we are not free, no one will respect us.\n",
    "               My second vision for India’s development. For fifty years we have been a developing nation.\n",
    "               It is time we see ourselves as a developed nation. We are among the top 5 nations of the world\n",
    "               in terms of GDP. We have a 10 percent growth rate in most areas. Our poverty levels are falling.\n",
    "               Our achievements are being globally recognised today. Yet we lack the self-confidence to\n",
    "               see ourselves as a developed nation, self-reliant and self-assured. Isn’t this incorrect?\n",
    "               I have a third vision. India must stand up to the world. Because I believe that unless India\n",
    "               stands up to the world, no one will respect us. Only strength respects strength. We must be\n",
    "               strong not only as a military power but also as an economic power. Both must go hand-in-hand.\n",
    "               My good fortune was to have worked with three great minds. Dr. Vikram Sarabhai of the Dept. of\n",
    "               space, Professor Satish Dhawan, who succeeded him and Dr. Brahm Prakash, father of nuclear material.\n",
    "               I was lucky to have worked with all three of them closely and consider this the great opportunity of my life.\n",
    "               I see four milestones in my career\"\"\"\n"
   ]
  },
  {
   "cell_type": "code",
   "execution_count": 4,
   "metadata": {
    "executionInfo": {
     "elapsed": 410,
     "status": "ok",
     "timestamp": 1696773336254,
     "user": {
      "displayName": "Ayan Debnath",
      "userId": "06573521543200295119"
     },
     "user_tz": -330
    },
    "id": "1Jzcvu9Fi-jm"
   },
   "outputs": [],
   "source": [
    "sentences = nltk.sent_tokenize(paragraph)"
   ]
  },
  {
   "cell_type": "code",
   "execution_count": 5,
   "metadata": {
    "colab": {
     "base_uri": "https://localhost:8080/"
    },
    "executionInfo": {
     "elapsed": 9,
     "status": "ok",
     "timestamp": 1696773341478,
     "user": {
      "displayName": "Ayan Debnath",
      "userId": "06573521543200295119"
     },
     "user_tz": -330
    },
    "id": "Wf17ztmHjgBU",
    "outputId": "7653ec08-f206-4422-a5f8-9c41024cb658"
   },
   "outputs": [
    {
     "data": {
      "text/plain": [
       "['I have three visions for India.',\n",
       " 'In 3000 years of our history, people from all over \\n               the world have come and invaded us, captured our lands, conquered our minds.',\n",
       " 'From Alexander onwards, the Greeks, the Turks, the Moguls, the Portuguese, the British,\\n               the French, the Dutch, all of them came and looted us, took over what was ours.',\n",
       " 'Yet we have not done this to any other nation.',\n",
       " 'We have not conquered anyone.',\n",
       " 'We have not grabbed their land, their culture, \\n               their history and tried to enforce our way of life on them.',\n",
       " 'Why?',\n",
       " 'Because we respect the freedom of others.That is why my \\n               first vision is that of freedom.',\n",
       " 'I believe that India got its first vision of \\n               this in 1857, when we started the War of Independence.',\n",
       " 'It is this freedom that\\n               we must protect and nurture and build on.',\n",
       " 'If we are not free, no one will respect us.',\n",
       " 'My second vision for India’s development.',\n",
       " 'For fifty years we have been a developing nation.',\n",
       " 'It is time we see ourselves as a developed nation.',\n",
       " 'We are among the top 5 nations of the world\\n               in terms of GDP.',\n",
       " 'We have a 10 percent growth rate in most areas.',\n",
       " 'Our poverty levels are falling.',\n",
       " 'Our achievements are being globally recognised today.',\n",
       " 'Yet we lack the self-confidence to\\n               see ourselves as a developed nation, self-reliant and self-assured.',\n",
       " 'Isn’t this incorrect?',\n",
       " 'I have a third vision.',\n",
       " 'India must stand up to the world.',\n",
       " 'Because I believe that unless India \\n               stands up to the world, no one will respect us.',\n",
       " 'Only strength respects strength.',\n",
       " 'We must be \\n               strong not only as a military power but also as an economic power.',\n",
       " 'Both must go hand-in-hand.',\n",
       " 'My good fortune was to have worked with three great minds.',\n",
       " 'Dr. Vikram Sarabhai of the Dept.',\n",
       " 'of \\n               space, Professor Satish Dhawan, who succeeded him and Dr. Brahm Prakash, father of nuclear material.',\n",
       " 'I was lucky to have worked with all three of them closely and consider this the great opportunity of my life.',\n",
       " 'I see four milestones in my career']"
      ]
     },
     "execution_count": 5,
     "metadata": {},
     "output_type": "execute_result"
    }
   ],
   "source": [
    "sentences"
   ]
  },
  {
   "cell_type": "code",
   "execution_count": 6,
   "metadata": {
    "colab": {
     "base_uri": "https://localhost:8080/"
    },
    "executionInfo": {
     "elapsed": 422,
     "status": "ok",
     "timestamp": 1696773389252,
     "user": {
      "displayName": "Ayan Debnath",
      "userId": "06573521543200295119"
     },
     "user_tz": -330
    },
    "id": "LjNCVxvUkx5Y",
    "outputId": "72796ce6-a322-4c1d-cf7e-209a2634e42f"
   },
   "outputs": [
    {
     "data": {
      "text/plain": [
       "31"
      ]
     },
     "execution_count": 6,
     "metadata": {},
     "output_type": "execute_result"
    }
   ],
   "source": [
    "len(sentences)"
   ]
  },
  {
   "cell_type": "code",
   "execution_count": null,
   "metadata": {
    "id": "w44cDo36kw9R"
   },
   "outputs": [],
   "source": [
    "\n",
    "words = nltk.word_tokenize(paragraph)\n",
    "words\n"
   ]
  },
  {
   "cell_type": "markdown",
   "metadata": {
    "id": "dDNbBVSJnGw_"
   },
   "source": [
    "#Stemming"
   ]
  },
  {
   "cell_type": "code",
   "execution_count": 9,
   "metadata": {
    "colab": {
     "base_uri": "https://localhost:8080/"
    },
    "executionInfo": {
     "elapsed": 486,
     "status": "ok",
     "timestamp": 1696774179916,
     "user": {
      "displayName": "Ayan Debnath",
      "userId": "06573521543200295119"
     },
     "user_tz": -330
    },
    "id": "So2XnocmnHlU",
    "outputId": "8651bb2e-7914-47a4-95b8-60e50d8aaf93"
   },
   "outputs": [
    {
     "name": "stderr",
     "output_type": "stream",
     "text": [
      "[nltk_data] Downloading package stopwords to /root/nltk_data...\n",
      "[nltk_data]   Unzipping corpora/stopwords.zip.\n"
     ]
    },
    {
     "data": {
      "text/plain": [
       "True"
      ]
     },
     "execution_count": 9,
     "metadata": {},
     "output_type": "execute_result"
    }
   ],
   "source": [
    "from nltk.stem import PorterStemmer\n",
    "nltk.download('stopwords')"
   ]
  },
  {
   "cell_type": "code",
   "execution_count": 25,
   "metadata": {
    "colab": {
     "base_uri": "https://localhost:8080/"
    },
    "executionInfo": {
     "elapsed": 427,
     "status": "ok",
     "timestamp": 1696774858632,
     "user": {
      "displayName": "Ayan Debnath",
      "userId": "06573521543200295119"
     },
     "user_tz": -330
    },
    "id": "H2dPdJ-_o5vN",
    "outputId": "39f42b5a-733a-4950-ba55-92d338d43d28"
   },
   "outputs": [
    {
     "name": "stdout",
     "output_type": "stream",
     "text": [
      "['ithreevisionindia.', 'in3000yearhistori,peoplworldcomeinvadus,capturland,conquermind.', 'fromalexandonward,greek,turk,mogul,portugues,british,french,dutch,camelootus,took.', 'yetdonenation.', 'weconqueranyon.', 'wegrabland,cultur,historitrienforcwaylife.', 'whi?', 'becausrespectfreedomothers.thatfirstvisionfreedom.', 'ibelievindiagotfirstvision1857,startwarindepend.', 'itfreedommustprotectnurturbuild.', 'iffree,onerespectus.', 'mysecondvisionindia’develop.', 'forfiftiyeardevelopnation.', 'ittimeseedevelopnation.', 'weamongtop5nationworldtermgdp.', 'we10percentgrowthratearea.', 'ourpovertilevelfall.', 'ourachievglobalrecognistoday.', 'yetlackself-confidseedevelopnation,self-reliself-assur.', 'isn’incorrect?', 'ithirdvision.', 'indiamuststandworld.', 'becausibelievunlessindiastandworld,onerespectus.', 'onlistrengthrespectstrength.', 'wemuststrongmilitaripoweralsoeconompower.', 'bothmustgohand-in-hand.', 'mygoodfortunworkthreegreatmind.', 'dr.vikramsarabhaidept.', 'space,professorsatishdhawan,succeeddr.brahmprakash,fathernuclearmateri.', 'iluckiworkthreecloseconsidgreatopportunlife.', 'iseefourmilestoncareer']\n"
     ]
    }
   ],
   "source": [
    "sentences = nltk.sent_tokenize(paragraph)\n",
    "stemmer=PorterStemmer()\n",
    "\n",
    "for i in range(len(sentences)):\n",
    "  words = nltk.word_tokenize(sentences[i])\n",
    "  words = [stemmer.stem(word) for word in words if word not in set(nltk.corpus.stopwords.words('english'))]\n",
    "  sentences[i] = ' '.join(words)\n",
    "\n",
    "print(sentences)"
   ]
  },
  {
   "cell_type": "markdown",
   "metadata": {
    "id": "htXCsHoXqzXs"
   },
   "source": [
    "## Lemmitization"
   ]
  },
  {
   "cell_type": "code",
   "execution_count": 30,
   "metadata": {
    "colab": {
     "base_uri": "https://localhost:8080/"
    },
    "executionInfo": {
     "elapsed": 4,
     "status": "ok",
     "timestamp": 1696775528451,
     "user": {
      "displayName": "Ayan Debnath",
      "userId": "06573521543200295119"
     },
     "user_tz": -330
    },
    "id": "nvV7IqHLq2Ud",
    "outputId": "309f5998-a138-4474-d03a-3d56d744c68f"
   },
   "outputs": [
    {
     "name": "stdout",
     "output_type": "stream",
     "text": [
      "['I three vision India .', 'In 3000 year history , people world come invaded u , captured land , conquered mind .', 'From Alexander onwards , Greeks , Turks , Moguls , Portuguese , British , French , Dutch , came looted u , took .', 'Yet done nation .', 'We conquered anyone .', 'We grabbed land , culture , history tried enforce way life .', 'Why ?', 'Because respect freedom others.That first vision freedom .', 'I believe India got first vision 1857 , started War Independence .', 'It freedom must protect nurture build .', 'If free , one respect u .', 'My second vision India ’ development .', 'For fifty year developing nation .', 'It time see developed nation .', 'We among top 5 nation world term GDP .', 'We 10 percent growth rate area .', 'Our poverty level falling .', 'Our achievement globally recognised today .', 'Yet lack self-confidence see developed nation , self-reliant self-assured .', 'Isn ’ incorrect ?', 'I third vision .', 'India must stand world .', 'Because I believe unless India stand world , one respect u .', 'Only strength respect strength .', 'We must strong military power also economic power .', 'Both must go hand-in-hand .', 'My good fortune worked three great mind .', 'Dr. Vikram Sarabhai Dept .', 'space , Professor Satish Dhawan , succeeded Dr. Brahm Prakash , father nuclear material .', 'I lucky worked three closely consider great opportunity life .', 'I see four milestone career']\n"
     ]
    },
    {
     "name": "stderr",
     "output_type": "stream",
     "text": [
      "[nltk_data] Downloading package wordnet to /root/nltk_data...\n",
      "[nltk_data]   Package wordnet is already up-to-date!\n"
     ]
    }
   ],
   "source": [
    "# from nltk.stem import WordNetLemmatizer\n",
    "nltk.download('wordnet')\n",
    "lemmatizer = WordNetLemmatizer()\n",
    "\n",
    "# paragraph = \"\"\"  vmbsdjhbsd\"\"\"\n",
    "\n",
    "sentences = nltk.sent_tokenize(paragraph)\n",
    "\n",
    "for i in range(len(sentences)):\n",
    "  words = nltk.word_tokenize(sentences[i])\n",
    "  words = [lemmatizer.lemmatize(word) for word in words if word not in set(nltk.corpus.stopwords.words('english'))]\n",
    "  sentences[i] = ' '.join(words)\n",
    "\n",
    "print(sentences)"
   ]
  },
  {
   "cell_type": "code",
   "execution_count": 22,
   "metadata": {
    "colab": {
     "base_uri": "https://localhost:8080/"
    },
    "executionInfo": {
     "elapsed": 7,
     "status": "ok",
     "timestamp": 1696774448901,
     "user": {
      "displayName": "Ayan Debnath",
      "userId": "06573521543200295119"
     },
     "user_tz": -330
    },
    "id": "lxCLn2Q6n2EO",
    "outputId": "4d9c4d12-82b6-405d-feea-c9a15db3e8f5"
   },
   "outputs": [
    {
     "data": {
      "text/plain": [
       "['au',\n",
       " 'aux',\n",
       " 'avec',\n",
       " 'ce',\n",
       " 'ces',\n",
       " 'dans',\n",
       " 'de',\n",
       " 'des',\n",
       " 'du',\n",
       " 'elle',\n",
       " 'en',\n",
       " 'et',\n",
       " 'eux',\n",
       " 'il',\n",
       " 'ils',\n",
       " 'je',\n",
       " 'la',\n",
       " 'le',\n",
       " 'les',\n",
       " 'leur',\n",
       " 'lui',\n",
       " 'ma',\n",
       " 'mais',\n",
       " 'me',\n",
       " 'même',\n",
       " 'mes',\n",
       " 'moi',\n",
       " 'mon',\n",
       " 'ne',\n",
       " 'nos',\n",
       " 'notre',\n",
       " 'nous',\n",
       " 'on',\n",
       " 'ou',\n",
       " 'par',\n",
       " 'pas',\n",
       " 'pour',\n",
       " 'qu',\n",
       " 'que',\n",
       " 'qui',\n",
       " 'sa',\n",
       " 'se',\n",
       " 'ses',\n",
       " 'son',\n",
       " 'sur',\n",
       " 'ta',\n",
       " 'te',\n",
       " 'tes',\n",
       " 'toi',\n",
       " 'ton',\n",
       " 'tu',\n",
       " 'un',\n",
       " 'une',\n",
       " 'vos',\n",
       " 'votre',\n",
       " 'vous',\n",
       " 'c',\n",
       " 'd',\n",
       " 'j',\n",
       " 'l',\n",
       " 'à',\n",
       " 'm',\n",
       " 'n',\n",
       " 's',\n",
       " 't',\n",
       " 'y',\n",
       " 'été',\n",
       " 'étée',\n",
       " 'étées',\n",
       " 'étés',\n",
       " 'étant',\n",
       " 'étante',\n",
       " 'étants',\n",
       " 'étantes',\n",
       " 'suis',\n",
       " 'es',\n",
       " 'est',\n",
       " 'sommes',\n",
       " 'êtes',\n",
       " 'sont',\n",
       " 'serai',\n",
       " 'seras',\n",
       " 'sera',\n",
       " 'serons',\n",
       " 'serez',\n",
       " 'seront',\n",
       " 'serais',\n",
       " 'serait',\n",
       " 'serions',\n",
       " 'seriez',\n",
       " 'seraient',\n",
       " 'étais',\n",
       " 'était',\n",
       " 'étions',\n",
       " 'étiez',\n",
       " 'étaient',\n",
       " 'fus',\n",
       " 'fut',\n",
       " 'fûmes',\n",
       " 'fûtes',\n",
       " 'furent',\n",
       " 'sois',\n",
       " 'soit',\n",
       " 'soyons',\n",
       " 'soyez',\n",
       " 'soient',\n",
       " 'fusse',\n",
       " 'fusses',\n",
       " 'fût',\n",
       " 'fussions',\n",
       " 'fussiez',\n",
       " 'fussent',\n",
       " 'ayant',\n",
       " 'ayante',\n",
       " 'ayantes',\n",
       " 'ayants',\n",
       " 'eu',\n",
       " 'eue',\n",
       " 'eues',\n",
       " 'eus',\n",
       " 'ai',\n",
       " 'as',\n",
       " 'avons',\n",
       " 'avez',\n",
       " 'ont',\n",
       " 'aurai',\n",
       " 'auras',\n",
       " 'aura',\n",
       " 'aurons',\n",
       " 'aurez',\n",
       " 'auront',\n",
       " 'aurais',\n",
       " 'aurait',\n",
       " 'aurions',\n",
       " 'auriez',\n",
       " 'auraient',\n",
       " 'avais',\n",
       " 'avait',\n",
       " 'avions',\n",
       " 'aviez',\n",
       " 'avaient',\n",
       " 'eut',\n",
       " 'eûmes',\n",
       " 'eûtes',\n",
       " 'eurent',\n",
       " 'aie',\n",
       " 'aies',\n",
       " 'ait',\n",
       " 'ayons',\n",
       " 'ayez',\n",
       " 'aient',\n",
       " 'eusse',\n",
       " 'eusses',\n",
       " 'eût',\n",
       " 'eussions',\n",
       " 'eussiez',\n",
       " 'eussent']"
      ]
     },
     "execution_count": 22,
     "metadata": {},
     "output_type": "execute_result"
    }
   ],
   "source": [
    "from nltk.corpus import stopwords\n",
    "# nltk.download('stopwords')\n",
    "stopwords = nltk.corpus.stopwords.words('french')\n",
    "stopwords"
   ]
  },
  {
   "cell_type": "markdown",
   "metadata": {},
   "source": [
    "\n",
    " \n",
    "<div>\n",
    "<button style=\"display: inline-block; padding: 10px 20px; background-color: #f5e1eb; color: #000000; text-decoration: none; border-radius: 5px; border: 1px solid #000000; outline: none;\">\n",
    "<a href=\"https://github.com/Sufiyan999/PW-DataScience-Masters/blob/master/Resources/10.%20%20%20%20OCTOBER/8%20%20%20%20%20%20%20%20%20%20%20%20%20%20%20%20RNN%20Intro//NLP_Day_1.ipynb\" target=\"_blank\" style=\"color: inherit; text-decoration: none;\">Github</a>\n",
    "</button>\n",
    "</div>\n",
    " \n",
    "\n",
    "<br>\n",
    "\n",
    " \n",
    "<div>\n",
    "<button style=\"display: inline-block; padding: 10px 20px; background-color: #f5e1eb; color: #000000; text-decoration: none; border-radius: 5px; border: 1px solid #000000; outline: none;\">\n",
    "<a href=\"https://github.com/Sufiyan999/PW-DataScience-Masters/blob/master/Resources/10.%20%20%20%20OCTOBER/8%20%20%20%20%20%20%20%20%20%20%20%20%20%20%20%20RNN%20Intro//\" target=\"_blank\" style=\"color: inherit; text-decoration: none;\">Repository</a>\n",
    "</button>\n",
    "</div>\n",
    " \n",
    "\n",
    "<br>\n",
    "\n",
    " \n",
    "  <a href=\"https://colab.research.google.com/github/Sufiyan999/PW-DataScience-Masters/blob/master/Resources/10.%20%20%20%20OCTOBER/8%20%20%20%20%20%20%20%20%20%20%20%20%20%20%20%20RNN%20Intro//NLP_Day_1.ipynb\" target=\"_blank\" style=\"position: relative; bottom: 10px; left: 10px; font-size: 10px; color: white; text-decoration: none;\">\n",
    "    <img src=\"https://colab.research.google.com/assets/colab-badge.svg\" alt=\"Open In Colab\" style=\"vertical-align: middle;\"> \n",
    "  </a>\n",
    "\n"
   ]
  },
  {
   "cell_type": "markdown",
   "metadata": {},
   "source": [
    "\n",
    "<!--\n",
    " \n",
    " ----------------------------------------------------------------------------------------------------\n",
    "local_R  :   D:\\Data Science\\\\Resources\\10.    OCTOBER\\8                RNN Intro\\\\NLP_Day_1.ipynb\n",
    "----------------------------------------------------------------------------------------------------\n",
    "github_link_R  :   https://github.com/Sufiyan999/PW-DataScience-Masters/blob/master/Resources/10.%20%20%20%20OCTOBER/8%20%20%20%20%20%20%20%20%20%20%20%20%20%20%20%20RNN%20Intro//NLP_Day_1.ipynb\n",
    "----------------------------------------------------------------------------------------------------\n",
    "colab_link_R  :   https://colab.research.google.com/github/Sufiyan999/PW-DataScience-Masters/blob/master/Resources/10.%20%20%20%20OCTOBER/8%20%20%20%20%20%20%20%20%20%20%20%20%20%20%20%20RNN%20Intro//NLP_Day_1.ipynb\n",
    "----------------------------------------------------------------------------------------------------\n",
    "sub_folder  :   https://github.com/Sufiyan999/PW-DataScience-Masters/blob/master/Resources/10.%20%20%20%20OCTOBER/8%20%20%20%20%20%20%20%20%20%20%20%20%20%20%20%20RNN%20Intro//\n",
    "----------------------------------------------------------------------------------------------------\n",
    "head  :    \n",
    "<h1 style=\"font-size: 50px; color: yellow; padding: 20px;\"><b>NLP Data Prepration Techniques</b></h1>\n",
    "<h6 style=\"font-size: 30px; color: rgb(153, 17, 216); padding: 20px;\"><b>NLP Live Class</b></h6>\n",
    "\n",
    "----------------------------------------------------------------------------------------------------\n",
    "date  :   8 Oct 2023\n",
    "----------------------------------------------------------------------------------------------------\n",
    "md_R  :   [github](https://github.com/Sufiyan999/PW-DataScience-Masters/blob/master/Resources/10.%20%20%20%20OCTOBER/8%20%20%20%20%20%20%20%20%20%20%20%20%20%20%20%20RNN%20Intro//NLP_Day_1.ipynb)\n",
    "----------------------------------------------------------------------------------------------------\n",
    "md_colab_R  :    \n",
    "  <a href=\"https://colab.research.google.com/github/Sufiyan999/PW-DataScience-Masters/blob/master/Resources/10.%20%20%20%20OCTOBER/8%20%20%20%20%20%20%20%20%20%20%20%20%20%20%20%20RNN%20Intro//NLP_Day_1.ipynb\" target=\"_blank\" style=\"position: relative; bottom: 10px; left: 10px; font-size: 10px; color: white; text-decoration: none;\">\n",
    "    <img src=\"https://colab.research.google.com/assets/colab-badge.svg\" alt=\"Open In Colab\" style=\"vertical-align: middle;\"> \n",
    "  </a>\n",
    "\n",
    "----------------------------------------------------------------------------------------------------\n",
    "-->\n"
   ]
  },
  {
   "cell_type": "markdown",
   "metadata": {},
   "source": [
    "## <a id=\"100\"></a><p style=\"padding:10px;background-color: #01DFD7 ;margin:10;color: white ;font-family:newtimeroman;font-size:100%;text-align:center;border-radius: 10px 10px ;overflow:hidden;font-weight:50\">END</p> \n"
   ]
  },
  {
   "cell_type": "code",
   "execution_count": null,
   "metadata": {},
   "outputs": [],
   "source": []
  }
 ],
 "metadata": {
  "colab": {
   "authorship_tag": "ABX9TyMe58MS4z210fJIMLJXnwwP",
   "provenance": []
  },
  "kernelspec": {
   "display_name": "Python 3 (ipykernel)",
   "language": "python",
   "name": "python3"
  },
  "language_info": {
   "codemirror_mode": {
    "name": "ipython",
    "version": 3
   },
   "file_extension": ".py",
   "mimetype": "text/x-python",
   "name": "python",
   "nbconvert_exporter": "python",
   "pygments_lexer": "ipython3",
   "version": "3.11.5"
  }
 },
 "nbformat": 4,
 "nbformat_minor": 4
}
