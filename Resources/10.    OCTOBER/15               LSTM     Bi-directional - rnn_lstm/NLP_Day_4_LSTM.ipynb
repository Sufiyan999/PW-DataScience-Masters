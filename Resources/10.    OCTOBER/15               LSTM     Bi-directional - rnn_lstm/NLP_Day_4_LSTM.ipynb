{
 "cells": [
  {
   "cell_type": "markdown",
   "id": "eb3a0704",
   "metadata": {},
   "source": [
    "\n",
    "<div style=\"background-color: rgb(30, 5, 119); color: white; padding: 20px; position: relative; text-align: center;\">\n",
    "   \n",
    "# <h1 style=\"font-size: 50px; color: yellow; padding: 20px;\"><b>LSTM Demo</b></h1>\n",
    "<h6 style=\"font-size: 40px; color: rgb(153, 17, 216); padding: 20px;\"><b>NLP Live Class</b></h6>\n",
    "\n",
    "  <br>\n",
    "  <a href=\"https://github.com/Sufiyan999/PW-DataScience-Masters/blob/master/Resources/10.%20%20%20%20OCTOBER/15%20%20%20%20%20%20%20%20%20%20%20%20%20%20%20LSTM%20%20%20%20%20Bi-directional%20-%20rnn_lstm//NLP_Day_4_LSTM.ipynb\" style=\"position: absolute; bottom: 10px; left: 10px; font-size: 15px; color: white; text-decoration: none;\">\n",
    "    <img src=\"https://github.com/fluidicon.png\" alt=\"GitHub\" style=\"vertical-align: middle; width: 20px; height: 20px;\">  Notebook\n",
    "  </a>\n",
    "  <p style=\"position: absolute; bottom: 5px; right: 65px; font-size: 15px;\"><b>\n",
    "<a href=\"https://github.com/Sufiyan999/PW-DataScience-Masters/blob/master/Resources/10.%20%20%20%20OCTOBER/\" target=\"_blank\" style=\"position: relative; bottom: 5px; left: 10px; font-size: 15px; color: white; text-decoration: none;\">\n",
    " 15 Oct 2023\n",
    "  </a>\n",
    "  </b></p>\n",
    "\n",
    "  <!-- <a href=\"https://colab.research.google.com/github/Sufiyan999/PW-DataScience-Masters/blob/master/Resources/10.%20%20%20%20OCTOBER/15%20%20%20%20%20%20%20%20%20%20%20%20%20%20%20LSTM%20%20%20%20%20Bi-directional%20-%20rnn_lstm//NLP_Day_4_LSTM.ipynb\" target=\"_blank\" style=\"position: relative; bottom: 10px; left: 10px; font-size: 15px; color: white; text-decoration: none;\">\n",
    "    <img src=\"https://colab.research.google.com/assets/colab-badge.svg\" alt=\"Open In Colab\" style=\"vertical-align: middle;\"> \n",
    "  </a> -->\n",
    "  \n",
    "   \n",
    " \n",
    "<a href=\"https://colab.research.google.com/github/Sufiyan999/PW-DataScience-Masters/blob/master/Resources/10.%20%20%20%20OCTOBER/15%20%20%20%20%20%20%20%20%20%20%20%20%20%20%20LSTM%20%20%20%20%20Bi-directional%20-%20rnn_lstm//NLP_Day_4_LSTM.ipynb\" target=\"_blank\" style=\"position: relative; bottom: 5px; left: 5px; font-size: 10px; color: white; text-decoration: none;\">\n",
    "  <img src=\"https://colab.research.google.com/assets/colab-badge.svg\" alt=\"Open In Colab\" style=\"vertical-align: middle;\" /> \n",
    "</a>\n",
    "\n",
    "\n",
    "<a target=\"_blank\" href=\"https://kaggle.com/kernels/welcome?src=https://github.com/Sufiyan999/PW-DataScience-Masters/blob/master/Resources/10.%20%20%20%20OCTOBER/15%20%20%20%20%20%20%20%20%20%20%20%20%20%20%20LSTM%20%20%20%20%20Bi-directional%20-%20rnn_lstm//NLP_Day_4_LSTM.ipynb\" style=\"position: relative; bottom: 5px; left: 5px; font-size: 10px; color: white; text-decoration: none;\">\n",
    "<img src=\"https://kaggle.com/static/images/open-in-kaggle.svg\" / alt=\"Open In Kaggle\" style=\"vertical-align: middle;\" />\n",
    "</a> \n",
    "\n",
    "      \n",
    "<a href=\"https://nbviewer.jupyter.org/github/Sufiyan999/PW-DataScience-Masters/blob/master/Resources/10.%20%20%20%20OCTOBER/15%20%20%20%20%20%20%20%20%20%20%20%20%20%20%20LSTM%20%20%20%20%20Bi-directional%20-%20rnn_lstm//NLP_Day_4_LSTM.ipynb\"  target=\"_blank\" style=\"position: relative; bottom: 5px; left: 5px; font-size: 10px; color: white; text-decoration: none;\" >\n",
    "<img src=\"https://raw.githubusercontent.com/jupyter/design/master/logos/Badges/nbviewer_badge.svg\" alt=\"Render nbviewer\"  style=\"vertical-align: middle;\"/>\n",
    "</a>\n",
    " \n",
    "\n",
    "</div>\n",
    "<div style=\"background-color: rgb(30, 5, 119); color: white; padding: 20px; position: relative; text-align: center;\">\n",
    "  <a href=\"https://github.com/Sufiyan999/PW-DataScience-Masters/blob/master/Resources/10.%20%20%20%20OCTOBER/15%20%20%20%20%20%20%20%20%20%20%20%20%20%20%20LSTM%20%20%20%20%20Bi-directional%20-%20rnn_lstm//\" style=\"position: absolute; bottom: 10px; left: 10px; font-size: 15px; color: white; text-decoration: none;\">\n",
    "    <img src=\"https://github.com/fluidicon.png\" alt=\"GitHub\" style=\"vertical-align: middle; width: 20px; height: 20px;\">  Repository\n",
    "  </a>\n",
    "</div>\n",
    "<div style=\"background-color: rgb(30, 5, 119); padding: 20px; position: relative; border-radius: 0 0 40px 40px;\">\n",
    "</div>\n",
    "    "
   ]
  },
  {
   "cell_type": "code",
   "execution_count": 1,
   "metadata": {
    "executionInfo": {
     "elapsed": 2526,
     "status": "ok",
     "timestamp": 1685788625578,
     "user": {
      "displayName": "Boktiar Ahmed Bappy",
      "userId": "10381972055342951581"
     },
     "user_tz": -360
    },
    "id": "kOe6Y-XvaYpV"
   },
   "outputs": [],
   "source": [
    "from keras.datasets import imdb\n",
    "from keras.preprocessing.text import Tokenizer\n",
    "from keras.utils import pad_sequences\n",
    "from keras import Sequential\n",
    "from keras.layers import Dense,Embedding,Flatten, LSTM"
   ]
  },
  {
   "cell_type": "code",
   "execution_count": 2,
   "metadata": {
    "colab": {
     "base_uri": "https://localhost:8080/"
    },
    "executionInfo": {
     "elapsed": 3908,
     "status": "ok",
     "timestamp": 1685788658556,
     "user": {
      "displayName": "Boktiar Ahmed Bappy",
      "userId": "10381972055342951581"
     },
     "user_tz": -360
    },
    "id": "4GJQffxGab_F",
    "outputId": "d9a93fa0-814f-482c-ee46-e350060a926e"
   },
   "outputs": [
    {
     "name": "stdout",
     "output_type": "stream",
     "text": [
      "Downloading data from https://storage.googleapis.com/tensorflow/tf-keras-datasets/imdb.npz\n",
      "17464789/17464789 [==============================] - 0s 0us/step\n"
     ]
    }
   ],
   "source": [
    "(X_train,y_train),(X_test,y_test) = imdb.load_data()"
   ]
  },
  {
   "cell_type": "code",
   "execution_count": 3,
   "metadata": {
    "executionInfo": {
     "elapsed": 585,
     "status": "ok",
     "timestamp": 1685788773138,
     "user": {
      "displayName": "Boktiar Ahmed Bappy",
      "userId": "10381972055342951581"
     },
     "user_tz": -360
    },
    "id": "i_qz5WkXadm2"
   },
   "outputs": [],
   "source": [
    "X_train = pad_sequences(X_train,padding='post',maxlen=50)\n",
    "X_test = pad_sequences(X_test,padding='post',maxlen=50)"
   ]
  },
  {
   "cell_type": "code",
   "execution_count": 4,
   "metadata": {
    "colab": {
     "base_uri": "https://localhost:8080/"
    },
    "executionInfo": {
     "elapsed": 3,
     "status": "ok",
     "timestamp": 1685788775410,
     "user": {
      "displayName": "Boktiar Ahmed Bappy",
      "userId": "10381972055342951581"
     },
     "user_tz": -360
    },
    "id": "JrxiCIxeae5t",
    "outputId": "7a5196da-1c2a-4b12-9951-f5e25e10e45e"
   },
   "outputs": [
    {
     "data": {
      "text/plain": [
       "(25000, 50)"
      ]
     },
     "execution_count": 4,
     "metadata": {},
     "output_type": "execute_result"
    }
   ],
   "source": [
    "X_train.shape"
   ]
  },
  {
   "cell_type": "code",
   "execution_count": 9,
   "metadata": {
    "colab": {
     "base_uri": "https://localhost:8080/",
     "height": 415
    },
    "executionInfo": {
     "elapsed": 869,
     "status": "error",
     "timestamp": 1685789280098,
     "user": {
      "displayName": "Boktiar Ahmed Bappy",
      "userId": "10381972055342951581"
     },
     "user_tz": -360
    },
    "id": "wLk-ynhmahtF",
    "outputId": "8a99b41a-2941-4914-a740-5d1d0135f313"
   },
   "outputs": [
    {
     "ename": "ValueError",
     "evalue": "ignored",
     "output_type": "error",
     "traceback": [
      "\u001b[0;31m---------------------------------------------------------------------------\u001b[0m",
      "\u001b[0;31mValueError\u001b[0m                                Traceback (most recent call last)",
      "\u001b[0;32m<ipython-input-9-a7bcf418a10b>\u001b[0m in \u001b[0;36m<cell line: 4>\u001b[0;34m()\u001b[0m\n\u001b[1;32m      2\u001b[0m \u001b[0mmodel\u001b[0m\u001b[0;34m.\u001b[0m\u001b[0madd\u001b[0m\u001b[0;34m(\u001b[0m\u001b[0mEmbedding\u001b[0m\u001b[0;34m(\u001b[0m\u001b[0;36m10000\u001b[0m\u001b[0;34m,\u001b[0m\u001b[0moutput_dim\u001b[0m\u001b[0;34m=\u001b[0m\u001b[0;36m2\u001b[0m\u001b[0;34m,\u001b[0m\u001b[0minput_length\u001b[0m\u001b[0;34m=\u001b[0m\u001b[0;36m50\u001b[0m\u001b[0;34m)\u001b[0m\u001b[0;34m)\u001b[0m\u001b[0;34m\u001b[0m\u001b[0;34m\u001b[0m\u001b[0m\n\u001b[1;32m      3\u001b[0m \u001b[0mmodel\u001b[0m\u001b[0;34m.\u001b[0m\u001b[0madd\u001b[0m\u001b[0;34m(\u001b[0m\u001b[0mLSTM\u001b[0m\u001b[0;34m(\u001b[0m\u001b[0;36m32\u001b[0m\u001b[0;34m,\u001b[0m\u001b[0mreturn_sequences\u001b[0m\u001b[0;34m=\u001b[0m\u001b[0;32mFalse\u001b[0m\u001b[0;34m)\u001b[0m\u001b[0;34m)\u001b[0m\u001b[0;34m\u001b[0m\u001b[0;34m\u001b[0m\u001b[0m\n\u001b[0;32m----> 4\u001b[0;31m \u001b[0mmodel\u001b[0m\u001b[0;34m.\u001b[0m\u001b[0madd\u001b[0m\u001b[0;34m(\u001b[0m\u001b[0mLSTM\u001b[0m\u001b[0;34m(\u001b[0m\u001b[0;36m32\u001b[0m\u001b[0;34m)\u001b[0m\u001b[0;34m)\u001b[0m\u001b[0;34m\u001b[0m\u001b[0;34m\u001b[0m\u001b[0m\n\u001b[0m\u001b[1;32m      5\u001b[0m \u001b[0mmodel\u001b[0m\u001b[0;34m.\u001b[0m\u001b[0madd\u001b[0m\u001b[0;34m(\u001b[0m\u001b[0mDense\u001b[0m\u001b[0;34m(\u001b[0m\u001b[0;36m1\u001b[0m\u001b[0;34m,\u001b[0m \u001b[0mactivation\u001b[0m\u001b[0;34m=\u001b[0m\u001b[0;34m'sigmoid'\u001b[0m\u001b[0;34m)\u001b[0m\u001b[0;34m)\u001b[0m\u001b[0;34m\u001b[0m\u001b[0;34m\u001b[0m\u001b[0m\n\u001b[1;32m      6\u001b[0m \u001b[0;34m\u001b[0m\u001b[0m\n",
      "\u001b[0;32m/usr/local/lib/python3.10/dist-packages/tensorflow/python/trackable/base.py\u001b[0m in \u001b[0;36m_method_wrapper\u001b[0;34m(self, *args, **kwargs)\u001b[0m\n\u001b[1;32m    203\u001b[0m     \u001b[0mself\u001b[0m\u001b[0;34m.\u001b[0m\u001b[0m_self_setattr_tracking\u001b[0m \u001b[0;34m=\u001b[0m \u001b[0;32mFalse\u001b[0m  \u001b[0;31m# pylint: disable=protected-access\u001b[0m\u001b[0;34m\u001b[0m\u001b[0;34m\u001b[0m\u001b[0m\n\u001b[1;32m    204\u001b[0m     \u001b[0;32mtry\u001b[0m\u001b[0;34m:\u001b[0m\u001b[0;34m\u001b[0m\u001b[0;34m\u001b[0m\u001b[0m\n\u001b[0;32m--> 205\u001b[0;31m       \u001b[0mresult\u001b[0m \u001b[0;34m=\u001b[0m \u001b[0mmethod\u001b[0m\u001b[0;34m(\u001b[0m\u001b[0mself\u001b[0m\u001b[0;34m,\u001b[0m \u001b[0;34m*\u001b[0m\u001b[0margs\u001b[0m\u001b[0;34m,\u001b[0m \u001b[0;34m**\u001b[0m\u001b[0mkwargs\u001b[0m\u001b[0;34m)\u001b[0m\u001b[0;34m\u001b[0m\u001b[0;34m\u001b[0m\u001b[0m\n\u001b[0m\u001b[1;32m    206\u001b[0m     \u001b[0;32mfinally\u001b[0m\u001b[0;34m:\u001b[0m\u001b[0;34m\u001b[0m\u001b[0;34m\u001b[0m\u001b[0m\n\u001b[1;32m    207\u001b[0m       \u001b[0mself\u001b[0m\u001b[0;34m.\u001b[0m\u001b[0m_self_setattr_tracking\u001b[0m \u001b[0;34m=\u001b[0m \u001b[0mprevious_value\u001b[0m  \u001b[0;31m# pylint: disable=protected-access\u001b[0m\u001b[0;34m\u001b[0m\u001b[0;34m\u001b[0m\u001b[0m\n",
      "\u001b[0;32m/usr/local/lib/python3.10/dist-packages/keras/utils/traceback_utils.py\u001b[0m in \u001b[0;36merror_handler\u001b[0;34m(*args, **kwargs)\u001b[0m\n\u001b[1;32m     68\u001b[0m             \u001b[0;31m# To get the full stack trace, call:\u001b[0m\u001b[0;34m\u001b[0m\u001b[0;34m\u001b[0m\u001b[0m\n\u001b[1;32m     69\u001b[0m             \u001b[0;31m# `tf.debugging.disable_traceback_filtering()`\u001b[0m\u001b[0;34m\u001b[0m\u001b[0;34m\u001b[0m\u001b[0m\n\u001b[0;32m---> 70\u001b[0;31m             \u001b[0;32mraise\u001b[0m \u001b[0me\u001b[0m\u001b[0;34m.\u001b[0m\u001b[0mwith_traceback\u001b[0m\u001b[0;34m(\u001b[0m\u001b[0mfiltered_tb\u001b[0m\u001b[0;34m)\u001b[0m \u001b[0;32mfrom\u001b[0m \u001b[0;32mNone\u001b[0m\u001b[0;34m\u001b[0m\u001b[0;34m\u001b[0m\u001b[0m\n\u001b[0m\u001b[1;32m     71\u001b[0m         \u001b[0;32mfinally\u001b[0m\u001b[0;34m:\u001b[0m\u001b[0;34m\u001b[0m\u001b[0;34m\u001b[0m\u001b[0m\n\u001b[1;32m     72\u001b[0m             \u001b[0;32mdel\u001b[0m \u001b[0mfiltered_tb\u001b[0m\u001b[0;34m\u001b[0m\u001b[0;34m\u001b[0m\u001b[0m\n",
      "\u001b[0;32m/usr/local/lib/python3.10/dist-packages/keras/engine/input_spec.py\u001b[0m in \u001b[0;36massert_input_compatibility\u001b[0;34m(input_spec, inputs, layer_name)\u001b[0m\n\u001b[1;32m    233\u001b[0m             \u001b[0mndim\u001b[0m \u001b[0;34m=\u001b[0m \u001b[0mshape\u001b[0m\u001b[0;34m.\u001b[0m\u001b[0mrank\u001b[0m\u001b[0;34m\u001b[0m\u001b[0;34m\u001b[0m\u001b[0m\n\u001b[1;32m    234\u001b[0m             \u001b[0;32mif\u001b[0m \u001b[0mndim\u001b[0m \u001b[0;34m!=\u001b[0m \u001b[0mspec\u001b[0m\u001b[0;34m.\u001b[0m\u001b[0mndim\u001b[0m\u001b[0;34m:\u001b[0m\u001b[0;34m\u001b[0m\u001b[0;34m\u001b[0m\u001b[0m\n\u001b[0;32m--> 235\u001b[0;31m                 raise ValueError(\n\u001b[0m\u001b[1;32m    236\u001b[0m                     \u001b[0;34mf'Input {input_index} of layer \"{layer_name}\" '\u001b[0m\u001b[0;34m\u001b[0m\u001b[0;34m\u001b[0m\u001b[0m\n\u001b[1;32m    237\u001b[0m                     \u001b[0;34m\"is incompatible with the layer: \"\u001b[0m\u001b[0;34m\u001b[0m\u001b[0;34m\u001b[0m\u001b[0m\n",
      "\u001b[0;31mValueError\u001b[0m: Input 0 of layer \"lstm_6\" is incompatible with the layer: expected ndim=3, found ndim=2. Full shape received: (None, 32)"
     ]
    }
   ],
   "source": [
    "model = Sequential()\n",
    "model.add(Embedding(10000,output_dim=2,input_length=50))\n",
    "model.add(LSTM(32,return_sequences=False))\n",
    "model.add(Dense(1, activation='sigmoid'))\n",
    "\n",
    "model.summary()"
   ]
  },
  {
   "cell_type": "code",
   "execution_count": 6,
   "metadata": {
    "colab": {
     "base_uri": "https://localhost:8080/"
    },
    "executionInfo": {
     "elapsed": 84113,
     "status": "ok",
     "timestamp": 1685788977495,
     "user": {
      "displayName": "Boktiar Ahmed Bappy",
      "userId": "10381972055342951581"
     },
     "user_tz": -360
    },
    "id": "rhwG3Or7amgl",
    "outputId": "f5eb8faf-2ff0-4d3e-fddc-8f1e9b5bd4ba"
   },
   "outputs": [
    {
     "name": "stdout",
     "output_type": "stream",
     "text": [
      "Epoch 1/5\n",
      "782/782 [==============================] - 38s 39ms/step - loss: 0.5344 - acc: 0.7104 - val_loss: 0.4053 - val_acc: 0.8148\n",
      "Epoch 2/5\n",
      "782/782 [==============================] - 9s 12ms/step - loss: 0.3494 - acc: 0.8485 - val_loss: 0.4010 - val_acc: 0.8186\n",
      "Epoch 3/5\n",
      "782/782 [==============================] - 9s 11ms/step - loss: 0.2954 - acc: 0.8781 - val_loss: 0.4242 - val_acc: 0.8100\n",
      "Epoch 4/5\n",
      "782/782 [==============================] - 8s 10ms/step - loss: 0.2664 - acc: 0.8924 - val_loss: 0.4265 - val_acc: 0.8094\n",
      "Epoch 5/5\n",
      "782/782 [==============================] - 9s 11ms/step - loss: 0.2447 - acc: 0.9047 - val_loss: 0.4619 - val_acc: 0.8036\n"
     ]
    }
   ],
   "source": [
    "model.compile(optimizer='adam', loss='binary_crossentropy', metrics=['acc'])\n",
    "history = model.fit(X_train, y_train,epochs=5,validation_data=(X_test,y_test))"
   ]
  },
  {
   "cell_type": "markdown",
   "metadata": {
    "id": "oYgbhaFfeNKE"
   },
   "source": [
    "# Predictions"
   ]
  },
  {
   "cell_type": "code",
   "execution_count": null,
   "metadata": {
    "id": "knQLVIUOdIdn"
   },
   "outputs": [],
   "source": [
    "test_data = X_test[0][0:50].reshape(1,-1)"
   ]
  },
  {
   "cell_type": "code",
   "execution_count": null,
   "metadata": {
    "colab": {
     "base_uri": "https://localhost:8080/"
    },
    "executionInfo": {
     "elapsed": 1046,
     "status": "ok",
     "timestamp": 1669134065853,
     "user": {
      "displayName": "Boktiar Ahmed Bappy",
      "userId": "10381972055342951581"
     },
     "user_tz": -360
    },
    "id": "g-EYytx9dQJ1",
    "outputId": "ded9f452-5287-4039-f42b-83b402beef74"
   },
   "outputs": [
    {
     "name": "stdout",
     "output_type": "stream",
     "text": [
      "1/1 [==============================] - 0s 381ms/step\n"
     ]
    },
    {
     "data": {
      "text/plain": [
       "array([[0.3522337]], dtype=float32)"
      ]
     },
     "execution_count": 8,
     "metadata": {},
     "output_type": "execute_result"
    }
   ],
   "source": [
    "model.predict(test_data)"
   ]
  },
  {
   "cell_type": "code",
   "execution_count": null,
   "metadata": {
    "id": "bc6ZWSpEeJzl"
   },
   "outputs": [],
   "source": [
    "boktiar@ineuron.ai\n",
    "keep in cc:\n",
    "query@ineuron.ai\n",
    "sourangshu@ineuron.ai"
   ]
  },
  {
   "cell_type": "markdown",
   "id": "b475058a",
   "metadata": {},
   "source": []
  },
  {
   "cell_type": "markdown",
   "id": "b59b4f8e",
   "metadata": {},
   "source": [
    " \n",
    "<table>\n",
    "\n",
    "<td  style=\"border:none; \">\n",
    " \n",
    "<div>\n",
    "<button style=\"display: inline-block; padding: 10px 20px; background-color:rgb(30, 5, 110) ; color: white; text-decoration: none; border-radius: 10px; border: 2px solid rgb(153, 17, 216); outline: none;\">\n",
    "<a href=\"https://github.com/Sufiyan999/PW-DataScience-Masters/blob/master/Resources/10.%20%20%20%20OCTOBER/15%20%20%20%20%20%20%20%20%20%20%20%20%20%20%20LSTM%20%20%20%20%20Bi-directional%20-%20rnn_lstm//NLP_Day_4_LSTM.ipynb\" target=\"_blank\" style=\"color: inherit; text-decoration: none;\"><b>Notebook<b></a>\n",
    "</button>\n",
    "</div>\n",
    "           \n",
    "</td> \n",
    "<td  style=\"border:none; \">\n",
    " \n",
    "<a href=\"https://colab.research.google.com/github/Sufiyan999/PW-DataScience-Masters/blob/master/Resources/10.%20%20%20%20OCTOBER/15%20%20%20%20%20%20%20%20%20%20%20%20%20%20%20LSTM%20%20%20%20%20Bi-directional%20-%20rnn_lstm//NLP_Day_4_LSTM.ipynb\" target=\"_blank\" style=\"position: relative; bottom: 5px; left: 5px; font-size: 10px; color: white; text-decoration: none;\">\n",
    "  <img src=\"https://colab.research.google.com/assets/colab-badge.svg\" alt=\"Open In Colab\" style=\"vertical-align: middle;\" /> \n",
    "</a>\n",
    "           \n",
    "</td> \n",
    "<td  style=\"border:none; \">\n",
    "\n",
    "<a target=\"_blank\" href=\"https://kaggle.com/kernels/welcome?src=https://github.com/Sufiyan999/PW-DataScience-Masters/blob/master/Resources/10.%20%20%20%20OCTOBER/15%20%20%20%20%20%20%20%20%20%20%20%20%20%20%20LSTM%20%20%20%20%20Bi-directional%20-%20rnn_lstm//NLP_Day_4_LSTM.ipynb\" style=\"position: relative; bottom: 5px; left: 5px; font-size: 10px; color: white; text-decoration: none;\">\n",
    "<img src=\"https://kaggle.com/static/images/open-in-kaggle.svg\" / alt=\"Open In Kaggle\" style=\"vertical-align: middle;\" />\n",
    "</a> \n",
    "\n",
    "              \n",
    "</td> \n",
    "<td  style=\"border:none; \">\n",
    "   \n",
    "<a href=\"https://nbviewer.jupyter.org/github/Sufiyan999/PW-DataScience-Masters/blob/master/Resources/10.%20%20%20%20OCTOBER/15%20%20%20%20%20%20%20%20%20%20%20%20%20%20%20LSTM%20%20%20%20%20Bi-directional%20-%20rnn_lstm//NLP_Day_4_LSTM.ipynb\"  target=\"_blank\" style=\"position: relative; bottom: 5px; left: 5px; font-size: 10px; color: white; text-decoration: none;\" >\n",
    "<img src=\"https://raw.githubusercontent.com/jupyter/design/master/logos/Badges/nbviewer_badge.svg\" alt=\"Render nbviewer\"  style=\"vertical-align: middle;\"/>\n",
    "</a>\n",
    "           \n",
    "</td> \n",
    "</table>\n",
    "\n",
    "<!--\n",
    "https://raw.githubusercontent.com/Sufiyan999/PW-DataScience-Masters/master/Resources/10.%20%20%20%20OCTOBER/15%20%20%20%20%20%20%20%20%20%20%20%20%20%20%20LSTM%20%20%20%20%20Bi-directional%20-%20rnn_lstm//NLP_Day_4_LSTM.ipynb\n",
    "[github](https://github.com/Sufiyan999/PW-DataScience-Masters/blob/master/Resources/10.%20%20%20%20OCTOBER/15%20%20%20%20%20%20%20%20%20%20%20%20%20%20%20LSTM%20%20%20%20%20Bi-directional%20-%20rnn_lstm//NLP_Day_4_LSTM.ipynb)\n",
    "-->\n",
    "\n"
   ]
  },
  {
   "cell_type": "markdown",
   "metadata": {},
   "source": [
    "\n",
    "\n",
    "<table  >\n",
    "\n",
    "<td  style=\"border:none; \">\n",
    " \n",
    "<div>\n",
    "<button style=\"display: inline-block; padding: 10px 20px; background-color:rgb(30, 5, 110) ; color: #00CEA5; text-decoration: none; border-radius: 10px; border: 2px solid rgb(153, 17, 216); outline: none;\">\n",
    "<a href=\"https://github.com/Sufiyan999/PW-DataScience-Masters/blob/master/Resources/10.%20%20%20%20OCTOBER/15%20%20%20%20%20%20%20%20%20%20%20%20%20%20%20LSTM%20%20%20%20%20Bi-directional%20-%20rnn_lstm//\" target=\"_blank\" style=\"color: inherit; text-decoration: none;\"><b>Repository<b></a>\n",
    "</button>\n",
    "</div>\n",
    "           \n",
    "</td> \n",
    "</table>\n",
    "\n",
    "<!--\n",
    "https://raw.githubusercontent.com/Sufiyan999/PW-DataScience-Masters/master/Resources/10.%20%20%20%20OCTOBER/15%20%20%20%20%20%20%20%20%20%20%20%20%20%20%20LSTM%20%20%20%20%20Bi-directional%20-%20rnn_lstm//NLP_Day_4_LSTM.ipynb\n",
    "[github](https://github.com/Sufiyan999/PW-DataScience-Masters/blob/master/Resources/10.%20%20%20%20OCTOBER/15%20%20%20%20%20%20%20%20%20%20%20%20%20%20%20LSTM%20%20%20%20%20Bi-directional%20-%20rnn_lstm//NLP_Day_4_LSTM.ipynb)\n",
    "-->\n",
    "\n"
   ]
  },
  {
   "cell_type": "markdown",
   "id": "1e26a6ad",
   "metadata": {},
   "source": [
    "\n",
    "<!--\n",
    "\n",
    " \n",
    " ----------------------------------------------------------------------------------------------------\n",
    "local_R  :   D:\\Data Science\\\\Resources\\10.    OCTOBER\\15               LSTM     Bi-directional - rnn_lstm\\\\NLP_Day_4_LSTM.ipynb\n",
    "----------------------------------------------------------------------------------------------------\n",
    "github_link_R  :   https://github.com/Sufiyan999/PW-DataScience-Masters/blob/master/Resources/10.%20%20%20%20OCTOBER/15%20%20%20%20%20%20%20%20%20%20%20%20%20%20%20LSTM%20%20%20%20%20Bi-directional%20-%20rnn_lstm//NLP_Day_4_LSTM.ipynb\n",
    "----------------------------------------------------------------------------------------------------\n",
    "colab_link_R  :   https://colab.research.google.com/github/Sufiyan999/PW-DataScience-Masters/blob/master/Resources/10.%20%20%20%20OCTOBER/15%20%20%20%20%20%20%20%20%20%20%20%20%20%20%20LSTM%20%20%20%20%20Bi-directional%20-%20rnn_lstm//NLP_Day_4_LSTM.ipynb\n",
    "----------------------------------------------------------------------------------------------------\n",
    "md_colab_R  :    \n",
    "<a href=\"https://colab.research.google.com/github/Sufiyan999/PW-DataScience-Masters/blob/master/Resources/10.%20%20%20%20OCTOBER/15%20%20%20%20%20%20%20%20%20%20%20%20%20%20%20LSTM%20%20%20%20%20Bi-directional%20-%20rnn_lstm//NLP_Day_4_LSTM.ipynb\" target=\"_blank\" style=\"position: relative; bottom: 5px; left: 5px; font-size: 10px; color: white; text-decoration: none;\">\n",
    "  <img src=\"https://colab.research.google.com/assets/colab-badge.svg\" alt=\"Open In Colab\" style=\"vertical-align: middle;\" /> \n",
    "</a>\n",
    "\n",
    "----------------------------------------------------------------------------------------------------\n",
    "nbviewer_link_R  :   https://nbviewer.jupyter.org/github/Sufiyan999/PW-DataScience-Masters/blob/master/Resources/10.%20%20%20%20OCTOBER/15%20%20%20%20%20%20%20%20%20%20%20%20%20%20%20LSTM%20%20%20%20%20Bi-directional%20-%20rnn_lstm//NLP_Day_4_LSTM.ipynb\n",
    "----------------------------------------------------------------------------------------------------\n",
    "md_nbviewer_R  :      \n",
    "<a href=\"https://nbviewer.jupyter.org/github/Sufiyan999/PW-DataScience-Masters/blob/master/Resources/10.%20%20%20%20OCTOBER/15%20%20%20%20%20%20%20%20%20%20%20%20%20%20%20LSTM%20%20%20%20%20Bi-directional%20-%20rnn_lstm//NLP_Day_4_LSTM.ipynb\"  target=\"_blank\" style=\"position: relative; bottom: 5px; left: 5px; font-size: 10px; color: white; text-decoration: none;\" >\n",
    "<img src=\"https://raw.githubusercontent.com/jupyter/design/master/logos/Badges/nbviewer_badge.svg\" alt=\"Render nbviewer\"  style=\"vertical-align: middle;\"/>\n",
    "</a>\n",
    "\n",
    "----------------------------------------------------------------------------------------------------\n",
    "kaggle_link_R  :   https://kaggle.com/kernels/welcome?src=https://github.com/Sufiyan999/PW-DataScience-Masters/blob/master/Resources/10.%20%20%20%20OCTOBER/15%20%20%20%20%20%20%20%20%20%20%20%20%20%20%20LSTM%20%20%20%20%20Bi-directional%20-%20rnn_lstm//NLP_Day_4_LSTM.ipynb\n",
    "----------------------------------------------------------------------------------------------------\n",
    "md_kaggle_R  :   \n",
    "<a target=\"_blank\" href=\"https://kaggle.com/kernels/welcome?src=https://github.com/Sufiyan999/PW-DataScience-Masters/blob/master/Resources/10.%20%20%20%20OCTOBER/15%20%20%20%20%20%20%20%20%20%20%20%20%20%20%20LSTM%20%20%20%20%20Bi-directional%20-%20rnn_lstm//NLP_Day_4_LSTM.ipynb\" style=\"position: relative; bottom: 5px; left: 5px; font-size: 10px; color: white; text-decoration: none;\">\n",
    "<img src=\"https://kaggle.com/static/images/open-in-kaggle.svg\" / alt=\"Open In Kaggle\" style=\"vertical-align: middle;\" />\n",
    "</a> \n",
    "\n",
    "   \n",
    "----------------------------------------------------------------------------------------------------\n",
    "sub_folder  :   https://github.com/Sufiyan999/PW-DataScience-Masters/blob/master/Resources/10.%20%20%20%20OCTOBER/15%20%20%20%20%20%20%20%20%20%20%20%20%20%20%20LSTM%20%20%20%20%20Bi-directional%20-%20rnn_lstm//\n",
    "----------------------------------------------------------------------------------------------------\n",
    "month_folder  :   https://github.com/Sufiyan999/PW-DataScience-Masters/blob/master/Resources/10.%20%20%20%20OCTOBER/\n",
    "----------------------------------------------------------------------------------------------------\n",
    "md_github_link_R  :   [github](https://github.com/Sufiyan999/PW-DataScience-Masters/blob/master/Resources/10.%20%20%20%20OCTOBER/15%20%20%20%20%20%20%20%20%20%20%20%20%20%20%20LSTM%20%20%20%20%20Bi-directional%20-%20rnn_lstm//NLP_Day_4_LSTM.ipynb)\n",
    "----------------------------------------------------------------------------------------------------\n",
    "raw_github_link_R  :   https://raw.githubusercontent.com/Sufiyan999/PW-DataScience-Masters/master/Resources/10.%20%20%20%20OCTOBER/15%20%20%20%20%20%20%20%20%20%20%20%20%20%20%20LSTM%20%20%20%20%20Bi-directional%20-%20rnn_lstm//NLP_Day_4_LSTM.ipynb\n",
    "----------------------------------------------------------------------------------------------------\n",
    " \n",
    "-->\n"
   ]
  },
  {
   "cell_type": "markdown",
   "id": "83f8f0f0",
   "metadata": {},
   "source": [
    "## <p style=\"padding:10px;background-color: #01DFD7 ;margin:10;color: white ;font-family:newtimeroman;font-size:100%;text-align:center;border-radius: 10px 10px ;overflow:hidden;font-weight:50\">END</p> \n"
   ]
  }
 ],
 "metadata": {
  "accelerator": "GPU",
  "colab": {
   "gpuType": "T4",
   "provenance": []
  },
  "kernelspec": {
   "display_name": "Python 3",
   "name": "python3"
  },
  "language_info": {
   "name": "python"
  }
 },
 "nbformat": 4,
 "nbformat_minor": 0
}
