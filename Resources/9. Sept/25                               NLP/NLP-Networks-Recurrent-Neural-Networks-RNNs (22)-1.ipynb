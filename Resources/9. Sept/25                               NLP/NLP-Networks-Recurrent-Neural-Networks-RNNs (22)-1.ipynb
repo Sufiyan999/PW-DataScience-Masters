{
  "nbformat": 4,
  "nbformat_minor": 0,
  "metadata": {
    "colab": {
      "provenance": []
    },
    "kernelspec": {
      "name": "python3",
      "display_name": "Python 3"
    },
    "language_info": {
      "name": "python"
    }
  },
  "cells": [
    {
      "cell_type": "markdown",
      "source": [
        "**Step 1: Import Libraries**"
      ],
      "metadata": {
        "id": "IkESMUSgQP44"
      }
    },
    {
      "cell_type": "code",
      "execution_count": 3,
      "metadata": {
        "id": "KpXQsS8nP9e6"
      },
      "outputs": [],
      "source": [
        "import numpy as np\n",
        "import tensorflow as tf\n",
        "from tensorflow.keras.models import Sequential\n",
        "from tensorflow.keras.layers import Embedding, SimpleRNN, Dense\n",
        "from tensorflow.keras.preprocessing.text import Tokenizer\n",
        "from tensorflow.keras.preprocessing.sequence import pad_sequences\n",
        "\n",
        "\n",
        "#In this step, you import the necessary libraries, including NumPy for numerical operations\n",
        "#and TensorFlow/Keras for building and training neural networks.\n"
      ]
    },
    {
      "cell_type": "markdown",
      "source": [
        "**Step 2: Sample Text Data and Labels**"
      ],
      "metadata": {
        "id": "qzRjXh2UQmSE"
      }
    },
    {
      "cell_type": "code",
      "source": [
        "texts = [\n",
        "    \"This is a positive review.\",\n",
        "    \"I love this product.\",\n",
        "    \"Negative experience, would not recommend.\",\n",
        "    \"Terrible customer service.\",\n",
        "]\n",
        "\n",
        "labels = [1, 1, 0, 0]  # 1 for positive, 0 for negative\n",
        "\n",
        "\n",
        "\n",
        "\n",
        "#Here, you define sample text data (texts) and their corresponding labels (labels).\n",
        "#This dataset is used for sentiment analysis, where positive reviews are labeled as 1,\n",
        "#and negative reviews are labeled as 0."
      ],
      "metadata": {
        "id": "lWAsqydTQM0X"
      },
      "execution_count": 4,
      "outputs": []
    },
    {
      "cell_type": "markdown",
      "source": [
        "**Step 3: Tokenization and Padding**"
      ],
      "metadata": {
        "id": "Luk91-OgQ3zU"
      }
    },
    {
      "cell_type": "code",
      "source": [
        "tokenizer = Tokenizer(num_words=1000, oov_token=\"<OOV>\")\n",
        "tokenizer.fit_on_texts(texts)\n",
        "sequences = tokenizer.texts_to_sequences(texts)\n",
        "padded_sequences = pad_sequences(sequences, maxlen=10, padding=\"post\", truncating=\"post\")\n",
        "\n",
        "\n",
        "\n",
        "#In this step, you preprocess the text data:\n",
        "#Tokenizer is used to convert text into sequences of integers and\n",
        "#create a vocabulary with a maximum of 1000 words.\n",
        "#texts_to_sequences converts the text into sequences of integer tokens.\n",
        "#pad_sequences ensures that all sequences have the same length (in this case, 10)\n",
        "#by padding shorter sequences with zeros and truncating longer sequences."
      ],
      "metadata": {
        "id": "qaktqP1rQ5UA"
      },
      "execution_count": 5,
      "outputs": []
    },
    {
      "cell_type": "markdown",
      "source": [
        "**Step 4: Define the RNN Model**"
      ],
      "metadata": {
        "id": "Ms3qhNHBREQv"
      }
    },
    {
      "cell_type": "code",
      "source": [
        "model = Sequential()\n",
        "\n",
        "model.add(Embedding(input_dim=1000, output_dim=16, input_length=10))\n",
        "model.add(SimpleRNN(32))\n",
        "model.add(Dense(1, activation=\"sigmoid\"))\n",
        "\n",
        "\n",
        "\n",
        "#Here, you define the RNN model using Keras:\n",
        "#An Embedding layer is used for word embeddings. It converts integer sequences into dense vectors.\n",
        "#A SimpleRNN layer with 32 units is added. This layer captures sequential patterns in the data.\n",
        "#A Dense layer with one output unit and a sigmoid activation function is added for binary sentiment classification."
      ],
      "metadata": {
        "id": "o3HR8sELRGDE"
      },
      "execution_count": 6,
      "outputs": []
    },
    {
      "cell_type": "markdown",
      "source": [
        "**Step 5: Compile the Model**"
      ],
      "metadata": {
        "id": "jEu9aVjsRSTD"
      }
    },
    {
      "cell_type": "code",
      "source": [
        "model.compile(optimizer=\"adam\", loss=\"binary_crossentropy\", metrics=[\"accuracy\"])\n",
        "\n",
        "\n",
        "#You compile the model by specifying the optimizer (Adam),\n",
        "#loss function (binary cross-entropy), and evaluation metric (accuracy) for training."
      ],
      "metadata": {
        "id": "usQbAvHJRTk4"
      },
      "execution_count": 7,
      "outputs": []
    },
    {
      "cell_type": "markdown",
      "source": [
        "**Step 6: Train the Model**"
      ],
      "metadata": {
        "id": "j4IJjyS4Ra7v"
      }
    },
    {
      "cell_type": "code",
      "source": [
        "model = Sequential()\n",
        "\n",
        "model.add(Embedding(input_dim=1000, output_dim=16, input_length=10))\n",
        "model.add(SimpleRNN(32))\n",
        "model.add(Dense(1, activation=\"sigmoid\"))\n",
        "\n",
        "\n",
        "#This step trains the model using the preprocessed data (padded_sequences) and labels.\n",
        "#The model is trained for 10 epochs, adjusting its internal parameters to minimize the loss function."
      ],
      "metadata": {
        "id": "AQ9Y_egWRcfO"
      },
      "execution_count": 9,
      "outputs": []
    },
    {
      "cell_type": "markdown",
      "source": [
        "**Step 7: Make Predictions**"
      ],
      "metadata": {
        "id": "_bynmg7KRmpc"
      }
    },
    {
      "cell_type": "code",
      "source": [
        "test_texts = [\"Great service!\", \"Awful experience.\"]\n",
        "test_sequences = tokenizer.texts_to_sequences(test_texts)\n",
        "padded_test_sequences = pad_sequences(test_sequences, maxlen=10, padding=\"post\", truncating=\"post\")\n",
        "predictions = model.predict(padded_test_sequences)\n",
        "\n",
        "for i, text in enumerate(test_texts):\n",
        "    sentiment = \"positive\" if predictions[i] > 0.5 else \"negative\"\n",
        "    print(f\"Text: {text} | Predicted sentiment: {sentiment}\")\n",
        "\n",
        "\n",
        "\n",
        "#Finally, you use the trained model to make predictions on new test data (test_texts).\n",
        "#The code tokenizes and pads the test data similarly to the training data, and then\n",
        "#the model predicts the sentiment of each text. Predictions are printed, and \"positive\" or \"negative\"\n",
        "#labels are assigned based on the model's output."
      ],
      "metadata": {
        "colab": {
          "base_uri": "https://localhost:8080/"
        },
        "id": "8Gm5mmNmRoTk",
        "outputId": "a2895da4-282b-473e-d3c1-239d630c28f7"
      },
      "execution_count": 10,
      "outputs": [
        {
          "output_type": "stream",
          "name": "stdout",
          "text": [
            "1/1 [==============================] - 0s 263ms/step\n",
            "Text: Great service! | Predicted sentiment: negative\n",
            "Text: Awful experience. | Predicted sentiment: negative\n"
          ]
        }
      ]
    }
  ]
}