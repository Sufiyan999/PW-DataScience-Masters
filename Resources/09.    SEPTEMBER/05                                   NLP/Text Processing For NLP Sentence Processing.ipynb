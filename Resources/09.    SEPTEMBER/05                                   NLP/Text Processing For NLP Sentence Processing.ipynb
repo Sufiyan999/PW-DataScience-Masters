{
 "cells": [
  {
   "cell_type": "markdown",
   "metadata": {},
   "source": [
    "# Importing Necessary Libraries "
   ]
  },
  {
   "cell_type": "code",
   "execution_count": 1,
   "metadata": {},
   "outputs": [],
   "source": [
    "import nltk\n",
    "from nltk.tokenize import sent_tokenize"
   ]
  },
  {
   "cell_type": "markdown",
   "metadata": {},
   "source": [
    "# Sample text "
   ]
  },
  {
   "cell_type": "code",
   "execution_count": 2,
   "metadata": {},
   "outputs": [],
   "source": [
    "text = \"This is the first sentence. Here comes the second sentence. Finally, the third sentence.\""
   ]
  },
  {
   "cell_type": "markdown",
   "metadata": {},
   "source": [
    "# Tokenize into sentences "
   ]
  },
  {
   "cell_type": "code",
   "execution_count": 3,
   "metadata": {},
   "outputs": [
    {
     "name": "stdout",
     "output_type": "stream",
     "text": [
      "Tokenize into sentences\n",
      "Tokenized sentences: ['This is the first sentence.', 'Here comes the second sentence.', 'Finally, the third sentence.']\n",
      "\n"
     ]
    }
   ],
   "source": [
    "print(\"Tokenize into sentences\")\n",
    "sentences = sent_tokenize(text)\n",
    "print(\"Tokenized sentences:\", sentences)\n",
    "print()"
   ]
  },
  {
   "cell_type": "markdown",
   "metadata": {},
   "source": [
    "# Count sentences "
   ]
  },
  {
   "cell_type": "code",
   "execution_count": 4,
   "metadata": {},
   "outputs": [
    {
     "name": "stdout",
     "output_type": "stream",
     "text": [
      "Count sentences\n",
      "Number of sentences: 3\n",
      "\n"
     ]
    }
   ],
   "source": [
    "print(\"Count sentences\")\n",
    "num_sentences = len(sentences)\n",
    "print(\"Number of sentences:\", num_sentences)\n",
    "print()"
   ]
  },
  {
   "cell_type": "markdown",
   "metadata": {},
   "source": [
    "# Finding the longest sentence "
   ]
  },
  {
   "cell_type": "code",
   "execution_count": 5,
   "metadata": {},
   "outputs": [
    {
     "name": "stdout",
     "output_type": "stream",
     "text": [
      "Finding the longest sentence\n",
      "Longest sentence: Here comes the second sentence.\n",
      "\n"
     ]
    }
   ],
   "source": [
    "print(\"Finding the longest sentence\")\n",
    "longest_sentence = max(sentences, key=len)\n",
    "print(\"Longest sentence:\", longest_sentence)\n",
    "print()"
   ]
  },
  {
   "cell_type": "markdown",
   "metadata": {},
   "source": [
    "# Removing punctuation from sentences "
   ]
  },
  {
   "cell_type": "code",
   "execution_count": 6,
   "metadata": {},
   "outputs": [
    {
     "name": "stdout",
     "output_type": "stream",
     "text": [
      "Removing punctuation from sentences\n",
      "Sentences without punctuation: ['This is the first sentence', 'Here comes the second sentence', 'Finally the third sentence']\n"
     ]
    }
   ],
   "source": [
    "print(\"Removing punctuation from sentences\")\n",
    "import string\n",
    "\n",
    "def remove_punctuation(sentence):\n",
    "    translator = str.maketrans(\"\", \"\", string.punctuation)\n",
    "    return sentence.translate(translator)\n",
    "\n",
    "cleaned_sentences = [remove_punctuation(sentence) for sentence in sentences]\n",
    "print(\"Sentences without punctuation:\", cleaned_sentences)"
   ]
  },
  {
   "cell_type": "code",
   "execution_count": null,
   "metadata": {},
   "outputs": [],
   "source": []
  }
 ],
 "metadata": {
  "kernelspec": {
   "display_name": "Python 3",
   "language": "python",
   "name": "python3"
  },
  "language_info": {
   "codemirror_mode": {
    "name": "ipython",
    "version": 3
   },
   "file_extension": ".py",
   "mimetype": "text/x-python",
   "name": "python",
   "nbconvert_exporter": "python",
   "pygments_lexer": "ipython3",
   "version": "3.8.5"
  }
 },
 "nbformat": 4,
 "nbformat_minor": 4
}
