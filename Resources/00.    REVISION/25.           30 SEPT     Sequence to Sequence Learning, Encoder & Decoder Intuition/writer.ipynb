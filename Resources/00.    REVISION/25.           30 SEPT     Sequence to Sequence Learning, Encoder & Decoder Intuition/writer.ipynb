{
 "cells": [
  {
   "cell_type": "code",
   "execution_count": 1,
   "metadata": {},
   "outputs": [],
   "source": [
    "import os\n",
    "\n",
    "folder_dict = {\n",
    "    \"a\" : \"Assignments\" ,\n",
    "    'q': \"Questions\" ,\n",
    "    \"r\" : \"Resources\" \n",
    "}\n",
    "\n",
    "def generate_github_link(local_path , folder_key = \"a\"):\n",
    "    # Convert backslashes to forward slashes (for Windows paths)\n",
    "\n",
    "    local_path = local_path.replace(\"\\\\\", \"$\").replace(\"/\", \"$\")\n",
    "\n",
    "    # Split the local path to get parts\n",
    "    path_parts = local_path.split(\"$\")\n",
    "    print(\"\\nDecomposition -->>\", path_parts)\n",
    "    \n",
    "    folder = folder_dict[folder_key]\n",
    "    # Find the index of the 'Assignments' directory\n",
    "    assignments_index = path_parts.index(folder)\n",
    "\n",
    "    # Extract the relevant part of the path\n",
    "    relevant_path = \"/\".join(path_parts[assignments_index:]).replace(' ' ,\"%20\")\n",
    "\n",
    "    # Construct the GitHub link\n",
    "    github_link = f\"https://github.com/Sufiyan999/PW-DataScience-Masters/blob/master/{relevant_path}\"\n",
    "\n",
    "    return github_link\n",
    "\n",
    "def main():\n",
    "        ff = \"\"\"   \n",
    "        \"a\" --- \"Assignments\" ,\n",
    "        'q' --- \"Questions\" ,\n",
    "        \"r\" --- \"Resources\" \n",
    "        \n",
    "        Enter the folder key    :\n",
    "      \n",
    "      \"\"\"\n",
    "    \n",
    "        # local_path_assignments = r\"D:\\Data Science\\Assignments\\01.    JANUARY\\29_jan_assign.ipynb\"\n",
    "        local_path = input(r\"Enter the local path in D:\\Data Science:  \")\n",
    "        folder_key = input(ff).lower()\n",
    "        \n",
    "        local_path = local_path.strip('\"').strip(\" \")\n",
    "        print(\"-\"*50+f\"\\nyour entered local path -->  \" , local_path)\n",
    "        github_link_assignments = generate_github_link(local_path , folder_key)\n",
    "        print(f\"\\n GitHub link -->>> {github_link_assignments}\")\n",
    "        \n",
    "        if folder_key == \"a\" :\n",
    "             print(f\"\\n[Answer]({github_link_assignments})\")\n",
    "        if folder_key == \"q\" :\n",
    "             print(f\"\\n[Question Bank]({github_link_assignments})\") \n",
    "                 \n",
    "        return github_link_assignments\n",
    "\n",
    "# main()"
   ]
  },
  {
   "cell_type": "code",
   "execution_count": 2,
   "metadata": {},
   "outputs": [],
   "source": [
    "import nbformat\n",
    "from nbformat.v4 import new_markdown_cell\n",
    "import os\n",
    "\n",
    "def insert_markdown_cell_at_end(file_path, content):\n",
    "\n",
    "    with open(file_path, 'r', encoding='utf-8') as notebook_file:\n",
    "        notebook = nbformat.read(notebook_file, as_version=4)\n",
    "    markdown_cell = new_markdown_cell(source=content)\n",
    "    notebook['cells'].append(markdown_cell)\n",
    "    with open(file_path, 'w', encoding='utf-8') as modified_file:\n",
    "        nbformat.write(notebook, modified_file)\n",
    "        \n",
    "        \n",
    "def insert_markdown_cell_at_index(file_path, content , index = 0):\n",
    "\n",
    "    with open(file_path, 'r', encoding='utf-8') as notebook_file:\n",
    "        notebook = nbformat.read(notebook_file, as_version=4)\n",
    "    markdown_cell = new_markdown_cell(source=content)\n",
    "    if index == -1:\n",
    "          notebook['cells'].append(markdown_cell)\n",
    "    else:\n",
    "          notebook['cells'].insert(index , markdown_cell)\n",
    "          \n",
    "    with open(file_path, 'w', encoding='utf-8') as modified_file:\n",
    "        nbformat.write(notebook, modified_file)        \n",
    "\n",
    "def get_notebook_path():\n",
    "        path_list = [path for path in os.listdir(os.getcwd()) if path.endswith(\"ipynb\")]\n",
    "        for i , path in enumerate(path_list):\n",
    "            print(f\"\\t{i}  --  {path}\")\n",
    "            \n",
    "        index = int(input(\"\\n Enter  ^   Notebook Path index :  \" ) )\n",
    "        return path_list[index]\n",
    "        \n",
    "def main():    \n",
    "            notebook_path = get_notebook_path()\n",
    "            print(f\"Chosen Notebook's path ---> {notebook_path}\")\n",
    "\n",
    "            string_to_append = input(\"\\n Enter the string to be appended in the notebook : \")\n",
    "\n",
    "\n",
    "            ff = \"\"\"\n",
    "            Enter The Place \n",
    "            u  --  At The First\n",
    "            d  --   At The End   \n",
    "            c  --  Custom Index\n",
    "            :   \"\"\"\n",
    "\n",
    "            place = input(ff).lower()\n",
    "\n",
    "            if place == 'u':\n",
    "                        insert_markdown_cell_at_index(notebook_path, string_to_append , index = 0)\n",
    "                        \n",
    "            elif place == \"d\":\n",
    "                        append_markdown_cell_at_end(notebook_path, string_to_append)\n",
    "            \n",
    "            elif place == 'c':\n",
    "                        \n",
    "                        with open(notebook_path , 'r', encoding='utf-8') as notebook_file:\n",
    "                                    notebook = nbformat.read(notebook_file, as_version=4)\n",
    "                                    \n",
    "                        no_of_cells = len(notebook['cells'])  \n",
    "                        print(f\"Enter the custom index in {no_of_cells}:\")          \n",
    "                        custom_index = int(input())            \n",
    "                        \n",
    "                        insert_markdown_cell_at_index(notebook_path, string_to_append , index = custom_index)\n",
    "                        \n",
    "                        \n",
    "# main()                "
   ]
  },
  {
   "cell_type": "code",
   "execution_count": null,
   "metadata": {},
   "outputs": [],
   "source": []
  },
  {
   "cell_type": "code",
   "execution_count": 15,
   "metadata": {},
   "outputs": [],
   "source": [
    "import os\n",
    "import json\n",
    "\n",
    "metadata = \"metadata.json\"\n",
    "with open(metadata, \"r\") as meta_file:\n",
    "   meta = json.load(meta_file)\n",
    "   \n",
    "head = meta[\"head\"]\n",
    "local_A = meta[\"local_A\"]\n",
    "local_Q = meta[\"local_Q\"]\n",
    "date = meta[\"date\"]\n",
    "   "
   ]
  },
  {
   "cell_type": "code",
   "execution_count": 16,
   "metadata": {},
   "outputs": [
    {
     "name": "stdout",
     "output_type": "stream",
     "text": [
      "--------------------------------------------------\n",
      "your entered local path -->   D:\\Data Science\\Assignments\\01.    JANUARY\\30_jan_assign.ipynb\n",
      "\n",
      "Decomposition -->> ['D:', 'Data Science', 'Assignments', '01.    JANUARY', '30_jan_assign.ipynb']\n",
      "\n",
      " GitHub link -->>> https://github.com/Sufiyan999/PW-DataScience-Masters/blob/master/Assignments/01.%20%20%20%20JANUARY/30_jan_assign.ipynb\n",
      "\n",
      "[Answer](https://github.com/Sufiyan999/PW-DataScience-Masters/blob/master/Assignments/01.%20%20%20%20JANUARY/30_jan_assign.ipynb)\n",
      "--------------------------------------------------\n",
      "your entered local path -->   D:\\Data Science\\Questions\\01.    JANUARY\\30 January PYTHON.pdf\n",
      "\n",
      "Decomposition -->> ['D:', 'Data Science', 'Questions', '01.    JANUARY', '30 January PYTHON.pdf']\n",
      "\n",
      " GitHub link -->>> https://github.com/Sufiyan999/PW-DataScience-Masters/blob/master/Questions/01.%20%20%20%20JANUARY/30%20January%20PYTHON.pdf\n",
      "\n",
      "[Question](https://github.com/Sufiyan999/PW-DataScience-Masters/blob/master/Questions/01.%20%20%20%20JANUARY/30%20January%20PYTHON.pdf)\n"
     ]
    }
   ],
   "source": [
    "folder_key = \"a\"\n",
    "local_A = local_A.strip('\"').strip(\" \").strip(\"'\")\n",
    "print(\"-\"*50+f\"\\nyour entered local path -->  \" , local_A)\n",
    "github_link_A = generate_github_link(local_A, folder_key)\n",
    "print(f\"\\n GitHub link -->>> {github_link_A}\")\n",
    "readme_A = f\"[Answer]({github_link_A})\"\n",
    "print(\"\\n\" + readme_A)\n",
    "\n",
    "\n",
    "\n",
    "folder_key = \"q\"\n",
    "local_Q = local_Q.strip('\"').strip(\" \").strip(\"'\")\n",
    "print(\"-\"*50+f\"\\nyour entered local path -->  \" , local_Q)\n",
    "\n",
    "github_link_Q = generate_github_link(local_Q, folder_key)\n",
    "print(f\"\\n GitHub link -->>> {github_link_Q}\")\n",
    "\n",
    "readme_Q = f\"[Question]({github_link_Q})\"\n",
    "print(\"\\n\" + readme_Q)\n",
    "\n",
    "meta[\"github_link_Q\"] =github_link_Q\n",
    "meta[\"github_link_A\"] =github_link_A\n",
    "meta[\"readme_Q\"] =readme_Q\n",
    "meta[\"readme_A\"] =readme_A\n"
   ]
  },
  {
   "cell_type": "code",
   "execution_count": 19,
   "metadata": {},
   "outputs": [
    {
     "name": "stdout",
     "output_type": "stream",
     "text": [
      "\n",
      "Decomposition -->> ['https:', '', 'github.com', 'Sufiyan999', 'PW-DataScience-Masters', 'blob', 'master', 'Assignments', '01.%20%20%20%20JANUARY', '30_jan_assign.ipynb']\n"
     ]
    },
    {
     "data": {
      "text/plain": [
       "'https://colab.research.google.com/github/Sufiyan999/PW-DataScience-Masters/blob/master/Assignments/01.%20%20%20%20JANUARY/30_jan_assign.ipynb'"
      ]
     },
     "execution_count": 19,
     "metadata": {},
     "output_type": "execute_result"
    }
   ],
   "source": [
    "pr = \"https://colab.research.google.com/github/\"\n",
    "\n",
    "dollered = github_link_A.replace(\"\\\\\", \"$\").replace(\"/\", \"$\")\n",
    "\n",
    "# Split the local path to get parts\n",
    "path_parts = dollered.split(\"$\")\n",
    "print(\"\\nDecomposition -->>\", path_parts)\n",
    "\n",
    "# Find the index of the 'Assignments' directory\n",
    "_index = path_parts.index(\"Sufiyan999\")\n",
    "\n",
    "# Extract the relevant part of the path\n",
    "relevant_path = \"/\".join(path_parts[_index:]).replace(' ' ,\"%20\")\n",
    "\n",
    "colab_link = f\"{pr}{relevant_path}\"\n",
    "\n",
    "meta[\"colab_link\"] = colab_link\n",
    "readme_colab = f\"\"\" \n",
    "  <a href=\"{colab_link}\" target=\"_blank\" style=\"position: relative; bottom: 10px; left: 10px; font-size: 10px; color: white; text-decoration: none;\">\n",
    "    <img src=\"https://colab.research.google.com/assets/colab-badge.svg\" alt=\"Open In Colab\" style=\"vertical-align: middle;\"> \n",
    "  </a>\n",
    "\"\"\"\n",
    "meta[\"readme_colab\"] = readme_colab\n",
    "\n",
    "colab_link"
   ]
  },
  {
   "cell_type": "code",
   "execution_count": 20,
   "metadata": {},
   "outputs": [],
   "source": [
    "with open(metadata , \"w\") as jsonfile:\n",
    "    json.dump(meta, jsonfile)"
   ]
  },
  {
   "cell_type": "code",
   "execution_count": 21,
   "metadata": {},
   "outputs": [],
   "source": [
    "def generate_html(heading = head ,question_bank = github_link_Q, assignment = github_link_A, colab_link  = colab_link, date = date):\n",
    "\n",
    "    html_code = f\"\"\"\n",
    "    <div style=\"background-color: rgb(30, 5, 119); color: white; padding: 20px; position: relative; text-align: center;\">\n",
    "      <h1 style=\"font-size: 50px; color: rgb(153, 17, 216); padding: 20px;\"><b>{heading}</b></h1>\n",
    "      <br>\n",
    "      <a href=\"{question_bank}\" style=\"position: absolute; bottom: 10px; left: 10px; font-size: 10px; color: white; text-decoration: none;\">\n",
    "        <img src=\"https://github.com/fluidicon.png\" alt=\"GitHub\" style=\"vertical-align: middle; width: 20px; height: 20px;\">  Question Bank \n",
    "      </a>\n",
    "      <p style=\"position: absolute; bottom: 5px; right: 65px; font-size: 10px;\">{date}</p>\n",
    "\n",
    "      <a href=\"{colab_link}\" target=\"_blank\" style=\"position: relative; bottom: 10px; left: 10px; font-size: 10px; color: white; text-decoration: none;\">\n",
    "        <img src=\"https://colab.research.google.com/assets/colab-badge.svg\" alt=\"Open In Colab\" style=\"vertical-align: middle;\"> \n",
    "      </a>\n",
    "    </div>\n",
    "    <div style=\"background-color: rgb(30, 5, 119); color: white; padding: 20px; position: relative; text-align: center;\">\n",
    "      <a href=\"{assignment}\" style=\"position: absolute; bottom: 10px; left: 10px; font-size: 10px; color: white; text-decoration: none;\">\n",
    "        <img src=\"https://github.com/fluidicon.png\" alt=\"GitHub\" style=\"vertical-align: middle; width: 20px; height: 20px;\"> Answer Sheet \n",
    "      </a>\n",
    "    </div>\n",
    "    <div style=\"background-color: rgb(30, 5, 119); padding: 20px; position: relative; border-radius: 0 0 40px 40px;\">\n",
    "    </div>\n",
    "    \"\"\"\n",
    "\n",
    "    return html_code"
   ]
  },
  {
   "cell_type": "code",
   "execution_count": 9,
   "metadata": {},
   "outputs": [],
   "source": [
    "\n",
    "html_code = generate_html()\n",
    "\n",
    "notebook_path = local_A \n",
    "\n",
    "insert_markdown_cell_at_index(notebook_path, html_code , index = 0)"
   ]
  },
  {
   "cell_type": "code",
   "execution_count": 26,
   "metadata": {},
   "outputs": [],
   "source": [
    "notebook_path = local_A \n",
    "# notebook_path = r\"D:\\Data Science\\Assignments\\\\01.    JANUARY\\\\29_jan_assign.ipynb\"\n",
    "no_qs = 10\n",
    "for id in range(1 ,no_qs+1):   \n",
    "    answer_n =f\"\"\"## <a id=\"{id}\"></a> <p style=\"padding:10px;background-color: #00004d ;margin:10;color: white ;font-family:newtimeroman;font-size:100%;text-align:center;border-radius: 10px 10px ;overflow:hidden;font-weight:50\"> Ans {id} </p> \n",
    "\n",
    "    \"\"\"\n",
    "    insert_markdown_cell_at_end(notebook_path, answer_n)"
   ]
  },
  {
   "cell_type": "code",
   "execution_count": 1,
   "metadata": {},
   "outputs": [],
   "source": [
    "def get_button_html(text , link):\n",
    "    return f\"\"\" \n",
    "<div>\n",
    "<button style=\"display: inline-block; padding: 10px 20px; background-color: #f5e1eb; color: #000000; text-decoration: none; border-radius: 5px; border: 1px solid #000000; outline: none;\">\n",
    "<a href=\"{link}\" target=\"_blank\" style=\"color: inherit; text-decoration: none;\">{text}</a>\n",
    "</button>\n",
    "</div>\n",
    "\"\"\""
   ]
  },
  {
   "cell_type": "code",
   "execution_count": 24,
   "metadata": {},
   "outputs": [],
   "source": [
    "\n",
    "use get_button_html(text , link):\n",
    "content = meta[\"readme_A\"] + \"\\n\"*2 + meta[\"readme_Q\"] + \"\\n\"*2 + readme_colab\n",
    "insert_markdown_cell_at_end(notebook_path, content)"
   ]
  },
  {
   "cell_type": "code",
   "execution_count": 25,
   "metadata": {},
   "outputs": [],
   "source": [
    "for i in meta.items():\n",
    "    print(i[0] , end = \" || \")\n",
    " \n",
    "metas = \"\\n \" + \"--\"*50\n",
    "for k,v in meta.items():  \n",
    "      metas += \"\\n\" + str(k)  + \"  :   \"  + str(v)  + \"\\n\" + \"--\"*50    \n",
    "      \n",
    "content = f\"\"\"\n",
    "<!--\n",
    " {metas}\n",
    "-->\n",
    "\"\"\"\n",
    "insert_markdown_cell_at_end(notebook_path, content)"
   ]
  },
  {
   "cell_type": "code",
   "execution_count": null,
   "metadata": {},
   "outputs": [],
   "source": [
    "end = f\"\"\"## <a id=\"100\"></a><p style=\"padding:10px;background-color: #01DFD7 ;margin:10;color: white ;font-family:newtimeroman;font-size:100%;text-align:center;border-radius: 10px 10px ;overflow:hidden;font-weight:50\">END</p> \n",
    "\"\"\"\n",
    "insert_markdown_cell_at_end(notebook_path, end)"
   ]
  },
  {
   "cell_type": "markdown",
   "metadata": {},
   "source": [
    "## for resources"
   ]
  },
  {
   "cell_type": "code",
   "execution_count": 24,
   "metadata": {},
   "outputs": [],
   "source": [
    "meta = {}\n",
    "\n",
    "local_R = r\"D:\\Data Science\\\\Resources\\\\00.    REVISION\\\\25.           30 SEPT     Sequence to Sequence Learning, Encoder & Decoder Intuition\\\\french_to_english.ipynb\"\n",
    "meta[\"local_R\"] = local_R"
   ]
  },
  {
   "cell_type": "code",
   "execution_count": 25,
   "metadata": {},
   "outputs": [
    {
     "name": "stdout",
     "output_type": "stream",
     "text": [
      "--------------------------------------------------\n",
      "your entered local path -->   D:\\Data Science\\\\Resources\\\\00.    REVISION\\\\25.           30 SEPT     Sequence to Sequence Learning, Encoder & Decoder Intuition\\\\french_to_english.ipynb\n",
      "\n",
      "Decomposition -->> ['D:', 'Data Science', '', 'Resources', '', '00.    REVISION', '', '25.           30 SEPT     Sequence to Sequence Learning, Encoder & Decoder Intuition', '', 'french_to_english.ipynb']\n",
      "\n",
      " GitHub link -->>> https://github.com/Sufiyan999/PW-DataScience-Masters/blob/master/Resources//00.%20%20%20%20REVISION//25.%20%20%20%20%20%20%20%20%20%20%2030%20SEPT%20%20%20%20%20Sequence%20to%20Sequence%20Learning,%20Encoder%20&%20Decoder%20Intuition//french_to_english.ipynb\n"
     ]
    }
   ],
   "source": [
    "folder_key = \"r\"\n",
    "local_R = local_R.strip('\"').strip(\" \").strip(\"'\")\n",
    "print(\"-\"*50+f\"\\nyour entered local path -->  \" , local_R)\n",
    "github_link_R = generate_github_link(local_R, folder_key)\n",
    "print(f\"\\n GitHub link -->>> {github_link_R}\")\n",
    "meta[\"github_link_R\"] = github_link_R"
   ]
  },
  {
   "cell_type": "code",
   "execution_count": 26,
   "metadata": {},
   "outputs": [
    {
     "name": "stdout",
     "output_type": "stream",
     "text": [
      "\n",
      "Decomposition -->> ['https:', '', 'github.com', 'Sufiyan999', 'PW-DataScience-Masters', 'blob', 'master', 'Resources', '', '00.%20%20%20%20REVISION', '', '25.%20%20%20%20%20%20%20%20%20%20%2030%20SEPT%20%20%20%20%20Sequence%20to%20Sequence%20Learning,%20Encoder%20&%20Decoder%20Intuition', '', 'french_to_english.ipynb']\n"
     ]
    },
    {
     "data": {
      "text/plain": [
       "'https://colab.research.google.com/github/Sufiyan999/PW-DataScience-Masters/blob/master/Resources//00.%20%20%20%20REVISION//25.%20%20%20%20%20%20%20%20%20%20%2030%20SEPT%20%20%20%20%20Sequence%20to%20Sequence%20Learning,%20Encoder%20&%20Decoder%20Intuition//french_to_english.ipynb'"
      ]
     },
     "execution_count": 26,
     "metadata": {},
     "output_type": "execute_result"
    }
   ],
   "source": [
    "pr = \"https://colab.research.google.com/github/\"\n",
    "\n",
    "dollered = github_link_R.replace(\"\\\\\", \"$\").replace(\"/\", \"$\")\n",
    "\n",
    "# Split the local path to get parts\n",
    "path_parts = dollered.split(\"$\")\n",
    "print(\"\\nDecomposition -->>\", path_parts)\n",
    "\n",
    "# Find the index of the 'Assignments' directory\n",
    "_index = path_parts.index(\"Sufiyan999\")\n",
    "\n",
    "# Extract the relevant part of the path\n",
    "relevant_path = \"/\".join(path_parts[_index:]).replace(' ' ,\"%20\")\n",
    "\n",
    "colab_link_R = f\"{pr}{relevant_path}\"\n",
    "\n",
    "meta[\"colab_link_R\"] = colab_link_R\n",
    "\n",
    "\n",
    "colab_link_R"
   ]
  },
  {
   "cell_type": "code",
   "execution_count": 27,
   "metadata": {},
   "outputs": [
    {
     "data": {
      "text/plain": [
       "'https://github.com/Sufiyan999/PW-DataScience-Masters/blob/master/Resources//00.%20%20%20%20REVISION//25.%20%20%20%20%20%20%20%20%20%20%2030%20SEPT%20%20%20%20%20Sequence%20to%20Sequence%20Learning,%20Encoder%20&%20Decoder%20Intuition//'"
      ]
     },
     "execution_count": 27,
     "metadata": {},
     "output_type": "execute_result"
    }
   ],
   "source": [
    "# path_parts = \"/\".join(path_parts[-1]).replace(' ' ,\"%20\")\n",
    "sub_folder = github_link_R.replace(path_parts[-1] , \"\")\n",
    "meta[\"sub_folder\"] = sub_folder\n",
    "sub_folder"
   ]
  },
  {
   "cell_type": "code",
   "execution_count": null,
   "metadata": {},
   "outputs": [],
   "source": [
    "head = \"French To English\"\n",
    "head_color = \"yellow\"\n",
    "\n",
    "sub_head = \"Sequence to Sequence Learning, Encoder & Decoder Intuition\"\n",
    "sub_head_color= \"rgb(153, 17, 216)\"\n",
    "\n",
    "head = f\"\"\" \n",
    "<h1 style=\"font-size: 50px; color: {head_color}; padding: 20px;\"><b>{head}</b></h1>\n",
    "<h6 style=\"font-size: 30px; color: {sub_head_color}; padding: 20px;\"><b>{sub_head}</b></h6>\n",
    "\"\"\"\n",
    "\n",
    "date = \"30 Sept 2023\"\n",
    "\n",
    "meta[\"head\"] = head\n",
    "meta[\"date\"] = date\n",
    "\n",
    "def generate_html( heading = head ,github_link_R = github_link_R, sub_folder = sub_folder, colab_link  = colab_link_R, date = date):\n",
    "\n",
    "    html_code = f\"\"\"\n",
    "    <div style=\"background-color: rgb(30, 5, 119); color: white; padding: 20px; position: relative; text-align: center;\">\n",
    "      {heading}\n",
    "      <br>\n",
    "      <a href=\"{github_link_R}\" style=\"position: absolute; bottom: 10px; left: 10px; font-size: 10px; color: white; text-decoration: none;\">\n",
    "        <img src=\"https://github.com/fluidicon.png\" alt=\"GitHub\" style=\"vertical-align: middle; width: 20px; height: 20px;\">  Github\n",
    "      </a>\n",
    "      <p style=\"position: absolute; bottom: 5px; right: 65px; font-size: 10px;\">{date}</p>\n",
    "\n",
    "      <a href=\"{colab_link}\" target=\"_blank\" style=\"position: relative; bottom: 10px; left: 10px; font-size: 10px; color: white; text-decoration: none;\">\n",
    "        <img src=\"https://colab.research.google.com/assets/colab-badge.svg\" alt=\"Open In Colab\" style=\"vertical-align: middle;\"> \n",
    "      </a>\n",
    "    </div>\n",
    "    <div style=\"background-color: rgb(30, 5, 119); color: white; padding: 20px; position: relative; text-align: center;\">\n",
    "      <a href=\"{sub_folder}\" style=\"position: absolute; bottom: 10px; left: 10px; font-size: 10px; color: white; text-decoration: none;\">\n",
    "        <img src=\"https://github.com/fluidicon.png\" alt=\"GitHub\" style=\"vertical-align: middle; width: 20px; height: 20px;\">  Repository\n",
    "      </a>\n",
    "    </div>\n",
    "    <div style=\"background-color: rgb(30, 5, 119); padding: 20px; position: relative; border-radius: 0 0 40px 40px;\">\n",
    "    </div>\n",
    "    \"\"\"\n",
    "\n",
    "    return html_code"
   ]
  },
  {
   "cell_type": "code",
   "execution_count": 35,
   "metadata": {},
   "outputs": [],
   "source": [
    "html_code = generate_html()\n",
    "\n",
    "notebook_path = local_R\n",
    "\n",
    "insert_markdown_cell_at_index(notebook_path, html_code , index = 0)"
   ]
  },
  {
   "cell_type": "code",
   "execution_count": null,
   "metadata": {},
   "outputs": [],
   "source": []
  },
  {
   "cell_type": "code",
   "execution_count": 21,
   "metadata": {},
   "outputs": [
    {
     "name": "stdout",
     "output_type": "stream",
     "text": [
      "\n",
      "[github](https://github.com/Sufiyan999/PW-DataScience-Masters/blob/master/Resources//00.%20%20%20%20REVISION//25.%20%20%20%20%20%20%20%20%20%20%2030%20SEPT%20%20%20%20%20Sequence%20to%20Sequence%20Learning,%20Encoder%20&%20Decoder%20Intuition//french_to_english.ipynb)\n"
     ]
    }
   ],
   "source": [
    "md_R = f\"[github]({github_link_R})\"\n",
    "print(\"\\n\" + md_R)\n",
    "meta[\"md_R\"] = md_R"
   ]
  },
  {
   "cell_type": "code",
   "execution_count": 40,
   "metadata": {},
   "outputs": [
    {
     "data": {
      "text/plain": [
       "{'local_R': 'D:\\\\Data Science\\\\\\\\Resources\\\\\\\\00.    REVISION\\\\\\\\25.           30 SEPT     Sequence to Sequence Learning, Encoder & Decoder Intuition\\\\\\\\french_to_english.ipynb',\n",
       " 'github_link_R': 'https://github.com/Sufiyan999/PW-DataScience-Masters/blob/master/Resources//00.%20%20%20%20REVISION//25.%20%20%20%20%20%20%20%20%20%20%2030%20SEPT%20%20%20%20%20Sequence%20to%20Sequence%20Learning,%20Encoder%20&%20Decoder%20Intuition//french_to_english.ipynb',\n",
       " 'colab_link_R': 'https://colab.research.google.com/github/Sufiyan999/PW-DataScience-Masters/blob/master/Resources//00.%20%20%20%20REVISION//25.%20%20%20%20%20%20%20%20%20%20%2030%20SEPT%20%20%20%20%20Sequence%20to%20Sequence%20Learning,%20Encoder%20&%20Decoder%20Intuition//french_to_english.ipynb',\n",
       " 'sub_folder': 'https://github.com/Sufiyan999/PW-DataScience-Masters/blob/master/Resources//00.%20%20%20%20REVISION//25.%20%20%20%20%20%20%20%20%20%20%2030%20SEPT%20%20%20%20%20Sequence%20to%20Sequence%20Learning,%20Encoder%20&%20Decoder%20Intuition//',\n",
       " 'head': ' \\n<h1 style=\"font-size: 50px; color: rgb(153, 17, 216); padding: 20px;\"><b>French To English</b></h1>\\n<h6 style=\"font-size: 30px; color: rgb(153, 17, 216); padding: 20px;\">Sequence to Sequence Learning, Encoder & Decoder Intuition</h6>\\n',\n",
       " 'date': '30 Sept 2023',\n",
       " 'md_colab_R': ' \\n  <a href=\"https://colab.research.google.com/github/Sufiyan999/PW-DataScience-Masters/blob/master/Resources//00.%20%20%20%20REVISION//25.%20%20%20%20%20%20%20%20%20%20%2030%20SEPT%20%20%20%20%20Sequence%20to%20Sequence%20Learning,%20Encoder%20&%20Decoder%20Intuition//french_to_english.ipynb\" target=\"_blank\" style=\"position: relative; bottom: 10px; left: 10px; font-size: 10px; color: white; text-decoration: none;\">\\n    <img src=\"https://colab.research.google.com/assets/colab-badge.svg\" alt=\"Open In Colab\" style=\"vertical-align: middle;\"> \\n  </a>\\n',\n",
       " 'extra': {}}"
      ]
     },
     "execution_count": 40,
     "metadata": {},
     "output_type": "execute_result"
    }
   ],
   "source": [
    "md_colab_R = f\"\"\" \n",
    "  <a href=\"{colab_link_R}\" target=\"_blank\" style=\"position: relative; bottom: 10px; left: 10px; font-size: 10px; color: white; text-decoration: none;\">\n",
    "    <img src=\"https://colab.research.google.com/assets/colab-badge.svg\" alt=\"Open In Colab\" style=\"vertical-align: middle;\"> colab\n",
    "  </a>\n",
    "\"\"\"\n",
    "meta[\"md_colab_R\"] = md_colab_R\n",
    "\n",
    "meta"
   ]
  },
  {
   "cell_type": "code",
   "execution_count": null,
   "metadata": {},
   "outputs": [],
   "source": [
    "def get_button_html(text , link):\n",
    "    return f\"\"\" \n",
    "<div>\n",
    "<button style=\"display: inline-block; padding: 10px 20px; background-color: #f5e1eb; color: #000000; text-decoration: none; border-radius: 5px; border: 1px solid #000000; outline: none;\">\n",
    "<a href=\"{link}\" target=\"_blank\" style=\"color: inherit; text-decoration: none;\">{text}</a>\n",
    "</button>\n",
    "</div>\n",
    "\"\"\""
   ]
  },
  {
   "cell_type": "code",
   "execution_count": 43,
   "metadata": {},
   "outputs": [],
   "source": [
    "github = meta['github_link_R']\n",
    "sub_folder = meta['sub_folder']\n",
    "newline = \"\\n\"\n",
    "\n",
    "content = f\"\"\"\n",
    "[github]({github})  \n",
    "\n",
    "[Repository]({sub_folder}) \n",
    "\n",
    "{meta[\"md_colab_R\"]}\n",
    "\"\"\"\n",
    "insert_markdown_cell_at_end(notebook_path, content)"
   ]
  },
  {
   "cell_type": "code",
   "execution_count": 57,
   "metadata": {},
   "outputs": [
    {
     "name": "stdout",
     "output_type": "stream",
     "text": [
      "https://github.com/Sufiyan999/PW-DataScience-Masters/blob/master/Resources//00.%20%20%20%20REVISION//25.%20%20%20%20%20%20%20%20%20%20%2030%20SEPT%20%20%20%20%20Sequence%20to%20Sequence%20Learning,%20Encoder%20&%20Decoder%20Intuition//\n",
      "Data path on github :  https://github.com/Sufiyan999/PW-DataScience-Masters/blob/master/Resources//00.%20%20%20%20REVISION//25.%20%20%20%20%20%20%20%20%20%20%2030%20SEPT%20%20%20%20%20Sequence%20to%20Sequence%20Learning,%20Encoder%20&%20Decoder%20Intuition//data//fra.txt\n",
      "Raw path on github :  https://raw.githubusercontent.com//Sufiyan999/PW-DataScience-Masters/master/Resources//00.%20%20%20%20REVISION//25.%20%20%20%20%20%20%20%20%20%20%2030%20SEPT%20%20%20%20%20Sequence%20to%20Sequence%20Learning,%20Encoder%20&%20Decoder%20Intuition//data//fra.txt\n"
     ]
    }
   ],
   "source": [
    "import os\n",
    "path_list = [\"data//fra.txt\"]\n",
    "file_name = \"fra.txt\"\n",
    "data = os.path.join(sub_folder , *path_list )\n",
    "\n",
    "print(\"Data path on github : \" ,data)\n",
    "meta[\"data\"] = data\n",
    "\n",
    "raw =    r\"raw.githubusercontent.com/\"\n",
    "git_pre = r\"github.com\"\n",
    "data_raw = data.replace(git_pre ,raw).replace(\"/blob\" , \"\").replace(\"/tree\" ,\"\")\n",
    "print(\"Raw path on github : \" ,data_raw)\n",
    "meta[\"data_raw\"] = data_raw\n",
    "# newline = \"\\n\"\n",
    "\n",
    "content = f\"\"\"\n",
    "  [data]({data})\n",
    "  \n",
    "  [Raw]({data_raw})\n",
    "  \n",
    "<!--\n",
    "\n",
    "import requests\n",
    "\n",
    "url = \"{data_raw}\"\n",
    "\n",
    "response = requests.get(url)\n",
    "\n",
    "with open({file_name}, \"wb\") as file:\n",
    "    file.write(response.content)\n",
    "    \n",
    "   --> \n",
    "  \n",
    "\"\"\"\n",
    "insert_markdown_cell_at_end(notebook_path, content)"
   ]
  },
  {
   "cell_type": "code",
   "execution_count": 58,
   "metadata": {},
   "outputs": [
    {
     "name": "stdout",
     "output_type": "stream",
     "text": [
      "path on github :  https://github.com/Sufiyan999/PW-DataScience-Masters/blob/master/Resources//00.%20%20%20%20REVISION//25.%20%20%20%20%20%20%20%20%20%20%2030%20SEPT%20%20%20%20%20Sequence%20to%20Sequence%20Learning,%20Encoder%20&%20Decoder%20Intuition//data//fra.txt\n"
     ]
    }
   ],
   "source": [
    "import os\n",
    "about = \"Lectures Video link\"\n",
    "path_list = [\"Readme.MD\"]\n",
    "extra = os.path.join(sub_folder , *path_list )\n",
    "\n",
    "print(\"path on github : \" ,extra)\n",
    "\n",
    "meta[about] = extra\n",
    "\n",
    "# raw =    r\"raw.githubusercontent.com/\"\n",
    "# git_pre = r\"github.com\"\n",
    "# data_raw = data.replace(git_pre ,raw).replace(\"/blob\" , \"\").replace(\"/tree\" ,\"\")\n",
    "# print(\"Raw path on github : \" ,data_raw)\n",
    "# meta[\"data_raw\"] = data_raw\n",
    "# newline = \"\\n\"\n",
    "\n",
    "content = f\"\"\"\n",
    "  [{about}]({extra})\n",
    "\n",
    "\"\"\"\n",
    "insert_markdown_cell_at_end(notebook_path, content)\n",
    "\n"
   ]
  },
  {
   "cell_type": "code",
   "execution_count": 64,
   "metadata": {},
   "outputs": [
    {
     "name": "stdout",
     "output_type": "stream",
     "text": [
      "local_R || github_link_R || colab_link_R || sub_folder || head || date || md_colab_R || extra || data || data_raw || Lectures Video link || "
     ]
    }
   ],
   "source": [
    "for i in meta.items():\n",
    "    print(i[0] , end = \" || \")\n",
    " \n",
    "metas = \"\\n \" + \"--\"*50\n",
    "for k,v in meta.items():  \n",
    "      metas += \"\\n\" + str(k)  + \"  :   \"  + str(v)  + \"\\n\" + \"--\"*50    \n",
    "      \n",
    "content = f\"\"\"\n",
    "<!--\n",
    " {metas}\n",
    "-->\n",
    "\"\"\"\n",
    "insert_markdown_cell_at_end(notebook_path, content)"
   ]
  },
  {
   "cell_type": "code",
   "execution_count": 65,
   "metadata": {},
   "outputs": [],
   "source": [
    "end = f\"\"\"## <a id=\"100\"></a><p style=\"padding:10px;background-color: #01DFD7 ;margin:10;color: white ;font-family:newtimeroman;font-size:100%;text-align:center;border-radius: 10px 10px ;overflow:hidden;font-weight:50\">END</p> \n",
    "\"\"\"\n",
    "insert_markdown_cell_at_end(notebook_path, end)"
   ]
  },
  {
   "cell_type": "code",
   "execution_count": null,
   "metadata": {},
   "outputs": [],
   "source": []
  },
  {
   "cell_type": "code",
   "execution_count": 6,
   "metadata": {},
   "outputs": [
    {
     "name": "stdout",
     "output_type": "stream",
     "text": [
      "#a5f849\n",
      "(165, 248, 73)\n",
      "Selected color: ('rgb(165, 248, 73)', (165, 248, 73))\n"
     ]
    }
   ],
   "source": [
    "import tkinter as tk\n",
    "from tkinter import colorchooser\n",
    "\n",
    "def choose_color():\n",
    "    root = tk.Tk()\n",
    "    root.withdraw()  # Hide the main window\n",
    "\n",
    "    color = colorchooser.askcolor(title=\"Choose a color\")[1]\n",
    "    print(color)\n",
    "    if color:\n",
    "        return rgb_to_string(color)\n",
    "    else:\n",
    "        return \"rgb(0, 0, 0)\"  # Default to black if no color selected\n",
    "\n",
    "def rgb_to_string(rgb):\n",
    "    \n",
    "    hex_color = rgb\n",
    "    rgb_tuple = tuple(int(hex_color[i:i+2], 16) for i in (1, 3, 5))\n",
    "\n",
    "    print(rgb_tuple)\n",
    "    \n",
    "    rgb = rgb.replace(\"#\" ,\"\")\n",
    "    rgb = [  rgb[:2] , rgb[2:4] , rgb[4:]   ]\n",
    "    \n",
    "    return f\"rgb{rgb_tuple}\" , rgb_tuple\n",
    "\n",
    "if __name__ == \"__main__\":\n",
    "    selected_color = choose_color()\n",
    "    print(f\"Selected color: {selected_color}\")\n"
   ]
  },
  {
   "cell_type": "code",
   "execution_count": null,
   "metadata": {},
   "outputs": [],
   "source": [
    "\n"
   ]
  },
  {
   "cell_type": "markdown",
   "metadata": {},
   "source": [
    "\n"
   ]
  },
  {
   "cell_type": "markdown",
   "metadata": {},
   "source": []
  }
 ],
 "metadata": {
  "kernelspec": {
   "display_name": "base",
   "language": "python",
   "name": "python3"
  },
  "language_info": {
   "codemirror_mode": {
    "name": "ipython",
    "version": 3
   },
   "file_extension": ".py",
   "mimetype": "text/x-python",
   "name": "python",
   "nbconvert_exporter": "python",
   "pygments_lexer": "ipython3",
   "version": "3.11.5"
  }
 },
 "nbformat": 4,
 "nbformat_minor": 2
}
