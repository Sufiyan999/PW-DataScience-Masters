{
 "cells": [
  {
   "cell_type": "code",
   "execution_count": 1,
   "id": "6b9946b9-5f62-4f1d-af51-49b65f3e3163",
   "metadata": {},
   "outputs": [
    {
     "name": "stdout",
     "output_type": "stream",
     "text": [
      "division by zero\n"
     ]
    }
   ],
   "source": [
    "#use always a specific exception\n",
    "try :\n",
    "    10/0\n",
    "except Exception as e :\n",
    "    print(e)"
   ]
  },
  {
   "cell_type": "code",
   "execution_count": 2,
   "id": "d725b2d9-637f-4ba8-96e2-2adfc03b6ec3",
   "metadata": {},
   "outputs": [
    {
     "name": "stdout",
     "output_type": "stream",
     "text": [
      "division by zero\n"
     ]
    }
   ],
   "source": [
    "try :\n",
    "    10/0\n",
    "except ZeroDivisionError as e :\n",
    "    print(e)"
   ]
  },
  {
   "cell_type": "code",
   "execution_count": 5,
   "id": "67485885-c689-4821-b886-a75295606699",
   "metadata": {},
   "outputs": [
    {
     "name": "stdout",
     "output_type": "stream",
     "text": [
      "i am trying to handle a zerodivision error division by zero\n"
     ]
    }
   ],
   "source": [
    "#print always a proper message \n",
    "try :\n",
    "    10/0\n",
    "except ZeroDivisionError as e :\n",
    "    print(\"i am trying to handle a zerodivision error\"  , e)"
   ]
  },
  {
   "cell_type": "code",
   "execution_count": 7,
   "id": "d3484103-d648-46c9-9fcf-023cf44c00e7",
   "metadata": {},
   "outputs": [],
   "source": [
    "#always try to log your error\n",
    "import logging\n",
    "logging.basicConfig(filename = \"error.log\" , level = logging.ERROR)\n",
    "try :\n",
    "    10/0\n",
    "except ZeroDivisionError as e :\n",
    "    logging.error(\"i am trying to handle a zerodivision error {} \".format(e) )"
   ]
  },
  {
   "cell_type": "code",
   "execution_count": 8,
   "id": "3aeb4196-66a4-4e06-88e7-e11311d8abc4",
   "metadata": {},
   "outputs": [],
   "source": [
    "#alwyas avoid to write a multiple exception handling \n",
    "try :\n",
    "    10/0\n",
    "except FileNotFoundError as e : \n",
    "    logging.error(\"i am handling file not found  {} \".format(e) )\n",
    "except AttributeError as e : \n",
    "    logging.error(\"i am handling Attribute erro  {} \".format(e) )\n",
    "except ZeroDivisionError as e :\n",
    "    logging.error(\"i am trying to handle a zerodivision error {} \".format(e) )"
   ]
  },
  {
   "cell_type": "code",
   "execution_count": 9,
   "id": "46cbdea1-2788-4022-9a7c-0f081dd5c5e4",
   "metadata": {},
   "outputs": [],
   "source": [
    "#Document all the error \n",
    "#cleanup all the resources\n",
    "try :\n",
    "    with open(\"test.txt\" , 'w') as f :\n",
    "        f.write(\"this is my data to file \" )\n",
    "except FileNotFoundError as e : \n",
    "    logging.error(\"i am handling file not found  {} \".format(e) )\n",
    "finally :\n",
    "    f.close()"
   ]
  },
  {
   "cell_type": "code",
   "execution_count": null,
   "id": "4e724889-fef0-41e7-a377-e64ea9537613",
   "metadata": {},
   "outputs": [],
   "source": []
  }
 ],
 "metadata": {
  "kernelspec": {
   "display_name": "Python 3 (ipykernel)",
   "language": "python",
   "name": "python3"
  },
  "language_info": {
   "codemirror_mode": {
    "name": "ipython",
    "version": 3
   },
   "file_extension": ".py",
   "mimetype": "text/x-python",
   "name": "python",
   "nbconvert_exporter": "python",
   "pygments_lexer": "ipython3",
   "version": "3.10.8"
  }
 },
 "nbformat": 4,
 "nbformat_minor": 5
}
