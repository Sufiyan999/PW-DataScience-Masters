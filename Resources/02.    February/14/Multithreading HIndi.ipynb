{
 "cells": [
  {
   "cell_type": "code",
   "execution_count": 1,
   "id": "417bb189-3667-4edd-9b73-ea362dc760b2",
   "metadata": {},
   "outputs": [],
   "source": [
    "import threading"
   ]
  },
  {
   "cell_type": "code",
   "execution_count": 5,
   "id": "8e0e2a36-01af-43df-b241-0470f9fc845f",
   "metadata": {},
   "outputs": [],
   "source": [
    "def test(id):\n",
    "    print(\"prog start %d \"% id)"
   ]
  },
  {
   "cell_type": "code",
   "execution_count": 6,
   "id": "8e6b6868-c42f-452e-b4ee-8d62d818f6f0",
   "metadata": {},
   "outputs": [
    {
     "name": "stdout",
     "output_type": "stream",
     "text": [
      "prog start 45 \n"
     ]
    }
   ],
   "source": [
    "test(45)"
   ]
  },
  {
   "cell_type": "code",
   "execution_count": 9,
   "id": "cd6d0222-fd31-4779-bea8-2ba44abf9892",
   "metadata": {},
   "outputs": [],
   "source": [
    "thread = [threading.Thread(target=test , args=(i,) )for i in range(10)]"
   ]
  },
  {
   "cell_type": "code",
   "execution_count": 10,
   "id": "4471fbd5-1ed9-4cfe-b14d-4556555739f9",
   "metadata": {},
   "outputs": [
    {
     "name": "stdout",
     "output_type": "stream",
     "text": [
      "prog start 0 \n",
      "prog start 1 \n",
      "prog start 2 \n",
      "prog start 3 \n",
      "prog start 4 \n",
      "prog start 5 \n",
      "prog start 6 \n",
      "prog start 7 \n",
      "prog start 8 \n",
      "prog start 9 \n"
     ]
    }
   ],
   "source": [
    "for t in thread : \n",
    "    t.start()"
   ]
  },
  {
   "cell_type": "code",
   "execution_count": 11,
   "id": "3488c0d8-4abe-40c7-979c-226b45bfeef3",
   "metadata": {},
   "outputs": [
    {
     "data": {
      "text/plain": [
       "[0, 1, 2, 3, 4, 5, 6, 7, 8, 9]"
      ]
     },
     "execution_count": 11,
     "metadata": {},
     "output_type": "execute_result"
    }
   ],
   "source": [
    "list(range(10))"
   ]
  },
  {
   "cell_type": "code",
   "execution_count": 12,
   "id": "01909aef-8a41-4d95-ae30-e53ca4d20497",
   "metadata": {},
   "outputs": [
    {
     "data": {
      "text/plain": [
       "[<Thread(Thread-15 (test), stopped 140410037978688)>,\n",
       " <Thread(Thread-16 (test), stopped 140410037978688)>,\n",
       " <Thread(Thread-17 (test), stopped 140410037978688)>,\n",
       " <Thread(Thread-18 (test), stopped 140410037978688)>,\n",
       " <Thread(Thread-19 (test), stopped 140410037978688)>,\n",
       " <Thread(Thread-20 (test), stopped 140410037978688)>,\n",
       " <Thread(Thread-21 (test), stopped 140410037978688)>,\n",
       " <Thread(Thread-22 (test), stopped 140410037978688)>,\n",
       " <Thread(Thread-23 (test), stopped 140410037978688)>,\n",
       " <Thread(Thread-24 (test), stopped 140410037978688)>]"
      ]
     },
     "execution_count": 12,
     "metadata": {},
     "output_type": "execute_result"
    }
   ],
   "source": [
    "thread"
   ]
  },
  {
   "cell_type": "code",
   "execution_count": 13,
   "id": "abc83092-ce36-4938-b770-5bcacda4202f",
   "metadata": {},
   "outputs": [
    {
     "data": {
      "text/plain": [
       "140410039834752"
      ]
     },
     "execution_count": 13,
     "metadata": {},
     "output_type": "execute_result"
    }
   ],
   "source": [
    "id(thread)"
   ]
  },
  {
   "cell_type": "code",
   "execution_count": 15,
   "id": "9376dcc8-36c8-4e46-b36d-2105a949399f",
   "metadata": {},
   "outputs": [],
   "source": [
    "import threading\n",
    "import urllib.request\n",
    "\n",
    "def file_downlaod(url , filname) : \n",
    "    urllib.request.urlretrieve(url,filname)\n",
    "    "
   ]
  },
  {
   "cell_type": "code",
   "execution_count": 16,
   "id": "92684ee5-7bea-4ad3-87f3-920b613d22bf",
   "metadata": {},
   "outputs": [],
   "source": [
    "file_downlaod('https://raw.githubusercontent.com/itsfoss/text-files/master/agatha.txt' , \"test.txt\")"
   ]
  },
  {
   "cell_type": "code",
   "execution_count": 17,
   "id": "1386bd4f-f7a9-44e6-8fea-41586da9fabd",
   "metadata": {},
   "outputs": [],
   "source": [
    "url_list  = ['https://raw.githubusercontent.com/itsfoss/text-files/master/agatha.txt','https://raw.githubusercontent.com/itsfoss/text-files/master/sherlock.txt','https://raw.githubusercontent.com/itsfoss/text-files/master/sample_log_file.txt']"
   ]
  },
  {
   "cell_type": "code",
   "execution_count": 18,
   "id": "df436a8a-ef1b-4e09-9119-69b1457a631b",
   "metadata": {},
   "outputs": [
    {
     "data": {
      "text/plain": [
       "['https://raw.githubusercontent.com/itsfoss/text-files/master/agatha.txt',\n",
       " 'https://raw.githubusercontent.com/itsfoss/text-files/master/sherlock.txt',\n",
       " 'https://raw.githubusercontent.com/itsfoss/text-files/master/sample_log_file.txt']"
      ]
     },
     "execution_count": 18,
     "metadata": {},
     "output_type": "execute_result"
    }
   ],
   "source": [
    "url_list"
   ]
  },
  {
   "cell_type": "code",
   "execution_count": 19,
   "id": "de20107e-ecba-44d6-9cbc-5b77afde35c5",
   "metadata": {},
   "outputs": [],
   "source": [
    "file_name_list = ['data1.txt' , 'data2.txt' , 'data3.txt']"
   ]
  },
  {
   "cell_type": "code",
   "execution_count": 23,
   "id": "34958198-b522-4342-80dd-8a26d525c009",
   "metadata": {},
   "outputs": [],
   "source": [
    "ther = [threading.Thread(target=file_downlaod , args = (url_list[i] , file_name_list[i]) ) for i in range(len(url_list))]"
   ]
  },
  {
   "cell_type": "code",
   "execution_count": 24,
   "id": "3ec112b5-bcca-4961-b3c5-c58abea72205",
   "metadata": {},
   "outputs": [
    {
     "data": {
      "text/plain": [
       "[<Thread(Thread-25 (file_downlaod), initial)>,\n",
       " <Thread(Thread-26 (file_downlaod), initial)>,\n",
       " <Thread(Thread-27 (file_downlaod), initial)>]"
      ]
     },
     "execution_count": 24,
     "metadata": {},
     "output_type": "execute_result"
    }
   ],
   "source": [
    "ther"
   ]
  },
  {
   "cell_type": "code",
   "execution_count": 25,
   "id": "aa9c77ea-3938-4078-904f-29fc5b671671",
   "metadata": {},
   "outputs": [],
   "source": [
    "for t in ther :\n",
    "    t.start()"
   ]
  },
  {
   "cell_type": "code",
   "execution_count": 26,
   "id": "5cd98d1c-cfa9-4b4c-99d3-605ca0ec9924",
   "metadata": {},
   "outputs": [
    {
     "data": {
      "text/plain": [
       "[<Thread(Thread-25 (file_downlaod), stopped 140410037978688)>,\n",
       " <Thread(Thread-26 (file_downlaod), stopped 140410019100224)>,\n",
       " <Thread(Thread-27 (file_downlaod), stopped 140410010707520)>]"
      ]
     },
     "execution_count": 26,
     "metadata": {},
     "output_type": "execute_result"
    }
   ],
   "source": [
    "ther"
   ]
  },
  {
   "cell_type": "code",
   "execution_count": 27,
   "id": "306564fb-6298-468a-baa5-88474d42c9fc",
   "metadata": {},
   "outputs": [],
   "source": [
    "import time "
   ]
  },
  {
   "cell_type": "code",
   "execution_count": 42,
   "id": "b25120cd-66a8-4d48-b8b1-2e369e45e951",
   "metadata": {},
   "outputs": [],
   "source": [
    "def test1(id) :\n",
    "    for i in range(10) : \n",
    "        print(\"test1 %d printing %d %s\" %(id,i,time.ctime()))\n",
    "        time.sleep(1)"
   ]
  },
  {
   "cell_type": "code",
   "execution_count": 43,
   "id": "a745e0df-9b64-4f12-a865-e6658985d1f1",
   "metadata": {},
   "outputs": [
    {
     "name": "stdout",
     "output_type": "stream",
     "text": [
      "test1 0 printing 0 Tue Feb 14 12:06:02 2023\n",
      "test1 0 printing 1 Tue Feb 14 12:06:03 2023\n",
      "test1 0 printing 2 Tue Feb 14 12:06:04 2023\n",
      "test1 0 printing 3 Tue Feb 14 12:06:05 2023\n",
      "test1 0 printing 4 Tue Feb 14 12:06:06 2023\n",
      "test1 0 printing 5 Tue Feb 14 12:06:07 2023\n",
      "test1 0 printing 6 Tue Feb 14 12:06:08 2023\n",
      "test1 0 printing 7 Tue Feb 14 12:06:09 2023\n",
      "test1 0 printing 8 Tue Feb 14 12:06:10 2023\n",
      "test1 0 printing 9 Tue Feb 14 12:06:11 2023\n"
     ]
    }
   ],
   "source": [
    "test1(0)"
   ]
  },
  {
   "cell_type": "code",
   "execution_count": 44,
   "id": "6c6d7de4-ef7d-49e3-b743-7f99c9e54051",
   "metadata": {},
   "outputs": [],
   "source": [
    "thread1 = [threading.Thread(target=test1 , args  = (i,)) for i in range(3)]"
   ]
  },
  {
   "cell_type": "code",
   "execution_count": 45,
   "id": "b856dbc0-49cf-4827-afe4-a0c93a6c266f",
   "metadata": {},
   "outputs": [
    {
     "name": "stdout",
     "output_type": "stream",
     "text": [
      "test1 0 printing 0 Tue Feb 14 12:06:12 2023\n",
      "test1 1 printing 0 Tue Feb 14 12:06:12 2023\n",
      "test1 2 printing 0 Tue Feb 14 12:06:12 2023\n",
      "test1 1 printing 1 Tue Feb 14 12:06:13 2023test1 0 printing 1 Tue Feb 14 12:06:13 2023\n",
      "\n",
      "test1 2 printing 1 Tue Feb 14 12:06:13 2023\n",
      "test1 0 printing 2 Tue Feb 14 12:06:14 2023test1 1 printing 2 Tue Feb 14 12:06:14 2023\n",
      "\n",
      "test1 2 printing 2 Tue Feb 14 12:06:14 2023\n",
      "test1 1 printing 3 Tue Feb 14 12:06:15 2023test1 2 printing 3 Tue Feb 14 12:06:15 2023\n",
      "\n",
      "test1 0 printing 3 Tue Feb 14 12:06:15 2023\n",
      "test1 1 printing 4 Tue Feb 14 12:06:16 2023\n",
      "test1 2 printing 4 Tue Feb 14 12:06:16 2023\n",
      "test1 0 printing 4 Tue Feb 14 12:06:16 2023\n",
      "test1 1 printing 5 Tue Feb 14 12:06:17 2023\n",
      "test1 2 printing 5 Tue Feb 14 12:06:17 2023\n",
      "test1 0 printing 5 Tue Feb 14 12:06:17 2023\n",
      "test1 1 printing 6 Tue Feb 14 12:06:18 2023\n",
      "test1 2 printing 6 Tue Feb 14 12:06:18 2023\n",
      "test1 0 printing 6 Tue Feb 14 12:06:18 2023\n",
      "test1 1 printing 7 Tue Feb 14 12:06:19 2023\n",
      "test1 2 printing 7 Tue Feb 14 12:06:19 2023\n",
      "test1 0 printing 7 Tue Feb 14 12:06:19 2023\n",
      "test1 1 printing 8 Tue Feb 14 12:06:20 2023\n",
      "test1 2 printing 8 Tue Feb 14 12:06:20 2023\n",
      "test1 0 printing 8 Tue Feb 14 12:06:20 2023\n",
      "test1 1 printing 9 Tue Feb 14 12:06:21 2023\n",
      "test1 2 printing 9 Tue Feb 14 12:06:21 2023\n",
      "test1 0 printing 9 Tue Feb 14 12:06:21 2023\n"
     ]
    }
   ],
   "source": [
    "for t in thread1:\n",
    "    t.start()"
   ]
  },
  {
   "cell_type": "code",
   "execution_count": 54,
   "id": "aef2cd10-ec7e-474e-87f9-c085119ec98e",
   "metadata": {},
   "outputs": [],
   "source": [
    "shared_var = 0\n",
    "lock_var = threading.Lock()"
   ]
  },
  {
   "cell_type": "code",
   "execution_count": 82,
   "id": "b80065b1-7239-47ec-93f1-cf95bb1a38ac",
   "metadata": {},
   "outputs": [
    {
     "name": "stdout",
     "output_type": "stream",
     "text": [
      "test2 is 0 has increased the shared variable by 1 \n",
      "test2 is 1 has increased the shared variable by 2 \n",
      "test2 is 2 has increased the shared variable by 3 \n"
     ]
    }
   ],
   "source": [
    "shared_var = 0\n",
    "lock_var = threading.Lock()\n",
    "def test2(id) : \n",
    "    global shared_var\n",
    "    with lock_var:\n",
    "        shared_var = shared_var+1\n",
    "        print(\"test2 is %d has increased the shared variable by %d \" % (id ,shared_var) )\n",
    "        time.sleep(1)\n",
    "ther3 = [threading.Thread(target=test2 , args = (i,) ) for i in range(3)]    \n",
    "for t in ther3:\n",
    "    t.start()"
   ]
  },
  {
   "cell_type": "code",
   "execution_count": 85,
   "id": "1f62ed5f-dd3b-4fe5-ad29-bd68a78d0bd2",
   "metadata": {},
   "outputs": [
    {
     "name": "stdout",
     "output_type": "stream",
     "text": [
      "test2 is 0 has increased the shared variable by 1 \n",
      "test2 is 1 has increased the shared variable by 2 \n",
      "test2 is 2 has increased the shared variable by 3 \n"
     ]
    }
   ],
   "source": [
    "shared_var = 0\n",
    "#lock_var = threading.Lock()\n",
    "def test2(id) : \n",
    "    global shared_var\n",
    "    #with lock_var:\n",
    "    shared_var = shared_var+1\n",
    "    print(\"test2 is %d has increased the shared variable by %d \" % (id ,shared_var) )\n",
    "    time.sleep(1)\n",
    "    \n",
    "ther4 = [threading.Thread(target=test2 , args = (i,) ) for i in range(3)]    \n",
    "for t in ther4:\n",
    "    t.start()"
   ]
  },
  {
   "cell_type": "code",
   "execution_count": 59,
   "id": "bd541d85-20fc-43a3-8429-ca0be2b318d0",
   "metadata": {},
   "outputs": [
    {
     "name": "stdout",
     "output_type": "stream",
     "text": [
      "test2 id is 0 has increased the shared variable by 1 \n"
     ]
    }
   ],
   "source": [
    "test2(0)"
   ]
  },
  {
   "cell_type": "code",
   "execution_count": 60,
   "id": "6a153b43-a970-431d-b5f5-5b90afdc40d7",
   "metadata": {},
   "outputs": [
    {
     "data": {
      "text/plain": [
       "1"
      ]
     },
     "execution_count": 60,
     "metadata": {},
     "output_type": "execute_result"
    }
   ],
   "source": [
    "shared_var"
   ]
  },
  {
   "cell_type": "code",
   "execution_count": null,
   "id": "c6f9a966-0f87-496c-8ebc-515a39551717",
   "metadata": {},
   "outputs": [],
   "source": []
  }
 ],
 "metadata": {
  "kernelspec": {
   "display_name": "Python 3 (ipykernel)",
   "language": "python",
   "name": "python3"
  },
  "language_info": {
   "codemirror_mode": {
    "name": "ipython",
    "version": 3
   },
   "file_extension": ".py",
   "mimetype": "text/x-python",
   "name": "python",
   "nbconvert_exporter": "python",
   "pygments_lexer": "ipython3",
   "version": "3.10.8"
  }
 },
 "nbformat": 4,
 "nbformat_minor": 5
}
