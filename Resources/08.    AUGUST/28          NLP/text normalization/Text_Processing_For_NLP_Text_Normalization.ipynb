{
  "cells": [
    {
      "cell_type": "markdown",
      "metadata": {
        "id": "U90PCsQSoTIk"
      },
      "source": [
        "# Importing necessary libraries"
      ]
    },
    {
      "cell_type": "code",
      "execution_count": 1,
      "metadata": {
        "id": "L_H1WfxJoTIn"
      },
      "outputs": [],
      "source": [
        "import re"
      ]
    },
    {
      "cell_type": "markdown",
      "metadata": {
        "id": "vOCTH0lmoTIo"
      },
      "source": [
        "# Sample text"
      ]
    },
    {
      "cell_type": "code",
      "execution_count": 2,
      "metadata": {
        "id": "9AFBrJMYoTIp"
      },
      "outputs": [],
      "source": [
        "text = \"I can't believe it's that easy! Won't you join us?\""
      ]
    },
    {
      "cell_type": "markdown",
      "metadata": {
        "id": "z4BvBZ4poTIp"
      },
      "source": [
        "# Convert to lowercase"
      ]
    },
    {
      "cell_type": "code",
      "execution_count": 3,
      "metadata": {
        "colab": {
          "base_uri": "https://localhost:8080/"
        },
        "id": "YdrlrlSjoTIq",
        "outputId": "4656c3f6-5348-4d03-d491-978541bf078c"
      },
      "outputs": [
        {
          "output_type": "stream",
          "name": "stdout",
          "text": [
            "Convert to lowercase\n",
            "Lowercase text: i can't believe it's that easy! won't you join us?\n",
            "\n"
          ]
        }
      ],
      "source": [
        "print(\"Convert to lowercase\")\n",
        "lowercase_text = text.lower()\n",
        "print(\"Lowercase text:\", lowercase_text)\n",
        "print()"
      ]
    },
    {
      "cell_type": "markdown",
      "metadata": {
        "id": "rn0FgP45oTIr"
      },
      "source": [
        "# Remove Punctuation"
      ]
    },
    {
      "cell_type": "code",
      "execution_count": 4,
      "metadata": {
        "colab": {
          "base_uri": "https://localhost:8080/"
        },
        "id": "WdvXlTi3oTIs",
        "outputId": "a9bce16f-78a4-49ca-cdbf-cbf7bf580a9d"
      },
      "outputs": [
        {
          "output_type": "stream",
          "name": "stdout",
          "text": [
            "Remove punctuation\n",
            "Text without punctuation: i cant believe its that easy wont you join us\n",
            "\n"
          ]
        }
      ],
      "source": [
        "print(\"Remove punctuation\")\n",
        "cleaned_text = re.sub(r'[^\\w\\s]', '', lowercase_text)\n",
        "print(\"Text without punctuation:\", cleaned_text)\n",
        "print()"
      ]
    },
    {
      "cell_type": "markdown",
      "metadata": {
        "id": "wC0LeLc8oTIs"
      },
      "source": [
        "# Expand Contractions"
      ]
    },
    {
      "cell_type": "code",
      "execution_count": 6,
      "metadata": {
        "colab": {
          "base_uri": "https://localhost:8080/"
        },
        "id": "q__xqPraoTIt",
        "outputId": "50dad9bd-b452-4d5e-c9a7-8ded451560ce"
      },
      "outputs": [
        {
          "output_type": "stream",
          "name": "stdout",
          "text": [
            "{\"can't\": 'cannot', \"won't\": 'will not', \"I'm\": 'I am'}\n"
          ]
        }
      ],
      "source": [
        "\n",
        "contractions_dict = {\n",
        "    \"can't\": \"cannot\",\n",
        "    \"won't\": \"will not\",\n",
        "    \"I'm\": \"I am\",\n",
        "}\n",
        "\n",
        "print(contractions_dict)"
      ]
    },
    {
      "cell_type": "code",
      "execution_count": 7,
      "metadata": {
        "colab": {
          "base_uri": "https://localhost:8080/"
        },
        "id": "4U-eSgcqoTIt",
        "outputId": "a9b32659-be42-4142-ad95-bab4386afcab"
      },
      "outputs": [
        {
          "output_type": "stream",
          "name": "stdout",
          "text": [
            "Text with expanded contractions: i cant believe its that easy wont you join us\n"
          ]
        }
      ],
      "source": [
        "words = cleaned_text.split()\n",
        "expanded_words = [contractions_dict[word] if word in contractions_dict else word for word in words]\n",
        "expanded_text = ' '.join(expanded_words)\n",
        "print(\"Text with expanded contractions:\", expanded_text)"
      ]
    },
    {
      "cell_type": "code",
      "execution_count": null,
      "metadata": {
        "id": "YVpvx0oToTIu"
      },
      "outputs": [],
      "source": []
    }
  ],
  "metadata": {
    "kernelspec": {
      "display_name": "Python 3",
      "language": "python",
      "name": "python3"
    },
    "language_info": {
      "codemirror_mode": {
        "name": "ipython",
        "version": 3
      },
      "file_extension": ".py",
      "mimetype": "text/x-python",
      "name": "python",
      "nbconvert_exporter": "python",
      "pygments_lexer": "ipython3",
      "version": "3.8.5"
    },
    "colab": {
      "provenance": []
    }
  },
  "nbformat": 4,
  "nbformat_minor": 0
}