{
  "cells": [
    {
      "cell_type": "code",
      "execution_count": null,
      "metadata": {
        "colab": {
          "base_uri": "https://localhost:8080/"
        },
        "id": "dvuLcFnclTZ7",
        "outputId": "d054abea-30ce-40f5-d017-644d85056936"
      },
      "outputs": [
        {
          "name": "stdout",
          "output_type": "stream",
          "text": [
            "Sat Mar  5 06:37:06 2022       \n",
            "+-----------------------------------------------------------------------------+\n",
            "| NVIDIA-SMI 460.32.03    Driver Version: 460.32.03    CUDA Version: 11.2     |\n",
            "|-------------------------------+----------------------+----------------------+\n",
            "| GPU  Name        Persistence-M| Bus-Id        Disp.A | Volatile Uncorr. ECC |\n",
            "| Fan  Temp  Perf  Pwr:Usage/Cap|         Memory-Usage | GPU-Util  Compute M. |\n",
            "|                               |                      |               MIG M. |\n",
            "|===============================+======================+======================|\n",
            "|   0  Tesla K80           Off  | 00000000:00:04.0 Off |                    0 |\n",
            "| N/A   48C    P8    32W / 149W |      0MiB / 11441MiB |      0%      Default |\n",
            "|                               |                      |                  N/A |\n",
            "+-------------------------------+----------------------+----------------------+\n",
            "                                                                               \n",
            "+-----------------------------------------------------------------------------+\n",
            "| Processes:                                                                  |\n",
            "|  GPU   GI   CI        PID   Type   Process name                  GPU Memory |\n",
            "|        ID   ID                                                   Usage      |\n",
            "|=============================================================================|\n",
            "|  No running processes found                                                 |\n",
            "+-----------------------------------------------------------------------------+\n"
          ]
        }
      ],
      "source": [
        "!nvidia-smi"
      ]
    },
    {
      "cell_type": "code",
      "execution_count": null,
      "metadata": {
        "id": "CCsgVAExliKu"
      },
      "outputs": [],
      "source": [
        "import torch"
      ]
    },
    {
      "cell_type": "code",
      "execution_count": 1,
      "metadata": {},
      "outputs": [],
      "source": [
        "import os\n",
        "os.environ['KMP_DUPLICATE_LIB_OK'] = 'TRUE'\n",
        "import torch"
      ]
    },
    {
      "cell_type": "code",
      "execution_count": null,
      "metadata": {
        "colab": {
          "base_uri": "https://localhost:8080/"
        },
        "id": "-7Uq9dqWmGvL",
        "outputId": "dbd99acc-787b-4200-8f5c-5da22887a59b"
      },
      "outputs": [
        {
          "data": {
            "text/plain": [
              "tensor(2)"
            ]
          },
          "execution_count": 6,
          "metadata": {},
          "output_type": "execute_result"
        }
      ],
      "source": [
        "t1 = torch.tensor(2)\n",
        "t1"
      ]
    },
    {
      "cell_type": "code",
      "execution_count": null,
      "metadata": {
        "colab": {
          "base_uri": "https://localhost:8080/"
        },
        "id": "xMvP9Q7RnUu7",
        "outputId": "30e1de13-3f38-43b3-ac35-09346c2e24e2"
      },
      "outputs": [
        {
          "data": {
            "text/plain": [
              "torch.int64"
            ]
          },
          "execution_count": 7,
          "metadata": {},
          "output_type": "execute_result"
        }
      ],
      "source": [
        "t1.dtype"
      ]
    },
    {
      "cell_type": "code",
      "execution_count": null,
      "metadata": {
        "colab": {
          "base_uri": "https://localhost:8080/"
        },
        "id": "arjtaJQRnYms",
        "outputId": "4262cbf0-7641-406b-8e7d-cf1acd157dd6"
      },
      "outputs": [
        {
          "data": {
            "text/plain": [
              "tensor([ 1,  2,  3, 45,  5])"
            ]
          },
          "execution_count": 5,
          "metadata": {},
          "output_type": "execute_result"
        }
      ],
      "source": [
        "#vectors\n",
        "t2 = torch.tensor([1,2,3,45,5])\n",
        "t2"
      ]
    },
    {
      "cell_type": "code",
      "execution_count": null,
      "metadata": {
        "colab": {
          "base_uri": "https://localhost:8080/"
        },
        "id": "Euwuk-oKnoAS",
        "outputId": "ac0b88bb-9632-4cf8-b70b-7c3c676d7522"
      },
      "outputs": [
        {
          "data": {
            "text/plain": [
              "torch.int64"
            ]
          },
          "execution_count": 6,
          "metadata": {},
          "output_type": "execute_result"
        }
      ],
      "source": [
        "t2.dtype"
      ]
    },
    {
      "cell_type": "code",
      "execution_count": null,
      "metadata": {
        "colab": {
          "base_uri": "https://localhost:8080/"
        },
        "id": "rKrumCnDnqX7",
        "outputId": "4973d1c5-cb5d-473b-fbdf-da09ccba9bfb"
      },
      "outputs": [
        {
          "data": {
            "text/plain": [
              "tensor([[2, 3, 4],\n",
              "        [3, 5, 6]])"
            ]
          },
          "execution_count": 7,
          "metadata": {},
          "output_type": "execute_result"
        }
      ],
      "source": [
        "#matrix\n",
        "t3 = torch.tensor([\n",
        "                   [2,3,4],\n",
        "                   [3,5,6]])\n",
        "t3"
      ]
    },
    {
      "cell_type": "code",
      "execution_count": null,
      "metadata": {
        "colab": {
          "base_uri": "https://localhost:8080/"
        },
        "id": "nNAjtlfAn9NX",
        "outputId": "2551703b-47a8-4645-b11a-c13b8da380fb"
      },
      "outputs": [
        {
          "data": {
            "text/plain": [
              "2"
            ]
          },
          "execution_count": 8,
          "metadata": {},
          "output_type": "execute_result"
        }
      ],
      "source": [
        "t3.ndim"
      ]
    },
    {
      "cell_type": "code",
      "execution_count": null,
      "metadata": {
        "colab": {
          "base_uri": "https://localhost:8080/"
        },
        "id": "QhjkzRxzoE3j",
        "outputId": "be79877c-ec0b-4236-c058-bad7d7dbe778"
      },
      "outputs": [
        {
          "data": {
            "text/plain": [
              "tensor([[[11, 23, 45],\n",
              "         [23, 34, 45]],\n",
              "\n",
              "        [[55, 66, 77],\n",
              "         [45, 34, 34]]])"
            ]
          },
          "execution_count": 9,
          "metadata": {},
          "output_type": "execute_result"
        }
      ],
      "source": [
        "t4 = torch.tensor([\n",
        "     [[11,23,45],\n",
        "      [23,34,45]],\n",
        "     [[55,66,77],\n",
        "      [45,34,34]]])\n",
        "\n",
        "t4"
      ]
    },
    {
      "cell_type": "code",
      "execution_count": null,
      "metadata": {
        "colab": {
          "base_uri": "https://localhost:8080/"
        },
        "id": "RogWItMNo4s3",
        "outputId": "feaf5639-9651-4503-b97c-cbd108c51504"
      },
      "outputs": [
        {
          "data": {
            "text/plain": [
              "3"
            ]
          },
          "execution_count": 10,
          "metadata": {},
          "output_type": "execute_result"
        }
      ],
      "source": [
        "t4.ndim"
      ]
    },
    {
      "cell_type": "code",
      "execution_count": null,
      "metadata": {
        "colab": {
          "base_uri": "https://localhost:8080/"
        },
        "id": "kzm3oC-IpYIZ",
        "outputId": "4a72ac45-d931-43be-818f-89b928e41a7e"
      },
      "outputs": [
        {
          "name": "stdout",
          "output_type": "stream",
          "text": [
            "torch.Size([])\n",
            "torch.Size([5])\n",
            "torch.Size([2, 3])\n",
            "torch.Size([2, 2, 3])\n"
          ]
        }
      ],
      "source": [
        "print(t1.shape)\n",
        "print(t2.shape)\n",
        "print(t3.shape)\n",
        "print(t4.shape)"
      ]
    },
    {
      "cell_type": "code",
      "execution_count": null,
      "metadata": {
        "colab": {
          "base_uri": "https://localhost:8080/"
        },
        "id": "-R-JE36upoiB",
        "outputId": "62ac6dcf-3081-4a40-f2cd-baeead7f2217"
      },
      "outputs": [
        {
          "data": {
            "text/plain": [
              "(tensor(3.), tensor(2., requires_grad=True), tensor(7., requires_grad=True))"
            ]
          },
          "execution_count": 24,
          "metadata": {},
          "output_type": "execute_result"
        }
      ],
      "source": [
        "# Tensors Operation\n",
        "x = torch.tensor(3.)\n",
        "w = torch.tensor(2. , requires_grad=True)\n",
        "b = torch.tensor(7. , requires_grad=True)\n",
        "x,w,b"
      ]
    },
    {
      "cell_type": "code",
      "execution_count": null,
      "metadata": {
        "colab": {
          "base_uri": "https://localhost:8080/"
        },
        "id": "kMDH4MlX8U2c",
        "outputId": "44ca6b63-6359-4d29-e7ce-47732b8e480d"
      },
      "outputs": [
        {
          "data": {
            "text/plain": [
              "tensor(13., grad_fn=<AddBackward0>)"
            ]
          },
          "execution_count": 25,
          "metadata": {},
          "output_type": "execute_result"
        }
      ],
      "source": [
        "y = w * x + b\n",
        "y"
      ]
    },
    {
      "cell_type": "code",
      "execution_count": null,
      "metadata": {
        "id": "kC6nL1xz8nQw"
      },
      "outputs": [],
      "source": [
        "y.backward()"
      ]
    },
    {
      "cell_type": "code",
      "execution_count": null,
      "metadata": {
        "colab": {
          "base_uri": "https://localhost:8080/"
        },
        "id": "Pc4jIvYh9c5o",
        "outputId": "dfaf7d5d-ac0a-4329-a6ec-0467da3f0e50"
      },
      "outputs": [
        {
          "name": "stdout",
          "output_type": "stream",
          "text": [
            "tensor(3.)\n",
            "None\n",
            "tensor(1.)\n"
          ]
        }
      ],
      "source": [
        "print(w.grad)\n",
        "print(x.grad)\n",
        "print(b.grad)"
      ]
    },
    {
      "cell_type": "code",
      "execution_count": null,
      "metadata": {
        "colab": {
          "base_uri": "https://localhost:8080/"
        },
        "id": "icbtOPTw9jax",
        "outputId": "43550b4a-1b8f-483f-bdf1-b64ce7fc1aa2"
      },
      "outputs": [
        {
          "data": {
            "text/plain": [
              "tensor([[55, 55],\n",
              "        [55, 55]])"
            ]
          },
          "execution_count": 29,
          "metadata": {},
          "output_type": "execute_result"
        }
      ],
      "source": [
        "# Tensor function\n",
        "t6 = torch.full((2,2), 55)\n",
        "t6"
      ]
    },
    {
      "cell_type": "code",
      "execution_count": null,
      "metadata": {
        "colab": {
          "base_uri": "https://localhost:8080/"
        },
        "id": "p0-XFwW9-3sp",
        "outputId": "f762040d-4b42-44bb-d781-ccae2a134bda"
      },
      "outputs": [
        {
          "data": {
            "text/plain": [
              "tensor([[55, 55],\n",
              "        [55, 55],\n",
              "        [55, 55],\n",
              "        [55, 55]])"
            ]
          },
          "execution_count": 30,
          "metadata": {},
          "output_type": "execute_result"
        }
      ],
      "source": [
        "t7 = torch.cat((t6,t6))\n",
        "t7"
      ]
    },
    {
      "cell_type": "code",
      "execution_count": null,
      "metadata": {
        "colab": {
          "base_uri": "https://localhost:8080/"
        },
        "id": "4RVV5cdS_EVO",
        "outputId": "dbf77ed4-df96-453d-d04f-0e17f04f0fcf"
      },
      "outputs": [
        {
          "data": {
            "text/plain": [
              "tensor([[55, 55, 55, 55],\n",
              "        [55, 55, 55, 55]])"
            ]
          },
          "execution_count": 33,
          "metadata": {},
          "output_type": "execute_result"
        }
      ],
      "source": [
        "t9 = t7.reshape(2,4)\n",
        "t9"
      ]
    },
    {
      "cell_type": "code",
      "execution_count": null,
      "metadata": {
        "colab": {
          "base_uri": "https://localhost:8080/"
        },
        "id": "unvzAEbn_Rja",
        "outputId": "dffd546b-f7b4-4f8b-c1b4-7d5592e5277d"
      },
      "outputs": [
        {
          "data": {
            "text/plain": [
              "array([[23, 44, 55],\n",
              "       [55, 67, 88]])"
            ]
          },
          "execution_count": 35,
          "metadata": {},
          "output_type": "execute_result"
        }
      ],
      "source": [
        "# interoperabity with numpy\n",
        "import numpy as np\n",
        "\n",
        "x = np.array([[23,44,55], [55,67,88]])\n",
        "x"
      ]
    },
    {
      "cell_type": "code",
      "execution_count": null,
      "metadata": {
        "colab": {
          "base_uri": "https://localhost:8080/"
        },
        "id": "Uwxn4GC5_pR0",
        "outputId": "12181dfc-0e5e-4968-d336-c0171a1a12e2"
      },
      "outputs": [
        {
          "data": {
            "text/plain": [
              "torch.int64"
            ]
          },
          "execution_count": 37,
          "metadata": {},
          "output_type": "execute_result"
        }
      ],
      "source": [
        "y = torch.from_numpy(x)\n",
        "y.dtype"
      ]
    },
    {
      "cell_type": "code",
      "execution_count": null,
      "metadata": {
        "colab": {
          "base_uri": "https://localhost:8080/"
        },
        "id": "2O4oRvjy_zcG",
        "outputId": "c2e1e474-50ec-40b6-ac30-288f79c8533d"
      },
      "outputs": [
        {
          "data": {
            "text/plain": [
              "dtype('int64')"
            ]
          },
          "execution_count": 38,
          "metadata": {},
          "output_type": "execute_result"
        }
      ],
      "source": [
        "y = y.numpy()\n",
        "y.dtype"
      ]
    },
    {
      "cell_type": "code",
      "execution_count": null,
      "metadata": {
        "id": "Ozi7s19x_717"
      },
      "outputs": [],
      "source": [
        "a = torch.tensor([[2.,3],\n",
        "                  [4,5]], requires_grad=True)\n",
        "b = torch.tensor(3. , requires_grad=True)\n",
        "\n",
        "x = torch.tensor([[6,3],\n",
        "                  [4.,2]])\n",
        "\n",
        "d = torch.tensor(4. , requires_grad=True)"
      ]
    },
    {
      "cell_type": "code",
      "execution_count": null,
      "metadata": {
        "id": "QdYPM-MoCfoV"
      },
      "outputs": [],
      "source": [
        "y = b * d"
      ]
    },
    {
      "cell_type": "code",
      "execution_count": null,
      "metadata": {
        "colab": {
          "base_uri": "https://localhost:8080/"
        },
        "id": "EFUc4QFaDPHy",
        "outputId": "90d9873f-b195-44de-c17b-fad20fcf4197"
      },
      "outputs": [
        {
          "data": {
            "text/plain": [
              "tensor(12., grad_fn=<MulBackward0>)"
            ]
          },
          "execution_count": 65,
          "metadata": {},
          "output_type": "execute_result"
        }
      ],
      "source": [
        "y"
      ]
    },
    {
      "cell_type": "code",
      "execution_count": null,
      "metadata": {
        "id": "tLxbAgRDDQAT"
      },
      "outputs": [],
      "source": [
        "y.backward()"
      ]
    },
    {
      "cell_type": "code",
      "execution_count": null,
      "metadata": {
        "colab": {
          "base_uri": "https://localhost:8080/"
        },
        "id": "xwfCABz0DTc3",
        "outputId": "394fe685-94f7-4d93-bea2-98d12b8db152"
      },
      "outputs": [
        {
          "name": "stdout",
          "output_type": "stream",
          "text": [
            "None\n",
            "tensor(4.)\n",
            "None\n"
          ]
        }
      ],
      "source": [
        "print(a.grad)\n",
        "print(b.grad)\n",
        "print(x.grad)"
      ]
    },
    {
      "cell_type": "code",
      "execution_count": null,
      "metadata": {
        "id": "x1RuyWw3DbjD"
      },
      "outputs": [],
      "source": []
    }
  ],
  "metadata": {
    "accelerator": "GPU",
    "colab": {
      "provenance": []
    },
    "kernelspec": {
      "display_name": "Python 3",
      "name": "python3"
    },
    "language_info": {
      "codemirror_mode": {
        "name": "ipython",
        "version": 3
      },
      "file_extension": ".py",
      "mimetype": "text/x-python",
      "name": "python",
      "nbconvert_exporter": "python",
      "pygments_lexer": "ipython3",
      "version": "3.11.5"
    }
  },
  "nbformat": 4,
  "nbformat_minor": 0
}
