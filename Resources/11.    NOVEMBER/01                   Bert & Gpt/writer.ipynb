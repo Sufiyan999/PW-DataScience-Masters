{
 "cells": [
  {
   "cell_type": "code",
   "execution_count": 1,
   "metadata": {},
   "outputs": [],
   "source": [
    "import os\n",
    "\n",
    "def generate_github_link(local_path , folder_key = \"a\"):\n",
    "  \n",
    "    folder_dict = {\"a\" : \"Assignments\" ,\n",
    "                   'q': \"Questions\" ,\n",
    "                    \"r\" : \"Resources\" \n",
    "                         }\n",
    "\n",
    "    local_path = local_path.replace(\"\\\\\", \"$\").replace(\"/\", \"$\")\n",
    "    path_parts = local_path.split(\"$\")\n",
    "    # print(\"\\nDecomposition -->>\", path_parts)\n",
    "    \n",
    "    folder = folder_dict[folder_key] \n",
    "    assignments_index = path_parts.index(folder)\n",
    "  \n",
    "    relevant_path = \"/\".join(path_parts[assignments_index:]).replace(' ' ,\"%20\")\n",
    "\n",
    "    github_link = f\"https://github.com/Sufiyan999/PW-DataScience-Masters/blob/master/{relevant_path}\"\n",
    "\n",
    "    return github_link\n",
    "\n",
    "def main():\n",
    "        ff = \"\"\"   \n",
    "        \"a\" --- \"Assignments\" ,\n",
    "        'q' --- \"Questions\" ,\n",
    "        \"r\" --- \"Resources\" \n",
    "        \n",
    "        Enter the folder key    :\n",
    "      \n",
    "      \"\"\"\n",
    "    \n",
    "        # local_path_assignments = r\"D:\\Data Science\\Assignments\\01.    JANUARY\\29_jan_assign.ipynb\"\n",
    "        local_path = input(r\"Enter the local path in D:\\Data Science:  \")\n",
    "        folder_key = input(ff).lower()\n",
    "        \n",
    "        local_path = local_path.strip('\"').strip(\" \")\n",
    "        print(\"-\"*50+f\"\\nyour entered local path -->  \" , local_path)\n",
    "        github_link_assignments = generate_github_link(local_path , folder_key)\n",
    "        print(f\"\\n GitHub link -->>> {github_link_assignments}\")\n",
    "        \n",
    "        if folder_key == \"a\" :\n",
    "             print(f\"\\n[Answer]({github_link_assignments})\")\n",
    "        if folder_key == \"q\" :\n",
    "             print(f\"\\n[Question Bank]({github_link_assignments})\") \n",
    "                 \n",
    "        return github_link_assignments\n",
    "\n",
    "# main()"
   ]
  },
  {
   "cell_type": "code",
   "execution_count": 2,
   "metadata": {},
   "outputs": [],
   "source": [
    "import nbformat\n",
    "from nbformat.v4 import new_markdown_cell , new_code_cell\n",
    "import os\n",
    "\n",
    "def insert_markdown_cell_at_end(file_path, content):\n",
    "\n",
    "    with open(file_path, 'r', encoding='utf-8') as notebook_file:\n",
    "        notebook = nbformat.read(notebook_file, as_version=4)\n",
    "    markdown_cell = new_markdown_cell(source=content)\n",
    "    notebook['cells'].append(markdown_cell)\n",
    "    with open(file_path, 'w', encoding='utf-8') as modified_file:\n",
    "        nbformat.write(notebook, modified_file)\n",
    "        \n",
    "        \n",
    "def insert_markdown_cell_at_index(file_path, content , index = 0):\n",
    "\n",
    "    with open(file_path, 'r', encoding='utf-8') as notebook_file:\n",
    "        notebook = nbformat.read(notebook_file, as_version=4)\n",
    "    markdown_cell = new_markdown_cell(source=content)\n",
    "    if index == -1:\n",
    "          notebook['cells'].append(markdown_cell)\n",
    "    else:\n",
    "          notebook['cells'].insert(index , markdown_cell)\n",
    "          \n",
    "    with open(file_path, 'w', encoding='utf-8') as modified_file:\n",
    "        nbformat.write(notebook, modified_file)   \n",
    "        \n",
    "        \n",
    "def insert_code_cell_at_index(file_path, content , index = 0):\n",
    "\n",
    "    with open(file_path, 'r', encoding='utf-8') as notebook_file:\n",
    "              notebook = nbformat.read(notebook_file, as_version=4)\n",
    "    code_cell = new_code_cell(source=content)\n",
    "    if index == -1:\n",
    "          notebook['cells'].append(code_cell)\n",
    "    else:\n",
    "          notebook['cells'].insert(index ,  code_cell)\n",
    "          \n",
    "    with open(file_path, 'w', encoding='utf-8') as modified_file:\n",
    "               nbformat.write(notebook, modified_file)               \n",
    "\n",
    "def get_notebook_path():\n",
    "        path_list = [path for path in os.listdir(os.getcwd()) if path.endswith(\"ipynb\")]\n",
    "        for i , path in enumerate(path_list):\n",
    "            print(f\"\\t{i}  --  {path}\")\n",
    "            \n",
    "        index = int(input(\"\\n Enter  ^   Notebook Path index :  \" ) )\n",
    "        return path_list[index]\n",
    "        \n",
    "def main():    \n",
    "            notebook_path = get_notebook_path()\n",
    "            print(f\"Chosen Notebook's path ---> {notebook_path}\")\n",
    "\n",
    "            string_to_append = input(\"\\n Enter the string to be appended in the notebook : \")\n",
    "\n",
    "\n",
    "            ff = \"\"\"\n",
    "            Enter The Place \n",
    "            u  --  At The First\n",
    "            d  --   At The End   \n",
    "            c  --  Custom Index\n",
    "            :   \"\"\"\n",
    "\n",
    "            place = input(ff).lower()\n",
    "\n",
    "            if place == 'u':\n",
    "                        insert_markdown_cell_at_index(notebook_path, string_to_append , index = 0)\n",
    "                        \n",
    "            elif place == \"d\":\n",
    "                        insert_markdown_cell_at_end(notebook_path, string_to_append)\n",
    "            \n",
    "            elif place == 'c':\n",
    "                        \n",
    "                        with open(notebook_path , 'r', encoding='utf-8') as notebook_file:\n",
    "                                    notebook = nbformat.read(notebook_file, as_version=4)\n",
    "                                    \n",
    "                        no_of_cells = len(notebook['cells'])  \n",
    "                        print(f\"Enter the custom index in {no_of_cells}:\")          \n",
    "                        custom_index = int(input())            \n",
    "                        \n",
    "                        insert_markdown_cell_at_index(notebook_path, string_to_append , index = custom_index)\n",
    "                        \n",
    "                        \n",
    "# main()                "
   ]
  },
  {
   "cell_type": "code",
   "execution_count": 3,
   "metadata": {},
   "outputs": [],
   "source": [
    "import nbformat as nbf\n",
    "\n",
    "def add_code_cell_to_notebook(notebook_path, cell_content):\n",
    "  \"\"\"Add a cell to a Jupyter notebook.\"\"\"\n",
    "\n",
    "  # Read the Jupyter notebook file.\n",
    "  notebook = nbf.read(notebook_path, as_version=4)\n",
    "\n",
    "  # Add the cell to the notebook.\n",
    "  cell = nbf.v4.new_code_cell(cell_content)\n",
    "  notebook[\"cells\"].append(cell)\n",
    "\n",
    "  # Write the Jupyter notebook file.\n",
    "  nbf.write(notebook, notebook_path)\n",
    "\n",
    "\n",
    "def main():\n",
    "  # notebook_path = \"new.ipynb\"\n",
    "  cell_content = \"This is a new cell that I added.\"\n",
    "  add_cell_to_notebook(notebook_path, cell_content)\n"
   ]
  },
  {
   "cell_type": "code",
   "execution_count": 15,
   "metadata": {},
   "outputs": [],
   "source": [
    "import os\n",
    "import json\n",
    "\n",
    "metadata = \"metadata.json\"\n",
    "with open(metadata, \"r\") as meta_file:\n",
    "   meta = json.load(meta_file)\n",
    "   \n",
    "head = meta[\"head\"]\n",
    "local_A = meta[\"local_A\"]\n",
    "local_Q = meta[\"local_Q\"]\n",
    "date = meta[\"date\"]\n",
    "   "
   ]
  },
  {
   "cell_type": "code",
   "execution_count": 16,
   "metadata": {},
   "outputs": [
    {
     "name": "stdout",
     "output_type": "stream",
     "text": [
      "--------------------------------------------------\n",
      "your entered local path -->   D:\\Data Science\\Assignments\\01.    JANUARY\\30_jan_assign.ipynb\n",
      "\n",
      "Decomposition -->> ['D:', 'Data Science', 'Assignments', '01.    JANUARY', '30_jan_assign.ipynb']\n",
      "\n",
      " GitHub link -->>> https://github.com/Sufiyan999/PW-DataScience-Masters/blob/master/Assignments/01.%20%20%20%20JANUARY/30_jan_assign.ipynb\n",
      "\n",
      "[Answer](https://github.com/Sufiyan999/PW-DataScience-Masters/blob/master/Assignments/01.%20%20%20%20JANUARY/30_jan_assign.ipynb)\n",
      "--------------------------------------------------\n",
      "your entered local path -->   D:\\Data Science\\Questions\\01.    JANUARY\\30 January PYTHON.pdf\n",
      "\n",
      "Decomposition -->> ['D:', 'Data Science', 'Questions', '01.    JANUARY', '30 January PYTHON.pdf']\n",
      "\n",
      " GitHub link -->>> https://github.com/Sufiyan999/PW-DataScience-Masters/blob/master/Questions/01.%20%20%20%20JANUARY/30%20January%20PYTHON.pdf\n",
      "\n",
      "[Question](https://github.com/Sufiyan999/PW-DataScience-Masters/blob/master/Questions/01.%20%20%20%20JANUARY/30%20January%20PYTHON.pdf)\n"
     ]
    }
   ],
   "source": [
    "folder_key = \"a\"\n",
    "local_A = local_A.strip('\"').strip(\" \").strip(\"'\")\n",
    "print(\"-\"*50+f\"\\nyour entered local path -->  \" , local_A)\n",
    "github_link_A = generate_github_link(local_A, folder_key)\n",
    "print(f\"\\n GitHub link -->>> {github_link_A}\")\n",
    "readme_A = f\"[Answer]({github_link_A})\"\n",
    "print(\"\\n\" + readme_A)\n",
    "\n",
    "\n",
    "\n",
    "folder_key = \"q\"\n",
    "local_Q = local_Q.strip('\"').strip(\" \").strip(\"'\")\n",
    "print(\"-\"*50+f\"\\nyour entered local path -->  \" , local_Q)\n",
    "\n",
    "github_link_Q = generate_github_link(local_Q, folder_key)\n",
    "print(f\"\\n GitHub link -->>> {github_link_Q}\")\n",
    "\n",
    "readme_Q = f\"[Question]({github_link_Q})\"\n",
    "print(\"\\n\" + readme_Q)\n",
    "\n",
    "meta[\"github_link_Q\"] =github_link_Q\n",
    "meta[\"github_link_A\"] =github_link_A\n",
    "meta[\"readme_Q\"] =readme_Q\n",
    "meta[\"readme_A\"] =readme_A\n"
   ]
  },
  {
   "cell_type": "code",
   "execution_count": 19,
   "metadata": {},
   "outputs": [
    {
     "name": "stdout",
     "output_type": "stream",
     "text": [
      "\n",
      "Decomposition -->> ['https:', '', 'github.com', 'Sufiyan999', 'PW-DataScience-Masters', 'blob', 'master', 'Assignments', '01.%20%20%20%20JANUARY', '30_jan_assign.ipynb']\n"
     ]
    },
    {
     "data": {
      "text/plain": [
       "'https://colab.research.google.com/github/Sufiyan999/PW-DataScience-Masters/blob/master/Assignments/01.%20%20%20%20JANUARY/30_jan_assign.ipynb'"
      ]
     },
     "execution_count": 19,
     "metadata": {},
     "output_type": "execute_result"
    }
   ],
   "source": [
    "pr = \"https://colab.research.google.com/github/\"\n",
    "\n",
    "dollered = github_link_A.replace(\"\\\\\", \"$\").replace(\"/\", \"$\")\n",
    "\n",
    "# Split the local path to get parts\n",
    "path_parts = dollered.split(\"$\")\n",
    "print(\"\\nDecomposition -->>\", path_parts)\n",
    "\n",
    "# Find the index of the 'Assignments' directory\n",
    "_index = path_parts.index(\"Sufiyan999\")\n",
    "\n",
    "# Extract the relevant part of the path\n",
    "relevant_path = \"/\".join(path_parts[_index:]).replace(' ' ,\"%20\")\n",
    "\n",
    "colab_link = f\"{pr}{relevant_path}\"\n",
    "\n",
    "meta[\"colab_link\"] = colab_link\n",
    "readme_colab = f\"\"\" \n",
    "  <a href=\"{colab_link}\" target=\"_blank\" style=\"position: relative; bottom: 10px; left: 10px; font-size: 10px; color: white; text-decoration: none;\">\n",
    "    <img src=\"https://colab.research.google.com/assets/colab-badge.svg\" alt=\"Open In Colab\" style=\"vertical-align: middle;\"> \n",
    "  </a>\n",
    "\"\"\"\n",
    "meta[\"readme_colab\"] = readme_colab\n",
    "\n",
    "colab_link"
   ]
  },
  {
   "cell_type": "code",
   "execution_count": 20,
   "metadata": {},
   "outputs": [],
   "source": [
    "with open(metadata , \"w\") as jsonfile:\n",
    "    json.dump(meta, jsonfile)"
   ]
  },
  {
   "cell_type": "code",
   "execution_count": 21,
   "metadata": {},
   "outputs": [],
   "source": [
    "def generate_html(heading = head ,question_bank = github_link_Q, assignment = github_link_A, colab_link  = colab_link, date = date):\n",
    "\n",
    "    html_code = f\"\"\"\n",
    "    <div style=\"background-color: rgb(30, 5, 119); color: white; padding: 20px; position: relative; text-align: center;\">\n",
    "      <h1 style=\"font-size: 50px; color: rgb(153, 17, 216); padding: 20px;\"><b>{heading}</b></h1>\n",
    "      <br>\n",
    "      <a href=\"{question_bank}\" style=\"position: absolute; bottom: 10px; left: 10px; font-size: 10px; color: white; text-decoration: none;\">\n",
    "        <img src=\"https://github.com/fluidicon.png\" alt=\"GitHub\" style=\"vertical-align: middle; width: 20px; height: 20px;\">  Question Bank \n",
    "      </a>\n",
    "      <p style=\"position: absolute; bottom: 5px; right: 65px; font-size: 10px;\">{date}</p>\n",
    "\n",
    "      <a href=\"{colab_link}\" target=\"_blank\" style=\"position: relative; bottom: 10px; left: 10px; font-size: 10px; color: white; text-decoration: none;\">\n",
    "        <img src=\"https://colab.research.google.com/assets/colab-badge.svg\" alt=\"Open In Colab\" style=\"vertical-align: middle;\"> \n",
    "      </a>\n",
    "    </div>\n",
    "    <div style=\"background-color: rgb(30, 5, 119); color: white; padding: 20px; position: relative; text-align: center;\">\n",
    "      <a href=\"{assignment}\" style=\"position: absolute; bottom: 10px; left: 10px; font-size: 10px; color: white; text-decoration: none;\">\n",
    "        <img src=\"https://github.com/fluidicon.png\" alt=\"GitHub\" style=\"vertical-align: middle; width: 20px; height: 20px;\"> Answer Sheet \n",
    "      </a>\n",
    "    </div>\n",
    "    <div style=\"background-color: rgb(30, 5, 119); padding: 20px; position: relative; border-radius: 0 0 40px 40px;\">\n",
    "    </div>\n",
    "    \"\"\"\n",
    "\n",
    "    return html_code"
   ]
  },
  {
   "cell_type": "code",
   "execution_count": 9,
   "metadata": {},
   "outputs": [],
   "source": [
    "\n",
    "html_code = generate_html()\n",
    "\n",
    "notebook_path = local_A \n",
    "\n",
    "insert_markdown_cell_at_index(notebook_path, html_code , index = 0)"
   ]
  },
  {
   "cell_type": "code",
   "execution_count": 26,
   "metadata": {},
   "outputs": [],
   "source": [
    "notebook_path = local_A \n",
    "# notebook_path = r\"D:\\Data Science\\Assignments\\\\01.    JANUARY\\\\29_jan_assign.ipynb\"\n",
    "no_qs = 10\n",
    "for id in range(1 ,no_qs+1):   \n",
    "    answer_n =f\"\"\"## <a id=\"{id}\"></a> <p style=\"padding:10px;background-color: #00004d ;margin:10;color: white ;font-family:newtimeroman;font-size:100%;text-align:center;border-radius: 10px 10px ;overflow:hidden;font-weight:50\"> Ans {id} </p> \n",
    "\n",
    "    \"\"\"\n",
    "    insert_markdown_cell_at_end(notebook_path, answer_n)"
   ]
  },
  {
   "cell_type": "code",
   "execution_count": 1,
   "metadata": {},
   "outputs": [],
   "source": [
    "def get_button_html(text , link):\n",
    "    return f\"\"\" \n",
    "<div>\n",
    "<button style=\"display: inline-block; padding: 10px 20px; background-color: #f5e1eb; color: #000000; text-decoration: none; border-radius: 5px; border: 1px solid #000000; outline: none;\">\n",
    "<a href=\"{link}\" target=\"_blank\" style=\"color: inherit; text-decoration: none;\">{text}</a>\n",
    "</button>\n",
    "</div>\n",
    "\"\"\""
   ]
  },
  {
   "cell_type": "code",
   "execution_count": 24,
   "metadata": {},
   "outputs": [],
   "source": [
    "\n",
    "use get_button_html(text , link):\n",
    "content = meta[\"readme_A\"] + \"\\n\"*2 + meta[\"readme_Q\"] + \"\\n\"*2 + readme_colab\n",
    "insert_markdown_cell_at_end(notebook_path, content)"
   ]
  },
  {
   "cell_type": "code",
   "execution_count": 25,
   "metadata": {},
   "outputs": [],
   "source": [
    "for i in meta.items():\n",
    "    print(i[0] , end = \" || \")\n",
    " \n",
    "metas = \"\\n \" + \"--\"*50\n",
    "for k,v in meta.items():  \n",
    "      metas += \"\\n\" + str(k)  + \"  :   \"  + str(v)  + \"\\n\" + \"--\"*50    \n",
    "      \n",
    "content = f\"\"\"\n",
    "<!--\n",
    " {metas}\n",
    "-->\n",
    "\"\"\"\n",
    "insert_markdown_cell_at_end(notebook_path, content)"
   ]
  },
  {
   "cell_type": "code",
   "execution_count": null,
   "metadata": {},
   "outputs": [],
   "source": [
    "end = f\"\"\"## <a id=\"100\"></a><p style=\"padding:10px;background-color: #01DFD7 ;margin:10;color: white ;font-family:newtimeroman;font-size:100%;text-align:center;border-radius: 10px 10px ;overflow:hidden;font-weight:50\">END</p> \n",
    "\"\"\"\n",
    "insert_markdown_cell_at_end(notebook_path, end)"
   ]
  },
  {
   "cell_type": "markdown",
   "metadata": {},
   "source": [
    "## for resources"
   ]
  },
  {
   "cell_type": "code",
   "execution_count": 5,
   "metadata": {},
   "outputs": [
    {
     "name": "stderr",
     "output_type": "stream",
     "text": [
      "C:\\Users\\hp\\AppData\\Local\\Temp\\ipykernel_18452\\3610932115.py:1: DeprecationWarning: Importing display from IPython.core.display is deprecated since IPython 7.14, please import from IPython display\n",
      "  from IPython.core.display import display, HTML ,Markdown\n"
     ]
    }
   ],
   "source": [
    "from IPython.core.display import display, HTML ,Markdown \n",
    "meta = {}"
   ]
  },
  {
   "cell_type": "code",
   "execution_count": 6,
   "metadata": {},
   "outputs": [],
   "source": [
    "local_R = r\"D:\\Data Science\\Resources\\11.    NOVEMBER\\01                   Bert & Gpt\\Question_Answer_Application.ipynb\"\n",
    "meta[\"local_R\"] = local_R\n",
    "\n",
    "notebook_name = local_R.split(\"\\\\\")[-1]\n",
    "meta[\"notebook_name\"] = notebook_name"
   ]
  },
  {
   "cell_type": "code",
   "execution_count": 7,
   "metadata": {},
   "outputs": [
    {
     "name": "stdout",
     "output_type": "stream",
     "text": [
      "\n",
      "your entered local path -->   D:\\Data Science\\Resources\\11.    NOVEMBER\\01                   Bert & Gpt\\Question_Answer_Application.ipynb\n",
      "GitHub link -->>> https://github.com/Sufiyan999/PW-DataScience-Masters/blob/master/Resources/11.%20%20%20%20NOVEMBER/01%20%20%20%20%20%20%20%20%20%20%20%20%20%20%20%20%20%20%20Bert%20&%20Gpt/Question_Answer_Application.ipynb\n"
     ]
    }
   ],
   "source": [
    "folder_key = \"r\"\n",
    "local_R = local_R.strip('\"').strip(\" \").strip(\"'\")\n",
    "print(f\"\\nyour entered local path -->  \" , local_R)\n",
    "\n",
    "github_link_R = generate_github_link(local_R, folder_key)\n",
    "meta[\"github_link_R\"] = github_link_R \n",
    "print(f\"GitHub link -->>> {github_link_R}\")"
   ]
  },
  {
   "cell_type": "code",
   "execution_count": 8,
   "metadata": {},
   "outputs": [
    {
     "name": "stdout",
     "output_type": "stream",
     "text": [
      "\n",
      " Raw Colab link -->>> https://colab.research.google.com/github/Sufiyan999/PW-DataScience-Masters/blob/master/Resources/11.%20%20%20%20NOVEMBER/01%20%20%20%20%20%20%20%20%20%20%20%20%20%20%20%20%20%20%20Bert%20&%20Gpt/Question_Answer_Application.ipynb\n"
     ]
    },
    {
     "data": {
      "text/html": [
       " \n",
       "<a href=\"https://colab.research.google.com/github/Sufiyan999/PW-DataScience-Masters/blob/master/Resources/11.%20%20%20%20NOVEMBER/01%20%20%20%20%20%20%20%20%20%20%20%20%20%20%20%20%20%20%20Bert%20&%20Gpt/Question_Answer_Application.ipynb\" target=\"_blank\" style=\"position: relative; bottom: 5px; left: 5px; font-size: 10px; color: white; text-decoration: none;\">\n",
       "  <img src=\"https://colab.research.google.com/assets/colab-badge.svg\" alt=\"Open In Colab\" style=\"vertical-align: middle;\" /> </a>\n"
      ],
      "text/plain": [
       "<IPython.core.display.HTML object>"
      ]
     },
     "metadata": {},
     "output_type": "display_data"
    }
   ],
   "source": [
    "def get_relevant_path(github_link = github_link_R):\n",
    "            dollered = github_link.replace(\"\\\\\", \"$\").replace(\"/\", \"$\")\n",
    "\n",
    "            # Split the local path to get parts\n",
    "            path_parts = dollered.split(\"$\")\n",
    "            # print(\"\\nDecomposition -->>\", path_parts)\n",
    "\n",
    "            # Find the index of the 'Assignments' directory\n",
    "            _index = path_parts.index(\"Sufiyan999\")\n",
    "\n",
    "            # Extract the relevant part of the path\n",
    "            relevant_path = \"/\".join(path_parts[_index:]).replace(' ' ,\"%20\")\n",
    "            \n",
    "            return relevant_path , path_parts\n",
    "\n",
    "relevant_path ,_ = get_relevant_path()\n",
    "pr = \"https://colab.research.google.com/github/\"\n",
    "colab_link_R = f\"{pr}{relevant_path}\"\n",
    "\n",
    "meta[\"colab_link_R\"] = colab_link_R\n",
    "\n",
    "\n",
    "md_colab_R = f\"\"\" \n",
    "<a href=\"{colab_link_R}\" target=\"_blank\" style=\"position: relative; bottom: 5px; left: 5px; font-size: 10px; color: white; text-decoration: none;\">\n",
    "  <img src=\"https://colab.research.google.com/assets/colab-badge.svg\" alt=\"Open In Colab\" style=\"vertical-align: middle;\" /> </a>\n",
    "\"\"\"\n",
    "meta[\"md_colab_R\"] = md_colab_R\n",
    "\n",
    "print(f\"\\n Raw Colab link -->>> {colab_link_R}\")\n",
    "display(HTML(md_colab_R))"
   ]
  },
  {
   "cell_type": "code",
   "execution_count": null,
   "metadata": {},
   "outputs": [],
   "source": []
  },
  {
   "cell_type": "code",
   "execution_count": 9,
   "metadata": {},
   "outputs": [
    {
     "name": "stdout",
     "output_type": "stream",
     "text": [
      "Kaggle link -->>> https://kaggle.com/kernels/welcome?src=https://github.com/Sufiyan999/PW-DataScience-Masters/blob/master/Resources/11.%20%20%20%20NOVEMBER/01%20%20%20%20%20%20%20%20%20%20%20%20%20%20%20%20%20%20%20Bert%20&%20Gpt/Question_Answer_Application.ipynb\n"
     ]
    },
    {
     "data": {
      "text/html": [
       "\n",
       "<a target=\"_blank\" href=\"https://kaggle.com/kernels/welcome?src=https://github.com/Sufiyan999/PW-DataScience-Masters/blob/master/Resources/11.%20%20%20%20NOVEMBER/01%20%20%20%20%20%20%20%20%20%20%20%20%20%20%20%20%20%20%20Bert%20&%20Gpt/Question_Answer_Application.ipynb\" style=\"position: relative; bottom: 5px; left: 5px; font-size: 10px; color: white; text-decoration: none;\">\n",
       "<img src=\"https://kaggle.com/static/images/open-in-kaggle.svg\" / alt=\"Open In Kaggle\" style=\"vertical-align: middle;\" />\n",
       "</a> \n",
       "\n"
      ],
      "text/plain": [
       "<IPython.core.display.HTML object>"
      ]
     },
     "metadata": {},
     "output_type": "display_data"
    }
   ],
   "source": [
    "kaggle_link_R = f\"https://kaggle.com/kernels/welcome?src={github_link_R}\"\n",
    "meta[\"kaggle_link_R\"] = kaggle_link_R\n",
    "print(f\"Kaggle link -->>> {kaggle_link_R}\")\n",
    "\n",
    "md_kaggle_R = f\"\"\"\\n<a target=\"_blank\" href=\"{kaggle_link_R}\" style=\"position: relative; bottom: 5px; left: 5px; font-size: 10px; color: white; text-decoration: none;\">\n",
    "<img src=\"https://kaggle.com/static/images/open-in-kaggle.svg\" / alt=\"Open In Kaggle\" style=\"vertical-align: middle;\" />\\n</a> \\n\n",
    "\"\"\"\n",
    "meta[\"md_kaggle_R\"] = md_kaggle_R\n",
    "\n",
    "display(HTML(md_kaggle_R))"
   ]
  },
  {
   "cell_type": "code",
   "execution_count": 10,
   "metadata": {},
   "outputs": [],
   "source": [
    "def create_table(*args):\n",
    "    actual = \"\"\n",
    "    for i in args:\n",
    "        actual  += f\"\"\"\n",
    "<td  style=\"border:none; \">\n",
    "{i}           \n",
    "</td> \"\"\"\n",
    "        \n",
    "    return actual"
   ]
  },
  {
   "cell_type": "code",
   "execution_count": 11,
   "metadata": {},
   "outputs": [
    {
     "data": {
      "text/markdown": [
       " \n",
       "<table align=\"center\" style=\"background-color: rgb(30, 5, 119);\">\n",
       "\n",
       "<td  style=\"border:none; \">\n",
       " \n",
       "<a href=\"https://colab.research.google.com/github/Sufiyan999/PW-DataScience-Masters/blob/master/Resources/11.%20%20%20%20NOVEMBER/01%20%20%20%20%20%20%20%20%20%20%20%20%20%20%20%20%20%20%20Bert%20&%20Gpt/Question_Answer_Application.ipynb\" target=\"_blank\" style=\"position: relative; bottom: 5px; left: 5px; font-size: 10px; color: white; text-decoration: none;\">\n",
       "  <img src=\"https://colab.research.google.com/assets/colab-badge.svg\" alt=\"Open In Colab\" style=\"vertical-align: middle;\" /> </a>\n",
       "           \n",
       "</td> \n",
       "<td  style=\"border:none; \">\n",
       "\n",
       "<a target=\"_blank\" href=\"https://kaggle.com/kernels/welcome?src=https://github.com/Sufiyan999/PW-DataScience-Masters/blob/master/Resources/11.%20%20%20%20NOVEMBER/01%20%20%20%20%20%20%20%20%20%20%20%20%20%20%20%20%20%20%20Bert%20&%20Gpt/Question_Answer_Application.ipynb\" style=\"position: relative; bottom: 5px; left: 5px; font-size: 10px; color: white; text-decoration: none;\">\n",
       "<img src=\"https://kaggle.com/static/images/open-in-kaggle.svg\" / alt=\"Open In Kaggle\" style=\"vertical-align: middle;\" />\n",
       "</a> \n",
       "\n",
       "           \n",
       "</td> \n",
       "</table>\n"
      ],
      "text/plain": [
       "<IPython.core.display.Markdown object>"
      ]
     },
     "metadata": {},
     "output_type": "display_data"
    }
   ],
   "source": [
    "# colab_kaggle_nbviwer = f\"\"\" # {md_colab_R}  # {md_kaggle_R} # {md_nbviewer_R}# \"\"\"\n",
    "table_content = create_table(md_colab_R , md_kaggle_R) \n",
    "\n",
    "colab_kaggle = f\"\"\" \n",
    "<table align=\"center\" style=\"background-color: rgb(30, 5, 119);\">\n",
    "{table_content}\n",
    "</table>\n",
    "\"\"\"\n",
    "\n",
    "display(Markdown(colab_kaggle))\n",
    "\n",
    "# display(HTML(colab_kaggle_nbviwer))"
   ]
  },
  {
   "cell_type": "code",
   "execution_count": 12,
   "metadata": {},
   "outputs": [
    {
     "data": {
      "text/markdown": [
       " \n",
       " \n",
       "<a href=\"https://colab.research.google.com/github/Sufiyan999/PW-DataScience-Masters/blob/master/Resources/11.%20%20%20%20NOVEMBER/01%20%20%20%20%20%20%20%20%20%20%20%20%20%20%20%20%20%20%20Bert%20&%20Gpt/Question_Answer_Application.ipynb\" target=\"_blank\" style=\"position: relative; bottom: 5px; left: 5px; font-size: 10px; color: white; text-decoration: none;\">\n",
       "  <img src=\"https://colab.research.google.com/assets/colab-badge.svg\" alt=\"Open In Colab\" style=\"vertical-align: middle;\" /> </a>\n",
       "\n",
       "\n",
       "<a target=\"_blank\" href=\"https://kaggle.com/kernels/welcome?src=https://github.com/Sufiyan999/PW-DataScience-Masters/blob/master/Resources/11.%20%20%20%20NOVEMBER/01%20%20%20%20%20%20%20%20%20%20%20%20%20%20%20%20%20%20%20Bert%20&%20Gpt/Question_Answer_Application.ipynb\" style=\"position: relative; bottom: 5px; left: 5px; font-size: 10px; color: white; text-decoration: none;\">\n",
       "<img src=\"https://kaggle.com/static/images/open-in-kaggle.svg\" / alt=\"Open In Kaggle\" style=\"vertical-align: middle;\" />\n",
       "</a> \n",
       "\n",
       " \n"
      ],
      "text/plain": [
       "<IPython.core.display.Markdown object>"
      ]
     },
     "metadata": {},
     "output_type": "display_data"
    }
   ],
   "source": [
    "# <p style=\"position: relative; bottom: 5px; font-size: 15px;\"><b>\n",
    "colab_kaggle = f\"\"\" \n",
    "{md_colab_R}\n",
    "{md_kaggle_R} \n",
    "\"\"\"\n",
    "\n",
    "display(Markdown(colab_kaggle))"
   ]
  },
  {
   "cell_type": "code",
   "execution_count": 13,
   "metadata": {},
   "outputs": [
    {
     "data": {
      "text/plain": [
       "'https://github.com/Sufiyan999/PW-DataScience-Masters/blob/master/Resources/11.%20%20%20%20NOVEMBER/01%20%20%20%20%20%20%20%20%20%20%20%20%20%20%20%20%20%20%20Bert%20&%20Gpt/'"
      ]
     },
     "execution_count": 13,
     "metadata": {},
     "output_type": "execute_result"
    }
   ],
   "source": [
    "# path_parts = \"/\".join(path_parts[-1]).replace(' ' ,\"%20\")\n",
    "_ ,  path_parts   = get_relevant_path()\n",
    "sub_folder = github_link_R.replace(path_parts[-1] , \"\")\n",
    "meta[\"sub_folder\"] = sub_folder\n",
    "sub_folder"
   ]
  },
  {
   "cell_type": "code",
   "execution_count": 15,
   "metadata": {},
   "outputs": [
    {
     "data": {
      "text/plain": [
       "'https://github.com/Sufiyan999/PW-DataScience-Masters/blob/master/Resources/11.%20%20%20%20NOVEMBER/'"
      ]
     },
     "execution_count": 15,
     "metadata": {},
     "output_type": "execute_result"
    }
   ],
   "source": [
    "month_folder = github_link_R.replace(\"/\".join(path_parts[-2:]) , \"\")\n",
    "meta[\"month_folder\"] = month_folder\n",
    "month_folder"
   ]
  },
  {
   "cell_type": "code",
   "execution_count": 16,
   "metadata": {},
   "outputs": [],
   "source": [
    "date = \"18 OCT 2023\"\n",
    "meta[\"date\"] = date\n",
    "\n",
    "date  = f\"\"\"\n",
    "<a href=\"{month_folder}\" target=\"_blank\" style=\"position: relative; bottom: 5px; left: 10px; font-size: 15px; color: white; text-decoration: none;\">\n",
    " {date}\n",
    "  </a>\n",
    "  \"\"\"   "
   ]
  },
  {
   "cell_type": "code",
   "execution_count": 21,
   "metadata": {},
   "outputs": [
    {
     "name": "stderr",
     "output_type": "stream",
     "text": [
      "C:\\Users\\hp\\AppData\\Local\\Temp\\ipykernel_18452\\1566931559.py:54: DeprecationWarning: Importing display from IPython.core.display is deprecated since IPython 7.14, please import from IPython display\n",
      "  from IPython.core.display import display, HTML\n"
     ]
    },
    {
     "data": {
      "text/html": [
       "\n",
       "<div style=\"background-color: rgb(30, 5, 119); color: white; padding: 20px; position: relative; text-align: center;\">\n",
       "   \n",
       "# <h1 style=\"font-family:newtimeroman;font-size: 50px; color: yellow; padding: 20px;\"><b> Question Answer Project</b></h1>\n",
       "<h6 style=\"font-family:newtimeroman; font-size: 40px; color: rgb(153, 17, 216); padding: 20px;\"><b> Using Transformer BERT From\n",
       "<a href = \"https://github.com/ThilinaRajapakse/simpletransformers style=\"text-decoration:None;  \">Simple Transformers </a> ( HuggingFace 🤗 ) </b></h6>\n",
       "\n",
       "  <br>\n",
       "  <a href=\"https://github.com/Sufiyan999/PW-DataScience-Masters/blob/master/Resources/11.%20%20%20%20NOVEMBER/01%20%20%20%20%20%20%20%20%20%20%20%20%20%20%20%20%20%20%20Bert%20&%20Gpt/Question_Answer_Application.ipynb\" style=\"position: absolute; bottom: 10px; left: 10px; font-size: 15px; color: white; text-decoration: none;\">\n",
       "    <img src=\"https://github.com/fluidicon.png\" alt=\"On GitHub\" style=\"vertical-align: middle; width: 20px; height: 20px;\">  Notebook\n",
       "  </a>\n",
       "  <p style=\"position: absolute; bottom: 5px; right: 65px; font-size: 15px;\"><b>\n",
       "<a href=\"https://github.com/Sufiyan999/PW-DataScience-Masters/blob/master/Resources/11.%20%20%20%20NOVEMBER/\" target=\"_blank\" style=\"position: relative; bottom: 5px; left: 10px; font-size: 15px; color: white; text-decoration: none;\">\n",
       " 18 OCT 2023\n",
       "  </a>\n",
       "  </b></p>\n",
       "\n",
       "  <!-- <a href=\"https://colab.research.google.com/github/Sufiyan999/PW-DataScience-Masters/blob/master/Resources/11.%20%20%20%20NOVEMBER/01%20%20%20%20%20%20%20%20%20%20%20%20%20%20%20%20%20%20%20Bert%20&%20Gpt/Question_Answer_Application.ipynb\" target=\"_blank\" style=\"position: relative; bottom: 10px; left: 10px; font-size: 15px; color: white; text-decoration: none;\">\n",
       "    <img src=\"https://colab.research.google.com/assets/colab-badge.svg\" alt=\"Open In Colab\" style=\"vertical-align: middle;\"> \n",
       "  </a> -->\n",
       "  \n",
       "   \n",
       " \n",
       "<a href=\"https://colab.research.google.com/github/Sufiyan999/PW-DataScience-Masters/blob/master/Resources/11.%20%20%20%20NOVEMBER/01%20%20%20%20%20%20%20%20%20%20%20%20%20%20%20%20%20%20%20Bert%20&%20Gpt/Question_Answer_Application.ipynb\" target=\"_blank\" style=\"position: relative; bottom: 5px; left: 5px; font-size: 10px; color: white; text-decoration: none;\">\n",
       "  <img src=\"https://colab.research.google.com/assets/colab-badge.svg\" alt=\"Open In Colab\" style=\"vertical-align: middle;\" /> </a>\n",
       "\n",
       "\n",
       "<a target=\"_blank\" href=\"https://kaggle.com/kernels/welcome?src=https://github.com/Sufiyan999/PW-DataScience-Masters/blob/master/Resources/11.%20%20%20%20NOVEMBER/01%20%20%20%20%20%20%20%20%20%20%20%20%20%20%20%20%20%20%20Bert%20&%20Gpt/Question_Answer_Application.ipynb\" style=\"position: relative; bottom: 5px; left: 5px; font-size: 10px; color: white; text-decoration: none;\">\n",
       "<img src=\"https://kaggle.com/static/images/open-in-kaggle.svg\" / alt=\"Open In Kaggle\" style=\"vertical-align: middle;\" />\n",
       "</a> \n",
       "\n",
       " \n",
       "\n",
       "</div>\n",
       "<div style=\"background-color: rgb(30, 5, 119); color: white; padding: 20px; position: relative; text-align: center;\">\n",
       "  <a href=\"https://github.com/Sufiyan999/PW-DataScience-Masters/blob/master/Resources/11.%20%20%20%20NOVEMBER/01%20%20%20%20%20%20%20%20%20%20%20%20%20%20%20%20%20%20%20Bert%20&%20Gpt/\" style=\"position: absolute; bottom: 10px; left: 10px; font-size: 15px; color: white; text-decoration: none;\">\n",
       "    <img src=\"https://github.com/fluidicon.png\" alt=\"On GitHub\" style=\"vertical-align: middle; width: 20px; height: 20px;\">  Repository\n",
       "  </a>\n",
       "</div>\n",
       "<div style=\"background-color: rgb(30, 5, 119); padding: 20px; position: relative; border-radius: 0 0 40px 40px;\">\n",
       "</div>\n",
       "    "
      ],
      "text/plain": [
       "<IPython.core.display.HTML object>"
      ]
     },
     "metadata": {},
     "output_type": "display_data"
    },
    {
     "data": {
      "text/markdown": [
       "\n",
       "<div style=\"background-color: rgb(30, 5, 119); color: white; padding: 20px; position: relative; text-align: center;\">\n",
       "   \n",
       "# <h1 style=\"font-family:newtimeroman;font-size: 50px; color: yellow; padding: 20px;\"><b> Question Answer Project</b></h1>\n",
       "<h6 style=\"font-family:newtimeroman; font-size: 40px; color: rgb(153, 17, 216); padding: 20px;\"><b> Using Transformer BERT From\n",
       "<a href = \"https://github.com/ThilinaRajapakse/simpletransformers style=\"text-decoration:None;  \">Simple Transformers </a> ( HuggingFace 🤗 ) </b></h6>\n",
       "\n",
       "  <br>\n",
       "  <a href=\"https://github.com/Sufiyan999/PW-DataScience-Masters/blob/master/Resources/11.%20%20%20%20NOVEMBER/01%20%20%20%20%20%20%20%20%20%20%20%20%20%20%20%20%20%20%20Bert%20&%20Gpt/Question_Answer_Application.ipynb\" style=\"position: absolute; bottom: 10px; left: 10px; font-size: 15px; color: white; text-decoration: none;\">\n",
       "    <img src=\"https://github.com/fluidicon.png\" alt=\"On GitHub\" style=\"vertical-align: middle; width: 20px; height: 20px;\">  Notebook\n",
       "  </a>\n",
       "  <p style=\"position: absolute; bottom: 5px; right: 65px; font-size: 15px;\"><b>\n",
       "<a href=\"https://github.com/Sufiyan999/PW-DataScience-Masters/blob/master/Resources/11.%20%20%20%20NOVEMBER/\" target=\"_blank\" style=\"position: relative; bottom: 5px; left: 10px; font-size: 15px; color: white; text-decoration: none;\">\n",
       " 18 OCT 2023\n",
       "  </a>\n",
       "  </b></p>\n",
       "\n",
       "  <!-- <a href=\"https://colab.research.google.com/github/Sufiyan999/PW-DataScience-Masters/blob/master/Resources/11.%20%20%20%20NOVEMBER/01%20%20%20%20%20%20%20%20%20%20%20%20%20%20%20%20%20%20%20Bert%20&%20Gpt/Question_Answer_Application.ipynb\" target=\"_blank\" style=\"position: relative; bottom: 10px; left: 10px; font-size: 15px; color: white; text-decoration: none;\">\n",
       "    <img src=\"https://colab.research.google.com/assets/colab-badge.svg\" alt=\"Open In Colab\" style=\"vertical-align: middle;\"> \n",
       "  </a> -->\n",
       "  \n",
       "   \n",
       " \n",
       "<a href=\"https://colab.research.google.com/github/Sufiyan999/PW-DataScience-Masters/blob/master/Resources/11.%20%20%20%20NOVEMBER/01%20%20%20%20%20%20%20%20%20%20%20%20%20%20%20%20%20%20%20Bert%20&%20Gpt/Question_Answer_Application.ipynb\" target=\"_blank\" style=\"position: relative; bottom: 5px; left: 5px; font-size: 10px; color: white; text-decoration: none;\">\n",
       "  <img src=\"https://colab.research.google.com/assets/colab-badge.svg\" alt=\"Open In Colab\" style=\"vertical-align: middle;\" /> </a>\n",
       "\n",
       "\n",
       "<a target=\"_blank\" href=\"https://kaggle.com/kernels/welcome?src=https://github.com/Sufiyan999/PW-DataScience-Masters/blob/master/Resources/11.%20%20%20%20NOVEMBER/01%20%20%20%20%20%20%20%20%20%20%20%20%20%20%20%20%20%20%20Bert%20&%20Gpt/Question_Answer_Application.ipynb\" style=\"position: relative; bottom: 5px; left: 5px; font-size: 10px; color: white; text-decoration: none;\">\n",
       "<img src=\"https://kaggle.com/static/images/open-in-kaggle.svg\" / alt=\"Open In Kaggle\" style=\"vertical-align: middle;\" />\n",
       "</a> \n",
       "\n",
       " \n",
       "\n",
       "</div>\n",
       "<div style=\"background-color: rgb(30, 5, 119); color: white; padding: 20px; position: relative; text-align: center;\">\n",
       "  <a href=\"https://github.com/Sufiyan999/PW-DataScience-Masters/blob/master/Resources/11.%20%20%20%20NOVEMBER/01%20%20%20%20%20%20%20%20%20%20%20%20%20%20%20%20%20%20%20Bert%20&%20Gpt/\" style=\"position: absolute; bottom: 10px; left: 10px; font-size: 15px; color: white; text-decoration: none;\">\n",
       "    <img src=\"https://github.com/fluidicon.png\" alt=\"On GitHub\" style=\"vertical-align: middle; width: 20px; height: 20px;\">  Repository\n",
       "  </a>\n",
       "</div>\n",
       "<div style=\"background-color: rgb(30, 5, 119); padding: 20px; position: relative; border-radius: 0 0 40px 40px;\">\n",
       "</div>\n",
       "    "
      ],
      "text/plain": [
       "<IPython.core.display.Markdown object>"
      ]
     },
     "metadata": {},
     "output_type": "display_data"
    }
   ],
   "source": [
    "head = \" Question Answer Project\"\n",
    "\n",
    "head_color = \"yellow\"\n",
    "# head_color = \"orange\"\n",
    "# head_color = \"blue\"\n",
    "meta[\"head\"] = head\n",
    "\n",
    "sub_head = f\"\"\" Using Transformer BERT From\n",
    "<a href = \"https://github.com/ThilinaRajapakse/simpletransformers style=\"text-decoration:None;  \">Simple Transformers </a> ( HuggingFace 🤗 ) \"\"\"\n",
    "\n",
    "sub_head_color= \"rgb(153, 17, 216)\"\n",
    "meta[\"sub_head\"] = sub_head\n",
    "\n",
    "head_html = f\"\"\" \n",
    "# <h1 style=\"font-family:newtimeroman;font-size: 50px; color: {head_color}; padding: 20px;\"><b>{head}</b></h1>\n",
    "<h6 style=\"font-family:newtimeroman; font-size: 40px; color: {sub_head_color}; padding: 20px;\"><b>{sub_head}</b></h6>\n",
    "\"\"\"\n",
    "meta[\"head_html \"] = head_html \n",
    "\n",
    "\n",
    "def generate_html( heading = head_html  ,github_link_R = github_link_R, sub_folder = sub_folder, date = date):\n",
    "\n",
    "    html_code = f\"\"\"\n",
    "<div style=\"background-color: rgb(30, 5, 119); color: white; padding: 20px; position: relative; text-align: center;\">\n",
    "  {heading}\n",
    "  <br>\n",
    "  <a href=\"{github_link_R}\" style=\"position: absolute; bottom: 10px; left: 10px; font-size: 15px; color: white; text-decoration: none;\">\n",
    "    <img src=\"https://github.com/fluidicon.png\" alt=\"On GitHub\" style=\"vertical-align: middle; width: 20px; height: 20px;\">  Notebook\n",
    "  </a>\n",
    "  <p style=\"position: absolute; bottom: 5px; right: 65px; font-size: 15px;\"><b>{date}</b></p>\n",
    "\n",
    "  <!-- <a href=\"{colab_link_R}\" target=\"_blank\" style=\"position: relative; bottom: 10px; left: 10px; font-size: 15px; color: white; text-decoration: none;\">\n",
    "    <img src=\"https://colab.research.google.com/assets/colab-badge.svg\" alt=\"Open In Colab\" style=\"vertical-align: middle;\"> \n",
    "  </a> -->\n",
    "  \n",
    "  {colab_kaggle}\n",
    "</div>\n",
    "<div style=\"background-color: rgb(30, 5, 119); color: white; padding: 20px; position: relative; text-align: center;\">\n",
    "  <a href=\"{sub_folder}\" style=\"position: absolute; bottom: 10px; left: 10px; font-size: 15px; color: white; text-decoration: none;\">\n",
    "    <img src=\"https://github.com/fluidicon.png\" alt=\"On GitHub\" style=\"vertical-align: middle; width: 20px; height: 20px;\">  Repository\n",
    "  </a>\n",
    "</div>\n",
    "<div style=\"background-color: rgb(30, 5, 119); padding: 20px; position: relative; border-radius: 0 0 40px 40px;\">\n",
    "</div>\n",
    "    \"\"\"\n",
    "\n",
    "    return html_code\n",
    "  \n",
    "  \n",
    "  \n",
    "html_code = generate_html()\n",
    "# meta[\"html_code\"] = html_code\n",
    "\n",
    "from IPython.core.display import display, HTML\n",
    "display(HTML(html_code))  \n",
    "display(Markdown(html_code))"
   ]
  },
  {
   "cell_type": "code",
   "execution_count": null,
   "metadata": {},
   "outputs": [],
   "source": []
  },
  {
   "cell_type": "code",
   "execution_count": 22,
   "metadata": {},
   "outputs": [],
   "source": [
    "notebook_path = local_R\n",
    "meta[\"notebook_path\"]  = notebook_path\n",
    "\n",
    "html_code = generate_html()\n",
    "insert_markdown_cell_at_index(notebook_path, html_code , index = 0)"
   ]
  },
  {
   "cell_type": "code",
   "execution_count": null,
   "metadata": {},
   "outputs": [],
   "source": []
  },
  {
   "cell_type": "code",
   "execution_count": 23,
   "metadata": {},
   "outputs": [
    {
     "name": "stdout",
     "output_type": "stream",
     "text": [
      "Raw path on github :  https://raw.githubusercontent.com/Sufiyan999/PW-DataScience-Masters/master/Resources/11.%20%20%20%20NOVEMBER/01%20%20%20%20%20%20%20%20%20%20%20%20%20%20%20%20%20%20%20Bert%20&%20Gpt/Question_Answer_Application.ipynb\n"
     ]
    }
   ],
   "source": [
    "md_github_link_R = f\"[github]({github_link_R})\"\n",
    "meta[\"md_github_link_R\"] = md_github_link_R\n",
    "\n",
    "raw =    r\"raw.githubusercontent\"\n",
    "git_pre = r\"github\"\n",
    "\n",
    "raw_github_link_R = github_link_R.replace(git_pre ,raw).replace(\"/blob\" , \"\").replace(\"/tree\" ,\"\")\n",
    "print(\"Raw path on github : \" ,raw_github_link_R )\n",
    "\n",
    "meta[\"raw_github_link_R\"] = raw_github_link_R\n",
    "\n"
   ]
  },
  {
   "cell_type": "code",
   "execution_count": 24,
   "metadata": {},
   "outputs": [
    {
     "data": {
      "text/plain": [
       "dict_keys(['local_R', 'notebook_name', 'github_link_R', 'colab_link_R', 'md_colab_R', 'kaggle_link_R', 'md_kaggle_R', 'sub_folder', 'month_folder', 'date', 'head', 'sub_head', 'head_html ', 'notebook_path', 'md_github_link_R', 'raw_github_link_R'])"
      ]
     },
     "execution_count": 24,
     "metadata": {},
     "output_type": "execute_result"
    }
   ],
   "source": [
    "def create_table(*args):\n",
    "    actual = \"\"\n",
    "    for i in args:\n",
    "        actual  += f\"\"\"\n",
    "<td  style=\"border:none; \">\n",
    "{i}           \n",
    "</td> \"\"\"\n",
    "        \n",
    "    return actual \n",
    "\n",
    "meta.keys()"
   ]
  },
  {
   "cell_type": "code",
   "execution_count": 31,
   "metadata": {},
   "outputs": [
    {
     "data": {
      "text/html": [
       " \n",
       "<div>\n",
       "<button style=\"display: inline-block; padding: 10px 20px; background-color:rgb(30, 5, 110) ; color: #80ff80; text-decoration: none; border-radius: 10px; border: 2px solid rgb(153, 17, 216); outline: none;\">\n",
       "<a href=\"#\" target=\"_blank\" style=\"color: inherit; text-decoration: none;\"><b>example<b></a>\n",
       "</button>\n",
       "</div>\n"
      ],
      "text/plain": [
       "<IPython.core.display.HTML object>"
      ]
     },
     "metadata": {},
     "output_type": "display_data"
    }
   ],
   "source": [
    "sub_head_color= \"rgb(153, 17, 216)\"\n",
    "\n",
    "\n",
    "text_color = \"#80ff80\" #\"green\"  #\"#00CEA5\"  # \"#31d807\"\n",
    "\n",
    "border_color = sub_head_color\n",
    "# border_color = \"rgb(30, 5, 110)\"\n",
    "\n",
    "bg_color = \"rgb(30, 5, 110)\"\n",
    "# bg_color = \"rgb(25, 55, 200)\"\n",
    "\n",
    "def get_button_html(text , link , text_color = text_color ):\n",
    "    return f\"\"\" \n",
    "<div>\n",
    "<button style=\"display: inline-block; padding: 10px 20px; background-color:{bg_color} ; color: {text_color}; text-decoration: none; border-radius: 10px; border: 2px solid {border_color}; outline: none;\">\n",
    "<a href=\"{link}\" target=\"_blank\" style=\"color: inherit; text-decoration: none;\"><b>{text}<b></a>\n",
    "</button>\n",
    "</div>\n",
    "\"\"\"\n",
    "display(HTML(get_button_html( \"example\", \"#\")))"
   ]
  },
  {
   "cell_type": "code",
   "execution_count": 32,
   "metadata": {},
   "outputs": [
    {
     "data": {
      "text/html": [
       "\n",
       "<div>\n",
       "  <a href=\"https://example.com\" target=\"_blank\" style=\"text-decoration: none;\">\n",
       "    <button style=\"padding: 10px 20px; background-color: rgb(30, 5, 110); color: #80ff80; border-radius: 10px; border: 2px solid rgb(153, 17, 216); outline: none;\">\n",
       "      <b>Click me</b>\n",
       "    </button>\n",
       "  </a>\n",
       "</div>\n"
      ],
      "text/plain": [
       "<IPython.core.display.HTML object>"
      ]
     },
     "metadata": {},
     "output_type": "display_data"
    }
   ],
   "source": [
    "def get_button_html(text,link , text_color  = text_color ):\n",
    "    return f\"\"\"\n",
    "<div>\n",
    "  <a href=\"{link}\" target=\"_blank\" style=\"text-decoration: none;\">\n",
    "    <button style=\"padding: 10px 20px; background-color: {bg_color}; color: {text_color}; border-radius: 10px; border: 2px solid {border_color}; outline: none;\">\n",
    "      <b>{text}</b>\n",
    "    </button>\n",
    "  </a>\n",
    "</div>\n",
    "\"\"\"\n",
    "\n",
    "# Example usage:\n",
    "display(HTML(get_button_html(\"Click me\", \"https://example.com\")))"
   ]
  },
  {
   "cell_type": "code",
   "execution_count": 14,
   "metadata": {},
   "outputs": [],
   "source": [
    "# relevant_path ,_ = get_relevant_path()\n",
    "# # print(relevant_path)\n",
    "# pr = \"https://nbviewer.jupyter.org/github/\"\n",
    "# nbviewer_link_R = f\"{pr}{relevant_path}\"\n",
    "# meta[\"nbviewer_link_R\"] = nbviewer_link_R\n",
    "\n",
    "# md_nbviewer_R = f\"\"\"\\n<a href=\"{nbviewer_link_R}\"  target=\"_blank\" style=\"position: relative; bottom: 5px; left: 5px; font-size: 10px; color: white; text-decoration: none;\" >\n",
    "# <img src=\"https://raw.githubusercontent.com/jupyter/design/master/logos/Badges/nbviewer_badge.svg\" alt=\"Render nbviewer\"  style=\"vertical-align: middle;\"/>\\n</a>\n",
    "# \"\"\"\n",
    "# meta[\"md_nbviewer_R\"] = md_nbviewer_R\n",
    "\n",
    "# print(f\"Raw nbviewer link -->>> {nbviewer_link_R}\")\n",
    "# display(HTML( md_nbviewer_R))"
   ]
  },
  {
   "cell_type": "code",
   "execution_count": 25,
   "metadata": {},
   "outputs": [],
   "source": [
    "def get_md_by_link(txt , link):\n",
    "    return f\"\"\"\n",
    "[{txt}]({link})\n",
    " \"\"\"\n",
    " \n",
    "def get_md_by_link_logo(txt , link):\n",
    "     return f\"\"\"\n",
    "<div style=\"color: white; padding: 20px; position: relative; text-align: center;\">\n",
    "  <a href=\"{link}\" style=\"position: relative; bottom: 5px;  font-size: 15px; color: white; text-decoration: none;\">\n",
    "    <img src=\"https://github.com/fluidicon.png\" alt=\"On GitHub\" style=\"vertical-align: middle; width: 20px; height: 20px;\">  {txt}\n",
    "  </a>\n",
    "</div>\n",
    " \"\"\" "
   ]
  },
  {
   "cell_type": "code",
   "execution_count": 27,
   "metadata": {},
   "outputs": [
    {
     "data": {
      "text/markdown": [
       " \n",
       "<table>\n",
       "\n",
       "<td  style=\"border:none; \">\n",
       "\n",
       "<div style=\"color: white; padding: 20px; position: relative; text-align: center;\">\n",
       "  <a href=\"https://github.com/Sufiyan999/PW-DataScience-Masters/blob/master/Resources/11.%20%20%20%20NOVEMBER/01%20%20%20%20%20%20%20%20%20%20%20%20%20%20%20%20%20%20%20Bert%20&%20Gpt/Question_Answer_Application.ipynb\" style=\"position: relative; bottom: 5px;  font-size: 15px; color: white; text-decoration: none;\">\n",
       "    <img src=\"https://github.com/fluidicon.png\" alt=\"On GitHub\" style=\"vertical-align: middle; width: 20px; height: 20px;\">  Notebook\n",
       "  </a>\n",
       "</div>\n",
       "            \n",
       "</td> \n",
       "<td  style=\"border:none; \">\n",
       " \n",
       "<a href=\"https://colab.research.google.com/github/Sufiyan999/PW-DataScience-Masters/blob/master/Resources/11.%20%20%20%20NOVEMBER/01%20%20%20%20%20%20%20%20%20%20%20%20%20%20%20%20%20%20%20Bert%20&%20Gpt/Question_Answer_Application.ipynb\" target=\"_blank\" style=\"position: relative; bottom: 5px; left: 5px; font-size: 10px; color: white; text-decoration: none;\">\n",
       "  <img src=\"https://colab.research.google.com/assets/colab-badge.svg\" alt=\"Open In Colab\" style=\"vertical-align: middle;\" /> </a>\n",
       "           \n",
       "</td> \n",
       "<td  style=\"border:none; \">\n",
       "\n",
       "<a target=\"_blank\" href=\"https://kaggle.com/kernels/welcome?src=https://github.com/Sufiyan999/PW-DataScience-Masters/blob/master/Resources/11.%20%20%20%20NOVEMBER/01%20%20%20%20%20%20%20%20%20%20%20%20%20%20%20%20%20%20%20Bert%20&%20Gpt/Question_Answer_Application.ipynb\" style=\"position: relative; bottom: 5px; left: 5px; font-size: 10px; color: white; text-decoration: none;\">\n",
       "<img src=\"https://kaggle.com/static/images/open-in-kaggle.svg\" / alt=\"Open In Kaggle\" style=\"vertical-align: middle;\" />\n",
       "</a> \n",
       "\n",
       "           \n",
       "</td> \n",
       "<td  style=\"border:none; \">\n",
       "\n",
       "<div style=\"color: white; padding: 20px; position: relative; text-align: center;\">\n",
       "  <a href=\"https://github.com/Sufiyan999/PW-DataScience-Masters/blob/master/Resources/11.%20%20%20%20NOVEMBER/01%20%20%20%20%20%20%20%20%20%20%20%20%20%20%20%20%20%20%20Bert%20&%20Gpt/\" style=\"position: relative; bottom: 5px;  font-size: 15px; color: white; text-decoration: none;\">\n",
       "    <img src=\"https://github.com/fluidicon.png\" alt=\"On GitHub\" style=\"vertical-align: middle; width: 20px; height: 20px;\">  Repository\n",
       "  </a>\n",
       "</div>\n",
       "            \n",
       "</td> \n",
       "</table>\n",
       "\n",
       "\n",
       "<!-- \n",
       "https://raw.githubusercontent.com/Sufiyan999/PW-DataScience-Masters/master/Resources/11.%20%20%20%20NOVEMBER/01%20%20%20%20%20%20%20%20%20%20%20%20%20%20%20%20%20%20%20Bert%20&%20Gpt/Question_Answer_Application.ipynb \n",
       " [github](https://github.com/Sufiyan999/PW-DataScience-Masters/blob/master/Resources/11.%20%20%20%20NOVEMBER/01%20%20%20%20%20%20%20%20%20%20%20%20%20%20%20%20%20%20%20Bert%20&%20Gpt/Question_Answer_Application.ipynb)  \n",
       " -->\n",
       "\n"
      ],
      "text/plain": [
       "<IPython.core.display.Markdown object>"
      ]
     },
     "metadata": {},
     "output_type": "display_data"
    }
   ],
   "source": [
    "# text_color =  \"white\"        \n",
    "# notebook_button     =     get_button_html( \"Notebook\", github_link_R  ,text_color)\n",
    "# sub_folder_button =   get_button_html( \"Repository\" ,meta['sub_folder'] )  \n",
    "\n",
    "# notebook_md =   get_md_by_link(\"Notebook\", github_link_R)\n",
    "notebook_md =   get_md_by_link_logo(\"Notebook\", github_link_R)\n",
    "repo = get_md_by_link_logo(\"Repository\",meta['sub_folder'])\n",
    "table_content = create_table( notebook_md  ,md_colab_R , md_kaggle_R , repo) \n",
    "\n",
    "colab_kaggle = f\"\"\" \n",
    "<table>\n",
    "{table_content}\n",
    "</table>\n",
    "\n",
    "\n",
    "<!-- \\n{raw_github_link_R} \\n {md_github_link_R}  \\n -->\n",
    "\n",
    "\"\"\"\n",
    "\n",
    "display(Markdown(colab_kaggle))\n",
    "\n",
    "# insert_markdown_cell_at_end(notebook_path, colab_kaggle)"
   ]
  },
  {
   "cell_type": "code",
   "execution_count": 28,
   "metadata": {},
   "outputs": [
    {
     "name": "stdout",
     "output_type": "stream",
     "text": [
      "local_R || notebook_name || github_link_R || colab_link_R || md_colab_R || kaggle_link_R || md_kaggle_R || sub_folder || month_folder || date || head || sub_head || head_html  || notebook_path || md_github_link_R || raw_github_link_R || "
     ]
    }
   ],
   "source": [
    "metas =\"\"\n",
    "for k,v in meta.items(): \n",
    "      print( k , end = \" || \") \n",
    "      metas += k + \" || \"\n",
    "\n",
    "metas += \"\\n \" + \"--\"*50      \n",
    "for k,v in meta.items():      \n",
    "      metas += \"\\n\" + k  + \"  :   \"  + str(v)  + \"\\n\" + \"--\"*20   \n",
    "      \n",
    "metas = metas.replace(\"->\" , \"-\"*20).replace(\"-->\" , \"-\"*20) \n",
    "metas += \"\\n \" + \"--\"*50     \n",
    "content = f\"\"\" \\n <!--\\n {metas} \\n --> \\n\"\"\" \n",
    "\n",
    "# print(content)\n",
    "insert_markdown_cell_at_end(notebook_path, content)"
   ]
  },
  {
   "cell_type": "code",
   "execution_count": 29,
   "metadata": {},
   "outputs": [],
   "source": [
    "\n",
    "end = f\"\"\"## <p style=\"padding:10px;background-color: #01DFD7 ;margin:10;color: white ;font-family:newtimeroman;font-size:100%;text-align:center;border-radius: 10px 10px ;overflow:hidden;font-weight:50\">END</p> \n",
    "\"\"\"\n",
    "insert_markdown_cell_at_end(notebook_path, end)"
   ]
  },
  {
   "cell_type": "code",
   "execution_count": null,
   "metadata": {},
   "outputs": [],
   "source": []
  },
  {
   "cell_type": "code",
   "execution_count": 34,
   "metadata": {},
   "outputs": [
    {
     "name": "stdout",
     "output_type": "stream",
     "text": [
      "Data path on github :  https://github.com/Sufiyan999/PW-DataScience-Masters/blob/master/Resources/11.%20%20%20%20NOVEMBER/01%20%20%20%20%20%20%20%20%20%20%20%20%20%20%20%20%20%20%20Bert%20&%20Gpt/test.json\n",
      "Raw path on github :  https://raw.githubusercontent.com//Sufiyan999/PW-DataScience-Masters/master/Resources/11.%20%20%20%20NOVEMBER/01%20%20%20%20%20%20%20%20%20%20%20%20%20%20%20%20%20%20%20Bert%20&%20Gpt/test.json\n"
     ]
    },
    {
     "name": "stderr",
     "output_type": "stream",
     "text": [
      "C:\\Users\\hp\\AppData\\Local\\Temp\\ipykernel_18452\\1844884750.py:55: DeprecationWarning: Importing display from IPython.core.display is deprecated since IPython 7.14, please import from IPython display\n",
      "  from IPython.core.display import display, HTML ,Markdown\n"
     ]
    },
    {
     "data": {
      "text/markdown": [
       "<table> \n",
       " \n",
       "<td  style=\"border:none; \">\n",
       "\n",
       "<div>\n",
       "  <a href=\"https://github.com/Sufiyan999/PW-DataScience-Masters/blob/master/Resources/11.%20%20%20%20NOVEMBER/01%20%20%20%20%20%20%20%20%20%20%20%20%20%20%20%20%20%20%20Bert%20&%20Gpt/test.json\" target=\"_blank\" style=\"text-decoration: none;\">\n",
       "    <button style=\"padding: 10px 20px; background-color: rgb(30, 5, 110); color: #80ff80; border-radius: 10px; border: 2px solid rgb(153, 17, 216); outline: none;\">\n",
       "      <b>Data</b>\n",
       "    </button>\n",
       "  </a>\n",
       "</div>\n",
       "           \n",
       "</td> \n",
       "<td  style=\"border:none; \">\n",
       "\n",
       "<div>\n",
       "  <a href=\"https://raw.githubusercontent.com//Sufiyan999/PW-DataScience-Masters/master/Resources/11.%20%20%20%20NOVEMBER/01%20%20%20%20%20%20%20%20%20%20%20%20%20%20%20%20%20%20%20Bert%20&%20Gpt/test.json\" target=\"_blank\" style=\"text-decoration: none;\">\n",
       "    <button style=\"padding: 10px 20px; background-color: rgb(30, 5, 110); color: #80ff80; border-radius: 10px; border: 2px solid rgb(153, 17, 216); outline: none;\">\n",
       "      <b>Raw</b>\n",
       "    </button>\n",
       "  </a>\n",
       "</div>\n",
       "           \n",
       "</td>  \n",
       "  </table> \n",
       "\n",
       "\n",
       "```python\n",
       "!wget  \"https://raw.githubusercontent.com//Sufiyan999/PW-DataScience-Masters/master/Resources/11.%20%20%20%20NOVEMBER/01%20%20%20%20%20%20%20%20%20%20%20%20%20%20%20%20%20%20%20Bert%20&%20Gpt/test.json\"  -O  /content/test.json\n",
       "```\n",
       "### <p style=\"padding:10px ;margin:10;color: white ;font-family:newtimeroman;font-size:100%;text-align:center;border-radius: 10px 10px ;overflow:hidden;font-weight:50\">OR</p> \n",
       "```python\n",
       "import requests\n",
       "test_url = \"https://raw.githubusercontent.com//Sufiyan999/PW-DataScience-Masters/master/Resources/11.%20%20%20%20NOVEMBER/01%20%20%20%20%20%20%20%20%20%20%20%20%20%20%20%20%20%20%20Bert%20&%20Gpt/test.json\"\n",
       "test_path = \"test.json\"\n",
       "response = requests.get(test_url)\n",
       "with open(test_path , \"wb\") as file:\n",
       "    file.write(response.content)  \n",
       "``` \n",
       " "
      ],
      "text/plain": [
       "<IPython.core.display.Markdown object>"
      ]
     },
     "metadata": {},
     "output_type": "display_data"
    }
   ],
   "source": [
    "import os\n",
    "path_list = [\"test.json\"]\n",
    "file_name = \"test.json\"\n",
    "var_name = \"test\"\n",
    "\n",
    "sub_folder = meta['sub_folder']\n",
    "data = os.path.join(sub_folder , *path_list )\n",
    "\n",
    "print(\"Data path on github : \" ,data)\n",
    "meta[\"data\"] = data\n",
    "\n",
    "\n",
    "raw =    r\"raw.githubusercontent.com/\"\n",
    "git_pre = r\"github.com\"\n",
    "data_raw = data.replace(git_pre ,raw).replace(\"/blob\" , \"\").replace(\"/tree\" ,\"\")\n",
    "print(\"Raw path on github : \" ,data_raw)\n",
    "\n",
    "meta[\"data_raw\"] = data_raw\n",
    "\n",
    "data_button = get_button_html( \"Data\", data )\n",
    "\n",
    "raw_button = get_button_html( \"Raw\", data_raw )\n",
    "\n",
    "table_content = create_table( data_button , raw_button ) \n",
    "\n",
    "content   =    f\"\"\"<table> \\n {table_content} \\n  </table> \\n\n",
    "\n",
    "```python\n",
    "!wget  \"{data_raw}\"  -O  /content/{file_name}\n",
    "```\n",
    "### <p style=\"padding:10px ;margin:10;color: white ;font-family:newtimeroman;font-size:100%;text-align:center;border-radius: 10px 10px ;overflow:hidden;font-weight:50\">OR</p> \n",
    "```python\n",
    "import requests\n",
    "{var_name}_url = \"{data_raw}\"\n",
    "{var_name}_path = \"{file_name}\"\n",
    "response = requests.get({var_name}_url)\n",
    "with open({var_name}_path , \"wb\") as file:\n",
    "    file.write(response.content)  \n",
    "``` \\n \"\"\"\n",
    "\n",
    "if \"cs\" in file_name or \"tsv\" in file_name:\n",
    "         content +=  f\"\"\" \n",
    "```python\n",
    "import pandas as pd\n",
    "{var_name}_path = \"{file_name}\"\n",
    "df = pd.read_csv({var_name}_path)\n",
    "df.head(3)\n",
    "``` \\n\"\"\"\n",
    "\n",
    "\n",
    "# insert_markdown_cell_at_end(notebook_path, content)\n",
    "\n",
    "\n",
    "\n",
    "from IPython.core.display import display, HTML ,Markdown \n",
    "# display(HTML(content))\n",
    "display(Markdown(content))"
   ]
  },
  {
   "cell_type": "markdown",
   "metadata": {},
   "source": []
  },
  {
   "cell_type": "code",
   "execution_count": 58,
   "metadata": {},
   "outputs": [
    {
     "name": "stdout",
     "output_type": "stream",
     "text": [
      "path on github :  https://github.com/Sufiyan999/PW-DataScience-Masters/blob/master/Resources//00.%20%20%20%20REVISION//25.%20%20%20%20%20%20%20%20%20%20%2030%20SEPT%20%20%20%20%20Sequence%20to%20Sequence%20Learning,%20Encoder%20&%20Decoder%20Intuition//data//fra.txt\n"
     ]
    }
   ],
   "source": [
    "import os\n",
    "about = \"Lectures Video link\"\n",
    "path_list = [\"Readme.MD\"]\n",
    "extra = os.path.join(sub_folder , *path_list )\n",
    "\n",
    "print(\"path on github : \" ,extra)\n",
    "\n",
    "meta[about] = extra\n",
    "\n",
    "content = f\"\"\"\n",
    "  [{about}]({extra})\n",
    "\n",
    "\"\"\"\n",
    "insert_markdown_cell_at_end(notebook_path, content)\n",
    "\n"
   ]
  },
  {
   "cell_type": "code",
   "execution_count": 61,
   "metadata": {},
   "outputs": [
    {
     "name": "stdout",
     "output_type": "stream",
     "text": [
      "local_R || notebook_name || github_link_R || colab_link_R || md_colab_R || nbviewer_link_R || md_nbviewer_R || kaggle_link_R || md_kaggle_R || sub_folder || month_folder || date || head || sub_head || head_html  || notebook_path || md_github_link_R || raw_github_link_R || data || data_raw || "
     ]
    }
   ],
   "source": []
  },
  {
   "cell_type": "code",
   "execution_count": 62,
   "metadata": {},
   "outputs": [],
   "source": []
  },
  {
   "cell_type": "code",
   "execution_count": null,
   "metadata": {},
   "outputs": [],
   "source": []
  },
  {
   "cell_type": "code",
   "execution_count": 214,
   "metadata": {},
   "outputs": [
    {
     "data": {
      "text/markdown": [
       "[📚 Click me](https://example.com)"
      ],
      "text/plain": [
       "<IPython.core.display.Markdown object>"
      ]
     },
     "metadata": {},
     "output_type": "display_data"
    }
   ],
   "source": [
    "import ipywidgets as widgets\n",
    "from IPython.display import display, Markdown ,HTML\n",
    "\n",
    "def emoji_selector():\n",
    "    emojis = [\"❤️\", \"👍\", \"😊\", \"🚀\", \"🎉\", \"🔗\", \"📚\"]  # Add more emojis as needed\n",
    "\n",
    "    emoji_dropdown = widgets.Dropdown(\n",
    "        options=emojis,\n",
    "        value=emojis[-1],\n",
    "        description='Select Emoji:',\n",
    "        disabled=True,\n",
    "    )\n",
    "    \n",
    "    return emoji_dropdown.value\n",
    "\n",
    "def generate_markdown_button(text, link, emoji=\"\"):\n",
    "    if emoji:\n",
    "        button_text = f\"{emoji} {text}\"\n",
    "    else:\n",
    "        button_text = text\n",
    "\n",
    "    markdown_button = f\"[{button_text}]({link})\"\n",
    "    \n",
    "    display(Markdown(markdown_button))\n",
    "    # display(HTML(markdown_button))\n",
    "\n",
    "# Example usage:\n",
    "selected_emoji = emoji_selector()\n",
    "generate_markdown_button(\"Click me\", \"https://example.com\", selected_emoji)\n"
   ]
  },
  {
   "cell_type": "code",
   "execution_count": null,
   "metadata": {},
   "outputs": [],
   "source": []
  },
  {
   "cell_type": "code",
   "execution_count": 45,
   "metadata": {},
   "outputs": [
    {
     "name": "stdout",
     "output_type": "stream",
     "text": [
      "#80ff80\n",
      "(128, 255, 128)\n",
      "Selected color: ('rgb(128, 255, 128)', (128, 255, 128))\n"
     ]
    }
   ],
   "source": [
    "import tkinter as tk\n",
    "from tkinter import colorchooser\n",
    "\n",
    "def choose_color():\n",
    "    root = tk.Tk()\n",
    "    root.withdraw()  # Hide the main window\n",
    "\n",
    "    color = colorchooser.askcolor(title=\"Choose a color\")[1]\n",
    "    print(color)\n",
    "    if color:\n",
    "        return rgb_to_string(color)\n",
    "    else:\n",
    "        return \"rgb(0, 0, 0)\"  # Default to black if no color selected\n",
    "\n",
    "def rgb_to_string(rgb):\n",
    "    \n",
    "    hex_color = rgb\n",
    "    rgb_tuple = tuple(int(hex_color[i:i+2], 16) for i in (1, 3, 5))\n",
    "\n",
    "    print(rgb_tuple)\n",
    "    \n",
    "    rgb = rgb.replace(\"#\" ,\"\")\n",
    "    rgb = [  rgb[:2] , rgb[2:4] , rgb[4:]   ]\n",
    "    \n",
    "    return f\"rgb{rgb_tuple}\" , rgb_tuple\n",
    "\n",
    "if __name__ == \"__main__\":\n",
    "    selected_color = choose_color()\n",
    "    print(f\"Selected color: {selected_color}\")\n"
   ]
  },
  {
   "cell_type": "code",
   "execution_count": null,
   "metadata": {},
   "outputs": [],
   "source": [
    "import gdown\n",
    "# https://drive.google.com/drive/folders/1BHmXHdn8asQwT-hijo29b6Zc__EvJGeL?usp=share_link\n",
    "\n",
    "file_id = \"1BHmXHdn8asQwT-hijo29b6Zc__EvJGeL\"  # Replace this with your file's ID\n",
    "output_file = \"/\"  # Replace \"data_file.ext\" with the desired output filename and extension\n",
    "\n",
    "gdown.download(f\"https://drive.google.com/uc?id={file_id}\", output_file)\n"
   ]
  },
  {
   "cell_type": "code",
   "execution_count": null,
   "metadata": {},
   "outputs": [],
   "source": [
    "# download the data from g drive\n",
    "\n",
    "import gdown\n",
    "url = \"https://drive.google.com/file/d/12jiQxJzYSYl3wnC8x5wHAhRzzJmmsCXP/view?usp=sharing\"\n",
    "file_id = url.split(\"/\")[-2]\n",
    "print(file_id)\n",
    "prefix = 'https://drive.google.com/uc?/export=download&id='\n",
    "gdown.download(prefix+file_id, \"catdog.zip\")"
   ]
  },
  {
   "cell_type": "code",
   "execution_count": null,
   "metadata": {},
   "outputs": [],
   "source": [
    "!pip install gdown"
   ]
  },
  {
   "cell_type": "markdown",
   "metadata": {},
   "source": [
    "\n"
   ]
  },
  {
   "cell_type": "markdown",
   "metadata": {},
   "source": []
  }
 ],
 "metadata": {
  "kernelspec": {
   "display_name": "Python 3 (ipykernel)",
   "language": "python",
   "name": "python3"
  },
  "language_info": {
   "codemirror_mode": {
    "name": "ipython",
    "version": 3
   },
   "file_extension": ".py",
   "mimetype": "text/x-python",
   "name": "python",
   "nbconvert_exporter": "python",
   "pygments_lexer": "ipython3",
   "version": "3.11.5"
  }
 },
 "nbformat": 4,
 "nbformat_minor": 4
}
