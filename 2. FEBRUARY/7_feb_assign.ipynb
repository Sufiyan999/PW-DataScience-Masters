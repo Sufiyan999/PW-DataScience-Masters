{
 "cells": [
  {
   "cell_type": "markdown",
   "id": "6d670cf0-f541-45b8-9f9b-a458c6b4d593",
   "metadata": {},
   "source": [
    "Ans_1.\n"
   ]
  },
  {
   "cell_type": "code",
   "execution_count": 10,
   "id": "1f717a7e-a759-4f75-855b-c7d561fe6ad8",
   "metadata": {},
   "outputs": [],
   "source": [
    "def check_pass(pas):\n",
    "    u , l , d , sp = 0 , 0  , 0, 0\n",
    "    specialchar = '~`!@#$%^7*()-_=+\\|[{}];:\",<>./?' + \"'\"     \n",
    "    if len(pas) > 9:                     # if len(pas) > 9:  (when we want legth of the password to be atleast 10 char long) ,for exact 10 char password -> if len(pas) == 10:\n",
    "        for i in pas:\n",
    "            if i.islower():\n",
    "                l += 1\n",
    "            elif i.isupper():\n",
    "                u += 1    \n",
    "            elif i.isdigit():\n",
    "                d += 1 \n",
    "            elif i in specialchar:\n",
    "                sp += 1\n",
    "        if (l>1 and u >1  and  d>0 and sp >2):\n",
    "            return 'Valid Password'\n",
    "    return 'Invalid Password'  "
   ]
  },
  {
   "cell_type": "code",
   "execution_count": 14,
   "id": "76e027ad-20e9-4e03-b66d-d8eb6146e32b",
   "metadata": {},
   "outputs": [
    {
     "data": {
      "text/plain": [
       "'Valid Password'"
      ]
     },
     "execution_count": 14,
     "metadata": {},
     "output_type": "execute_result"
    }
   ],
   "source": [
    "example = 'SUfi1!@#_extra'\n",
    "check_pass(example)"
   ]
  },
  {
   "cell_type": "code",
   "execution_count": 13,
   "id": "07b1122b-6a3d-4e5e-b061-ee937b9047af",
   "metadata": {},
   "outputs": [
    {
     "data": {
      "text/plain": [
       "'Invalid Password'"
      ]
     },
     "execution_count": 13,
     "metadata": {},
     "output_type": "execute_result"
    }
   ],
   "source": [
    "check_pass('acefaefca123')"
   ]
  },
  {
   "cell_type": "markdown",
   "id": "b78d8629-ac82-4c8d-b9f3-1a4c2fea08cb",
   "metadata": {},
   "source": [
    "Ans_2"
   ]
  },
  {
   "cell_type": "markdown",
   "id": "1f4e2f76-e25d-42aa-91b3-23d3b015d641",
   "metadata": {},
   "source": [
    "1."
   ]
  },
  {
   "cell_type": "code",
   "execution_count": 15,
   "id": "6be8257c-6440-4424-b538-1ea40f75027f",
   "metadata": {},
   "outputs": [],
   "source": [
    "temp = lambda st , char : st[0] == char"
   ]
  },
  {
   "cell_type": "code",
   "execution_count": 17,
   "id": "f3984db5-99ee-4138-aa24-f103a06f7bd1",
   "metadata": {},
   "outputs": [
    {
     "data": {
      "text/plain": [
       "True"
      ]
     },
     "execution_count": 17,
     "metadata": {},
     "output_type": "execute_result"
    }
   ],
   "source": [
    "temp('sefety' ,'s')"
   ]
  },
  {
   "cell_type": "markdown",
   "id": "449c2de6-a436-4255-b387-b0d82a7b5b86",
   "metadata": {},
   "source": [
    "2."
   ]
  },
  {
   "cell_type": "code",
   "execution_count": 8,
   "id": "f63f36b7-38aa-40c9-a07b-18eea18272e2",
   "metadata": {},
   "outputs": [],
   "source": [
    "def check(st):\n",
    "    numbers = '1234567890.'\n",
    "    new = list(filter(lambda i : True if i in numbers else False , st))\n",
    "    new = ''.join(new)\n",
    "    return new==st"
   ]
  },
  {
   "cell_type": "code",
   "execution_count": 11,
   "id": "f761d381-8bb5-4e09-8b59-7a7e19315fcc",
   "metadata": {},
   "outputs": [
    {
     "data": {
      "text/plain": [
       "True"
      ]
     },
     "execution_count": 11,
     "metadata": {},
     "output_type": "execute_result"
    }
   ],
   "source": [
    "check('12445')"
   ]
  },
  {
   "cell_type": "markdown",
   "id": "f80b50a7-fda5-4675-983d-bbc1939b315c",
   "metadata": {},
   "source": [
    "3."
   ]
  },
  {
   "cell_type": "code",
   "execution_count": 4,
   "id": "91dad5b1-a501-428a-92f2-78823c73d132",
   "metadata": {},
   "outputs": [],
   "source": [
    "target = [('mango' , 99) , ('orange' , 80) , ('grapes' , 1000)]"
   ]
  },
  {
   "cell_type": "code",
   "execution_count": 16,
   "id": "ae075ff7-877c-40a4-94ca-844aee4d1696",
   "metadata": {},
   "outputs": [],
   "source": [
    "def swap(l , i):\n",
    "    temp = l[i]\n",
    "    l[i] = l[i+1]\n",
    "    l[i+1] = temp\n",
    "    \n",
    "comp = lambda l , i: l[i][1] > l[i+1][1]"
   ]
  },
  {
   "cell_type": "code",
   "execution_count": 17,
   "id": "994ad613-e479-4355-a2fb-77f1a8f706ce",
   "metadata": {},
   "outputs": [],
   "source": [
    "def sort(ls):\n",
    "    for i in range(len(ls)-1):\n",
    "          for j in range(len(ls)-1):\n",
    "                if comp(ls , j):\n",
    "                    swap(ls , j)\n",
    "                    \n",
    "    return ls                "
   ]
  },
  {
   "cell_type": "code",
   "execution_count": 18,
   "id": "1c04ffd2-c0b8-4bbd-9ee3-9d81d0be3800",
   "metadata": {},
   "outputs": [
    {
     "data": {
      "text/plain": [
       "[('orange', 80), ('mango', 99), ('grapes', 1000)]"
      ]
     },
     "execution_count": 18,
     "metadata": {},
     "output_type": "execute_result"
    }
   ],
   "source": [
    "sort(target)"
   ]
  },
  {
   "cell_type": "markdown",
   "id": "13a0a9dd-7e73-4368-b89e-98018dd4848e",
   "metadata": {},
   "source": [
    "4."
   ]
  },
  {
   "cell_type": "code",
   "execution_count": 19,
   "id": "e44a4bf5-be6c-4d74-936d-0b17b9c038b6",
   "metadata": {},
   "outputs": [],
   "source": [
    "sqr = [i*2 for i in range(1,11)]"
   ]
  },
  {
   "cell_type": "code",
   "execution_count": 20,
   "id": "c6dd296a-440f-4d86-927a-c7439556182e",
   "metadata": {},
   "outputs": [
    {
     "data": {
      "text/plain": [
       "[2, 4, 6, 8, 10, 12, 14, 16, 18, 20]"
      ]
     },
     "execution_count": 20,
     "metadata": {},
     "output_type": "execute_result"
    }
   ],
   "source": [
    "sqr"
   ]
  },
  {
   "cell_type": "markdown",
   "id": "b3ead181-42bf-4f5f-a07a-f29f184c7a87",
   "metadata": {},
   "source": [
    "5."
   ]
  },
  {
   "cell_type": "code",
   "execution_count": 32,
   "id": "ac13ac3c-ccb8-4450-b62b-ccc39e8e58fc",
   "metadata": {},
   "outputs": [
    {
     "data": {
      "text/plain": [
       "[1.0,\n",
       " 1.2599210498948732,\n",
       " 1.4422495703074083,\n",
       " 1.5874010519681994,\n",
       " 1.7099759466766968,\n",
       " 1.8171205928321397,\n",
       " 1.912931182772389,\n",
       " 2.0,\n",
       " 2.080083823051904,\n",
       " 2.154434690031884]"
      ]
     },
     "execution_count": 32,
     "metadata": {},
     "output_type": "execute_result"
    }
   ],
   "source": [
    "list(map(lambda x: pow(x, 1/3) , [i  for i in range(1,11)]))"
   ]
  },
  {
   "cell_type": "markdown",
   "id": "f24815dc-dc47-468d-8084-298429d9b742",
   "metadata": {},
   "source": [
    "6."
   ]
  },
  {
   "cell_type": "code",
   "execution_count": 33,
   "id": "9c3277fa-7d7c-4dcd-adb7-409daf67284a",
   "metadata": {},
   "outputs": [],
   "source": [
    "check = lambda x : x%2 == 0"
   ]
  },
  {
   "cell_type": "code",
   "execution_count": 34,
   "id": "81b3cbe5-5903-4090-aa26-bd5bf47c8ba7",
   "metadata": {},
   "outputs": [
    {
     "data": {
      "text/plain": [
       "True"
      ]
     },
     "execution_count": 34,
     "metadata": {},
     "output_type": "execute_result"
    }
   ],
   "source": [
    "check(2)"
   ]
  },
  {
   "cell_type": "code",
   "execution_count": 35,
   "id": "a8517706-92fe-443e-ad84-e403e67ff3d2",
   "metadata": {},
   "outputs": [],
   "source": [
    "def even_odd(num):\n",
    "    if check(num):\n",
    "        print('The no is even')\n",
    "        return True\n",
    "    print('The no. is odd')\n",
    "    return False\n"
   ]
  },
  {
   "cell_type": "code",
   "execution_count": 36,
   "id": "7f9bd4d6-9ce1-4b84-ac07-5525c0548309",
   "metadata": {},
   "outputs": [
    {
     "name": "stdout",
     "output_type": "stream",
     "text": [
      "The no. is odd\n"
     ]
    },
    {
     "data": {
      "text/plain": [
       "False"
      ]
     },
     "execution_count": 36,
     "metadata": {},
     "output_type": "execute_result"
    }
   ],
   "source": [
    "even_odd(3)"
   ]
  },
  {
   "cell_type": "markdown",
   "id": "7ddc25b4-96ee-4926-aac7-e361a9cad005",
   "metadata": {},
   "source": [
    "7."
   ]
  },
  {
   "cell_type": "code",
   "execution_count": 39,
   "id": "a7b2f7dd-7356-4e60-9ee0-ddbbe16c9f01",
   "metadata": {},
   "outputs": [
    {
     "data": {
      "text/plain": [
       "[1, 2, 3, 4, 5, 6, 7, 8, 9, 10]"
      ]
     },
     "execution_count": 39,
     "metadata": {},
     "output_type": "execute_result"
    }
   ],
   "source": [
    "lst = [i  for i in range(1,11)]\n",
    "lst"
   ]
  },
  {
   "cell_type": "code",
   "execution_count": 40,
   "id": "940f954a-17be-4c7d-9a50-00304c8a23b6",
   "metadata": {},
   "outputs": [
    {
     "data": {
      "text/plain": [
       "[1, 3, 5, 7, 9]"
      ]
     },
     "execution_count": 40,
     "metadata": {},
     "output_type": "execute_result"
    }
   ],
   "source": [
    "list(filter(lambda x : x%2 != 0 , lst))"
   ]
  },
  {
   "cell_type": "markdown",
   "id": "2dc75e11-bb71-4672-843b-024acee74aa8",
   "metadata": {},
   "source": [
    "8."
   ]
  },
  {
   "cell_type": "code",
   "execution_count": 41,
   "id": "d95c8e1d-4966-4ebf-9e41-440dae963d7e",
   "metadata": {},
   "outputs": [],
   "source": [
    "lst = [1,2,3,4,5,6,-1,-2,-3,-4,-5,0]"
   ]
  },
  {
   "cell_type": "code",
   "execution_count": 43,
   "id": "2af01776-1cdf-4524-95fe-5e6b21e68f71",
   "metadata": {},
   "outputs": [
    {
     "data": {
      "text/plain": [
       "[1, 2, 3, 4, 5, 6, 0]"
      ]
     },
     "execution_count": 43,
     "metadata": {},
     "output_type": "execute_result"
    }
   ],
   "source": [
    "list(filter(lambda x : x >=0 , lst))"
   ]
  },
  {
   "cell_type": "code",
   "execution_count": 44,
   "id": "7a422c70-aef3-4a61-968a-1d1412ff5a29",
   "metadata": {},
   "outputs": [
    {
     "data": {
      "text/plain": [
       "[-1, -2, -3, -4, -5]"
      ]
     },
     "execution_count": 44,
     "metadata": {},
     "output_type": "execute_result"
    }
   ],
   "source": [
    "list(filter(lambda x : x < 0 , lst))"
   ]
  },
  {
   "cell_type": "code",
   "execution_count": null,
   "id": "f1a71042-bbb8-4b7a-98cc-310241cd6c83",
   "metadata": {},
   "outputs": [],
   "source": []
  }
 ],
 "metadata": {
  "kernelspec": {
   "display_name": "Python 3 (ipykernel)",
   "language": "python",
   "name": "python3"
  },
  "language_info": {
   "codemirror_mode": {
    "name": "ipython",
    "version": 3
   },
   "file_extension": ".py",
   "mimetype": "text/x-python",
   "name": "python",
   "nbconvert_exporter": "python",
   "pygments_lexer": "ipython3",
   "version": "3.9.15"
  },
  "widgets": {
   "application/vnd.jupyter.widget-state+json": {
    "state": {},
    "version_major": 2,
    "version_minor": 0
   }
  }
 },
 "nbformat": 4,
 "nbformat_minor": 5
}
