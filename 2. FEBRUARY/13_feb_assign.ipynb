{
 "cells": [
  {
   "cell_type": "markdown",
   "id": "43d5db0b-17f3-467a-995b-80be9e673a4d",
   "metadata": {},
   "source": [
    "Ans_1."
   ]
  },
  {
   "cell_type": "markdown",
   "id": "0389ccb6-d7a6-4837-9fe4-ad04ec63dc10",
   "metadata": {},
   "source": [
    "In Python, all built-in exceptions (such as TypeError, ValueError, IndexError, etc.) are subclasses of the Exception class, which itself is a subclass of the BaseException class. When you create a custom exception class in Python, it's generally recommended to inherit from the Exception class (or one of its subclasses) to maintain consistency with the built-in exceptions.\n",
    "\n",
    "By inheriting from the Exception class, your custom exception class inherits all of the functionality of the base Exception class, such as the ability to add an error message and handle the exception using try and except blocks. It also ensures that your custom exception class is recognized as an exception type in Python, which allows you to use it in the same way as other built-in exception types.\n",
    "\n",
    "Additionally, when you inherit from the Exception class, you can override the __str__ method to provide more informative error messages when the exception is raised. This allows you to provide more detailed information about what went wrong and how to fix it, which can be helpful to users who encounter the error.\n",
    "\n",
    "In short, by inheriting from the Exception class, you can create custom exception classes that are consistent with built-in exception types, inherit all of the functionality of the base Exception class, and provide informative error messages to users when the exception is raised."
   ]
  },
  {
   "cell_type": "markdown",
   "id": "eb8b2b26-6199-46ad-85b8-36050464a670",
   "metadata": {},
   "source": [
    "Ans_2."
   ]
  },
  {
   "cell_type": "code",
   "execution_count": 6,
   "id": "e602c4fd-820b-4b97-92c4-33c80b0305b8",
   "metadata": {},
   "outputs": [
    {
     "name": "stdout",
     "output_type": "stream",
     "text": [
      "Python Exception Hierarchy:\n",
      "\t - ArithmeticError\n",
      "\t - AssertionError\n",
      "\t - AttributeError\n",
      "\t - BaseException\n",
      "\t - BlockingIOError\n",
      "\t - BrokenPipeError\n",
      "\t - BufferError\n",
      "\t - BytesWarning\n",
      "\t - ChildProcessError\n",
      "\t - ConnectionAbortedError\n",
      "\t - ConnectionError\n",
      "\t - ConnectionRefusedError\n",
      "\t - ConnectionResetError\n",
      "\t - DeprecationWarning\n",
      "\t - EOFError\n",
      "\t - EnvironmentError\n",
      "\t - Exception\n",
      "\t - FileExistsError\n",
      "\t - FileNotFoundError\n",
      "\t - FloatingPointError\n",
      "\t - FutureWarning\n",
      "\t - GeneratorExit\n",
      "\t - IOError\n",
      "\t - ImportError\n",
      "\t - ImportWarning\n",
      "\t - IndentationError\n",
      "\t - IndexError\n",
      "\t - InterruptedError\n",
      "\t - IsADirectoryError\n",
      "\t - KeyError\n",
      "\t - KeyboardInterrupt\n",
      "\t - LookupError\n",
      "\t - MemoryError\n",
      "\t - ModuleNotFoundError\n",
      "\t - NameError\n",
      "\t - NotADirectoryError\n",
      "\t - NotImplementedError\n",
      "\t - OSError\n",
      "\t - OverflowError\n",
      "\t - PendingDeprecationWarning\n",
      "\t - PermissionError\n",
      "\t - ProcessLookupError\n",
      "\t - RecursionError\n",
      "\t - ReferenceError\n",
      "\t - ResourceWarning\n",
      "\t - RuntimeError\n",
      "\t - RuntimeWarning\n",
      "\t - StopAsyncIteration\n",
      "\t - StopIteration\n",
      "\t - SyntaxError\n",
      "\t - SyntaxWarning\n",
      "\t - SystemError\n",
      "\t - SystemExit\n",
      "\t - TabError\n",
      "\t - TimeoutError\n",
      "\t - TypeError\n",
      "\t - UnboundLocalError\n",
      "\t - UnicodeDecodeError\n",
      "\t - UnicodeEncodeError\n",
      "\t - UnicodeError\n",
      "\t - UnicodeTranslateError\n",
      "\t - UnicodeWarning\n",
      "\t - UserWarning\n",
      "\t - ValueError\n",
      "\t - Warning\n",
      "\t - WindowsError\n",
      "\t - ZeroDivisionError\n"
     ]
    }
   ],
   "source": [
    "import inspect\n",
    "import builtins\n",
    "\n",
    "print(\"Python Exception Hierarchy:\")\n",
    "\n",
    "for name, obj in inspect.getmembers(builtins):\n",
    "    if inspect.isclass(obj) and issubclass(obj, BaseException):\n",
    "        print(f\"\\t - {name}\")"
   ]
  },
  {
   "cell_type": "markdown",
   "id": "3717d255-bb26-4bd3-9b96-6030e3d94055",
   "metadata": {},
   "source": [
    "Ans_3."
   ]
  },
  {
   "cell_type": "raw",
   "id": "a72fb18d-4447-4d7f-a3c0-bd23c11517d2",
   "metadata": {},
   "source": [
    "The ArithmeticError class is a built-in exception class in Python that represents errors that occur during arithmetic operations. It is a subclass of the Exception class and the base class for more specific arithmetic exception classes such as ZeroDivisionError, OverflowError, and FloatingPointError."
   ]
  },
  {
   "cell_type": "markdown",
   "id": "bd14a3c2-2479-43c5-8bc4-4c6ea11ab928",
   "metadata": {},
   "source": [
    "Here are two examples of arithmetic errors defined in the ArithmeticError class:"
   ]
  },
  {
   "cell_type": "markdown",
   "id": "d97b3ba0-4485-475c-993f-f1d684de27c6",
   "metadata": {},
   "source": [
    "OverflowError: This exception is raised when the result of an arithmetic operation is too large to be represented in memory."
   ]
  },
  {
   "cell_type": "code",
   "execution_count": 10,
   "id": "8a35a7dd-604b-4ba4-a2e1-f8c2fe810065",
   "metadata": {},
   "outputs": [
    {
     "name": "stdout",
     "output_type": "stream",
     "text": [
      "result too large\n",
      "Error: math range error\n"
     ]
    }
   ],
   "source": [
    "import math\n",
    "\n",
    "try:\n",
    "    x = math.exp(1000)\n",
    "except OverflowError as e:\n",
    "    print('result too large')\n",
    "    print(\"Error:\" , e)\n"
   ]
  },
  {
   "cell_type": "markdown",
   "id": "447a6190-88ff-4f7d-bc77-31739fe8c427",
   "metadata": {},
   "source": [
    "ValueError: This error occurs when a built-in operation or function receives an argument that has the right type but an inappropriate value. For example, consider the following code"
   ]
  },
  {
   "cell_type": "code",
   "execution_count": 19,
   "id": "e77d9989-648f-482b-93e4-f75f5f5998f6",
   "metadata": {},
   "outputs": [
    {
     "name": "stdout",
     "output_type": "stream",
     "text": [
      "Error: invalid input value\n"
     ]
    }
   ],
   "source": [
    "import math\n",
    "\n",
    "try:\n",
    "    x = -1\n",
    "    y = math.sqrt(x)\n",
    "except ValueError:\n",
    "    print(\"Error: invalid input value\")"
   ]
  },
  {
   "cell_type": "markdown",
   "id": "dc36661d-2c9c-4ed9-bb69-48596665bd19",
   "metadata": {},
   "source": [
    "Ans_4."
   ]
  },
  {
   "cell_type": "markdown",
   "id": "fd21ca46-9a11-4e95-ae73-9e75772afbeb",
   "metadata": {},
   "source": [
    "The LookupError class is used as a base class for all lookup errors in Python. It is a subclass of the Exception class, which means that it is used to handle all exceptions that occur when searching for an item in a sequence or mapping. Examples of lookup errors in Python include KeyError and IndexError"
   ]
  },
  {
   "cell_type": "markdown",
   "id": "391eb0d5-1c32-48ec-9ed8-42aeef7b27a3",
   "metadata": {},
   "source": [
    "KeyError occurs when you try to access a dictionary key that does not exist."
   ]
  },
  {
   "cell_type": "code",
   "execution_count": 21,
   "id": "b092a269-92f2-47ca-aba7-2034c48173d5",
   "metadata": {},
   "outputs": [
    {
     "name": "stdout",
     "output_type": "stream",
     "text": [
      "Error: 'd'\n"
     ]
    }
   ],
   "source": [
    "try:\n",
    "    my_dict = {'a': 1, 'b': 2, 'c': 3}\n",
    "    print(my_dict['d'])\n",
    "except KeyError as e:\n",
    "    print(f\"Error: {e}\")"
   ]
  },
  {
   "cell_type": "markdown",
   "id": "081df26c-9497-43dd-ac77-00ae74549ca2",
   "metadata": {},
   "source": [
    "IndexError occurs when you try to access a list or tuple index that is out of range. For example:"
   ]
  },
  {
   "cell_type": "code",
   "execution_count": 22,
   "id": "cc612085-1996-447b-a4cd-720e4fb5c627",
   "metadata": {},
   "outputs": [
    {
     "name": "stdout",
     "output_type": "stream",
     "text": [
      "Error: list index out of range\n"
     ]
    }
   ],
   "source": [
    "try:\n",
    "    my_list = [1, 2, 3]\n",
    "    print(my_list[3])\n",
    "except IndexError as e:\n",
    "    print(f\"Error: {e}\")"
   ]
  },
  {
   "cell_type": "markdown",
   "id": "6d158d03-45c6-4b8c-a03d-3c6baf201779",
   "metadata": {},
   "source": [
    "Ans_5."
   ]
  },
  {
   "cell_type": "markdown",
   "id": "a99ce28a-3c74-47e8-9ea0-448d67e20358",
   "metadata": {},
   "source": [
    "ImportError is a standard Python exception that is raised when a module, which is being imported in the current program, cannot be found by the Python interpreter. This can happen for various reasons like the module file is not found, the module is not installed on the system, there is a syntax error in the module code or there is a circular import.\n",
    "\n",
    "ModuleNotFoundError is a subclass of ImportError that was introduced in Python 3.6. This exception is raised when the interpreter cannot find the module, i.e., the module is not installed on the system or is not in the search path for Python modules."
   ]
  },
  {
   "cell_type": "code",
   "execution_count": null,
   "id": "ab7b95ca-e453-4b05-852b-3507c7941b4a",
   "metadata": {},
   "outputs": [],
   "source": []
  },
  {
   "cell_type": "code",
   "execution_count": 26,
   "id": "2691bcf2-a9e2-4493-92ae-7a4900c9d208",
   "metadata": {},
   "outputs": [
    {
     "name": "stdout",
     "output_type": "stream",
     "text": [
      "Module not found on the system\n"
     ]
    }
   ],
   "source": [
    "try:\n",
    "    import my_module \n",
    "except ModuleNotFoundError:\n",
    "    print(\"Module not found on the system\")\n",
    "except ImportError:\n",
    "    print(\"Unable to import the required module\")    "
   ]
  },
  {
   "cell_type": "markdown",
   "id": "29245830-9834-413f-ad7f-774dcf9bf544",
   "metadata": {},
   "source": [
    "Ans_6."
   ]
  },
  {
   "cell_type": "markdown",
   "id": "5f9c80ed-d519-4526-ac80-3f9e7d597150",
   "metadata": {},
   "source": [
    "some best practices for exception handling in Python:\n",
    "\n",
    "Handle only the exceptions that you are expecting: Always try to catch only the exceptions that you are expecting and handle them in the most appropriate way. Do not catch all exceptions using a generic except block as it may hide some unexpected errors.\n",
    "\n",
    "Use multiple except blocks to handle different types of exceptions: Use separate except blocks to handle different types of exceptions. This will make your code more readable and easier to understand.\n",
    "\n",
    "Be specific when catching exceptions: When catching an exception, be specific about the type of exception that you are catching. For example, if you are expecting a ValueError, catch only that exception and not a more generic Exception class.\n",
    "\n",
    "Use finally block to release resources: Use the finally block to release any resources that your code has acquired, such as files or network connections. The finally block is executed whether or not an exception is thrown, so it is a good place to put any cleanup code.\n",
    "\n",
    "Use the with statement to automatically close files: When working with files, use the with statement to ensure that the file is automatically closed when the block is exited. This can help avoid issues like forgetting to close a file or a file remaining open if an exception is raised.\n",
    "\n",
    "Log errors: Always log any errors that occur so that you can easily trace and debug the issues.\n",
    "\n",
    "Raise exceptions sparingly: Raise exceptions only when necessary, i.e., when the code cannot recover from the error. In other cases, you can return an error code or use a default value to handle the error condition.\n",
    "\n",
    "Keep your code concise: Write concise and readable code that is easy to understand and maintain. Avoid nesting too many try-except blocks or too many if-else conditions.\n",
    "\n",
    "Test your code thoroughly: Write test cases that cover all possible scenarios and edge cases to ensure that your code is robust and handles all possible exceptions."
   ]
  },
  {
   "cell_type": "code",
   "execution_count": null,
   "id": "1de9a942-4ea2-454a-a3ce-2afc297c4614",
   "metadata": {},
   "outputs": [],
   "source": []
  }
 ],
 "metadata": {
  "kernelspec": {
   "display_name": "Python 3 (ipykernel)",
   "language": "python",
   "name": "python3"
  },
  "language_info": {
   "codemirror_mode": {
    "name": "ipython",
    "version": 3
   },
   "file_extension": ".py",
   "mimetype": "text/x-python",
   "name": "python",
   "nbconvert_exporter": "python",
   "pygments_lexer": "ipython3",
   "version": "3.9.15"
  },
  "widgets": {
   "application/vnd.jupyter.widget-state+json": {
    "state": {},
    "version_major": 2,
    "version_minor": 0
   }
  }
 },
 "nbformat": 4,
 "nbformat_minor": 5
}
