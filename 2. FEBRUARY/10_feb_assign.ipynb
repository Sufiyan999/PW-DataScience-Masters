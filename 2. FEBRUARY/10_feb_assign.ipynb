{
 "cells": [
  {
   "cell_type": "markdown",
   "id": "d3698f08-81e9-430c-af13-0f1c1a3c7b5b",
   "metadata": {},
   "source": [
    "Ans_1."
   ]
  },
  {
   "cell_type": "markdown",
   "id": "3e01ad58-063b-4d3d-93e8-2245e496baf8",
   "metadata": {},
   "source": [
    "To open a file in Python ,You can use the built-in open() function .the synstax for the open() function is :"
   ]
  },
  {
   "cell_type": "code",
   "execution_count": null,
   "id": "bb1355f6-2b4e-464d-947d-fc86d920fe83",
   "metadata": {},
   "outputs": [],
   "source": [
    "file_obj = open(file_path , mode)"
   ]
  },
  {
   "cell_type": "markdown",
   "id": "e743d244-7906-40d7-8fd1-78facec39c42",
   "metadata": {},
   "source": [
    "where:\n",
    "  * file_path is the path to that file,you can only specify the if file is in sam eworking directory.\n",
    "  * mode is a string that represent in which we want to open a file(eg. read_only ,write _only)\n"
   ]
  },
  {
   "cell_type": "markdown",
   "id": "21d6d129-cef7-4541-a5b3-1d231aa5de66",
   "metadata": {},
   "source": [
    "We can open a file in various modes depending on what operation you want to perform on the file. each of which specifies how the file will be opened and read or written to . different modes are as follows:"
   ]
  },
  {
   "cell_type": "markdown",
   "id": "33c9937f-9d69-4306-a7b4-c8504f252ce0",
   "metadata": {},
   "source": [
    "1. 'r' (read mode):  This is default mode of opening a file .in this mode ,the file is opened for reading only.if the file does not exist or cannot be found , it will raise an error. the file pointer is placed at the beginning of the file"
   ]
  },
  {
   "cell_type": "markdown",
   "id": "0777b13f-8cc4-4661-8f79-bce0d926915f",
   "metadata": {},
   "source": [
    "2. 'w' (Write mode): In this mode,the file is opened for writing ,if the file already exists, it will be overwritten means it will truncate the file. if the file does not exist, a new file will be created . The file pointer is placed at the beginning of the file."
   ]
  },
  {
   "cell_type": "markdown",
   "id": "5701582f-145c-438b-8fad-f9bfd89d0b1e",
   "metadata": {},
   "source": [
    "3. 'a' (Append mode): In this mode, the file is opened for writing ,but data is appended to the end of the file instead of overwriting it.if the file does not exist ,a new file will be created .the file file pointer is placed at beginning"
   ]
  },
  {
   "cell_type": "markdown",
   "id": "1e3db081-386c-4bdd-8739-677a6055c195",
   "metadata": {},
   "source": [
    "4. 'x' ( Exlusive mode) : creates the specified file, if file exist raises an error"
   ]
  },
  {
   "cell_type": "markdown",
   "id": "0a3fe962-28ec-4c38-8dab-aaec5bdf6999",
   "metadata": {},
   "source": [
    "5. 't'(Text mode): This mode is default mode used by python, it reads and writes the data as sequence of uncode characters,it can be specified by appending 't' to the mode string. eg. 'rt' , 'wt' , 'at' ."
   ]
  },
  {
   "cell_type": "markdown",
   "id": "16cf13f8-3a21-4493-8aa0-6cd990c97a5b",
   "metadata": {},
   "source": [
    "6. 'b'(Binary mode): this mode is used when reading non-text files, such as images or binary data , it reads and writes the data as sequence of bytes. Binary mode\n",
    "is specified by appending 'b' to the mode string.eg. 'rb' , 'wb' , 'ab'."
   ]
  },
  {
   "cell_type": "markdown",
   "id": "a7d6d0f5-8d06-4c78-a105-fb42ae050802",
   "metadata": {},
   "source": [
    "Ans_2."
   ]
  },
  {
   "cell_type": "markdown",
   "id": "258759d3-4428-4bb6-ae31-0a49f1b72b3b",
   "metadata": {},
   "source": [
    "The close() function is used in python to close an opened file after the operations on the file are completed . \n",
    "\n",
    "It is important to close a file after reading or writing into it in order to free up any system resources that the file  may be using .If a file is not closed, it may cause memory leaks or prevent other programs from accessing the file(which is called file locking).\n",
    "when we open a file the OS creates a file object to represent the file which contains information about the file like name,location.\n"
   ]
  },
  {
   "cell_type": "markdown",
   "id": "585e0821-00ed-4f59-829c-cabcc791ec73",
   "metadata": {},
   "source": [
    "Ans_3."
   ]
  },
  {
   "cell_type": "code",
   "execution_count": 17,
   "id": "eb8a2b0e-c70a-42ba-95ee-cc4c0def51a2",
   "metadata": {},
   "outputs": [
    {
     "name": "stdout",
     "output_type": "stream",
     "text": [
      "‘I want to become a Data Scientist.’\n"
     ]
    }
   ],
   "source": [
    "content = \"‘I want to become a Data Scientist.’\"\n",
    "f = open('profile.txt' , 'w')\n",
    "f.write(content)\n",
    "file.close()\n",
    "\n",
    "file = open(\"profile.txt\" , 'r')\n",
    "txt = file.read()\n",
    "print(txt)\n",
    "file.close()"
   ]
  },
  {
   "cell_type": "markdown",
   "id": "64ab77ff-ac64-4e3b-b006-31f945205c01",
   "metadata": {},
   "source": [
    "Ans_4."
   ]
  },
  {
   "cell_type": "markdown",
   "id": "87ad5452-884a-43a3-87b4-a8f8e82bb995",
   "metadata": {},
   "source": [
    "1.read() method is used to read the entire content of filea file as a single string .it takes an optional argument taht specify the no. of bytes to read.if no argument is specified ,it reads the entire file."
   ]
  },
  {
   "cell_type": "code",
   "execution_count": 11,
   "id": "83714d66-0f7d-48e1-9b28-33cef5791798",
   "metadata": {},
   "outputs": [
    {
     "name": "stdout",
     "output_type": "stream",
     "text": [
      "this is a content in the example file\n",
      "this is 2nd line\n",
      "this is the 3rd one\n",
      "and EOF\n",
      "\n"
     ]
    }
   ],
   "source": [
    "file = open(\"example.txt\" , 'r')\n",
    "txt = file.read()\n",
    "print(txt)\n",
    "file.close()"
   ]
  },
  {
   "cell_type": "markdown",
   "id": "81b0c4ae-a4db-4098-ac93-01eee08bbc66",
   "metadata": {},
   "source": [
    "2.realine() method is used to read a single line as string from the file ,including '\\n' char at the end of the line'"
   ]
  },
  {
   "cell_type": "code",
   "execution_count": 12,
   "id": "583e8d30-7dc8-4691-adcb-19e5c634ca7e",
   "metadata": {},
   "outputs": [
    {
     "name": "stdout",
     "output_type": "stream",
     "text": [
      "this is a content in the example file\n",
      "\n"
     ]
    }
   ],
   "source": [
    "file = open(\"example.txt\" , 'r')\n",
    "\n",
    "line = file.readline()\n",
    "print(line)\n",
    "file.close()"
   ]
  },
  {
   "cell_type": "markdown",
   "id": "a9786880-e0e4-4e47-94d4-26a9a3bbd7d4",
   "metadata": {},
   "source": [
    "3.readline() is used to read all lines from a file and return them as a list of string."
   ]
  },
  {
   "cell_type": "code",
   "execution_count": 13,
   "id": "d59a8faa-8885-470b-bd89-fa315ed70588",
   "metadata": {},
   "outputs": [
    {
     "name": "stdout",
     "output_type": "stream",
     "text": [
      "['this is a content in the example file\\n', 'this is 2nd line\\n', 'this is the 3rd one\\n', 'and EOF\\n']\n"
     ]
    }
   ],
   "source": [
    "file = open(\"example.txt\" , 'r')\n",
    "ls = file.readlines()\n",
    "print(ls)\n",
    "file.close()"
   ]
  },
  {
   "cell_type": "markdown",
   "id": "72d60563-a481-4a8e-939d-816de3888400",
   "metadata": {},
   "source": [
    "Ans_5."
   ]
  },
  {
   "cell_type": "markdown",
   "id": "dc30a532-bfa8-4bf7-9a46-263be36e0a4a",
   "metadata": {},
   "source": [
    "The 'with' statement is used in before open() for file I/O operations. It provides a more concise way of working with files , and ensures that the files is properly closed when we are done working with it."
   ]
  },
  {
   "cell_type": "code",
   "execution_count": 14,
   "id": "da49e0a2-5535-4336-9429-530877de0542",
   "metadata": {},
   "outputs": [
    {
     "name": "stdout",
     "output_type": "stream",
     "text": [
      "this is a content in the example file\n",
      "this is 2nd line\n",
      "this is the 3rd one\n",
      "and EOF\n",
      "\n"
     ]
    }
   ],
   "source": [
    "with open('example.txt' , 'r') as f:\n",
    "    content = f.read()\n",
    "    print(content)"
   ]
  },
  {
   "cell_type": "markdown",
   "id": "1b1d4b76-cc86-4d75-be42-52f4d706cf1e",
   "metadata": {},
   "source": [
    "The advantage of using 'with' and 'open' statement together are:\n",
    "\n",
    "    1.automatic file closing : the 'with' statment ensures that the file is properly closed even if an exception raised or an error ocuuured. this also prevents resource leaks.\n",
    "    \n",
    "    2. clean code: code becomes more cocise and readable ,because we don't need to mannualy close the file.\n",
    "    \n",
    "    3.More secure: it helps to prevent errors and bugs that can occur while file handling. it help to prevent security issue s that can arise from leaving open for unauthorised access."
   ]
  },
  {
   "cell_type": "markdown",
   "id": "d9dd3ef8-3f51-4f7f-8237-5dc68b90914d",
   "metadata": {},
   "source": [
    "Ans_6."
   ]
  },
  {
   "cell_type": "markdown",
   "id": "6bd863ed-1ae7-44a9-8833-67f6c20ca41f",
   "metadata": {},
   "source": [
    "1.Write() method is used to write a single string to a file .it takes a string as an argument ,and writes it to the file at the current position . if the file doesn't exist it wil be created ,if it exists it will be truncated."
   ]
  },
  {
   "cell_type": "code",
   "execution_count": 20,
   "id": "179c6775-7e21-4086-ae5c-1545c1406167",
   "metadata": {},
   "outputs": [],
   "source": [
    "with open('example2.txt' , 'w') as f:\n",
    "    f.write('this is written succesfully')"
   ]
  },
  {
   "cell_type": "markdown",
   "id": "fba4a516-a43d-4a20-a19e-da8c975bc789",
   "metadata": {},
   "source": [
    "2. writelines() is used to write multiple string to the file.it takes an iterable (such as list/tuple) of string as input, and writes each string to the file at the current position."
   ]
  },
  {
   "cell_type": "code",
   "execution_count": 28,
   "id": "060dd151-0f4c-49f8-a73d-6917a78a1bc6",
   "metadata": {},
   "outputs": [],
   "source": [
    "with open('example2.txt' , 'w') as f:\n",
    "    ls = ['this is a line \\n' , 'This is test \\n' , 'Goodbye']\n",
    "    f.writelines(ls)"
   ]
  },
  {
   "cell_type": "code",
   "execution_count": null,
   "id": "3b57b34c-be9a-4de6-8197-4a26bb7ae233",
   "metadata": {},
   "outputs": [],
   "source": []
  },
  {
   "cell_type": "code",
   "execution_count": null,
   "id": "25547dee-4a51-4572-9a3f-f78253f07404",
   "metadata": {},
   "outputs": [],
   "source": []
  },
  {
   "cell_type": "code",
   "execution_count": 1,
   "id": "5b389fce-5f8f-4ede-8804-819a92a6059d",
   "metadata": {},
   "outputs": [],
   "source": [
    "#priquisite for  example's\n",
    "\n",
    "content = '''this is a content in the example file\n",
    "this is 2nd line\n",
    "this is the 3rd one\n",
    "and EOF\n",
    "'''\n",
    "with open('example.txt' , 'w') as f:\n",
    "    f.write(content)"
   ]
  },
  {
   "cell_type": "code",
   "execution_count": null,
   "id": "02113fad-640b-45ed-81ac-617109dfab95",
   "metadata": {},
   "outputs": [],
   "source": []
  }
 ],
 "metadata": {
  "kernelspec": {
   "display_name": "Python 3 (ipykernel)",
   "language": "python",
   "name": "python3"
  },
  "language_info": {
   "codemirror_mode": {
    "name": "ipython",
    "version": 3
   },
   "file_extension": ".py",
   "mimetype": "text/x-python",
   "name": "python",
   "nbconvert_exporter": "python",
   "pygments_lexer": "ipython3",
   "version": "3.9.15"
  },
  "widgets": {
   "application/vnd.jupyter.widget-state+json": {
    "state": {},
    "version_major": 2,
    "version_minor": 0
   }
  }
 },
 "nbformat": 4,
 "nbformat_minor": 5
}
