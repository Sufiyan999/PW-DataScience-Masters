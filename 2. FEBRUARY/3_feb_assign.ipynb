{
 "cells": [
  {
   "cell_type": "markdown",
   "id": "9a6ff80f-73d6-4aa3-bca5-174e75aa3c81",
   "metadata": {},
   "source": [
    "Ans_1."
   ]
  },
  {
   "cell_type": "markdown",
   "id": "967fded6-c844-4c1f-ac12-ae54c7af7d9f",
   "metadata": {},
   "source": [
    "In Python ,A function is logical unit of code containing a sequece of statement indented under  a name(Function idetifier) given using the \" def \" keyword followed by paranthesis '()' and colon ':'.and the code inside the function shoild be properly indented."
   ]
  },
  {
   "cell_type": "code",
   "execution_count": 5,
   "id": "fb4a7c45-4486-427d-a94e-5fe81b90796a",
   "metadata": {},
   "outputs": [],
   "source": [
    "def func():\n",
    "    ls = []\n",
    "    for i in range(1,26):\n",
    "            if i%2 != 0:\n",
    "                ls.append(i) \n",
    "           \n",
    "    return ls   "
   ]
  },
  {
   "cell_type": "code",
   "execution_count": 6,
   "id": "fbff5d4e-d9f4-480a-8798-e9e467f0c6e2",
   "metadata": {},
   "outputs": [
    {
     "data": {
      "text/plain": [
       "[1, 3, 5, 7, 9, 11, 13, 15, 17, 19, 21, 23, 25]"
      ]
     },
     "execution_count": 6,
     "metadata": {},
     "output_type": "execute_result"
    }
   ],
   "source": [
    "func()"
   ]
  },
  {
   "cell_type": "markdown",
   "id": "1163a196-3dee-4f7f-91b5-740786353122",
   "metadata": {},
   "source": [
    "Ans_2."
   ]
  },
  {
   "cell_type": "markdown",
   "id": "516825ae-e8d9-4536-872b-c99932838bc3",
   "metadata": {},
   "source": [
    " we use '*args' (non keyword argument) and '**kwargs' (keyword argument) as an argument when we are unsure about the number of arguments to pass in the functions.These allow us to pass varible no. of arguments in the function.'args' and 'kwargs' are not actually reserved keyword , arkstric sign defines the args (single) and kwargs(double).args takes input in the tupple form while kwrags takes input as an dictonary(key ,value) pairs type only."
   ]
  },
  {
   "cell_type": "code",
   "execution_count": 7,
   "id": "b6658936-3b09-4473-b15a-1c214099420c",
   "metadata": {},
   "outputs": [
    {
     "name": "stdout",
     "output_type": "stream",
     "text": [
      "the sum of no. (1, 3) is  :4\n",
      "the sum of no. (1, 2, 4, 5, 6) is  :18\n",
      "the sum of no. (1, 26, 54, 78, 97, 65) is  :321\n"
     ]
    }
   ],
   "source": [
    "def adder(*num):\n",
    "    s = 0\n",
    "    for n in num :\n",
    "        s = s + n\n",
    "    print(f'the sum of no. {num} is  :{s}')\n",
    "adder(1,3)   \n",
    "adder(1,2,4,5,6)\n",
    "adder(1,26, 54,78,97,65)"
   ]
  },
  {
   "cell_type": "code",
   "execution_count": 11,
   "id": "ea918932-8d3b-408c-8a17-68342c5b9c35",
   "metadata": {},
   "outputs": [
    {
     "name": "stdout",
     "output_type": "stream",
     "text": [
      "\n",
      "data type of argument : <class 'dict'>\n",
      "Firstname is abu-Sufiyan\n",
      "Lastname is abitalib\n",
      "Number is 4567234\n",
      "\n",
      "data type of argument : <class 'dict'>\n",
      "Lirstname is khalid\n",
      "Lastname is bin walid\n",
      "Number is 4567\n",
      "Email is random_mail@gmail.com\n",
      "Age is 43\n"
     ]
    }
   ],
   "source": [
    "def intro(**data):\n",
    "     print('\\ndata type of argument :' , type(data))\n",
    "     for key ,value in data.items():\n",
    "        print(f'{key} is {value}')\n",
    "        \n",
    "intro(Firstname = 'abu-Sufiyan' , Lastname = 'abitalib' , Number = 4567234)\n",
    "intro(Lirstname = 'khalid' , Lastname = 'bin walid' , Number = 4567 , Email = 'random_mail@gmail.com' , Age = 43)"
   ]
  },
  {
   "cell_type": "markdown",
   "id": "d0271a6e-26c2-4e6a-88ac-092083f270ca",
   "metadata": {},
   "source": [
    "Ans_3."
   ]
  },
  {
   "cell_type": "markdown",
   "id": "5ed7f18e-16c1-4a8e-92c5-a619b13f703d",
   "metadata": {},
   "source": [
    "In general ,An iterator is an object that contains a countable no. of values.It helps us to iterate upon iterable object such as array,list ,dicts and other iterable containers.\n",
    "In pyhton, an iterator is an object ehich can be loop over or iterated over,It's an Object which implements the iterator protocol ,which consist of method __iter__() & __next__().\n",
    "\n",
    "__iter__() : the iter method is called for the initialization of an iterater ,this returns an iterater object.\n",
    "__next__(): the next method returns the next value for the iterable .raises StopIteration to singnal the end of iteration.\n",
    "\n",
    "for loop use both these methods internally.iter() method to get an iterator object and further uses the next() method."
   ]
  },
  {
   "cell_type": "code",
   "execution_count": 9,
   "id": "6f1f4415-acf7-4895-a347-daf31486cd5b",
   "metadata": {},
   "outputs": [
    {
     "name": "stdout",
     "output_type": "stream",
     "text": [
      "2\n",
      "4\n",
      "6\n",
      "8\n",
      "10\n"
     ]
    }
   ],
   "source": [
    "class test():\n",
    "    def __init__(self ,limit,index =0):\n",
    "        self.limit = limit\n",
    "        self.index = index\n",
    "        \n",
    "    def  __iter__(self ,iterable):    \n",
    "        self.iterable = iterable\n",
    "        return  self\n",
    "    \n",
    "    def __next__(self):\n",
    "         self.index += 1\n",
    "         if self.index > self.limit:\n",
    "             raise StopIteration\n",
    "         return self.iterable[self.index-1]\n",
    "\n",
    "    \n",
    "l = [2,4,6,8,10,12,14,16,18,10]\n",
    "iterobj = test(5).__iter__(l)               #or iter(test(5) , l ) \n",
    "\n",
    "while True : \n",
    "    try:\n",
    "      print(next(iterobj))\n",
    "    except StopIteration :\n",
    "        break"
   ]
  },
  {
   "cell_type": "code",
   "execution_count": 5,
   "id": "0a15f96a",
   "metadata": {},
   "outputs": [
    {
     "name": "stdout",
     "output_type": "stream",
     "text": [
      "2\n",
      "4\n",
      "6\n",
      "8\n",
      "10\n"
     ]
    }
   ],
   "source": [
    "iterobj = iter(l)       #list has its own iter implementation\n",
    "\n",
    "for i in range(5):      #for complete list range(len(l))\n",
    "    print(next(iterobj))"
   ]
  },
  {
   "cell_type": "markdown",
   "id": "bb64db56",
   "metadata": {},
   "source": [
    "Ans_4."
   ]
  },
  {
   "cell_type": "markdown",
   "id": "f0a460fa",
   "metadata": {},
   "source": [
    "In Pyhton,a generator is a function that returns an iterator object that produces a sequence of values when iterated over. generator are useful when we want to produce large sequence of values,but we don't want to store them at once,it returns an iterator object.In generators function, a yield keyword is used rather than a return statement.\n",
    "\n",
    "yield return a value and pauses the execution while maintaining the internal states , whreas return statment will return a value and terminates the execution of the function."
   ]
  },
  {
   "cell_type": "code",
   "execution_count": 22,
   "id": "3cc77425-b3ef-4791-be2b-bc07dca0afd6",
   "metadata": {},
   "outputs": [],
   "source": [
    "def get_sequence(x ,start = 0):      #generates no. from start to x-1  \n",
    "      \n",
    "      while start < x:                  #for i in range(x):\n",
    "          yield start                   #        yeild x\n",
    "          start += 1                    #raise StopIteration\n",
    "      else:\n",
    "            raise StopIteration\n",
    "          "
   ]
  },
  {
   "cell_type": "code",
   "execution_count": 23,
   "id": "8470308c-22d0-4ffb-b942-5204dc76992b",
   "metadata": {},
   "outputs": [
    {
     "name": "stdin",
     "output_type": "stream",
     "text": [
      "enter any pos int for sequence 4\n"
     ]
    },
    {
     "name": "stdout",
     "output_type": "stream",
     "text": [
      "0 1 2 3 "
     ]
    }
   ],
   "source": [
    "sq = int(input('enter any pos int for sequence'))\n",
    "obj = get_sequence(sq)\n",
    "while True : \n",
    "    try:\n",
    "      print(next(obj) , end = ' ')\n",
    "    except:\n",
    "        break"
   ]
  },
  {
   "cell_type": "code",
   "execution_count": 34,
   "id": "ee32947c-c8e1-412b-8266-d60faab4373c",
   "metadata": {},
   "outputs": [
    {
     "name": "stdin",
     "output_type": "stream",
     "text": [
      "enter any pos int for sequence 7\n"
     ]
    },
    {
     "name": "stdout",
     "output_type": "stream",
     "text": [
      "0 1 2 3 4 5 6 \n",
      " generator raised StopIteration\n"
     ]
    }
   ],
   "source": [
    "       \n",
    "try:\n",
    "   sq = int(input('enter any pos int for sequence'))\n",
    "\n",
    "   for i in get_sequence(sq):\n",
    "        print(i , end= ' ')\n",
    "except Exception as e:\n",
    "    print('\\n',e)"
   ]
  },
  {
   "cell_type": "markdown",
   "id": "0289dadd-e46d-490a-b095-1d80f06a0039",
   "metadata": {},
   "source": [
    "Ans_5.\n",
    "    "
   ]
  },
  {
   "cell_type": "code",
   "execution_count": 19,
   "id": "6364afec-9867-4b1c-8431-68242e5b0b8b",
   "metadata": {},
   "outputs": [],
   "source": [
    "def prime():\n",
    "    for i in range(2,1001):                    #checks int from 2 to 1000\n",
    "        for j in range(2,int(i/2)+1):              #checks its divisibility from 2 to i/2\n",
    "               if i % j == 0:                        #check if current int is non-prime or not\n",
    "                    break                              #if true then break\n",
    "        else:                                      #if the inner for loop was not broken it means the no is prime and yeilds the no. \n",
    "            yield i\n",
    "    else:                                      # when outer loop executes completely\n",
    "        raise StopIteration\n",
    "          "
   ]
  },
  {
   "cell_type": "code",
   "execution_count": 21,
   "id": "e25e7bb1-096e-4f56-bac4-b71d543ff1ba",
   "metadata": {},
   "outputs": [
    {
     "name": "stdout",
     "output_type": "stream",
     "text": [
      "2 3 5 7 11 13 17 19 23 29 31 37 41 43 47 53 59 61 67 71 "
     ]
    }
   ],
   "source": [
    "prime_obj = prime()\n",
    "for i in range(20):\n",
    "         print(next(prime_obj) , end= ' ')"
   ]
  },
  {
   "cell_type": "code",
   "execution_count": null,
   "id": "28b75f78-5a38-4d11-af6e-5bcf4e081521",
   "metadata": {},
   "outputs": [],
   "source": []
  },
  {
   "cell_type": "markdown",
   "id": "b7232d20-a207-4947-be06-cc71ec319692",
   "metadata": {},
   "source": [
    "Ans_6."
   ]
  },
  {
   "cell_type": "code",
   "execution_count": 44,
   "id": "09a20005-faea-4689-a88f-a103e6b1feb2",
   "metadata": {},
   "outputs": [],
   "source": [
    "def fibnaci_generator(ind):\n",
    "    a = 0\n",
    "    b = 1\n",
    "    yield a\n",
    "    yield b\n",
    "    i = 0\n",
    "    while i < ind-2:\n",
    "        temp = a\n",
    "        a = b\n",
    "        b = temp + a\n",
    "        i += 1\n",
    "        yield b        \n",
    "    else:                                      \n",
    "        raise StopIteration   "
   ]
  },
  {
   "cell_type": "code",
   "execution_count": 45,
   "id": "6efafe04-42b9-42fc-9224-78681b36ae0b",
   "metadata": {
    "collapsed": true,
    "jupyter": {
     "outputs_hidden": true
    },
    "tags": []
   },
   "outputs": [
    {
     "name": "stdout",
     "output_type": "stream",
     "text": [
      "0 1 1 2 3 5 8 13 21 34 "
     ]
    }
   ],
   "source": [
    "obj  = fibnaci_generator(10)\n",
    "while True : \n",
    "    try:\n",
    "      print(next(obj) , end = ' ')\n",
    "    except:\n",
    "        break"
   ]
  },
  {
   "cell_type": "code",
   "execution_count": null,
   "id": "06baf9e4-3c23-409a-af6f-e7e31e0acd97",
   "metadata": {},
   "outputs": [],
   "source": []
  },
  {
   "cell_type": "code",
   "execution_count": 57,
   "id": "48574380-c301-4d05-be86-c3d50dacb040",
   "metadata": {},
   "outputs": [
    {
     "name": "stdout",
     "output_type": "stream",
     "text": [
      "0 1 1 2 3 5 8 13 21 34 "
     ]
    },
    {
     "data": {
      "text/plain": [
       "[0, 1, 1, 2, 3, 5, 8, 13, 21, 34]"
      ]
     },
     "execution_count": 57,
     "metadata": {},
     "output_type": "execute_result"
    }
   ],
   "source": [
    "ls = [ 0 , 1]\n",
    "\n",
    "i = 2\n",
    "print(ls[i-2]  , ls[i-1]  ,end = ' ')\n",
    "while i < 10:\n",
    "     ls.append(ls[i-1] + ls[i-2])\n",
    "     print(ls[i] , end = ' ') \n",
    "     i += 1\n",
    " \n",
    "ls        "
   ]
  },
  {
   "cell_type": "markdown",
   "id": "043a41f1-46dc-4d71-b8c0-ff69d28014a0",
   "metadata": {},
   "source": [
    "Ans_7"
   ]
  },
  {
   "cell_type": "code",
   "execution_count": 1,
   "id": "8ac44464-8044-47aa-a211-b1d08f2fc985",
   "metadata": {},
   "outputs": [],
   "source": [
    "string = 'pwskills'\n",
    "l = [i for i in string]"
   ]
  },
  {
   "cell_type": "code",
   "execution_count": 2,
   "id": "a3859cfb-e26e-486c-a22d-f746a30bbd0d",
   "metadata": {},
   "outputs": [
    {
     "data": {
      "text/plain": [
       "['p', 'w', 's', 'k', 'i', 'l', 'l', 's']"
      ]
     },
     "execution_count": 2,
     "metadata": {},
     "output_type": "execute_result"
    }
   ],
   "source": [
    "l"
   ]
  },
  {
   "cell_type": "markdown",
   "id": "c07264e9-8277-4c2b-be2d-7e02b0aebc0c",
   "metadata": {},
   "source": [
    " By Generator"
   ]
  },
  {
   "cell_type": "code",
   "execution_count": 3,
   "id": "4cff044e-e859-4978-a9c2-d2496a30f20e",
   "metadata": {},
   "outputs": [],
   "source": [
    "def spliter(string):\n",
    "    i = 0\n",
    "    while i < len(string):\n",
    "        yield string[i]\n",
    "        i += 1\n",
    "    raise StopIteration    "
   ]
  },
  {
   "cell_type": "code",
   "execution_count": 14,
   "id": "4410cf23-bff0-4ccb-89cf-0fe3312e24b6",
   "metadata": {},
   "outputs": [],
   "source": [
    "itr_obj = spliter(string)\n",
    "lst = [next(itr_obj) for i in range(len(string))]"
   ]
  },
  {
   "cell_type": "code",
   "execution_count": 15,
   "id": "217d9f9a-5a55-4afc-9cad-494821b95951",
   "metadata": {},
   "outputs": [
    {
     "data": {
      "text/plain": [
       "['p', 'w', 's', 'k', 'i', 'l', 'l', 's']"
      ]
     },
     "execution_count": 15,
     "metadata": {},
     "output_type": "execute_result"
    }
   ],
   "source": [
    "lst"
   ]
  },
  {
   "cell_type": "markdown",
   "id": "2ed40e49-72bf-4e83-840c-afa63f3594a4",
   "metadata": {},
   "source": [
    "\n",
    "\n",
    "Ans_8."
   ]
  },
  {
   "cell_type": "code",
   "execution_count": 21,
   "id": "97bba133-0c25-4b76-94d9-6d82a238942c",
   "metadata": {},
   "outputs": [],
   "source": [
    "def check_palindrome(org):\n",
    "    temp = org\n",
    "    rev = 0\n",
    "    while temp > 0:\n",
    "        dig = temp % 10\n",
    "        rev = rev*10 + dig\n",
    "        temp = temp//10        \n",
    "    return org == rev     "
   ]
  },
  {
   "cell_type": "code",
   "execution_count": 22,
   "id": "c77d9ff0-1a3f-4c63-af8b-474cc0f0709c",
   "metadata": {},
   "outputs": [
    {
     "data": {
      "text/plain": [
       "True"
      ]
     },
     "execution_count": 22,
     "metadata": {},
     "output_type": "execute_result"
    }
   ],
   "source": [
    "check_palindrome(1234321)"
   ]
  },
  {
   "cell_type": "code",
   "execution_count": 25,
   "id": "783a5c56-660a-4797-ac4c-bee752c124e7",
   "metadata": {},
   "outputs": [
    {
     "name": "stdin",
     "output_type": "stream",
     "text": [
      "Enter the No. to check for palindromic : 32123\n"
     ]
    },
    {
     "name": "stdout",
     "output_type": "stream",
     "text": [
      "the entered No. 32123 is palindromic number\n"
     ]
    }
   ],
   "source": [
    "num = int(input('Enter the No. to check for palindromic :'))\n",
    "if check_palindrome(num):\n",
    "    print(f'the entered No. {num} is palindromic number')\n",
    "else:    \n",
    "    print(f'the entered No. {num} is not palindromic number')"
   ]
  },
  {
   "cell_type": "markdown",
   "id": "71aabf6b-0ca3-4671-a675-6f6cf87da4be",
   "metadata": {},
   "source": [
    "Ans_9."
   ]
  },
  {
   "cell_type": "code",
   "execution_count": 26,
   "id": "50611566-14aa-440d-bc25-5ac26d92efb4",
   "metadata": {},
   "outputs": [],
   "source": [
    "ls_100 = [ i for i in range(1 , 101)]"
   ]
  },
  {
   "cell_type": "code",
   "execution_count": 29,
   "id": "47e59eab-f88b-46f1-afd8-94251c6f7e1d",
   "metadata": {},
   "outputs": [],
   "source": [
    "ls_odd = [ i for i in ls_100 if i%2 != 0 ]"
   ]
  },
  {
   "cell_type": "code",
   "execution_count": 30,
   "id": "5f7419af-da37-4442-9fd1-d1b92e5170ba",
   "metadata": {},
   "outputs": [
    {
     "data": {
      "text/plain": [
       "[1,\n",
       " 3,\n",
       " 5,\n",
       " 7,\n",
       " 9,\n",
       " 11,\n",
       " 13,\n",
       " 15,\n",
       " 17,\n",
       " 19,\n",
       " 21,\n",
       " 23,\n",
       " 25,\n",
       " 27,\n",
       " 29,\n",
       " 31,\n",
       " 33,\n",
       " 35,\n",
       " 37,\n",
       " 39,\n",
       " 41,\n",
       " 43,\n",
       " 45,\n",
       " 47,\n",
       " 49,\n",
       " 51,\n",
       " 53,\n",
       " 55,\n",
       " 57,\n",
       " 59,\n",
       " 61,\n",
       " 63,\n",
       " 65,\n",
       " 67,\n",
       " 69,\n",
       " 71,\n",
       " 73,\n",
       " 75,\n",
       " 77,\n",
       " 79,\n",
       " 81,\n",
       " 83,\n",
       " 85,\n",
       " 87,\n",
       " 89,\n",
       " 91,\n",
       " 93,\n",
       " 95,\n",
       " 97,\n",
       " 99]"
      ]
     },
     "execution_count": 30,
     "metadata": {},
     "output_type": "execute_result"
    }
   ],
   "source": [
    "ls_odd"
   ]
  },
  {
   "cell_type": "code",
   "execution_count": null,
   "id": "1ad2f572-d0d4-4622-92c1-c56ff327240e",
   "metadata": {},
   "outputs": [],
   "source": []
  }
 ],
 "metadata": {
  "kernelspec": {
   "display_name": "Python 3 (ipykernel)",
   "language": "python",
   "name": "python3"
  },
  "language_info": {
   "codemirror_mode": {
    "name": "ipython",
    "version": 3
   },
   "file_extension": ".py",
   "mimetype": "text/x-python",
   "name": "python",
   "nbconvert_exporter": "python",
   "pygments_lexer": "ipython3",
   "version": "3.9.15"
  },
  "widgets": {
   "application/vnd.jupyter.widget-state+json": {
    "state": {},
    "version_major": 2,
    "version_minor": 0
   }
  }
 },
 "nbformat": 4,
 "nbformat_minor": 5
}
