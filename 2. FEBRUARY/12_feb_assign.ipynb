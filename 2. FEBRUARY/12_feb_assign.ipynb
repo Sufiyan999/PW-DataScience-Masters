{
 "cells": [
  {
   "cell_type": "markdown",
   "id": "9512dcd6-e4e0-4699-b596-58bb7e8a9bd8",
   "metadata": {},
   "source": [
    "Ans_1."
   ]
  },
  {
   "cell_type": "markdown",
   "id": "4ef79d3b-8594-4316-969e-c478660fb47d",
   "metadata": {},
   "source": [
    "Exception handling is a mechanism in python that allows you to gracefully handle errors and unexpected events that occurs,an exception is raised ,if the exception is not handled the program wiil terminate abruptly.\n",
    "\n",
    "Exception handling allows you to catch these exception and take appropriate action, such as displaying an error massage , logging the error , or handling it in a way that allows the progrmam to continue running.while syntax error , on the other hand error that occurs when the code is not written correctly and does not conform to rules of the python syntax . these errors occur at the time of compilation and prevent the code from running at all. exceptions are execution time errors while syntax error are design time error and easy to find and fix comparetively\n",
    " "
   ]
  },
  {
   "cell_type": "markdown",
   "id": "eea2d1bf-b254-4e00-bcd1-2e30be98af5f",
   "metadata": {},
   "source": [
    "Ans_2."
   ]
  },
  {
   "cell_type": "raw",
   "id": "d2d4cb32-3fa5-44df-91de-a8df54899566",
   "metadata": {},
   "source": [
    "When an exception is not handled in a program, the program will terminate abruptly, and an error message will be displayed to the user. The error message will provide information about the exception that occurred, such as the type of the exception and the location where it occurred in the code.\n",
    "If an exception is not handled, the program will stop executing at the point where the exception occurred, and any further code that was supposed to run after that point will not be executed. This can lead to unexpected behavior, such as data corruption or incomplete results.\n",
    "\n"
   ]
  },
  {
   "cell_type": "code",
   "execution_count": 1,
   "id": "d1d690c8-502f-48b1-926a-b98353183bc5",
   "metadata": {},
   "outputs": [
    {
     "ename": "ZeroDivisionError",
     "evalue": "division by zero",
     "output_type": "error",
     "traceback": [
      "\u001b[1;31m---------------------------------------------------------------------------\u001b[0m",
      "\u001b[1;31mZeroDivisionError\u001b[0m                         Traceback (most recent call last)",
      "\u001b[1;32m~\\AppData\\Local\\Temp\\ipykernel_12208\\2722993377.py\u001b[0m in \u001b[0;36m<module>\u001b[1;34m\u001b[0m\n\u001b[0;32m      5\u001b[0m \u001b[0mnum1\u001b[0m \u001b[1;33m=\u001b[0m \u001b[1;36m10\u001b[0m\u001b[1;33m\u001b[0m\u001b[1;33m\u001b[0m\u001b[0m\n\u001b[0;32m      6\u001b[0m \u001b[0mnum2\u001b[0m \u001b[1;33m=\u001b[0m \u001b[1;36m0\u001b[0m\u001b[1;33m\u001b[0m\u001b[1;33m\u001b[0m\u001b[0m\n\u001b[1;32m----> 7\u001b[1;33m \u001b[0mresult\u001b[0m \u001b[1;33m=\u001b[0m \u001b[0mdivide_numbers\u001b[0m\u001b[1;33m(\u001b[0m\u001b[0mnum1\u001b[0m\u001b[1;33m,\u001b[0m \u001b[0mnum2\u001b[0m\u001b[1;33m)\u001b[0m\u001b[1;33m\u001b[0m\u001b[1;33m\u001b[0m\u001b[0m\n\u001b[0m\u001b[0;32m      8\u001b[0m \u001b[0mprint\u001b[0m\u001b[1;33m(\u001b[0m\u001b[0mresult\u001b[0m\u001b[1;33m)\u001b[0m\u001b[1;33m\u001b[0m\u001b[1;33m\u001b[0m\u001b[0m\n",
      "\u001b[1;32m~\\AppData\\Local\\Temp\\ipykernel_12208\\2722993377.py\u001b[0m in \u001b[0;36mdivide_numbers\u001b[1;34m(a, b)\u001b[0m\n\u001b[0;32m      1\u001b[0m \u001b[1;32mdef\u001b[0m \u001b[0mdivide_numbers\u001b[0m\u001b[1;33m(\u001b[0m\u001b[0ma\u001b[0m\u001b[1;33m,\u001b[0m \u001b[0mb\u001b[0m\u001b[1;33m)\u001b[0m\u001b[1;33m:\u001b[0m\u001b[1;33m\u001b[0m\u001b[1;33m\u001b[0m\u001b[0m\n\u001b[1;32m----> 2\u001b[1;33m     \u001b[0mresult\u001b[0m \u001b[1;33m=\u001b[0m \u001b[0ma\u001b[0m \u001b[1;33m/\u001b[0m \u001b[0mb\u001b[0m\u001b[1;33m\u001b[0m\u001b[1;33m\u001b[0m\u001b[0m\n\u001b[0m\u001b[0;32m      3\u001b[0m     \u001b[1;32mreturn\u001b[0m \u001b[0mresult\u001b[0m\u001b[1;33m\u001b[0m\u001b[1;33m\u001b[0m\u001b[0m\n\u001b[0;32m      4\u001b[0m \u001b[1;33m\u001b[0m\u001b[0m\n\u001b[0;32m      5\u001b[0m \u001b[0mnum1\u001b[0m \u001b[1;33m=\u001b[0m \u001b[1;36m10\u001b[0m\u001b[1;33m\u001b[0m\u001b[1;33m\u001b[0m\u001b[0m\n",
      "\u001b[1;31mZeroDivisionError\u001b[0m: division by zero"
     ]
    }
   ],
   "source": [
    "def divide_numbers(a, b):\n",
    "    result = a / b\n",
    "    return result\n",
    "\n",
    "num1 = 10\n",
    "num2 = 0              # it will raise a ZeroDivisionError exception.\n",
    "result = divide_numbers(num1, num2)\n",
    "print(result)"
   ]
  },
  {
   "cell_type": "markdown",
   "id": "304cc671-6844-4ee7-a429-4a236b538c6d",
   "metadata": {},
   "source": [
    "In this example, the caller does not handle this exception, and the program will terminate with an error message:\n",
    "\n",
    "To handle the exception, we can use a try-except block to catch the exception and take appropriate action, such as logging the error or displaying an error message to the user. By handling the exception, we can prevent the program from terminating abruptly and ensure that the data is processed correctly.\n",
    "\n",
    "In general, it is always a good practice to handle exceptions in a program. By handling exceptions, we can ensure that our program runs smoothly, prevent data loss or corruption, and provide a better user experience."
   ]
  },
  {
   "cell_type": "code",
   "execution_count": 5,
   "id": "f4fa4505-f74e-4739-9f9f-8dfbe9d56c68",
   "metadata": {},
   "outputs": [
    {
     "name": "stdout",
     "output_type": "stream",
     "text": [
      "Error:  division by zero\n"
     ]
    }
   ],
   "source": [
    "def divide_numbers(a, b):\n",
    "    try:\n",
    "        result = a / b\n",
    "        return result\n",
    "    except ZeroDivisionError as e:\n",
    "        print(\"Error: \", e)\n",
    "        return None\n",
    "\n",
    "num1 = 10\n",
    "num2 = 0\n",
    "result = divide_numbers(num1, num2)\n",
    "if result is not None:\n",
    "    print(result)\n"
   ]
  },
  {
   "cell_type": "markdown",
   "id": "ad8b46d5-6d4c-4418-b305-9bd1f9271203",
   "metadata": {},
   "source": [
    "Ans_3."
   ]
  },
  {
   "cell_type": "markdown",
   "id": "1c9b5853-9453-4b01-9f34-789747fff91b",
   "metadata": {},
   "source": [
    "In Python, the try-except statement is used to catch and handle exceptions.\n",
    "\n",
    "The try block contains the code that may raise an exception, and the except block contains the code that will be executed if an exception occurs. The except block specifies the type of the exception to be caught, and it can also include additional code to handle the exception, such as logging the error or displaying an error message to the user"
   ]
  },
  {
   "cell_type": "code",
   "execution_count": 6,
   "id": "234aa504-71ca-43e5-a3dc-ac89571ab95b",
   "metadata": {},
   "outputs": [
    {
     "name": "stdout",
     "output_type": "stream",
     "text": [
      "Error: file nonexistent_file.txt not found\n"
     ]
    }
   ],
   "source": [
    "try:\n",
    "        file_path = 'nonexistent_file.txt'\n",
    "        with open( file_path, 'r') as f:\n",
    "            content = f.read()\n",
    "            print(content)\n",
    "except FileNotFoundError:\n",
    "        print(f\"Error: file {file_path} not found\")"
   ]
  },
  {
   "cell_type": "markdown",
   "id": "97e91def-6bbd-4431-92ce-a61107e9bbe8",
   "metadata": {},
   "source": [
    "Ans_4\n",
    "\n",
    "\n",
    "a."
   ]
  },
  {
   "cell_type": "markdown",
   "id": "b75d7e63-15eb-47b8-b97a-af93c4ce3ddc",
   "metadata": {},
   "source": [
    "n Python, the try-except-else statement is used to catch and handle exceptions, but also to execute some code when no exceptions occur in the try block.\n",
    "\n",
    "The try block contains the code that may raise an exception, and the except block contains the code that will be executed if an exception occurs. The else block contains the code that will be executed if no exceptions occur in the try block."
   ]
  },
  {
   "cell_type": "code",
   "execution_count": 14,
   "id": "354f8b0b-2917-4ba1-b7ff-31f6fa77ecfd",
   "metadata": {},
   "outputs": [
    {
     "name": "stdout",
     "output_type": "stream",
     "text": [
      "The average is 6.0\n"
     ]
    }
   ],
   "source": [
    "try:\n",
    "        nums =  [3, 6, 9]\n",
    "        average = sum(nums) / len(nums)\n",
    "        \n",
    "except ZeroDivisionError:\n",
    "        print(\"Error: the list is empty.\")\n",
    "else:\n",
    "        print(f\"The average is {average}\")"
   ]
  },
  {
   "cell_type": "markdown",
   "id": "a77f917e-6d2c-482f-8957-21f5d3c47abf",
   "metadata": {},
   "source": [
    "b."
   ]
  },
  {
   "cell_type": "markdown",
   "id": "15a613d6-bf01-4442-8afe-c895bcaf7d50",
   "metadata": {},
   "source": [
    "In Python, the try-except-finally statement is used to catch and handle exceptions, but also to execute some code regardless of whether an exception occurs or not.\n",
    "\n",
    "The try block contains the code that may raise an exception, and the except block contains the code that will be executed if an exception occurs. The finally block contains the code that will be executed regardless of whether an exception occurs in the try block or not."
   ]
  },
  {
   "cell_type": "code",
   "execution_count": 2,
   "id": "be7f7bc6-d9fd-4b95-a4ba-7f3e48b1fdbc",
   "metadata": {},
   "outputs": [],
   "source": [
    "def get_value_at_index(my_list, index):\n",
    "    try:\n",
    "        value = my_list[index]\n",
    "    except IndexError:\n",
    "        print(f\"Error: Index {index} is out of range.\")\n",
    "        return None\n",
    "    finally:\n",
    "        print(\"Finished looking up value.\")\n",
    "    return value"
   ]
  },
  {
   "cell_type": "code",
   "execution_count": 3,
   "id": "a8b50602-7182-468b-bc4f-9278f4b31972",
   "metadata": {},
   "outputs": [
    {
     "name": "stdin",
     "output_type": "stream",
     "text": [
      "enter an index to lookup the value 7\n"
     ]
    },
    {
     "name": "stdout",
     "output_type": "stream",
     "text": [
      "Error: Index 7 is out of range.\n",
      "Finished looking up value.\n"
     ]
    }
   ],
   "source": [
    "my_list = [1, 2, 3, 4, 5]\n",
    "index = int(input('enter an index to lookup the value'))\n",
    "value = get_value_at_index(my_list, index)\n",
    "if value is not None:\n",
    "    print(f\"Value at index {inde} is {value}.\")"
   ]
  },
  {
   "cell_type": "markdown",
   "id": "2bb42ae1-cc5a-4af9-bcb5-526244164c7f",
   "metadata": {},
   "source": [
    "c."
   ]
  },
  {
   "cell_type": "markdown",
   "id": "2d3c86ed-f91c-49b6-b7fe-4535274581f7",
   "metadata": {},
   "source": [
    "In Python, the raise keyword is used to raise an exception manually. This can be useful if you want to create your own custom exceptions or if you want to raise a specific exception under certain conditions."
   ]
  },
  {
   "cell_type": "code",
   "execution_count": 2,
   "id": "d5060ff9-494f-44ab-9619-6313205e6209",
   "metadata": {},
   "outputs": [
    {
     "name": "stdout",
     "output_type": "stream",
     "text": [
      "Oops! There was an error: Arguments must be numbers.\n"
     ]
    }
   ],
   "source": [
    "def calculate_sum(a, b):\n",
    "    if not isinstance(a, (int, float)) or not isinstance(b, (int, float)):\n",
    "        raise TypeError(\"Arguments must be numbers.\")\n",
    "    return a + b\n",
    "\n",
    "try:\n",
    "    result = calculate_sum(\"hello\", 5)\n",
    "except TypeError as e:\n",
    "    print(\"Oops! There was an error:\", e)"
   ]
  },
  {
   "cell_type": "markdown",
   "id": "8c214c5f-11ab-41d9-a775-48b95af48fa4",
   "metadata": {},
   "source": [
    "Ans_5."
   ]
  },
  {
   "cell_type": "markdown",
   "id": "3c678ce2-1109-4b9e-84ec-aefdc65e8224",
   "metadata": {},
   "source": [
    "Custom exceptions in Python are user-defined exceptions that can be raised in a program just like the built-in exceptions. They are useful when you want to create an exception that is specific to your program or application. You can define custom exception classes by subclassing the Exception class or one of its subclasses.\n",
    "\n",
    "We need custom exceptions in Python to provide more meaningful and informative error messages to users. When a user encounters an exception in your program, a well-defined and descriptive error message can help them understand what went wrong and how to fix it. Custom exceptions can also make your code more organized and maintainable by encapsulating specific errors and handling them consistently across the program."
   ]
  },
  {
   "cell_type": "code",
   "execution_count": 4,
   "id": "9e58d076-1ec1-4cd5-b09b-984551016873",
   "metadata": {},
   "outputs": [
    {
     "name": "stdout",
     "output_type": "stream",
     "text": [
      "Oops! There was an error: Cannot calculate square root of negative number.\n"
     ]
    }
   ],
   "source": [
    "class NegativeNumberError(Exception):\n",
    "    \"\"\"Raised when a negative number is encountered.\"\"\"\n",
    "    pass\n",
    "\n",
    "def calculate_square_root(n):\n",
    "    if n < 0:\n",
    "        raise NegativeNumberError(\"Cannot calculate square root of negative number.\")\n",
    "    return n ** 0.5\n",
    "\n",
    "try:\n",
    "    num = int(input(\"Enter any no. to calculate it's root\"))\n",
    "    result = calculate_square_root(-5)\n",
    "except NegativeNumberError as e:\n",
    "    print(\"Oops! There was an error:\", e)"
   ]
  },
  {
   "cell_type": "markdown",
   "id": "f60cd20f-9448-4a4a-bced-8d44354e60f3",
   "metadata": {},
   "source": [
    "Ans_6."
   ]
  },
  {
   "cell_type": "code",
   "execution_count": 5,
   "id": "5f19f8d8-e5c4-44bd-8831-11ad39634f7c",
   "metadata": {},
   "outputs": [
    {
     "name": "stdout",
     "output_type": "stream",
     "text": [
      "Error: [Error 1001]: Insufficient balance\n"
     ]
    }
   ],
   "source": [
    "class CustomException(Exception):\n",
    "    def __init__(self, message, code):\n",
    "        self.message = message\n",
    "        self.code = code\n",
    "\n",
    "    def __str__(self):\n",
    "        return f\"[Error {self.code}]: {self.message}\"\n",
    "\n",
    "class BankingSystem:\n",
    "    def __init__(self, balance):\n",
    "        self.balance = balance\n",
    "\n",
    "    def withdraw(self, amount):\n",
    "        if amount > self.balance:\n",
    "            raise CustomException(\"Insufficient balance\", 1001)\n",
    "        self.balance -= amount\n",
    "        return self.balance\n",
    "\n",
    "bank = BankingSystem(1000)\n",
    "\n",
    "try:\n",
    "    balance = bank.withdraw(2000)\n",
    "except CustomException as e:\n",
    "    print(\"Error:\", e)"
   ]
  },
  {
   "cell_type": "code",
   "execution_count": null,
   "id": "d5f6ac4d-c5c6-4ba4-8b32-78f6cd8590f1",
   "metadata": {},
   "outputs": [],
   "source": []
  }
 ],
 "metadata": {
  "kernelspec": {
   "display_name": "Python 3 (ipykernel)",
   "language": "python",
   "name": "python3"
  },
  "language_info": {
   "codemirror_mode": {
    "name": "ipython",
    "version": 3
   },
   "file_extension": ".py",
   "mimetype": "text/x-python",
   "name": "python",
   "nbconvert_exporter": "python",
   "pygments_lexer": "ipython3",
   "version": "3.9.15"
  },
  "widgets": {
   "application/vnd.jupyter.widget-state+json": {
    "state": {},
    "version_major": 2,
    "version_minor": 0
   }
  }
 },
 "nbformat": 4,
 "nbformat_minor": 5
}
