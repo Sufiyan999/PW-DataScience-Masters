{
 "cells": [
  {
   "cell_type": "code",
   "execution_count": null,
   "id": "0a25a6b8-ae45-4df9-8f4b-3c4cbcad4082",
   "metadata": {},
   "outputs": [],
   "source": []
  },
  {
   "cell_type": "code",
   "execution_count": null,
   "id": "71928409-4335-4795-a5e4-976128939e23",
   "metadata": {},
   "outputs": [
    {
     "name": "stdout",
     "output_type": "stream",
     "text": [
      " * Serving Flask app '__main__'\n",
      " * Debug mode: off\n"
     ]
    },
    {
     "name": "stderr",
     "output_type": "stream",
     "text": [
      "D:\\Softwares\\ana\\lib\\site-packages\\sklearn\\base.py:318: UserWarning: Trying to unpickle estimator Ridge from version 1.2.0 when using version 1.2.2. This might lead to breaking code or invalid results. Use at your own risk. For more info please refer to:\n",
      "https://scikit-learn.org/stable/model_persistence.html#security-maintainability-limitations\n",
      "  warnings.warn(\n",
      "D:\\Softwares\\ana\\lib\\site-packages\\sklearn\\base.py:318: UserWarning: Trying to unpickle estimator StandardScaler from version 1.2.0 when using version 1.2.2. This might lead to breaking code or invalid results. Use at your own risk. For more info please refer to:\n",
      "https://scikit-learn.org/stable/model_persistence.html#security-maintainability-limitations\n",
      "  warnings.warn(\n",
      "WARNING: This is a development server. Do not use it in a production deployment. Use a production WSGI server instead.\n",
      " * Running on all addresses (0.0.0.0)\n",
      " * Running on http://127.0.0.1:5000\n",
      " * Running on http://192.168.211.9:5000\n",
      "Press CTRL+C to quit\n",
      "192.168.211.9 - - [19/Jul/2023 00:26:15] \"GET / HTTP/1.1\" 200 -\n",
      "192.168.211.9 - - [19/Jul/2023 00:26:15] \"GET /predictdata HTTP/1.1\" 200 -\n",
      "127.0.0.1 - - [19/Jul/2023 00:26:19] \"GET / HTTP/1.1\" 200 -\n",
      "127.0.0.1 - - [19/Jul/2023 00:26:20] \"GET /predictdata HTTP/1.1\" 200 -\n"
     ]
    }
   ],
   "source": [
    "import pickle\n",
    "from flask import Flask,request,jsonify,render_template\n",
    "import numpy as np\n",
    "import pandas as pd\n",
    "from sklearn.preprocessing import StandardScaler\n",
    "\n",
    "application = Flask(__name__)\n",
    "app=application\n",
    "\n",
    "## import ridge regresor model and standard scaler pickle\n",
    "ridge_model=pickle.load(open('models/ridge.pkl','rb'))\n",
    "standard_scaler=pickle.load(open('models/scaler.pkl','rb'))\n",
    "\n",
    "## Route for home page\n",
    "@app.route('/')\n",
    "def index():\n",
    "    return render_template('index.html')\n",
    "\n",
    "@app.route('/predictdata',methods=['GET','POST'])\n",
    "def predict_datapoint():\n",
    "    if request.method=='POST':\n",
    "        Temperature=float(request.form.get('Temperature'))\n",
    "        RH = float(request.form.get('RH'))\n",
    "        Ws = float(request.form.get('Ws'))\n",
    "        Rain = float(request.form.get('Rain'))\n",
    "        FFMC = float(request.form.get('FFMC'))\n",
    "        DMC = float(request.form.get('DMC'))\n",
    "        ISI = float(request.form.get('ISI'))\n",
    "        Classes = float(request.form.get('Classes'))\n",
    "        Region = float(request.form.get('Region'))\n",
    "\n",
    "        new_data_scaled=standard_scaler.transform([[Temperature,RH,Ws,Rain,FFMC,DMC,ISI,Classes,Region]])\n",
    "        result=ridge_model.predict(new_data_scaled)\n",
    "\n",
    "        return render_template('home.html',result=result[0])\n",
    "\n",
    "    else:\n",
    "        return render_template('home.html')\n",
    "\n",
    "\n",
    "if __name__==\"__main__\":\n",
    "    app.run(host=\"0.0.0.0\")\n"
   ]
  },
  {
   "cell_type": "code",
   "execution_count": null,
   "id": "aee1c164-6685-481e-bd79-d711b0303cc8",
   "metadata": {},
   "outputs": [],
   "source": []
  }
 ],
 "metadata": {
  "kernelspec": {
   "display_name": "Python 3 (ipykernel)",
   "language": "python",
   "name": "python3"
  },
  "language_info": {
   "codemirror_mode": {
    "name": "ipython",
    "version": 3
   },
   "file_extension": ".py",
   "mimetype": "text/x-python",
   "name": "python",
   "nbconvert_exporter": "python",
   "pygments_lexer": "ipython3",
   "version": "3.10.11"
  }
 },
 "nbformat": 4,
 "nbformat_minor": 5
}
