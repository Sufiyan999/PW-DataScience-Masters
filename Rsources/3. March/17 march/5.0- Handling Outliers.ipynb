{
 "cells": [
  {
   "cell_type": "markdown",
   "id": "b3395a6e-bfa4-4cca-883d-eddd8e73bca9",
   "metadata": {},
   "source": [
    "## Handling Outliers"
   ]
  },
  {
   "cell_type": "markdown",
   "id": "98825ec9-432a-4dec-b648-abfeac99090b",
   "metadata": {},
   "source": [
    "## 5 number Summary\n",
    "1. Minimum Value\n",
    "2. Q1- 25 percentile\n",
    "3. Median\n",
    "4. Q3- 75 percentile\n",
    "5. MAximum"
   ]
  },
  {
   "cell_type": "code",
   "execution_count": 2,
   "id": "67130e74-6578-44a0-b21f-e8e03029a6eb",
   "metadata": {},
   "outputs": [],
   "source": [
    "import numpy as np\n",
    "lst_marks=[45,32,56,75,89,54,32,89,90,87,67,54,45,98,99,67,74,1000,1100]"
   ]
  },
  {
   "cell_type": "code",
   "execution_count": 8,
   "id": "77a5a575-b6b9-4b8b-8ffd-bdfb8b51c2fd",
   "metadata": {},
   "outputs": [
    {
     "name": "stdout",
     "output_type": "stream",
     "text": [
      "[54.]\n"
     ]
    }
   ],
   "source": [
    "## [Lower Fence<---> Higher Fence]\n",
    "Q1=np.percentile(lst_marks,[25])\n",
    "print(Q1)"
   ]
  },
  {
   "cell_type": "code",
   "execution_count": 9,
   "id": "73d18598-bea3-43ae-8638-c05794a73dea",
   "metadata": {},
   "outputs": [],
   "source": [
    "minimum,Q1,Q2,Q3,maximum=np.quantile(lst_marks,[0,0.25,0.50,0.75,1.0])"
   ]
  },
  {
   "cell_type": "code",
   "execution_count": 10,
   "id": "0e8f18c5-d9d6-4e12-9c24-bab1c3c2a41d",
   "metadata": {},
   "outputs": [
    {
     "data": {
      "text/plain": [
       "1100.0"
      ]
     },
     "execution_count": 10,
     "metadata": {},
     "output_type": "execute_result"
    }
   ],
   "source": [
    "maximum"
   ]
  },
  {
   "cell_type": "code",
   "execution_count": 11,
   "id": "0fcdaf58-0e44-4eae-899a-00ce0c52a7fd",
   "metadata": {},
   "outputs": [
    {
     "name": "stdout",
     "output_type": "stream",
     "text": [
      "35.5\n"
     ]
    }
   ],
   "source": [
    "IQR=Q3-Q1\n",
    "print(IQR)"
   ]
  },
  {
   "cell_type": "code",
   "execution_count": 13,
   "id": "40760c20-d8d2-4da1-b511-06f785cfaf53",
   "metadata": {},
   "outputs": [],
   "source": [
    "lower_fence=Q1-1.5*(IQR)\n",
    "higher_fence=Q3+1.5*(IQR)"
   ]
  },
  {
   "cell_type": "code",
   "execution_count": 14,
   "id": "3adf9056-c4cc-4bd8-b5f7-1aaa4a58c216",
   "metadata": {},
   "outputs": [
    {
     "data": {
      "text/plain": [
       "(0.75, 142.75)"
      ]
     },
     "execution_count": 14,
     "metadata": {},
     "output_type": "execute_result"
    }
   ],
   "source": [
    "lower_fence,higher_fence"
   ]
  },
  {
   "cell_type": "code",
   "execution_count": 16,
   "id": "114aca2f-5bac-4883-9364-f81c3d0bdf6c",
   "metadata": {},
   "outputs": [
    {
     "name": "stdout",
     "output_type": "stream",
     "text": [
      "This element is not an outlier\n",
      "This element is not an outlier\n",
      "This element is not an outlier\n",
      "This element is not an outlier\n",
      "This element is not an outlier\n",
      "This element is not an outlier\n",
      "This element is not an outlier\n",
      "This element is not an outlier\n",
      "This element is not an outlier\n",
      "This element is not an outlier\n",
      "This element is not an outlier\n",
      "This element is not an outlier\n",
      "This element is not an outlier\n",
      "This element is not an outlier\n",
      "This element is not an outlier\n",
      "This element is not an outlier\n",
      "This element is not an outlier\n"
     ]
    }
   ],
   "source": [
    "outliers=[]\n",
    "for i in lst_marks:\n",
    "    if i>=0.75 and i<=142.75:\n",
    "        print(\"This element is not an outlier\")\n",
    "    else:\n",
    "        outliers.append(i)"
   ]
  },
  {
   "cell_type": "code",
   "execution_count": 17,
   "id": "6c9bc8c8-fbde-4195-8643-9e8291cb6205",
   "metadata": {},
   "outputs": [
    {
     "data": {
      "text/plain": [
       "[1000, 1100]"
      ]
     },
     "execution_count": 17,
     "metadata": {},
     "output_type": "execute_result"
    }
   ],
   "source": [
    "outliers"
   ]
  },
  {
   "cell_type": "code",
   "execution_count": 18,
   "id": "d91ce949-e411-4d45-85fd-7d7a174fbd5c",
   "metadata": {},
   "outputs": [],
   "source": [
    "import seaborn as sns"
   ]
  },
  {
   "cell_type": "code",
   "execution_count": 19,
   "id": "da4c90a6-b544-439c-a576-5b48ce1b11b6",
   "metadata": {},
   "outputs": [
    {
     "data": {
      "text/plain": [
       "<AxesSubplot: >"
      ]
     },
     "execution_count": 19,
     "metadata": {},
     "output_type": "execute_result"
    },
    {
     "data": {
      "image/png": "[encoded data removed]",
      "text/plain": [
       "<Figure size 640x480 with 1 Axes>"
      ]
     },
     "metadata": {},
     "output_type": "display_data"
    }
   ],
   "source": [
    "sns.boxplot(lst_marks)"
   ]
  },
  {
   "cell_type": "code",
   "execution_count": 20,
   "id": "74d4f7e0-cd63-4eba-b00d-2c56889bffe0",
   "metadata": {},
   "outputs": [],
   "source": [
    "lst_marks=[45,32,56,75,89,54,32,89,90,87,67,54,45,98,99,67,74]"
   ]
  },
  {
   "cell_type": "code",
   "execution_count": 21,
   "id": "aa6b3623-2422-4e8b-9dd1-991f50047172",
   "metadata": {},
   "outputs": [
    {
     "data": {
      "text/plain": [
       "<AxesSubplot: >"
      ]
     },
     "execution_count": 21,
     "metadata": {},
     "output_type": "execute_result"
    },
    {
     "data": {
      "image/png": "[encoded data removed]",
      "text/plain": [
       "<Figure size 640x480 with 1 Axes>"
      ]
     },
     "metadata": {},
     "output_type": "display_data"
    }
   ],
   "source": [
    "sns.boxplot(lst_marks)"
   ]
  },
  {
   "cell_type": "code",
   "execution_count": null,
   "id": "cad3e404-adb7-4b4d-88e2-c94ac18a9939",
   "metadata": {},
   "outputs": [],
   "source": []
  }
 ],
 "metadata": {
  "kernelspec": {
   "display_name": "Python 3 (ipykernel)",
   "language": "python",
   "name": "python3"
  },
  "language_info": {
   "codemirror_mode": {
    "name": "ipython",
    "version": 3
   },
   "file_extension": ".py",
   "mimetype": "text/x-python",
   "name": "python",
   "nbconvert_exporter": "python",
   "pygments_lexer": "ipython3",
   "version": "3.10.8"
  }
 },
 "nbformat": 4,
 "nbformat_minor": 5
}
